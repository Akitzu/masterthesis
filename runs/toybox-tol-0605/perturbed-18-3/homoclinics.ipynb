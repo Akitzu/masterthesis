{
 "cells": [
  {
   "cell_type": "code",
   "execution_count": 1,
   "metadata": {},
   "outputs": [],
   "source": [
    "from pyoculus.problems import AnalyticCylindricalBfield\n",
    "from pyoculus.solvers import PoincarePlot, FixedPoint, Manifold\n",
    "import matplotlib.pyplot as plt\n",
    "import numpy as np\n",
    "import pickle"
   ]
  },
  {
   "cell_type": "code",
   "execution_count": 2,
   "metadata": {},
   "outputs": [
    {
     "name": "stdout",
     "output_type": "stream",
     "text": [
      "0 - dr : 0.010422282084043258\n",
      "1 - RZ : [ 6.41409394 -0.69368043]\n",
      "1 - dr : 6.293042617255254e-06\n",
      "2 - RZ : [ 6.41409781 -0.69367863]\n",
      "2 - dr : 9.776471937205409e-12\n",
      "0 - dr : 9.776471937205409e-12\n",
      "\n",
      "Finding the X-point\n",
      "\n",
      "Initial guess: [6.21560891, -4.46981856]\n",
      "0 - [DeltaR, DeltaZ] : [0.36802375 0.29365015] - dtheta : 0.10115931465688033\n",
      "0 - [StepR, StepZ]: [-0.02359085 -0.02028676]\n",
      "1 - RZ : [ 6.19201806 -4.49010532] - rhotheta : [ 3.80291665 -1.62922679]\n",
      "1 - [DeltaR, DeltaZ] : [-0.1610547  -0.17320114] - dtheta : 0.037787972266624115\n",
      "1 - [StepR, StepZ]: [0.00558637 0.00257023]\n",
      "2 - RZ : [ 6.19760443 -4.48753509] - rhotheta : [ 3.80002846 -1.62779871]\n",
      "2 - [DeltaR, DeltaZ] : [-0.01703985 -0.02899794] - dtheta : 0.004010505876924864\n",
      "2 - [StepR, StepZ]: [ 0.00597171 -0.0082389 ]\n",
      "3 - RZ : [ 6.20357614 -4.49577399] - rhotheta : [ 3.80791918 -1.62610976]\n",
      "3 - [DeltaR, DeltaZ] : [0.0003958  0.00018181] - dtheta : 0.00010114859451793023\n",
      "3 - [StepR, StepZ]: [ 5.73037418e-05 -1.31785770e-04]\n",
      "4 - RZ : [ 6.20363344 -4.49590578] - rhotheta : [ 3.8080476  -1.62609282]\n",
      "4 - [DeltaR, DeltaZ] : [-7.54203286e-08 -9.72024781e-08] - dtheta : 1.8366342002806846e-08\n",
      "4 - [StepR, StepZ]: [ 1.43470942e-08 -1.67695475e-08]\n",
      "5 - RZ : [ 6.20363345 -4.49590579] - rhotheta : [ 3.80804762 -1.62609281]\n",
      "5 - [DeltaR, DeltaZ] : [ 2.66453526e-15 -2.66453526e-15] - dtheta : 1.856736986383112e-12\n"
     ]
    }
   ],
   "source": [
    "separatrix = {\"type\": \"circular-current-loop\", \"amplitude\": -10, \"R\": 6, \"Z\": -5.5}\n",
    "maxwellboltzmann = {\"m\": 18, \"n\": -3, \"d\": np.sqrt(2), \"type\": \"maxwell-boltzmann\", \"amplitude\": 1e-2}\n",
    "\n",
    "# Creating the pyoculus problem object, adding the perturbation here use the R, Z provided as center point\n",
    "pyoproblem = AnalyticCylindricalBfield.without_axis(\n",
    "    6,\n",
    "    0,\n",
    "    0.91,\n",
    "    0.6,\n",
    "    perturbations_args=[separatrix],\n",
    "    Rbegin=1,\n",
    "    Rend=8,\n",
    "    niter=800,\n",
    "    guess=[6.41, -0.7],\n",
    "    tol=1e-9,\n",
    ")\n",
    "\n",
    "# # Adding perturbation after the object is created uses the found axis as center point\n",
    "pyoproblem.add_perturbation(maxwellboltzmann)\n",
    "\n",
    "### Finding the X-point\n",
    "print(\"\\nFinding the X-point\\n\")\n",
    "\n",
    "# set up the integrator for the FixedPoint\n",
    "iparams = dict()\n",
    "iparams[\"rtol\"] = 1e-13\n",
    "\n",
    "pparams = dict()\n",
    "pparams[\"nrestart\"] = 0\n",
    "pparams[\"niter\"] = 300\n",
    "\n",
    "# set up the FixedPoint object\n",
    "fixedpoint = FixedPoint(pyoproblem, pparams, integrator_params=iparams)\n",
    "\n",
    "# find the X-point\n",
    "guess = [6.21560891, -4.46981856]\n",
    "print(f\"Initial guess: {guess}\")\n",
    "\n",
    "fixedpoint.compute(guess=guess, pp=0, qq=1, sbegin=4, send=9, tol=1e-10)\n",
    "\n",
    "if fixedpoint.successful:\n",
    "    results = [list(p) for p in zip(fixedpoint.x, fixedpoint.y, fixedpoint.z)]\n",
    "else:\n",
    "    raise ValueError(\"X-point not found\")\n",
    "\n",
    "# Set up the manifold\n",
    "iparams = dict()\n",
    "iparams[\"rtol\"] = 1e-13\n",
    "manifold = Manifold(fixedpoint, pyoproblem, integrator_params=iparams)\n",
    "\n",
    "# Choose the tangles to work with\n",
    "manifold.choose(0, 0)"
   ]
  },
  {
   "cell_type": "code",
   "execution_count": null,
   "metadata": {},
   "outputs": [],
   "source": [
    "fig = pickle.load(open(\"manifold_05070828.pkl\", \"rb\"))\n",
    "ax = fig.gca()"
   ]
  },
  {
   "cell_type": "code",
   "execution_count": null,
   "metadata": {},
   "outputs": [],
   "source": [
    "eps_s_1, eps_u_1 = manifold.find_homoclinic(5.894806378673835e-07, 1.6269136139414627e-06)\n",
    "bounds_1 = manifold.find_bounds(eps_s_1, eps_u_1)"
   ]
  },
  {
   "cell_type": "code",
   "execution_count": null,
   "metadata": {},
   "outputs": [],
   "source": [
    "manifold.clinics"
   ]
  },
  {
   "cell_type": "code",
   "execution_count": null,
   "metadata": {},
   "outputs": [],
   "source": [
    "bounds_i = np.array(bounds_1)\n",
    "bounds_i[0][0] = manifold.clinics[-1][1]\n",
    "bounds_i[1][1] = manifold.clinics[-1][2]\n",
    "bounds_i = (tuple(bounds_i[0]), tuple(bounds_i[1]))"
   ]
  },
  {
   "cell_type": "code",
   "execution_count": null,
   "metadata": {},
   "outputs": [],
   "source": [
    "bounds_1"
   ]
  },
  {
   "cell_type": "code",
   "execution_count": null,
   "metadata": {},
   "outputs": [],
   "source": [
    "bounds_i"
   ]
  },
  {
   "cell_type": "code",
   "execution_count": null,
   "metadata": {},
   "outputs": [],
   "source": [
    "# i = 1\n",
    "fund = manifold.fundamental_segment\n",
    "# guess_i = [bounds_1[0][1]*np.power(manifold.lambda_s, 5/6), bounds_1[1][0]*np.power(manifold.lambda_u, 5/6)]\n",
    "guess_i = [bounds_1[0][1]*np.power(manifold.lambda_s, 5/6), bounds_1[1][0]*np.power(manifold.lambda_u, 5/6)]\n",
    "print(f\"initial guess: {guess_i}\")"
   ]
  },
  {
   "cell_type": "code",
   "execution_count": null,
   "metadata": {},
   "outputs": [],
   "source": [
    "manifold.find_homoclinic(5.894806378673835e-07, 1.6269136139414627e-06, n_s=7, n_u=6)\n",
    "manifold.find_homoclinic(9.537056471124823e-06, 2.7840434321883966e-06, n_s=7, n_u=5)\n",
    "manifold.find_homoclinic(5.512302400879586e-06, 4.975036258371061e-06, n_s=7, n_u=5)\n",
    "manifold.find_homoclinic(3.1187737295664092e-06, 8.513476637442009e-06, n_s=7, n_u=5)\n",
    "manifold.find_homoclinic(1.8025954174027533e-06, 1.5213519614175902e-05, n_s=7, n_u=5)\n",
    "manifold.find_homoclinic(1.0198530741559527e-06, 2.603439823207209e-05, n_s=7, n_u=5)\n",
    "manifold.order()"
   ]
  },
  {
   "cell_type": "code",
   "execution_count": 3,
   "metadata": {},
   "outputs": [
    {
     "name": "stdout",
     "output_type": "stream",
     "text": [
      "2024-05-22 13:28:02 [info     ] Search for minimum of the linear error succeeded, epsilon = 2.05960e-07\n",
      "2024-05-22 13:28:02 [info     ] Search for minimum of the linear error succeeded, epsilon = 3.03587e-07\n",
      "2024-05-22 13:28:02 [debug    ] Guess - 2.8417669398141114e-06, 4.188790607008011e-06\n",
      "2024-05-22 13:28:02 [debug    ] Bounds - ((2.0595967129152613e-07, 5.889493550919749e-06), (3.03586922011375e-07, 8.681168136027398e-06))\n",
      "2024-05-22 13:28:02 [debug    ] n_s, n_u - 7, 6\n",
      "2024-05-22 13:28:02 [debug    ] Inside : (2.8417669398141114e-06, 4.188790607008009e-06)\n",
      "2024-05-22 13:28:03 [debug    ] Returns - (array([8.49316493, 0.76715983]), array([5.35459693, 1.96370928]), array([ 3.138568  , -1.19654945]))\n",
      "2024-05-22 13:28:03 [debug    ] Inside : (2.8417669398141114e-06, 4.188790607008009e-06)\n",
      "2024-05-22 13:28:03 [debug    ] Returns - (array([8.49316493, 0.76715983]), array([5.35459693, 1.96370928]), array([ 3.138568  , -1.19654945]))\n",
      "2024-05-22 13:28:03 [debug    ] Inside : (2.8417669398141114e-06, 4.188790607008009e-06)\n",
      "2024-05-22 13:28:03 [debug    ] Returns - (array([8.49316493, 0.76715983]), array([5.35459693, 1.96370928]), array([ 3.138568  , -1.19654945]))\n",
      "2024-05-22 13:28:03 [debug    ] Inside : (2.8417674806137485e-06, 4.188790607008009e-06)\n",
      "2024-05-22 13:28:03 [debug    ] Returns - (array([8.49316507, 0.76715958]), array([5.35459693, 1.96370928]), array([ 3.13856814, -1.1965497 ]))\n",
      "2024-05-22 13:28:03 [debug    ] Inside : (2.8417669398141114e-06, 4.18879137993439e-06)\n",
      "2024-05-22 13:28:03 [debug    ] Returns - (array([8.49316493, 0.76715983]), array([5.35459672, 1.96370919]), array([ 3.13856821, -1.19654936]))\n",
      "2024-05-22 13:28:03 [debug    ] Inside : (5.836580334773969e-07, 7.119300220865971e-07)\n",
      "2024-05-22 13:28:04 [debug    ] Returns - (array([6.56953215, 2.13453285]), array([7.70124783, 1.68242853]), array([-1.13171569,  0.45210432]))\n",
      "2024-05-22 13:28:04 [debug    ] Inside : (8.956127855632061e-07, 1.1311730053464416e-06)\n",
      "2024-05-22 13:28:04 [debug    ] Returns - (array([7.21700889, 1.95457111]), array([7.09310803, 2.00701611]), array([ 0.12390086, -0.052445  ]))\n",
      "2024-05-22 13:28:04 [debug    ] Inside : (8.572834962758554e-07, 1.0819490231746663e-06)\n",
      "2024-05-22 13:28:04 [debug    ] Returns - (array([7.15687343, 1.97861792]), array([7.153335  , 1.98411198]), array([ 0.00353843, -0.00549405]))\n",
      "2024-05-22 13:28:04 [debug    ] Inside : (8.54172796111486e-07, 1.0825511161900532e-06)\n",
      "2024-05-22 13:28:04 [debug    ] Returns - (array([7.15178005, 1.9805792 ]), array([7.15258434, 1.98440874]), array([-0.0008043 , -0.00382955]))\n",
      "2024-05-22 13:28:04 [debug    ] Inside : (8.494766207167874e-07, 1.0888283864563838e-06)\n",
      "2024-05-22 13:28:04 [debug    ] Returns - (array([7.14402778, 1.98354221]), array([7.14477935, 1.98747727]), array([-0.00075157, -0.00393506]))\n",
      "2024-05-22 13:28:04 [debug    ] Inside : (8.921578356761765e-07, 1.0351073353943846e-06)\n",
      "2024-05-22 13:28:05 [debug    ] Returns - (array([7.21178101, 1.95672809]), array([7.21286254, 1.95964474]), array([-0.00108153, -0.00291664]))\n",
      "2024-05-22 13:28:05 [debug    ] Inside : (9.737168219752987e-07, 9.469781898722065e-07)\n",
      "2024-05-22 13:28:05 [debug    ] Returns - (array([7.32609204, 1.90651076]), array([7.3314519 , 1.90517185]), array([-0.00535986,  0.00133891]))\n",
      "2024-05-22 13:28:05 [debug    ] Inside : (9.328772165192385e-07, 9.913475628333903e-07)\n",
      "2024-05-22 13:28:05 [debug    ] Returns - (array([7.27113605, 1.93146628]), array([7.27060741, 1.93409813]), array([ 0.00052863, -0.00263185]))\n",
      "2024-05-22 13:28:05 [debug    ] Inside : (9.748681542462973e-07, 9.486003693698431e-07)\n",
      "2024-05-22 13:28:05 [debug    ] Returns - (array([7.32758087, 1.90581293]), array([7.32918437, 1.90628769]), array([-0.00160351, -0.00047476]))\n",
      "2024-05-22 13:28:05 [debug    ] Inside : (9.856130158508643e-07, 9.395971407156073e-07)\n",
      "2024-05-22 13:28:05 [debug    ] Returns - (array([7.34132548, 1.89931516]), array([7.34181194, 1.90003603]), array([-0.00048647, -0.00072087]))\n",
      "2024-05-22 13:28:05 [debug    ] Inside : (9.525289294434151e-07, 9.704840429063481e-07)\n",
      "2024-05-22 13:28:05 [debug    ] Returns - (array([7.29811491, 1.91940872]), array([7.298918  , 1.92089975]), array([-0.00080309, -0.00149103]))\n",
      "2024-05-22 13:28:05 [debug    ] Inside : (1.0178195112862255e-06, 9.115240427283892e-07)\n",
      "2024-05-22 13:28:06 [debug    ] Returns - (array([7.38098708, 1.8799937 ]), array([7.38186856, 1.87959196]), array([-0.00088148,  0.00040174]))\n",
      "2024-05-22 13:28:06 [debug    ] Inside : (9.856132189690612e-07, 9.395971407156073e-07)\n",
      "2024-05-22 13:28:06 [debug    ] Returns - (array([7.34132573, 1.89931504]), array([7.34181194, 1.90003603]), array([-0.00048621, -0.00072099]))\n",
      "2024-05-22 13:28:06 [debug    ] Inside : (9.856130158508643e-07, 9.395973350201378e-07)\n",
      "2024-05-22 13:28:06 [debug    ] Returns - (array([7.34132548, 1.89931516]), array([7.34181167, 1.90003617]), array([-0.00048619, -0.00072101]))\n",
      "2024-05-22 13:28:06 [debug    ] Inside : (1.0066323604605228e-06, 9.21375299460549e-07)\n",
      "2024-05-22 13:28:06 [debug    ] Returns - (array([7.36746098, 1.88667967]), array([7.36769238, 1.8869343 ]), array([-0.0002314 , -0.00025463]))\n",
      "2024-05-22 13:28:06 [debug    ] Inside : (1.0199653272491667e-06, 9.102422378479509e-07)\n",
      "2024-05-22 13:28:06 [debug    ] Returns - (array([7.38355239, 1.87871422]), array([7.3837228 , 1.87862287]), array([-1.70411963e-04,  9.13587304e-05]))\n",
      "2024-05-22 13:28:06 [debug    ] Inside : (1.019740407447974e-06, 9.105454247774968e-07)\n",
      "2024-05-22 13:28:07 [debug    ] Returns - (array([7.38328393, 1.87884829]), array([7.38328401, 1.87885238]), array([-7.68962609e-08, -4.08596766e-06]))\n",
      "2024-05-22 13:28:07 [debug    ] Inside : (1.0198397922866634e-06, 9.10463169754586e-07)\n",
      "2024-05-22 13:28:07 [debug    ] Returns - (array([7.38340256, 1.87878905]), array([7.38340304, 1.87879013]), array([-4.78951425e-07, -1.07572663e-06]))\n",
      "2024-05-22 13:28:07 [debug    ] Inside : (1.0198863372073211e-06, 9.1042510984233e-07)\n",
      "2024-05-22 13:28:07 [debug    ] Returns - (array([7.38345812, 1.87876131]), array([7.38345812, 1.87876132]), array([-6.94443258e-09, -1.13366392e-08]))\n",
      "2024-05-22 13:28:07 [debug    ] Inside : (1.0198868672943097e-06, 9.104246774831327e-07)\n",
      "2024-05-22 13:28:07 [debug    ] Returns - (array([7.38345875, 1.87876099]), array([7.38345875, 1.87876099]), array([ 1.54894852e-09, -7.67670150e-10]))\n",
      "2024-05-22 13:28:07 [debug    ] Inside : (1.019886867028813e-06, 9.10424676639914e-07)\n",
      "2024-05-22 13:28:07 [debug    ] Returns - (array([7.38345875, 1.87876099]), array([7.38345875, 1.87876099]), array([ 3.37434969e-10, -1.65784053e-10]))\n",
      "2024-05-22 13:28:07 [info     ] Root finding status : The solution converged.\n",
      "2024-05-22 13:28:07 [debug    ] Root finding object :  message: The solution converged.\n",
      " success: True\n",
      "  status: 1\n",
      "     fun: [ 3.374e-10 -1.658e-10]\n",
      "       x: [-1.380e+01 -1.391e+01]\n",
      "  method: hybr\n",
      "    nfev: 24\n",
      "    fjac: [[-9.025e-01  4.307e-01]\n",
      "           [-4.307e-01 -9.025e-01]]\n",
      "       r: [-1.362e+00 -1.484e+00  2.779e-02]\n",
      "     qtf: [-1.729e-09  2.574e-11]\n",
      "2024-05-22 13:28:07 [info     ] Eps_s : 1.020e-06, Eps_u : 9.104e-07 gives a difference in endpoint [R,Z] : [ 3.37434969e-10 -1.65784053e-10]\n",
      "2024-05-22 13:28:08 [info     ] Initial guess: [1.667722969540823e-05, 1.5920630846338346e-06]\n",
      "2024-05-22 13:28:08 [debug    ] Guess - 1.667722969540823e-05, 1.5920630846338346e-06\n",
      "2024-05-22 13:28:08 [debug    ] Bounds - ((1.019886867028813e-06, 2.916353481323314e-05), (9.10424676639914e-07, 9.10424676639914e-07))\n",
      "2024-05-22 13:28:08 [debug    ] n_s, n_u - 7, 5\n",
      "2024-05-22 13:28:08 [debug    ] Inside : (1.6677229695408242e-05, 1.5920630846338361e-06)\n",
      "2024-05-22 13:28:08 [debug    ] Returns - (array([ 8.64169764, -1.69846721]), array([ 8.62715713, -1.74053376]), array([0.01454051, 0.04206655]))\n",
      "2024-05-22 13:28:08 [debug    ] Inside : (1.6677229695408242e-05, 1.5920630846338361e-06)\n",
      "2024-05-22 13:28:08 [debug    ] Returns - (array([ 8.64169764, -1.69846721]), array([ 8.62715713, -1.74053376]), array([0.01454051, 0.04206655]))\n",
      "2024-05-22 13:28:08 [debug    ] Inside : (1.6677229695408242e-05, 1.5920630846338361e-06)\n",
      "2024-05-22 13:28:08 [debug    ] Returns - (array([ 8.64169764, -1.69846721]), array([ 8.62715713, -1.74053376]), array([0.01454051, 0.04206655]))\n",
      "2024-05-22 13:28:08 [debug    ] Inside : (1.6677232429383818e-05, 1.5920630846338361e-06)\n",
      "2024-05-22 13:28:08 [debug    ] Returns - (array([ 8.64169756, -1.69846744]), array([ 8.62715713, -1.74053376]), array([0.01454043, 0.04206632]))\n",
      "2024-05-22 13:28:08 [debug    ] Inside : (1.6677229695408242e-05, 1.5920634013551597e-06)\n",
      "2024-05-22 13:28:08 [debug    ] Returns - (array([ 8.64169764, -1.69846721]), array([ 8.62715722, -1.74053351]), array([0.01454042, 0.0420663 ]))\n",
      "2024-05-22 13:28:08 [debug    ] Inside : (1.6608202162058897e-05, 1.6542360992735069e-06)\n",
      "2024-05-22 13:28:09 [debug    ] Returns - (array([ 8.6437215 , -1.69268526]), array([ 8.64342069, -1.6923471 ]), array([ 0.00030082, -0.00033816]))\n",
      "2024-05-22 13:28:09 [debug    ] Inside : (1.695736047810424e-05, 1.616130180168577e-06)\n",
      "2024-05-22 13:28:09 [debug    ] Returns - (array([ 8.63344269, -1.72171391]), array([ 8.63360286, -1.72173097]), array([-1.60178129e-04,  1.70601428e-05]))\n",
      "2024-05-22 13:28:09 [debug    ] Inside : (1.6856745154567467e-05, 1.6268300519681069e-06)\n",
      "2024-05-22 13:28:09 [debug    ] Returns - (array([ 8.63641499, -1.71340514]), array([ 8.63640654, -1.71343251]), array([8.45133741e-06, 2.73625426e-05]))\n",
      "2024-05-22 13:28:09 [debug    ] Inside : (1.68563114920191e-05, 1.6269119613805784e-06)\n",
      "2024-05-22 13:28:09 [debug    ] Returns - (array([ 8.63642778, -1.71336923]), array([ 8.63642786, -1.71336913]), array([-7.29287617e-08, -1.05411195e-07]))\n",
      "2024-05-22 13:28:09 [debug    ] Inside : (1.685628783530803e-05, 1.6269143549359812e-06)\n",
      "2024-05-22 13:28:09 [debug    ] Returns - (array([ 8.63642848, -1.71336727]), array([ 8.63642848, -1.71336727]), array([1.57813851e-09, 1.69554148e-10]))\n",
      "2024-05-22 13:28:09 [debug    ] Inside : (1.6856288754944915e-05, 1.62691425679754e-06)\n",
      "2024-05-22 13:28:09 [debug    ] Returns - (array([ 8.63642845, -1.71336735]), array([ 8.63642845, -1.71336735]), array([2.02032169e-10, 5.97541794e-10]))\n",
      "2024-05-22 13:28:09 [debug    ] Inside : (1.6856288756054657e-05, 1.6269142574498433e-06)\n",
      "2024-05-22 13:28:10 [debug    ] Returns - (array([ 8.63642845, -1.71336735]), array([ 8.63642845, -1.71336735]), array([3.21762172e-10, 9.55726609e-10]))\n",
      "2024-05-22 13:28:10 [debug    ] Inside : (1.685628875471849e-05, 1.6269142558468491e-06)\n",
      "2024-05-22 13:28:10 [debug    ] Returns - (array([ 8.63642845, -1.71336735]), array([ 8.63642845, -1.71336735]), array([7.73079378e-10, 2.29532682e-09]))\n",
      "2024-05-22 13:28:10 [debug    ] Inside : (1.685629151559202e-05, 1.62691425679754e-06)\n",
      "2024-05-22 13:28:10 [debug    ] Returns - (array([ 8.63642837, -1.71336758]), array([ 8.63642845, -1.71336735]), array([-8.11532761e-08, -2.27769404e-07]))\n",
      "2024-05-22 13:28:10 [debug    ] Inside : (1.6856288754944915e-05, 1.6269145799271096e-06)\n",
      "2024-05-22 13:28:10 [debug    ] Returns - (array([ 8.63642845, -1.71336735]), array([ 8.63642854, -1.7133671 ]), array([-8.37942640e-08, -2.49137464e-07]))\n",
      "2024-05-22 13:28:10 [debug    ] Inside : (1.6856288755584943e-05, 1.6269142575021895e-06)\n",
      "2024-05-22 13:28:10 [debug    ] Returns - (array([ 8.63642845, -1.71336735]), array([ 8.63642845, -1.71336735]), array([3.81847443e-10, 1.12433063e-09]))\n",
      "2024-05-22 13:28:10 [debug    ] Inside : (1.685628875256294e-05, 1.6269142558627702e-06)\n",
      "2024-05-22 13:28:11 [debug    ] Returns - (array([ 8.63642846, -1.71336735]), array([ 8.63642845, -1.71336735]), array([8.93454200e-10, 2.63351474e-09]))\n",
      "2024-05-22 13:28:11 [info     ] Root finding status : The solution converged.\n",
      "2024-05-22 13:28:11 [debug    ] Root finding object :  message: The solution converged.\n",
      " success: True\n",
      "  status: 1\n",
      "     fun: [ 2.020e-10  5.975e-10]\n",
      "       x: [-1.099e+01 -1.333e+01]\n",
      "  method: hybr\n",
      "    nfev: 15\n",
      "    fjac: [[-3.391e-01 -9.408e-01]\n",
      "           [ 9.408e-01 -3.391e-01]]\n",
      "       r: [ 1.184e+00 -1.389e+00 -2.185e-02]\n",
      "     qtf: [-6.306e-10 -1.255e-11]\n",
      "2024-05-22 13:28:11 [info     ] Eps_s : 1.686e-05, Eps_u : 1.627e-06 gives a difference in endpoint [R,Z] : [2.02032169e-10 5.97541794e-10]\n",
      "2024-05-22 13:28:11 [info     ] Initial guess: [9.536909434833074e-06, 2.7840467536627385e-06]\n",
      "2024-05-22 13:28:11 [debug    ] Guess - 9.536909434833074e-06, 2.7840467536627385e-06\n",
      "2024-05-22 13:28:11 [debug    ] Bounds - ((1.6856288754944915e-05, 2.916353481323314e-05), (9.10424676639914e-07, 1.62691425679754e-06))\n",
      "2024-05-22 13:28:11 [debug    ] n_s, n_u - 7, 5\n",
      "2024-05-22 13:28:11 [debug    ] Inside : (9.53690943483308e-06, 2.784046753662738e-06)\n",
      "2024-05-22 13:28:11 [debug    ] Returns - (array([ 8.80363088, -0.99288928]), array([ 8.80362905, -0.99290706]), array([1.83372836e-06, 1.77750884e-05]))\n",
      "2024-05-22 13:28:11 [debug    ] Inside : (9.53690943483308e-06, 2.784046753662738e-06)\n",
      "2024-05-22 13:28:11 [debug    ] Returns - (array([ 8.80363088, -0.99288928]), array([ 8.80362905, -0.99290706]), array([1.83372836e-06, 1.77750884e-05]))\n",
      "2024-05-22 13:28:11 [debug    ] Inside : (9.53690943483308e-06, 2.784046753662738e-06)\n",
      "2024-05-22 13:28:11 [debug    ] Returns - (array([ 8.80363088, -0.99288928]), array([ 8.80362905, -0.99290706]), array([1.83372836e-06, 1.77750884e-05]))\n",
      "2024-05-22 13:28:11 [debug    ] Inside : (9.536911077685144e-06, 2.784046753662738e-06)\n",
      "2024-05-22 13:28:11 [debug    ] Returns - (array([ 8.80363086, -0.9928895 ]), array([ 8.80362905, -0.99290706]), array([1.81093654e-06, 1.75577420e-05]))\n",
      "2024-05-22 13:28:11 [debug    ] Inside : (9.53690943483308e-06, 2.7840472843292946e-06)\n",
      "2024-05-22 13:28:12 [debug    ] Returns - (array([ 8.80363088, -0.99288928]), array([ 8.80362908, -0.99290679]), array([1.80062779e-06, 1.75058747e-05]))\n",
      "2024-05-22 13:28:12 [debug    ] Inside : (9.537056428075586e-06, 2.7840434584442356e-06)\n",
      "2024-05-22 13:28:12 [debug    ] Returns - (array([ 8.80362884, -0.99290874]), array([ 8.80362885, -0.99290873]), array([-1.34180844e-09, -1.15483035e-08]))\n",
      "2024-05-22 13:28:12 [debug    ] Inside : (9.537056395451074e-06, 2.784043444192622e-06)\n",
      "2024-05-22 13:28:12 [debug    ] Returns - (array([ 8.80362885, -0.99290873]), array([ 8.80362885, -0.99290873]), array([-2.98356895e-11, -2.55483301e-10]))\n",
      "2024-05-22 13:28:12 [info     ] Root finding status : The solution converged.\n",
      "2024-05-22 13:28:12 [debug    ] Root finding object :  message: The solution converged.\n",
      " success: True\n",
      "  status: 1\n",
      "     fun: [-2.984e-11 -2.555e-10]\n",
      "       x: [-1.156e+01 -1.279e+01]\n",
      "  method: hybr\n",
      "    nfev: 5\n",
      "    fjac: [[-1.043e-01 -9.945e-01]\n",
      "           [ 9.945e-01 -1.043e-01]]\n",
      "       r: [ 1.269e+00  1.423e+00 -2.540e-02]\n",
      "     qtf: [ 1.163e-08 -1.300e-10]\n",
      "2024-05-22 13:28:12 [info     ] Eps_s : 9.537e-06, Eps_u : 2.784e-06 gives a difference in endpoint [R,Z] : [-2.98356895e-11 -2.55483301e-10]\n",
      "2024-05-22 13:28:12 [info     ] Initial guess: [5.453702037410342e-06, 4.86847311604031e-06]\n",
      "2024-05-22 13:28:12 [debug    ] Guess - 5.453702037410342e-06, 4.86847311604031e-06\n",
      "2024-05-22 13:28:12 [debug    ] Bounds - ((9.537056395451074e-06, 2.916353481323314e-05), (9.10424676639914e-07, 2.784043444192622e-06))\n",
      "2024-05-22 13:28:12 [debug    ] n_s, n_u - 7, 5\n",
      "2024-05-22 13:28:12 [debug    ] Inside : (5.453702037410342e-06, 4.868473116040313e-06)\n",
      "2024-05-22 13:28:12 [debug    ] Returns - (array([ 8.793996 , -0.1250703]), array([ 8.80182086, -0.1754599 ]), array([-0.00782486,  0.0503896 ]))\n",
      "2024-05-22 13:28:12 [debug    ] Inside : (5.453702037410342e-06, 4.868473116040313e-06)\n",
      "2024-05-22 13:28:12 [debug    ] Returns - (array([ 8.793996 , -0.1250703]), array([ 8.80182086, -0.1754599 ]), array([-0.00782486,  0.0503896 ]))\n",
      "2024-05-22 13:28:12 [debug    ] Inside : (5.453702037410342e-06, 4.868473116040313e-06)\n",
      "2024-05-22 13:28:13 [debug    ] Returns - (array([ 8.793996 , -0.1250703]), array([ 8.80182086, -0.1754599 ]), array([-0.00782486,  0.0503896 ]))\n",
      "2024-05-22 13:28:13 [debug    ] Inside : (5.4537030222966124e-06, 4.868473116040313e-06)\n",
      "2024-05-22 13:28:13 [debug    ] Returns - (array([ 8.79399605, -0.1250706 ]), array([ 8.80182086, -0.1754599 ]), array([-0.00782481,  0.0503893 ]))\n",
      "2024-05-22 13:28:13 [debug    ] Inside : (5.453702037410342e-06, 4.868474003474845e-06)\n",
      "2024-05-22 13:28:13 [debug    ] Returns - (array([ 8.793996 , -0.1250703]), array([ 8.80182082, -0.17545963]), array([-0.00782482,  0.05038932]))\n",
      "2024-05-22 13:28:13 [debug    ] Inside : (5.657114828813204e-06, 4.834178287017868e-06)\n",
      "2024-05-22 13:28:13 [debug    ] Returns - (array([ 8.80274578, -0.18645957]), array([ 8.803402  , -0.18608888]), array([-0.00065622, -0.00037069]))\n",
      "2024-05-22 13:28:13 [debug    ] Inside : (5.4137151387589085e-06, 5.076283627695547e-06)\n",
      "2024-05-22 13:28:13 [debug    ] Returns - (array([ 8.79207817, -0.11284747]), array([ 8.79152832, -0.11258704]), array([ 0.00054985, -0.00026043]))\n",
      "2024-05-22 13:28:13 [debug    ] Inside : (5.513714837387851e-06, 4.973071102855068e-06)\n",
      "2024-05-22 13:28:14 [debug    ] Returns - (array([ 8.79675178, -0.14332334]), array([ 8.79678612, -0.14348932]), array([-3.43411495e-05,  1.65979178e-04]))\n",
      "2024-05-22 13:28:14 [debug    ] Inside : (5.512084639773266e-06, 4.975246908883422e-06)\n",
      "2024-05-22 13:28:14 [debug    ] Returns - (array([ 8.79667886, -0.14282901]), array([ 8.79667814, -0.14283134]), array([7.15034775e-07, 2.32925560e-06]))\n",
      "2024-05-22 13:28:14 [debug    ] Inside : (5.512274953640824e-06, 4.975063730793183e-06)\n",
      "2024-05-22 13:28:14 [debug    ] Returns - (array([ 8.79668737, -0.14288672]), array([ 8.79668724, -0.14288672]), array([ 1.38113903e-07, -7.74676434e-10]))\n",
      "2024-05-22 13:28:14 [debug    ] Inside : (5.512302853661013e-06, 4.975035745451479e-06)\n",
      "2024-05-22 13:28:14 [debug    ] Returns - (array([ 8.79668862, -0.14289518]), array([ 8.79668863, -0.14289518]), array([-2.59780286e-09, -5.75414438e-10]))\n",
      "2024-05-22 13:28:14 [debug    ] Inside : (5.512302320594059e-06, 4.9750362782296276e-06)\n",
      "2024-05-22 13:28:14 [debug    ] Returns - (array([ 8.7966886 , -0.14289502]), array([ 8.7966886 , -0.14289502]), array([-2.64641642e-11,  1.32498540e-10]))\n",
      "2024-05-22 13:28:14 [debug    ] Inside : (5.5123023194563375e-06, 4.975036279810239e-06)\n",
      "2024-05-22 13:28:14 [debug    ] Returns - (array([ 8.7966886 , -0.14289502]), array([ 8.7966886 , -0.14289502]), array([ 3.07149861e-11, -1.78557030e-10]))\n",
      "2024-05-22 13:28:14 [info     ] Root finding status : The solution converged.\n",
      "2024-05-22 13:28:14 [debug    ] Root finding object :  message: The solution converged.\n",
      " success: True\n",
      "  status: 1\n",
      "     fun: [-2.646e-11  1.325e-10]\n",
      "       x: [-1.211e+01 -1.221e+01]\n",
      "  method: hybr\n",
      "    nfev: 11\n",
      "    fjac: [[-1.386e-01  9.903e-01]\n",
      "           [-9.903e-01 -1.386e-01]]\n",
      "       r: [-1.688e+00 -1.521e+00 -2.470e-02]\n",
      "     qtf: [ 1.349e-10  7.846e-12]\n",
      "2024-05-22 13:28:14 [info     ] Eps_s : 5.512e-06, Eps_u : 4.975e-06 gives a difference in endpoint [R,Z] : [-2.64641642e-11  1.32498540e-10]\n",
      "2024-05-22 13:28:15 [info     ] Initial guess: [3.1187111627818783e-06, 8.513517400677434e-06]\n",
      "2024-05-22 13:28:15 [debug    ] Guess - 3.1187111627818783e-06, 8.513517400677434e-06\n",
      "2024-05-22 13:28:15 [debug    ] Bounds - ((5.512302320594059e-06, 2.916353481323314e-05), (9.10424676639914e-07, 4.9750362782296276e-06))\n",
      "2024-05-22 13:28:15 [debug    ] n_s, n_u - 7, 5\n",
      "2024-05-22 13:28:15 [debug    ] Inside : (3.118711162781876e-06, 8.513517400677432e-06)\n",
      "2024-05-22 13:28:15 [debug    ] Returns - (array([8.55433793, 0.6486087 ]), array([8.55434703, 0.64859033]), array([-9.10141862e-06,  1.83759687e-05]))\n",
      "2024-05-22 13:28:15 [debug    ] Inside : (3.118711162781876e-06, 8.513517400677432e-06)\n",
      "2024-05-22 13:28:15 [debug    ] Returns - (array([8.55433793, 0.6486087 ]), array([8.55434703, 0.64859033]), array([-9.10141862e-06,  1.83759687e-05]))\n",
      "2024-05-22 13:28:15 [debug    ] Inside : (3.118711162781876e-06, 8.513517400677432e-06)\n",
      "2024-05-22 13:28:15 [debug    ] Returns - (array([8.55433793, 0.6486087 ]), array([8.55434703, 0.64859033]), array([-9.10141862e-06,  1.83759687e-05]))\n",
      "2024-05-22 13:28:15 [debug    ] Inside : (3.1187117519634587e-06, 8.513517400677432e-06)\n",
      "2024-05-22 13:28:15 [debug    ] Returns - (array([8.55433804, 0.64860847]), array([8.55434703, 0.64859033]), array([-8.98631448e-06,  1.81398939e-05]))\n",
      "2024-05-22 13:28:15 [debug    ] Inside : (3.118711162781876e-06, 8.513518881637979e-06)\n",
      "2024-05-22 13:28:15 [debug    ] Returns - (array([8.55433793, 0.6486087 ]), array([8.55434692, 0.64859057]), array([-8.98812825e-06,  1.81330700e-05]))\n",
      "2024-05-22 13:28:15 [debug    ] Inside : (3.118773740908514e-06, 8.51347656441381e-06)\n",
      "2024-05-22 13:28:16 [debug    ] Returns - (array([8.55435017, 0.6485836 ]), array([8.55435016, 0.64858362]), array([ 8.95312979e-09, -1.82816303e-08]))\n",
      "2024-05-22 13:28:16 [debug    ] Inside : (3.1187736906661484e-06, 8.513476575774097e-06)\n",
      "2024-05-22 13:28:16 [debug    ] Returns - (array([8.55435016, 0.64858362]), array([8.55435016, 0.64858362]), array([-5.73919579e-10,  1.18130850e-09]))\n",
      "2024-05-22 13:28:16 [info     ] Root finding status : The solution converged.\n",
      "2024-05-22 13:28:16 [debug    ] Root finding object :  message: The solution converged.\n",
      " success: True\n",
      "  status: 1\n",
      "     fun: [-5.739e-10  1.181e-09]\n",
      "       x: [-1.268e+01 -1.167e+01]\n",
      "  method: hybr\n",
      "    nfev: 5\n",
      "    fjac: [[-4.383e-01  8.988e-01]\n",
      "           [-8.988e-01 -4.383e-01]]\n",
      "       r: [-1.391e+00 -1.540e+00  2.657e-02]\n",
      "     qtf: [-2.036e-08 -3.545e-11]\n",
      "2024-05-22 13:28:16 [info     ] Eps_s : 3.119e-06, Eps_u : 8.513e-06 gives a difference in endpoint [R,Z] : [-5.73919579e-10  1.18130850e-09]\n",
      "2024-05-22 13:28:16 [info     ] Initial guess: [1.7834416420517897e-06, 1.4887620164284243e-05]\n",
      "2024-05-22 13:28:16 [debug    ] Guess - 1.7834416420517897e-06, 1.4887620164284243e-05\n",
      "2024-05-22 13:28:16 [debug    ] Bounds - ((3.1187736906661484e-06, 2.916353481323314e-05), (9.10424676639914e-07, 8.513476575774097e-06))\n",
      "2024-05-22 13:28:16 [debug    ] n_s, n_u - 7, 5\n",
      "2024-05-22 13:28:16 [debug    ] Inside : (1.7834416420517912e-06, 1.4887620164284248e-05)\n",
      "2024-05-22 13:28:16 [debug    ] Returns - (array([8.03707457, 1.4020473 ]), array([8.07358773, 1.36450636]), array([-0.03651316,  0.03754093]))\n",
      "2024-05-22 13:28:16 [debug    ] Inside : (1.7834416420517912e-06, 1.4887620164284248e-05)\n",
      "2024-05-22 13:28:16 [debug    ] Returns - (array([8.03707457, 1.4020473 ]), array([8.07358773, 1.36450636]), array([-0.03651316,  0.03754093]))\n",
      "2024-05-22 13:28:16 [debug    ] Inside : (1.7834416420517912e-06, 1.4887620164284248e-05)\n",
      "2024-05-22 13:28:17 [debug    ] Returns - (array([8.03707457, 1.4020473 ]), array([8.07358773, 1.36450636]), array([-0.03651316,  0.03754093]))\n",
      "2024-05-22 13:28:17 [debug    ] Inside : (1.7834419938288363e-06, 1.4887620164284248e-05)\n",
      "2024-05-22 13:28:17 [debug    ] Returns - (array([8.0370748 , 1.40204705]), array([8.07358773, 1.36450636]), array([-0.03651293,  0.03754069]))\n",
      "2024-05-22 13:28:17 [debug    ] Inside : (1.7834416420517912e-06, 1.4887622630063176e-05)\n",
      "2024-05-22 13:28:17 [debug    ] Returns - (array([8.03707457, 1.4020473 ]), array([8.07358755, 1.36450655]), array([-0.03651298,  0.03754074]))\n",
      "2024-05-22 13:28:17 [debug    ] Inside : (1.8337417612678692e-06, 1.4929724915651453e-05)\n",
      "2024-05-22 13:28:17 [debug    ] Returns - (array([8.07018074, 1.36733293]), array([8.07051079, 1.36769996]), array([-0.00033006, -0.00036703]))\n",
      "2024-05-22 13:28:17 [debug    ] Inside : (1.7627211826107741e-06, 1.55916233761479e-05)\n",
      "2024-05-22 13:28:18 [debug    ] Returns - (array([8.02307731, 1.41630005]), array([8.02243962, 1.41601568]), array([0.00063769, 0.00028437]))\n",
      "2024-05-22 13:28:18 [debug    ] Inside : (1.802924638578877e-06, 1.5209034917636776e-05)\n",
      "2024-05-22 13:28:18 [debug    ] Returns - (array([8.05004601, 1.38861697]), array([8.05015427, 1.38851489]), array([-0.00010825,  0.00010208]))\n",
      "2024-05-22 13:28:18 [debug    ] Inside : (1.8025221417496782e-06, 1.521421423532993e-05)\n",
      "2024-05-22 13:28:18 [debug    ] Returns - (array([8.04977992, 1.38889467]), array([8.04977773, 1.38889488]), array([ 2.18967959e-06, -2.14886016e-07]))\n",
      "2024-05-22 13:28:18 [debug    ] Inside : (1.8025975501606255e-06, 1.5213500050662058e-05)\n",
      "2024-05-22 13:28:18 [debug    ] Returns - (array([8.04982978, 1.38884264]), array([8.04982965, 1.3888425 ]), array([1.28905503e-07, 1.44909446e-07]))\n",
      "2024-05-22 13:28:18 [debug    ] Inside : (1.8026094544285683e-06, 1.5213390037390674e-05)\n",
      "2024-05-22 13:28:19 [debug    ] Returns - (array([8.04983765, 1.38883443]), array([8.04983765, 1.38883443]), array([2.52793164e-09, 9.69270220e-10]))\n",
      "2024-05-22 13:28:19 [debug    ] Inside : (1.8026096094952203e-06, 1.5213388592117704e-05)\n",
      "2024-05-22 13:28:19 [debug    ] Returns - (array([8.04983775, 1.38883432]), array([8.04983775, 1.38883432]), array([-4.78332041e-10,  4.82202500e-10]))\n",
      "2024-05-22 13:28:19 [info     ] Root finding status : The solution converged.\n",
      "2024-05-22 13:28:19 [debug    ] Root finding object :  message: The solution converged.\n",
      " success: True\n",
      "  status: 1\n",
      "     fun: [-4.783e-10  4.822e-10]\n",
      "       x: [-1.323e+01 -1.109e+01]\n",
      "  method: hybr\n",
      "    nfev: 10\n",
      "    fjac: [[-6.854e-01  7.281e-01]\n",
      "           [-7.281e-01 -6.854e-01]]\n",
      "       r: [-1.724e+00 -1.572e+00 -2.637e-02]\n",
      "     qtf: [-1.027e-09 -2.505e-09]\n",
      "2024-05-22 13:28:19 [info     ] Eps_s : 1.803e-06, Eps_u : 1.521e-05 gives a difference in endpoint [R,Z] : [-4.78332041e-10  4.82202500e-10]\n"
     ]
    }
   ],
   "source": [
    "# manifold.find_homoclinic(1.2031633045398876e-06, 1.4761625196001464e-06, n_s=7, n_u=6)\n",
    "manifold.find_clinics(n_points=6)\n",
    "manifold.order()"
   ]
  },
  {
   "cell_type": "code",
   "execution_count": null,
   "metadata": {},
   "outputs": [],
   "source": []
  },
  {
   "cell_type": "code",
   "execution_count": null,
   "metadata": {},
   "outputs": [],
   "source": [
    "eps_s_i, eps_u_i = manifold.find_homoclinic(*guess_i, bounds = bounds_i, n_s=7, n_u=5, options={\"factor\": 0.1})"
   ]
  },
  {
   "cell_type": "code",
   "execution_count": null,
   "metadata": {},
   "outputs": [],
   "source": [
    "manifold.clinics"
   ]
  },
  {
   "cell_type": "code",
   "execution_count": null,
   "metadata": {},
   "outputs": [],
   "source": [
    "fig = pickle.load(open(\"manifold_05070828.pkl\", \"rb\"))\n",
    "ax = fig.gca()"
   ]
  },
  {
   "cell_type": "code",
   "execution_count": null,
   "metadata": {},
   "outputs": [],
   "source": [
    "eps_s_i, eps_u_i = manifold.clinics[0][1:3]\n",
    "# eps_s_i, eps_u_i = bounds_1[0][1], bounds_1[1][1]\n",
    "\n",
    "n_s, n_u = 6, 6\n",
    "hs_i = manifold.integrate(manifold.rfp_s + eps_s_i * manifold.vector_s, n_s, -1)[:,-1]\n",
    "hu_i = manifold.integrate(manifold.rfp_u + eps_u_i * manifold.vector_u, n_u, 1)[:,-1]\n",
    "ax.scatter(*hs_i, marker='+', color=\"purple\", zorder=10)\n",
    "ax.scatter(*hu_i, marker='x', color=\"blue\", zorder=10)"
   ]
  },
  {
   "cell_type": "code",
   "execution_count": null,
   "metadata": {},
   "outputs": [],
   "source": [
    "marker = [\"o\", \"s\", \"*\", \"^\", \"v\", \"<\", \">\"]\n",
    "\n",
    "for i in range(4):\n",
    "    rs, ru = manifold.history[i][:2]\n",
    "    ax.scatter(*rs, c='purple', marker=marker[i], zorder=10)\n",
    "    ax.scatter(*ru, c='blue', marker=marker[i], zorder=10)"
   ]
  },
  {
   "cell_type": "code",
   "execution_count": null,
   "metadata": {},
   "outputs": [],
   "source": [
    "manifold.resonance_area()"
   ]
  },
  {
   "cell_type": "code",
   "execution_count": null,
   "metadata": {},
   "outputs": [],
   "source": [
    "manifold.areas"
   ]
  },
  {
   "cell_type": "code",
   "execution_count": null,
   "metadata": {},
   "outputs": [],
   "source": [
    "manifold.errors"
   ]
  },
  {
   "cell_type": "code",
   "execution_count": null,
   "metadata": {},
   "outputs": [],
   "source": [
    "np.array([0,1,2])[3]"
   ]
  },
  {
   "cell_type": "code",
   "execution_count": null,
   "metadata": {},
   "outputs": [],
   "source": [
    "manifold.areas"
   ]
  },
  {
   "cell_type": "code",
   "execution_count": null,
   "metadata": {},
   "outputs": [],
   "source": [
    "ax.set_xlim(3.9, 7)\n",
    "ax.set_ylim(-0.3, 2.2)\n",
    "# ax.set_xlim(3.9, 4.3)\n",
    "# ax.set_ylim(-0.1, 0.6)\n",
    "# ax.set_xlim(4, 4.05)\n",
    "# ax.set_ylim(0.45, 0.51)\n",
    "fig"
   ]
  },
  {
   "cell_type": "code",
   "execution_count": null,
   "metadata": {},
   "outputs": [],
   "source": [
    "marker = [\"+\", \"o\", \"s\", \"p\", \"P\", \"*\", \"X\", \"D\", \"d\", \"^\", \"v\", \"<\", \">\"]\n",
    "for i, clinic in enumerate(manifold.clinics):\n",
    "    eps_s_i, eps_u_i = clinic[1:3]\n",
    "\n",
    "    n_s, n_u = 8, 8\n",
    "    \n",
    "    hs_i = manifold.integrate(manifold.rfp_s + eps_s_i * manifold.vector_s, n_s, -1)\n",
    "    hu_i = manifold.integrate(manifold.rfp_u + eps_u_i * manifold.vector_u, n_u, 1)\n",
    "    ax.scatter(hs_i[0,:], hs_i[1,:], marker=marker[i], color=\"purple\", zorder=10)\n",
    "    ax.scatter(hu_i[0,:], hu_i[1,:], marker=marker[i], color=\"blue\", zorder=10)"
   ]
  },
  {
   "cell_type": "code",
   "execution_count": null,
   "metadata": {},
   "outputs": [],
   "source": [
    "# ax.set_xlim(6, 8)\n",
    "# ax.set_ylim(-5, -3.5)\n",
    "# ax.set_xlim(6, 9)\n",
    "# ax.set_ylim(-5, -1)\n",
    "fig"
   ]
  },
  {
   "cell_type": "code",
   "execution_count": null,
   "metadata": {},
   "outputs": [],
   "source": [
    "ax.set_xlim(6.42, 6.555)\n",
    "ax.set_ylim(-4.32, -4.2)\n",
    "\n",
    "ax.scatter(6.49, -4.26)\n",
    "\n",
    "fig"
   ]
  },
  {
   "cell_type": "code",
   "execution_count": null,
   "metadata": {},
   "outputs": [],
   "source": [
    "pyoproblem.B([6.49, 0., -4.26])"
   ]
  },
  {
   "cell_type": "code",
   "execution_count": null,
   "metadata": {},
   "outputs": [],
   "source": [
    "0.01 * 0.1 * pyoproblem.B([6.49, 0., -4.26])[1] * 6.49"
   ]
  },
  {
   "cell_type": "code",
   "execution_count": null,
   "metadata": {},
   "outputs": [],
   "source": [
    "manifold.order()"
   ]
  },
  {
   "cell_type": "code",
   "execution_count": null,
   "metadata": {},
   "outputs": [],
   "source": [
    "manifold.clinics"
   ]
  },
  {
   "cell_type": "code",
   "execution_count": null,
   "metadata": {},
   "outputs": [],
   "source": [
    "def resonance_area(self, n_f = None, n_b = None, n_transit=3):\n",
    "    # considering the >_u ordering of the clinic points\n",
    "\n",
    "    potential_integrations = []\n",
    "    endpoints = []\n",
    "\n",
    "    # Potential integration\n",
    "    for clinic in self.clinics:\n",
    "\n",
    "        n_tmp_f, n_tmp_b = 1, 1\n",
    "\n",
    "        # Forward integration\n",
    "        rze_forward = clinic[-2]\n",
    "        intA_forward = []\n",
    "        while n_tmp_f <= n_f:\n",
    "            rze_end, area_tmp = self.integrate_single(\n",
    "                rze_forward, 1, direction=1, ret_jacobian=False, integrate_A=True\n",
    "            )\n",
    "\n",
    "            if n_tmp_f > n_transit and np.linalg.norm(\n",
    "                rze_end - self.rfp_s\n",
    "            ) > np.linalg.norm(rze_forward - self.rfp_s):\n",
    "                print(\"Forward integration goes beyond the saddle point.\")\n",
    "                print(\n",
    "                    f\"rfp_s: {self.rfp_s}, rze_end: {rze_end}, rze_forward: {rze_forward}\"\n",
    "                )\n",
    "                n_tmp_f -= 1\n",
    "                break\n",
    "\n",
    "            rze_forward = rze_end\n",
    "            intA_forward.append(area_tmp)\n",
    "            n_tmp_f += 1\n",
    "\n",
    "        print(f\"Forward integration completed with area {intA_forward}\")\n",
    "\n",
    "        # Backward integration\n",
    "        # taking the point found from unstable manifold to go back to the fixedpoint\n",
    "        rze_backward = clinic[-1]\n",
    "        intA_backward = []\n",
    "        while n_tmp_b <= n_b:\n",
    "            rze_end, area_tmp = self.integrate_single(\n",
    "                rze_backward, 1, direction=-1, ret_jacobian=False, integrate_A=True\n",
    "            )\n",
    "\n",
    "            if n_tmp_b > n_transit and np.linalg.norm(\n",
    "                rze_end - self.rfp_u\n",
    "            ) > np.linalg.norm(rze_backward - self.rfp_u):\n",
    "                print(\"Backward integration goes beyond the saddle point.\")\n",
    "                print(\n",
    "                    f\"rfp_u: {self.rfp_u}, rze_end: {rze_end}, rze_forward: {rze_backward}\"\n",
    "                )\n",
    "                n_tmp_b -= 1\n",
    "                break\n",
    "\n",
    "            rze_backward = rze_end\n",
    "            intA_backward.append(area_tmp)\n",
    "            n_tmp_b += 1\n",
    "\n",
    "        print(f\"Backward integration completed with area {intA_backward}\")\n",
    "\n",
    "        potential_integrations.append([np.array(intA_forward), np.array(intA_backward)])\n",
    "        endpoints.append([rze_forward, rze_backward])\n",
    "\n",
    "    # Area calculation\n",
    "    areas = []\n",
    "    for intA_h, intA_m in zip(potential_integrations, [potential_integrations[i] for i in np.roll(np.arange(len(potential_integrations), dtype=int), -1)]):\n",
    "        n_fwd = min(intA_h[0].size, intA_m[0].size)\n",
    "        n_bwd = min(intA_h[1].size, intA_m[1].size)\n",
    "\n",
    "        intm = intA_m[0][:n_fwd].sum()-intA_m[1][:n_bwd].sum()\n",
    "        inth = intA_h[0][:n_fwd].sum()-intA_h[1][:n_bwd].sum()\n",
    "\n",
    "        areas.append(intm - inth)\n",
    "\n",
    "    areas = np.array(areas)\n",
    "    \n",
    "    self.areas = areas\n",
    "\n",
    "    return areas, potential_integrations, endpoints\n"
   ]
  },
  {
   "cell_type": "code",
   "execution_count": null,
   "metadata": {},
   "outputs": [],
   "source": [
    "res = resonance_area(manifold, 10, 10, 2)"
   ]
  },
  {
   "cell_type": "code",
   "execution_count": null,
   "metadata": {},
   "outputs": [],
   "source": [
    "res[1][i]"
   ]
  },
  {
   "cell_type": "code",
   "execution_count": null,
   "metadata": {},
   "outputs": [],
   "source": [
    "areas"
   ]
  },
  {
   "cell_type": "code",
   "execution_count": null,
   "metadata": {},
   "outputs": [],
   "source": [
    "manifold.areas"
   ]
  },
  {
   "cell_type": "code",
   "execution_count": null,
   "metadata": {},
   "outputs": [],
   "source": [
    "areas[areas > 0].sum()"
   ]
  },
  {
   "cell_type": "code",
   "execution_count": null,
   "metadata": {},
   "outputs": [],
   "source": [
    "areas[areas < 0].sum()"
   ]
  },
  {
   "cell_type": "code",
   "execution_count": null,
   "metadata": {},
   "outputs": [],
   "source": [
    "areas.sum()"
   ]
  },
  {
   "cell_type": "code",
   "execution_count": null,
   "metadata": {},
   "outputs": [],
   "source": [
    "np.roll(np.array([1,2,3,4]),-1)"
   ]
  },
  {
   "cell_type": "code",
   "execution_count": null,
   "metadata": {},
   "outputs": [],
   "source": [
    "n_bwd"
   ]
  },
  {
   "cell_type": "code",
   "execution_count": null,
   "metadata": {},
   "outputs": [],
   "source": [
    "re"
   ]
  },
  {
   "cell_type": "code",
   "execution_count": null,
   "metadata": {},
   "outputs": [],
   "source": [
    "manifold.rfp_u"
   ]
  },
  {
   "cell_type": "code",
   "execution_count": null,
   "metadata": {},
   "outputs": [],
   "source": [
    "manifold.integrate_single(re[0][0], 1, -1, ret_jacobian = False, integrate_A = True)"
   ]
  },
  {
   "cell_type": "code",
   "execution_count": null,
   "metadata": {},
   "outputs": [],
   "source": [
    "manifold.integrate_single(re[0][1], 1, 1, ret_jacobian = False, integrate_A = True)"
   ]
  },
  {
   "cell_type": "code",
   "execution_count": null,
   "metadata": {},
   "outputs": [],
   "source": [
    "manifold.integrate_single(manifold.rfp_u, 1, -1, ret_jacobian = False, integrate_A = True)"
   ]
  },
  {
   "cell_type": "code",
   "execution_count": null,
   "metadata": {},
   "outputs": [],
   "source": [
    "intAs"
   ]
  },
  {
   "cell_type": "code",
   "execution_count": null,
   "metadata": {},
   "outputs": [],
   "source": [
    "intAs[-1] - intAs[0]"
   ]
  },
  {
   "cell_type": "code",
   "execution_count": null,
   "metadata": {},
   "outputs": [],
   "source": []
  },
  {
   "cell_type": "code",
   "execution_count": null,
   "metadata": {},
   "outputs": [],
   "source": [
    "areas = [intAs[i+1]-intAs[i] for i in range(5)]\n",
    "areas.append(intAs[-1] - intAs[0])\n",
    "areas"
   ]
  },
  {
   "cell_type": "code",
   "execution_count": null,
   "metadata": {},
   "outputs": [],
   "source": [
    "int_rfp = manifold.integrate_single(manifold.rfp_u, 1, -1, ret_jacobian = False, integrate_A = True)[1]"
   ]
  },
  {
   "cell_type": "code",
   "execution_count": null,
   "metadata": {},
   "outputs": [],
   "source": [
    "areas[0] = areas[0]+int_rfp"
   ]
  },
  {
   "cell_type": "code",
   "execution_count": null,
   "metadata": {},
   "outputs": [],
   "source": [
    "areas[-2] = -(areas[-2]-int_rfp)"
   ]
  },
  {
   "cell_type": "code",
   "execution_count": null,
   "metadata": {},
   "outputs": [],
   "source": [
    "areas[-1] *= -1"
   ]
  },
  {
   "cell_type": "code",
   "execution_count": null,
   "metadata": {},
   "outputs": [],
   "source": [
    "areas"
   ]
  },
  {
   "cell_type": "code",
   "execution_count": null,
   "metadata": {},
   "outputs": [],
   "source": [
    "np.sum(areas)"
   ]
  },
  {
   "cell_type": "code",
   "execution_count": null,
   "metadata": {},
   "outputs": [],
   "source": [
    "np.sum(areas[::2])"
   ]
  },
  {
   "cell_type": "code",
   "execution_count": null,
   "metadata": {},
   "outputs": [],
   "source": [
    "n_s, n_u = 5, 6\n",
    "def evolution(self, eps):\n",
    "    print(eps)\n",
    "    eps_s, eps_u = eps\n",
    "    r_s = self.rfp_s + eps_s * self.vector_s\n",
    "    r_u = self.rfp_u + eps_u * self.vector_u\n",
    "\n",
    "    try:\n",
    "        r_s_evolved = self.integrate_single(r_s, n_s, -1, ret_jacobian = False)\n",
    "    except Exception as e:\n",
    "        print(f\"Error in stable manifold integration : {e}\")\n",
    "\n",
    "    try:\n",
    "        r_u_evolved = self.integrate_single(r_u, n_u, 1, ret_jacobian = False)\n",
    "    except Exception as e:\n",
    "        print(f\"Error in unstable manifold integration : {e}\")\n",
    "\n",
    "    return r_s_evolved - r_u_evolved"
   ]
  },
  {
   "cell_type": "code",
   "execution_count": null,
   "metadata": {},
   "outputs": [],
   "source": [
    "eps_s = np.logspace(np.log(bounds_1[0][0]) / np.log(manifold.lambda_s), \n",
    "            np.log(bounds_1[0][1]) / np.log(manifold.lambda_s),\n",
    "            40, base=manifold.lambda_s)\n",
    "\n",
    "eps_u = np.logspace(np.log(bounds_1[1][0]) / np.log(manifold.lambda_u), \n",
    "            np.log(bounds_1[1][1]) / np.log(manifold.lambda_u),\n",
    "            40, base=manifold.lambda_u)\n",
    "\n",
    "es, eu = np.meshgrid(eps_s, eps_u)"
   ]
  },
  {
   "cell_type": "code",
   "execution_count": null,
   "metadata": {},
   "outputs": [],
   "source": [
    "E = np.array([evolution(manifold, [S, U]) for S, U in zip(es.flatten(), eu.flatten())]).reshape(es.shape + (2,))"
   ]
  },
  {
   "cell_type": "code",
   "execution_count": null,
   "metadata": {},
   "outputs": [],
   "source": [
    "np.linalg.norm(E[3,2,:])"
   ]
  },
  {
   "cell_type": "code",
   "execution_count": null,
   "metadata": {},
   "outputs": [],
   "source": [
    "N[3,2]"
   ]
  },
  {
   "cell_type": "code",
   "execution_count": null,
   "metadata": {},
   "outputs": [],
   "source": [
    "N = np.linalg.norm(E, axis=-1)"
   ]
  },
  {
   "cell_type": "code",
   "execution_count": null,
   "metadata": {},
   "outputs": [],
   "source": [
    "from mpl_toolkits.mplot3d import Axes3D\n",
    "fig = plt.figure()\n",
    "ax = fig.add_subplot(111, projection='3d')\n",
    "\n",
    "ax.plot_surface(es, eu, N, cmap='viridis')\n",
    "\n",
    "plt.show()"
   ]
  },
  {
   "cell_type": "code",
   "execution_count": null,
   "metadata": {},
   "outputs": [],
   "source": [
    "np.save(\"datas/0002-stables_eps\",es)\n",
    "np.save(\"datas/0002-unstables_eps\", eu)\n",
    "np.save(\"datas/0002-elevation\", E)\n",
    "np.save(\"datas/0002-norm\", N)"
   ]
  },
  {
   "cell_type": "code",
   "execution_count": null,
   "metadata": {},
   "outputs": [],
   "source": [
    "eps_s_lb = manifold.find_epsilon(manifold.rfp_s, manifold.vector_s, direction=-1)\n",
    "eps_u_lb = manifold.find_epsilon(manifold.rfp_u, manifold.vector_u)\n",
    "\n",
    "bounds = manifold.find_bounds(eps_s_lb, eps_u_lb)\n",
    "\n",
    "n_s, n_u = manifold.find_N(eps_s_lb, eps_u_lb)\n",
    "print(n_s, n_u)"
   ]
  },
  {
   "cell_type": "code",
   "execution_count": null,
   "metadata": {},
   "outputs": [],
   "source": [
    "space_u = np.logspace(\n",
    "            np.log(bounds[1][0]) / np.log(manifold.lambda_u),\n",
    "            np.log(bounds[1][1]) / np.log(manifold.lambda_u),\n",
    "            20,\n",
    "            base=manifold.lambda_u,\n",
    "        )\n",
    "\n",
    "space_s = np.logspace(\n",
    "            np.log(bounds[0][0]) / np.log(manifold.lambda_s),\n",
    "            np.log(bounds[0][1]) / np.log(manifold.lambda_s),\n",
    "            20,\n",
    "            base=manifold.lambda_s,\n",
    "        )"
   ]
  },
  {
   "cell_type": "code",
   "execution_count": null,
   "metadata": {},
   "outputs": [],
   "source": [
    "n_s, n_u = 6, 7\n",
    "def evolution(self, eps):\n",
    "    print(eps)\n",
    "    eps_s, eps_u = eps\n",
    "    r_s = self.rfp_s + eps_s * self.vector_s\n",
    "    r_u = self.rfp_u + eps_u * self.vector_u\n",
    "\n",
    "    try:\n",
    "        r_s_evolved = self.integrate_single(r_s, n_s, -1, ret_jacobian = False)\n",
    "    except Exception as e:\n",
    "        print(f\"Error in stable manifold integration : {e}\")\n",
    "\n",
    "    try:\n",
    "        r_u_evolved = self.integrate_single(r_u, n_u, 1, ret_jacobian = False)\n",
    "    except Exception as e:\n",
    "        print(f\"Error in unstable manifold integration : {e}\")\n",
    "\n",
    "    return r_s_evolved - r_u_evolved\n",
    "\n",
    "es, eu = np.meshgrid(space_s, space_u)\n",
    "E = np.array([evolution(manifold, [S, U]) for S, U in zip(es.flatten(), eu.flatten())]).reshape(es.shape + (2,))"
   ]
  },
  {
   "cell_type": "code",
   "execution_count": null,
   "metadata": {},
   "outputs": [],
   "source": [
    "N = np.linalg.norm(E, axis=2)"
   ]
  },
  {
   "cell_type": "code",
   "execution_count": null,
   "metadata": {},
   "outputs": [],
   "source": [
    "%matplotlib ipympl"
   ]
  },
  {
   "cell_type": "code",
   "execution_count": null,
   "metadata": {},
   "outputs": [],
   "source": [
    "from mpl_toolkits.mplot3d import Axes3D\n",
    "fig = plt.figure()\n",
    "\n",
    "ax = fig.add_subplot()\n",
    "contour = ax.contourf(es, eu, N)\n",
    "cbar = plt.colorbar(contour)\n",
    "\n",
    "# ax = fig.add_subplot(111, projection='3d')\n",
    "# ax.plot_surface(es, eu, N, cmap='viridis')\n",
    "\n",
    "plt.show()"
   ]
  }
 ],
 "metadata": {
  "kernelspec": {
   "display_name": "simsopt",
   "language": "python",
   "name": "python3"
  },
  "language_info": {
   "codemirror_mode": {
    "name": "ipython",
    "version": 3
   },
   "file_extension": ".py",
   "mimetype": "text/x-python",
   "name": "python",
   "nbconvert_exporter": "python",
   "pygments_lexer": "ipython3",
   "version": "3.10.13"
  }
 },
 "nbformat": 4,
 "nbformat_minor": 2
}
