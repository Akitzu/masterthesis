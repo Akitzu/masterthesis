{
 "cells": [
  {
   "cell_type": "code",
   "execution_count": 1,
   "metadata": {},
   "outputs": [],
   "source": [
    "from pyoculus.problems import AnalyticCylindricalBfield\n",
    "from pyoculus.solvers import PoincarePlot, FixedPoint, Manifold\n",
    "import matplotlib.pyplot as plt\n",
    "import numpy as np\n",
    "import pickle"
   ]
  },
  {
   "cell_type": "code",
   "execution_count": 2,
   "metadata": {},
   "outputs": [
    {
     "name": "stdout",
     "output_type": "stream",
     "text": [
      "0 - dr : 0.010422282084043258\n",
      "1 - RZ : [ 6.41409394 -0.69368043]\n",
      "1 - dr : 6.293042617255254e-06\n",
      "2 - RZ : [ 6.41409781 -0.69367863]\n",
      "2 - dr : 9.776471937205409e-12\n",
      "0 - dr : 9.776471937205409e-12\n",
      "\n",
      "Finding the X-point\n",
      "\n",
      "Initial guess: [6.21560891, -4.46981856]\n",
      "0 - [DeltaR, DeltaZ] : [0.38046432 0.30396059] - dtheta : 0.10487729978217719\n",
      "0 - [StepR, StepZ]: [-0.0229111  -0.02508285]\n",
      "1 - RZ : [ 6.19269781 -4.49490141] - rhotheta : [ 3.80766497 -1.62897501]\n",
      "1 - [DeltaR, DeltaZ] : [-0.18204545 -0.19238585] - dtheta : 0.04250251705208874\n",
      "1 - [StepR, StepZ]: [0.00314814 0.00763012]\n",
      "2 - RZ : [ 6.19584596 -4.48727128] - rhotheta : [ 3.79986567 -1.62826468]\n",
      "2 - [DeltaR, DeltaZ] : [-0.02187519 -0.03756228] - dtheta : 0.005127217976363951\n",
      "2 - [StepR, StepZ]: [ 0.00772472 -0.01071993]\n",
      "3 - RZ : [ 6.20357068 -4.49799122] - rhotheta : [ 3.81013332 -1.62607901]\n",
      "3 - [DeltaR, DeltaZ] : [0.00064998 0.00029984] - dtheta : 0.0001659980452346499\n",
      "3 - [StepR, StepZ]: [ 9.32458354e-05 -2.16309921e-04]\n",
      "4 - RZ : [ 6.20366393 -4.49820753] - rhotheta : [ 3.81034415 -1.62605144]\n",
      "4 - [DeltaR, DeltaZ] : [-2.09319259e-07 -2.64959576e-07] - dtheta : 5.101217404046565e-08\n",
      "4 - [StepR, StepZ]: [ 3.76667861e-08 -4.32940537e-08]\n",
      "5 - RZ : [ 6.20366396 -4.49820757] - rhotheta : [ 3.81034419 -1.62605143]\n",
      "5 - [DeltaR, DeltaZ] : [ 9.76996262e-15 -3.55271368e-15] - dtheta : 1.8549606295437115e-12\n"
     ]
    }
   ],
   "source": [
    "separatrix = {\"type\": \"circular-current-loop\", \"amplitude\": -10, \"R\": 6, \"Z\": -5.5}\n",
    "maxwellboltzmann = {\"m\": 6, \"n\": -1, \"d\": np.sqrt(2), \"type\": \"maxwell-boltzmann\", \"amplitude\": 0.5}\n",
    "\n",
    "# Creating the pyoculus problem object, adding the perturbation here use the R, Z provided as center point\n",
    "pyoproblem = AnalyticCylindricalBfield.without_axis(\n",
    "    6,\n",
    "    0,\n",
    "    0.91,\n",
    "    0.6,\n",
    "    perturbations_args=[separatrix],\n",
    "    Rbegin=1,\n",
    "    Rend=8,\n",
    "    niter=800,\n",
    "    guess=[6.41, -0.7],\n",
    "    tol=1e-9,\n",
    ")\n",
    "\n",
    "# # Adding perturbation after the object is created uses the found axis as center point\n",
    "pyoproblem.add_perturbation(maxwellboltzmann)\n",
    "\n",
    "### Finding the X-point\n",
    "print(\"\\nFinding the X-point\\n\")\n",
    "\n",
    "# set up the integrator for the FixedPoint\n",
    "iparams = dict()\n",
    "iparams[\"rtol\"] = 1e-13\n",
    "\n",
    "pparams = dict()\n",
    "pparams[\"nrestart\"] = 0\n",
    "pparams[\"niter\"] = 300\n",
    "\n",
    "# set up the FixedPoint object\n",
    "fixedpoint = FixedPoint(pyoproblem, pparams, integrator_params=iparams)\n",
    "\n",
    "# find the X-point\n",
    "guess = [6.21560891, -4.46981856]\n",
    "print(f\"Initial guess: {guess}\")\n",
    "\n",
    "fixedpoint.compute(guess=guess, pp=0, qq=1, sbegin=4, send=9, tol=1e-10)\n",
    "\n",
    "if fixedpoint.successful:\n",
    "    results = [list(p) for p in zip(fixedpoint.x, fixedpoint.y, fixedpoint.z)]\n",
    "else:\n",
    "    raise ValueError(\"X-point not found\")\n",
    "\n",
    "# Set up the manifold\n",
    "iparams = dict()\n",
    "iparams[\"rtol\"] = 1e-13\n",
    "manifold = Manifold(fixedpoint, pyoproblem, integrator_params=iparams)\n",
    "\n",
    "# Choose the tangles to work with\n",
    "manifold.choose(0, 0)"
   ]
  },
  {
   "cell_type": "code",
   "execution_count": null,
   "metadata": {},
   "outputs": [],
   "source": [
    "fig = pickle.load(open(\"manifold_05131749.pkl\", \"rb\"))\n",
    "ax = fig.gca()"
   ]
  },
  {
   "cell_type": "code",
   "execution_count": null,
   "metadata": {},
   "outputs": [],
   "source": [
    "eps_s_1, eps_u_1 = manifold.find_homoclinic()\n",
    "bounds_1 = manifold.find_bounds(eps_s_1, eps_u_1)"
   ]
  },
  {
   "cell_type": "code",
   "execution_count": null,
   "metadata": {},
   "outputs": [],
   "source": [
    "bounds_i = np.array(bounds_1)\n",
    "bounds_i[0][0] = manifold.clinics[-1][1]\n",
    "bounds_i[1][1] = manifold.clinics[-1][2]\n",
    "bounds_i = (tuple(bounds_i[0]), tuple(bounds_i[1]))"
   ]
  },
  {
   "cell_type": "code",
   "execution_count": null,
   "metadata": {},
   "outputs": [],
   "source": [
    "bounds_1"
   ]
  },
  {
   "cell_type": "code",
   "execution_count": null,
   "metadata": {},
   "outputs": [],
   "source": [
    "bounds_i"
   ]
  },
  {
   "cell_type": "code",
   "execution_count": null,
   "metadata": {},
   "outputs": [],
   "source": [
    "# i = 1\n",
    "fund = manifold.fundamental_segment\n",
    "# guess_i = [bounds_1[0][1]*np.power(manifold.lambda_s, 5/6), bounds_1[1][0]*np.power(manifold.lambda_u, 5/6)]\n",
    "guess_i = [bounds_1[0][1]*np.power(manifold.lambda_s, 1/2), bounds_1[1][0]*np.power(manifold.lambda_u, 1/2)]\n",
    "print(f\"initial guess: {guess_i}\")"
   ]
  },
  {
   "cell_type": "code",
   "execution_count": null,
   "metadata": {},
   "outputs": [],
   "source": [
    "eps_s_i, eps_u_i = manifold.find_homoclinic(*guess_i, bounds = bounds_i, n_s=7, n_u=5, options={\"factor\": 0.1})"
   ]
  },
  {
   "cell_type": "code",
   "execution_count": 3,
   "metadata": {},
   "outputs": [
    {
     "name": "stdout",
     "output_type": "stream",
     "text": [
      "2024-05-22 17:48:41 [info     ] Search for minimum of the linear error succeeded, epsilon = 2.05960e-07\n",
      "2024-05-22 17:48:41 [info     ] Search for minimum of the linear error succeeded, epsilon = 3.00363e-07\n",
      "2024-05-22 17:48:41 [debug    ] Guess - 2.841422693592067e-06, 4.1438140663202e-06\n",
      "2024-05-22 17:48:41 [debug    ] Bounds - ((2.059596983864675e-07, 5.888805085570602e-06), (3.003634794400747e-07, 8.587991612080473e-06))\n",
      "2024-05-22 17:48:41 [debug    ] n_s, n_u - 7, 6\n",
      "2024-05-22 17:48:41 [debug    ] Inside : (2.8414226935920685e-06, 4.1438140663202e-06)\n",
      "2024-05-22 17:48:41 [debug    ] Returns - (array([ 8.6620776 , -0.24890767]), array([5.22138836, 1.74885734]), array([ 3.44068923, -1.99776501]))\n",
      "2024-05-22 17:48:41 [debug    ] Inside : (2.8414226935920685e-06, 4.1438140663202e-06)\n",
      "2024-05-22 17:48:41 [debug    ] Returns - (array([ 8.6620776 , -0.24890767]), array([5.22138836, 1.74885734]), array([ 3.44068923, -1.99776501]))\n",
      "2024-05-22 17:48:41 [debug    ] Inside : (2.8414226935920685e-06, 4.1438140663202e-06)\n",
      "2024-05-22 17:48:42 [debug    ] Returns - (array([ 8.6620776 , -0.24890767]), array([5.22138836, 1.74885734]), array([ 3.44068923, -1.99776501]))\n",
      "2024-05-22 17:48:42 [debug    ] Inside : (2.8414232343313227e-06, 4.1438140663202e-06)\n",
      "2024-05-22 17:48:42 [debug    ] Returns - (array([ 8.66207759, -0.24890814]), array([5.22138836, 1.74885734]), array([ 3.44068923, -1.99776548]))\n",
      "2024-05-22 17:48:42 [debug    ] Inside : (2.8414226935920685e-06, 4.14381483161399e-06)\n",
      "2024-05-22 17:48:42 [debug    ] Returns - (array([ 8.6620776 , -0.24890767]), array([5.22138819, 1.74885724]), array([ 3.44068941, -1.99776492]))\n",
      "2024-05-22 17:48:42 [debug    ] Inside : (5.917764216938143e-07, 1.0794558199334977e-07)\n",
      "2024-05-22 17:48:42 [debug    ] Returns - (array([5.77335713, 2.31065823]), array([ 8.70729375, -0.78239476]), array([-2.93393662,  3.09305299]))\n",
      "2024-05-22 17:48:42 [debug    ] Inside : (1.5110721060100006e-06, 5.02604650955629e-07)\n",
      "2024-05-22 17:48:42 [debug    ] Returns - (array([7.56853447, 1.74199214]), array([8.22674055, 1.27257611]), array([-0.65820607,  0.46941603]))\n",
      "2024-05-22 17:48:42 [debug    ] Inside : (1.7067083049745662e-06, 6.941536049246013e-07)\n",
      "2024-05-22 17:48:42 [debug    ] Returns - (array([7.95883864, 1.37150819]), array([7.84995168, 1.60740793]), array([ 0.10888696, -0.23589974]))\n",
      "2024-05-22 17:48:42 [debug    ] Inside : (1.6218989207470898e-06, 6.836754351067343e-07)\n",
      "2024-05-22 17:48:43 [debug    ] Returns - (array([7.79849719, 1.52940217]), array([7.86955359, 1.59240608]), array([-0.07105639, -0.06300391]))\n",
      "2024-05-22 17:48:43 [debug    ] Inside : (1.572781620957289e-06, 7.465778203076905e-07)\n",
      "2024-05-22 17:48:43 [debug    ] Returns - (array([7.69942168, 1.62308893]), array([7.75376846, 1.67823286]), array([-0.05434678, -0.05514393]))\n",
      "2024-05-22 17:48:43 [debug    ] Inside : (1.3491584140783296e-06, 1.1353945816937874e-06)\n",
      "2024-05-22 17:48:43 [debug    ] Returns - (array([7.19141718, 2.0386013 ]), array([7.12506804, 2.03173991]), array([0.06634914, 0.00686139]))\n",
      "2024-05-22 17:48:43 [debug    ] Inside : (1.419112464644845e-06, 9.721976126277173e-07)\n",
      "2024-05-22 17:48:43 [debug    ] Returns - (array([7.36004698, 1.91590851]), array([7.37245341, 1.91640415]), array([-0.01240643, -0.00049564]))\n",
      "2024-05-22 17:48:43 [debug    ] Inside : (1.4088783202908195e-06, 9.947355513317477e-07)\n",
      "2024-05-22 17:48:43 [debug    ] Returns - (array([7.33587648, 1.93456111]), array([7.33695786, 1.93497746]), array([-0.00108138, -0.00041635]))\n",
      "2024-05-22 17:48:43 [debug    ] Inside : (1.407194643252627e-06, 9.980113792072348e-07)\n",
      "2024-05-22 17:48:43 [debug    ] Returns - (array([7.33188254, 1.93761009]), array([7.33183495, 1.93760384]), array([4.75844757e-05, 6.24970475e-06]))\n",
      "2024-05-22 17:48:43 [debug    ] Inside : (1.4072460176135015e-06, 9.979029870112991e-07)\n",
      "2024-05-22 17:48:43 [debug    ] Returns - (array([7.33200447, 1.93751714]), array([7.33200431, 1.93751723]), array([ 1.62900455e-07, -9.18406637e-08]))\n",
      "2024-05-22 17:48:43 [debug    ] Inside : (1.4072460020294764e-06, 9.979029087331443e-07)\n",
      "2024-05-22 17:48:43 [debug    ] Returns - (array([7.33200443, 1.93751717]), array([7.33200444, 1.93751717]), array([-1.71694925e-09,  2.28740449e-09]))\n",
      "2024-05-22 17:48:43 [info     ] Root finding status : The solution converged.\n",
      "2024-05-22 17:48:43 [debug    ] Root finding object :  message: The solution converged.\n",
      " success: True\n",
      "  status: 1\n",
      "     fun: [-1.717e-09  2.287e-09]\n",
      "       x: [-1.347e+01 -1.382e+01]\n",
      "  method: hybr\n",
      "    nfev: 14\n",
      "    fjac: [[ 8.002e-01 -5.997e-01]\n",
      "           [ 5.997e-01  8.002e-01]]\n",
      "       r: [ 4.294e+00  1.758e+00  3.086e-01]\n",
      "     qtf: [ 1.854e-07  2.420e-08]\n",
      "2024-05-22 17:48:43 [info     ] Eps_s : 1.407e-06, Eps_u : 9.979e-07 gives a difference in endpoint [R,Z] : [-1.71694925e-09  2.28740449e-09]\n",
      "2024-05-22 17:48:44 [info     ] Initial guess: [7.524551851375703e-06, 5.335950589689737e-06]\n",
      "2024-05-22 17:48:44 [debug    ] Guess - 7.524551851375703e-06, 5.335950589689737e-06\n",
      "2024-05-22 17:48:44 [debug    ] Bounds - ((1.4072460020294764e-06, 4.0235013383670335e-05), (9.979029087331443e-07, 9.979029087331443e-07))\n",
      "2024-05-22 17:48:44 [debug    ] n_s, n_u - 7, 5\n",
      "2024-05-22 17:48:44 [debug    ] Inside : (7.5245518513757005e-06, 5.335950589689735e-06)\n",
      "2024-05-22 17:48:44 [debug    ] Returns - (array([ 8.76519668, -0.96953821]), array([ 8.7297589 , -0.00912402]), array([ 0.03543777, -0.9604142 ]))\n",
      "2024-05-22 17:48:44 [debug    ] Inside : (7.5245518513757005e-06, 5.335950589689735e-06)\n",
      "2024-05-22 17:48:44 [debug    ] Returns - (array([ 8.76519668, -0.96953821]), array([ 8.7297589 , -0.00912402]), array([ 0.03543777, -0.9604142 ]))\n",
      "2024-05-22 17:48:44 [debug    ] Inside : (7.5245518513757005e-06, 5.335950589689735e-06)\n",
      "2024-05-22 17:48:44 [debug    ] Returns - (array([ 8.76519668, -0.96953821]), array([ 8.7297589 , -0.00912402]), array([ 0.03543777, -0.9604142 ]))\n",
      "2024-05-22 17:48:44 [debug    ] Inside : (7.524553174147298e-06, 5.335950589689735e-06)\n",
      "2024-05-22 17:48:44 [debug    ] Returns - (array([ 8.76519672, -0.96953813]), array([ 8.7297589 , -0.00912402]), array([ 0.03543782, -0.96041411]))\n",
      "2024-05-22 17:48:44 [debug    ] Inside : (7.5245518513757005e-06, 5.335951555046776e-06)\n",
      "2024-05-22 17:48:44 [debug    ] Returns - (array([ 8.76519668, -0.96953821]), array([ 8.7297589 , -0.00912376]), array([ 0.03543777, -0.96041445]))\n",
      "2024-05-22 17:48:44 [debug    ] Inside : (7.004542312854292e-06, 2.6452121539817582e-06)\n",
      "2024-05-22 17:48:45 [debug    ] Returns - (array([ 8.74746196, -0.99941087]), array([ 8.70734255, -1.00046801]), array([0.04011941, 0.00105714]))\n",
      "2024-05-22 17:48:45 [debug    ] Inside : (5.93961885028115e-06, 2.505243655217115e-06)\n",
      "2024-05-22 17:48:45 [debug    ] Returns - (array([ 8.71155944, -1.03178385]), array([ 8.70768893, -1.07782126]), array([0.00387052, 0.04603741]))\n",
      "2024-05-22 17:48:45 [debug    ] Inside : (5.881961035750197e-06, 2.5663670055890366e-06)\n",
      "2024-05-22 17:48:45 [debug    ] Returns - (array([ 8.70968407, -1.03189387]), array([ 8.70756261, -1.04349061]), array([0.00212146, 0.01159674]))\n",
      "2024-05-22 17:48:45 [debug    ] Inside : (5.838030730708976e-06, 2.5797978023291787e-06)\n",
      "2024-05-22 17:48:45 [debug    ] Returns - (array([ 8.70826305, -1.03183029]), array([ 8.70752797, -1.03606342]), array([0.00073507, 0.00423314]))\n",
      "2024-05-22 17:48:45 [debug    ] Inside : (5.814626021269543e-06, 2.5876312963511583e-06)\n",
      "2024-05-22 17:48:45 [debug    ] Returns - (array([ 8.70750888, -1.03174279]), array([ 8.707507  , -1.03175048]), array([1.87756141e-06, 7.68592262e-06]))\n",
      "2024-05-22 17:48:45 [debug    ] Inside : (5.814568588645111e-06, 2.587644858690377e-06)\n",
      "2024-05-22 17:48:46 [debug    ] Returns - (array([ 8.70750703, -1.03174253]), array([ 8.70750696, -1.03174303]), array([6.61754669e-08, 4.93592745e-07]))\n",
      "2024-05-22 17:48:46 [info     ] Root finding status : The solution converged.\n",
      "2024-05-22 17:48:46 [debug    ] Root finding object :  message: The solution converged.\n",
      " success: True\n",
      "  status: 1\n",
      "     fun: [ 6.618e-08  4.936e-07]\n",
      "       x: [-1.206e+01 -1.286e+01]\n",
      "  method: hybr\n",
      "    nfev: 9\n",
      "    fjac: [[-8.479e-01 -5.301e-01]\n",
      "           [ 5.301e-01 -8.479e-01]]\n",
      "       r: [-2.453e-01  6.188e-01  1.054e+00]\n",
      "     qtf: [-5.666e-06 -5.522e-06]\n",
      "2024-05-22 17:48:46 [info     ] Eps_s : 5.815e-06, Eps_u : 2.588e-06 gives a difference in endpoint [R,Z] : [6.61754669e-08 4.93592745e-07]\n"
     ]
    }
   ],
   "source": [
    "manifold.find_clinics(n_points=2, tol=1e-6)\n",
    "manifold.order()"
   ]
  },
  {
   "cell_type": "code",
   "execution_count": 4,
   "metadata": {},
   "outputs": [
    {
     "name": "stdout",
     "output_type": "stream",
     "text": [
      "2024-05-22 17:48:53 [info     ] Forward integration goes beyond stable saddle point.\n",
      "2024-05-22 17:48:53 [debug    ] rfp: [ 6.20366396 -4.49820757], rz_end: [ 6.20361761 -4.49824962], rz: [ 6.20366165 -4.49820782]\n",
      "2024-05-22 17:48:54 [info     ] Backward integration goes beyond stable saddle point.\n",
      "2024-05-22 17:48:54 [debug    ] rfp: [ 6.20366396 -4.49820757], rz_end: [ 6.20365991 -4.49820038], rz: [ 6.20366456 -4.49820665]\n",
      "2024-05-22 17:48:54 [info     ] Potential integration completed for homo/hetero-clinic point of order : 9.979e-07\n",
      "2024-05-22 17:48:54 [info     ] Forward integration goes beyond stable saddle point.\n",
      "2024-05-22 17:48:54 [debug    ] rfp: [ 6.20366396 -4.49820757], rz_end: [ 6.2035725  -4.49829066], rz: [ 6.20366066 -4.4982103 ]\n",
      "2024-05-22 17:48:54 [info     ] Backward integration goes beyond stable saddle point.\n",
      "2024-05-22 17:48:54 [debug    ] rfp: [ 6.20366396 -4.49820757], rz_end: [ 6.20366772 -4.49821418], rz: [ 6.20366416 -4.49820774]\n",
      "2024-05-22 17:48:54 [info     ] Potential integration completed for homo/hetero-clinic point of order : 2.588e-06\n"
     ]
    },
    {
     "data": {
      "text/plain": [
       "(array([ 1.85531923, -1.85531923]),\n",
       " [[array([-14.36038823,   4.51808968, -19.8946102 ,   2.25619221,\n",
       "           11.87700978,  12.40673787,  12.42571079]),\n",
       "   array([  1.15664594,  28.97561846,  -0.8736151 , -11.84123443,\n",
       "          -12.40552216, -12.42560757])],\n",
       "  [array([ -9.53345766,  -2.97013097, -12.7710893 ,  -8.56856494,\n",
       "           10.29454014,  12.34552231,  12.42350996,  12.42635225]),\n",
       "   array([ 22.72298733,   8.17294405, -10.95023577, -12.37241051,\n",
       "          -12.42445204, -12.42627951])]],\n",
       " [[[array([3.9907224 , 0.66340198]),\n",
       "    array([ 4.46536617, -2.25323211]),\n",
       "    array([ 5.87095146, -4.00637149]),\n",
       "    array([ 6.18764011, -4.47039472]),\n",
       "    array([ 6.20309556, -4.49720851]),\n",
       "    array([ 6.20364402, -4.49817265]),\n",
       "    array([ 6.20366165, -4.49820782])],\n",
       "   [array([ 8.43741136, -2.30709314]),\n",
       "    array([ 6.57630221, -4.18311605]),\n",
       "    array([ 6.2207122 , -4.48279917]),\n",
       "    array([ 6.20426753, -4.49765936]),\n",
       "    array([ 6.20368508, -4.49818838]),\n",
       "    array([ 6.20366456, -4.49820665])]],\n",
       "  [[array([5.7703739 , 2.02371341]),\n",
       "    array([ 4.10992968, -0.94713605]),\n",
       "    array([ 5.39771717, -3.42014466]),\n",
       "    array([ 6.14033531, -4.39200394]),\n",
       "    array([ 6.20131917, -4.49409232]),\n",
       "    array([ 6.20358178, -4.49806308]),\n",
       "    array([ 6.20366098, -4.49820262]),\n",
       "    array([ 6.20366066, -4.4982103 ])],\n",
       "   [array([ 6.93382355, -3.88953584]),\n",
       "    array([ 6.2470164 , -4.45931721]),\n",
       "    array([ 6.20522794, -4.49678745]),\n",
       "    array([ 6.20371872, -4.49815782]),\n",
       "    array([ 6.20366588, -4.49820584]),\n",
       "    array([ 6.20366416, -4.49820774])]]])"
      ]
     },
     "execution_count": 4,
     "metadata": {},
     "output_type": "execute_result"
    }
   ],
   "source": [
    "manifold.resonance_area()"
   ]
  },
  {
   "cell_type": "code",
   "execution_count": 5,
   "metadata": {},
   "outputs": [
    {
     "data": {
      "text/plain": [
       "array([[ 1.85531923e+00,  1.31340775e-03,  3.81710285e-05],\n",
       "       [-1.85531923e+00,  1.31340775e-03,  3.81710285e-05]])"
      ]
     },
     "execution_count": 5,
     "metadata": {},
     "output_type": "execute_result"
    }
   ],
   "source": [
    "manifold.areas"
   ]
  },
  {
   "cell_type": "code",
   "execution_count": 3,
   "metadata": {},
   "outputs": [
    {
     "name": "stdout",
     "output_type": "stream",
     "text": [
      "2024-05-22 13:09:43 [debug    ] Guess - 2.179774577375764e-07, 3.84907705931755e-06\n",
      "2024-05-22 13:09:43 [debug    ] Bounds - ((2.179774577375764e-07, 6.233109701299461e-06), (3.84907705931755e-06, 0.00011005805429358986))\n",
      "2024-05-22 13:09:43 [debug    ] n_s, n_u - 7, 6\n",
      "2024-05-22 13:09:43 [debug    ] Inside : (2.179774577375764e-07, 3.84907705931755e-06)\n",
      "2024-05-22 13:09:45 [debug    ] Returns - (array([5.41601047, 1.96063451]), array([5.41601048, 1.96063451]), array([-1.12521814e-09, -1.59716684e-10]))\n",
      "2024-05-22 13:09:45 [debug    ] Inside : (2.179774598991796e-07, 3.849077055417897e-06)\n",
      "2024-05-22 13:09:46 [debug    ] Returns - (array([5.41601049, 1.96063451]), array([5.41601048, 1.96063451]), array([1.43470427e-08, 7.52905649e-09]))\n",
      "2024-05-22 13:09:46 [info     ] Root finding status : The solution converged.\n",
      "2024-05-22 13:09:46 [debug    ] Root finding object :  message: The solution converged.\n",
      " success: True\n",
      "  status: 1\n",
      "     fun: [-1.125e-09 -1.597e-10]\n",
      "       x: [-1.534e+01 -1.247e+01]\n",
      "  method: hybr\n",
      "    nfev: 2\n",
      "    njev: 1\n",
      "    fjac: [[-9.977e-01 -6.737e-02]\n",
      "           [ 6.737e-02 -9.977e-01]]\n",
      "       r: [-9.591e-01 -8.269e+00  8.246e-02]\n",
      "     qtf: [ 1.133e-09  8.355e-11]\n",
      "2024-05-22 13:09:46 [info     ] Eps_s : 2.180e-07, Eps_u : 3.849e-06 gives a difference in endpoint [R,Z] : [-1.12521814e-09 -1.59716684e-10]\n",
      "2024-05-22 13:09:47 [debug    ] Guess - 1.2560522331587575e-06, 2.388481018696467e-05\n",
      "2024-05-22 13:09:47 [debug    ] Bounds - ((1.2560522331587575e-06, 3.59162982264753e-05), (2.388481018696467e-05, 0.0006826999113674998))\n",
      "2024-05-22 13:09:47 [debug    ] n_s, n_u - 7, 5\n",
      "2024-05-22 13:09:47 [debug    ] Inside : (1.2560522331587575e-06, 2.388481018696467e-05)\n",
      "2024-05-22 13:09:48 [debug    ] Returns - (array([7.52275414, 1.80967461]), array([7.52275414, 1.80967461]), array([ 1.45970347e-10, -1.55602198e-10]))\n",
      "2024-05-22 13:09:48 [debug    ] Inside : (1.2560522637985923e-06, 2.3884810233449364e-05)\n",
      "2024-05-22 13:09:49 [debug    ] Returns - (array([7.52275417, 1.80967458]), array([7.52275413, 1.80967461]), array([ 3.97359390e-08, -2.61824322e-08]))\n",
      "2024-05-22 13:09:49 [info     ] Root finding status : The solution converged.\n",
      "2024-05-22 13:09:49 [debug    ] Root finding object :  message: The solution converged.\n",
      " success: True\n",
      "  status: 1\n",
      "     fun: [ 1.460e-10 -1.556e-10]\n",
      "       x: [-1.359e+01 -1.064e+01]\n",
      "  method: hybr\n",
      "    nfev: 2\n",
      "    njev: 1\n",
      "    fjac: [[-9.990e-01 -4.373e-02]\n",
      "           [ 4.373e-02 -9.990e-01]]\n",
      "       r: [-1.602e+00  2.015e+01 -8.316e-02]\n",
      "     qtf: [-1.390e-10  1.618e-10]\n",
      "2024-05-22 13:09:49 [info     ] Eps_s : 1.256e-06, Eps_u : 2.388e-05 gives a difference in endpoint [R,Z] : [ 1.45970347e-10 -1.55602198e-10]\n"
     ]
    }
   ],
   "source": [
    "manifold.find_homoclinic(2.179774577375764e-07, 3.84907705931755e-06, n_s=7, n_u=6)\n",
    "manifold.find_homoclinic(1.2560522331587575e-06, 2.388481018696467e-05, n_s=7, n_u=5)\n",
    "\n",
    "manifold.order()"
   ]
  },
  {
   "cell_type": "code",
   "execution_count": null,
   "metadata": {},
   "outputs": [],
   "source": [
    "manifold.clinics"
   ]
  },
  {
   "cell_type": "code",
   "execution_count": null,
   "metadata": {},
   "outputs": [],
   "source": [
    "marker = [\"X\", \"o\", \"s\", \"p\", \"P\", \"*\", \"x\", \"D\", \"d\", \"^\", \"v\", \"<\", \">\"]\n",
    "for i, clinic in enumerate(manifold.clinics):\n",
    "    eps_s_i, eps_u_i = clinic[1:3]\n",
    "\n",
    "    n_s, n_u = 10, 10\n",
    "    \n",
    "    hs_i = manifold.integrate(manifold.rfp_s + eps_s_i * manifold.vector_s, n_s, -1)\n",
    "    hu_i = manifold.integrate(manifold.rfp_u + eps_u_i * manifold.vector_u, n_u, 1)\n",
    "    # ax.scatter(hs_i[0,:], hs_i[1,:], marker=marker[i], color=\"purple\", zorder=10)\n",
    "    ax.scatter(hu_i[0,:], hu_i[1,:], marker=marker[i], color=\"royalblue\", edgecolor='cyan', zorder=10, label=f'$h_{i+1}$')"
   ]
  },
  {
   "cell_type": "code",
   "execution_count": null,
   "metadata": {},
   "outputs": [],
   "source": [
    "fig.set_size_inches(12, 12)\n",
    "ax.set_xlim(3.5, 9.2)\n",
    "ax.set_ylim(-6, 2.5)\n",
    "ax.set_title('')\n",
    "ax.set_xlabel(r'R [m]')\n",
    "ax.set_ylabel(r'Z [m]')\n",
    "\n",
    "ax.legend()\n",
    "\n",
    "\n",
    "fig"
   ]
  },
  {
   "cell_type": "code",
   "execution_count": null,
   "metadata": {},
   "outputs": [],
   "source": [
    "pickle.dump(fig, open(\"perturbed-6-1-0.1-general.pkl\", \"wb\"))"
   ]
  },
  {
   "cell_type": "code",
   "execution_count": null,
   "metadata": {},
   "outputs": [],
   "source": [
    "eps_s, eps_u = manifold.fundamental_segment\n",
    "eps_s, eps_u = eps_s[0], eps_u[0]"
   ]
  },
  {
   "cell_type": "code",
   "execution_count": null,
   "metadata": {},
   "outputs": [],
   "source": [
    "manifold.compute(eps_s=eps_s, eps_u=eps_u, neps=40)"
   ]
  },
  {
   "cell_type": "code",
   "execution_count": null,
   "metadata": {},
   "outputs": [],
   "source": [
    "rh = manifold.integrate_single(manifold.rfp_u + manifold.clinics[1][0]*manifold.vector_u, 3, 1, ret_jacobian=False)"
   ]
  },
  {
   "cell_type": "code",
   "execution_count": null,
   "metadata": {},
   "outputs": [],
   "source": [
    "default = {\n",
    "    \"markersize\": 2,\n",
    "    \"fmt\": \"-x\",\n",
    "    \"colors\": [\"red\", \"blue\"],\n",
    "}\n",
    "\n",
    "area_calc = []\n",
    "dirdict = [manifold.unstable[\"+\"], manifold.stable[\"+\"]]\n",
    "\n",
    "for i, out in enumerate(dirdict):\n",
    "    tmpcolor = default[\"colors\"][i]\n",
    "    \n",
    "    if i == 0:\n",
    "        area_calc.append(out[44:80, 3])\n",
    "        out = out[44:80, 3]\n",
    "    else:\n",
    "        area_calc.append(out[:42, 9])\n",
    "        out = out[:42, 9]\n",
    "\n",
    "    out = out.T.flatten()\n",
    "\n",
    "    if i==0:\n",
    "        out = np.concatenate((rh, out))\n",
    "    else:\n",
    "        out = np.concatenate((out, rh))\n",
    "\n",
    "    ax.plot(\n",
    "        out[::2],\n",
    "        out[1::2],\n",
    "        default[\"fmt\"],\n",
    "        color='black',\n",
    "        markersize=6,\n",
    "        linewidth=2\n",
    "    )"
   ]
  },
  {
   "cell_type": "code",
   "execution_count": null,
   "metadata": {},
   "outputs": [],
   "source": [
    "path1 = area_calc[0].reshape(-1,2)\n",
    "path2 = area_calc[1].reshape(-1,2)\n",
    "\n",
    "path1 = np.vstack((rh, path1))\n",
    "path2 = np.vstack((path2, rh))"
   ]
  },
  {
   "cell_type": "code",
   "execution_count": null,
   "metadata": {},
   "outputs": [],
   "source": [
    "path1.T"
   ]
  },
  {
   "cell_type": "code",
   "execution_count": null,
   "metadata": {},
   "outputs": [],
   "source": [
    "path2.T"
   ]
  },
  {
   "cell_type": "code",
   "execution_count": null,
   "metadata": {},
   "outputs": [],
   "source": [
    "# Concatenate the paths to form a loop\n",
    "loop = np.vstack((path1[1:], path2[1:]))\n",
    "\n",
    "x = loop[:, 0]\n",
    "y = loop[:, 1]\n",
    "area = 0.5*np.abs(np.dot(x, np.roll(y, 1)) - np.dot(y, np.roll(x, 1)))"
   ]
  },
  {
   "cell_type": "code",
   "execution_count": null,
   "metadata": {},
   "outputs": [],
   "source": [
    "ax.scatter(6.7913, -4.0464, color='black', label='$B^\\phi$ evaluation point')"
   ]
  },
  {
   "cell_type": "code",
   "execution_count": null,
   "metadata": {},
   "outputs": [],
   "source": [
    "ax.legend()\n",
    "ax.set_xlim(6, 7.3)\n",
    "ax.set_ylim(-4.6, -3.6)\n",
    "fig"
   ]
  },
  {
   "cell_type": "code",
   "execution_count": null,
   "metadata": {},
   "outputs": [],
   "source": [
    "pickle.dump(fig, open(\"perturbed-6-1-0.1-closeup.pkl\", \"wb\"))"
   ]
  },
  {
   "cell_type": "code",
   "execution_count": null,
   "metadata": {},
   "outputs": [],
   "source": [
    "pyoproblem.B([6.7913, 0., -4.0464])"
   ]
  },
  {
   "cell_type": "code",
   "execution_count": null,
   "metadata": {},
   "outputs": [],
   "source": [
    "flux1 = area * pyoproblem.B([6.7913, 0., -4.0464])[1] * 6.7913\n",
    "flux1"
   ]
  },
  {
   "cell_type": "markdown",
   "metadata": {},
   "source": [
    "#### Area by computation"
   ]
  },
  {
   "cell_type": "code",
   "execution_count": 4,
   "metadata": {},
   "outputs": [
    {
     "name": "stdout",
     "output_type": "stream",
     "text": [
      "2024-05-22 13:09:51 [info     ] Forward integration goes beyond stable saddle point.\n",
      "2024-05-22 13:09:51 [debug    ] rfp: [ 6.20363263 -4.49636071], rz_end: [ 6.2036283  -4.49636463], rz: [ 6.20363237 -4.49636066]\n",
      "2024-05-22 13:09:51 [info     ] Backward integration goes beyond stable saddle point.\n",
      "2024-05-22 13:09:51 [debug    ] rfp: [ 6.20363263 -4.49636071], rz_end: [ 6.20364463 -4.49638169], rz: [ 6.20363315 -4.49636135]\n",
      "2024-05-22 13:09:51 [info     ] Potential integration completed for homo/hetero-clinic point of order : 3.849e-06\n",
      "2024-05-22 13:09:51 [info     ] Forward integration goes beyond stable saddle point.\n",
      "2024-05-22 13:09:51 [debug    ] rfp: [ 6.20363263 -4.49636071], rz_end: [ 6.20363013 -4.49636292], rz: [ 6.20363192 -4.4963597 ]\n",
      "2024-05-22 13:09:51 [info     ] Backward integration goes beyond stable saddle point.\n",
      "2024-05-22 13:09:51 [debug    ] rfp: [ 6.20363263 -4.49636071], rz_end: [ 6.20363578 -4.49636621], rz: [ 6.20363276 -4.49636088]\n",
      "2024-05-22 13:09:51 [info     ] Potential integration completed for homo/hetero-clinic point of order : 2.388e-05\n"
     ]
    }
   ],
   "source": [
    "areas, potential_integrations, history = manifold.resonance_area()"
   ]
  },
  {
   "cell_type": "code",
   "execution_count": 5,
   "metadata": {},
   "outputs": [
    {
     "data": {
      "text/plain": [
       "array([-0.38894751,  0.38894751])"
      ]
     },
     "execution_count": 5,
     "metadata": {},
     "output_type": "execute_result"
    }
   ],
   "source": [
    "areas"
   ]
  },
  {
   "cell_type": "code",
   "execution_count": 6,
   "metadata": {},
   "outputs": [
    {
     "data": {
      "text/plain": [
       "array([[-3.88947513e-01,  5.76281936e-04,  2.99349844e-05],\n",
       "       [ 3.88947513e-01,  5.76281936e-04,  2.99349844e-05]])"
      ]
     },
     "execution_count": 6,
     "metadata": {},
     "output_type": "execute_result"
    }
   ],
   "source": [
    "manifold.areas"
   ]
  },
  {
   "cell_type": "code",
   "execution_count": null,
   "metadata": {},
   "outputs": [],
   "source": [
    "(flux1 - manifold.areas[0])/flux1"
   ]
  },
  {
   "cell_type": "markdown",
   "metadata": {},
   "source": [
    "### Errors and convergence"
   ]
  },
  {
   "cell_type": "code",
   "execution_count": null,
   "metadata": {},
   "outputs": [],
   "source": [
    "areas"
   ]
  },
  {
   "cell_type": "code",
   "execution_count": null,
   "metadata": {},
   "outputs": [],
   "source": [
    "potential_integrations"
   ]
  },
  {
   "cell_type": "code",
   "execution_count": null,
   "metadata": {},
   "outputs": [],
   "source": [
    "fig, ax = plt.subplots()\n",
    "for pot in potential_integrations:\n",
    "    ax.scatter(1+np.arange(7), pot[0]-pot[1])"
   ]
  }
 ],
 "metadata": {
  "kernelspec": {
   "display_name": "simsopt",
   "language": "python",
   "name": "python3"
  },
  "language_info": {
   "codemirror_mode": {
    "name": "ipython",
    "version": 3
   },
   "file_extension": ".py",
   "mimetype": "text/x-python",
   "name": "python",
   "nbconvert_exporter": "python",
   "pygments_lexer": "ipython3",
   "version": "3.10.13"
  }
 },
 "nbformat": 4,
 "nbformat_minor": 2
}
