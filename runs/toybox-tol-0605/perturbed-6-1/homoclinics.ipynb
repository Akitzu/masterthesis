{
 "cells": [
  {
   "cell_type": "code",
   "execution_count": 1,
   "metadata": {},
   "outputs": [],
   "source": [
    "from pyoculus.problems import AnalyticCylindricalBfield\n",
    "from pyoculus.solvers import PoincarePlot, FixedPoint, Manifold\n",
    "import matplotlib.pyplot as plt\n",
    "import numpy as np\n",
    "import pickle"
   ]
  },
  {
   "cell_type": "code",
   "execution_count": 2,
   "metadata": {},
   "outputs": [
    {
     "name": "stdout",
     "output_type": "stream",
     "text": [
      "0 - dr : 0.010422282084043258\n",
      "1 - RZ : [ 6.41409394 -0.69368043]\n",
      "1 - dr : 6.293042617255254e-06\n",
      "2 - RZ : [ 6.41409781 -0.69367863]\n",
      "2 - dr : 9.776471937205409e-12\n",
      "0 - dr : 9.776471937205409e-12\n",
      "\n",
      "Finding the X-point\n",
      "\n",
      "Initial guess: [6.21560891, -4.46981856]\n",
      "0 - [DeltaR, DeltaZ] : [0.37061925 0.29572031] - dtheta : 0.10193215420124901\n",
      "0 - [StepR, StepZ]: [-0.0234823  -0.02119928]\n",
      "1 - RZ : [ 6.19212661 -4.49101784] - rhotheta : [ 3.80382127 -1.62918429]\n",
      "1 - [DeltaR, DeltaZ] : [-0.1651057  -0.17691821] - dtheta : 0.03870184501450491\n",
      "1 - [StepR, StepZ]: [0.00515258 0.00348819]\n",
      "2 - RZ : [ 6.19727919 -4.48752965] - rhotheta : [ 3.80004156 -1.62788424]\n",
      "2 - [DeltaR, DeltaZ] : [-0.01794846 -0.03057362] - dtheta : 0.004221405063145722\n",
      "2 - [StepR, StepZ]: [ 0.00628992 -0.00868501]\n",
      "3 - RZ : [ 6.20356912 -4.49621466] - rhotheta : [ 3.80835957 -1.6261052 ]\n",
      "3 - [DeltaR, DeltaZ] : [0.00043682 0.00019993] - dtheta : 0.00011163054962337604\n",
      "3 - [StepR, StepZ]: [ 6.34979259e-05 -1.46029593e-04]\n",
      "4 - RZ : [ 6.20363261 -4.49636069] - rhotheta : [ 3.80850187 -1.62608643]\n",
      "4 - [DeltaR, DeltaZ] : [-9.16437290e-08 -1.17926484e-07] - dtheta : 2.2316890335716266e-08\n",
      "4 - [StepR, StepZ]: [ 1.73404535e-08 -2.02502797e-08]\n",
      "5 - RZ : [ 6.20363263 -4.49636071] - rhotheta : [ 3.80850188 -1.62608643]\n",
      "5 - [DeltaR, DeltaZ] : [1.50990331e-14 1.33226763e-14] - dtheta : 1.8545165403338615e-12\n"
     ]
    }
   ],
   "source": [
    "separatrix = {\"type\": \"circular-current-loop\", \"amplitude\": -10, \"R\": 6, \"Z\": -5.5}\n",
    "maxwellboltzmann = {\"m\": 6, \"n\": -1, \"d\": np.sqrt(2), \"type\": \"maxwell-boltzmann\", \"amplitude\": 1e-1}\n",
    "\n",
    "# Creating the pyoculus problem object, adding the perturbation here use the R, Z provided as center point\n",
    "pyoproblem = AnalyticCylindricalBfield.without_axis(\n",
    "    6,\n",
    "    0,\n",
    "    0.91,\n",
    "    0.6,\n",
    "    perturbations_args=[separatrix],\n",
    "    Rbegin=1,\n",
    "    Rend=8,\n",
    "    niter=800,\n",
    "    guess=[6.41, -0.7],\n",
    "    tol=1e-9,\n",
    ")\n",
    "\n",
    "# # Adding perturbation after the object is created uses the found axis as center point\n",
    "pyoproblem.add_perturbation(maxwellboltzmann)\n",
    "\n",
    "### Finding the X-point\n",
    "print(\"\\nFinding the X-point\\n\")\n",
    "\n",
    "# set up the integrator for the FixedPoint\n",
    "iparams = dict()\n",
    "iparams[\"rtol\"] = 1e-13\n",
    "\n",
    "pparams = dict()\n",
    "pparams[\"nrestart\"] = 0\n",
    "pparams[\"niter\"] = 300\n",
    "\n",
    "# set up the FixedPoint object\n",
    "fixedpoint = FixedPoint(pyoproblem, pparams, integrator_params=iparams)\n",
    "\n",
    "# find the X-point\n",
    "guess = [6.21560891, -4.46981856]\n",
    "print(f\"Initial guess: {guess}\")\n",
    "\n",
    "fixedpoint.compute(guess=guess, pp=0, qq=1, sbegin=4, send=9, tol=1e-10)\n",
    "\n",
    "if fixedpoint.successful:\n",
    "    results = [list(p) for p in zip(fixedpoint.x, fixedpoint.y, fixedpoint.z)]\n",
    "else:\n",
    "    raise ValueError(\"X-point not found\")\n",
    "\n",
    "# Set up the manifold\n",
    "iparams = dict()\n",
    "iparams[\"rtol\"] = 1e-13\n",
    "manifold = Manifold(fixedpoint, pyoproblem, integrator_params=iparams)\n",
    "\n",
    "# Choose the tangles to work with\n",
    "manifold.choose(0, 0)"
   ]
  },
  {
   "cell_type": "code",
   "execution_count": null,
   "metadata": {},
   "outputs": [],
   "source": [
    "fig = pickle.load(open(\"manifold_05131749.pkl\", \"rb\"))\n",
    "ax = fig.gca()"
   ]
  },
  {
   "cell_type": "code",
   "execution_count": null,
   "metadata": {},
   "outputs": [],
   "source": [
    "eps_s_1, eps_u_1 = manifold.find_homoclinic()\n",
    "bounds_1 = manifold.find_bounds(eps_s_1, eps_u_1)"
   ]
  },
  {
   "cell_type": "code",
   "execution_count": null,
   "metadata": {},
   "outputs": [],
   "source": [
    "bounds_i = np.array(bounds_1)\n",
    "bounds_i[0][0] = manifold.clinics[-1][1]\n",
    "bounds_i[1][1] = manifold.clinics[-1][2]\n",
    "bounds_i = (tuple(bounds_i[0]), tuple(bounds_i[1]))"
   ]
  },
  {
   "cell_type": "code",
   "execution_count": null,
   "metadata": {},
   "outputs": [],
   "source": [
    "bounds_1"
   ]
  },
  {
   "cell_type": "code",
   "execution_count": null,
   "metadata": {},
   "outputs": [],
   "source": [
    "bounds_i"
   ]
  },
  {
   "cell_type": "code",
   "execution_count": null,
   "metadata": {},
   "outputs": [],
   "source": [
    "# i = 1\n",
    "fund = manifold.fundamental_segment\n",
    "# guess_i = [bounds_1[0][1]*np.power(manifold.lambda_s, 5/6), bounds_1[1][0]*np.power(manifold.lambda_u, 5/6)]\n",
    "guess_i = [bounds_1[0][1]*np.power(manifold.lambda_s, 1/2), bounds_1[1][0]*np.power(manifold.lambda_u, 1/2)]\n",
    "print(f\"initial guess: {guess_i}\")"
   ]
  },
  {
   "cell_type": "code",
   "execution_count": null,
   "metadata": {},
   "outputs": [],
   "source": [
    "eps_s_i, eps_u_i = manifold.find_homoclinic(*guess_i, bounds = bounds_i, n_s=7, n_u=5, options={\"factor\": 0.1})"
   ]
  },
  {
   "cell_type": "code",
   "execution_count": 3,
   "metadata": {},
   "outputs": [
    {
     "name": "stdout",
     "output_type": "stream",
     "text": [
      "2024-05-22 13:09:43 [debug    ] Guess - 2.179774577375764e-07, 3.84907705931755e-06\n",
      "2024-05-22 13:09:43 [debug    ] Bounds - ((2.179774577375764e-07, 6.233109701299461e-06), (3.84907705931755e-06, 0.00011005805429358986))\n",
      "2024-05-22 13:09:43 [debug    ] n_s, n_u - 7, 6\n",
      "2024-05-22 13:09:43 [debug    ] Inside : (2.179774577375764e-07, 3.84907705931755e-06)\n",
      "2024-05-22 13:09:45 [debug    ] Returns - (array([5.41601047, 1.96063451]), array([5.41601048, 1.96063451]), array([-1.12521814e-09, -1.59716684e-10]))\n",
      "2024-05-22 13:09:45 [debug    ] Inside : (2.179774598991796e-07, 3.849077055417897e-06)\n",
      "2024-05-22 13:09:46 [debug    ] Returns - (array([5.41601049, 1.96063451]), array([5.41601048, 1.96063451]), array([1.43470427e-08, 7.52905649e-09]))\n",
      "2024-05-22 13:09:46 [info     ] Root finding status : The solution converged.\n",
      "2024-05-22 13:09:46 [debug    ] Root finding object :  message: The solution converged.\n",
      " success: True\n",
      "  status: 1\n",
      "     fun: [-1.125e-09 -1.597e-10]\n",
      "       x: [-1.534e+01 -1.247e+01]\n",
      "  method: hybr\n",
      "    nfev: 2\n",
      "    njev: 1\n",
      "    fjac: [[-9.977e-01 -6.737e-02]\n",
      "           [ 6.737e-02 -9.977e-01]]\n",
      "       r: [-9.591e-01 -8.269e+00  8.246e-02]\n",
      "     qtf: [ 1.133e-09  8.355e-11]\n",
      "2024-05-22 13:09:46 [info     ] Eps_s : 2.180e-07, Eps_u : 3.849e-06 gives a difference in endpoint [R,Z] : [-1.12521814e-09 -1.59716684e-10]\n",
      "2024-05-22 13:09:47 [debug    ] Guess - 1.2560522331587575e-06, 2.388481018696467e-05\n",
      "2024-05-22 13:09:47 [debug    ] Bounds - ((1.2560522331587575e-06, 3.59162982264753e-05), (2.388481018696467e-05, 0.0006826999113674998))\n",
      "2024-05-22 13:09:47 [debug    ] n_s, n_u - 7, 5\n",
      "2024-05-22 13:09:47 [debug    ] Inside : (1.2560522331587575e-06, 2.388481018696467e-05)\n",
      "2024-05-22 13:09:48 [debug    ] Returns - (array([7.52275414, 1.80967461]), array([7.52275414, 1.80967461]), array([ 1.45970347e-10, -1.55602198e-10]))\n",
      "2024-05-22 13:09:48 [debug    ] Inside : (1.2560522637985923e-06, 2.3884810233449364e-05)\n",
      "2024-05-22 13:09:49 [debug    ] Returns - (array([7.52275417, 1.80967458]), array([7.52275413, 1.80967461]), array([ 3.97359390e-08, -2.61824322e-08]))\n",
      "2024-05-22 13:09:49 [info     ] Root finding status : The solution converged.\n",
      "2024-05-22 13:09:49 [debug    ] Root finding object :  message: The solution converged.\n",
      " success: True\n",
      "  status: 1\n",
      "     fun: [ 1.460e-10 -1.556e-10]\n",
      "       x: [-1.359e+01 -1.064e+01]\n",
      "  method: hybr\n",
      "    nfev: 2\n",
      "    njev: 1\n",
      "    fjac: [[-9.990e-01 -4.373e-02]\n",
      "           [ 4.373e-02 -9.990e-01]]\n",
      "       r: [-1.602e+00  2.015e+01 -8.316e-02]\n",
      "     qtf: [-1.390e-10  1.618e-10]\n",
      "2024-05-22 13:09:49 [info     ] Eps_s : 1.256e-06, Eps_u : 2.388e-05 gives a difference in endpoint [R,Z] : [ 1.45970347e-10 -1.55602198e-10]\n"
     ]
    }
   ],
   "source": [
    "manifold.find_homoclinic(2.179774577375764e-07, 3.84907705931755e-06, n_s=7, n_u=6)\n",
    "manifold.find_homoclinic(1.2560522331587575e-06, 2.388481018696467e-05, n_s=7, n_u=5)\n",
    "\n",
    "manifold.order()"
   ]
  },
  {
   "cell_type": "code",
   "execution_count": null,
   "metadata": {},
   "outputs": [],
   "source": [
    "manifold.clinics"
   ]
  },
  {
   "cell_type": "code",
   "execution_count": null,
   "metadata": {},
   "outputs": [],
   "source": [
    "marker = [\"X\", \"o\", \"s\", \"p\", \"P\", \"*\", \"x\", \"D\", \"d\", \"^\", \"v\", \"<\", \">\"]\n",
    "for i, clinic in enumerate(manifold.clinics):\n",
    "    eps_s_i, eps_u_i = clinic[1:3]\n",
    "\n",
    "    n_s, n_u = 10, 10\n",
    "    \n",
    "    hs_i = manifold.integrate(manifold.rfp_s + eps_s_i * manifold.vector_s, n_s, -1)\n",
    "    hu_i = manifold.integrate(manifold.rfp_u + eps_u_i * manifold.vector_u, n_u, 1)\n",
    "    # ax.scatter(hs_i[0,:], hs_i[1,:], marker=marker[i], color=\"purple\", zorder=10)\n",
    "    ax.scatter(hu_i[0,:], hu_i[1,:], marker=marker[i], color=\"royalblue\", edgecolor='cyan', zorder=10, label=f'$h_{i+1}$')"
   ]
  },
  {
   "cell_type": "code",
   "execution_count": null,
   "metadata": {},
   "outputs": [],
   "source": [
    "fig.set_size_inches(12, 12)\n",
    "ax.set_xlim(3.5, 9.2)\n",
    "ax.set_ylim(-6, 2.5)\n",
    "ax.set_title('')\n",
    "ax.set_xlabel(r'R [m]')\n",
    "ax.set_ylabel(r'Z [m]')\n",
    "\n",
    "ax.legend()\n",
    "\n",
    "\n",
    "fig"
   ]
  },
  {
   "cell_type": "code",
   "execution_count": null,
   "metadata": {},
   "outputs": [],
   "source": [
    "pickle.dump(fig, open(\"perturbed-6-1-0.1-general.pkl\", \"wb\"))"
   ]
  },
  {
   "cell_type": "code",
   "execution_count": null,
   "metadata": {},
   "outputs": [],
   "source": [
    "eps_s, eps_u = manifold.fundamental_segment\n",
    "eps_s, eps_u = eps_s[0], eps_u[0]"
   ]
  },
  {
   "cell_type": "code",
   "execution_count": null,
   "metadata": {},
   "outputs": [],
   "source": [
    "manifold.compute(eps_s=eps_s, eps_u=eps_u, neps=40)"
   ]
  },
  {
   "cell_type": "code",
   "execution_count": null,
   "metadata": {},
   "outputs": [],
   "source": [
    "rh = manifold.integrate_single(manifold.rfp_u + manifold.clinics[1][0]*manifold.vector_u, 3, 1, ret_jacobian=False)"
   ]
  },
  {
   "cell_type": "code",
   "execution_count": null,
   "metadata": {},
   "outputs": [],
   "source": [
    "default = {\n",
    "    \"markersize\": 2,\n",
    "    \"fmt\": \"-x\",\n",
    "    \"colors\": [\"red\", \"blue\"],\n",
    "}\n",
    "\n",
    "area_calc = []\n",
    "dirdict = [manifold.unstable[\"+\"], manifold.stable[\"+\"]]\n",
    "\n",
    "for i, out in enumerate(dirdict):\n",
    "    tmpcolor = default[\"colors\"][i]\n",
    "    \n",
    "    if i == 0:\n",
    "        area_calc.append(out[44:80, 3])\n",
    "        out = out[44:80, 3]\n",
    "    else:\n",
    "        area_calc.append(out[:42, 9])\n",
    "        out = out[:42, 9]\n",
    "\n",
    "    out = out.T.flatten()\n",
    "\n",
    "    if i==0:\n",
    "        out = np.concatenate((rh, out))\n",
    "    else:\n",
    "        out = np.concatenate((out, rh))\n",
    "\n",
    "    ax.plot(\n",
    "        out[::2],\n",
    "        out[1::2],\n",
    "        default[\"fmt\"],\n",
    "        color='black',\n",
    "        markersize=6,\n",
    "        linewidth=2\n",
    "    )"
   ]
  },
  {
   "cell_type": "code",
   "execution_count": null,
   "metadata": {},
   "outputs": [],
   "source": [
    "path1 = area_calc[0].reshape(-1,2)\n",
    "path2 = area_calc[1].reshape(-1,2)\n",
    "\n",
    "path1 = np.vstack((rh, path1))\n",
    "path2 = np.vstack((path2, rh))"
   ]
  },
  {
   "cell_type": "code",
   "execution_count": null,
   "metadata": {},
   "outputs": [],
   "source": [
    "path1.T"
   ]
  },
  {
   "cell_type": "code",
   "execution_count": null,
   "metadata": {},
   "outputs": [],
   "source": [
    "path2.T"
   ]
  },
  {
   "cell_type": "code",
   "execution_count": null,
   "metadata": {},
   "outputs": [],
   "source": [
    "# Concatenate the paths to form a loop\n",
    "loop = np.vstack((path1[1:], path2[1:]))\n",
    "\n",
    "x = loop[:, 0]\n",
    "y = loop[:, 1]\n",
    "area = 0.5*np.abs(np.dot(x, np.roll(y, 1)) - np.dot(y, np.roll(x, 1)))"
   ]
  },
  {
   "cell_type": "code",
   "execution_count": null,
   "metadata": {},
   "outputs": [],
   "source": [
    "ax.scatter(6.7913, -4.0464, color='black', label='$B^\\phi$ evaluation point')"
   ]
  },
  {
   "cell_type": "code",
   "execution_count": null,
   "metadata": {},
   "outputs": [],
   "source": [
    "ax.legend()\n",
    "ax.set_xlim(6, 7.3)\n",
    "ax.set_ylim(-4.6, -3.6)\n",
    "fig"
   ]
  },
  {
   "cell_type": "code",
   "execution_count": null,
   "metadata": {},
   "outputs": [],
   "source": [
    "pickle.dump(fig, open(\"perturbed-6-1-0.1-closeup.pkl\", \"wb\"))"
   ]
  },
  {
   "cell_type": "code",
   "execution_count": null,
   "metadata": {},
   "outputs": [],
   "source": [
    "pyoproblem.B([6.7913, 0., -4.0464])"
   ]
  },
  {
   "cell_type": "code",
   "execution_count": null,
   "metadata": {},
   "outputs": [],
   "source": [
    "flux1 = area * pyoproblem.B([6.7913, 0., -4.0464])[1] * 6.7913\n",
    "flux1"
   ]
  },
  {
   "cell_type": "markdown",
   "metadata": {},
   "source": [
    "#### Area by computation"
   ]
  },
  {
   "cell_type": "code",
   "execution_count": 4,
   "metadata": {},
   "outputs": [
    {
     "name": "stdout",
     "output_type": "stream",
     "text": [
      "2024-05-22 13:09:51 [info     ] Forward integration goes beyond stable saddle point.\n",
      "2024-05-22 13:09:51 [debug    ] rfp: [ 6.20363263 -4.49636071], rz_end: [ 6.2036283  -4.49636463], rz: [ 6.20363237 -4.49636066]\n",
      "2024-05-22 13:09:51 [info     ] Backward integration goes beyond stable saddle point.\n",
      "2024-05-22 13:09:51 [debug    ] rfp: [ 6.20363263 -4.49636071], rz_end: [ 6.20364463 -4.49638169], rz: [ 6.20363315 -4.49636135]\n",
      "2024-05-22 13:09:51 [info     ] Potential integration completed for homo/hetero-clinic point of order : 3.849e-06\n",
      "2024-05-22 13:09:51 [info     ] Forward integration goes beyond stable saddle point.\n",
      "2024-05-22 13:09:51 [debug    ] rfp: [ 6.20363263 -4.49636071], rz_end: [ 6.20363013 -4.49636292], rz: [ 6.20363192 -4.4963597 ]\n",
      "2024-05-22 13:09:51 [info     ] Backward integration goes beyond stable saddle point.\n",
      "2024-05-22 13:09:51 [debug    ] rfp: [ 6.20363263 -4.49636071], rz_end: [ 6.20363578 -4.49636621], rz: [ 6.20363276 -4.49636088]\n",
      "2024-05-22 13:09:51 [info     ] Potential integration completed for homo/hetero-clinic point of order : 2.388e-05\n"
     ]
    }
   ],
   "source": [
    "areas, potential_integrations, history = manifold.resonance_area()"
   ]
  },
  {
   "cell_type": "code",
   "execution_count": 5,
   "metadata": {},
   "outputs": [
    {
     "data": {
      "text/plain": [
       "array([-0.38894751,  0.38894751])"
      ]
     },
     "execution_count": 5,
     "metadata": {},
     "output_type": "execute_result"
    }
   ],
   "source": [
    "areas"
   ]
  },
  {
   "cell_type": "code",
   "execution_count": 6,
   "metadata": {},
   "outputs": [
    {
     "data": {
      "text/plain": [
       "array([[-3.88947513e-01,  5.76281936e-04,  2.99349844e-05],\n",
       "       [ 3.88947513e-01,  5.76281936e-04,  2.99349844e-05]])"
      ]
     },
     "execution_count": 6,
     "metadata": {},
     "output_type": "execute_result"
    }
   ],
   "source": [
    "manifold.areas"
   ]
  },
  {
   "cell_type": "code",
   "execution_count": null,
   "metadata": {},
   "outputs": [],
   "source": [
    "(flux1 - manifold.areas[0])/flux1"
   ]
  },
  {
   "cell_type": "markdown",
   "metadata": {},
   "source": [
    "### Errors and convergence"
   ]
  },
  {
   "cell_type": "code",
   "execution_count": null,
   "metadata": {},
   "outputs": [],
   "source": [
    "areas"
   ]
  },
  {
   "cell_type": "code",
   "execution_count": null,
   "metadata": {},
   "outputs": [],
   "source": [
    "potential_integrations"
   ]
  },
  {
   "cell_type": "code",
   "execution_count": null,
   "metadata": {},
   "outputs": [],
   "source": [
    "fig, ax = plt.subplots()\n",
    "for pot in potential_integrations:\n",
    "    ax.scatter(1+np.arange(7), pot[0]-pot[1])"
   ]
  }
 ],
 "metadata": {
  "kernelspec": {
   "display_name": "simsopt",
   "language": "python",
   "name": "python3"
  },
  "language_info": {
   "codemirror_mode": {
    "name": "ipython",
    "version": 3
   },
   "file_extension": ".py",
   "mimetype": "text/x-python",
   "name": "python",
   "nbconvert_exporter": "python",
   "pygments_lexer": "ipython3",
   "version": "3.10.13"
  }
 },
 "nbformat": 4,
 "nbformat_minor": 2
}
