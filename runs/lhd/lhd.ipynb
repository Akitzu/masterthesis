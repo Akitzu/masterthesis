{
 "cells": [
  {
   "cell_type": "code",
   "execution_count": 9,
   "metadata": {},
   "outputs": [],
   "source": [
    "import numpy as np"
   ]
  },
  {
   "cell_type": "code",
   "execution_count": 10,
   "metadata": {},
   "outputs": [],
   "source": [
    "from pyoculus.problems import SimsoptBfieldProblem"
   ]
  },
  {
   "cell_type": "code",
   "execution_count": 11,
   "metadata": {},
   "outputs": [],
   "source": [
    "from simsopt.field import BiotSavart"
   ]
  },
  {
   "cell_type": "code",
   "execution_count": 12,
   "metadata": {},
   "outputs": [],
   "source": [
    "from simsopt.field import load_coils_from_makegrid_file\n",
    "coils = load_coils_from_makegrid_file('LHD_data/lhd.coils.txt', order=6)"
   ]
  },
  {
   "cell_type": "code",
   "execution_count": 13,
   "metadata": {},
   "outputs": [
    {
     "name": "stdout",
     "output_type": "stream",
     "text": [
      "0 - dr : 0.01951057346748946\n",
      "1 - RZ : [ 3.91877377e+00 -3.95987774e-04]\n",
      "1 - dr : 0.001310010115274005\n",
      "2 - RZ : [ 3.91762444e+00 -2.59758114e-06]\n",
      "2 - dr : 4.9871404326163615e-06\n",
      "3 - RZ : [3.91761994e+00 6.32231374e-09]\n",
      "3 - dr : 7.188636823638532e-11\n"
     ]
    }
   ],
   "source": [
    "mf = BiotSavart(coils)\n",
    "ps = SimsoptBfieldProblem.without_axis([3.9, 0], 5, mf, interpolate=False)"
   ]
  },
  {
   "cell_type": "code",
   "execution_count": 14,
   "metadata": {},
   "outputs": [],
   "source": [
    "RZ0 = [ps._R0, ps._Z0]"
   ]
  },
  {
   "cell_type": "code",
   "execution_count": 15,
   "metadata": {},
   "outputs": [],
   "source": [
    "from simsopt.geo import CurvePlanarFourier\n",
    "qpts_phi = np.linspace(0, 1, 50, endpoint=False)\n",
    "dofs = np.concatenate(([ps._R0], np.zeros(7)))\n",
    "curve = CurvePlanarFourier(qpts_phi, 0, 1, False)\n",
    "curve.set_dofs(dofs)"
   ]
  },
  {
   "cell_type": "code",
   "execution_count": 16,
   "metadata": {},
   "outputs": [],
   "source": [
    "from simsopt.geo import SurfaceRZFourier\n",
    "s = SurfaceRZFourier.from_nphi_ntheta(\n",
    "    mpol=5,\n",
    "    ntor=5,\n",
    "    stellsym=True,\n",
    "    nfp=5,\n",
    "    range=\"full torus\",\n",
    "    nphi=64,\n",
    "    ntheta=24,\n",
    ")\n",
    "s.fit_to_curve(curve, 1.5, flip_theta=False)"
   ]
  },
  {
   "cell_type": "code",
   "execution_count": 33,
   "metadata": {},
   "outputs": [],
   "source": [
    "from mayavi import mlab\n",
    "for coil in coils:\n",
    "    coil.plot(engine='mayavi', show=False, close=True)\n",
    "s.plot(engine='mayavi', show=False)\n",
    "\n",
    "mlab.show()"
   ]
  },
  {
   "cell_type": "code",
   "execution_count": 17,
   "metadata": {},
   "outputs": [],
   "source": [
    "pyoproblem = SimsoptBfieldProblem(ps._R0, ps._Z0, 5, mf, interpolate=True, surf=s, degree=3, n=20)"
   ]
  },
  {
   "cell_type": "code",
   "execution_count": 17,
   "metadata": {},
   "outputs": [],
   "source": [
    "dist = pyoproblem.surfclassifier.evaluate_rphiz(np.array([[r, phi, z] for r, phi, z in zip(rrange, phirange, zrange)]))"
   ]
  },
  {
   "cell_type": "code",
   "execution_count": 53,
   "metadata": {},
   "outputs": [],
   "source": [
    "n = 30\n",
    "rs = np.linalg.norm(s.gamma()[:, :, 0:2], axis=2)\n",
    "zs = s.gamma()[:, :, 2]\n",
    "rrange = np.linspace(np.min(rs), np.max(rs), n)\n",
    "phirange = np.linspace(0, 2 * np.pi / 5, n * 2)\n",
    "zrange = np.linspace(0, np.max(zs), n // 2)\n",
    "\n",
    "#rrange, phirange, zrange = np.meshgrid(rrange, phirange, zrange, indexing='ij')\n",
    "rrange, zrange = np.meshgrid(rrange, zrange)"
   ]
  },
  {
   "cell_type": "code",
   "execution_count": 37,
   "metadata": {},
   "outputs": [],
   "source": [
    "# for r, phi, z in zip(rrange, phirange, zrange):\n",
    "#     x = r * np.cos(phi)\n",
    "#     y = r * np.sin(phi)\n",
    "#     mlab.points3d([x], [y], [z], scale_factor=0.1, color=(1, 0, 0))\n",
    "\n",
    "for r, z in zip(rrange, zrange):\n",
    "    x = r * np.cos(0)\n",
    "    y = r * np.sin(0)\n",
    "    mlab.points3d([x], [y], [z], scale_factor=0.1, color=(1, 0, 0))\n",
    "\n",
    "for coil in coils:\n",
    "    coil.plot(engine='mayavi', show=False, close=True)\n",
    "# s.plot(engine='mayavi', show=False)\n",
    "\n",
    "# Show the plot\n",
    "mlab.show()"
   ]
  },
  {
   "cell_type": "code",
   "execution_count": 16,
   "metadata": {},
   "outputs": [
    {
     "data": {
      "text/plain": [
       "{'zrange': (-1.6000000000000003, 1.6000000000000003),\n",
       " 'rrange': (2.3176199420745967, 5.517619942074602),\n",
       " 'dist': <simsoptpp.RegularGridInterpolant3D at 0x2023ed5f770>}"
      ]
     },
     "execution_count": 16,
     "metadata": {},
     "output_type": "execute_result"
    }
   ],
   "source": [
    "pyoproblem.surfclassifier.__dict__"
   ]
  },
  {
   "cell_type": "code",
   "execution_count": 18,
   "metadata": {},
   "outputs": [
    {
     "data": {
      "text/plain": [
       "array([-2.92316243e-13, -2.78172657e+00, -1.97556263e-01])"
      ]
     },
     "execution_count": 18,
     "metadata": {},
     "output_type": "execute_result"
    }
   ],
   "source": [
    "pyoproblem.B([3.9, 0., 0.])"
   ]
  },
  {
   "cell_type": "code",
   "execution_count": 14,
   "metadata": {},
   "outputs": [
    {
     "data": {
      "text/plain": [
       "([array([-9.43689571e-16, -2.78171514e+00, -1.97554566e-01])],\n",
       " array([[ 7.77156117e-16,  3.34437429e-01, -1.43545525e+00],\n",
       "        [ 3.34437441e-01, -2.31065167e-15,  8.56723775e-16],\n",
       "        [-1.43545524e+00,  1.29170526e-15,  1.91513472e-15]]))"
      ]
     },
     "execution_count": 14,
     "metadata": {},
     "output_type": "execute_result"
    }
   ],
   "source": [
    "pyoproblem.dBdX([3.9, 0., 0.])"
   ]
  },
  {
   "cell_type": "code",
   "execution_count": 25,
   "metadata": {},
   "outputs": [
    {
     "data": {
      "text/plain": [
       "(0.3009218239153299, 0.3440880707298118)"
      ]
     },
     "execution_count": 25,
     "metadata": {},
     "output_type": "execute_result"
    }
   ],
   "source": [
    "pyoproblem._mf_B.estimate_error_B(1000)"
   ]
  },
  {
   "cell_type": "code",
   "execution_count": 21,
   "metadata": {},
   "outputs": [
    {
     "data": {
      "text/plain": [
       "<simsopt.geo.surface.SurfaceClassifier at 0x1994dd1e1a0>"
      ]
     },
     "execution_count": 21,
     "metadata": {},
     "output_type": "execute_result"
    }
   ],
   "source": [
    "pyoproblem.surfclassifier"
   ]
  },
  {
   "cell_type": "code",
   "execution_count": 14,
   "metadata": {},
   "outputs": [],
   "source": [
    "import numpy as np"
   ]
  },
  {
   "cell_type": "code",
   "execution_count": 96,
   "metadata": {},
   "outputs": [
    {
     "data": {
      "text/plain": [
       "6.322313735882947e-09"
      ]
     },
     "execution_count": 96,
     "metadata": {},
     "output_type": "execute_result"
    }
   ],
   "source": [
    "pyoproblem._Z0"
   ]
  },
  {
   "cell_type": "code",
   "execution_count": 91,
   "metadata": {},
   "outputs": [],
   "source": [
    "phis = [0]    #[(i / 4) * (2 * np.pi / nfp) for i in range(4)]\n",
    "\n",
    "nfieldlines = 2\n",
    "p1 = np.array([pyoproblem._R0, pyoproblem._Z0])\n",
    "p2 = np.array(results_x1[0][::2])\n",
    "Rs = np.linspace(p1[0], p2[0], nfieldlines)\n",
    "Zs = np.linspace(p1[1], p2[1], nfieldlines)\n",
    "\n",
    "RZs = np.array([[r, z] for r, z in zip(Rs.flatten(), Zs.flatten())])"
   ]
  },
  {
   "cell_type": "code",
   "execution_count": 82,
   "metadata": {},
   "outputs": [],
   "source": [
    "from horus import poincare"
   ]
  },
  {
   "cell_type": "code",
   "execution_count": 92,
   "metadata": {},
   "outputs": [],
   "source": [
    "pplane = poincare(pyoproblem._mf, RZs, phis, pyoproblem.surfclassifier, tol = 1e-10, plot=False)"
   ]
  },
  {
   "cell_type": "code",
   "execution_count": 85,
   "metadata": {},
   "outputs": [],
   "source": [
    "import matplotlib.pyplot as plt\n",
    "%matplotlib ipympl\n",
    "plt.style.use('lateky')"
   ]
  },
  {
   "cell_type": "code",
   "execution_count": 93,
   "metadata": {},
   "outputs": [],
   "source": [
    "plt.ioff()\n",
    "fig, ax = pplane.plot(phis)\n",
    "ax = ax[0,0]"
   ]
  },
  {
   "cell_type": "code",
   "execution_count": 94,
   "metadata": {},
   "outputs": [
    {
     "data": {
      "application/vnd.jupyter.widget-view+json": {
       "model_id": "b0805bd23c424467bc9e4f88b58cecec",
       "version_major": 2,
       "version_minor": 0
      },
      "image/png": "[encoded data removed]",
      "text/html": [
       "\n",
       "            <div style=\"display: inline-block;\">\n",
       "                <div class=\"jupyter-widgets widget-label\" style=\"text-align: center;\">\n",
       "                    Figure 4\n",
       "                </div>\n",
       "                <img src='data:image/png;base64,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' width=800.0/>\n",
       "            </div>\n",
       "        "
      ],
      "text/plain": [
       "Canvas(toolbar=Toolbar(toolitems=[('Home', 'Reset original view', 'home', 'home'), ('Back', 'Back to previous …"
      ]
     },
     "metadata": {},
     "output_type": "display_data"
    }
   ],
   "source": [
    "display(fig.canvas)"
   ]
  },
  {
   "cell_type": "code",
   "execution_count": 71,
   "metadata": {},
   "outputs": [
    {
     "name": "stdout",
     "output_type": "stream",
     "text": [
      "0 - [DeltaR, DeltaZ] : [-2.54019028e-13  2.22044605e-16] - dtheta : 18.849573672250436\n",
      "0 - [DeltaR, DeltaZ] : [-9.81437154e-14  5.30686606e-14] - dtheta : 18.849537282843922\n"
     ]
    },
    {
     "data": {
      "text/plain": [
       "<pyoculus.solvers.base_solver.BaseSolver.OutputData at 0x2dfaabf6140>"
      ]
     },
     "execution_count": 71,
     "metadata": {},
     "output_type": "execute_result"
    }
   ],
   "source": [
    "from pyoculus.problems import FixedPoint\n",
    "\n",
    "# set up the integrator\n",
    "iparams = dict()\n",
    "iparams[\"rtol\"] = 1e-13\n",
    "\n",
    "pparams = dict()\n",
    "pparams[\"nrestart\"] = 0\n",
    "pparams[\"tol\"] = 1e-15\n",
    "pparams['niter'] = 100\n",
    "# pparams[\"Z\"] = 0 \n",
    "\n",
    "fp_x1 = FixedPoint(pyoproblem, pparams, integrator_params=iparams)\n",
    "fp_x1.compute(guess=[3.8962460336210425, 0.5584712678454549], pp=5, qq=15, sbegin=2, send=6, checkonly=True)\n",
    "\n",
    "fp_x2 = FixedPoint(pyoproblem, pparams, integrator_params=iparams)\n",
    "fp_x2.compute(guess=[3.896246033649848, -0.5584712678389868], pp=5, qq=15, sbegin=2, send=6, checkonly=True)"
   ]
  },
  {
   "cell_type": "code",
   "execution_count": 72,
   "metadata": {},
   "outputs": [],
   "source": [
    "results_x1 = [list(p) for p in zip(fp_x1.x, fp_x1.y, fp_x1.z)]\n",
    "results_x2 = [list(p) for p in zip(fp_x2.x, fp_x2.y, fp_x2.z)]"
   ]
  },
  {
   "cell_type": "code",
   "execution_count": null,
   "metadata": {},
   "outputs": [],
   "source": [
    "ax.scatter(results_x1[0][0], results_x1[0][2], marker=\"X\", edgecolors=\"black\", linewidths=1)\n",
    "ax.scatter(results_x2[0][0], results_x2[0][2], marker=\"X\", edgecolors=\"black\", linewidths=1)"
   ]
  },
  {
   "cell_type": "code",
   "execution_count": 73,
   "metadata": {},
   "outputs": [
    {
     "data": {
      "text/plain": [
       "[3.8962460336210425, 0.0, 0.5584712678454549]"
      ]
     },
     "execution_count": 73,
     "metadata": {},
     "output_type": "execute_result"
    }
   ],
   "source": [
    "results_x1[0]"
   ]
  },
  {
   "cell_type": "code",
   "execution_count": 97,
   "metadata": {},
   "outputs": [],
   "source": [
    "from horus import trace\n",
    "gamma = trace(ps._mf, 20*2*np.pi, results_x1[0], tol=1e-13)[0]\n",
    "\n",
    "colors = [(1,0,0), (0,1,0), (0,0,1), (1,1,0), (0,1,1)]\n",
    "for ii, phi in enumerate([0, 2*np.pi/5, 4*np.pi/5, 6*np.pi/5, 8*np.pi/5]):\n",
    "    for r, z in zip(rrange, zrange):\n",
    "        x = r * np.cos(phi)\n",
    "        y = r * np.sin(phi)\n",
    "        mlab.points3d([x], [y], [z], scale_factor=0.1, color=colors[ii])\n",
    "\n",
    "for coil in coils:\n",
    "    coil.plot(engine='mayavi', show=False, close=True)\n",
    "\n",
    "mlab.plot3d(gamma[0, :], gamma[1, :], gamma[2, :], tube_radius=0.01, color=(0, 0, 1))\n",
    "mlab.show()"
   ]
  },
  {
   "cell_type": "code",
   "execution_count": 98,
   "metadata": {},
   "outputs": [],
   "source": [
    "import pickle\n",
    "tys, phi_hits = pickle.load(open(\"pplane.pkl\", \"rb\"))"
   ]
  },
  {
   "cell_type": "code",
   "execution_count": 100,
   "metadata": {},
   "outputs": [],
   "source": [
    "from horus import plot_poincare_data"
   ]
  },
  {
   "cell_type": "code",
   "execution_count": 105,
   "metadata": {},
   "outputs": [
    {
     "data": {
      "image/png": "[encoded data removed]",
      "text/plain": [
       "<Figure size 800x500 with 1 Axes>"
      ]
     },
     "metadata": {},
     "output_type": "display_data"
    }
   ],
   "source": [
    "fig, ax = plot_poincare_data(phi_hits, [0])\n",
    "display(fig)"
   ]
  }
 ],
 "metadata": {
  "kernelspec": {
   "display_name": "simsopt",
   "language": "python",
   "name": "python3"
  },
  "language_info": {
   "codemirror_mode": {
    "name": "ipython",
    "version": 3
   },
   "file_extension": ".py",
   "mimetype": "text/x-python",
   "name": "python",
   "nbconvert_exporter": "python",
   "pygments_lexer": "ipython3",
   "version": "3.10.13"
  }
 },
 "nbformat": 4,
 "nbformat_minor": 2
}
