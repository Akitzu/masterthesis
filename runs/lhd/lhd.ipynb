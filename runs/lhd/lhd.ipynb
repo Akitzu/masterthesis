{
 "cells": [
  {
   "cell_type": "code",
   "execution_count": 44,
   "metadata": {},
   "outputs": [],
   "source": [
    "import numpy as np"
   ]
  },
  {
   "cell_type": "code",
   "execution_count": 45,
   "metadata": {},
   "outputs": [],
   "source": [
    "from pyoculus.problems import SimsoptBfieldProblem"
   ]
  },
  {
   "cell_type": "code",
   "execution_count": 46,
   "metadata": {},
   "outputs": [],
   "source": [
    "from simsopt.field import BiotSavart"
   ]
  },
  {
   "cell_type": "code",
   "execution_count": 94,
   "metadata": {},
   "outputs": [],
   "source": [
    "from simsopt.field import load_coils_from_makegrid_file\n",
    "coils = load_coils_from_makegrid_file('LHD_data/lhd.coils.txt', order=20)"
   ]
  },
  {
   "cell_type": "code",
   "execution_count": 40,
   "metadata": {},
   "outputs": [],
   "source": [
    "import pandas as pd\n",
    "\n",
    "data = [{\"current\": coil.current.get_dofs()[0]} for coil in coils]\n",
    "df = pd.DataFrame(data)"
   ]
  },
  {
   "cell_type": "code",
   "execution_count": 43,
   "metadata": {},
   "outputs": [
    {
     "data": {
      "text/html": [
       "<div>\n",
       "<style scoped>\n",
       "    .dataframe tbody tr th:only-of-type {\n",
       "        vertical-align: middle;\n",
       "    }\n",
       "\n",
       "    .dataframe tbody tr th {\n",
       "        vertical-align: top;\n",
       "    }\n",
       "\n",
       "    .dataframe thead th {\n",
       "        text-align: right;\n",
       "    }\n",
       "</style>\n",
       "<table border=\"1\" class=\"dataframe\">\n",
       "  <thead>\n",
       "    <tr style=\"text-align: right;\">\n",
       "      <th></th>\n",
       "      <th>current</th>\n",
       "    </tr>\n",
       "  </thead>\n",
       "  <tbody>\n",
       "    <tr>\n",
       "      <th>0</th>\n",
       "      <td>1.000000</td>\n",
       "    </tr>\n",
       "    <tr>\n",
       "      <th>1</th>\n",
       "      <td>1.000000</td>\n",
       "    </tr>\n",
       "    <tr>\n",
       "      <th>2</th>\n",
       "      <td>-0.523037</td>\n",
       "    </tr>\n",
       "    <tr>\n",
       "      <th>3</th>\n",
       "      <td>-0.523037</td>\n",
       "    </tr>\n",
       "    <tr>\n",
       "      <th>4</th>\n",
       "      <td>-0.126333</td>\n",
       "    </tr>\n",
       "    <tr>\n",
       "      <th>5</th>\n",
       "      <td>-0.126333</td>\n",
       "    </tr>\n",
       "    <tr>\n",
       "      <th>6</th>\n",
       "      <td>0.544444</td>\n",
       "    </tr>\n",
       "    <tr>\n",
       "      <th>7</th>\n",
       "      <td>0.544444</td>\n",
       "    </tr>\n",
       "  </tbody>\n",
       "</table>\n",
       "</div>"
      ],
      "text/plain": [
       "    current\n",
       "0  1.000000\n",
       "1  1.000000\n",
       "2 -0.523037\n",
       "3 -0.523037\n",
       "4 -0.126333\n",
       "5 -0.126333\n",
       "6  0.544444\n",
       "7  0.544444"
      ]
     },
     "execution_count": 43,
     "metadata": {},
     "output_type": "execute_result"
    }
   ],
   "source": [
    "df/df[\"current\"][0]"
   ]
  },
  {
   "cell_type": "code",
   "execution_count": 48,
   "metadata": {},
   "outputs": [
    {
     "name": "stdout",
     "output_type": "stream",
     "text": [
      "0 - dr : 0.01951057346748946\n",
      "1 - RZ : [ 3.91877377e+00 -3.95987774e-04]\n",
      "1 - dr : 0.001310010115274005\n",
      "2 - RZ : [ 3.91762444e+00 -2.59758114e-06]\n",
      "2 - dr : 4.9871404326163615e-06\n",
      "3 - RZ : [3.91761994e+00 6.32231374e-09]\n",
      "3 - dr : 7.188636823638532e-11\n"
     ]
    }
   ],
   "source": [
    "mf = BiotSavart(coils)\n",
    "ps = SimsoptBfieldProblem.without_axis([3.9, 0], 5, mf, interpolate=False)"
   ]
  },
  {
   "cell_type": "code",
   "execution_count": 49,
   "metadata": {},
   "outputs": [],
   "source": [
    "RZ0 = [ps._R0, ps._Z0]"
   ]
  },
  {
   "cell_type": "code",
   "execution_count": null,
   "metadata": {},
   "outputs": [],
   "source": [
    "from simsopt.geo import CurvePlanarFourier\n",
    "qpts_phi = np.linspace(0, 1, 50, endpoint=False)\n",
    "dofs = np.concatenate(([ps._R0], np.zeros(7)))\n",
    "curve = CurvePlanarFourier(qpts_phi, 0, 1, False)\n",
    "curve.set_dofs(dofs)"
   ]
  },
  {
   "cell_type": "code",
   "execution_count": 92,
   "metadata": {},
   "outputs": [],
   "source": [
    "rzs = np.array([[5.55, 1.55], [5.55, -1.55], [2.82, 2], [2.82, -2], [1.8, 0.8], [1.8, -0.8]])\n",
    "\n",
    "from simsopt.geo import CurveRZFourier \n",
    "qpts_phi = np.linspace(0, 1, 50, endpoint=False)\n",
    "\n",
    "for i in range(6):\n",
    "    dofs = rzs[i,:]\n",
    "    curve = CurveRZFourier(qpts_phi, 0, 0, False)\n",
    "    curve.set_dofs(dofs)\n",
    "\n",
    "    from mayavi import mlab\n",
    "    coils[i+2].plot(engine='mayavi', show=False)\n",
    "    curve.plot(engine='mayavi', show=False, color=(0, 0, 1))\n",
    "\n",
    "    # print(coils[i+2].current.get_dofs()[0]/coils[0].current.get_dofs()[0])\n",
    "\n",
    "    # mlab.show()"
   ]
  },
  {
   "cell_type": "code",
   "execution_count": 95,
   "metadata": {},
   "outputs": [],
   "source": [
    "qpts_phi = np.linspace(0, 2*np.pi, 1000, endpoint=False)\n",
    "Rs1 = 3.9*(1/3.9*np.cos(5*qpts_phi+0.1*np.sin(5*qpts_phi)) + 1)\n",
    "Zs1 = 3.9*(-1/3.9*np.sin(5*qpts_phi+0.1*np.sin(5*qpts_phi)))\n",
    "\n",
    "xs = Rs1*np.cos(qpts_phi)\n",
    "ys = Rs1*np.sin(qpts_phi)\n",
    "zs = Zs1\n",
    "\n",
    "from mayavi import mlab\n",
    "mlab.plot3d(xs, ys, zs, tube_radius=0.01, color=(0, 0, 1))\n",
    "coils[0].plot(engine='mayavi', show=False)\n",
    "mlab.show()"
   ]
  },
  {
   "cell_type": "code",
   "execution_count": 51,
   "metadata": {},
   "outputs": [],
   "source": [
    "from simsopt.geo import SurfaceRZFourier\n",
    "s = SurfaceRZFourier.from_nphi_ntheta(\n",
    "    mpol=5,\n",
    "    ntor=5,\n",
    "    stellsym=True,\n",
    "    nfp=5,\n",
    "    range=\"full torus\",\n",
    "    nphi=64,\n",
    "    ntheta=24,\n",
    ")\n",
    "s.fit_to_curve(curve, 1.5, flip_theta=False)"
   ]
  },
  {
   "cell_type": "code",
   "execution_count": 19,
   "metadata": {},
   "outputs": [],
   "source": [
    "from mayavi import mlab\n",
    "for coil in coils:\n",
    "    coil.plot(engine='mayavi', show=False, close=True)\n",
    "s.plot(engine='mayavi', opacity=0.4, show=False)\n",
    "\n",
    "mlab.show()"
   ]
  },
  {
   "cell_type": "code",
   "execution_count": 52,
   "metadata": {},
   "outputs": [],
   "source": [
    "pyoproblem = SimsoptBfieldProblem(ps._R0, ps._Z0, 5, mf, interpolate=True, surf=s, degree=4, n=40)"
   ]
  },
  {
   "cell_type": "code",
   "execution_count": 17,
   "metadata": {},
   "outputs": [],
   "source": [
    "dist = pyoproblem.surfclassifier.evaluate_rphiz(np.array([[r, phi, z] for r, phi, z in zip(rrange, phirange, zrange)]))"
   ]
  },
  {
   "cell_type": "code",
   "execution_count": 53,
   "metadata": {},
   "outputs": [],
   "source": [
    "n = 30\n",
    "rs = np.linalg.norm(s.gamma()[:, :, 0:2], axis=2)\n",
    "zs = s.gamma()[:, :, 2]\n",
    "rrange = np.linspace(np.min(rs), np.max(rs), n)\n",
    "phirange = np.linspace(0, 2 * np.pi / 5, n * 2)\n",
    "zrange = np.linspace(0, np.max(zs), n // 2)\n",
    "\n",
    "#rrange, phirange, zrange = np.meshgrid(rrange, phirange, zrange, indexing='ij')\n",
    "rrange, zrange = np.meshgrid(rrange, zrange)"
   ]
  },
  {
   "cell_type": "code",
   "execution_count": 37,
   "metadata": {},
   "outputs": [],
   "source": [
    "# for r, phi, z in zip(rrange, phirange, zrange):\n",
    "#     x = r * np.cos(phi)\n",
    "#     y = r * np.sin(phi)\n",
    "#     mlab.points3d([x], [y], [z], scale_factor=0.1, color=(1, 0, 0))\n",
    "\n",
    "for r, z in zip(rrange, zrange):\n",
    "    x = r * np.cos(0)\n",
    "    y = r * np.sin(0)\n",
    "    mlab.points3d([x], [y], [z], scale_factor=0.1, color=(1, 0, 0))\n",
    "\n",
    "for coil in coils:\n",
    "    coil.plot(engine='mayavi', show=False, close=True)\n",
    "# s.plot(engine='mayavi', show=False)\n",
    "\n",
    "# Show the plot\n",
    "mlab.show()"
   ]
  },
  {
   "cell_type": "code",
   "execution_count": 16,
   "metadata": {},
   "outputs": [
    {
     "data": {
      "text/plain": [
       "{'zrange': (-1.6000000000000003, 1.6000000000000003),\n",
       " 'rrange': (2.3176199420745967, 5.517619942074602),\n",
       " 'dist': <simsoptpp.RegularGridInterpolant3D at 0x2023ed5f770>}"
      ]
     },
     "execution_count": 16,
     "metadata": {},
     "output_type": "execute_result"
    }
   ],
   "source": [
    "pyoproblem.surfclassifier.__dict__"
   ]
  },
  {
   "cell_type": "code",
   "execution_count": 18,
   "metadata": {},
   "outputs": [
    {
     "data": {
      "text/plain": [
       "array([-2.92316243e-13, -2.78172657e+00, -1.97556263e-01])"
      ]
     },
     "execution_count": 18,
     "metadata": {},
     "output_type": "execute_result"
    }
   ],
   "source": [
    "pyoproblem.B([3.9, 0., 0.])"
   ]
  },
  {
   "cell_type": "code",
   "execution_count": 14,
   "metadata": {},
   "outputs": [
    {
     "data": {
      "text/plain": [
       "([array([-9.43689571e-16, -2.78171514e+00, -1.97554566e-01])],\n",
       " array([[ 7.77156117e-16,  3.34437429e-01, -1.43545525e+00],\n",
       "        [ 3.34437441e-01, -2.31065167e-15,  8.56723775e-16],\n",
       "        [-1.43545524e+00,  1.29170526e-15,  1.91513472e-15]]))"
      ]
     },
     "execution_count": 14,
     "metadata": {},
     "output_type": "execute_result"
    }
   ],
   "source": [
    "pyoproblem.dBdX([3.9, 0., 0.])"
   ]
  },
  {
   "cell_type": "code",
   "execution_count": 25,
   "metadata": {},
   "outputs": [
    {
     "data": {
      "text/plain": [
       "(0.3009218239153299, 0.3440880707298118)"
      ]
     },
     "execution_count": 25,
     "metadata": {},
     "output_type": "execute_result"
    }
   ],
   "source": [
    "pyoproblem._mf_B.estimate_error_B(1000)"
   ]
  },
  {
   "cell_type": "code",
   "execution_count": 21,
   "metadata": {},
   "outputs": [
    {
     "data": {
      "text/plain": [
       "<simsopt.geo.surface.SurfaceClassifier at 0x1994dd1e1a0>"
      ]
     },
     "execution_count": 21,
     "metadata": {},
     "output_type": "execute_result"
    }
   ],
   "source": [
    "pyoproblem.surfclassifier"
   ]
  },
  {
   "cell_type": "code",
   "execution_count": 14,
   "metadata": {},
   "outputs": [],
   "source": [
    "import numpy as np"
   ]
  },
  {
   "cell_type": "code",
   "execution_count": 96,
   "metadata": {},
   "outputs": [
    {
     "data": {
      "text/plain": [
       "6.322313735882947e-09"
      ]
     },
     "execution_count": 96,
     "metadata": {},
     "output_type": "execute_result"
    }
   ],
   "source": [
    "pyoproblem._Z0"
   ]
  },
  {
   "cell_type": "code",
   "execution_count": 55,
   "metadata": {},
   "outputs": [],
   "source": [
    "phis = [0]    #[(i / 4) * (2 * np.pi / nfp) for i in range(4)]\n",
    "\n",
    "nfieldlines = 20\n",
    "p1 = np.array([pyoproblem._R0, pyoproblem._Z0])\n",
    "p2 = np.array([3.831, 0.75])\n",
    "# p2 = np.array(results_x1[0][::2])\n",
    "Rs = np.linspace(p1[0], p2[0], nfieldlines)\n",
    "Zs = np.linspace(p1[1], p2[1], nfieldlines)\n",
    "\n",
    "RZs = np.array([[r, z] for r, z in zip(Rs.flatten(), Zs.flatten())])"
   ]
  },
  {
   "cell_type": "code",
   "execution_count": 56,
   "metadata": {},
   "outputs": [],
   "source": [
    "from horus import poincare"
   ]
  },
  {
   "cell_type": "code",
   "execution_count": 57,
   "metadata": {},
   "outputs": [],
   "source": [
    "pplane = poincare(pyoproblem._mf_B, RZs, phis, pyoproblem.surfclassifier, tol = 1e-15, plot=False, tmax=100)"
   ]
  },
  {
   "cell_type": "code",
   "execution_count": 58,
   "metadata": {},
   "outputs": [],
   "source": [
    "import matplotlib.pyplot as plt\n",
    "%matplotlib ipympl\n",
    "plt.style.use('lateky')"
   ]
  },
  {
   "cell_type": "code",
   "execution_count": 59,
   "metadata": {},
   "outputs": [],
   "source": [
    "plt.ioff()\n",
    "fig, ax = pplane.plot(phis)\n",
    "ax = ax[0,0]"
   ]
  },
  {
   "cell_type": "code",
   "execution_count": 60,
   "metadata": {},
   "outputs": [
    {
     "data": {
      "application/vnd.jupyter.widget-view+json": {
       "model_id": "377408d9e51b4639928f38b0e38db333",
       "version_major": 2,
       "version_minor": 0
      },
      "image/png": "[encoded data removed]",
      "text/html": [
       "\n",
       "            <div style=\"display: inline-block;\">\n",
       "                <div class=\"jupyter-widgets widget-label\" style=\"text-align: center;\">\n",
       "                    Figure 2\n",
       "                </div>\n",
       "                <img src='data:image/png;base64,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' width=800.0/>\n",
       "            </div>\n",
       "        "
      ],
      "text/plain": [
       "Canvas(toolbar=Toolbar(toolitems=[('Home', 'Reset original view', 'home', 'home'), ('Back', 'Back to previous …"
      ]
     },
     "metadata": {},
     "output_type": "display_data"
    }
   ],
   "source": [
    "display(fig.canvas)"
   ]
  },
  {
   "cell_type": "code",
   "execution_count": 71,
   "metadata": {},
   "outputs": [
    {
     "name": "stdout",
     "output_type": "stream",
     "text": [
      "0 - [DeltaR, DeltaZ] : [-2.54019028e-13  2.22044605e-16] - dtheta : 18.849573672250436\n",
      "0 - [DeltaR, DeltaZ] : [-9.81437154e-14  5.30686606e-14] - dtheta : 18.849537282843922\n"
     ]
    },
    {
     "data": {
      "text/plain": [
       "<pyoculus.solvers.base_solver.BaseSolver.OutputData at 0x2dfaabf6140>"
      ]
     },
     "execution_count": 71,
     "metadata": {},
     "output_type": "execute_result"
    }
   ],
   "source": [
    "from pyoculus.problems import FixedPoint\n",
    "\n",
    "# set up the integrator\n",
    "iparams = dict()\n",
    "iparams[\"rtol\"] = 1e-13\n",
    "\n",
    "pparams = dict()\n",
    "pparams[\"nrestart\"] = 0\n",
    "pparams[\"tol\"] = 1e-15\n",
    "pparams['niter'] = 100\n",
    "# pparams[\"Z\"] = 0 \n",
    "\n",
    "fp_x1 = FixedPoint(pyoproblem, pparams, integrator_params=iparams)\n",
    "fp_x1.compute(guess=[3.8962460336210425, 0.5584712678454549], pp=5, qq=15, sbegin=2, send=6, checkonly=True)\n",
    "\n",
    "fp_x2 = FixedPoint(pyoproblem, pparams, integrator_params=iparams)\n",
    "fp_x2.compute(guess=[3.896246033649848, -0.5584712678389868], pp=5, qq=15, sbegin=2, send=6, checkonly=True)"
   ]
  },
  {
   "cell_type": "code",
   "execution_count": 72,
   "metadata": {},
   "outputs": [],
   "source": [
    "results_x1 = [list(p) for p in zip(fp_x1.x, fp_x1.y, fp_x1.z)]\n",
    "results_x2 = [list(p) for p in zip(fp_x2.x, fp_x2.y, fp_x2.z)]"
   ]
  },
  {
   "cell_type": "code",
   "execution_count": null,
   "metadata": {},
   "outputs": [],
   "source": [
    "ax.scatter(results_x1[0][0], results_x1[0][2], marker=\"X\", edgecolors=\"black\", linewidths=1)\n",
    "ax.scatter(results_x2[0][0], results_x2[0][2], marker=\"X\", edgecolors=\"black\", linewidths=1)"
   ]
  },
  {
   "cell_type": "code",
   "execution_count": 73,
   "metadata": {},
   "outputs": [
    {
     "data": {
      "text/plain": [
       "[3.8962460336210425, 0.0, 0.5584712678454549]"
      ]
     },
     "execution_count": 73,
     "metadata": {},
     "output_type": "execute_result"
    }
   ],
   "source": [
    "results_x1[0]"
   ]
  },
  {
   "cell_type": "code",
   "execution_count": 1,
   "metadata": {},
   "outputs": [
    {
     "ename": "NameError",
     "evalue": "name 'ps' is not defined",
     "output_type": "error",
     "traceback": [
      "\u001b[1;31m---------------------------------------------------------------------------\u001b[0m",
      "\u001b[1;31mNameError\u001b[0m                                 Traceback (most recent call last)",
      "Cell \u001b[1;32mIn [1], line 2\u001b[0m\n\u001b[0;32m      1\u001b[0m \u001b[38;5;28;01mfrom\u001b[39;00m \u001b[38;5;21;01mhorus\u001b[39;00m \u001b[38;5;28;01mimport\u001b[39;00m trace\n\u001b[1;32m----> 2\u001b[0m gamma \u001b[38;5;241m=\u001b[39m trace(\u001b[43mps\u001b[49m\u001b[38;5;241m.\u001b[39m_mf, \u001b[38;5;241m20\u001b[39m\u001b[38;5;241m*\u001b[39m\u001b[38;5;241m2\u001b[39m\u001b[38;5;241m*\u001b[39mnp\u001b[38;5;241m.\u001b[39mpi, results_x1[\u001b[38;5;241m0\u001b[39m], tol\u001b[38;5;241m=\u001b[39m\u001b[38;5;241m1e-13\u001b[39m)[\u001b[38;5;241m0\u001b[39m]\n\u001b[0;32m      4\u001b[0m colors \u001b[38;5;241m=\u001b[39m [(\u001b[38;5;241m1\u001b[39m,\u001b[38;5;241m0\u001b[39m,\u001b[38;5;241m0\u001b[39m), (\u001b[38;5;241m0\u001b[39m,\u001b[38;5;241m1\u001b[39m,\u001b[38;5;241m0\u001b[39m), (\u001b[38;5;241m0\u001b[39m,\u001b[38;5;241m0\u001b[39m,\u001b[38;5;241m1\u001b[39m), (\u001b[38;5;241m1\u001b[39m,\u001b[38;5;241m1\u001b[39m,\u001b[38;5;241m0\u001b[39m), (\u001b[38;5;241m0\u001b[39m,\u001b[38;5;241m1\u001b[39m,\u001b[38;5;241m1\u001b[39m)]\n\u001b[0;32m      5\u001b[0m \u001b[38;5;28;01mfor\u001b[39;00m ii, phi \u001b[38;5;129;01min\u001b[39;00m \u001b[38;5;28menumerate\u001b[39m([\u001b[38;5;241m0\u001b[39m, \u001b[38;5;241m2\u001b[39m\u001b[38;5;241m*\u001b[39mnp\u001b[38;5;241m.\u001b[39mpi\u001b[38;5;241m/\u001b[39m\u001b[38;5;241m5\u001b[39m, \u001b[38;5;241m4\u001b[39m\u001b[38;5;241m*\u001b[39mnp\u001b[38;5;241m.\u001b[39mpi\u001b[38;5;241m/\u001b[39m\u001b[38;5;241m5\u001b[39m, \u001b[38;5;241m6\u001b[39m\u001b[38;5;241m*\u001b[39mnp\u001b[38;5;241m.\u001b[39mpi\u001b[38;5;241m/\u001b[39m\u001b[38;5;241m5\u001b[39m, \u001b[38;5;241m8\u001b[39m\u001b[38;5;241m*\u001b[39mnp\u001b[38;5;241m.\u001b[39mpi\u001b[38;5;241m/\u001b[39m\u001b[38;5;241m5\u001b[39m]):\n",
      "\u001b[1;31mNameError\u001b[0m: name 'ps' is not defined"
     ]
    }
   ],
   "source": [
    "from horus import trace\n",
    "gamma = trace(ps._mf, 20*2*np.pi, results_x1[0], tol=1e-13)[0]\n",
    "\n",
    "colors = [(1,0,0), (0,1,0), (0,0,1), (1,1,0), (0,1,1)]\n",
    "for ii, phi in enumerate([0, 2*np.pi/5, 4*np.pi/5, 6*np.pi/5, 8*np.pi/5]):\n",
    "    for r, z in zip(rrange, zrange):\n",
    "        x = r * np.cos(phi)\n",
    "        y = r * np.sin(phi)\n",
    "        mlab.points3d([x], [y], [z], scale_factor=0.1, color=colors[ii])\n",
    "\n",
    "for coil in coils:\n",
    "    coil.plot(engine='mayavi', show=False, close=True)\n",
    "\n",
    "mlab.plot3d(gamma[0, :], gamma[1, :], gamma[2, :], tube_radius=0.01, color=(0, 0, 1))\n",
    "mlab.show()"
   ]
  },
  {
   "cell_type": "code",
   "execution_count": 98,
   "metadata": {},
   "outputs": [],
   "source": [
    "import pickle\n",
    "tys, phi_hits = pickle.load(open(\"pplane.pkl\", \"rb\"))"
   ]
  },
  {
   "cell_type": "code",
   "execution_count": 100,
   "metadata": {},
   "outputs": [],
   "source": [
    "from horus import plot_poincare_data"
   ]
  },
  {
   "cell_type": "code",
   "execution_count": 105,
   "metadata": {},
   "outputs": [
    {
     "data": {
      "image/png": "[encoded data removed]",
      "text/plain": [
       "<Figure size 800x500 with 1 Axes>"
      ]
     },
     "metadata": {},
     "output_type": "display_data"
    }
   ],
   "source": [
    "fig, ax = plot_poincare_data(phi_hits, [0])\n",
    "display(fig)"
   ]
  }
 ],
 "metadata": {
  "kernelspec": {
   "display_name": "simsopt",
   "language": "python",
   "name": "python3"
  },
  "language_info": {
   "codemirror_mode": {
    "name": "ipython",
    "version": 3
   },
   "file_extension": ".py",
   "mimetype": "text/x-python",
   "name": "python",
   "nbconvert_exporter": "python",
   "pygments_lexer": "ipython3",
   "version": "3.10.13"
  }
 },
 "nbformat": 4,
 "nbformat_minor": 2
}
