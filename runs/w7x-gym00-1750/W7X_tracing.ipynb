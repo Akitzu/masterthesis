{
 "cells": [
  {
   "cell_type": "code",
   "execution_count": 1,
   "metadata": {},
   "outputs": [],
   "source": [
    "import numpy as np\n",
    "from mayavi import mlab\n",
    "import matplotlib.pyplot as plt\n",
    "import pickle\n",
    "import horus as ho"
   ]
  },
  {
   "cell_type": "code",
   "execution_count": 11,
   "metadata": {},
   "outputs": [],
   "source": [
    "from simsopt.configs import get_w7x_data\n",
    "curves, currents, ma = get_w7x_data()"
   ]
  },
  {
   "cell_type": "code",
   "execution_count": 3,
   "metadata": {},
   "outputs": [],
   "source": [
    "from simsopt.geo import SurfaceRZFourier\n",
    "s = SurfaceRZFourier.from_nphi_ntheta(\n",
    "    mpol=5,\n",
    "    ntor=5,\n",
    "    stellsym=True,\n",
    "    nfp=3,\n",
    "    range=\"full torus\",\n",
    "    nphi=64,\n",
    "    ntheta=24,\n",
    ")\n",
    "s.fit_to_curve(ma, 1.5, flip_theta=False)"
   ]
  },
  {
   "cell_type": "code",
   "execution_count": 12,
   "metadata": {},
   "outputs": [],
   "source": [
    "s.plot(engine=\"mayavi\", show=False, opacity=0.5)\n",
    "\n",
    "for coil in coils:\n",
    "    coil.plot(engine=\"mayavi\", show=False)\n",
    "\n",
    "mlab.show()"
   ]
  },
  {
   "cell_type": "code",
   "execution_count": 4,
   "metadata": {},
   "outputs": [],
   "source": [
    "default_config = [curr.current for curr in currents]"
   ]
  },
  {
   "cell_type": "code",
   "execution_count": 6,
   "metadata": {},
   "outputs": [],
   "source": [
    "from simsopt.field import Current, coils_via_symmetries\n",
    "# GYM00+1750\n",
    "currents = [Current(1.109484 * 1e6) for _ in range(5)]\n",
    "currents.append(Current(-0.3661 * 1e6))\n",
    "currents.append(Current(-0.3661 * 1e6))\n",
    "\n",
    "gym_config = [curr.current for curr in currents]\n",
    "\n",
    "# # \n",
    "# currents = [Current(1.109484) * 1e6 for _ in range(5)]\n",
    "# currents.append(Current(-0.3661) * 1e6)\n",
    "# currents.append(Current(-0.3661) * 1e6)\n",
    "\n",
    "# currents = [Current(1.109484) * 1e6 for _ in range(5)]\n",
    "# currents.append(Current(-0.3661) * 1e6)\n",
    "# currents.append(Current(-0.3661) * 1e6)"
   ]
  },
  {
   "cell_type": "code",
   "execution_count": 8,
   "metadata": {},
   "outputs": [],
   "source": [
    "scaling = 1\n",
    "currents = [Current((1-scaling)*currD + scaling*currG) for currD, currG in zip(default_config, gym_config)]"
   ]
  },
  {
   "cell_type": "code",
   "execution_count": 9,
   "metadata": {},
   "outputs": [
    {
     "name": "stdout",
     "output_type": "stream",
     "text": [
      "Default config:  [1620000.0, 1620000.0, 1620000.0, 1620000.0, 1620000.0, 0.0, 0.0]\n",
      "Gym config:  [1109484.0, 1109484.0, 1109484.0, 1109484.0, 1109484.0, -366100.0, -366100.0]\n",
      "Actual config:  [1109484.0, 1109484.0, 1109484.0, 1109484.0, 1109484.0, -366100.0, -366100.0]\n"
     ]
    }
   ],
   "source": [
    "print(\"Default config: \", default_config)\n",
    "print(\"Gym config: \", gym_config)\n",
    "print(\"Actual config: \", [curr.current for curr in currents])"
   ]
  },
  {
   "cell_type": "code",
   "execution_count": 13,
   "metadata": {},
   "outputs": [],
   "source": [
    "coils = coils_via_symmetries(curves, currents, 5, True)"
   ]
  },
  {
   "cell_type": "code",
   "execution_count": 15,
   "metadata": {},
   "outputs": [],
   "source": [
    "from pyoculus.problems import SimsoptBfieldProblem, surf_from_coils"
   ]
  },
  {
   "cell_type": "code",
   "execution_count": 18,
   "metadata": {},
   "outputs": [
    {
     "name": "stdout",
     "output_type": "stream",
     "text": [
      "{'ncoils': 7, 'mpol': 5, 'ntor': 5}\n"
     ]
    }
   ],
   "source": [
    "surf = surf_from_coils(coils, ncoils=7, mpol=5, ntor=5)"
   ]
  },
  {
   "cell_type": "code",
   "execution_count": 19,
   "metadata": {},
   "outputs": [
    {
     "ename": "",
     "evalue": "",
     "output_type": "error",
     "traceback": [
      "\u001b[1;31mThe Kernel crashed while executing code in the current cell or a previous cell. \n",
      "\u001b[1;31mPlease review the code in the cell(s) to identify a possible cause of the failure. \n",
      "\u001b[1;31mClick <a href='https://aka.ms/vscodeJupyterKernelCrash'>here</a> for more info. \n",
      "\u001b[1;31mView Jupyter <a href='command:jupyter.viewOutput'>log</a> for further details."
     ]
    }
   ],
   "source": [
    "surf.plot(engine=\"mayavi\", show=False, opacity=0.5)\n",
    "\n",
    "for coil in coils:\n",
    "    coil.plot(engine=\"mayavi\", show=False)\n",
    "\n",
    "mlab.show()"
   ]
  },
  {
   "cell_type": "code",
   "execution_count": 16,
   "metadata": {},
   "outputs": [],
   "source": [
    "R0, _, Z0 = ma.gamma()[0,:]\n",
    "ps = SimsoptBfieldProblem.from_coils(R0=R0, Z0=Z0, Nfp=5, coils=coils, surf=s)"
   ]
  },
  {
   "cell_type": "code",
   "execution_count": 19,
   "metadata": {},
   "outputs": [
    {
     "name": "stdout",
     "output_type": "stream",
     "text": [
      "{'ncoils': 7, 'mpol': 7, 'ntor': 7, 'n': 40}\n"
     ]
    }
   ],
   "source": [
    "R0, _, Z0 = ma.gamma()[0,:]\n",
    "ps = SimsoptBfieldProblem.from_coils(R0=R0, Z0=Z0, Nfp=5, coils=coils, interpolate=True, ncoils=7, mpol=7, ntor=7, n=40)"
   ]
  },
  {
   "cell_type": "code",
   "execution_count": null,
   "metadata": {},
   "outputs": [],
   "source": [
    "ps._mf_B.estimate_error_B(10000)"
   ]
  },
  {
   "cell_type": "code",
   "execution_count": null,
   "metadata": {},
   "outputs": [],
   "source": [
    "ps._mf_B.estimate_error_GradAbsB(1000)"
   ]
  },
  {
   "cell_type": "markdown",
   "metadata": {},
   "source": [
    "#### Plot the current difference"
   ]
  },
  {
   "cell_type": "code",
   "execution_count": null,
   "metadata": {},
   "outputs": [],
   "source": [
    "curr_diff = []\n",
    "for actual, base in zip(currents,  w7x[1]):\n",
    "    print(base.current, \" | \", actual.current_to_scale.current * 1e6)\n",
    "    curr_diff.append(actual.current_to_scale.current * 1e6 - base.current)"
   ]
  },
  {
   "cell_type": "code",
   "execution_count": null,
   "metadata": {},
   "outputs": [],
   "source": [
    "curr_diff"
   ]
  },
  {
   "cell_type": "code",
   "execution_count": null,
   "metadata": {},
   "outputs": [],
   "source": [
    "cmap = plt.colormaps['RdBu']\n",
    "norm = plt.Normalize(min(curr_diff), max(curr_diff))\n",
    "colors = cmap(norm(curr_diff))\n",
    "colors = colors[:, :3]"
   ]
  },
  {
   "cell_type": "code",
   "execution_count": null,
   "metadata": {},
   "outputs": [],
   "source": [
    "def rep(data):\n",
    "            if close:\n",
    "                return np.concatenate((data, [data[0]]))\n",
    "            else:\n",
    "                return data"
   ]
  },
  {
   "cell_type": "code",
   "execution_count": null,
   "metadata": {},
   "outputs": [],
   "source": [
    "# Assuming curr_diff is a list of differences in currents\n",
    "# Normalize curr_diff to the range [0, 1] for coloring\n",
    "\n",
    "# Plot the coils\n",
    "for i, coil in enumerate(coils):\n",
    "    c\n",
    "\n",
    "\n",
    "mlab.colorbar(orientation='vertical', title='Current Difference')\n",
    "mlab.show()"
   ]
  },
  {
   "cell_type": "code",
   "execution_count": null,
   "metadata": {},
   "outputs": [],
   "source": [
    "from mayavi import mlab\n",
    "for i, coil in enumerate(coils):\n",
    "    coil.plot(engine=\"mayavi\", show=False, color=tuple(colors[i%7]))\n",
    "\n",
    "# get the current lut manager\n",
    "mlab.colorbar(orientation='vertical', title='Current Difference')\n",
    "mlab.show()"
   ]
  },
  {
   "cell_type": "markdown",
   "metadata": {},
   "source": [
    "#### Poincare"
   ]
  },
  {
   "cell_type": "code",
   "execution_count": null,
   "metadata": {},
   "outputs": [],
   "source": [
    "for coil in coils:\n",
    "    coil.plot(engine=\"mayavi\", show=False)\n",
    "\n",
    "mlab.show()"
   ]
  },
  {
   "cell_type": "code",
   "execution_count": null,
   "metadata": {},
   "outputs": [],
   "source": [
    "phis = [0]    #[(i / 4) * (2 * np.pi / nfp) for i in range(4)]\n",
    "\n",
    "nfieldlines = 1\n",
    "Rs = np.linspace(6.05, 6.2, nfieldlines)\n",
    "Zs = [ma.gamma()[0, 2] for _ in range(nfieldlines)]\n",
    "RZs = np.array([[r, z] for r, z in zip(Rs, Zs)])\n",
    "\n",
    "nfieldlines = 2\n",
    "p1 = np.array([5.6144507858315915, -0.8067790944375764])\n",
    "p2 = np.array([5.78, -0.6])\n",
    "Rs = np.linspace(p1[0], p2[0], nfieldlines)\n",
    "Zs = np.linspace(p1[1], p2[1], nfieldlines)\n",
    "Rs, Zs = np.meshgrid(Rs, Zs)\n",
    "RZs2 = np.array([[r, z] for r, z in zip(Rs.flatten(), Zs.flatten())])\n",
    "\n",
    "RZs = np.concatenate((RZs, RZs2))"
   ]
  },
  {
   "cell_type": "code",
   "execution_count": null,
   "metadata": {},
   "outputs": [],
   "source": [
    "ax.plot(RZs[:, 0], RZs[:, 1], '+')\n",
    "fig"
   ]
  },
  {
   "cell_type": "code",
   "execution_count": null,
   "metadata": {},
   "outputs": [],
   "source": [
    "tys, phis = ho.poincare(bsh, RZs, phis, sc_fieldline, tol = 1e-10, plot=False)"
   ]
  },
  {
   "cell_type": "code",
   "execution_count": null,
   "metadata": {},
   "outputs": [],
   "source": [
    "_, _, fig, ax = ho.poincare(bsh, RZs, phis, sc_fieldline, tol = 1e-10)"
   ]
  },
  {
   "cell_type": "code",
   "execution_count": null,
   "metadata": {},
   "outputs": [],
   "source": [
    "for col in ax[0,0].collections:\n",
    "    col.set_color('black')\n",
    "    col.set_sizes([0.5])"
   ]
  },
  {
   "cell_type": "code",
   "execution_count": null,
   "metadata": {},
   "outputs": [],
   "source": [
    "fig"
   ]
  },
  {
   "cell_type": "code",
   "execution_count": null,
   "metadata": {},
   "outputs": [],
   "source": [
    "# import pickle\n",
    "# pickle.dump(fig, open(\"../output/poincare_GYM000+1750_chaotic_black.pickle\", \"wb\"))"
   ]
  },
  {
   "cell_type": "markdown",
   "metadata": {},
   "source": [
    "#### Finding fix-point"
   ]
  },
  {
   "cell_type": "code",
   "execution_count": 31,
   "metadata": {},
   "outputs": [],
   "source": [
    "fig = pickle.load(open(\"../../runs/w7x-gym00-1750/W7X_GYM000-1750_poincare_black.pkl\", \"rb\"))\n",
    "ax = fig.get_axes()[0]\n",
    "plt.show()"
   ]
  },
  {
   "cell_type": "code",
   "execution_count": 32,
   "metadata": {},
   "outputs": [
    {
     "data": {
      "image/png": "[encoded data removed]",
      "text/plain": [
       "<Figure size 800x500 with 1 Axes>"
      ]
     },
     "execution_count": 32,
     "metadata": {},
     "output_type": "execute_result"
    }
   ],
   "source": [
    "fig"
   ]
  },
  {
   "cell_type": "code",
   "execution_count": 33,
   "metadata": {},
   "outputs": [
    {
     "data": {
      "image/png": "[encoded data removed]",
      "text/plain": [
       "<Figure size 800x500 with 1 Axes>"
      ]
     },
     "execution_count": 33,
     "metadata": {},
     "output_type": "execute_result"
    }
   ],
   "source": [
    "# guess = [5.6, 0.8] # O point\n",
    "guess = [5.7, 0.5] # X point\n",
    "# guess = [5.78, -0.6]\n",
    "ax.scatter(guess[0], guess[1], c='r', s=10)\n",
    "fig"
   ]
  },
  {
   "cell_type": "code",
   "execution_count": null,
   "metadata": {},
   "outputs": [],
   "source": [
    "gamma = ho.trace(ps._mf, 40*2*np.pi, [5.72, 0, 0.68], tol=1e-9)"
   ]
  },
  {
   "cell_type": "code",
   "execution_count": null,
   "metadata": {},
   "outputs": [],
   "source": [
    "from mayavi import mlab\n",
    "for coil in coils:\n",
    "    coil.plot(engine=\"mayavi\", show=False)\n",
    "\n",
    "mlab.plot3d(gamma[0, :], gamma[1, :], gamma[2, :], tube_radius=0.01, color=(0, 0, 1))\n",
    "\n",
    "mlab.show()"
   ]
  },
  {
   "cell_type": "code",
   "execution_count": 34,
   "metadata": {},
   "outputs": [],
   "source": [
    "from pyoculus.problems import FixedPoint"
   ]
  },
  {
   "cell_type": "code",
   "execution_count": 35,
   "metadata": {},
   "outputs": [],
   "source": [
    "# set up the integrator\n",
    "iparams = dict()\n",
    "iparams[\"rtol\"] = 1e-12\n",
    "\n",
    "pparams = dict()\n",
    "pparams[\"nrestart\"] = 0\n",
    "pparams[\"tol\"] = 1e-18\n",
    "pparams['niter'] = 100\n",
    "\n",
    "fp = FixedPoint(ps, pparams, integrator_params=iparams)"
   ]
  },
  {
   "cell_type": "code",
   "execution_count": 36,
   "metadata": {},
   "outputs": [
    {
     "name": "stdout",
     "output_type": "stream",
     "text": [
      "0 - [DeltaR, DeltaZ] : [ 0.01067771 -0.06341709] - dtheta : 0.14865421704473425\n",
      "0 - [StepR, StepZ]: [-0.0181231   0.05665339]\n",
      "1 - RZ : [5.6818769  0.55665339] - rhotheta : [0.6172635  2.01765653]\n",
      "1 - [DeltaR, DeltaZ] : [ 0.01083827 -0.02350714] - dtheta : 0.08381242786902598\n",
      "1 - [StepR, StepZ]: [ 0.01740229 -0.0295264 ]\n",
      "2 - RZ : [5.69927919 0.52712699] - rhotheta : [0.58312357 2.01262481]\n",
      "2 - [DeltaR, DeltaZ] : [0.00032629 0.00093293] - dtheta : 0.0821599743680892\n",
      "2 - [StepR, StepZ]: [ 0.00026283 -0.00146953]\n",
      "3 - RZ : [5.69954203 0.52565746] - rhotheta : [0.5816829  2.01329659]\n",
      "3 - [DeltaR, DeltaZ] : [ 1.73174147e-05 -3.21407955e-05] - dtheta : 0.08399502336201614\n",
      "3 - [StepR, StepZ]: [ 2.79426029e-05 -5.41015638e-05]\n",
      "4 - RZ : [5.69956997 0.52560336] - rhotheta : [0.58162205 2.01329301]\n",
      "4 - [DeltaR, DeltaZ] : [6.04652328e-10 4.24091118e-09] - dtheta : 0.08400228767039364\n",
      "4 - [StepR, StepZ]: [ 2.52374122e-10 -3.83758947e-09]\n",
      "5 - RZ : [5.69956997 0.52560335] - rhotheta : [0.58162204 2.01329301]\n",
      "5 - [DeltaR, DeltaZ] : [ 7.10542736e-15 -1.74305015e-14] - dtheta : 0.08400229393357872\n"
     ]
    },
    {
     "data": {
      "text/plain": [
       "<pyoculus.solvers.base_solver.BaseSolver.OutputData at 0x19100034c10>"
      ]
     },
     "execution_count": 36,
     "metadata": {},
     "output_type": "execute_result"
    }
   ],
   "source": [
    "fp.compute(guess=[5.69956997 0.52560335], pp=5, qq=4, sbegin=5.2, send=6.2, checkonly=True)"
   ]
  },
  {
   "cell_type": "code",
   "execution_count": null,
   "metadata": {},
   "outputs": [],
   "source": [
    "results = [list(p) for p in zip(fp.x, fp.y, fp.z)]"
   ]
  },
  {
   "cell_type": "code",
   "execution_count": null,
   "metadata": {},
   "outputs": [],
   "source": [
    "results"
   ]
  },
  {
   "cell_type": "code",
   "execution_count": null,
   "metadata": {},
   "outputs": [],
   "source": [
    "for rr in results:\n",
    "    ax.scatter(rr[0], rr[2], marker=\"X\", edgecolors=\"black\", linewidths=1)\n",
    "fig"
   ]
  },
  {
   "cell_type": "markdown",
   "metadata": {},
   "source": [
    "#### Tracing stable and unstable manifolds"
   ]
  },
  {
   "cell_type": "code",
   "execution_count": 38,
   "metadata": {},
   "outputs": [
    {
     "name": "stdout",
     "output_type": "stream",
     "text": [
      "0 - [DeltaR, DeltaZ] : [-6.54552856e-10 -6.48547227e-09] - dtheta : 0.0840023028364012\n",
      "0 - [StepR, StepZ]: [-1.76987314e-11  4.84256191e-09]\n",
      "1 - RZ : [5.69956997 0.52560335] - rhotheta : [0.58162204 2.01329301]\n",
      "1 - [DeltaR, DeltaZ] : [-4.35207426e-14  2.03170814e-14] - dtheta : 0.08400229393363512\n",
      "0 - [DeltaR, DeltaZ] : [-1.00195408e-09  1.26540922e-09] - dtheta : 0.021447542892923943\n",
      "0 - [StepR, StepZ]: [ 7.52290674e-10 -8.46452131e-10]\n",
      "1 - RZ : [5.88346211 0.65567497] - rhotheta : [0.65890444 1.6698446 ]\n",
      "1 - [DeltaR, DeltaZ] : [ 4.08562073e-14 -4.64073224e-14] - dtheta : 0.021447541283128313\n"
     ]
    },
    {
     "data": {
      "text/plain": [
       "<pyoculus.solvers.base_solver.BaseSolver.OutputData at 0x19100036fb0>"
      ]
     },
     "execution_count": 38,
     "metadata": {},
     "output_type": "execute_result"
    }
   ],
   "source": [
    "fp_x1 = FixedPoint(ps, pparams, integrator_params=iparams)\n",
    "fp_x2 = FixedPoint(ps, pparams, integrator_params=iparams)\n",
    "\n",
    "fp_x1.compute(guess=[5.69956997, 0.52560335], pp=5, qq=4, sbegin=5.2, send=6.2, checkonly=True)\n",
    "fp_x2.compute(guess=[5.883462104879646, 0.6556749703570318], pp=5, qq=4, sbegin=5.2, send=6.2, checkonly=True)"
   ]
  },
  {
   "cell_type": "code",
   "execution_count": 40,
   "metadata": {},
   "outputs": [],
   "source": [
    "from pyoculus.solvers import Manifold"
   ]
  },
  {
   "cell_type": "code",
   "execution_count": 41,
   "metadata": {},
   "outputs": [],
   "source": [
    "iparam = dict()\n",
    "iparam[\"rtol\"] = 1e-13\n",
    "\n",
    "mp = Manifold(ps, fp_x1, fp_x2, integrator_params=iparam)\n",
    "mp.choose(signs=[[1, -1], [-1, 1]], order=False)"
   ]
  },
  {
   "cell_type": "code",
   "execution_count": null,
   "metadata": {},
   "outputs": [],
   "source": [
    "histories = mp.outer[\"clinic_history\"]\n",
    "marker = ['d', 's']\n",
    "colors = ['tab:blue', 'tab:orange']\n",
    "\n",
    "clinics = mp.outer[\"clinics\"]\n",
    "ax.scatter(*clinics[0][-1], marker=marker[0], color=colors[0], edgecolor='grey', zorder=13)\n",
    "ax.scatter(*clinics[1][-1], marker=marker[1], color=colors[1], edgecolor='grey', zorder=13)\n",
    "\n",
    "for jj in range(8):\n",
    "    for ii in range(2):\n",
    "        fb = histories[ii][0][jj]\n",
    "        ax.scatter(*fb, marker=marker[ii], color=colors[ii], edgecolor='grey', zorder=13)\n",
    "        fb = histories[ii][1][jj]\n",
    "        ax.scatter(*fb, marker=marker[ii], color=colors[ii], edgecolor='grey', zorder=13)"
   ]
  },
  {
   "cell_type": "code",
   "execution_count": 44,
   "metadata": {},
   "outputs": [
    {
     "ename": "KeyboardInterrupt",
     "evalue": "",
     "output_type": "error",
     "traceback": [
      "\u001b[1;31m---------------------------------------------------------------------------\u001b[0m",
      "\u001b[1;31mKeyboardInterrupt\u001b[0m                         Traceback (most recent call last)",
      "Cell \u001b[1;32mIn [44], line 2\u001b[0m\n\u001b[0;32m      1\u001b[0m mp\u001b[38;5;241m.\u001b[39monworking \u001b[38;5;241m=\u001b[39m mp\u001b[38;5;241m.\u001b[39mouter\n\u001b[1;32m----> 2\u001b[0m \u001b[43mmp\u001b[49m\u001b[38;5;241;43m.\u001b[39;49m\u001b[43mfind_clinics\u001b[49m\u001b[43m(\u001b[49m\u001b[43mn_points\u001b[49m\u001b[38;5;241;43m=\u001b[39;49m\u001b[38;5;241;43m2\u001b[39;49m\u001b[43m,\u001b[49m\u001b[43m \u001b[49m\u001b[43mjac\u001b[49m\u001b[38;5;241;43m=\u001b[39;49m\u001b[38;5;28;43;01mFalse\u001b[39;49;00m\u001b[43m)\u001b[49m\n",
      "File \u001b[1;32m~\\kDrive\\etudes\\EPFL\\masterthesis\\imports\\pyoculus\\pyoculus\\solvers\\manifold.py:616\u001b[0m, in \u001b[0;36mManifold.find_clinics\u001b[1;34m(self, indices, n_points, m, **kwargs)\u001b[0m\n\u001b[0;32m    614\u001b[0m \u001b[38;5;28;01mdef\u001b[39;00m \u001b[38;5;21mfind_clinics\u001b[39m(\u001b[38;5;28mself\u001b[39m, indices \u001b[38;5;241m=\u001b[39m \u001b[38;5;28;01mNone\u001b[39;00m, n_points \u001b[38;5;241m=\u001b[39m \u001b[38;5;241m1\u001b[39m, m \u001b[38;5;241m=\u001b[39m \u001b[38;5;241m0\u001b[39m, \u001b[38;5;241m*\u001b[39m\u001b[38;5;241m*\u001b[39mkwargs):\n\u001b[0;32m    615\u001b[0m     \u001b[38;5;28;01mif\u001b[39;00m \u001b[38;5;28mlen\u001b[39m(\u001b[38;5;28mself\u001b[39m\u001b[38;5;241m.\u001b[39monworking[\u001b[38;5;124m\"\u001b[39m\u001b[38;5;124mclinics\u001b[39m\u001b[38;5;124m\"\u001b[39m]) \u001b[38;5;241m==\u001b[39m \u001b[38;5;241m0\u001b[39m:\n\u001b[1;32m--> 616\u001b[0m         \u001b[38;5;28mself\u001b[39m\u001b[38;5;241m.\u001b[39mfind_clinic_single(\u001b[38;5;241m*\u001b[39m\u001b[38;5;241m*\u001b[39mkwargs)\n\u001b[0;32m    618\u001b[0m     bounds_0 \u001b[38;5;241m=\u001b[39m \u001b[38;5;28mself\u001b[39m\u001b[38;5;241m.\u001b[39monworking[\u001b[38;5;124m\"\u001b[39m\u001b[38;5;124mfundamental_segment\u001b[39m\u001b[38;5;124m\"\u001b[39m]\n\u001b[0;32m    620\u001b[0m     \u001b[38;5;28;01mfor\u001b[39;00m key \u001b[38;5;129;01min\u001b[39;00m [\u001b[38;5;124m'\u001b[39m\u001b[38;5;124mn_s\u001b[39m\u001b[38;5;124m'\u001b[39m, \u001b[38;5;124m'\u001b[39m\u001b[38;5;124mn_u\u001b[39m\u001b[38;5;124m'\u001b[39m]:\n",
      "File \u001b[1;32m~\\kDrive\\etudes\\EPFL\\masterthesis\\imports\\pyoculus\\pyoculus\\solvers\\manifold.py:469\u001b[0m, in \u001b[0;36mManifold.find_clinic_single\u001b[1;34m(self, guess_eps_s, guess_eps_u, **kwargs)\u001b[0m\n\u001b[0;32m    467\u001b[0m \u001b[38;5;66;03m# Initializing the lower bound / Verifying that epsilon lies in linear regime\u001b[39;00m\n\u001b[0;32m    468\u001b[0m \u001b[38;5;28;01mif\u001b[39;00m guess_eps_s \u001b[38;5;129;01mis\u001b[39;00m \u001b[38;5;28;01mNone\u001b[39;00m:\n\u001b[1;32m--> 469\u001b[0m     eps_s_lb \u001b[38;5;241m=\u001b[39m \u001b[38;5;28;43mself\u001b[39;49m\u001b[38;5;241;43m.\u001b[39;49m\u001b[43mfind_epsilon\u001b[49m\u001b[43m(\u001b[49m\u001b[38;5;28;43mself\u001b[39;49m\u001b[38;5;241;43m.\u001b[39;49m\u001b[43monworking\u001b[49m\u001b[43m[\u001b[49m\u001b[38;5;124;43m\"\u001b[39;49m\u001b[38;5;124;43mrfp_s\u001b[39;49m\u001b[38;5;124;43m\"\u001b[39;49m\u001b[43m]\u001b[49m\u001b[43m,\u001b[49m\u001b[43m \u001b[49m\u001b[38;5;28;43mself\u001b[39;49m\u001b[38;5;241;43m.\u001b[39;49m\u001b[43monworking\u001b[49m\u001b[43m[\u001b[49m\u001b[38;5;124;43m\"\u001b[39;49m\u001b[38;5;124;43mvector_s\u001b[39;49m\u001b[38;5;124;43m\"\u001b[39;49m\u001b[43m]\u001b[49m\u001b[43m,\u001b[49m\u001b[43m \u001b[49m\u001b[43mdirection\u001b[49m\u001b[38;5;241;43m=\u001b[39;49m\u001b[38;5;241;43m-\u001b[39;49m\u001b[38;5;241;43m1\u001b[39;49m\u001b[43m)\u001b[49m\n\u001b[0;32m    470\u001b[0m \u001b[38;5;28;01melif\u001b[39;00m (\n\u001b[0;32m    471\u001b[0m     \u001b[38;5;28mself\u001b[39m\u001b[38;5;241m.\u001b[39merror_linear_regime(\n\u001b[0;32m    472\u001b[0m         guess_eps_s, \u001b[38;5;28mself\u001b[39m\u001b[38;5;241m.\u001b[39monworking[\u001b[38;5;124m\"\u001b[39m\u001b[38;5;124mrfp_s\u001b[39m\u001b[38;5;124m\"\u001b[39m], \u001b[38;5;28mself\u001b[39m\u001b[38;5;241m.\u001b[39monworking[\u001b[38;5;124m\"\u001b[39m\u001b[38;5;124mvector_s\u001b[39m\u001b[38;5;124m\"\u001b[39m], direction\u001b[38;5;241m=\u001b[39m\u001b[38;5;241m-\u001b[39m\u001b[38;5;241m1\u001b[39m\n\u001b[0;32m    473\u001b[0m     )\n\u001b[0;32m    474\u001b[0m     \u001b[38;5;241m>\u001b[39m ERR\n\u001b[0;32m    475\u001b[0m ):\n\u001b[0;32m    476\u001b[0m     \u001b[38;5;28;01mraise\u001b[39;00m \u001b[38;5;167;01mValueError\u001b[39;00m(\u001b[38;5;124m\"\u001b[39m\u001b[38;5;124mGuess for stable epsilon is not in the linear regime.\u001b[39m\u001b[38;5;124m\"\u001b[39m)\n",
      "File \u001b[1;32m~\\kDrive\\etudes\\EPFL\\masterthesis\\imports\\pyoculus\\pyoculus\\solvers\\manifold.py:231\u001b[0m, in \u001b[0;36mManifold.find_epsilon\u001b[1;34m(self, rfp, eigenvector, eps_guess, direction)\u001b[0m\n\u001b[0;32m    227\u001b[0m \u001b[38;5;124;03m\"\"\"Find the epsilon that lies in the linear regime.\"\"\"\u001b[39;00m\n\u001b[0;32m    228\u001b[0m find_eps \u001b[38;5;241m=\u001b[39m \u001b[38;5;28;01mlambda\u001b[39;00m x: \u001b[38;5;28mself\u001b[39m\u001b[38;5;241m.\u001b[39merror_linear_regime(\n\u001b[0;32m    229\u001b[0m     x, rfp, eigenvector, direction\u001b[38;5;241m=\u001b[39mdirection\n\u001b[0;32m    230\u001b[0m )\n\u001b[1;32m--> 231\u001b[0m minobj \u001b[38;5;241m=\u001b[39m \u001b[43mminimize\u001b[49m\u001b[43m(\u001b[49m\u001b[43mfind_eps\u001b[49m\u001b[43m,\u001b[49m\u001b[43m \u001b[49m\u001b[43meps_guess\u001b[49m\u001b[43m,\u001b[49m\u001b[43m \u001b[49m\u001b[43mbounds\u001b[49m\u001b[38;5;241;43m=\u001b[39;49m\u001b[43m[\u001b[49m\u001b[43m(\u001b[49m\u001b[38;5;241;43m0\u001b[39;49m\u001b[43m,\u001b[49m\u001b[43m \u001b[49m\u001b[38;5;241;43m1\u001b[39;49m\u001b[43m)\u001b[49m\u001b[43m]\u001b[49m\u001b[43m,\u001b[49m\u001b[43m \u001b[49m\u001b[43mtol\u001b[49m\u001b[38;5;241;43m=\u001b[39;49m\u001b[38;5;241;43m1e-12\u001b[39;49m\u001b[43m)\u001b[49m\n\u001b[0;32m    233\u001b[0m \u001b[38;5;28;01mif\u001b[39;00m \u001b[38;5;129;01mnot\u001b[39;00m minobj\u001b[38;5;241m.\u001b[39msuccess:\n\u001b[0;32m    234\u001b[0m     log\u001b[38;5;241m.\u001b[39mwarning(\n\u001b[0;32m    235\u001b[0m         \u001b[38;5;124m\"\u001b[39m\u001b[38;5;124mSearch for minimum of the linear error failed, using the guess for epsilon.\u001b[39m\u001b[38;5;124m\"\u001b[39m\n\u001b[0;32m    236\u001b[0m     )\n",
      "File \u001b[1;32mc:\\Users\\Ludovic\\miniforge3\\envs\\simsopt\\lib\\site-packages\\scipy\\optimize\\_minimize.py:713\u001b[0m, in \u001b[0;36mminimize\u001b[1;34m(fun, x0, args, method, jac, hess, hessp, bounds, constraints, tol, callback, options)\u001b[0m\n\u001b[0;32m    710\u001b[0m     res \u001b[38;5;241m=\u001b[39m _minimize_newtoncg(fun, x0, args, jac, hess, hessp, callback,\n\u001b[0;32m    711\u001b[0m                              \u001b[38;5;241m*\u001b[39m\u001b[38;5;241m*\u001b[39moptions)\n\u001b[0;32m    712\u001b[0m \u001b[38;5;28;01melif\u001b[39;00m meth \u001b[38;5;241m==\u001b[39m \u001b[38;5;124m'\u001b[39m\u001b[38;5;124ml-bfgs-b\u001b[39m\u001b[38;5;124m'\u001b[39m:\n\u001b[1;32m--> 713\u001b[0m     res \u001b[38;5;241m=\u001b[39m _minimize_lbfgsb(fun, x0, args, jac, bounds,\n\u001b[0;32m    714\u001b[0m                            callback\u001b[38;5;241m=\u001b[39mcallback, \u001b[38;5;241m*\u001b[39m\u001b[38;5;241m*\u001b[39moptions)\n\u001b[0;32m    715\u001b[0m \u001b[38;5;28;01melif\u001b[39;00m meth \u001b[38;5;241m==\u001b[39m \u001b[38;5;124m'\u001b[39m\u001b[38;5;124mtnc\u001b[39m\u001b[38;5;124m'\u001b[39m:\n\u001b[0;32m    716\u001b[0m     res \u001b[38;5;241m=\u001b[39m _minimize_tnc(fun, x0, args, jac, bounds, callback\u001b[38;5;241m=\u001b[39mcallback,\n\u001b[0;32m    717\u001b[0m                         \u001b[38;5;241m*\u001b[39m\u001b[38;5;241m*\u001b[39moptions)\n",
      "File \u001b[1;32mc:\\Users\\Ludovic\\miniforge3\\envs\\simsopt\\lib\\site-packages\\scipy\\optimize\\_lbfgsb_py.py:369\u001b[0m, in \u001b[0;36m_minimize_lbfgsb\u001b[1;34m(fun, x0, args, jac, bounds, disp, maxcor, ftol, gtol, eps, maxfun, maxiter, iprint, callback, maxls, finite_diff_rel_step, **unknown_options)\u001b[0m\n\u001b[0;32m    363\u001b[0m task_str \u001b[38;5;241m=\u001b[39m task\u001b[38;5;241m.\u001b[39mtobytes()\n\u001b[0;32m    364\u001b[0m \u001b[38;5;28;01mif\u001b[39;00m task_str\u001b[38;5;241m.\u001b[39mstartswith(\u001b[38;5;124mb\u001b[39m\u001b[38;5;124m'\u001b[39m\u001b[38;5;124mFG\u001b[39m\u001b[38;5;124m'\u001b[39m):\n\u001b[0;32m    365\u001b[0m     \u001b[38;5;66;03m# The minimization routine wants f and g at the current x.\u001b[39;00m\n\u001b[0;32m    366\u001b[0m     \u001b[38;5;66;03m# Note that interruptions due to maxfun are postponed\u001b[39;00m\n\u001b[0;32m    367\u001b[0m     \u001b[38;5;66;03m# until the completion of the current minimization iteration.\u001b[39;00m\n\u001b[0;32m    368\u001b[0m     \u001b[38;5;66;03m# Overwrite f and g:\u001b[39;00m\n\u001b[1;32m--> 369\u001b[0m     f, g \u001b[38;5;241m=\u001b[39m \u001b[43mfunc_and_grad\u001b[49m\u001b[43m(\u001b[49m\u001b[43mx\u001b[49m\u001b[43m)\u001b[49m\n\u001b[0;32m    370\u001b[0m \u001b[38;5;28;01melif\u001b[39;00m task_str\u001b[38;5;241m.\u001b[39mstartswith(\u001b[38;5;124mb\u001b[39m\u001b[38;5;124m'\u001b[39m\u001b[38;5;124mNEW_X\u001b[39m\u001b[38;5;124m'\u001b[39m):\n\u001b[0;32m    371\u001b[0m     \u001b[38;5;66;03m# new iteration\u001b[39;00m\n\u001b[0;32m    372\u001b[0m     n_iterations \u001b[38;5;241m+\u001b[39m\u001b[38;5;241m=\u001b[39m \u001b[38;5;241m1\u001b[39m\n",
      "File \u001b[1;32mc:\\Users\\Ludovic\\miniforge3\\envs\\simsopt\\lib\\site-packages\\scipy\\optimize\\_differentiable_functions.py:296\u001b[0m, in \u001b[0;36mScalarFunction.fun_and_grad\u001b[1;34m(self, x)\u001b[0m\n\u001b[0;32m    294\u001b[0m \u001b[38;5;28;01mif\u001b[39;00m \u001b[38;5;129;01mnot\u001b[39;00m np\u001b[38;5;241m.\u001b[39marray_equal(x, \u001b[38;5;28mself\u001b[39m\u001b[38;5;241m.\u001b[39mx):\n\u001b[0;32m    295\u001b[0m     \u001b[38;5;28mself\u001b[39m\u001b[38;5;241m.\u001b[39m_update_x_impl(x)\n\u001b[1;32m--> 296\u001b[0m \u001b[38;5;28;43mself\u001b[39;49m\u001b[38;5;241;43m.\u001b[39;49m\u001b[43m_update_fun\u001b[49m\u001b[43m(\u001b[49m\u001b[43m)\u001b[49m\n\u001b[0;32m    297\u001b[0m \u001b[38;5;28mself\u001b[39m\u001b[38;5;241m.\u001b[39m_update_grad()\n\u001b[0;32m    298\u001b[0m \u001b[38;5;28;01mreturn\u001b[39;00m \u001b[38;5;28mself\u001b[39m\u001b[38;5;241m.\u001b[39mf, \u001b[38;5;28mself\u001b[39m\u001b[38;5;241m.\u001b[39mg\n",
      "File \u001b[1;32mc:\\Users\\Ludovic\\miniforge3\\envs\\simsopt\\lib\\site-packages\\scipy\\optimize\\_differentiable_functions.py:262\u001b[0m, in \u001b[0;36mScalarFunction._update_fun\u001b[1;34m(self)\u001b[0m\n\u001b[0;32m    260\u001b[0m \u001b[38;5;28;01mdef\u001b[39;00m \u001b[38;5;21m_update_fun\u001b[39m(\u001b[38;5;28mself\u001b[39m):\n\u001b[0;32m    261\u001b[0m     \u001b[38;5;28;01mif\u001b[39;00m \u001b[38;5;129;01mnot\u001b[39;00m \u001b[38;5;28mself\u001b[39m\u001b[38;5;241m.\u001b[39mf_updated:\n\u001b[1;32m--> 262\u001b[0m         \u001b[38;5;28;43mself\u001b[39;49m\u001b[38;5;241;43m.\u001b[39;49m\u001b[43m_update_fun_impl\u001b[49m\u001b[43m(\u001b[49m\u001b[43m)\u001b[49m\n\u001b[0;32m    263\u001b[0m         \u001b[38;5;28mself\u001b[39m\u001b[38;5;241m.\u001b[39mf_updated \u001b[38;5;241m=\u001b[39m \u001b[38;5;28;01mTrue\u001b[39;00m\n",
      "File \u001b[1;32mc:\\Users\\Ludovic\\miniforge3\\envs\\simsopt\\lib\\site-packages\\scipy\\optimize\\_differentiable_functions.py:163\u001b[0m, in \u001b[0;36mScalarFunction.__init__.<locals>.update_fun\u001b[1;34m()\u001b[0m\n\u001b[0;32m    162\u001b[0m \u001b[38;5;28;01mdef\u001b[39;00m \u001b[38;5;21mupdate_fun\u001b[39m():\n\u001b[1;32m--> 163\u001b[0m     \u001b[38;5;28mself\u001b[39m\u001b[38;5;241m.\u001b[39mf \u001b[38;5;241m=\u001b[39m \u001b[43mfun_wrapped\u001b[49m\u001b[43m(\u001b[49m\u001b[38;5;28;43mself\u001b[39;49m\u001b[38;5;241;43m.\u001b[39;49m\u001b[43mx\u001b[49m\u001b[43m)\u001b[49m\n",
      "File \u001b[1;32mc:\\Users\\Ludovic\\miniforge3\\envs\\simsopt\\lib\\site-packages\\scipy\\optimize\\_differentiable_functions.py:145\u001b[0m, in \u001b[0;36mScalarFunction.__init__.<locals>.fun_wrapped\u001b[1;34m(x)\u001b[0m\n\u001b[0;32m    141\u001b[0m \u001b[38;5;28mself\u001b[39m\u001b[38;5;241m.\u001b[39mnfev \u001b[38;5;241m+\u001b[39m\u001b[38;5;241m=\u001b[39m \u001b[38;5;241m1\u001b[39m\n\u001b[0;32m    142\u001b[0m \u001b[38;5;66;03m# Send a copy because the user may overwrite it.\u001b[39;00m\n\u001b[0;32m    143\u001b[0m \u001b[38;5;66;03m# Overwriting results in undefined behaviour because\u001b[39;00m\n\u001b[0;32m    144\u001b[0m \u001b[38;5;66;03m# fun(self.x) will change self.x, with the two no longer linked.\u001b[39;00m\n\u001b[1;32m--> 145\u001b[0m fx \u001b[38;5;241m=\u001b[39m \u001b[43mfun\u001b[49m\u001b[43m(\u001b[49m\u001b[43mnp\u001b[49m\u001b[38;5;241;43m.\u001b[39;49m\u001b[43mcopy\u001b[49m\u001b[43m(\u001b[49m\u001b[43mx\u001b[49m\u001b[43m)\u001b[49m\u001b[43m,\u001b[49m\u001b[43m \u001b[49m\u001b[38;5;241;43m*\u001b[39;49m\u001b[43margs\u001b[49m\u001b[43m)\u001b[49m\n\u001b[0;32m    146\u001b[0m \u001b[38;5;66;03m# Make sure the function returns a true scalar\u001b[39;00m\n\u001b[0;32m    147\u001b[0m \u001b[38;5;28;01mif\u001b[39;00m \u001b[38;5;129;01mnot\u001b[39;00m np\u001b[38;5;241m.\u001b[39misscalar(fx):\n",
      "File \u001b[1;32m~\\kDrive\\etudes\\EPFL\\masterthesis\\imports\\pyoculus\\pyoculus\\solvers\\manifold.py:228\u001b[0m, in \u001b[0;36mManifold.find_epsilon.<locals>.<lambda>\u001b[1;34m(x)\u001b[0m\n\u001b[0;32m    226\u001b[0m \u001b[38;5;28;01mdef\u001b[39;00m \u001b[38;5;21mfind_epsilon\u001b[39m(\u001b[38;5;28mself\u001b[39m, rfp, eigenvector, eps_guess\u001b[38;5;241m=\u001b[39m\u001b[38;5;241m1e-3\u001b[39m, direction\u001b[38;5;241m=\u001b[39m\u001b[38;5;241m1\u001b[39m):\n\u001b[0;32m    227\u001b[0m     \u001b[38;5;124;03m\"\"\"Find the epsilon that lies in the linear regime.\"\"\"\u001b[39;00m\n\u001b[1;32m--> 228\u001b[0m     find_eps \u001b[38;5;241m=\u001b[39m \u001b[38;5;28;01mlambda\u001b[39;00m x: \u001b[38;5;28;43mself\u001b[39;49m\u001b[38;5;241;43m.\u001b[39;49m\u001b[43merror_linear_regime\u001b[49m\u001b[43m(\u001b[49m\n\u001b[0;32m    229\u001b[0m \u001b[43m        \u001b[49m\u001b[43mx\u001b[49m\u001b[43m,\u001b[49m\u001b[43m \u001b[49m\u001b[43mrfp\u001b[49m\u001b[43m,\u001b[49m\u001b[43m \u001b[49m\u001b[43meigenvector\u001b[49m\u001b[43m,\u001b[49m\u001b[43m \u001b[49m\u001b[43mdirection\u001b[49m\u001b[38;5;241;43m=\u001b[39;49m\u001b[43mdirection\u001b[49m\n\u001b[0;32m    230\u001b[0m \u001b[43m    \u001b[49m\u001b[43m)\u001b[49m\n\u001b[0;32m    231\u001b[0m     minobj \u001b[38;5;241m=\u001b[39m minimize(find_eps, eps_guess, bounds\u001b[38;5;241m=\u001b[39m[(\u001b[38;5;241m0\u001b[39m, \u001b[38;5;241m1\u001b[39m)], tol\u001b[38;5;241m=\u001b[39m\u001b[38;5;241m1e-12\u001b[39m)\n\u001b[0;32m    233\u001b[0m     \u001b[38;5;28;01mif\u001b[39;00m \u001b[38;5;129;01mnot\u001b[39;00m minobj\u001b[38;5;241m.\u001b[39msuccess:\n",
      "File \u001b[1;32m~\\kDrive\\etudes\\EPFL\\masterthesis\\imports\\pyoculus\\pyoculus\\solvers\\manifold.py:175\u001b[0m, in \u001b[0;36mManifold.error_linear_regime\u001b[1;34m(self, epsilon, rfp, eigenvector, direction)\u001b[0m\n\u001b[0;32m    173\u001b[0m \u001b[38;5;66;03m# Initial point and evolution\u001b[39;00m\n\u001b[0;32m    174\u001b[0m rEps \u001b[38;5;241m=\u001b[39m rfp \u001b[38;5;241m+\u001b[39m epsilon \u001b[38;5;241m*\u001b[39m eigenvector\n\u001b[1;32m--> 175\u001b[0m rz_path \u001b[38;5;241m=\u001b[39m \u001b[38;5;28;43mself\u001b[39;49m\u001b[38;5;241;43m.\u001b[39;49m\u001b[43mintegrate\u001b[49m\u001b[43m(\u001b[49m\u001b[43mrEps\u001b[49m\u001b[43m,\u001b[49m\u001b[43m \u001b[49m\u001b[38;5;241;43m1\u001b[39;49m\u001b[43m,\u001b[49m\u001b[43m \u001b[49m\u001b[43mdirection\u001b[49m\u001b[43m)\u001b[49m\n\u001b[0;32m    177\u001b[0m \u001b[38;5;66;03m# Direction of the evolution\u001b[39;00m\n\u001b[0;32m    178\u001b[0m eps_dir \u001b[38;5;241m=\u001b[39m rz_path[:, \u001b[38;5;241m1\u001b[39m] \u001b[38;5;241m-\u001b[39m rz_path[:, \u001b[38;5;241m0\u001b[39m]\n",
      "File \u001b[1;32m~\\kDrive\\etudes\\EPFL\\masterthesis\\imports\\pyoculus\\pyoculus\\solvers\\manifold.py:807\u001b[0m, in \u001b[0;36mManifold.integrate\u001b[1;34m(self, RZstart, nintersect, direction)\u001b[0m\n\u001b[0;32m    805\u001b[0m     log\u001b[38;5;241m.\u001b[39merror(\u001b[38;5;124mf\u001b[39m\u001b[38;5;124m\"\u001b[39m\u001b[38;5;124mIntegration of point \u001b[39m\u001b[38;5;132;01m{\u001b[39;00mic\u001b[38;5;132;01m}\u001b[39;00m\u001b[38;5;124m failed.\u001b[39m\u001b[38;5;124m\"\u001b[39m)\n\u001b[0;32m    806\u001b[0m     \u001b[38;5;28;01mbreak\u001b[39;00m\n\u001b[1;32m--> 807\u001b[0m output \u001b[38;5;241m=\u001b[39m \u001b[38;5;28;43mself\u001b[39;49m\u001b[38;5;241;43m.\u001b[39;49m\u001b[43m_integrator\u001b[49m\u001b[38;5;241;43m.\u001b[39;49m\u001b[43mintegrate\u001b[49m\u001b[43m(\u001b[49m\u001b[43mt\u001b[49m\u001b[43m \u001b[49m\u001b[38;5;241;43m+\u001b[39;49m\u001b[43m \u001b[49m\u001b[43mdt\u001b[49m\u001b[43m)\u001b[49m\n\u001b[0;32m    809\u001b[0m t \u001b[38;5;241m=\u001b[39m t \u001b[38;5;241m+\u001b[39m dt\n\u001b[0;32m    810\u001b[0m ic \u001b[38;5;241m=\u001b[39m output\n",
      "File \u001b[1;32m~\\kDrive\\etudes\\EPFL\\masterthesis\\imports\\pyoculus\\pyoculus\\integrators\\rk_integrator.py:86\u001b[0m, in \u001b[0;36mRKIntegrator.integrate\u001b[1;34m(self, tend)\u001b[0m\n\u001b[0;32m     81\u001b[0m \u001b[38;5;28;01mdef\u001b[39;00m \u001b[38;5;21mintegrate\u001b[39m(\u001b[38;5;28mself\u001b[39m, tend):\n\u001b[0;32m     82\u001b[0m     \u001b[38;5;124;03m\"\"\"! Integrates the ODE until `tend`\u001b[39;00m\n\u001b[0;32m     83\u001b[0m \u001b[38;5;124;03m    @param tend the target end time\u001b[39;00m\n\u001b[0;32m     84\u001b[0m \u001b[38;5;124;03m    @returns the new value of x\u001b[39;00m\n\u001b[0;32m     85\u001b[0m \u001b[38;5;124;03m    \"\"\"\u001b[39;00m\n\u001b[1;32m---> 86\u001b[0m     x_new \u001b[38;5;241m=\u001b[39m \u001b[38;5;28;43mself\u001b[39;49m\u001b[38;5;241;43m.\u001b[39;49m\u001b[43mintegrator\u001b[49m\u001b[38;5;241;43m.\u001b[39;49m\u001b[43mintegrate\u001b[49m\u001b[43m(\u001b[49m\u001b[43mtend\u001b[49m\u001b[43m)\u001b[49m\n\u001b[0;32m     88\u001b[0m     \u001b[38;5;28;01mif\u001b[39;00m \u001b[38;5;129;01mnot\u001b[39;00m \u001b[38;5;28mself\u001b[39m\u001b[38;5;241m.\u001b[39mintegrator\u001b[38;5;241m.\u001b[39msuccessful():\n\u001b[0;32m     89\u001b[0m         \u001b[38;5;28;01mraise\u001b[39;00m \u001b[38;5;167;01mException\u001b[39;00m(\u001b[38;5;124m\"\u001b[39m\u001b[38;5;124mIntegration failed\u001b[39m\u001b[38;5;124m\"\u001b[39m)\n",
      "File \u001b[1;32mc:\\Users\\Ludovic\\miniforge3\\envs\\simsopt\\lib\\site-packages\\scipy\\integrate\\_ode.py:431\u001b[0m, in \u001b[0;36mode.integrate\u001b[1;34m(self, t, step, relax)\u001b[0m\n\u001b[0;32m    428\u001b[0m     mth \u001b[38;5;241m=\u001b[39m \u001b[38;5;28mself\u001b[39m\u001b[38;5;241m.\u001b[39m_integrator\u001b[38;5;241m.\u001b[39mrun\n\u001b[0;32m    430\u001b[0m \u001b[38;5;28;01mtry\u001b[39;00m:\n\u001b[1;32m--> 431\u001b[0m     \u001b[38;5;28mself\u001b[39m\u001b[38;5;241m.\u001b[39m_y, \u001b[38;5;28mself\u001b[39m\u001b[38;5;241m.\u001b[39mt \u001b[38;5;241m=\u001b[39m \u001b[43mmth\u001b[49m\u001b[43m(\u001b[49m\u001b[38;5;28;43mself\u001b[39;49m\u001b[38;5;241;43m.\u001b[39;49m\u001b[43mf\u001b[49m\u001b[43m,\u001b[49m\u001b[43m \u001b[49m\u001b[38;5;28;43mself\u001b[39;49m\u001b[38;5;241;43m.\u001b[39;49m\u001b[43mjac\u001b[49m\u001b[43m \u001b[49m\u001b[38;5;129;43;01mor\u001b[39;49;00m\u001b[43m \u001b[49m\u001b[43m(\u001b[49m\u001b[38;5;28;43;01mlambda\u001b[39;49;00m\u001b[43m:\u001b[49m\u001b[43m \u001b[49m\u001b[38;5;28;43;01mNone\u001b[39;49;00m\u001b[43m)\u001b[49m\u001b[43m,\u001b[49m\n\u001b[0;32m    432\u001b[0m \u001b[43m                          \u001b[49m\u001b[38;5;28;43mself\u001b[39;49m\u001b[38;5;241;43m.\u001b[39;49m\u001b[43m_y\u001b[49m\u001b[43m,\u001b[49m\u001b[43m \u001b[49m\u001b[38;5;28;43mself\u001b[39;49m\u001b[38;5;241;43m.\u001b[39;49m\u001b[43mt\u001b[49m\u001b[43m,\u001b[49m\u001b[43m \u001b[49m\u001b[43mt\u001b[49m\u001b[43m,\u001b[49m\n\u001b[0;32m    433\u001b[0m \u001b[43m                          \u001b[49m\u001b[38;5;28;43mself\u001b[39;49m\u001b[38;5;241;43m.\u001b[39;49m\u001b[43mf_params\u001b[49m\u001b[43m,\u001b[49m\u001b[43m \u001b[49m\u001b[38;5;28;43mself\u001b[39;49m\u001b[38;5;241;43m.\u001b[39;49m\u001b[43mjac_params\u001b[49m\u001b[43m)\u001b[49m\n\u001b[0;32m    434\u001b[0m \u001b[38;5;28;01mexcept\u001b[39;00m \u001b[38;5;167;01mSystemError\u001b[39;00m \u001b[38;5;28;01mas\u001b[39;00m e:\n\u001b[0;32m    435\u001b[0m     \u001b[38;5;66;03m# f2py issue with tuple returns, see ticket 1187.\u001b[39;00m\n\u001b[0;32m    436\u001b[0m     \u001b[38;5;28;01mraise\u001b[39;00m \u001b[38;5;167;01mValueError\u001b[39;00m(\n\u001b[0;32m    437\u001b[0m         \u001b[38;5;124m'\u001b[39m\u001b[38;5;124mFunction to integrate must not return a tuple.\u001b[39m\u001b[38;5;124m'\u001b[39m\n\u001b[0;32m    438\u001b[0m     ) \u001b[38;5;28;01mfrom\u001b[39;00m \u001b[38;5;21;01me\u001b[39;00m\n",
      "File \u001b[1;32mc:\\Users\\Ludovic\\miniforge3\\envs\\simsopt\\lib\\site-packages\\scipy\\integrate\\_ode.py:1176\u001b[0m, in \u001b[0;36mdopri5.run\u001b[1;34m(self, f, jac, y0, t0, t1, f_params, jac_params)\u001b[0m\n\u001b[0;32m   1175\u001b[0m \u001b[38;5;28;01mdef\u001b[39;00m \u001b[38;5;21mrun\u001b[39m(\u001b[38;5;28mself\u001b[39m, f, jac, y0, t0, t1, f_params, jac_params):\n\u001b[1;32m-> 1176\u001b[0m     x, y, iwork, istate \u001b[38;5;241m=\u001b[39m \u001b[38;5;28;43mself\u001b[39;49m\u001b[38;5;241;43m.\u001b[39;49m\u001b[43mrunner\u001b[49m\u001b[43m(\u001b[49m\u001b[38;5;241;43m*\u001b[39;49m\u001b[43m(\u001b[49m\u001b[43m(\u001b[49m\u001b[43mf\u001b[49m\u001b[43m,\u001b[49m\u001b[43m \u001b[49m\u001b[43mt0\u001b[49m\u001b[43m,\u001b[49m\u001b[43m \u001b[49m\u001b[43my0\u001b[49m\u001b[43m,\u001b[49m\u001b[43m \u001b[49m\u001b[43mt1\u001b[49m\u001b[43m)\u001b[49m\u001b[43m \u001b[49m\u001b[38;5;241;43m+\u001b[39;49m\n\u001b[0;32m   1177\u001b[0m \u001b[43m                                      \u001b[49m\u001b[38;5;28;43mtuple\u001b[39;49m\u001b[43m(\u001b[49m\u001b[38;5;28;43mself\u001b[39;49m\u001b[38;5;241;43m.\u001b[39;49m\u001b[43mcall_args\u001b[49m\u001b[43m)\u001b[49m\u001b[43m \u001b[49m\u001b[38;5;241;43m+\u001b[39;49m\u001b[43m \u001b[49m\u001b[43m(\u001b[49m\u001b[43mf_params\u001b[49m\u001b[43m,\u001b[49m\u001b[43m)\u001b[49m\u001b[43m)\u001b[49m\u001b[43m)\u001b[49m\n\u001b[0;32m   1178\u001b[0m     \u001b[38;5;28mself\u001b[39m\u001b[38;5;241m.\u001b[39mistate \u001b[38;5;241m=\u001b[39m istate\n\u001b[0;32m   1179\u001b[0m     \u001b[38;5;28;01mif\u001b[39;00m istate \u001b[38;5;241m<\u001b[39m \u001b[38;5;241m0\u001b[39m:\n",
      "File \u001b[1;32m~\\kDrive\\etudes\\EPFL\\masterthesis\\imports\\pyoculus\\pyoculus\\problems\\cartesian_bfield.py:61\u001b[0m, in \u001b[0;36mCartesianBfield.f_RZ\u001b[1;34m(self, phi, RZ, *args)\u001b[0m\n\u001b[0;32m     53\u001b[0m Z \u001b[38;5;241m=\u001b[39m RZ[\u001b[38;5;241m1\u001b[39m]\n\u001b[0;32m     55\u001b[0m xyz \u001b[38;5;241m=\u001b[39m np\u001b[38;5;241m.\u001b[39marray([\n\u001b[0;32m     56\u001b[0m     R \u001b[38;5;241m*\u001b[39m np\u001b[38;5;241m.\u001b[39mcos(phi),\n\u001b[0;32m     57\u001b[0m     R \u001b[38;5;241m*\u001b[39m np\u001b[38;5;241m.\u001b[39msin(phi),\n\u001b[0;32m     58\u001b[0m     Z\n\u001b[0;32m     59\u001b[0m ])\n\u001b[1;32m---> 61\u001b[0m B \u001b[38;5;241m=\u001b[39m np\u001b[38;5;241m.\u001b[39marray([\u001b[38;5;28;43mself\u001b[39;49m\u001b[38;5;241;43m.\u001b[39;49m\u001b[43mB\u001b[49m\u001b[43m(\u001b[49m\u001b[43mxyz\u001b[49m\u001b[43m,\u001b[49m\u001b[43m \u001b[49m\u001b[38;5;241;43m*\u001b[39;49m\u001b[43margs\u001b[49m\u001b[43m)\u001b[49m])\u001b[38;5;241m.\u001b[39mT\n\u001b[0;32m     63\u001b[0m invJacobian \u001b[38;5;241m=\u001b[39m \u001b[38;5;28mself\u001b[39m\u001b[38;5;241m.\u001b[39m_inv_Jacobian(R,phi,Z)\n\u001b[0;32m     65\u001b[0m dRphiZ \u001b[38;5;241m=\u001b[39m np\u001b[38;5;241m.\u001b[39mmatmul(invJacobian, B)\u001b[38;5;241m.\u001b[39mT[\u001b[38;5;241m0\u001b[39m]\n",
      "File \u001b[1;32m~\\kDrive\\etudes\\EPFL\\masterthesis\\imports\\pyoculus\\pyoculus\\problems\\simsopt_bfield.py:86\u001b[0m, in \u001b[0;36mSimsoptBfieldProblem.B\u001b[1;34m(self, xyz)\u001b[0m\n\u001b[0;32m     84\u001b[0m xyz \u001b[38;5;241m=\u001b[39m np\u001b[38;5;241m.\u001b[39mreshape(xyz, (\u001b[38;5;241m-\u001b[39m\u001b[38;5;241m1\u001b[39m, \u001b[38;5;241m3\u001b[39m))\n\u001b[0;32m     85\u001b[0m \u001b[38;5;28mself\u001b[39m\u001b[38;5;241m.\u001b[39m_mf_B\u001b[38;5;241m.\u001b[39mset_points(xyz)\n\u001b[1;32m---> 86\u001b[0m \u001b[38;5;28;01mreturn\u001b[39;00m \u001b[38;5;28;43mself\u001b[39;49m\u001b[38;5;241;43m.\u001b[39;49m\u001b[43m_mf_B\u001b[49m\u001b[38;5;241;43m.\u001b[39;49m\u001b[43mB\u001b[49m\u001b[43m(\u001b[49m\u001b[43m)\u001b[49m\u001b[38;5;241;43m.\u001b[39;49m\u001b[43mflatten\u001b[49m\u001b[43m(\u001b[49m\u001b[43m)\u001b[49m\n",
      "\u001b[1;31mKeyboardInterrupt\u001b[0m: "
     ]
    }
   ],
   "source": [
    "mp.onworking = mp.outer\n",
    "mp.find_clinic_single()"
   ]
  },
  {
   "cell_type": "code",
   "execution_count": 5,
   "metadata": {},
   "outputs": [],
   "source": [
    "fig = pickle.load(open(\"../../runs/w7x-gym00-1750/W7X_GYM000-1750_poincare_chaotic_black.pkl\", \"rb\"))\n",
    "ax = fig.get_axes()[0]"
   ]
  },
  {
   "cell_type": "code",
   "execution_count": 6,
   "metadata": {},
   "outputs": [
    {
     "data": {
      "image/png": "[encoded data removed]",
      "text/plain": [
       "<Figure size 1200x1200 with 1 Axes>"
      ]
     },
     "execution_count": 6,
     "metadata": {},
     "output_type": "execute_result"
    }
   ],
   "source": [
    "fig.set_size_inches(12, 12)\n",
    "fig"
   ]
  },
  {
   "cell_type": "code",
   "execution_count": null,
   "metadata": {},
   "outputs": [],
   "source": [
    "from pyoculus.solvers import Manifold"
   ]
  },
  {
   "cell_type": "code",
   "execution_count": null,
   "metadata": {},
   "outputs": [],
   "source": [
    "iparam = dict()\n",
    "iparam[\"rtol\"] = 1e-12\n",
    "\n",
    "mp = Manifold(fp, ps, integrator_params=iparam)"
   ]
  },
  {
   "cell_type": "code",
   "execution_count": null,
   "metadata": {},
   "outputs": [],
   "source": [
    "mp.choose(0, 1, [\"u+\",\"s+\"], [1, 1])"
   ]
  },
  {
   "cell_type": "code",
   "execution_count": null,
   "metadata": {},
   "outputs": [],
   "source": [
    "mp.find_epsilon(mp.rfp_s, mp.vector_s, eps_guess = 1e-2, direction=-1)"
   ]
  },
  {
   "cell_type": "code",
   "execution_count": null,
   "metadata": {},
   "outputs": [],
   "source": [
    "mp.compute(nintersect = 6, epsilon= 1e-3, neps = 50)"
   ]
  },
  {
   "cell_type": "code",
   "execution_count": null,
   "metadata": {},
   "outputs": [],
   "source": [
    "mp.plot(ax=ax)"
   ]
  },
  {
   "cell_type": "code",
   "execution_count": null,
   "metadata": {},
   "outputs": [],
   "source": [
    "fig"
   ]
  },
  {
   "cell_type": "code",
   "execution_count": null,
   "metadata": {},
   "outputs": [],
   "source": [
    "mp.find_epsilon(mp.rfp_u, mp.vector_u)"
   ]
  },
  {
   "cell_type": "code",
   "execution_count": null,
   "metadata": {},
   "outputs": [],
   "source": [
    "mp.error_linear_regime(1e-4, mp.rfp_u, mp.vector_u)"
   ]
  },
  {
   "cell_type": "code",
   "execution_count": null,
   "metadata": {},
   "outputs": [],
   "source": [
    "mp.error_linear_regime(1e-4, mp.rfp_s, mp.vector_s, direction=-1)"
   ]
  },
  {
   "cell_type": "code",
   "execution_count": null,
   "metadata": {},
   "outputs": [],
   "source": [
    "mp.integrate_single(mp.rfp_s, 1, -1, ret_jacobian=False)"
   ]
  },
  {
   "cell_type": "code",
   "execution_count": null,
   "metadata": {},
   "outputs": [],
   "source": [
    "mp.integrate_single(mp.rfp_s, 1, -1, ret_jacobian=True)"
   ]
  },
  {
   "cell_type": "code",
   "execution_count": null,
   "metadata": {},
   "outputs": [],
   "source": [
    "eps_s_1, eps_u_1 = mp.find_homoclinic(1e-4, 1e-4, jac=False)"
   ]
  },
  {
   "cell_type": "code",
   "execution_count": null,
   "metadata": {},
   "outputs": [],
   "source": [
    "fund = mp.fundamental_segment\n",
    "guess_i = [fund[0][1]*np.power(mp.lambda_s, 1/4), fund[1][0]*np.power(mp.lambda_u, 1/4)]\n",
    "print(f\"initial guess: {guess_i}\")"
   ]
  },
  {
   "cell_type": "code",
   "execution_count": null,
   "metadata": {},
   "outputs": [],
   "source": [
    "r1 = mp.integrate_single(mp.rfp_u + guess_i[1] * mp.vector_u, 5, ret_jacobian=False)\n",
    "r2 = mp.integrate_single(mp.rfp_s + guess_i[0] * mp.vector_s, 5, -1, ret_jacobian=False)"
   ]
  },
  {
   "cell_type": "code",
   "execution_count": null,
   "metadata": {},
   "outputs": [],
   "source": [
    "ax.scatter(*r1, marker=\"s\", edgecolors=\"black\", linewidths=1)\n",
    "ax.scatter(*r2, marker=\"o\", edgecolors=\"black\", linewidths=1)\n",
    "fig"
   ]
  },
  {
   "cell_type": "code",
   "execution_count": null,
   "metadata": {},
   "outputs": [],
   "source": [
    "mp.error_linear_regime(guess_i[0], mp.rfp_s, mp.vector_s, direction=-1)"
   ]
  },
  {
   "cell_type": "code",
   "execution_count": null,
   "metadata": {},
   "outputs": [],
   "source": [
    "eps_s_i, eps_u_i = mp.find_homoclinic(*guess_i, bounds = fund, n_s = 5, n_u = 5, jac=False)"
   ]
  },
  {
   "cell_type": "code",
   "execution_count": null,
   "metadata": {},
   "outputs": [],
   "source": [
    "marker = [\"P\", \"o\"] #, \"s\", \"p\", \"P\", \"*\", \"X\", \"D\", \"d\", \"^\", \"v\", \"<\", \">\"]\n",
    "for i, clinic in enumerate(mp.clinics):\n",
    "    eps_s_i, eps_u_i = clinic[1:3]\n",
    "\n",
    "    n_u = 8\n",
    "    # hs_i = mp.integrate(mp.rfp_s + eps_s_i * mp.vector_s, n_s, -1)\n",
    "    hu_i = mp.integrate(mp.rfp_u + eps_u_i * mp.vector_u, n_u, 1)\n",
    "    # ax.scatter(hs_i[0,:], hs_i[1,:], marker=marker[i], color=\"purple\", zorder=10)\n",
    "    ax.scatter(hu_i[0,:], hu_i[1,:], marker=marker[i], color=\"royalblue\", edgecolor='cyan', zorder=10)"
   ]
  },
  {
   "cell_type": "code",
   "execution_count": null,
   "metadata": {},
   "outputs": [],
   "source": [
    "fig"
   ]
  },
  {
   "cell_type": "code",
   "execution_count": null,
   "metadata": {},
   "outputs": [],
   "source": [
    "mp.clinics"
   ]
  },
  {
   "cell_type": "code",
   "execution_count": null,
   "metadata": {},
   "outputs": [],
   "source": [
    "ps.A([6.,0.,0.])"
   ]
  },
  {
   "cell_type": "code",
   "execution_count": null,
   "metadata": {},
   "outputs": [],
   "source": [
    "mp.integrate_single(mp.rfp_u, 1, 1, ret_jacobian=False, integrate_A=True)"
   ]
  },
  {
   "cell_type": "code",
   "execution_count": null,
   "metadata": {},
   "outputs": [],
   "source": [
    "mp.resonance_area()"
   ]
  },
  {
   "cell_type": "code",
   "execution_count": null,
   "metadata": {},
   "outputs": [],
   "source": [
    "mp.fundamental_segment"
   ]
  }
 ],
 "metadata": {
  "kernelspec": {
   "display_name": "simsopt",
   "language": "python",
   "name": "python3"
  },
  "language_info": {
   "codemirror_mode": {
    "name": "ipython",
    "version": 3
   },
   "file_extension": ".py",
   "mimetype": "text/x-python",
   "name": "python",
   "nbconvert_exporter": "python",
   "pygments_lexer": "ipython3",
   "version": "3.10.13"
  }
 },
 "nbformat": 4,
 "nbformat_minor": 2
}
