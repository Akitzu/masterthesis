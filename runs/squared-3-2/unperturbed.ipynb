{
 "cells": [
  {
   "cell_type": "code",
   "execution_count": 8,
   "metadata": {},
   "outputs": [],
   "source": [
    "from pyoculus.problems import AnalyticCylindricalBfield\n",
    "from pyoculus.solvers import PoincarePlot, FixedPoint, Manifold\n",
    "%matplotlib ipympl\n",
    "import matplotlib.pyplot as plt\n",
    "plt.style.use('lateky')\n",
    "\n",
    "import numpy as np\n",
    "import pickle"
   ]
  },
  {
   "cell_type": "code",
   "execution_count": 9,
   "metadata": {},
   "outputs": [],
   "source": [
    "# Creating the pyoculus problem object, adding the perturbation here use the R, Z provided as center point\n",
    "pyoproblem = AnalyticCylindricalBfield(\n",
    "    6,\n",
    "    0,\n",
    "    0.8875,\n",
    "    0.2\n",
    ")"
   ]
  },
  {
   "cell_type": "code",
   "execution_count": null,
   "metadata": {},
   "outputs": [],
   "source": [
    "# set up the integrator for the Poincare\n",
    "iparams = dict()\n",
    "iparams[\"rtol\"] = 1e-10\n",
    "\n",
    "# set up the Poincare plot\n",
    "pparams = dict()\n",
    "pparams[\"nPtrj\"] = 2\n",
    "pparams[\"nPpts\"] = 300\n",
    "pparams[\"zeta\"] = 0\n",
    "\n",
    "# Set RZs for the normal (R-only) computation\n",
    "pparams[\"Rbegin\"] = pyoproblem._R0+1e-3\n",
    "pparams[\"Rend\"] = 8\n",
    "\n",
    "# Set up the Poincare plot object\n",
    "pplot = PoincarePlot(pyoproblem, pparams, integrator_params=iparams)\n",
    "\n",
    "# # R-only computation\n",
    "pplot.compute()"
   ]
  },
  {
   "cell_type": "code",
   "execution_count": null,
   "metadata": {},
   "outputs": [],
   "source": [
    "fig, ax = pplot.plot(marker=\".\", s=1)\n",
    "# # plt.show()\n",
    "# # fig.canvas.toolbar_visible = True\n",
    "# fig.canvas.toolbar_visible = 'fade-in-fade-out'\n",
    "# # fig.canvas.toolbar_position = 'top'\n",
    "# fig.canvas.header_visible = False\n",
    "# fig.canvas.footer_visible = True\n",
    "# fig.canvas.resizable = False\n",
    "# # fig.canvas.capture_scroll = True\n",
    "\n",
    "# # fig.canvas.toolbar_visible = True\n",
    "# display(fig)"
   ]
  },
  {
   "cell_type": "code",
   "execution_count": null,
   "metadata": {},
   "outputs": [],
   "source": [
    "pplot.compute_iota()"
   ]
  },
  {
   "cell_type": "code",
   "execution_count": null,
   "metadata": {},
   "outputs": [],
   "source": [
    "pplot.plot_q(marker=\".\")"
   ]
  },
  {
   "cell_type": "markdown",
   "metadata": {},
   "source": [
    "### Straight field line coordinates"
   ]
  },
  {
   "cell_type": "code",
   "execution_count": 10,
   "metadata": {},
   "outputs": [],
   "source": [
    "rho = 1.75\n",
    "phis = np.linspace(0, 2*np.pi, 5)\n",
    "thetas = np.linspace(0, 2*np.pi, 100)\n",
    "\n",
    "X, Y = np.meshgrid(thetas, phis)\n",
    "# Flattening of the coordinates\n",
    "iota = 2/3\n",
    "# X = Y*iota\n",
    "\n",
    "coords = np.array([[6+rho*np.cos(theta), phi, rho*np.sin(theta)] for theta, phi in zip(X.flatten(), Y.flatten())])\n",
    "Bs = pyoproblem.B_many(*coords.T)"
   ]
  },
  {
   "cell_type": "code",
   "execution_count": 11,
   "metadata": {},
   "outputs": [],
   "source": [
    "coords = coords.reshape(X.shape + (3,))\n",
    "Bs = Bs.reshape(X.shape + (3,))"
   ]
  },
  {
   "cell_type": "code",
   "execution_count": 39,
   "metadata": {},
   "outputs": [],
   "source": [
    "Bphi = Bs[:,:,1]\n",
    "Btheta = (np.cos(X) * Bs[:,:,2] - np.sin(X) * Bs[:,:,0])/rho\n",
    "\n",
    "# Normalization\n",
    "norm = np.sqrt(Bphi**2 + Btheta**2)\n",
    "Bphi /= norm\n",
    "Btheta /= norm"
   ]
  },
  {
   "cell_type": "code",
   "execution_count": 54,
   "metadata": {},
   "outputs": [
    {
     "data": {
      "image/png": "[encoded data removed]",
      "text/plain": [
       "<Figure size 640x480 with 2 Axes>"
      ]
     },
     "execution_count": 54,
     "metadata": {},
     "output_type": "execute_result"
    }
   ],
   "source": [
    "plt.ioff()\n",
    "fig, ax = plt.subplots()\n",
    "# ax.quiver(Y, X, Bphi, Btheta, scale=1, scale_units='xy')\n",
    "contour = ax.pcolor(Y, X, np.arctan(Btheta/Bphi), shading='auto')\n",
    "fig.colorbar(contour, ax=ax)\n",
    "ax.set_xlabel(r\"$\\phi$\")\n",
    "ax.set_ylabel(r\"$\\theta$\")\n",
    "ax.grid(False)\n",
    "fig"
   ]
  },
  {
   "cell_type": "code",
   "execution_count": 58,
   "metadata": {},
   "outputs": [
    {
     "data": {
      "text/plain": [
       "1.0367255756846319"
      ]
     },
     "execution_count": 58,
     "metadata": {},
     "output_type": "execute_result"
    }
   ],
   "source": [
    "0.66/2*np.pi"
   ]
  },
  {
   "cell_type": "markdown",
   "metadata": {},
   "source": [
    "#### Adding the perturbation"
   ]
  },
  {
   "cell_type": "code",
   "execution_count": null,
   "metadata": {},
   "outputs": [],
   "source": [
    "maxwellboltzmann = {\"m\": 3, \"n\": -2, \"d\": 1.75/np.sqrt(2), \"type\": \"maxwell-boltzmann\", \"amplitude\": 1e-1}\n",
    "pyoproblem.add_perturbation(maxwellboltzmann)"
   ]
  },
  {
   "cell_type": "code",
   "execution_count": null,
   "metadata": {},
   "outputs": [],
   "source": [
    "pyoproblem.amplitudes = [1e-1]"
   ]
  },
  {
   "cell_type": "code",
   "execution_count": null,
   "metadata": {},
   "outputs": [],
   "source": [
    "pyoproblem.perturbations_args"
   ]
  },
  {
   "cell_type": "code",
   "execution_count": null,
   "metadata": {},
   "outputs": [],
   "source": [
    "# set up the integrator for the Poincare\n",
    "iparams = dict()\n",
    "iparams[\"rtol\"] = 1e-10\n",
    "\n",
    "# set up the Poincare plot\n",
    "pparams = dict()\n",
    "pparams[\"nPtrj\"] = 15\n",
    "pparams[\"nPpts\"] = 150\n",
    "pparams[\"zeta\"] = 0\n",
    "\n",
    "# Set RZs for the normal (R-only) computation\n",
    "pparams[\"Rbegin\"] = pyoproblem._R0+1e-3\n",
    "pparams[\"Rend\"] = 8.5\n",
    "\n",
    "# Set up the Poincare plot object\n",
    "pplot_perturbed = PoincarePlot(pyoproblem, pparams, integrator_params=iparams)\n",
    "\n",
    "# # R-only computation\n",
    "pplot_perturbed.compute()"
   ]
  },
  {
   "cell_type": "code",
   "execution_count": null,
   "metadata": {},
   "outputs": [],
   "source": [
    "fig_perturbed.clear()"
   ]
  },
  {
   "cell_type": "code",
   "execution_count": null,
   "metadata": {},
   "outputs": [],
   "source": [
    "fig.clear()\n",
    "fig, ax = pplot_perturbed.plot(marker=\".\", s=1)\n",
    "fig"
   ]
  },
  {
   "cell_type": "code",
   "execution_count": null,
   "metadata": {},
   "outputs": [],
   "source": [
    "plt.ioff()\n",
    "fig_perturbed, ax_perturbed = pplot_perturbed.plot(marker=\".\", s=1)\n",
    "fig_perturbed"
   ]
  },
  {
   "cell_type": "code",
   "execution_count": null,
   "metadata": {},
   "outputs": [],
   "source": [
    "# pyoproblem.plot_intensities([4, 8], [-2, 2], ax=ax_perturbed, alpha=0.3)\n",
    "display(fig_perturbed.canvas)"
   ]
  },
  {
   "cell_type": "code",
   "execution_count": null,
   "metadata": {},
   "outputs": [],
   "source": [
    "guess = [4.2, 0.]\n",
    "# ax_perturbed.scatter(*guess)\n",
    "# fig_perturbed"
   ]
  },
  {
   "cell_type": "code",
   "execution_count": null,
   "metadata": {},
   "outputs": [],
   "source": [
    "# set up the integrator for the FixedPoint\n",
    "iparams = dict()\n",
    "iparams[\"rtol\"] = 1e-13\n",
    "\n",
    "pparams = dict()\n",
    "pparams[\"nrestart\"] = 0\n",
    "pparams[\"niter\"] = 300\n",
    "pparams['Z'] = 0\n",
    "\n",
    "# set up the FixedPoint object\n",
    "fixedpoint = FixedPoint(pyoproblem, pparams, integrator_params=iparams)\n",
    "\n",
    "# find the X-point\n",
    "fixedpoint.compute(guess=guess, pp=2, qq=3, sbegin=2, send=10, tol=1e-10)\n",
    "\n",
    "if fixedpoint.successful:\n",
    "    results = [list(p) for p in zip(fixedpoint.x, fixedpoint.y, fixedpoint.z)]\n",
    "else:\n",
    "    raise ValueError(\"X-point not found\")"
   ]
  },
  {
   "cell_type": "code",
   "execution_count": null,
   "metadata": {},
   "outputs": [],
   "source": [
    "pparams.pop(\"Z\")\n",
    "# set up the FixedPoint object\n",
    "fp_x2 = FixedPoint(pyoproblem, pparams, integrator_params=iparams)\n",
    "fp_x2.compute(guess=[6.44042536414122, 1.7065049712562115], pp=2, qq=3, sbegin=2, send=10, tol=1e-10)"
   ]
  },
  {
   "cell_type": "code",
   "execution_count": null,
   "metadata": {},
   "outputs": [],
   "source": [
    "fig_perturbed"
   ]
  },
  {
   "cell_type": "code",
   "execution_count": null,
   "metadata": {},
   "outputs": [],
   "source": [
    "results\n",
    "for rr in results:\n",
    "    ax_perturbed.scatter(rr[0], rr[2], marker=\"X\", edgecolors=\"black\", linewidths=1)"
   ]
  },
  {
   "cell_type": "code",
   "execution_count": null,
   "metadata": {},
   "outputs": [],
   "source": [
    "ax_perturbed.set_title(\"Perturbed Poincare plot\")\n",
    "fig_perturbed"
   ]
  },
  {
   "cell_type": "code",
   "execution_count": null,
   "metadata": {},
   "outputs": [],
   "source": [
    "# Set up the manifold\n",
    "iparams = dict()\n",
    "iparams[\"rtol\"] = 1e-13\n",
    "manifold = Manifold(pyoproblem, fixedpoint, fp_x2, integrator_params=iparams)"
   ]
  },
  {
   "cell_type": "code",
   "execution_count": null,
   "metadata": {},
   "outputs": [],
   "source": [
    "manifold.choose(signs=[[1, -1], [-1, 1]])"
   ]
  },
  {
   "cell_type": "code",
   "execution_count": null,
   "metadata": {},
   "outputs": [],
   "source": [
    "manifold.inner"
   ]
  },
  {
   "cell_type": "code",
   "execution_count": null,
   "metadata": {},
   "outputs": [],
   "source": [
    "manifold.outer"
   ]
  },
  {
   "cell_type": "code",
   "execution_count": null,
   "metadata": {},
   "outputs": [],
   "source": [
    "manifold.compute(neps=30, nintersect=8)"
   ]
  },
  {
   "cell_type": "code",
   "execution_count": null,
   "metadata": {},
   "outputs": [],
   "source": [
    "manifold.plot(ax=ax_perturbed)"
   ]
  },
  {
   "cell_type": "code",
   "execution_count": null,
   "metadata": {},
   "outputs": [],
   "source": [
    "fig_perturbed"
   ]
  },
  {
   "cell_type": "code",
   "execution_count": null,
   "metadata": {},
   "outputs": [],
   "source": [
    "manifold.onworking = manifold.outer\n",
    "manifold.find_clinics(n_points=4)"
   ]
  },
  {
   "cell_type": "code",
   "execution_count": null,
   "metadata": {},
   "outputs": [],
   "source": [
    "manifold.onworking = manifold.inner\n",
    "manifold.find_clinics(n_points=4)"
   ]
  },
  {
   "cell_type": "code",
   "execution_count": null,
   "metadata": {},
   "outputs": [],
   "source": [
    "manifold.onworking = manifold.outer\n",
    "marker = [\"X\", \"o\", \"s\", \"p\", \"P\", \"*\", \"x\", \"D\", \"d\", \"^\", \"v\", \"<\", \">\"]\n",
    "confns = manifold.onworking[\"find_clinic_configuration\"]\n",
    "n_u = confns[\"n_u\"]+confns[\"n_s\"]+2\n",
    "\n",
    "for i, clinic in enumerate(manifold.onworking[\"clinics\"]):\n",
    "    eps_s_i, eps_u_i = clinic[1:3]\n",
    "    \n",
    "    hu_i = manifold.integrate(manifold.onworking[\"rfp_u\"] + eps_u_i * manifold.onworking[\"vector_u\"], n_u, 1)\n",
    "    ax_perturbed.scatter(hu_i[0,:], hu_i[1,:], marker=marker[i], color=\"royalblue\", edgecolor='cyan', zorder=10, label=f'$h_{i+1}$')"
   ]
  },
  {
   "cell_type": "code",
   "execution_count": null,
   "metadata": {},
   "outputs": [],
   "source": [
    "manifold.onworking = manifold.inner\n",
    "manifold.turnstile_area()"
   ]
  },
  {
   "cell_type": "code",
   "execution_count": null,
   "metadata": {},
   "outputs": [],
   "source": [
    "manifold.onworking = manifold.outer\n",
    "manifold.turnstile_area()"
   ]
  },
  {
   "cell_type": "code",
   "execution_count": null,
   "metadata": {},
   "outputs": [],
   "source": [
    "manifold.inner[\"areas\"]"
   ]
  },
  {
   "cell_type": "code",
   "execution_count": null,
   "metadata": {},
   "outputs": [],
   "source": [
    "manifold.outer[\"areas\"]"
   ]
  },
  {
   "cell_type": "code",
   "execution_count": null,
   "metadata": {},
   "outputs": [],
   "source": [
    "inner_areas = manifold.inner[\"areas\"][:,0]\n",
    "outer_areas = manifold.outer[\"areas\"][:,0]"
   ]
  },
  {
   "cell_type": "code",
   "execution_count": null,
   "metadata": {},
   "outputs": [],
   "source": [
    "inner_areas.sum(), outer_areas.sum()"
   ]
  },
  {
   "cell_type": "code",
   "execution_count": null,
   "metadata": {},
   "outputs": [],
   "source": [
    "import pandas as pd\n",
    "\n",
    "data = [\n",
    "    {\"type\": \"inner\", \"area\": inner_areas[inner_areas > 0].sum(), \"Error_by_diff\": manifold.inner[\"areas\"][:, 1][inner_areas > 0].sum(), \"Error_by_estim\": manifold.inner[\"areas\"][:, 2][inner_areas > 0].sum(), \"total_sum\": inner_areas.sum()},\n",
    "    {\"type\": \"outer\", \"area\": outer_areas[outer_areas > 0].sum(), \"Error_by_diff\": manifold.outer[\"areas\"][:, 1][outer_areas > 0].sum(), \"Error_by_estim\": manifold.outer[\"areas\"][:, 2][outer_areas > 0].sum(), \"total_sum\": outer_areas.sum()},\n",
    "]\n",
    "\n",
    "df = pd.DataFrame(data)"
   ]
  },
  {
   "cell_type": "code",
   "execution_count": null,
   "metadata": {},
   "outputs": [],
   "source": [
    "df"
   ]
  },
  {
   "cell_type": "code",
   "execution_count": null,
   "metadata": {},
   "outputs": [],
   "source": [
    "outer_areas[outer_areas > 0].sum()"
   ]
  },
  {
   "cell_type": "code",
   "execution_count": null,
   "metadata": {},
   "outputs": [],
   "source": [
    "inner_areas[inner_areas > 0].sum()"
   ]
  },
  {
   "cell_type": "code",
   "execution_count": null,
   "metadata": {},
   "outputs": [],
   "source": [
    "potential_integrations = manifold.inner[\"potential_integrations\"]\n",
    "fwd = np.min([len(pot[0]) for pot in potential_integrations])\n",
    "bwd = np.min([len(pot[1]) for pot in potential_integrations])\n",
    "inner_int = [pot[1][:fwd].sum() - pot[0][:bwd].sum() for pot in potential_integrations]\n",
    "print(inner_int)\n",
    "inner_int = np.mean(inner_int)"
   ]
  },
  {
   "cell_type": "code",
   "execution_count": null,
   "metadata": {},
   "outputs": [],
   "source": [
    "potential_integrations = manifold.outer[\"potential_integrations\"]\n",
    "fwd = np.min([len(pot[0]) for pot in potential_integrations])\n",
    "bwd = np.min([len(pot[1]) for pot in potential_integrations])\n",
    "outer_int = [pot[1][:fwd].sum() - pot[0][:bwd].sum() for pot in potential_integrations]\n",
    "print(outer_int)\n",
    "outer_int = np.mean(outer_int)"
   ]
  },
  {
   "cell_type": "code",
   "execution_count": null,
   "metadata": {},
   "outputs": [],
   "source": [
    "outer_int - inner_int"
   ]
  },
  {
   "cell_type": "code",
   "execution_count": null,
   "metadata": {},
   "outputs": [],
   "source": [
    "manifold.find_homoclinic(9.690951179619085e-07, 4.6186933097797397e-07)"
   ]
  },
  {
   "cell_type": "code",
   "execution_count": null,
   "metadata": {},
   "outputs": [],
   "source": [
    "manifold.find_clinics(n_points = 6)"
   ]
  },
  {
   "cell_type": "code",
   "execution_count": null,
   "metadata": {},
   "outputs": [],
   "source": [
    "fund = manifold.fundamental_segment"
   ]
  },
  {
   "cell_type": "code",
   "execution_count": null,
   "metadata": {},
   "outputs": [],
   "source": [
    "length = np.array([si[1]-si[0] for si in fund])"
   ]
  },
  {
   "cell_type": "code",
   "execution_count": null,
   "metadata": {},
   "outputs": [],
   "source": [
    "length*np.power(manifold.lambda_u, 28)"
   ]
  },
  {
   "cell_type": "code",
   "execution_count": null,
   "metadata": {},
   "outputs": [],
   "source": [
    "manifold.find_clinics(n_points=4)"
   ]
  },
  {
   "cell_type": "code",
   "execution_count": null,
   "metadata": {},
   "outputs": [],
   "source": [
    "marker = [\"X\", \"o\", \"s\", \"p\", \"P\", \"*\", \"x\", \"D\", \"d\", \"^\", \"v\", \"<\", \">\"]\n",
    "for i, clinic in enumerate(manifold.onworking[\"clinics\"]):\n",
    "    eps_s_i, eps_u_i = clinic[1:3]\n",
    "\n",
    "    n_u = 16\n",
    "    \n",
    "    # hs_i = manifold.integrate(manifold.rfp_s + eps_s_i * manifold.vector_s, n_s, -1)\n",
    "    hu_i = manifold.integrate(manifold.onworking[\"rfp_u\"] + eps_u_i * manifold.onworking[\"vector_u\"], n_u, 1)\n",
    "    # ax.scatter(hs_i[0,:], hs_i[1,:], marker=marker[i], color=\"royalblue\", edgecolor='cyan', zorder=10)\n",
    "    ax_perturbed.scatter(hu_i[0,:], hu_i[1,:], marker=marker[i], color=\"royalblue\", edgecolor='cyan', zorder=10, label=f'$h_{i+1}$')"
   ]
  },
  {
   "cell_type": "code",
   "execution_count": null,
   "metadata": {},
   "outputs": [],
   "source": [
    "rz = manifold.clinics[0][-1]\n",
    "\n",
    "cont = True\n",
    "while cont:\n",
    "    rz = manifold.integrate_single(rz, 1, -1, ret_jacobian=False)\n",
    "    if np.linalg.norm(rz - manifold.rfp_u) > length:\n",
    "        cont = False\n",
    "    length = np.linalg.norm(rz - manifold.rfp_u) "
   ]
  },
  {
   "cell_type": "code",
   "execution_count": null,
   "metadata": {},
   "outputs": [],
   "source": [
    "manifold.integrate_single(manifold.rfp_u + manifold.clinics[0][0]*manifold.vector_u, 11, -1, ret_jacobian=False)"
   ]
  },
  {
   "cell_type": "code",
   "execution_count": null,
   "metadata": {},
   "outputs": [],
   "source": [
    "manifold.rfp_u"
   ]
  },
  {
   "cell_type": "code",
   "execution_count": null,
   "metadata": {},
   "outputs": [],
   "source": [
    "fig_perturbed.set_size_inches(12, 12)\n",
    "# ax_perturbed.set_xlim(4.4, 6.8)\n",
    "# ax_perturbed.set_ylim(-0.3, 1.4)\n",
    "ax_perturbed.legend()\n",
    "display(fig_perturbed.canvas)"
   ]
  },
  {
   "cell_type": "code",
   "execution_count": null,
   "metadata": {},
   "outputs": [],
   "source": [
    "areas, potential_integrations, history = manifold.resonance_area()"
   ]
  },
  {
   "cell_type": "code",
   "execution_count": null,
   "metadata": {},
   "outputs": [],
   "source": [
    "fwd = np.min([len(pot[0]) for pot in potential_integrations])\n",
    "bwd = np.min([len(pot[1]) for pot in potential_integrations])"
   ]
  },
  {
   "cell_type": "code",
   "execution_count": null,
   "metadata": {},
   "outputs": [],
   "source": [
    "[pot[1][:fwd].sum() - pot[0][:bwd].sum() for pot in potential_integrations]"
   ]
  },
  {
   "cell_type": "code",
   "execution_count": null,
   "metadata": {},
   "outputs": [],
   "source": [
    "manifold.areas"
   ]
  },
  {
   "cell_type": "code",
   "execution_count": null,
   "metadata": {},
   "outputs": [],
   "source": [
    "areas = manifold.areas[:,0]"
   ]
  },
  {
   "cell_type": "code",
   "execution_count": null,
   "metadata": {},
   "outputs": [],
   "source": [
    "areas[areas > 0].sum()"
   ]
  },
  {
   "cell_type": "code",
   "execution_count": null,
   "metadata": {},
   "outputs": [],
   "source": [
    "areas.sum()"
   ]
  },
  {
   "cell_type": "code",
   "execution_count": null,
   "metadata": {},
   "outputs": [],
   "source": [
    "np.isclose(areas.sum(), 0, atol=1e-2*np.abs(areas).max())"
   ]
  },
  {
   "cell_type": "code",
   "execution_count": null,
   "metadata": {},
   "outputs": [],
   "source": [
    "eps_s_lb = manifold.find_epsilon(manifold.rfp_s, manifold.vector_s, direction=-1)\n",
    "eps_u_lb = manifold.find_epsilon(manifold.rfp_u, manifold.vector_u)"
   ]
  },
  {
   "cell_type": "code",
   "execution_count": null,
   "metadata": {},
   "outputs": [],
   "source": [
    "bounds = manifold.find_bounds(eps_s_lb, eps_u_lb)"
   ]
  },
  {
   "cell_type": "code",
   "execution_count": null,
   "metadata": {},
   "outputs": [],
   "source": [
    "n_s, n_u = manifold.find_N(eps_s_lb, eps_u_lb)\n",
    "print(n_s, n_u)"
   ]
  },
  {
   "cell_type": "code",
   "execution_count": null,
   "metadata": {},
   "outputs": [],
   "source": [
    "space_u = np.logspace(\n",
    "            np.log(bounds[1][0]) / np.log(manifold.lambda_u),\n",
    "            np.log(bounds[1][1]) / np.log(manifold.lambda_u),\n",
    "            20,\n",
    "            base=manifold.lambda_u,\n",
    "        )\n",
    "\n",
    "space_s = np.logspace(\n",
    "            np.log(bounds[0][0]) / np.log(manifold.lambda_s),\n",
    "            np.log(bounds[0][1]) / np.log(manifold.lambda_s),\n",
    "            20,\n",
    "            base=manifold.lambda_s,\n",
    "        )"
   ]
  },
  {
   "cell_type": "code",
   "execution_count": null,
   "metadata": {},
   "outputs": [],
   "source": [
    "n_s, n_u = 16, 16\n",
    "def evolution(self, eps):\n",
    "    print(eps)\n",
    "    eps_s, eps_u = eps\n",
    "    r_s = self.rfp_s + eps_s * self.vector_s\n",
    "    r_u = self.rfp_u + eps_u * self.vector_u\n",
    "\n",
    "    try:\n",
    "        r_s_evolved = self.integrate_single(r_s, n_s, -1, ret_jacobian = False)\n",
    "    except Exception as e:\n",
    "        print(f\"Error in stable manifold integration : {e}\")\n",
    "\n",
    "    try:\n",
    "        r_u_evolved = self.integrate_single(r_u, n_u, 1, ret_jacobian = False)\n",
    "    except Exception as e:\n",
    "        print(f\"Error in unstable manifold integration : {e}\")\n",
    "\n",
    "    return r_s_evolved - r_u_evolved\n",
    "\n",
    "es, eu = np.meshgrid(space_s, space_u)\n",
    "E = np.array([evolution(manifold, [S, U]) for S, U in zip(es.flatten(), eu.flatten())]).reshape(es.shape + (2,))"
   ]
  },
  {
   "cell_type": "code",
   "execution_count": null,
   "metadata": {},
   "outputs": [],
   "source": [
    "N = np.linalg.norm(E, axis=2)"
   ]
  },
  {
   "cell_type": "code",
   "execution_count": null,
   "metadata": {},
   "outputs": [],
   "source": [
    "from mpl_toolkits.mplot3d import Axes3D\n",
    "fig = plt.figure()\n",
    "ax = fig.add_subplot()\n",
    "contour = ax.contourf(es, eu, N)\n",
    "plt.colorbar(contour)\n",
    "\n",
    "# ax = fig.add_subplot(111, projection='3d')\n",
    "# ax.plot_surface(es, eu, N, cmap='viridis')"
   ]
  },
  {
   "cell_type": "code",
   "execution_count": null,
   "metadata": {},
   "outputs": [],
   "source": [
    "n_s = 17\n",
    "n_u = 16\n",
    "\n",
    "def iteration(eps_u):\n",
    "    r_s_E, intA = manifold.integrate_single(manifold.rfp_u + eps_u * manifold.vector_u, n_s+n_u-1, 1, ret_jacobian=False, integrate_A=True)\n",
    "    ax.scatter(*r_s_E, s=15, edgecolor='black', zorder=10)\n",
    "    # r_dir = r_s_E - manifold.rfp_s\n",
    "    # r_dir = r_dir / np.linalg.norm(r_dir)\n",
    "    return intA"
   ]
  },
  {
   "cell_type": "code",
   "execution_count": null,
   "metadata": {},
   "outputs": [],
   "source": [
    "space = np.linspace(bounds[1][0], bounds[1][1], 100)"
   ]
  },
  {
   "cell_type": "code",
   "execution_count": null,
   "metadata": {},
   "outputs": [],
   "source": [
    "arr = []\n",
    "for eps in space:\n",
    "    arr.append(iteration(eps))"
   ]
  },
  {
   "cell_type": "code",
   "execution_count": null,
   "metadata": {},
   "outputs": [],
   "source": [
    "fig, ax = plt.subplots()\n",
    "ax.plot(space, arr)"
   ]
  },
  {
   "cell_type": "code",
   "execution_count": null,
   "metadata": {},
   "outputs": [],
   "source": [
    "# Set up the manifold\n",
    "iparams = dict()\n",
    "iparams[\"rtol\"] = 1e-13\n",
    "manifold = Manifold(fixedpoint, pyoproblem, integrator_params=iparams)"
   ]
  },
  {
   "cell_type": "code",
   "execution_count": null,
   "metadata": {},
   "outputs": [],
   "source": [
    "manifold.choose(0, 1, directions=[\"s\",\"u\"], sngs=[1, -1])"
   ]
  },
  {
   "cell_type": "code",
   "execution_count": null,
   "metadata": {},
   "outputs": [],
   "source": [
    "manifold.compute(epsilon = 1e-6, neps=100, nintersect=8)"
   ]
  },
  {
   "cell_type": "code",
   "execution_count": null,
   "metadata": {},
   "outputs": [],
   "source": [
    "manfiold."
   ]
  }
 ],
 "metadata": {
  "kernelspec": {
   "display_name": "simsopt",
   "language": "python",
   "name": "python3"
  },
  "language_info": {
   "codemirror_mode": {
    "name": "ipython",
    "version": 3
   },
   "file_extension": ".py",
   "mimetype": "text/x-python",
   "name": "python",
   "nbconvert_exporter": "python",
   "pygments_lexer": "ipython3",
   "version": "3.10.13"
  }
 },
 "nbformat": 4,
 "nbformat_minor": 2
}
