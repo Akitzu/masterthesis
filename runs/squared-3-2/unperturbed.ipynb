{
 "cells": [
  {
   "cell_type": "code",
   "execution_count": 3,
   "metadata": {},
   "outputs": [],
   "source": [
    "from pyoculus.problems import AnalyticCylindricalBfield\n",
    "from pyoculus.solvers import PoincarePlot, FixedPoint, Manifold\n",
    "%matplotlib ipympl\n",
    "import matplotlib.pyplot as plt\n",
    "plt.style.use('lateky')\n",
    "\n",
    "import numpy as np\n",
    "import pickle"
   ]
  },
  {
   "cell_type": "code",
   "execution_count": 4,
   "metadata": {},
   "outputs": [],
   "source": [
    "# Creating the pyoculus problem object, adding the perturbation here use the R, Z provided as center point\n",
    "pyoproblem = AnalyticCylindricalBfield(\n",
    "    6,\n",
    "    0,\n",
    "    0.8875,\n",
    "    0.2\n",
    ")"
   ]
  },
  {
   "cell_type": "code",
   "execution_count": 5,
   "metadata": {},
   "outputs": [],
   "source": [
    "# set up the integrator for the Poincare\n",
    "iparams = dict()\n",
    "iparams[\"rtol\"] = 1e-10\n",
    "\n",
    "# set up the Poincare plot\n",
    "pparams = dict()\n",
    "pparams[\"nPtrj\"] = 10\n",
    "pparams[\"nPpts\"] = 300\n",
    "pparams[\"zeta\"] = 0\n",
    "\n",
    "# Set RZs for the normal (R-only) computation\n",
    "pparams[\"Rbegin\"] = pyoproblem._R0+1e-3\n",
    "pparams[\"Rend\"] = 8\n",
    "\n",
    "# Set up the Poincare plot object\n",
    "pplot = PoincarePlot(pyoproblem, pparams, integrator_params=iparams)\n",
    "\n",
    "# # R-only computation\n",
    "pplot.compute()"
   ]
  },
  {
   "cell_type": "code",
   "execution_count": null,
   "metadata": {},
   "outputs": [],
   "source": [
    "plt.close()\n",
    "fig, ax = pplot.plot(marker=\".\", s=1)\n",
    "# # plt.show()\n",
    "# # fig.canvas.toolbar_visible = True\n",
    "# fig.canvas.toolbar_visible = 'fade-in-fade-out'\n",
    "# # fig.canvas.toolbar_position = 'top'\n",
    "# fig.canvas.header_visible = False\n",
    "# fig.canvas.footer_visible = True\n",
    "# fig.canvas.resizable = False\n",
    "# # fig.canvas.capture_scroll = True\n",
    "\n",
    "# # fig.canvas.toolbar_visible = True\n",
    "# display(fig.canvas)\n",
    "fig"
   ]
  },
  {
   "cell_type": "code",
   "execution_count": null,
   "metadata": {},
   "outputs": [],
   "source": [
    "pplot.compute_iota()"
   ]
  },
  {
   "cell_type": "code",
   "execution_count": null,
   "metadata": {},
   "outputs": [],
   "source": [
    "pplot.plot_q()\n",
    "plt.show()"
   ]
  },
  {
   "cell_type": "markdown",
   "metadata": {},
   "source": [
    "#### Adding the perturbation"
   ]
  },
  {
   "cell_type": "code",
   "execution_count": null,
   "metadata": {},
   "outputs": [],
   "source": [
    "maxwellboltzmann = {\"m\": 3, \"n\": -2, \"d\": 1/np.sqrt(2), \"type\": \"maxwell-boltzmann\", \"amplitude\": 1e-4}\n",
    "pyoproblem.add_perturbation(maxwellboltzmann)"
   ]
  },
  {
   "cell_type": "code",
   "execution_count": null,
   "metadata": {},
   "outputs": [],
   "source": [
    "# set up the integrator for the Poincare\n",
    "iparams = dict()\n",
    "iparams[\"rtol\"] = 1e-10\n",
    "\n",
    "# set up the Poincare plot\n",
    "pparams = dict()\n",
    "pparams[\"nPtrj\"] = 15\n",
    "pparams[\"nPpts\"] = 150\n",
    "pparams[\"zeta\"] = 0\n",
    "\n",
    "# Set RZs for the normal (R-only) computation\n",
    "pparams[\"Rbegin\"] = pyoproblem._R0+1e-3\n",
    "pparams[\"Rend\"] = 7.5\n",
    "\n",
    "# Set up the Poincare plot object\n",
    "pplot_perturbed = PoincarePlot(pyoproblem, pparams, integrator_params=iparams)\n",
    "\n",
    "# # R-only computation\n",
    "pplot_perturbed.compute()"
   ]
  },
  {
   "cell_type": "code",
   "execution_count": null,
   "metadata": {},
   "outputs": [],
   "source": [
    "plt.close()"
   ]
  },
  {
   "cell_type": "code",
   "execution_count": null,
   "metadata": {},
   "outputs": [],
   "source": [
    "pplot_perturbed.plot(marker=\".\", s=1)\n",
    "fig_perturbed = plt.gcf()\n",
    "ax_perturbed = fig_perturbed.gca()"
   ]
  },
  {
   "cell_type": "code",
   "execution_count": null,
   "metadata": {},
   "outputs": [],
   "source": [
    "pyoproblem.plot_intensities([4, 8], [-2, 2], ax=ax_perturbed, alpha=0.3)\n",
    "display(fig_perturbed.canvas)"
   ]
  },
  {
   "cell_type": "code",
   "execution_count": null,
   "metadata": {},
   "outputs": [],
   "source": [
    "guess = [5, 0.]\n",
    "ax_perturbed.scatter(*guess)\n",
    "fig_perturbed"
   ]
  },
  {
   "cell_type": "code",
   "execution_count": null,
   "metadata": {},
   "outputs": [],
   "source": [
    "# set up the integrator for the FixedPoint\n",
    "iparams = dict()\n",
    "iparams[\"rtol\"] = 1e-13\n",
    "\n",
    "pparams = dict()\n",
    "pparams[\"nrestart\"] = 0\n",
    "pparams[\"niter\"] = 300\n",
    "pparams['Z'] = 0\n",
    "\n",
    "# set up the FixedPoint object\n",
    "fixedpoint = FixedPoint(pyoproblem, pparams, integrator_params=iparams)\n",
    "\n",
    "# find the X-point\n",
    "fixedpoint.compute(guess=guess, pp=2, qq=3, sbegin=2, send=10, tol=1e-10)\n",
    "\n",
    "if fixedpoint.successful:\n",
    "    results = [list(p) for p in zip(fixedpoint.x, fixedpoint.y, fixedpoint.z)]\n",
    "else:\n",
    "    raise ValueError(\"X-point not found\")"
   ]
  },
  {
   "cell_type": "code",
   "execution_count": null,
   "metadata": {},
   "outputs": [],
   "source": [
    "results\n",
    "for rr in results:\n",
    "    ax_perturbed.scatter(rr[0], rr[2], marker=\"X\", edgecolors=\"black\", linewidths=1)\n",
    "fig_perturbed"
   ]
  },
  {
   "cell_type": "code",
   "execution_count": null,
   "metadata": {},
   "outputs": [],
   "source": [
    "# Set up the manifold\n",
    "iparams = dict()\n",
    "iparams[\"rtol\"] = 1e-13\n",
    "manifold = Manifold(fixedpoint, pyoproblem, integrator_params=iparams)"
   ]
  },
  {
   "cell_type": "code",
   "execution_count": null,
   "metadata": {},
   "outputs": [],
   "source": [
    "manifold.choose(0,1, directions=[\"u+\", \"s+\"], sngs=[-1, 1])"
   ]
  },
  {
   "cell_type": "code",
   "execution_count": null,
   "metadata": {},
   "outputs": [],
   "source": [
    "manifold.compute(neps=100, nintersect=8)"
   ]
  },
  {
   "cell_type": "code",
   "execution_count": null,
   "metadata": {},
   "outputs": [],
   "source": [
    "r1 = manifold.integrate_single(manifold.rfp_u + 0.1 * manifold.vector_u, 56, 1, ret_jacobian=False)\n",
    "r2 = manifold.integrate_single(manifold.rfp_s + 0.1 * manifold.vector_s, 57, -1, ret_jacobian=False)"
   ]
  },
  {
   "cell_type": "code",
   "execution_count": null,
   "metadata": {},
   "outputs": [],
   "source": [
    "ax_perturbed.scatter(*r1, marker=\"o\", edgecolors=\"black\", linewidths=1)\n",
    "ax_perturbed.scatter(*r2, marker=\"s\", edgecolors=\"black\", linewidths=1)"
   ]
  },
  {
   "cell_type": "code",
   "execution_count": null,
   "metadata": {},
   "outputs": [],
   "source": [
    "manifold.plot(ax=ax_perturbed)\n",
    "fig_perturbed"
   ]
  },
  {
   "cell_type": "code",
   "execution_count": null,
   "metadata": {},
   "outputs": [],
   "source": [
    "manifold.vector_s, manifold.vector_u"
   ]
  },
  {
   "cell_type": "code",
   "execution_count": null,
   "metadata": {},
   "outputs": [],
   "source": [
    "print(manifold.error_linear_regime(0.001, manifold.rfp_u, manifold.vector_u))\n",
    "print(manifold.error_linear_regime(0.001, manifold.rfp_s, manifold.vector_s, direction=-1))"
   ]
  },
  {
   "cell_type": "code",
   "execution_count": null,
   "metadata": {},
   "outputs": [],
   "source": [
    "manifold.find_N(1e-3, 1e-3)"
   ]
  },
  {
   "cell_type": "code",
   "execution_count": null,
   "metadata": {},
   "outputs": [],
   "source": [
    "manifold.find_homoclinic(1e-3, 1e-3)"
   ]
  },
  {
   "cell_type": "code",
   "execution_count": null,
   "metadata": {},
   "outputs": [],
   "source": [
    "manifold.find_clinics(n_points=4)"
   ]
  },
  {
   "cell_type": "code",
   "execution_count": null,
   "metadata": {},
   "outputs": [],
   "source": [
    "manifold.clinics"
   ]
  },
  {
   "cell_type": "code",
   "execution_count": null,
   "metadata": {},
   "outputs": [],
   "source": [
    "marker = [\"X\", \"o\", \"s\", \"p\", \"P\", \"*\", \"x\", \"D\", \"d\", \"^\", \"v\", \"<\", \">\"]\n",
    "for i, clinic in enumerate(manifold.clinics):\n",
    "    eps_s_i, eps_u_i = clinic[1:3]\n",
    "\n",
    "    n_u = 8\n",
    "    \n",
    "    # hs_i = manifold.integrate(manifold.rfp_s + eps_s_i * manifold.vector_s, n_s, -1)\n",
    "    hu_i = manifold.integrate(manifold.rfp_u + eps_u_i * manifold.vector_u, n_u, 1)\n",
    "    # ax.scatter(hs_i[0,:], hs_i[1,:], marker=marker[i], color=\"royalblue\", edgecolor='cyan', zorder=10)\n",
    "    ax_perturbed.scatter(hu_i[0,:], hu_i[1,:], marker=marker[i], color=\"royalblue\", edgecolor='cyan', zorder=10, label=f'$h_{i+1}$')"
   ]
  },
  {
   "cell_type": "code",
   "execution_count": null,
   "metadata": {},
   "outputs": [],
   "source": [
    "fig_perturbed.set_size_inches(12, 12)\n",
    "ax_perturbed.set_xlim(4.4, 6.8)\n",
    "ax_perturbed.set_ylim(-0.3, 1.4)\n",
    "ax_perturbed.legend()\n",
    "display(fig_perturbed.canvas)"
   ]
  },
  {
   "cell_type": "code",
   "execution_count": null,
   "metadata": {},
   "outputs": [],
   "source": [
    "manifold.resonance_area()"
   ]
  },
  {
   "cell_type": "code",
   "execution_count": null,
   "metadata": {},
   "outputs": [],
   "source": [
    "areas = manifold.areas\n",
    "areas"
   ]
  },
  {
   "cell_type": "code",
   "execution_count": null,
   "metadata": {},
   "outputs": [],
   "source": [
    "areas[areas > 0].sum()"
   ]
  }
 ],
 "metadata": {
  "kernelspec": {
   "display_name": "simsopt",
   "language": "python",
   "name": "python3"
  },
  "language_info": {
   "codemirror_mode": {
    "name": "ipython",
    "version": 3
   },
   "file_extension": ".py",
   "mimetype": "text/x-python",
   "name": "python",
   "nbconvert_exporter": "python",
   "pygments_lexer": "ipython3",
   "version": "3.10.13"
  }
 },
 "nbformat": 4,
 "nbformat_minor": 2
}
