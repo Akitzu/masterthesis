{
 "cells": [
  {
   "cell_type": "code",
   "execution_count": 1,
   "metadata": {},
   "outputs": [],
   "source": [
    "from pyoculus.problems import AnalyticCylindricalBfield\n",
    "from pyoculus.solvers import PoincarePlot, FixedPoint, Manifold\n",
    "%matplotlib ipympl\n",
    "import matplotlib.pyplot as plt\n",
    "plt.style.use('lateky')\n",
    "\n",
    "import numpy as np\n",
    "import pickle"
   ]
  },
  {
   "cell_type": "code",
   "execution_count": 2,
   "metadata": {},
   "outputs": [],
   "source": [
    "# Creating the pyoculus problem object, adding the perturbation here use the R, Z provided as center point\n",
    "pyoproblem = AnalyticCylindricalBfield(\n",
    "    6,\n",
    "    0,\n",
    "    0.8875,\n",
    "    0.2\n",
    ")"
   ]
  },
  {
   "cell_type": "code",
   "execution_count": null,
   "metadata": {},
   "outputs": [],
   "source": [
    "# set up the integrator for the Poincare\n",
    "iparams = dict()\n",
    "iparams[\"rtol\"] = 1e-10\n",
    "\n",
    "# set up the Poincare plot\n",
    "pparams = dict()\n",
    "pparams[\"nPtrj\"] = 2\n",
    "pparams[\"nPpts\"] = 300\n",
    "pparams[\"zeta\"] = 0\n",
    "\n",
    "# Set RZs for the normal (R-only) computation\n",
    "pparams[\"Rbegin\"] = pyoproblem._R0+1e-3\n",
    "pparams[\"Rend\"] = 8\n",
    "\n",
    "# Set up the Poincare plot object\n",
    "pplot = PoincarePlot(pyoproblem, pparams, integrator_params=iparams)\n",
    "\n",
    "# # R-only computation\n",
    "pplot.compute()"
   ]
  },
  {
   "cell_type": "code",
   "execution_count": null,
   "metadata": {},
   "outputs": [],
   "source": [
    "fig, ax = pplot.plot(marker=\".\", s=1)\n",
    "# # plt.show()\n",
    "# # fig.canvas.toolbar_visible = True\n",
    "# fig.canvas.toolbar_visible = 'fade-in-fade-out'\n",
    "# # fig.canvas.toolbar_position = 'top'\n",
    "# fig.canvas.header_visible = False\n",
    "# fig.canvas.footer_visible = True\n",
    "# fig.canvas.resizable = False\n",
    "# # fig.canvas.capture_scroll = True\n",
    "\n",
    "# # fig.canvas.toolbar_visible = True\n",
    "# display(fig)"
   ]
  },
  {
   "cell_type": "code",
   "execution_count": null,
   "metadata": {},
   "outputs": [],
   "source": [
    "pplot.compute_iota()"
   ]
  },
  {
   "cell_type": "code",
   "execution_count": null,
   "metadata": {},
   "outputs": [],
   "source": [
    "pplot.plot_q(marker=\".\")"
   ]
  },
  {
   "cell_type": "markdown",
   "metadata": {},
   "source": [
    "### Straight field line coordinates"
   ]
  },
  {
   "cell_type": "code",
   "execution_count": null,
   "metadata": {},
   "outputs": [],
   "source": [
    "rho = 1.75\n",
    "phis = np.linspace(0, 2*np.pi, 5)\n",
    "thetas = np.linspace(0, 2*np.pi, 100)\n",
    "\n",
    "X, Y = np.meshgrid(thetas, phis)\n",
    "# Flattening of the coordinates\n",
    "iota = 2/3\n",
    "# X = Y*iota\n",
    "\n",
    "coords = np.array([[6+rho*np.cos(theta), phi, rho*np.sin(theta)] for theta, phi in zip(X.flatten(), Y.flatten())])\n",
    "Bs = pyoproblem.B_many(*coords.T)"
   ]
  },
  {
   "cell_type": "code",
   "execution_count": null,
   "metadata": {},
   "outputs": [],
   "source": [
    "coords = coords.reshape(X.shape + (3,))\n",
    "Bs = Bs.reshape(X.shape + (3,))"
   ]
  },
  {
   "cell_type": "code",
   "execution_count": null,
   "metadata": {},
   "outputs": [],
   "source": [
    "Bphi = Bs[:,:,1]\n",
    "Btheta = (np.cos(X) * Bs[:,:,2] - np.sin(X) * Bs[:,:,0])/rho\n",
    "\n",
    "# Normalization\n",
    "norm = np.sqrt(Bphi**2 + Btheta**2)\n",
    "Bphi /= norm\n",
    "Btheta /= norm"
   ]
  },
  {
   "cell_type": "code",
   "execution_count": null,
   "metadata": {},
   "outputs": [],
   "source": [
    "plt.ioff()\n",
    "fig, ax = plt.subplots()\n",
    "# ax.quiver(Y, X, Bphi, Btheta, scale=1, scale_units='xy')\n",
    "contour = ax.pcolor(Y, X, np.arctan(Btheta/Bphi), shading='auto')\n",
    "fig.colorbar(contour, ax=ax)\n",
    "ax.set_xlabel(r\"$\\phi$\")\n",
    "ax.set_ylabel(r\"$\\theta$\")\n",
    "ax.grid(False)\n",
    "fig"
   ]
  },
  {
   "cell_type": "code",
   "execution_count": null,
   "metadata": {},
   "outputs": [],
   "source": [
    "0.66/2*np.pi"
   ]
  },
  {
   "cell_type": "markdown",
   "metadata": {},
   "source": [
    "#### Adding the perturbation"
   ]
  },
  {
   "cell_type": "code",
   "execution_count": 3,
   "metadata": {},
   "outputs": [
    {
     "name": "stdout",
     "output_type": "stream",
     "text": [
      "0 - dr : 0.0\n"
     ]
    }
   ],
   "source": [
    "maxwellboltzmann = {\"m\": 3, \"n\": -2, \"d\": 1.75/np.sqrt(2), \"type\": \"maxwell-boltzmann\", \"amplitude\": 1e-1}\n",
    "pyoproblem.add_perturbation(maxwellboltzmann)"
   ]
  },
  {
   "cell_type": "code",
   "execution_count": null,
   "metadata": {},
   "outputs": [],
   "source": [
    "pyoproblem.amplitudes = [1e-1]"
   ]
  },
  {
   "cell_type": "code",
   "execution_count": null,
   "metadata": {},
   "outputs": [],
   "source": [
    "pyoproblem.perturbations_args"
   ]
  },
  {
   "cell_type": "code",
   "execution_count": 4,
   "metadata": {},
   "outputs": [
    {
     "data": {
      "text/plain": [
       "<pyoculus.solvers.base_solver.BaseSolver.OutputData at 0x23639bebfd0>"
      ]
     },
     "execution_count": 4,
     "metadata": {},
     "output_type": "execute_result"
    }
   ],
   "source": [
    "# set up the integrator for the Poincare\n",
    "iparams = dict()\n",
    "iparams[\"rtol\"] = 1e-10\n",
    "\n",
    "# set up the Poincare plot\n",
    "pparams = dict()\n",
    "pparams[\"nPtrj\"] = 3\n",
    "pparams[\"nPpts\"] = 150\n",
    "pparams[\"zeta\"] = 0\n",
    "\n",
    "# Set RZs for the normal (R-only) computation\n",
    "pparams[\"Rbegin\"] = pyoproblem._R0+1e-3\n",
    "pparams[\"Rend\"] = 8.5\n",
    "\n",
    "# Set up the Poincare plot object\n",
    "pplot_perturbed = PoincarePlot(pyoproblem, pparams, integrator_params=iparams)\n",
    "\n",
    "# # R-only computation\n",
    "pplot_perturbed.compute()"
   ]
  },
  {
   "cell_type": "code",
   "execution_count": null,
   "metadata": {},
   "outputs": [],
   "source": [
    "fig_perturbed.clear()"
   ]
  },
  {
   "cell_type": "code",
   "execution_count": 16,
   "metadata": {},
   "outputs": [],
   "source": [
    "# fig.clear()\n",
    "fig_perturbed, ax_perturbed = pplot_perturbed.plot(marker=\".\", s=1)"
   ]
  },
  {
   "cell_type": "code",
   "execution_count": null,
   "metadata": {},
   "outputs": [],
   "source": [
    "plt.ioff()\n",
    "fig_perturbed, ax_perturbed = pplot_perturbed.plot(marker=\".\", s=1)\n",
    "fig_perturbed"
   ]
  },
  {
   "cell_type": "code",
   "execution_count": null,
   "metadata": {},
   "outputs": [],
   "source": [
    "# pyoproblem.plot_intensities([4, 8], [-2, 2], ax=ax_perturbed, alpha=0.3)\n",
    "display(fig_perturbed.canvas)"
   ]
  },
  {
   "cell_type": "code",
   "execution_count": 6,
   "metadata": {},
   "outputs": [],
   "source": [
    "guess = [4.2, 0.]\n",
    "# ax_perturbed.scatter(*guess)\n",
    "# fig_perturbed"
   ]
  },
  {
   "cell_type": "code",
   "execution_count": 7,
   "metadata": {},
   "outputs": [
    {
     "name": "stdout",
     "output_type": "stream",
     "text": [
      "[R,Z] : [4.231182461608909, 0.7243696603064351] - dtheta : -0.3886879336100808\n",
      "R : 4.2672313458086135\n",
      "[R,Z] : [4.292285982165341, -0.11460704118109455] - dtheta : 0.0670108943881278\n",
      "R : 4.258557213354744\n",
      "[R,Z] : [4.258843455343295, -0.0015552057510422827] - dtheta : 0.0008932024763197433\n",
      "R : 4.258438345127808\n",
      "[R,Z] : [4.258438404010944, -3.2074168027432237e-07] - dtheta : 1.8416896985229414e-07\n",
      "R : 4.258438320608314\n",
      "[R,Z] : [4.2584383206095255, -7.238654120556021e-14] - dtheta : -5.329070518200751e-15\n"
     ]
    }
   ],
   "source": [
    "# set up the integrator for the FixedPoint\n",
    "iparams = dict()\n",
    "iparams[\"rtol\"] = 1e-13\n",
    "\n",
    "pparams = dict()\n",
    "pparams[\"nrestart\"] = 0\n",
    "pparams[\"niter\"] = 300\n",
    "pparams['Z'] = 0\n",
    "\n",
    "# set up the FixedPoint object\n",
    "fixedpoint = FixedPoint(pyoproblem, pparams, integrator_params=iparams)\n",
    "\n",
    "# find the X-point\n",
    "fixedpoint.compute(guess=guess, pp=2, qq=3, sbegin=2, send=10, tol=1e-10)\n",
    "\n",
    "if fixedpoint.successful:\n",
    "    results = [list(p) for p in zip(fixedpoint.x, fixedpoint.y, fixedpoint.z)]\n",
    "else:\n",
    "    raise ValueError(\"X-point not found\")"
   ]
  },
  {
   "cell_type": "code",
   "execution_count": 8,
   "metadata": {},
   "outputs": [
    {
     "name": "stdout",
     "output_type": "stream",
     "text": [
      "0 - [DeltaR, DeltaZ] : [-6.42952358e-12  8.41549053e-14] - dtheta : 3.545830296047825e-12\n"
     ]
    },
    {
     "data": {
      "text/plain": [
       "<pyoculus.solvers.base_solver.BaseSolver.OutputData at 0x23639ff8970>"
      ]
     },
     "execution_count": 8,
     "metadata": {},
     "output_type": "execute_result"
    }
   ],
   "source": [
    "pparams.pop(\"Z\")\n",
    "# set up the FixedPoint object\n",
    "fp_x2 = FixedPoint(pyoproblem, pparams, integrator_params=iparams)\n",
    "fp_x2.compute(guess=[6.44042536414122, 1.7065049712562115], pp=2, qq=3, sbegin=2, send=10, tol=1e-10)"
   ]
  },
  {
   "cell_type": "code",
   "execution_count": null,
   "metadata": {},
   "outputs": [],
   "source": [
    "fig_perturbed"
   ]
  },
  {
   "cell_type": "code",
   "execution_count": 18,
   "metadata": {},
   "outputs": [],
   "source": [
    "results\n",
    "for rr in results:\n",
    "    ax_perturbed.scatter(rr[0], rr[2], marker=\"X\", edgecolors=\"black\", linewidths=1)"
   ]
  },
  {
   "cell_type": "code",
   "execution_count": null,
   "metadata": {},
   "outputs": [],
   "source": [
    "ax_perturbed.set_title(\"Perturbed Poincare plot\")\n",
    "fig_perturbed"
   ]
  },
  {
   "cell_type": "code",
   "execution_count": 9,
   "metadata": {},
   "outputs": [],
   "source": [
    "# Set up the manifold\n",
    "iparams = dict()\n",
    "iparams[\"rtol\"] = 1e-13\n",
    "manifold = Manifold(pyoproblem, fixedpoint, fp_x2, integrator_params=iparams)"
   ]
  },
  {
   "cell_type": "code",
   "execution_count": 10,
   "metadata": {},
   "outputs": [],
   "source": [
    "manifold.choose(signs=[[1, -1], [-1, 1]])"
   ]
  },
  {
   "cell_type": "code",
   "execution_count": null,
   "metadata": {},
   "outputs": [],
   "source": [
    "manifold.inner"
   ]
  },
  {
   "cell_type": "code",
   "execution_count": null,
   "metadata": {},
   "outputs": [],
   "source": [
    "manifold.outer"
   ]
  },
  {
   "cell_type": "code",
   "execution_count": 14,
   "metadata": {},
   "outputs": [
    {
     "name": "stdout",
     "output_type": "stream",
     "text": [
      "2024-06-11 13:07:25 [info     ] Computing manifold for directions [inner/outer/both]: inner\n",
      "2024-06-11 13:07:34 [info     ] Search for minimum of the linear error succeeded, epsilon = 5.83924e-07\n",
      "2024-06-11 13:07:38 [info     ] Search for minimum of the linear error succeeded, epsilon = 8.71721e-07\n",
      "2024-06-11 13:07:39 [info     ] Computing unstable manifold...\n",
      "2024-06-11 13:08:07 [info     ] Computing stable manifold...\n"
     ]
    }
   ],
   "source": [
    "manifold.compute(neps=30, nintersect=8, directions=\"inner\")"
   ]
  },
  {
   "cell_type": "code",
   "execution_count": 21,
   "metadata": {},
   "outputs": [
    {
     "data": {
      "text/plain": [
       "(<Figure size 960x720 with 1 Axes>, <Axes: xlabel='R(m)', ylabel='Z(m)'>)"
      ]
     },
     "execution_count": 21,
     "metadata": {},
     "output_type": "execute_result"
    }
   ],
   "source": [
    "manifold.plot(ax=ax_perturbed, directions=\"iuis\")"
   ]
  },
  {
   "cell_type": "code",
   "execution_count": 22,
   "metadata": {},
   "outputs": [
    {
     "data": {
      "image/png": "[encoded data removed]",
      "text/plain": [
       "<Figure size 960x720 with 1 Axes>"
      ]
     },
     "execution_count": 22,
     "metadata": {},
     "output_type": "execute_result"
    }
   ],
   "source": [
    "fig_perturbed"
   ]
  },
  {
   "cell_type": "code",
   "execution_count": 23,
   "metadata": {},
   "outputs": [
    {
     "name": "stdout",
     "output_type": "stream",
     "text": [
      "2024-06-11 13:10:03 [info     ] Computing manifold for directions [inner/outer/both]: outer\n",
      "2024-06-11 13:10:04 [info     ] Search for minimum of the linear error succeeded, epsilon = 3.83120e-07\n",
      "2024-06-11 13:10:06 [info     ] Search for minimum of the linear error succeeded, epsilon = 5.01355e-07\n",
      "2024-06-11 13:10:06 [info     ] Computing unstable manifold...\n",
      "2024-06-11 13:10:34 [info     ] Computing stable manifold...\n"
     ]
    }
   ],
   "source": [
    "manifold.compute(neps=30, nintersect=8, directions=\"outer\")"
   ]
  },
  {
   "cell_type": "code",
   "execution_count": 25,
   "metadata": {},
   "outputs": [
    {
     "data": {
      "text/plain": [
       "(<Figure size 640x480 with 1 Axes>, <Axes: >)"
      ]
     },
     "execution_count": 25,
     "metadata": {},
     "output_type": "execute_result"
    },
    {
     "data": {
      "application/vnd.jupyter.widget-view+json": {
       "model_id": "cf8a4b8f303c4f768b61da63475b22cd",
       "version_major": 2,
       "version_minor": 0
      },
      "image/png": "[encoded data removed]",
      "text/html": [
       "\n",
       "            <div style=\"display: inline-block;\">\n",
       "                <div class=\"jupyter-widgets widget-label\" style=\"text-align: center;\">\n",
       "                    Figure\n",
       "                </div>\n",
       "                <img src='data:image/png;base64,iVBORw0KGgoAAAANSUhEUgAAAoAAAAHgCAYAAAA10dzkAAAAOXRFWHRTb2Z0d2FyZQBNYXRwbG90bGliIHZlcnNpb24zLjguMywgaHR0cHM6Ly9tYXRwbG90bGliLm9yZy/H5lhTAAAACXBIWXMAAA9hAAAPYQGoP6dpAABI40lEQVR4nO3de3gU9b3H8c8mhCQoySaCChLBBUTxUpuLaL0UJFhvgNpEq7bWc5TkWGx7qj2hqD2VtpaSHlttT9qCtdZeTpWkKvFGZVUUbxhZL9UgYBbwwkUl2SyXTUiyc/5Ys0lIAtlkk5nZeb+ehyc7s5PNN/vdzX74zcxvXIZhGAIAAIBjJJldAAAAAIYWARAAAMBhCIAAAAAOQwAEAABwGAIgAACAwxAAAQAAHIYACAAA4DAEQAAAAIchAAIAADgMARAAAMBhCIAAAAAOQwAEAABwGAIgAACAwxAAAQAAHIYACAAA4DAEQAAAAIchAAIAADgMARAAAMBhCIAAAAAOQwAEAABwGAIgAACAwxAAAQAAHIYACAAA4DAEQAAAAIchAAIAADgMARAAAMBhCIAAAAAOQwAEAABwGAIgAACAwxAAAQAAHIYACAAA4DAEQAAAAIchAAIAADgMARAAAMBhCIAAAAAOQwAEAABwGAIgAACAwxAAAQAAHIYACAAA4DAEQAAAAIchAAIAADgMARAAAMBhCIAAAAAOQwAEAABwGAIgAACAwxAAAQAAHIYACAAA4DAEQAAAAIchAAIAADgMARAAAMBhCIAAAAAOQwAEAABwGAIgAACAwxAAAQAAHIYACAAA4DAEQAAAAIcZZnYBdhYOh7Vt2zaNHDlSLpfL7HIAAEAfGIah3bt3a+zYsUpKcuZYGAFwALZt26acnByzywAAAP3w4Ycfaty4cWaXYQoC4ACMHDlSUuQFlJGRYXI19mUYhkKhkNLT0xlJtQh6Yj30xHroibXE0o9gMKicnJzo57gTEQAHoP0FlpGRQQAcAMMwlJKSwh9RC6En1kNPrIeeWEt/+uHkvjlzxzcAAICDEQD7oaKiQlOnTlVBQYHZpQAAAMSMANgP8+fPV21trWpqaswuBQAAIGYEQAAAAIchAAIAADgMARAAAMBhCIAAAAAOQwAEAABwGAIgAACAwxAAAQAAHIYA2A9MBA0AAOyMANgPTAQNAP1XvaFa31v5PVVvqB6U+wEcmsswDMPsIuwqGAwqMzNTjY2NysjIMLsc2zIMQ6FQiAuqWwg9sR5L9KS6WnUP/0HPTZCOvOoGXTT5Iu1u3q3d+3drd/NuJT/2uNLXvKo1412qHL9Hk7Mmaop7klpamrV/f0jHvvyORq59S38buVnPeiSXIc3IOUdjDztaagvrhLc+0lHvbNGjWTv1jEdqdUlnjP+SxmUeK9ewYZr61jaNfut9/TXzAz05JXL/1065SqeO/aKGD0/XpFc3avial/SCJ1nh2ZfoKxO/opGpIzVy+EgdPvxwvffHcu33/lNp51+oaTfe2e1303PPSTNmSHPm9OnpsERPEBVLP/j8JgAOCC+g+OCPqPXQE+sZtJ40Nyv8yU7t/b8/acfKf+hfmU1qmzRRY43D1dqwS+Fgo1yNjRr1wS6dvLFBYUV2HW3JlFqTpLRWKb1VOrxZSg3Hr6z+MiS5JO1OkfakSs3JUtMwKbVVOq6x4/63c4ar8ahMuVLTNWpPm05462OFXVKSIX10WaFa83M1IvtIbWjept2vv6Qv7ErRMVdcL113XcfP4n1iKQTA2BAAB4AXUHzwR9R66In1xNQTw5A+/VTGBx9oT916bf6/3yrtnffUlnG4XIcdppRdAaUH9igj0KTDm9qG5hfoXJ6kNpe0P1lKGjZMrqRkJbe0KrmlTa7P79+fLLUkScNdyUoOS0mtkfvMdtcPztXO86apoalB23dv15fGfknf+OI3NGbkGD256Uk9t/k5zThuhuZM6dsoIuKHABgbAuAA8AKKD8KG9dAT6+nSE8OQPvpI6//nB9ILzyspe7TSRrrl+ugjpe34TJmf7lZqS9+H49oUGdVrD19bMqV3PYdr5JHHSCMzlOTO0uhdIZ3wyBq1uaRkQ/rhdOns636o86ZerJTDM6QXX5RKShROSlJSOKyrilxacbyh5VdW6pIT50pPPCFddpmUnCy1tem+H83R6Kuu7whK1dXS3Ll9vv/+2y7WkUXf1MUTL5Da2qTHH5e+8Q21uqRhhvSti6Qr5v1K08ecKTU3693lFTqpYnm0/rWXnS7XiSeqaU+jdr/2oi5+9bPo6OYLE4dpz4gUDdsX0sk7pTF7Is9Nm0u6Z5p0ywXdn0OXXDLU8XFaPLVYF066UDv27FBdQ50uOf4SXXrCpf3oPPqKABgbAuAA8AKKD8KG9dATk1VXS88+K+XmSh6PQu++rcA7NWp+919K3/Khsj7epeH7Dz1yt/3wyHF2R+6NBJuwpNemHKatV1+stLHH6vBjjlPWsVN07NtbNOrqG6Lhac7XpBvuWNF9FKu6WnUP36fVE9Q1nHWue/VqrZ2croc8IU2fML3rNp/fr+nTez7OLg73H6y+tb+7TaFVK5U+64IuxwBWb6jWH+6Yq/O2uvTseCP6u7evr35Q0efmkZ9fp5+439KbO96MBr4Dw19vxo0cp9PGnCYZ0p79ezRjwgxdn3u9xo4cq8c2Psbo4QARAGNDABwAXkDxQdiwHnoyxAIBGW+/rd2vv6SdD96nyTV10WPVetN51C4sqWZCil6fk6dh4z0aOXGqjph8qsYfOVmfPXi/zv52eTTArP3trd1PgJAOHe4SXPWGaq3esrpbaK3eUK1P/36fpm+RJl5+vTQnEgznPjhXya5ktRlteuSKR9TY3KjrVlynJFeSwkZYF0y8QLWf1uqD4AeH/Nnpw9IVag1Fg+QPz/mhxmWOU+2ntTrvuPMc14v+IgDGhgA4ALyA4oOwYT30ZJA88oj06KNqOSJbn7U2quVNnw7f4Ff2J7t73NyQFEyVXh0nfXRUmoLHHi1NnqwRJ52mw96r09fvePjQwU69j3yh/6o3VOu5zc/pS2O/pKJTiuRyubqFyAOD4qIvL9LzHzyv5zY/F9Po4fme83Vc1nFqCDXo8hMv15UnXzkUv6LtEABjQwAcAF5A8UHYsB56EgeGIW3erN1rntGu559SytNeHfNxz0FPkrZmSm8fJYWGSVfUduxy3HBfuY686ga509zdekKwM1df3ieHCoVVxVXavnu7vr3y29EwOHL4SO3e3/tr5ejDjtaErAlyyaXzJ56vm06/SS9/+LLjdyETAGNDAOyHiooKVVRUqK2tTRs3bnT0CygeCBvWQ09i0D5/XF6e9mWO0CfPPqbw2lc16p3Nytjd3OO3GJJqj07WM7MmynXqF5R1+rk6YdIZ2tywWVdUXaG5G5J07uawzrq2Y1SPnlhPf3vS0+7mzuskdQmJk7Inqa6+7pAjhe0B8ppTrlFmaqa+MukrjgqDBMDYEAAHgBdQfPDBZj305BAMQy3v/kvv/vd/6LRHXun1eL3mZOnNo6W3jh2uvcZ+fe/VjpE949FH5Zo7t9v39HYsGj2xnsHsycEC4ZnjztTaj9cqbBz6TO/cMbk6csSRunzq5TpyxJFavWV1wo4SEgBjQwAcAF5A8cEHm/XQkwOEw9r3Zo0+rP6rWlc/q7FvbFJWsKXbZvVp0uqTRqj+1MlKOeMs5ZxziXKPO1MvbH1Bcx+c2+PIXl/RE+sZyp4cLBDefMbN+uWrv+zT8YTt28ycMFO7Qrt00fEX6c7zEuPwAQJgbAiAA8ALKD74YLMeR/ekulp65hntGTtamwObpRdeUM7bW+Te09pls9AwaVO2dOonis4t1/Dgn5R15Td7ftheRvb6ytE9sSgze9LTsYWrt6xWekq6frbmZ9Fw2BenjD5FJx15kia4J6iptcm2I4QEwNjYOgD6fD7NmzdP69atO+h2VVVVKiwslCS53e5ujyFJubm58vv9CgQCys3N7dPP5wUUH3ywWY8Te1L/7uvasOAGnfnEWz3u0t2bIq07LlU78qYoZUahtp1wjG569pYBjerFwok9sTqr9uRgYbCvcxaec+w5uvnMm5XkSrLNySUEwNjYNgBWVVXJ4/EoLy9Ph/oVenohLFmyRGVlZSotLdWyZcskSYWFhaqsrOwWEnvDCyg+rPpH1Mmc0JOmxl16r+r32vfYwzrmlXc1/pOuJ2wYkj7OHqbXZudqROGFOvErX9f40ZO6bDPQUb1YOKEndmOHnhy463j1ltX6MPihqmqr+vwY7XMbzj5+tm7IvcGyQZAAGBvbBsB2LpfroAEwEAjI6/WqqKgouq68vFxlZWWSpGXLlumKK66Q1H108FB4AcWHHf6IOk0i9sQIh7Vx9T+04x8PKGP1K5q6oV6pnfaQtSRJG46QTv6040QNrVjR8xUnTJCIPbE7O/fktmdv08pNK+XJ9qiqtioa8vriy+O/rFOPOlWFnkJLhUECYGwcEQA7B7uqqirl5ubK4/FIigTAkpKSfv1sXkDxYec/ookqUXry2Y7Nqr72dJ351i4dtdtQdqjr/Vuzk/V+wUQlX3iRtuVN0TXP3Dhku3RjlSg9SSSJ0pPOu4zf+eQdVW+o7vMxhOMzx+v4I45XwTEF2rd/n6m7igmAsRlmdgGDrXP4CwQCqq+vj4a/9nVVVZGh8JqaGpWWlna5v7Pm5mY1N3fsJgoGg5IiLzqb52hTtT93PIfWYdeeGIahTbUvyv/nu5W58jnlvxvQv3ca1GhKlt4+ZbT2zDhLxxRfr8mnX6hjk5Ki9x82aoxWb1mtiROm6/Qpcyz1+9u1J4ksUXoy+/jZmn387OjygbuN//jGH1W9sbrH793auFVbG7dqlX+VJOnutXer6IQiHZN5jGZMGNowGEs/7N6zeEj4EcDOSktLtWTJkm6hsH3Z5/OpuLhYdXV1PX7/HXfcoUWLFnVbv337dsf+DwIwW2u4VW++WKn65X9Uzmqfvri5SUmd7m8/oaPNJT345SN02ROHvjYrgK4WrVmk8lfL+3wSSTtPpkcnjDpB1516nS6edPEgVhibYDCoMWPGOHoE0DEBMBAIKC8vr1u48/l80bN+A4GAsrKyVFdX1+MoYE8jgDk5OQoEAo59AcWDYRhqampSWlqarXejJBIr9+S1392uvSsf056jsqT6XZry4npN+aTrsUsbPJlq+Mq52moEdOXv10SP6fvLj4v09duXm1T5wFi5J07ltJ60jwyOSBkR2VXcy6hgbyZlTVJWepaOPvxoXf/F6+M+OhhLP4LBoNxut6MDYMLvAm73+uuv9zgFzMyZM9XQ0NBlfXZ2do+PkZqaqtTU1G7rXS6XI978g43n0Xqs1JP6vZ/phZvm6NI/db/yRkuStOGUMWqZfbEmX3eLpkw8QZJ0hqS/HFMs1+oXZEw/V9+4vdKM0uPKSj1BhFN6MveEuZp7QsfVa6o3VOu+N+6TDGn4sOGqqq066Ajh+w3vS59/3D628TEdddhRuj73+rhPRN2XfjihX4eSEAHwwBM9fD6f3G53l1E8n8/XLdh5PB4tWbIkutx+tnCsZwMDGByNoYBeePQeNf/tAZ3+4mZd2hhZ71Jk1+7WI1PVdPsPNPmab+vk7CN6fIxv3F4p3T5kJQOOMWfKnC6jeO0jhH2dZmbn3p362Zqf6edrfq7UYam6+PiLVVls//+k2YVtA6DX69WqVZGDThcvXqyCgoLoVC/ty+1TvbQ7cLeu2+1Wfn6+ysvL5Xa7VVdXp8pKXnyAmXY379bqlb/Xnj//QXnPb9TsXR337RsmjWjtuPLGzjtu0bQb7zCtVgAdOgfC9tHB9Z+u16b6TQf9vrDCCrWGIiOIi1xKUpLOyDlDL/37S0NRtmPZ/hhAM3EaeXwkylQKiWSor3H6dN3TOmZXi8atfEmnPlurL+zo+LPUlOKS/0snKuO6Uo27cp7W/umnCq1aqfRZF1hqmpbBxvvEeuhJ38QSBnuSpCS1/ejQU9IwDUxsCIADwAsoPvgjaj1D0ZO2cJvueuxWZf64XLM3SmP3dNzXkiT5T5+sEd/4N+V84yZp5MhBqcFOeJ9YDz2JXXsYXLN1jRqaGg79DZ/rSwgkAMbGtruAAdjTxk/W6+X77tCoB6v1vXealNLpBN5Nx6Qr9T+/r5zrvqMpo0aZVySAQdF5N/Ftz96m+3z36ZO9nxxyapmw+naVEvQdARDAoGtsatTKp36j5j/8XjPXfKzrdnfc135Gb6tLSiqcpWO//2OzygQwhO48787oGcDFlcV69L1H1RpuNbkq5yAA9kNFRYUqKirU1nboYxIApwobYT3/r8e1aelinfTEa7pya8f/4BsPT9EnlxZqwmnnKeX7/6W2JJeGhQ1NvPx6EysGYJb2s3+rN1Tr6n9crb0te02uKPFxDOAAcAxBfHAcjfUMpCf/vOtbSv77QxoeCCr3g1Yd3hJZ3+aStpxxgrJvvFlZV1wrtc+pWV0trV4tTZ8uzbHOheWthveJ9dCTweVa1PGcGj/q2+XdOAaw7xgBBDBgbeE2PVOzXE3fu0lzXqnvct/OsZnaf+01Gjd/oSaOG9f9m+fMIfgB6KYvoQ/9RwAE0G+f7ftMT/79xxqx7H5d7Nuj9E6H74QlvXHOJOU9v1FidAQALIUACCAmhmGopm6N3vzNrTrt4Zd17Ucd/0vfMXqEjv50X/Tau61XXUH4AwALIgAC6JN9Lfv0+NP/q32/+aUuXrNTp++LrG9Jdmnr+dM07gd36uhzZmjt72935ETNAGAnBEAAvauu1r8e/LVe3l2rcXWfqui9NiV9fteuUSO079+v1bib79Cko46Kfsu0G++UCH4AYGkEQAA92vKHck397iKdLOmUzuvzJyn7+z/UEV+9WkcM408IANgRf70BRIWNsJ555f+0Y/FtKn7qA0mRSZoNSW8eLT31k2t16w0PmFojAGDgCID9wETQSDTNrc16/LG7FL7rF5r9akBpnV7abS4p2ZB+NF264ZyvmlYjACB+mAh6AJhIMj6YTNU8jaGAHr9/oUb99k/6yrtN0fVbTxij4d+/VUdnHyP/ij9p9QRp9FXXR6/hiaHH+8R66Im1MBF0bBgBBBymekO1Hqt9VBPXvKPzqtbpmg87LtG26eypGnPHXTp2xvkKNTVJ6emaeNllmmhivQCA+CMAAg6yakmpDlu6TIs+lcbuiazbP8ylLbPP0YSf/EaTTzpVUuR/0gCAxEUABBxgy7b1+uCbl2qWd2N03e4U6amLj1fRb5/T8WPGmlgdAGCoJR16EwB2tXXbej10/RlKmzJV53YKf20u6U+nSWk//4WSCH8A4DiMAAIJ6INt7+nV//43nfvQq7ry8129DSNTlLW7ReHkJCW3hXX6v92qaZzUAQCORAAEEsiH2zfo1R/+m8556BVd8Xnw2zEqTXvK/lOT/vPH0lNPKWn1amn6dE2bQ/gDAKciAAIJ4IGXfqtPf/kTfeOfO1S8N7Ju+6g07fmv72ry934ipaREVs6ZE/kHAHA0AmA/MBE0rCL41/v0wZ1lmru5Xu7myLqPjkjRvgU36/j/7BT8AADohImgB4CJJOODyVRj19S8V+9ec77y/vFydN2Ow6TbC11yz/u2/ufiewb0+PTEeuiJ9dATa2Ei6NhwFjBgI+Fwm577zS3aOiGrS/hrc0kPnSzd90VD506aaWKFAAA7YBcwYBM1j/5WSWULNGNT5OyOPcOlw/dLRnKyktvadPgFc7Tia1yuDQBwaARAwOI2rn1SO79zvc55bYckqWmY9EbxuTrt7r9Lr74u1+dn9V7PyR0AgD4iAAIWVL2hWqtfW65z//y8Ln72Ix0flsIuqWbmCZr0m//TmSd8MbIhZ/UCAPqBAAhYzCt3fU9H3H23frpDGtEaWffGaUcp+557Ne3c2eYWBwBICARAwCKMcFh1N1yuM+9fEV33fpb04Len6/ZFz5lYGQAg0RAAAQv48KWnFJj3dZ2yvj66rs0lPXa8dOrV3zOxMgBAImIamH6oqKjQ1KlTVVBQYHYpsLnQZzv0ylfP0JhzL9Ip6+vV/Pk7MpycpGRD+tI3b+WsXgBA3DER9AAwkWR8OHIy1XBYb/7iFo376a81ak9YkvRi3pEas+z/NPGjvdLnZ/aadYKHI3ticfTEeuiJtTARdGzYBQwMsY9eeFy7512r0zY2SJLqRg/Ttp8u0NnzfhL5o5UrzuwFAAwqAiAwRB59+X613bZQlz6/U+OMyETOa74xXef8qkoTRx5hdnkAAAexdQD0+XyaN2+e1q1bd8jtJCk3N1d+v1+BQEC5ubmSJL/fr6qqKnk8Hvn9fpWUlMjtdg926XCScFg1RV/S+Y+tjU7rsjLPrUl/fEQXnjrd1NIAAM5k2wDYHtraw93BLF26VMuWLZMkFRYWqrKyMnpfcXFxNED6/X7Nmzevy/3AQOyufVONF52ngq0N0XU/nCHtKbtOFxD+AAAmsW0ALCoq6vO2eXl5amiIfAB3Ht3z+/1dtvN4PPJ6vXGpDw7X1qb1t/+HJtx1n8a1GDIkuSS1uqSskFRw3AyzKwQAOJhjpoFxu93ddu16vV5lZ2d3WZednd2nUUWgN43rXlbdiUfrxJ//QekthtaPGS6XIlO7DDOks65lahcAgLlsOwIYi0AgoKqqKklSTU2NSktL5fF4FAgEety+vr6+x/XAQe3fr9pbvqlJv3tQE9ukxlTpn/9RqEvKH5VWPqOkz6d2mcYZvgAAkzkiAHY+scPj8WjWrFmqq6vrdfvegmFzc7Oam5ujy8FgUFJk7iGmU+y/9ufOzs9h/ZqntefaKzV1a6Mk6dmTD1fGfX9VcUEk7BmzZ0uzP7+Orw1+z0ToSaKhJ9ZDT6wlln7QM4cEQL/fHz3rt/1sX7/fL7fb3W20r76+vtezgBcvXqxFixZ1Wx8KhZSSkhL3up2mqanJ7BJi9tS/Hlbbj3+orz61RUcY0qcjpKe/c4ku/MGflJaSrlAoZHaJA2LHniQ6emI99MRa+tIPu/9tjgfbXwnE5XIdNMn7fD7NnDkzehJIIBBQVlaWGhoaVF9f3+UsYEnKysrS5s2bewyBPY0A5uTkKBAIOHYm8XgwDENNTU1KS0uz1Wz6vv+8Usctq1T2539rVuSO0IQ/rdCpJ880t7A4sGtPEhk9sR56Yi2x9CMYDMrtdnMlELsLBAJdApvP55Pb7ZbH45HH49GSJUui93m9XhUVFfV4Uojf71d+fn6vI4CpqalKTU3ttt7lcvHmjwPbPI8tLdp+aaHynnwhuuqn50if3nqD7jml0MTC4s82PXEQemI99MRa+tIP+mXjAOj1erVq1SpJkV2zBQUF0alh2pfLysrkdruVn5+v8vJyud1u1dXVdZnnr7KyUgsWLFBBQYFqamqYAxAH1byhVjsunanx7+2Irmt1SSNapJnH2X/kDwDgDLbfBWwmLiYdH7a4oLphaFvFEmV+/zYd1hzWnmHS4a2RqV2S2sJa+9tbNe3GO82uMm5s0ROHoSfWQ0+sJZZ+8Plt4xFAYKgYDQ2qu/J8TVr1uiTp5eOGae99v9es3aOZ2gUAYEsEQOAgGlc9ruarr9Ckz0JqdUl//uokXXjvcxrjHhfZgOAHALAhx1wJBIhJS4s23/R1Hf6V2Trys5Dez5aW3/tdXbd8Q0f4AwDAphgBBA7Q8rsK7Vl4i45rjEz58/C0DE38yxO6evLZJlcGAEB8MALYDxUVFZo6daoKCgrMLgVxtvv731HKt25S1ufhb8mXpNb77tUXCH8AgARCAOyH+fPnq7a2VjU1NWaXgnhpa9MH37pGI+/6TXRVq0tKNVx69aNXTSwMAID4YxcwHM/45BN9cMnZGl+zKbqu1SUNM6Rnxxu6YcJ084oDAGAQEADhaPtefl775lyk8bv2aW+KdP9NZ+mGs76jjx/7m1ZPkG646nrNmcKZvgCAxEIAhGPt+NVPlF32I41qNbTxCOn1/71V86/8qVwulyZ+9QpNNLtAAAAGCQEQzhMKacvXL9GEh5+VJD11cpqyH1yhq0863+TCAAAYGgRAOEd1tbY8cI+SX3hREz7brzaX9IevTtDc+17S0Rljza4OAIAhQwCEM1RXS3Pnarwkl6TgcOl/bjlTP/zJ80pJTjG7OgAAhhTTwMAR9t71cxmKhD9D0vKTpT1fPoPwBwBwJAJgPzARtI2Ew9r6rWt02AuvyCUprEgIrD5ems70LgAAh3IZhmGYXYRdBYNBZWZmqrGxURkZGWaXY1uGYSgUCik9PV0ulyt+DxwKafPcL+u4VZEJu58uyNa44wv0yqRUjWZ6l4MatJ6g3+iJ9dATa4mlH3x+cwwgElR45w59NCNfx63/WPuTpHu/dbr+/ZerlZ6SrqlmFwcAgMnYBYyE0/T2G/r01Ek6dv3Hqk+T/vw/X9eNv35F6SnpZpcGAIAlEACRUBqefFj7zyzQUZ/sVV2W9PzfF+uG7/1FSS5e6gAAtGMXMBLC2t/dphFL79eJb2/XMENaOz5Zrf+o0mV5l5pdGgAAlkMAhO2t/e1tmjb/Zx3Lx6Uoe806TT7mFBOrAgDAutgvBnszDI0q/9/oYljSnlNOIPwBAHAQBEDYV1ubNl7+ZU3cGowsuiIv6MMvmG1uXQAAWBy7gPuhoqJCFRUVamtrM7sU59q/Xxsvmqbjn3lTbS5pxawcZR82SumzLtS0G+80uzoAACyNiaAHgIkk4yPWyVSNffv0/nlf0OS172t/kvT3W2fr2h+vYCLWOGKCW+uhJ9ZDT6yFiaBjwwggbCXcGFDdOSdr8r8+1r5h0orF39S1t9zPH18AAGJAAIRttH66Ux986SRNfn+XGlMl7z3f1VWld5tdFgAAtsNJILCFlm/PV9sxY+V5f5c+GyG9eP8ifZXwBwBAvzACCMvbP+96Df/DH6PLey45Xxdf9d8mVgQAgL0xAghL2/eBv0v4MyS533nfvIIAAEgABEBYVmj7h9r5pVOjy4Ykl6SaU0eZVhMAAImAXcCwpObPdurjM0/WpI/3attI6ZEp0pkfS09Okk694zazywMAwNYIgP3ARNCDa39glzafeaJO2BrUJ4dJHz/ygHLGufXXLas1fcJ0zZkyx+wSAQCwNSaCHgAmkoyPzpN3tu4JauO0iTpp/S7Vp0ubKpdq2sUlZpfoOExwaz30xHroibUwEXRsOAYQltG6b4/Wnz1FJ62PzPO34W+/JvwBADAICICwhLbmJv1r+lSd+vZO7RkuvXP/Ep152bfNLgsAgIRk6wDo8/mUl5fXp+3Ky8tVXl6u4uJiBQKBLvf5fD5Jkt/vj97G0Fnx7sPamD9Oua9/pOYk6Y3fL9JZV5WZXRYAAAnLtgGwqqpKkvoU2Lxer8rKylRWVqaCggLNnDkzet/SpUuVl5cnl8ul0tJSeTyeQasZ3a1Y/6iGXVakPH9IhqTUsHTOEaeZXRYAAAnNtgGwqKhIubm5h9zO5/Np8eLFXb7P5/PJ7/dLkvLy8tTQ0KCGhgatWrVKbrd7sEpGDz6843u65P2OOf7aklzS6tUmVwUAQGJL+GlgcnNzde+990aX23f/ZmdnR9cR+syx5q7v6qblWyRFwl+rSxoWNqTp080sCwCAhJfwAVCKjPq1e+ihh1RYWBgNfYFAILo7uaam5qC7gZubm9Xc3BxdDgaDkiKnnjObTmzWVd6jgh/8WpL02FeO07b8EzXzo2RNvOx6afZsiefTVO2vZ17X1kFPrIeeWEss/aBnCTAPoMvl6nMjA4GA8vLytG7dui4BsP22z+dTcXGx6urqevz+O+64Q4sWLeq2fvv27Y6dR6g/Nr3yuHJmf03ZIUOv5Y/R1GfWK2lYitllAQAcIhgMasyYMY6eB9BRAbC0tFQLFizoMsLn8/mixxIGAgFlZWWprq6ux1HAnkYAc3JyFAgEHPsCitXHm3xqO3Oaxte3qfa4kTrujc1KHZmlpqYmpaWlMZmqRRiGQU8shp5YDz2xllj6EQwG5Xa7HR0AHbELWJLKy8uj4a/9OEC/36+ZM2eqoaGhy7adjw/sLDU1Vampqd3Wu1wu3vx9EKjfpvrzz9Gp9W36YFSKxj73utIzj4gGeJ5H66En1kNPrIeeWEtf+kG/bHwWcGed5/WT1OUsXykyZUxubm40/C1fvlxut1sej0dLliyJbuf1elVUVMRJIYPg5V+XKTD5WJ26NaSGES4NW/m03OOPN7ssAAAcybYjgF6vV6tWrZIkLV68WAUFBdGTPdqXy8rK5Pf7VVxc3OV73W63SkpK5Ha7lZ+fr/LycrndbtXV1amysnLIf5dEt/a3t+lL3/1FdPnd6y7R2XnTzSsIAACHs/0xgGbiYtJ988opWTrznYAkqc0lrbk0V9MfXhe9nwuqWw89sR56Yj30xFpi6Qef3wmyCxjW9UL1b5RbG5AkhSUlG1L6rAtMrQkAAKez7S5gWN+mTWt17HXfVWpY2jR+pLZ9cZLSzr9Q02680+zSAABwNAIgBkVwX4N2zJ2pcxoMbRuVqvE1GzV59NFmlwUAAMQu4H6pqKjQ1KlTVVBQYHYplhQ2wvrnNdN0zvq9CqW4lFr9pIYT/gAAsAwCYD/Mnz9ftbW1qqmpMbsUS6r86dUqfnSTJGnbr36sI848z+SKAABAZwRAxNVb/12qy+54SJL07jVf0cT5t5tcEQAAOBABEHGz8qfX6Qs/Wabh4cjySV8tNbcgAADQIwIg4mL5u8s1/u4HosvhpCRpzRoTKwIAAL0hACIufL+4WSfuitxudUlJ4bA0fbqpNQEAgJ4xDQwG7Imnfq1b//6xJOlvp0g7D5POuvZWTZszx+TKAABATwiAGJAtn27SkaU3K2O/VHviKPl+fo2+PPE8TZtC+AMAwKoIgOi31nCrVv/bDF33YZuCI5I1+YlXdddxE80uCwAAHALHAKLfHrjn33XtE5Fdv02//bVSCH8AANgCAbAfuBKI9OKb1Tr/jr8oSZL/8hk68pvfMrskAADQRwTAfnD6lUD++tZflDLnMuUEpYbsdHkeqDa7JAAAEAMCIGKy4r0Vqi+5VtM+DMuQlFUfkp591uyyAABADAiAiEnl03erdF3ktktSW5JLWr3azJIAAECMCIDos0/27NRVv39RqW2R5VaXlBw2mPAZAACbYRoY9Nn//fBS/ef6Vu1PlqpLvqwv7svUxMuvl5jwGQAAWyEAok+efOXPunrZq5Kkz75XqqJf/N7kigAAQH+xCxiH1BBqUNP8Uh25T9p+3GiNvfPXZpcEAAAGgACIQ/rznVfo8jea1OaSsv/2sDR8uNklAQCAASAA9oOTJoJ+9s1H9NVfeyVJ20uuVuqZZ5tcEQAAGCiXYRiG2UXYVTAYVGZmphobG5WRkWF2OXG3Z/8evXZKts7b2KJdmcN1xLYGacSIuP8cwzAUCoWUnp4ul8sV98dH7OiJ9dAT66En1hJLPxL987svGAFEr6qum6bzNrZIko5o3K+1D9xpckUAACAeCIDo0Xs739WFK2qjy60uKbRqpYkVAQCAeCEAohvDMPTPhVfoqH2R5VaXNMyQ0mddYG5hAAAgLpgHEN3887W/65oHI6N/6+eepZ1JIaXPukDTbmQXMAAAiYAAiC6aW5v16X/dqFEhaceEUTqxarVOHMbLBACARMIuYHTx17+W6eoXg5KkjN//SSL8AQCQcAiAiPq48SNNWfS/SjakreefrhFfudjskgAAwCAgAPZDok4EveZrZ+rsLWE1J0vHLltudjkAAGCQEAD7Yf78+aqtrVVNTY3ZpcRN9Y+/rq+t/EiSlNomvfbkMpMrAgAAg4UACBmGoTH3V0aXmfMPAIDERgCEVvse1okf7ZcktTHnHwAACc/Wp3j6fD7NmzdP69atO+h2fr9fVVVV8ng88vv9KikpkdvtPuR9TmAYhj647SbNaJV2jkrXe2efoLTzL2TOPwAAEphtA2B7aPP5fIfctri4OBoS/X6/5s2bp8rKykPe5wT/fOGPuuKZHZKk4b9bpi8Xfd3kigAAwGCzbQAsKirq03Z+v7/LssfjkdfrPeR9TtAWblPwtv9Sequ09eRxGv/Va8wuCQAADIGEPwbQ6/UqOzu7y7rs7Gz5fL6D3ucEjz/xK13+coMkKfvuZZLLZXJFAABgKNh2BLCvAoFAj+vr6+sPel9Pmpub1dzcHF0OBiNXzDAMQ4ZhDKjOofbw+oel2xdqmCFtOnOKJp13gWm/Q/vPtdtzmMjoifXQE+uhJ9YSSz/omQMCYG96C38Hu2/x4sVatGhRt/WhUEgpKSlxqmzwPfH+E3rpv67Q3W9LYUnvffcbOiYUMrssNTU1mV0CDkBPrIeeWA89sZa+9CNkgc88syV8AHS73d1G9Orr6+V2uw96X08WLlyom2++ObocDAaVk5Oj9PR0paenx732wdLwjwd099OR20mSdq5fq/QrzKvfMAw1NTUpLS1NLnZDWwI9sR56Yj30xFpi6UdLS8sQVWVdCR8ACwsLtXTp0m7r8/Pz5fF4er2vJ6mpqUpNTe223uVy2erNn7emLnq71SXN2GKN+u32PDoBPbEeemI99MRa+tIP+pUgJ4EcuMvW5/NFz/D1eDxd7vP7/crPz5fb7T7ofYnKMAy5tn4gKbL7d5ghTbz8enOLAgAAQ8q2I4Ber1erVq2SFDk2r6CgIDo1TPtyWVmZJKmyslILFixQQUGBampquszzd7D7EtGap/+gs/37JEktV12p1K9dLc2ZY3JVAABgKLkMToXpt2AwqMzMTDU2NiojI8PscvrkyXPG6KIXd+idMybq5FfeN7scSZFRyVAopPT0dIblLYKeWA89sR56Yi2x9MOOn9/xlhC7gNE3vrWPatbLkat+HPnTX5pcDQAAMAsB0EG23XGLUsJS7SljdORMdvsCAOBUBECH2Pa/P9cF/4ycGLOptG+X0QMAAImJANgPFRUVmjp1qgoKCswupW+qqzX225GrfkjSfS/+RtUbqs2tCQAAmIYA2A/z589XbW2tampqzC6lT5qffEztZ/q0uaTztrq0estqM0sCAAAmIgA6wIbPNsglyZCUbEjPjjc0fcJ0k6sCAABmse08gOgbIxxW+suvSZI2nnS0Xiw6XTdcdb3mTOEkEAAAnIoAmODefPBufXF7s/amSGOeWavrjzrW7JIAAIDJ2AWc4FruvkuStG7WScog/AEAABEAE9rOd9Yq7/VtkqSjF/zU5GoAAIBVEAAT2Gu3XadkQ3p5ymE6/txLzS4HAABYBAEwQT3me0jTn3pPkvTskXuZ9w8AAEQRAPvBDhNBu267VSNbIlO/3L5G+vTv95ldEgAAsAgCYD/YYSLoaa9+JElySWp1SdO3mFoOAACwEAJgAtrzjk+jA/slSW1JLg0zpImXX29yVQAAwCoIgAno/V/+UJL0Tk6qkr7zXWnFCmkOEz8DAIAIJoJONK2tOuYRryRpU0mRTr79VyYXBAAArIYRwASz/eEHNDqwX5+OkAr+48dmlwMAACyIAJhgPvjlHZKkp6eN0rhRHnOLAQAAlkQATCBPvfIX5b4WOft3bepnzP0HAAB6RABMIKk/vEMpRmTuv1+vZO4/AADQMwJgAjlt3ceSmPsPAAAcHAGwH6x4JRDjgw+UHWiWJLUlibn/AABArwiA/WDFK4Fsu+9uSdK7R7oUvukm5v4DAAC9Yh7ABBF+6EFJ0suXfEEn3fMbk6sBAABWxghgAjDq6pSzYbvaXNKob5SaXQ4AALA4AmAC2P7HeyRJq4+T9o/OMrkaAABgdQTABJD8hz9Kkt47Qvpa1deY/w8AABwUAdDuli7VUZ/slSFpfo00d0OSVm9ZbXZVAADAwjgJxOaa/vxHpalj7r9zN4c1acJ0k6sCAABWRgC0ub07P1SapLArMvffWdfeqmlTmP4FAAD0jl3A/WCZiaADAbk375AkvXNhnrRihabdeKe5NQEAAMsjAPaDVSaCbnr8USWHDdWOkpLvf4CJnwEAQJ8QAG3s04fulyS9cGqGpo6eanI1AADALgiAdtXaqiNWvShJShs9Ri6Xy+SCAACAXdg6APr9fpWXl6uqqkrl5eUKBAK9bltVVaVAINDjNj6fTz6fL/qY7betrPb712lEc1iGpOse2qC1v7vN7JIAAIBN2DoAFhcXq6ysTEVFRSoqKtK8efMOum1WVpaysrLkcrnkcrlUXl4uSVq6dKny8vLkcrlUWloqj8czVL9Cv6U9/pSkjulfQqtWmlsQAACwDdtOA+P3+7ssezweeb3eHrcNBAKqrKxUUVFRdF15ebnKysokSXl5eWpoaJAkud3uwSk4zg7b2yJJavt8+pf0WReYXBEAALAL244Aer1eZWdnd1mXnZ3d6+7bzuGvqqqqy7IUCX52CX+qr9fonbslSU+cc5TW/vZWpn8BAAB9ZtsRwN6O96uvr++2rnOwCwQCqq+v77KbNxAIqKqqSpJUU1PT627g5uZmNTc3R5eDwaAkyTAMGYbRn1+jX1q9TyvFkGpHSTkPPqXTjj5tSH9+vLXXbuffIdHQE+uhJ9ZDT6wlln7QMxsHwN4c7EQQSVqwYIGWLFnSZV1JSUk0JHo8Hs2aNUt1dXXdvnfx4sVatGhRt/WhUEgpKSn9rjlWux79m3IkvTQlTVdlTFYoFBqynz2YmpqazC4BB6An1kNPrIeeWEtf+pEon5sDYdsA6Ha7u4321dfXH3Q3biAQkNfr7baN3+9Xbm6upEgA9Pv98vv93UYBFy5cqJtvvjm6HAwGlZOTo/T0dKWnpw/sF4pB8urVkqTNuR4dNuKwIfu5g8UwDDU1NSktLY3pbCyCnlgPPbEeemItsfSjpaVliKqyLtsGwMLCQi1durTb+vz8/F6/5/XXX+8W/nw+n2bOnBk9CaTdgccXSlJqaqpSU1O7rW8/q3gorHruPs3avkdhSf5ttXps42OakyDX/h3K5xF9Q0+sh55YDz2xlr70g37Z+CSQA0fn/H6/8vPzowHP5/N1O1PY5/N1C3Yej6fLLmGv16uioiLLnhAy7Ff3SIpM//LgP6RP/36fuQUBAADbse0IoCRVVlZqwYIFKigoUE1NjSorK6P3LV68WAUFBdGpXtodGBzdbrfy8/NVXl4ut9uturq6Lo9jNVP/tUNSx/x/07eYWg4AALAhl8GpMP0WDAaVmZmpxsZGZWRkDMnPbBw9Upmf7VGbS0o2JK1YIc2x9y5gwzAUCoWUnp7OsLxF0BProSfWQ0+sJZZ+mPH5bTW23QXsSJ99pszP9kiSNn51ekKEPwAAMPRsvQvYaZrXrFaqpPWjpJSl90rZk8wuCQAA2BAjgDay8+mHJUlveEZoYtZEk6sBAAB2RQDsh4qKCk2dOlUFBQVD+nOTHntCkpQyMpPjTQAAQL8RAPth/vz5qq2tVU1NzZD9zNd+/QON+zhy6bniZ7Zr7e9uG7KfDQAAEgsB0CaSHnkkervVJYVWrTSxGgAAYGcEQJsYfsSRkqSwpGGGlD7rAnMLAgAAtsVZwDYx3Ihk9bdzUtS88L807cY7Ta4IAADYFSOANpH2Vq0k6d1vXkz4AwAAA0IAtIP9+zV26y5J0uhzv2JyMQAAwO4IgDaw943XNLzVUFOylPxurdnlAAAAmyMA2kDtklskScPbpJnf+w1TwAAAgAEhAPbDUE8E7X79XUmRZjEFDAAAGCgCYD8M9UTQLsOQJLW5mAIGAAAMHNPA2EBmY7Mk6aUzj1Hq17/JWcAAAGBACIAWt2f7Vo3e3SZJOuEfL+jIoz0mVwQAAOyOXcAWt/nFxyVJH2YlE/4AAEBcEAAtbtcfKyRJu0emmlwJAABIFARAC1v7u9s0feV6SdLUD/Yx/QsAAIgLAqCFNT39lMKf325j+hcAABAnBEALSzv/wmiDkpn+BQAAxAkBsB+GaiLoaTfcoXCSS5L0xs++zfQvAAAgLlyG8fksw4hZMBhUZmamGhsblZGREf8f8P770uTJUnq6tGePlJSYed0wDIVCIaWnp8vlcpldDkRPrIieWA89sZZY+jHon982kJiJIlG8/37k64gR0uOPm1sLAABIGARAK3vkkcjX+npp7lyputrcegAAQEIgAFrZ669HvhqGlJwsrV5tajkAACAxEACtLD098jUpSWprk6ZPN7UcAACQGAiAVtYWuQawLrpIWrFCmjPH3HoAAEBCGGZ2ATiIDz+MfP3v/5YGecoZAADgHIwAWlVLi7RtW+R2ba25tQAAgIRCALSqBx6InPwhSdddxxnAAAAgbgiA/TAkVwLxejtucwYwAACIIwJgP8yfP1+1tbWqqakZvB/i8XTc5gxgAAAQRwRAqzr22MhXj4czgAEAQFwRAK1q587I15kzCX8AACCubD0NjN/vV1VVlTwej/x+v0pKSuR2u3vc1ufzSZJyc3Pl9/sVCASUm5sb8+MMmVdfjXxtbDS3DgAAkHBsHQCLi4u1bt06SZEQN2/ePFVWVva47dKlS7Vs2TJJUmFhYZftYnmcIVFdLa1cGbm9fLl0zTWMAgIAgLixbQD0+/1dlj0ej7ydz5w9QF5enhoaGiSpy+herI8zJJ57ruN2UlLkDGACIAAAiBPbHgPo9XqVnZ3dZV12dnZ0V29P3G53t127/XmcQTdjRsftcJgzgAEAQFzZdgQwEAj0uL6+vr7X7auqqiRJNTU1Ki0tlcfjielxmpub1dzcHF0OBoOSJMMwZLRP2hwPs2dLRxwh165dMv7nfyLL8Xx8i2l/7uL6HGJA6In10BProSfWEks/6JmNA2Bvegt0nU/s8Hg8mjVrlurq6mJ6nMWLF2vRokXd1odCIaWkpPSn3F6l79kjSdo/fLjaQqG4PrZVNTU1mV0CDkBPrIeeWA89sZa+9CPkkM/Vg7FtAHS73d1G6err63s9e9fv90fP+m0/29fv98f0OAsXLtTNN98cXQ4Gg8rJyVF6errS09MH9gt19vDDcn0+0pj6ne/IOPbYhD4G0DAMNTU1KS0tTS6Xy+xyIHpiRfTEeuiJtcTSj5aWliGqyrpsGwALCwu1dOnSbuvz8/O7rfP5fJo5c2b0JJB22dnZMT1OamqqUlNTu613uVzxffM//XTH7eRkuZ5/Xpo7N36Pb1Fxfx4xYPTEeuiJ9dATa+lLP+iXjQOgp/Ol0hQZ4cvPz4+O3Pl8Prndbnk8Hnk8Hi1ZsiS6rdfrVVFRUY8nhRz4OKbIy+u4zWXgAABAnNk2AEpSZWWlFixYoIKCAtXU1HSZu2/x4sUqKChQWVmZ3G638vPzVV5eLrfbrbq6ui7bHuxxTHHGGZGvI0ZIf/97Qu/+BQAAQ89lcCpMvwWDQWVmZqqxsVEZGRnxe+CXX5bOOkuaOFF6//34Pa5FGYahUCik9PR0huUtgp5YDz2xHnpiLbH0Y9A+v23EtvMAJrTPzwBWY2PkqiAAAABxRAC0ovYrgXz2WeTkD0IgAACIIwKgFb31Vsft5OTIpeAAAADihADYDxUVFZo6daoKCgoG5wdMmRL56nJxFjAAAIg7AmA/zJ8/X7W1taqpqRmcH3DqqZGv48dLK1ZwFjAAAIgrAqAVtc9QnkR7AABA/JEwrMjni3zdvJmTQAAAQNwRAK3ovfciXw2Dk0AAAEDcEQCtqP0yd5wEAgAABoGtLwWXsNrPAs7Kkv7jPzgJBAAAxBUjgFb09tuRrw0N0s9+xjGAAAAgrgiAVuT3R75yDCAAABgEBMB+GPSJoCdOjHzlGEAAADAICID9MGQTQZ94IhNBAwCAuCMAWtGwz8/NCYfNrQMAACQkAqAVtc8DuGEDE0EDAIC4IwBaUV1d5CsngQAAgEFAALSiE0+MfOUkEAAAMAiYCNqK2s8uPvxw6dvf5iQQAAAQV4wAWtFbb0W+7t7NRNAAACDuCIBWtHFjx22OAQQAAHFGAOyHQZ8IOj+/4zbHAAIAgDgjAPbDoE8Eff75ka/Dh0u33soxgAAAIK4IgFb0+uuRr/v3cwwgAACIOwKgFb35ZsdtjgEEAABxRgC0ohkzOm5zDCAAAIgzAqAVFRV13L7lFo4BBAAAcUUAtKKnn+64fdddHAMIAADiigBoRZ2P+eMYQAAAEGcEQCviGEAAADCICID9MOgTQQMAAAwiAmA/DPpE0M89J7lckdtJSewCBgAAcUUAtKIZMyTDiNwOh9kFDAAA4ooAaEVz5khz50ZujxwprV1rbj0AACChDDO7gIHw+/2qqqqSx+OR3+9XSUmJ3G53j9v6fD55vV5JUk1Nje69997otj6fT5KUm5srv9+vQCCg3NzcofgVevfaa5Gvu3dHLgcnSXfeaV49AAAgYdh6BLC4uFhlZWUqKipSUVGR5s2b1+u2Xq9XZWVlKisrU0FBgWbOnBm9b+nSpcrLy5PL5VJpaak8Hs9QlB+blSvNrgAAACQI2wZAv9/fZdnj8URH+A7k8/m0ePHi6HJRUZF8Pl/0MfLy8tTQ0KCGhgatWrWq11HEIXXgcX8XXGBKGQAAIPHYNgB6vV5lZ2d3WZednR3dndtZbm6u7r333uhyIBCIbt/O7XZbI/i1O/PMrsvTpplTBwAASDi2DYDtIe5A9fX1Pa4v6nR93YceekiFhYXRwBcIBFRVVaWqqiotWLCg2+iiKd59t+M2VwMBAABxZOuTQHrSWzDsfH9VVZXWrVsXXdf55BGPx6NZs2aprq6u2/c2Nzerubk5uhwMBiVJhmHIaJ+2JV4uuECupUsjt9vaZHz5yx1TwySY9ucu7s8h+o2eWA89sR56Yi2x9IOe2TgAut3ubqN99fX1h9yNu2DBgm7H+fn9/uhZv+1nFPv9/m4ngyxevFiLFi3q9pihUEgpKSn9+0V6kdzSotROy/v371dbKBTXn2E1TU1NZpeAA9AT66En1kNPrKUv/Qgl+OdpX9g2ABYWFmpp+whZJ/n5+b1+T3l5uRYsWCCPxxMdKfT7/Zo5c6YaGhq6bHvg8YWStHDhQt18883R5WAwqJycHKWnpys9Pb2fv0kvXnpJhiSXJCMpScNfflnqtBs7kRiGoaamJqWlpcnVfgUUmIqeWA89sR56Yi2x9KOlpWWIqrIu2wbAA0fn/H6/8vPzu8zt53a7o9tVVVUpNzc3Gv6WL1+ukpISeTweLVmyJPo4Xq9XRUVFPY4kpqamKjU1tdt6l8sV/zf/eedJ99wTefxwWBoxouPycAlqUJ5HDAg9sR56Yj30xFr60g/6JbkMG+8I9/v9Wrp0qQoKClRTU6OFCxdGg1txcbEKCgpUVlYmv9+viRMndvlet9sdHfVrnyTa7Xarrq6uSyA8mGAwqMzMTDU2NiojIyOuv5sk6eyzpZde6lhesSJylZAEYxiGQqGQ0tPTeVNaBD2xHnpiPfTEWmLpx6B/ftuArQOg2Qb9BXT++dKqVZHbSUnSd78r/fKX8f85JuOPqPXQE+uhJ9ZDT6yFABgb204D4wijR3fcDoeleB9nCAAAHIkAaGWdjzdMSpI4awkAAMQBAdDKLrmk43Y43P3ycAAAAP1AALSyYbY9SRsAAFgYAbAfKioqNHXqVBUUFAzuD3ruuY7bLpd0332D+/MAAIAjEAD7Yf78+aqtrVVNTc3g/qAZMzpuG4ZUXR35BwAAMAAEQCubM0c66aSO5aQkafVq08oBAACJgQBodaec0nGbqWAAAEAcEACtrnPgc7mYCgYAAAwYAdDqjj6647ZhMAIIAAAGjABodQeO+DECCAAABogAaHUjRnRdZgQQAAAMEAHQ6vbt67r8zjvm1AEAABIGAbAfhmwiaKnrXIAScwECAIABIwD2w5BNBC1F5gL8whe6ruOKIAAAYAAIgHZw7LFmVwAAABIIAdAOOk8GLUnDh5tTBwAASAgEQDs48ESQqiqOAwQAAP1GALSDA08Ecbm4JjAAAOg3AqAdzJkjnX9+xzJXBAEAAANAALSLA4/7Yz5AAADQTwRAu9i5s+vyjh3m1AEAAGyPANgPQzoRdLujjx66nwUAABIaAbAfhnQi6HY33NB1+bXXOBMYAAD0CwHQLubM6T4fIFcEAQAA/UAAtJO0tK7L69ebUwcAALA1AqCdbdrEbmAAABAzAqCd9HQiCLuBAQBAjAiAdnLgiSAS08EAAICYEQDtZM6c7qOADQ3m1AIAAGyLAGg34XDX5W3bzKkDAADYFgGwH0yZCLrd+PFdl/fulW67bejrAAAAtuUyDMMwuwi7CgaDyszMVGNjozIyMobmh1ZXS3Pndl3ndtt6V7BhGAqFQkpPT5fL5TK7HIieWBE9sR56Yi2x9MOUz2+LYQTQbubMkQ58YQeD5tQCAABsiQBoRwcGwAOPCwQAADiIYWYXMBB+v19VVVXyeDzy+/0qKSmR2+2OedtYHscSRo6UGhu7rjvrLOmll8ypBwAA2IqtA2BxcbHWrVsnKRLi5s2bp8rKypi3jeVxLGH+fOlnP+u67pVXzKkFAADYjm13Afv9/i7LHo9HXq835m1jeRzLuPPO7us4lwcAAPSRbQOg1+tVdnZ2l3XZ2dny+XwxbRvL41hecbHZFQAAABuw7S7gQCDQ4/r6+vqYto3lcZqbm9Xc3BxdDn5+9q1hGDJjNp0DT3I3qqpsORLY/twxI5F10BProSfWQ0+sJZZ+0DMbB8De9BboYt22p/sWL16sRYsWdVsfCoWUkpLS558bD6lpaUpuauqxFrtq6uH3gbnoifXQE+uhJ9bSl37Y+bMyXmwbAN1ud7dRuvr6+h7P3j3YtrE8zsKFC3XzzTdHl4PBoHJycpSenq709PT+/zL9sW+fjKQkuSQZ6hgNHPI64sAwDDU1NSktLY3JVC2CnlgPPbEeemItsfSjpaVliKqyLtsGwMLCQi1durTb+vz8/Ji29Xg8fX6c1NRUpaamdlvvcrnMefMbhuRyRcOfy+ZD2qY9j+gVPbEeemI99MRa+tIP+mXjAOjxeLos+/1+5efnR0fufD6f3G63PB7PQbc9cKTvwMexPJuHPgAAMPRsGwAlqbKyUgsWLFBBQYFqamq6zN23ePFiFRQUqKys7JDbHuw+AACAROMyOBWm37iYdHxwQXXroSfWQ0+sh55YSyz94PPbxvMAAgAAoH8IgAAAAA5DAAQAAHAYAiAAAIDDEAD7oaKiQlOnTlVBQYHZpQAAAMSMANgP8+fPV21trWpqaswuBQAAIGYEQAAAAIchAAIAADgMARAAAMBhCIAAAAAOY+trAZut/Sp6wWDQ5Ersrf3yPS0tLVxOySLoifXQE+uhJ9YSSz/aP7edfDVcAuAA7N69W5KUk5NjciUAACBWu3fvVmZmptllmMJlODn+DlA4HNa2bdt03nnn6fXXX4/b4xYUFMR1ihmrP14wGFROTo4+/PDDuF2U2+q/s9Ufj55Y7/HoifUej55Y6/Fi6YdhGNq9e7fGjh2rpCRnHg3HCOAAJCUlady4cRo2bFjc3vySlJyc7KjHa5eRkRG3x7X672z1x2tHT6zzeO3oiXUerx09sc7jSX3vh1NH/to5M/bG2fz583k8i7H672z1xxsMVv+drf54g8Hqv7PVH28wWP13tvrjoe/YBQzTBYNBZWZmqrGxcVD+d47Y0RProSfWQ0+shX7EhhFAmC41NVU/+tGPlJqaanYp+Bw9sR56Yj30xFroR2wYAQQAAHAYRgABAAAchgAIAADgMARAAAAAh2EeQAy5BQsWaOHChXK73T3e7/P5JEm5ubny+/0KBALKzc0dwgqdIZbn2e/3q6qqSh6PR36/XyUlJb32D/0XS094nwwdr9crv98vj8cjSSosLOxxO94nQ6evPeF9chAGMITWrVtnSDIaGhp63aakpMSQZEgyCgsLD7ot+i+W5zk3Nzd6u66uzigqKhqCCp0nlp7wPhkaq1atMkpKSgzDiLz2PR5Pr9vyPhkasfSE90nvGAHEkOr8P7be5OXlqaGhQZL43/Mg6uvz7Pf7uyx7PB55vd7BLM2xYnnt8z4ZGqWlpVq3bp2kyGt/1apVPW7H+2To9LUnEu+Tg+EYQAyZqqoqFRUV9Wlbt9vNm3UI9OV59nq9ys7O7rIuOzs7umsF8RXLa5/3yeDy+/2qr6+X2+2Wz+dTIBDo9T+wvE+GRiw9acf7pGeMAGJIBAKBPr8BA4GAqqqqJEk1NTUqLS095Bscsevr8xwIBHr8/vr6+sEsz5Fiee3zPhl8Pp9P2dnZqqqqUmFhoZYtWyaPx9Pjf2R5nwyNWHoi8T45GAIghsTy5ctVUlLSp207Hzjt8Xg0a9Ys1dXVDWJ1zjTQ57m3Dzz0Xyw94X0y+Orr6+X3+1VYWCi3262SkhJlZWXJiOH6CbxP4ivWnvA+6R27gDHovF6vrrjiij5v3/lYmvaz6Q48vgYD19fn2e12dxvFaN8Fg/iK5bXP+2TweTyeLrsP27/2tFuX98nQiKUnEu+TgyEAYkgsX75cy5Yt07Jly+T3+7V48eIe37A+n08zZ87stv7AY2swMLE8z71Nr5Cfnx/3upwslp7wPhkasewq5H0yNGLpCe+Tg2MXMAbdgX8YS0tLuxyH4fP55Ha75fF45PF4tGTJkui2Xq9XRUVF/C86zg71PB/Yk878fr/y8/PpSZzF2hPeJ4PP4/EoPz8/egxz+ywG7fPI8T4ZerH2hPdJ71xGLAczAAMQCAS0bNkyLViwQCUlJSotLVVubq6Ki4tVUFCgsrIySZE3sNfrldvtVl1dXZc3MOLnYM/zgT3x+/1aunSpCgoKVFNTc9CJvNF/sfSE98nQCAQCWrBggfLy8rRu3TotWLAgGvZ4n5gjlp7wPukdARAAAMBhOAYQAADAYQiAAAAADkMABAAAcBgCIAAAgMMQAAEAAByGAAgAAOAwBEAAAACHIQACAAA4DAEQAADAYQiAAAAADkMABAAAcBgCIAAAgMMQAAEAAByGAAgAAOAwBEAAAACHIQACAAA4DAEQAADAYQiAAAAADkMABAAAcBgCIAAAgMMQAAEAAByGAAgAAOAwBEAAAACHIQACAAA4DAEQAADAYQiAAAAADkMABAAAcBgCIAAAgMMQAAEAAByGAAgAAOAwBEAAAACHIQACAAA4zP8DUuozW3r6u00AAAAASUVORK5CYII=' width=640.0/>\n",
       "            </div>\n",
       "        "
      ],
      "text/plain": [
       "Canvas(toolbar=Toolbar(toolitems=[('Home', 'Reset original view', 'home', 'home'), ('Back', 'Back to previous …"
      ]
     },
     "metadata": {},
     "output_type": "display_data"
    }
   ],
   "source": [
    "fig, ax = plt.subplots()\n",
    "manifold.plot(ax=ax, directions=\"ouos\")"
   ]
  },
  {
   "cell_type": "code",
   "execution_count": null,
   "metadata": {},
   "outputs": [],
   "source": [
    "manifold.onworking = manifold.outer\n",
    "manifold.find_clinics(n_points=4)"
   ]
  },
  {
   "cell_type": "code",
   "execution_count": null,
   "metadata": {},
   "outputs": [],
   "source": [
    "manifold.onworking = manifold.inner\n",
    "manifold.find_clinics(n_points=4)"
   ]
  },
  {
   "cell_type": "code",
   "execution_count": null,
   "metadata": {},
   "outputs": [],
   "source": [
    "manifold.onworking = manifold.outer\n",
    "marker = [\"o\", \"s\", \"p\", \"P\", \"*\", \"x\", \"D\", \"d\", \"^\", \"v\", \"<\", \">\"]\n",
    "confns = manifold.onworking[\"find_clinic_configuration\"]\n",
    "n_u = confns[\"n_u\"]+confns[\"n_s\"]+2\n",
    "\n",
    "for i, clinic in enumerate(manifold.onworking[\"clinics\"]):\n",
    "    eps_s_i, eps_u_i = clinic[1:3]\n",
    "    \n",
    "    hu_i = manifold.integrate(manifold.onworking[\"rfp_u\"] + eps_u_i * manifold.onworking[\"vector_u\"], n_u, 1)\n",
    "    ax_perturbed.scatter(hu_i[0,:], hu_i[1,:], marker=marker[i], color=\"royalblue\", edgecolor='cyan', zorder=10, label=f'$h_{i+1}$')"
   ]
  },
  {
   "cell_type": "code",
   "execution_count": null,
   "metadata": {},
   "outputs": [],
   "source": [
    "manifold.onworking = manifold.inner\n",
    "manifold.turnstile_area()"
   ]
  },
  {
   "cell_type": "code",
   "execution_count": null,
   "metadata": {},
   "outputs": [],
   "source": [
    "manifold.onworking = manifold.outer\n",
    "manifold.turnstile_area()"
   ]
  },
  {
   "cell_type": "code",
   "execution_count": null,
   "metadata": {},
   "outputs": [],
   "source": [
    "manifold.inner[\"areas\"]"
   ]
  },
  {
   "cell_type": "code",
   "execution_count": null,
   "metadata": {},
   "outputs": [],
   "source": [
    "manifold.outer[\"areas\"]"
   ]
  },
  {
   "cell_type": "code",
   "execution_count": null,
   "metadata": {},
   "outputs": [],
   "source": [
    "inner_areas = manifold.inner[\"areas\"][:,0]\n",
    "outer_areas = manifold.outer[\"areas\"][:,0]"
   ]
  },
  {
   "cell_type": "code",
   "execution_count": null,
   "metadata": {},
   "outputs": [],
   "source": [
    "inner_areas.sum(), outer_areas.sum()"
   ]
  },
  {
   "cell_type": "code",
   "execution_count": null,
   "metadata": {},
   "outputs": [],
   "source": [
    "import pandas as pd\n",
    "\n",
    "data = [\n",
    "    {\"type\": \"inner\", \"area\": inner_areas[inner_areas > 0].sum(), \"Error_by_diff\": manifold.inner[\"areas\"][:, 1][inner_areas > 0].sum(), \"Error_by_estim\": manifold.inner[\"areas\"][:, 2][inner_areas > 0].sum(), \"total_sum\": inner_areas.sum()},\n",
    "    {\"type\": \"outer\", \"area\": outer_areas[outer_areas > 0].sum(), \"Error_by_diff\": manifold.outer[\"areas\"][:, 1][outer_areas > 0].sum(), \"Error_by_estim\": manifold.outer[\"areas\"][:, 2][outer_areas > 0].sum(), \"total_sum\": outer_areas.sum()},\n",
    "]\n",
    "\n",
    "df = pd.DataFrame(data)"
   ]
  },
  {
   "cell_type": "code",
   "execution_count": null,
   "metadata": {},
   "outputs": [],
   "source": [
    "df"
   ]
  },
  {
   "cell_type": "code",
   "execution_count": null,
   "metadata": {},
   "outputs": [],
   "source": [
    "outer_areas[outer_areas > 0].sum()"
   ]
  },
  {
   "cell_type": "code",
   "execution_count": null,
   "metadata": {},
   "outputs": [],
   "source": [
    "inner_areas[inner_areas > 0].sum()"
   ]
  },
  {
   "cell_type": "code",
   "execution_count": null,
   "metadata": {},
   "outputs": [],
   "source": [
    "potential_integrations = manifold.inner[\"potential_integrations\"]\n",
    "fwd = np.min([len(pot[0]) for pot in potential_integrations])\n",
    "bwd = np.min([len(pot[1]) for pot in potential_integrations])\n",
    "inner_int = [pot[1][:fwd].sum() - pot[0][:bwd].sum() for pot in potential_integrations]\n",
    "print(inner_int)\n",
    "inner_int = np.mean(inner_int)"
   ]
  },
  {
   "cell_type": "code",
   "execution_count": null,
   "metadata": {},
   "outputs": [],
   "source": [
    "potential_integrations = manifold.outer[\"potential_integrations\"]\n",
    "fwd = np.min([len(pot[0]) for pot in potential_integrations])\n",
    "bwd = np.min([len(pot[1]) for pot in potential_integrations])\n",
    "outer_int = [pot[1][:fwd].sum() - pot[0][:bwd].sum() for pot in potential_integrations]\n",
    "print(outer_int)\n",
    "outer_int = np.mean(outer_int)"
   ]
  },
  {
   "cell_type": "code",
   "execution_count": null,
   "metadata": {},
   "outputs": [],
   "source": [
    "outer_int - inner_int"
   ]
  },
  {
   "cell_type": "code",
   "execution_count": null,
   "metadata": {},
   "outputs": [],
   "source": [
    "manifold.find_homoclinic(9.690951179619085e-07, 4.6186933097797397e-07)"
   ]
  },
  {
   "cell_type": "code",
   "execution_count": null,
   "metadata": {},
   "outputs": [],
   "source": [
    "manifold.find_clinics(n_points = 6)"
   ]
  },
  {
   "cell_type": "code",
   "execution_count": null,
   "metadata": {},
   "outputs": [],
   "source": [
    "fund = manifold.fundamental_segment"
   ]
  },
  {
   "cell_type": "code",
   "execution_count": null,
   "metadata": {},
   "outputs": [],
   "source": [
    "length = np.array([si[1]-si[0] for si in fund])"
   ]
  },
  {
   "cell_type": "code",
   "execution_count": null,
   "metadata": {},
   "outputs": [],
   "source": [
    "length*np.power(manifold.lambda_u, 28)"
   ]
  },
  {
   "cell_type": "code",
   "execution_count": null,
   "metadata": {},
   "outputs": [],
   "source": [
    "manifold.find_clinics(n_points=4)"
   ]
  },
  {
   "cell_type": "code",
   "execution_count": null,
   "metadata": {},
   "outputs": [],
   "source": [
    "marker = [\"X\", \"o\", \"s\", \"p\", \"P\", \"*\", \"x\", \"D\", \"d\", \"^\", \"v\", \"<\", \">\"]\n",
    "for i, clinic in enumerate(manifold.onworking[\"clinics\"]):\n",
    "    eps_s_i, eps_u_i = clinic[1:3]\n",
    "\n",
    "    n_u = 16\n",
    "    \n",
    "    # hs_i = manifold.integrate(manifold.rfp_s + eps_s_i * manifold.vector_s, n_s, -1)\n",
    "    hu_i = manifold.integrate(manifold.onworking[\"rfp_u\"] + eps_u_i * manifold.onworking[\"vector_u\"], n_u, 1)\n",
    "    # ax.scatter(hs_i[0,:], hs_i[1,:], marker=marker[i], color=\"royalblue\", edgecolor='cyan', zorder=10)\n",
    "    ax_perturbed.scatter(hu_i[0,:], hu_i[1,:], marker=marker[i], color=\"royalblue\", edgecolor='cyan', zorder=10, label=f'$h_{i+1}$')"
   ]
  },
  {
   "cell_type": "code",
   "execution_count": null,
   "metadata": {},
   "outputs": [],
   "source": [
    "rz = manifold.clinics[0][-1]\n",
    "\n",
    "cont = True\n",
    "while cont:\n",
    "    rz = manifold.integrate_single(rz, 1, -1, ret_jacobian=False)\n",
    "    if np.linalg.norm(rz - manifold.rfp_u) > length:\n",
    "        cont = False\n",
    "    length = np.linalg.norm(rz - manifold.rfp_u) "
   ]
  },
  {
   "cell_type": "code",
   "execution_count": null,
   "metadata": {},
   "outputs": [],
   "source": [
    "manifold.integrate_single(manifold.rfp_u + manifold.clinics[0][0]*manifold.vector_u, 11, -1, ret_jacobian=False)"
   ]
  },
  {
   "cell_type": "code",
   "execution_count": null,
   "metadata": {},
   "outputs": [],
   "source": [
    "manifold.rfp_u"
   ]
  },
  {
   "cell_type": "code",
   "execution_count": null,
   "metadata": {},
   "outputs": [],
   "source": [
    "fig_perturbed.set_size_inches(12, 12)\n",
    "# ax_perturbed.set_xlim(4.4, 6.8)\n",
    "# ax_perturbed.set_ylim(-0.3, 1.4)\n",
    "ax_perturbed.legend()\n",
    "display(fig_perturbed.canvas)"
   ]
  },
  {
   "cell_type": "code",
   "execution_count": null,
   "metadata": {},
   "outputs": [],
   "source": [
    "areas, potential_integrations, history = manifold.resonance_area()"
   ]
  },
  {
   "cell_type": "code",
   "execution_count": null,
   "metadata": {},
   "outputs": [],
   "source": [
    "fwd = np.min([len(pot[0]) for pot in potential_integrations])\n",
    "bwd = np.min([len(pot[1]) for pot in potential_integrations])"
   ]
  },
  {
   "cell_type": "code",
   "execution_count": null,
   "metadata": {},
   "outputs": [],
   "source": [
    "[pot[1][:fwd].sum() - pot[0][:bwd].sum() for pot in potential_integrations]"
   ]
  },
  {
   "cell_type": "code",
   "execution_count": null,
   "metadata": {},
   "outputs": [],
   "source": [
    "manifold.areas"
   ]
  },
  {
   "cell_type": "code",
   "execution_count": null,
   "metadata": {},
   "outputs": [],
   "source": [
    "areas = manifold.areas[:,0]"
   ]
  },
  {
   "cell_type": "code",
   "execution_count": null,
   "metadata": {},
   "outputs": [],
   "source": [
    "areas[areas > 0].sum()"
   ]
  },
  {
   "cell_type": "code",
   "execution_count": null,
   "metadata": {},
   "outputs": [],
   "source": [
    "areas.sum()"
   ]
  },
  {
   "cell_type": "code",
   "execution_count": null,
   "metadata": {},
   "outputs": [],
   "source": [
    "np.isclose(areas.sum(), 0, atol=1e-2*np.abs(areas).max())"
   ]
  },
  {
   "cell_type": "code",
   "execution_count": null,
   "metadata": {},
   "outputs": [],
   "source": [
    "eps_s_lb = manifold.find_epsilon(manifold.rfp_s, manifold.vector_s, direction=-1)\n",
    "eps_u_lb = manifold.find_epsilon(manifold.rfp_u, manifold.vector_u)"
   ]
  },
  {
   "cell_type": "code",
   "execution_count": null,
   "metadata": {},
   "outputs": [],
   "source": [
    "bounds = manifold.find_bounds(eps_s_lb, eps_u_lb)"
   ]
  },
  {
   "cell_type": "code",
   "execution_count": null,
   "metadata": {},
   "outputs": [],
   "source": [
    "n_s, n_u = manifold.find_N(eps_s_lb, eps_u_lb)\n",
    "print(n_s, n_u)"
   ]
  },
  {
   "cell_type": "code",
   "execution_count": null,
   "metadata": {},
   "outputs": [],
   "source": [
    "space_u = np.logspace(\n",
    "            np.log(bounds[1][0]) / np.log(manifold.lambda_u),\n",
    "            np.log(bounds[1][1]) / np.log(manifold.lambda_u),\n",
    "            20,\n",
    "            base=manifold.lambda_u,\n",
    "        )\n",
    "\n",
    "space_s = np.logspace(\n",
    "            np.log(bounds[0][0]) / np.log(manifold.lambda_s),\n",
    "            np.log(bounds[0][1]) / np.log(manifold.lambda_s),\n",
    "            20,\n",
    "            base=manifold.lambda_s,\n",
    "        )"
   ]
  },
  {
   "cell_type": "code",
   "execution_count": null,
   "metadata": {},
   "outputs": [],
   "source": [
    "n_s, n_u = 16, 16\n",
    "def evolution(self, eps):\n",
    "    print(eps)\n",
    "    eps_s, eps_u = eps\n",
    "    r_s = self.rfp_s + eps_s * self.vector_s\n",
    "    r_u = self.rfp_u + eps_u * self.vector_u\n",
    "\n",
    "    try:\n",
    "        r_s_evolved = self.integrate_single(r_s, n_s, -1, ret_jacobian = False)\n",
    "    except Exception as e:\n",
    "        print(f\"Error in stable manifold integration : {e}\")\n",
    "\n",
    "    try:\n",
    "        r_u_evolved = self.integrate_single(r_u, n_u, 1, ret_jacobian = False)\n",
    "    except Exception as e:\n",
    "        print(f\"Error in unstable manifold integration : {e}\")\n",
    "\n",
    "    return r_s_evolved - r_u_evolved\n",
    "\n",
    "es, eu = np.meshgrid(space_s, space_u)\n",
    "E = np.array([evolution(manifold, [S, U]) for S, U in zip(es.flatten(), eu.flatten())]).reshape(es.shape + (2,))"
   ]
  },
  {
   "cell_type": "code",
   "execution_count": null,
   "metadata": {},
   "outputs": [],
   "source": [
    "N = np.linalg.norm(E, axis=2)"
   ]
  },
  {
   "cell_type": "code",
   "execution_count": null,
   "metadata": {},
   "outputs": [],
   "source": [
    "from mpl_toolkits.mplot3d import Axes3D\n",
    "fig = plt.figure()\n",
    "ax = fig.add_subplot()\n",
    "contour = ax.contourf(es, eu, N)\n",
    "plt.colorbar(contour)\n",
    "\n",
    "# ax = fig.add_subplot(111, projection='3d')\n",
    "# ax.plot_surface(es, eu, N, cmap='viridis')"
   ]
  },
  {
   "cell_type": "code",
   "execution_count": null,
   "metadata": {},
   "outputs": [],
   "source": [
    "n_s = 17\n",
    "n_u = 16\n",
    "\n",
    "def iteration(eps_u):\n",
    "    r_s_E, intA = manifold.integrate_single(manifold.rfp_u + eps_u * manifold.vector_u, n_s+n_u-1, 1, ret_jacobian=False, integrate_A=True)\n",
    "    ax.scatter(*r_s_E, s=15, edgecolor='black', zorder=10)\n",
    "    # r_dir = r_s_E - manifold.rfp_s\n",
    "    # r_dir = r_dir / np.linalg.norm(r_dir)\n",
    "    return intA"
   ]
  },
  {
   "cell_type": "code",
   "execution_count": null,
   "metadata": {},
   "outputs": [],
   "source": [
    "space = np.linspace(bounds[1][0], bounds[1][1], 100)"
   ]
  },
  {
   "cell_type": "code",
   "execution_count": null,
   "metadata": {},
   "outputs": [],
   "source": [
    "arr = []\n",
    "for eps in space:\n",
    "    arr.append(iteration(eps))"
   ]
  },
  {
   "cell_type": "code",
   "execution_count": null,
   "metadata": {},
   "outputs": [],
   "source": [
    "fig, ax = plt.subplots()\n",
    "ax.plot(space, arr)"
   ]
  },
  {
   "cell_type": "code",
   "execution_count": null,
   "metadata": {},
   "outputs": [],
   "source": [
    "# Set up the manifold\n",
    "iparams = dict()\n",
    "iparams[\"rtol\"] = 1e-13\n",
    "manifold = Manifold(fixedpoint, pyoproblem, integrator_params=iparams)"
   ]
  },
  {
   "cell_type": "code",
   "execution_count": null,
   "metadata": {},
   "outputs": [],
   "source": [
    "manifold.choose(0, 1, directions=[\"s\",\"u\"], sngs=[1, -1])"
   ]
  },
  {
   "cell_type": "code",
   "execution_count": null,
   "metadata": {},
   "outputs": [],
   "source": [
    "manifold.compute(epsilon = 1e-6, neps=100, nintersect=8)"
   ]
  },
  {
   "cell_type": "code",
   "execution_count": null,
   "metadata": {},
   "outputs": [],
   "source": [
    "manfiold."
   ]
  }
 ],
 "metadata": {
  "kernelspec": {
   "display_name": "simsopt",
   "language": "python",
   "name": "python3"
  },
  "language_info": {
   "codemirror_mode": {
    "name": "ipython",
    "version": 3
   },
   "file_extension": ".py",
   "mimetype": "text/x-python",
   "name": "python",
   "nbconvert_exporter": "python",
   "pygments_lexer": "ipython3",
   "version": "3.10.13"
  }
 },
 "nbformat": 4,
 "nbformat_minor": 2
}
