{
 "cells": [
  {
   "cell_type": "code",
   "execution_count": 1,
   "metadata": {},
   "outputs": [],
   "source": [
    "import numpy as np\n",
    "from mayavi import mlab\n",
    "import matplotlib.pyplot as plt\n",
    "import pickle\n",
    "\n",
    "import sys\n",
    "import os\n",
    "sys.path.append('..')\n",
    "\n",
    "import horus as ho"
   ]
  },
  {
   "cell_type": "code",
   "execution_count": 2,
   "metadata": {},
   "outputs": [],
   "source": [
    "bs, bsh, (nfp, coils, ma, sc_fieldline) = ho.ncsx()"
   ]
  },
  {
   "cell_type": "code",
   "execution_count": null,
   "metadata": {},
   "outputs": [],
   "source": [
    "for coil in coils:\n",
    "    coil.plot(engine=\"mayavi\", show=False)\n",
    "\n",
    "mlab.show()"
   ]
  },
  {
   "cell_type": "markdown",
   "metadata": {},
   "source": [
    "#### Poincare plot"
   ]
  },
  {
   "cell_type": "code",
   "execution_count": null,
   "metadata": {},
   "outputs": [],
   "source": [
    "nfieldlines = 30\n",
    "phis = [0]    #[(i / 4) * (2 * np.pi / nfp) for i in range(4)]\n",
    "Rs = np.linspace(ma.gamma()[0, 0], ma.gamma()[0, 0] + 0.14, nfieldlines)\n",
    "Zs = [ma.gamma()[0, 2] for i in range(nfieldlines)]\n",
    "RZs = np.array([[r, z] for r, z in zip(Rs, Zs)])"
   ]
  },
  {
   "cell_type": "code",
   "execution_count": null,
   "metadata": {},
   "outputs": [],
   "source": [
    "fig, axs = ho.poincare_simsopt(bsh, RZs, phis, sc_fieldline, tol = 1e-5)"
   ]
  },
  {
   "cell_type": "code",
   "execution_count": null,
   "metadata": {},
   "outputs": [],
   "source": [
    "for col in axs[0,0].collections:\n",
    "    col.set_color('black')\n",
    "    col.set_sizes([0.5])"
   ]
  },
  {
   "cell_type": "markdown",
   "metadata": {},
   "source": [
    "#### Finding fix-point"
   ]
  },
  {
   "cell_type": "code",
   "execution_count": 3,
   "metadata": {},
   "outputs": [],
   "source": [
    "fig = pickle.load(open(\"../output/NCSX_poincare.pkl\", \"rb\"))\n",
    "ax = fig.get_axes()[0]\n",
    "plt.show()"
   ]
  },
  {
   "cell_type": "code",
   "execution_count": 4,
   "metadata": {},
   "outputs": [
    {
     "data": {
      "image/png": "[encoded data removed]",
      "text/plain": [
       "<Figure size 800x500 with 1 Axes>"
      ]
     },
     "execution_count": 4,
     "metadata": {},
     "output_type": "execute_result"
    }
   ],
   "source": [
    "guess = [1.527, 0.]\n",
    "ax.scatter(guess[0], guess[1], c='r', s=10)\n",
    "fig"
   ]
  },
  {
   "cell_type": "code",
   "execution_count": 5,
   "metadata": {},
   "outputs": [],
   "source": [
    "from pyoculus.solvers import FixedPoint\n",
    "ps = ho.SimsoptBfieldProblem(ma.gamma()[0, 0], 0, 3, bs)"
   ]
  },
  {
   "cell_type": "code",
   "execution_count": null,
   "metadata": {},
   "outputs": [],
   "source": [
    "gamma = ho.trace(bs, 40*2*np.pi, [5.72, 0, 0.68], tol=1e-9)"
   ]
  },
  {
   "cell_type": "code",
   "execution_count": null,
   "metadata": {},
   "outputs": [],
   "source": [
    "from mayavi import mlab\n",
    "for coil in coils:\n",
    "    coil.plot(engine=\"mayavi\", show=False)\n",
    "\n",
    "mlab.plot3d(gamma[0, :], gamma[1, :], gamma[2, :], tube_radius=0.01, color=(0, 0, 1))\n",
    "\n",
    "mlab.show()"
   ]
  },
  {
   "cell_type": "code",
   "execution_count": 6,
   "metadata": {},
   "outputs": [
    {
     "data": {
      "text/plain": [
       "<pyoculus.solvers.base_solver.BaseSolver.OutputData at 0x27484ff51e0>"
      ]
     },
     "execution_count": 6,
     "metadata": {},
     "output_type": "execute_result"
    }
   ],
   "source": [
    "# set up the integrator\n",
    "iparams = dict()\n",
    "iparams[\"rtol\"] = 1e-12\n",
    "\n",
    "pparams = dict()\n",
    "pparams[\"nrestart\"] = 0\n",
    "pparams[\"tol\"] = 1e-10\n",
    "pparams['niter'] = 100\n",
    "\n",
    "fp = FixedPoint(ps, pparams, integrator_params=iparams)\n",
    "fp.compute(guess=guess, pp=3, qq=7, sbegin=1.4, send=2.0)"
   ]
  },
  {
   "cell_type": "code",
   "execution_count": 7,
   "metadata": {},
   "outputs": [],
   "source": [
    "results = [list(p) for p in zip(fp.x, fp.y, fp.z)]"
   ]
  },
  {
   "cell_type": "code",
   "execution_count": 8,
   "metadata": {},
   "outputs": [
    {
     "data": {
      "text/plain": [
       "[[1.5270055748695273, 0.0, 2.736991636379275e-05],\n",
       " [1.3628371680136853, 0.0, -0.45230962008705516],\n",
       " [1.4409463083273089, 0.0, -0.4945725332171534],\n",
       " [1.6642082327031638, 0.0, -0.21189466312613692],\n",
       " [1.6642082326959111, 0.0, 0.2118946631464027],\n",
       " [1.4409463083155352, 0.0, 0.49457253322364503],\n",
       " [1.3628371680187426, 0.0, 0.4523096200769564],\n",
       " [1.5270055748695357, 0.0, -2.736995129861146e-05]]"
      ]
     },
     "execution_count": 8,
     "metadata": {},
     "output_type": "execute_result"
    }
   ],
   "source": [
    "results"
   ]
  },
  {
   "cell_type": "code",
   "execution_count": null,
   "metadata": {},
   "outputs": [],
   "source": [
    "for rr in results:\n",
    "    ax.scatter(rr[0], rr[2], marker=\"X\", edgecolors=\"black\", linewidths=1)\n",
    "fig"
   ]
  },
  {
   "cell_type": "markdown",
   "metadata": {},
   "source": [
    "#### Tracing stable and unstable manifolds"
   ]
  },
  {
   "cell_type": "code",
   "execution_count": null,
   "metadata": {},
   "outputs": [],
   "source": [
    "from pyoculus.solvers import Manifold"
   ]
  },
  {
   "cell_type": "code",
   "execution_count": null,
   "metadata": {},
   "outputs": [],
   "source": [
    "manif =  Manifold(fp, ps)"
   ]
  },
  {
   "cell_type": "code",
   "execution_count": null,
   "metadata": {},
   "outputs": [],
   "source": [
    "manif.compute()"
   ]
  },
  {
   "cell_type": "code",
   "execution_count": null,
   "metadata": {},
   "outputs": [],
   "source": [
    "fig = pickle.load(open(\"../output/poincare_figure_ncsx.pickle\", \"rb\"))\n",
    "ax = fig.get_axes()[0]"
   ]
  },
  {
   "cell_type": "code",
   "execution_count": null,
   "metadata": {},
   "outputs": [],
   "source": [
    "for yy in out.y.T:\n",
    "    yy = yy.reshape(-1, 2)\n",
    "    ax.scatter(yy[:, 0], yy[:, 1], marker=\".\", s=1, c=\"blue\")\n",
    "\n",
    "# plt.xlim(1.2, 1.8)\n",
    "# plt.ylim(-0.7, 0.7)"
   ]
  },
  {
   "cell_type": "code",
   "execution_count": null,
   "metadata": {},
   "outputs": [],
   "source": [
    "# ax.set_xlim(1.2, 1.8)\n",
    "# ax.set_ylim(-0.7, 0.7)\n",
    "# ax.set_xlim(1.2, 1.8)\n",
    "# ax.set_ylim(-0.1, 0.7)\n",
    "\n",
    "fig"
   ]
  },
  {
   "cell_type": "markdown",
   "metadata": {},
   "source": [
    "#### Finding fix-point"
   ]
  },
  {
   "cell_type": "code",
   "execution_count": null,
   "metadata": {},
   "outputs": [],
   "source": [
    "fig = pickle.load(open(\"../output/poincare_figure_GYM000+1750_black.pickle\", \"rb\"))\n",
    "ax = fig.get_axes()[0]"
   ]
  },
  {
   "cell_type": "code",
   "execution_count": null,
   "metadata": {},
   "outputs": [],
   "source": [
    "guess = [5.72, 0.68]\n",
    "ax.scatter(guess[0], guess[1], c='r', s=10)\n",
    "fig"
   ]
  },
  {
   "cell_type": "code",
   "execution_count": null,
   "metadata": {},
   "outputs": [],
   "source": [
    "from pyoculus.solvers import FixedPoint\n",
    "ps = ho.SimsoptBfieldProblem(ma.gamma()[0, 0], 0, 5, bs)"
   ]
  },
  {
   "cell_type": "code",
   "execution_count": null,
   "metadata": {},
   "outputs": [],
   "source": [
    "gamma = ho.trace(bs, 40*2*np.pi, [5.72, 0, 0.68], tol=1e-9)"
   ]
  },
  {
   "cell_type": "code",
   "execution_count": null,
   "metadata": {},
   "outputs": [],
   "source": [
    "from mayavi import mlab\n",
    "for coil in coils:\n",
    "    coil.plot(engine=\"mayavi\", show=False)\n",
    "\n",
    "mlab.plot3d(gamma[0, :], gamma[1, :], gamma[2, :], tube_radius=0.01, color=(0, 0, 1))\n",
    "\n",
    "mlab.show()"
   ]
  },
  {
   "cell_type": "code",
   "execution_count": null,
   "metadata": {},
   "outputs": [],
   "source": [
    "# set up the integrator\n",
    "iparams = dict()\n",
    "iparams[\"rtol\"] = 1e-7\n",
    "\n",
    "pparams = dict()\n",
    "pparams[\"nrestart\"] = 0\n",
    "pparams[\"tol\"] = 1e-7\n",
    "pparams['niter'] = 100\n",
    "\n",
    "fp = FixedPoint(ps, pparams, integrator_params=iparams)\n",
    "fp.compute(guess=guess, pp=5, qq=4, sbegin=5.2, send=6.2, tol = 1e-8)"
   ]
  },
  {
   "cell_type": "code",
   "execution_count": null,
   "metadata": {},
   "outputs": [],
   "source": [
    "results = [list(p) for p in zip(fp.x, fp.y, fp.z)]"
   ]
  },
  {
   "cell_type": "code",
   "execution_count": null,
   "metadata": {},
   "outputs": [],
   "source": [
    "results"
   ]
  },
  {
   "cell_type": "code",
   "execution_count": null,
   "metadata": {},
   "outputs": [],
   "source": [
    "for rr in results:\n",
    "    ax.scatter(rr[0], rr[2], marker=\"X\", edgecolors=\"black\", linewidths=1)\n",
    "fig"
   ]
  },
  {
   "cell_type": "code",
   "execution_count": null,
   "metadata": {},
   "outputs": [],
   "source": [
    "rr = np.array(record)\n",
    "ax.plot(rr[:, 0], rr[:, 1], \"o\", markersize=1)\n",
    "fig"
   ]
  },
  {
   "cell_type": "code",
   "execution_count": null,
   "metadata": {},
   "outputs": [],
   "source": [
    "for rr in record:\n",
    "    plt.scatter(rr[0], rr[2], marker=\"x\")"
   ]
  },
  {
   "cell_type": "code",
   "execution_count": null,
   "metadata": {},
   "outputs": [],
   "source": [
    "fig = pickle.load(open(\"../output/poincare_figure_GYM000+1750_black.pickle\", \"rb\"))"
   ]
  },
  {
   "cell_type": "code",
   "execution_count": null,
   "metadata": {},
   "outputs": [],
   "source": [
    "ax = fig.get_axes()[0]\n",
    "colors = ['red', 'green', 'blue', 'yellow', 'purple', 'orange', 'pink', 'cyan', 'magenta', 'black']\n",
    "\n",
    "for i, p in enumerate(fieldlines_phi_hits):\n",
    "    for rr in p:\n",
    "        ax.scatter(rr[2], rr[4], marker=\"X\", color=colors[i % len(colors)], linewidths=1)"
   ]
  },
  {
   "cell_type": "code",
   "execution_count": null,
   "metadata": {},
   "outputs": [],
   "source": [
    "fig"
   ]
  },
  {
   "cell_type": "code",
   "execution_count": null,
   "metadata": {},
   "outputs": [],
   "source": [
    "for rr in r:\n",
    "    plt.scatter(rr[0], rr[1], marker=\"X\", edgecolors=\"black\", linewidths=1)\n"
   ]
  },
  {
   "cell_type": "code",
   "execution_count": null,
   "metadata": {},
   "outputs": [],
   "source": [
    "ho.poincare(bs, np.atleast_2d(r[1]), [0], sc_fieldline, plot = False, tmax = 22, tol = 1e-10)"
   ]
  },
  {
   "cell_type": "code",
   "execution_count": null,
   "metadata": {},
   "outputs": [],
   "source": [
    "r.append(np.array([5.95395959e+00, 5.85198574e-01]))"
   ]
  },
  {
   "cell_type": "code",
   "execution_count": null,
   "metadata": {},
   "outputs": [],
   "source": [
    "for rr in r:\n",
    "    plt.scatter(rr[0], rr[1], marker=\"X\", edgecolors=\"black\", linewidths=1)"
   ]
  }
 ],
 "metadata": {
  "kernelspec": {
   "display_name": "simsopt",
   "language": "python",
   "name": "python3"
  },
  "language_info": {
   "codemirror_mode": {
    "name": "ipython",
    "version": 3
   },
   "file_extension": ".py",
   "mimetype": "text/x-python",
   "name": "python",
   "nbconvert_exporter": "python",
   "pygments_lexer": "ipython3",
   "version": "3.10.13"
  }
 },
 "nbformat": 4,
 "nbformat_minor": 2
}
