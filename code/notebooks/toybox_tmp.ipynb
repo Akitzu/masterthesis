{
 "cells": [
  {
   "cell_type": "markdown",
   "metadata": {},
   "source": [
    "## with ivp"
   ]
  },
  {
   "cell_type": "code",
   "execution_count": null,
   "metadata": {},
   "outputs": [],
   "source": [
    "from scipy.integrate import solve_ivp\n",
    "\n",
    "def integrate_ivp(Bfield_2D, RZstart, phis, **kwargs):\n",
    "    options = {\n",
    "        \"rtol\": 1e-7,\n",
    "        \"atol\": 1e-9,\n",
    "        \"nintersect\": 100,\n",
    "        \"method\": \"DOP853\",\n",
    "        \"direction\": 1,\n",
    "        \"m\": 1,\n",
    "        \"nfp\": 1,\n",
    "    }\n",
    "    options.update(kwargs)\n",
    "\n",
    "    assert RZstart.shape[1] == 2, \"RZstart must be a 2D array with shape (n, 2)\"\n",
    "    assert len(phis) > 0, \"phis must be a list of floats with at least one element\"\n",
    "    assert isinstance(options[\"nintersect\"], int) and options[\"nintersect\"] > 0, \"nintersect must be a positive integer\"\n",
    "    assert options[\"direction\"] in [-1, \n",
    "                                    1], \"direction must be either -1 or 1\"\n",
    "    \n",
    "    # setup the phis of the poincare sections\n",
    "    phis = np.unique(np.mod(phis, 2 * np.pi / options['nfp']))\n",
    "    phis.sort()\n",
    "\n",
    "    # setup the evaluation points for those sections\n",
    "    phi_evals = np.array(\n",
    "        [\n",
    "            phis + options['m'] * 2 * np.pi * i / options['nfp']\n",
    "            for i in range(options[\"nintersect\"] + 1)\n",
    "        ]\n",
    "    )\n",
    "\n",
    "    out = solve_ivp(\n",
    "        Bfield_2D,\n",
    "        [0, phi_evals[-1, -1]],\n",
    "        RZstart.flatten(),\n",
    "        t_eval=phi_evals.flatten(),\n",
    "        method=options[\"method\"],\n",
    "        atol=options[\"atol\"],\n",
    "        rtol=options[\"rtol\"],\n",
    "    )\n",
    "\n",
    "    return out\n",
    "\n",
    "def Bfield_2D(t, rzs, direction = 1):\n",
    "    print(f\"{t:.2f}, {rzs}\")\n",
    "    rzs = rzs.reshape((-1, 2))\n",
    "    phis = direction*(t % (2 * np.pi)) * np.ones(rzs.shape[0])\n",
    "    Bs = np.array([ps.B([rzs[i, 0], phis[i], rzs[i, 1]]) for i in range(len(rzs))])\n",
    "    \n",
    "    is_perturbed = (rzs[:, 0] < 1e-22) + (Bs[:,1] < 1e-24)\n",
    "    Bs[is_perturbed, :] = np.array([0, 1, 0])\n",
    "    \n",
    "    return np.array([Bs[:,0]/Bs[:,1], Bs[:,2]/Bs[:,1]]).T.flatten()"
   ]
  },
  {
   "cell_type": "code",
   "execution_count": null,
   "metadata": {},
   "outputs": [],
   "source": [
    "nfieldlines = 20\n",
    "Rs = np.linspace(3, 3, nfieldlines)\n",
    "Zs = np.linspace(2, -2, nfieldlines)\n",
    "RZs = np.array([[r, z] for r, z in zip(Rs, Zs)])"
   ]
  },
  {
   "cell_type": "code",
   "execution_count": null,
   "metadata": {},
   "outputs": [],
   "source": [
    "out = integrate_ivp(Bfield_2D, RZs, [0])"
   ]
  },
  {
   "cell_type": "code",
   "execution_count": null,
   "metadata": {},
   "outputs": [],
   "source": [
    "ys = out.y.reshape(nfieldlines, 2, -1)\n",
    "for yy in ys:\n",
    "    plt.scatter(yy[0, :], yy[1, :], s=10, marker=\".\")\n",
    "# plt.scatter(ps._R0, -2, color=\"r\", s=10)"
   ]
  }
 ],
 "metadata": {
  "language_info": {
   "name": "python"
  }
 },
 "nbformat": 4,
 "nbformat_minor": 2
}
