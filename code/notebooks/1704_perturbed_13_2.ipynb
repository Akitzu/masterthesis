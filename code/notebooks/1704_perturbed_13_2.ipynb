{
 "cells": [
  {
   "cell_type": "code",
   "execution_count": 1,
   "metadata": {},
   "outputs": [],
   "source": [
    "from pyoculus.problems import AnalyticCylindricalBfield\n",
    "from pyoculus.solvers import PoincarePlot, FixedPoint, Manifold\n",
    "import matplotlib.pyplot as plt\n",
    "import pickle\n",
    "import numpy as np"
   ]
  },
  {
   "cell_type": "code",
   "execution_count": 2,
   "metadata": {},
   "outputs": [
    {
     "name": "stdout",
     "output_type": "stream",
     "text": [
      "\n",
      "Creating the pyoculus problem object\n",
      "\n",
      "0 - dr : 0.010422282084041626\n",
      "1 - RZ : [ 6.41409394 -0.69368043]\n",
      "1 - dr : 6.293042617861982e-06\n",
      "2 - RZ : [ 6.41409781 -0.69367863]\n",
      "2 - dr : 9.774877130901314e-12\n",
      "0 - dr : 9.774877130901314e-12\n"
     ]
    }
   ],
   "source": [
    "### Creating the pyoculus problem object\n",
    "print(\"\\nCreating the pyoculus problem object\\n\")\n",
    "\n",
    "separatrix = {\"type\": \"circular-current-loop\", \"amplitude\": -10, \"R\": 6, \"Z\": -5.5}\n",
    "maxwellboltzmann = {\"m\": 13, \"n\": -2, \"d\": np.sqrt(2), \"type\": \"maxwell-boltzmann\", \"amplitude\": 1e-7}\n",
    "\n",
    "# Creating the pyoculus problem object, adding the perturbation here use the R, Z provided as center point\n",
    "pyoproblem = AnalyticCylindricalBfield.without_axis(\n",
    "    6,\n",
    "    0,\n",
    "    0.91,\n",
    "    0.6,\n",
    "    perturbations_args=[separatrix],\n",
    "    Rbegin=1,\n",
    "    Rend=8,\n",
    "    niter=800,\n",
    "    guess=[6.41, -0.7],\n",
    "    tol=1e-9,\n",
    ")\n",
    "\n",
    "# # Adding perturbation after the object is created uses the found axis as center point\n",
    "pyoproblem.add_perturbation(maxwellboltzmann)"
   ]
  },
  {
   "cell_type": "code",
   "execution_count": 3,
   "metadata": {},
   "outputs": [
    {
     "name": "stdout",
     "output_type": "stream",
     "text": [
      "\n",
      "Finding the X-point\n",
      "\n",
      "Initial guess: [6.21560891, -4.46981856]\n",
      "0 - [DeltaR, DeltaZ] : [1.64340621e-08 2.01978674e-08] - dtheta : 4.0578254090206656e-09\n",
      "0 - [StepR, StepZ]: [-3.75411258e-09  4.86722129e-09]\n",
      "1 - RZ : [ 6.21560891 -4.46981856] - rhotheta : [ 3.78135301 -1.62331197]\n",
      "1 - [DeltaR, DeltaZ] : [-8.88178420e-14 -6.75015599e-14] - dtheta : 1.9024781749976682e-12\n"
     ]
    }
   ],
   "source": [
    "### Finding the X-point\n",
    "print(\"\\nFinding the X-point\\n\")\n",
    "\n",
    "# set up the integrator for the FixedPoint\n",
    "iparams = dict()\n",
    "iparams[\"rtol\"] = 1e-12\n",
    "\n",
    "pparams = dict()\n",
    "pparams[\"nrestart\"] = 0\n",
    "pparams[\"niter\"] = 300\n",
    "\n",
    "# set up the FixedPoint object\n",
    "fixedpoint = FixedPoint(pyoproblem, pparams, integrator_params=iparams)\n",
    "\n",
    "# find the X-point\n",
    "# guess = [6.18, -4.49]\n",
    "guess = [6.21560891, -4.46981856]\n",
    "print(f\"Initial guess: {guess}\")\n",
    "\n",
    "fixedpoint.compute(guess=guess, pp=0, qq=1, sbegin=4, send=9, tol=1e-10)\n",
    "\n",
    "if fixedpoint.successful:\n",
    "    results = [list(p) for p in zip(fixedpoint.x, fixedpoint.y, fixedpoint.z)]\n",
    "else:\n",
    "    print(\"FixedPoint did not converge - don't continue\")"
   ]
  },
  {
   "cell_type": "code",
   "execution_count": null,
   "metadata": {},
   "outputs": [],
   "source": [
    "fig = pickle.load(open(\"../../runs/toybox-tok-1704/perturbed-13-2/poincare_04181732.pkl\", \"rb\"))\n",
    "ax = fig.gca()\n",
    "ax.set_xlim(3.5, 9.2)"
   ]
  },
  {
   "cell_type": "code",
   "execution_count": null,
   "metadata": {},
   "outputs": [],
   "source": [
    "iparams = dict()\n",
    "iparams[\"rtol\"] = 1e-12\n",
    "\n",
    "manifold = Manifold(fixedpoint, pyoproblem, integrator_params=iparams)"
   ]
  },
  {
   "cell_type": "code",
   "execution_count": null,
   "metadata": {},
   "outputs": [],
   "source": [
    "manifold.choose()"
   ]
  },
  {
   "cell_type": "code",
   "execution_count": null,
   "metadata": {},
   "outputs": [],
   "source": [
    "hs = manifold.integrate(manifold.rfp_s + 1e-6 * manifold.vector_s, 7, -1)\n",
    "hu = manifold.integrate(manifold.rfp_u + 1e-6 * manifold.vector_u, 6, 1)\n",
    "\n",
    "ax.scatter(hs[0,:], hs[1,:], marker=\"x\", color=\"purple\", zorder=10)\n",
    "ax.scatter(hu[0,:], hu[1,:], marker=\"+\", color=\"blue\", zorder=10)\n",
    "\n",
    "fig"
   ]
  },
  {
   "cell_type": "code",
   "execution_count": null,
   "metadata": {},
   "outputs": [],
   "source": [
    "from scipy.optimize import fsolve\n",
    "\n",
    "def find_homoclinic(self, guess_eps_s = 1e-3, guess_eps_u = 1e-3, **kwargs):\n",
    "        defaults = {\"maxiter\": 100, \"n_s\": None, \"n_u\": None, \"N_return\": None}\n",
    "        defaults.update({key: value for key, value in kwargs.items() if key in defaults})\n",
    "\n",
    "        if defaults['n_s'] is None or defaults['n_u'] is None:\n",
    "            n_s, n_u = self.find_N(guess_eps_s, guess_eps_u)\n",
    "            print(f\"Found [n_s, n_u] : [{n_s}, {n_u}]\")\n",
    "        else:\n",
    "            n_s, n_u = defaults['n_s'], defaults['n_u']\n",
    "\n",
    "        if defaults['N_return'] is None:\n",
    "            defaults['N_return'] = max(n_s, n_u)\n",
    "\n",
    "        def evolution(eps, n_s, n_u):\n",
    "            eps_s, eps_u = eps\n",
    "            r_s = self.rfp_s + eps_s * self.vector_s\n",
    "            r_u = self.rfp_u + eps_u * self.vector_u\n",
    "\n",
    "            r_s_evolved, jac_s = self.integrate_single(r_s, n_s, -1)\n",
    "            r_u_evolved, jac_u = self.integrate_single(r_u, n_u, 1)\n",
    "\n",
    "            return r_s_evolved - r_u_evolved, np.array([jac_s @ self.vector_s, -jac_u @ self.vector_u])\n",
    "        \n",
    "        def residual(eps, n_s, n_u):\n",
    "            return evolution(eps, n_s, n_u)[0]\n",
    "\n",
    "        def jacobian(eps, n_s, n_u):\n",
    "            return evolution(eps, n_s, n_u)[1]\n",
    "        \n",
    "        eps_s_1, eps_u_1 = fsolve(residual, [guess_eps_s, guess_eps_u], args=(n_s, n_u), fprime=jacobian)\n",
    "        print(f\"Eps 1: {eps_s_1}, {eps_u_1}\")\n",
    "        if eps_s_1 < 0 or eps_u_1 < 0:\n",
    "            raise ValueError(\"Homoclinic point epsilon cannot be negative.\")\n",
    "\n",
    "        return eps_s_1, eps_u_1"
   ]
  },
  {
   "cell_type": "code",
   "execution_count": null,
   "metadata": {},
   "outputs": [],
   "source": [
    "eps_s_1, eps_u_1 = find_homoclinic(manifold, 1e-6, 1e-6, n_s = 7, n_u = 6)"
   ]
  },
  {
   "cell_type": "code",
   "execution_count": null,
   "metadata": {},
   "outputs": [],
   "source": [
    "guess_2 = [eps_s_1*np.power(manifold.lambda_s, 1/4), eps_u_1*np.power(manifold.lambda_u, 1/4)]     \n",
    "print(f\"Initial guess: {guess_2}\")   "
   ]
  },
  {
   "cell_type": "code",
   "execution_count": null,
   "metadata": {},
   "outputs": [],
   "source": [
    "hs = manifold.integrate(manifold.rfp_s + guess_2[0] * manifold.vector_s, 7, -1)\n",
    "hu = manifold.integrate(manifold.rfp_u + guess_2[1] * manifold.vector_u, 6, 1)\n",
    "\n",
    "ax.scatter(hs[0,:], hs[1,:], marker=\"x\", color=\"purple\", zorder=10)\n",
    "ax.scatter(hu[0,:], hu[1,:], marker=\"+\", color=\"blue\", zorder=10)\n",
    "\n",
    "fig"
   ]
  },
  {
   "cell_type": "code",
   "execution_count": null,
   "metadata": {},
   "outputs": [],
   "source": [
    "eps_s_2, eps_u_2 = find_homoclinic(manifold, guess_2[0], guess_2[1], n_s = 7, n_u = 6)"
   ]
  },
  {
   "cell_type": "code",
   "execution_count": null,
   "metadata": {},
   "outputs": [],
   "source": [
    "guess_3 = [eps_s_1*np.power(manifold.lambda_s, 2/4), eps_u_1*np.power(manifold.lambda_u, 2/4)]     \n",
    "print(f\"Initial guess: {guess_3}\")   "
   ]
  },
  {
   "cell_type": "code",
   "execution_count": null,
   "metadata": {},
   "outputs": [],
   "source": [
    "hs = manifold.integrate(manifold.rfp_s + guess_3[0] * manifold.vector_s, 7, -1)\n",
    "hu = manifold.integrate(manifold.rfp_u + guess_3[1] * manifold.vector_u, 6, 1)\n",
    "\n",
    "ax.scatter(hs[0,:], hs[1,:], marker=\"x\", color=\"purple\", zorder=10)\n",
    "ax.scatter(hu[0,:], hu[1,:], marker=\"+\", color=\"blue\", zorder=10)\n",
    "\n",
    "# ax.set_xlim(5.27, 5.3)\n",
    "# ax.set_ylim(1.85, 2)\n",
    "\n",
    "fig"
   ]
  },
  {
   "cell_type": "code",
   "execution_count": null,
   "metadata": {},
   "outputs": [],
   "source": [
    "eps_s_3, eps_u_3 = find_homoclinic(manifold, guess_3[0], guess_3[1], n_s = 7, n_u = 6) "
   ]
  },
  {
   "cell_type": "code",
   "execution_count": null,
   "metadata": {},
   "outputs": [],
   "source": [
    "guess_4 = [eps_s_1*np.power(manifold.lambda_s, 3/4), eps_u_1*np.power(manifold.lambda_u, 3/4)]     \n",
    "print(f\"Initial guess: {guess_4}\") "
   ]
  },
  {
   "cell_type": "code",
   "execution_count": null,
   "metadata": {},
   "outputs": [],
   "source": [
    "hs = manifold.integrate(manifold.rfp_s + guess_4[0] * manifold.vector_s, 7, -1)\n",
    "hu = manifold.integrate(manifold.rfp_u + guess_4[1] * manifold.vector_u, 6, 1)\n",
    "\n",
    "ax.scatter(hs[0,:], hs[1,:], marker=\"x\", color=\"purple\", zorder=10)\n",
    "ax.scatter(hu[0,:], hu[1,:], marker=\"+\", color=\"blue\", zorder=10)\n",
    "\n",
    "fig"
   ]
  },
  {
   "cell_type": "code",
   "execution_count": null,
   "metadata": {},
   "outputs": [],
   "source": [
    "eps_s_4, eps_u_4 = find_homoclinic(manifold, guess_4[0], guess_4[1], n_s = 7, n_u = 6)"
   ]
  },
  {
   "cell_type": "code",
   "execution_count": null,
   "metadata": {},
   "outputs": [],
   "source": [
    "hs_1 = manifold.integrate(manifold.rfp_s + eps_s_1 * manifold.vector_s, 7, -1)\n",
    "hs_2 = manifold.integrate(manifold.rfp_s + eps_s_2 * manifold.vector_s, 7, -1)\n",
    "hs_3 = manifold.integrate(manifold.rfp_s + eps_s_3 * manifold.vector_s, 7, -1)\n",
    "hs_4 = manifold.integrate(manifold.rfp_s + eps_s_4 * manifold.vector_s, 7, -1)\n",
    "\n",
    "hu_1 = manifold.integrate(manifold.rfp_u + eps_u_1 * manifold.vector_u, 6, 1)\n",
    "hu_2 = manifold.integrate(manifold.rfp_u + eps_u_2 * manifold.vector_u, 6, 1)\n",
    "hu_3 = manifold.integrate(manifold.rfp_u + eps_u_3 * manifold.vector_u, 6, 1)\n",
    "hu_4 = manifold.integrate(manifold.rfp_u + eps_u_4 * manifold.vector_u, 6, 1)\n",
    "\n",
    "ax.scatter(hs_1[0,:], hs_1[1,:], marker=\"x\", color=\"purple\", zorder=10)\n",
    "ax.scatter(hs_2[0,:], hs_2[1,:], marker=\"+\", color=\"purple\", zorder=10)\n",
    "ax.scatter(hs_3[0,:], hs_3[1,:], marker=\"o\", color=\"purple\", zorder=10)\n",
    "ax.scatter(hs_4[0,:], hs_4[1,:], marker=\"s\", color=\"purple\", zorder=10)\n",
    "\n",
    "ax.scatter(hu_1[0,:], hu_1[1,:], marker=\"x\", color=\"blue\", zorder=10)\n",
    "ax.scatter(hu_2[0,:], hu_2[1,:], marker=\"+\", color=\"blue\", zorder=10)\n",
    "ax.scatter(hu_3[0,:], hu_3[1,:], marker=\"o\", color=\"blue\", zorder=10)\n",
    "ax.scatter(hu_4[0,:], hu_4[1,:], marker=\"s\", color=\"blue\", zorder=10)\n",
    "\n",
    "fig"
   ]
  },
  {
   "cell_type": "code",
   "execution_count": null,
   "metadata": {},
   "outputs": [],
   "source": [
    "print(\"\\nComputing the manifold\\n\")\n",
    "manifold.compute(nintersect = 9, neps = 300, epsilon=1e-7)\n",
    "# manifold.compute(nintersect = 9, neps = 100, epsilon=1e-6, directions=\"s+\")\n",
    "# manifold.compute(nintersect = 7, neps = 1, epsilon=1e-7, directions=\"u+\")\n",
    "# manifold.compute(nintersect = 7, neps = 1, epsilon=1e-6, directions=\"s+\")"
   ]
  },
  {
   "cell_type": "code",
   "execution_count": null,
   "metadata": {},
   "outputs": [],
   "source": [
    "print(\"\\nPlotting the manifold\")\n",
    "manifold.plot(ax, directions=\"u+s+\")\n",
    "# ax.set_title(f\"amplitude = {maxwellboltzmann['amplitude']}, m = {maxwellboltzmann['m']}, n = {maxwellboltzmann['n']}, d = {maxwellboltzmann['d']:.2f}\")"
   ]
  },
  {
   "cell_type": "code",
   "execution_count": null,
   "metadata": {},
   "outputs": [],
   "source": [
    "# ax.set_xlim(5.6, 7.5)\n",
    "# ax.set_ylim(-6, -3)\n",
    "\n",
    "ax.set_xlim(5.6, 8.7)\n",
    "ax.set_ylim(-6, -2)\n",
    "\n",
    "fig"
   ]
  }
 ],
 "metadata": {
  "kernelspec": {
   "display_name": "simsopt",
   "language": "python",
   "name": "python3"
  },
  "language_info": {
   "codemirror_mode": {
    "name": "ipython",
    "version": 3
   },
   "file_extension": ".py",
   "mimetype": "text/x-python",
   "name": "python",
   "nbconvert_exporter": "python",
   "pygments_lexer": "ipython3",
   "version": "3.10.13"
  }
 },
 "nbformat": 4,
 "nbformat_minor": 2
}
