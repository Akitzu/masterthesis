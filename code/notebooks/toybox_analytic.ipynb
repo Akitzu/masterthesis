{
 "cells": [
  {
   "cell_type": "markdown",
   "metadata": {},
   "source": [
    "### Analytically deriving the toy model and perturbation"
   ]
  },
  {
   "cell_type": "markdown",
   "metadata": {},
   "source": [
    "$$\n",
    "\\text{As}\\quad\\vec{\\nabla}\\cdot\\vec{B} = 0\\quad\\text{it get to}\\quad\\vec{B} = \\vec{\\nabla} \\times \\vec{A}\\quad\\text{thus with}\\quad\\vec{A} = (A_r, A_\\phi, A_z)\\\\\n",
    "$$\n",
    "$$\n",
    "\\vec{B} = (-\\partial_z A_\\phi,\\, \\partial_z A_r - \\partial_r A_z,\\, 1/r\\cdot\\partial_z(r A_\\phi))\n",
    "$$"
   ]
  },
  {
   "cell_type": "code",
   "execution_count": 1,
   "metadata": {},
   "outputs": [],
   "source": [
    "import sympy as sp\n",
    "import numpy as np"
   ]
  },
  {
   "cell_type": "code",
   "execution_count": 19,
   "metadata": {},
   "outputs": [],
   "source": [
    "r, phi, z, d, m, n, R, Z, sf, shear = sp.symbols('r phi z d m n R Z sf shear', real=True, positive=True)\n",
    "rr = sp.symbols('rr[0] rr[1] (rr[2] - Z)')\n",
    "I = sp.I  # Imaginary unit\n",
    "\n",
    "replacement_dict = {r: rr[0], phi: rr[1], z: rr[2], I: 1j}\n",
    "\n",
    "# Define b\n",
    "b = sp.sqrt((R - r)**2 + (Z-z)**2)\n",
    "\n",
    "# Define Psi\n",
    "Psi = b**2\n",
    "\n",
    "# Define b_e\n",
    "A, B = sp.symbols('A B', real=True, positive=True)\n",
    "b_elliptic = sp.sqrt((R - r)**2/A**2 + (Z-z)**2/B**2)\n",
    "\n",
    "# Define Psi_e\n",
    "Psi_elliptic = b_elliptic**2\n",
    "\n",
    "# Define F\n",
    "F = 2 * (sf + shear * b**2) * sp.sqrt(R**2 - b**2)\n",
    "F_elliptic = 2 * (sf + shear * b_elliptic**2) * sp.sqrt(R**2 - b_elliptic**2)\n",
    "\n",
    "# Define the function\n",
    "psi_mb = sp.sqrt(2/sp.pi) * (b**2/d**3) * sp.exp(-b**2/(2*d**2)) * ((r - R) + I*(z-Z))**m * sp.exp(I*n*phi)\n",
    "psi_gaussian = (1/sp.sqrt(2*sp.pi*d**2)) * sp.exp(-b**2/(2*d**2)) * ((r - R) + I*(z-Z))**m * sp.exp(I*n*phi)"
   ]
  },
  {
   "cell_type": "code",
   "execution_count": 14,
   "metadata": {},
   "outputs": [
    {
     "data": {
      "text/latex": [
       "$\\displaystyle 0.25 \\left(- R + r\\right) \\left(4 sf + shear \\left(R^{2} - 4 R r + 2 r^{2} + 5 \\left(- Z + z\\right)^{2}\\right)\\right) \\sqrt{2 R r - r^{2} - \\left(- Z + z\\right)^{2}} + 0.25 i \\left(4 sf + shear \\left(R^{2} + 3 \\left(- Z + z\\right)^{2}\\right)\\right) \\left(R - Z + z\\right) \\left(R + Z - z\\right) \\log{\\left(R - r - i \\sqrt{- r \\left(- 2 R + r\\right) - \\left(- Z + z\\right)^{2}} \\right)}$"
      ],
      "text/plain": [
       "0.25*(-R + r)*(4*sf + shear*(R**2 - 4*R*r + 2*r**2 + 5*(-Z + z)**2))*sqrt(2*R*r - r**2 - (-Z + z)**2) + 0.25*I*(4*sf + shear*(R**2 + 3*(-Z + z)**2))*(R - Z + z)*(R + Z - z)*log(R - r - I*sqrt(-r*(-2*R + r) - (-Z + z)**2))"
      ]
     },
     "execution_count": 14,
     "metadata": {},
     "output_type": "execute_result"
    }
   ],
   "source": [
    "expr = 1/4 * ((r - R) * (4 * sf + shear * (2 * r**2 - 4 * r * R + R**2 + 5 * (z - Z)**2)) * sp.sqrt(-r**2 + 2 * r * R - (z - Z)**2) + I * (4 * sf + shear * (R**2 + 3 * (z - Z)**2)) * (R + z - Z) * (R - z + Z) * sp.log(-r + R - I * sp.sqrt(-r * (r - 2 * R) - (z - Z)**2)))\n",
    "expr"
   ]
  },
  {
   "cell_type": "code",
   "execution_count": 15,
   "metadata": {},
   "outputs": [
    {
     "data": {
      "text/plain": [
       "\"R = Symbol('R')\\nrr[0] = Symbol('rr[0]')\\nsf = Symbol('sf')\\nshear = Symbol('shear')\\n(rr[2] = Symbol('(rr[2]')\\nZ = Symbol('Z')\\ne = Float('0.25', precision=53)*(-R + rr[0])*(4*sf + shear*(R**2 - 4*R*rr[0] + 2*rr[0]**2 + 5*((rr[2] - Z)**2))*sqrt(2*R*rr[0] - rr[0]**2 - ((rr[2] - Z)**2) + Float('0.25', precision=53)*I*(4*sf + shear*(R**2 + 3*((rr[2] - Z)**2))*(-(rr[2] + R + Z)*((rr[2] + R - Z)*log(R - rr[0] - Float('1.0', precision=53)*I*sqrt(-rr[0]*(-2*R + rr[0]) - ((rr[2] - Z)**2))\""
      ]
     },
     "execution_count": 15,
     "metadata": {},
     "output_type": "execute_result"
    }
   ],
   "source": [
    "sp.printing.python(expr.subs(replacement_dict))"
   ]
  },
  {
   "cell_type": "code",
   "execution_count": 23,
   "metadata": {},
   "outputs": [
    {
     "data": {
      "text/latex": [
       "$\\displaystyle \\frac{- i r \\left(- 2 R + r\\right) \\left(4 sf + shear \\left(4 R^{2} - 6 R r + 3 r^{2}\\right)\\right) \\log{\\left(i Z - i z + \\sqrt{- r \\left(- 2 R + r\\right) - \\left(- Z + z\\right)^{2}} \\right)} + \\left(- Z + z\\right) \\left(4 sf + shear \\left(4 R^{2} - 10 R r + 5 r^{2} + 2 \\left(- Z + z\\right)^{2}\\right)\\right) \\sqrt{2 R r - r^{2} - \\left(- Z + z\\right)^{2}}}{4 r}$"
      ],
      "text/plain": [
       "(-I*r*(-2*R + r)*(4*sf + shear*(4*R**2 - 6*R*r + 3*r**2))*log(I*Z - I*z + sqrt(-r*(-2*R + r) - (-Z + z)**2)) + (-Z + z)*(4*sf + shear*(4*R**2 - 10*R*r + 5*r**2 + 2*(-Z + z)**2))*sqrt(2*R*r - r**2 - (-Z + z)**2))/(4*r)"
      ]
     },
     "execution_count": 23,
     "metadata": {},
     "output_type": "execute_result"
    }
   ],
   "source": [
    "(1/(4 * r)) * ((4 * sf + shear * (5 * r**2 - 10 * r * R + 4 * R**2 + 2 * (z - Z)**2)) * sp.sqrt(-r**2 + 2 * r * R - (z - Z)**2) * (z - Z) - I * r * (r - 2 * R) * (4 * sf + (3 * r**2 - 6 * r * R + 4 * R**2) * shear) * sp.log(-I * z + sp.sqrt(-r * (r - 2 * R) - (z - Z)**2) + I * Z))"
   ]
  },
  {
   "cell_type": "code",
   "execution_count": 22,
   "metadata": {},
   "outputs": [
    {
     "data": {
      "text/latex": [
       "$\\displaystyle \\frac{- 1.0 i rr[0] \\left(- 2 R + rr[0]\\right) \\left(4 sf + shear \\left(4 R^{2} - 6 R rr[0] + 3 rr[0]^{2}\\right)\\right) \\log{\\left(- 1.0 i (rr[2] + 1.0 i Z + \\sqrt{- rr[0] \\left(- 2 R + rr[0]\\right) - \\left((rr[2] - Z\\right)^{2}} \\right)} + \\left((rr[2] - Z\\right) \\left(4 sf + shear \\left(4 R^{2} - 10 R rr[0] + 5 rr[0]^{2} + 2 \\left((rr[2] - Z\\right)^{2}\\right)\\right) \\sqrt{2 R rr[0] - rr[0]^{2} - \\left((rr[2] - Z\\right)^{2}}}{4 rr[0]}$"
      ],
      "text/plain": [
       "(-1.0*I*rr[0]*(-2*R + rr[0])*(4*sf + shear*(4*R**2 - 6*R*rr[0] + 3*rr[0]**2))*log(-1.0*I*(rr[2] + 1.0*I*Z + sqrt(-rr[0]*(-2*R + rr[0]) - ((rr[2] - Z)**2)) + ((rr[2] - Z)*(4*sf + shear*(4*R**2 - 10*R*rr[0] + 5*rr[0]**2 + 2*((rr[2] - Z)**2))*sqrt(2*R*rr[0] - rr[0]**2 - ((rr[2] - Z)**2))/(4*rr[0])"
      ]
     },
     "execution_count": 22,
     "metadata": {},
     "output_type": "execute_result"
    }
   ],
   "source": [
    "expr.subs(replacement_dict)"
   ]
  },
  {
   "cell_type": "code",
   "execution_count": null,
   "metadata": {},
   "outputs": [],
   "source": [
    "C = sp.symbols('C', real=True, positive=True)\n",
    "Psi_circ = C*(sp.sqrt(r**2 - 2*r*R + R**2 + (z - Z)**2) + R*sp.atanh((r - R)/sp.sqrt(r**2 - 2*r*R + R**2 + (z - Z)**2)))"
   ]
  },
  {
   "cell_type": "code",
   "execution_count": null,
   "metadata": {},
   "outputs": [],
   "source": [
    "sp.printing.python(Psi)"
   ]
  },
  {
   "cell_type": "code",
   "execution_count": null,
   "metadata": {},
   "outputs": [],
   "source": [
    "B_circ = sp.Matrix([-1/r * sp.diff(Psi_circ, z), 0, 1/r * sp.diff(Psi_circ, r)])"
   ]
  },
  {
   "cell_type": "code",
   "execution_count": null,
   "metadata": {},
   "outputs": [],
   "source": [
    "B_circ"
   ]
  },
  {
   "cell_type": "code",
   "execution_count": null,
   "metadata": {},
   "outputs": [],
   "source": [
    "Psi_elliptic"
   ]
  },
  {
   "cell_type": "code",
   "execution_count": null,
   "metadata": {},
   "outputs": [],
   "source": [
    "F"
   ]
  },
  {
   "cell_type": "code",
   "execution_count": null,
   "metadata": {},
   "outputs": [],
   "source": [
    "psi_mb"
   ]
  },
  {
   "cell_type": "code",
   "execution_count": null,
   "metadata": {},
   "outputs": [],
   "source": [
    "psi_gaussian"
   ]
  },
  {
   "cell_type": "code",
   "execution_count": null,
   "metadata": {},
   "outputs": [],
   "source": [
    "B_equilibrium = sp.Matrix([-1/r * sp.diff(Psi, z), F/r, 1/r * sp.diff(Psi, r)])\n",
    "B_equilibrium"
   ]
  },
  {
   "cell_type": "code",
   "execution_count": null,
   "metadata": {},
   "outputs": [],
   "source": [
    "B_equilibrium_elliptic = sp.Matrix([-1/r * sp.diff(Psi_elliptic, z), F_elliptic/r, 1/r * sp.diff(Psi_elliptic, r)])\n",
    "B_equilibrium_elliptic"
   ]
  },
  {
   "cell_type": "code",
   "execution_count": null,
   "metadata": {},
   "outputs": [],
   "source": [
    "B1 = B_equilibrium.subs({R: 3, Z: 0, sf: 0.91, shear: 0.7})\n",
    "B2 = B_equilibrium.subs({R: 3, Z: -5, sf: 0.91, shear: 0.7})\n",
    "B = sp.simplify(B1 + B2)"
   ]
  },
  {
   "cell_type": "code",
   "execution_count": null,
   "metadata": {},
   "outputs": [],
   "source": [
    "F_elliptic"
   ]
  },
  {
   "cell_type": "code",
   "execution_count": null,
   "metadata": {},
   "outputs": [],
   "source": [
    "B"
   ]
  },
  {
   "cell_type": "code",
   "execution_count": null,
   "metadata": {},
   "outputs": [],
   "source": [
    "B_mb = sp.simplify(sp.re(sp.Matrix([-1/r * sp.diff(psi_mb, z), 0, 1/r * sp.diff(psi_mb, r)])))\n",
    "B_gaussian = sp.simplify(sp.re(sp.Matrix([-1/r * sp.diff(psi_gaussian, z), 0, 1/r * sp.diff(psi_gaussian, r)])))"
   ]
  },
  {
   "cell_type": "code",
   "execution_count": null,
   "metadata": {},
   "outputs": [],
   "source": [
    "B_mb"
   ]
  },
  {
   "cell_type": "code",
   "execution_count": null,
   "metadata": {},
   "outputs": [],
   "source": [
    "from sympy.vector import CoordSys3D\n",
    "C = CoordSys3D('C')\n",
    "B_mb = B_mb[0]*C.i + B_mb[1]*C.j + B_mb[2]*C.k"
   ]
  },
  {
   "cell_type": "code",
   "execution_count": null,
   "metadata": {},
   "outputs": [],
   "source": [
    "psi_mb"
   ]
  },
  {
   "cell_type": "code",
   "execution_count": null,
   "metadata": {},
   "outputs": [],
   "source": [
    "B_mb.dot(C.i)"
   ]
  },
  {
   "cell_type": "code",
   "execution_count": null,
   "metadata": {},
   "outputs": [],
   "source": [
    "B_mb.dot(B_mb)"
   ]
  },
  {
   "cell_type": "code",
   "execution_count": null,
   "metadata": {},
   "outputs": [],
   "source": [
    "psi_mb"
   ]
  },
  {
   "cell_type": "markdown",
   "metadata": {},
   "source": [
    "##### Calculating the q-profile"
   ]
  },
  {
   "cell_type": "code",
   "execution_count": null,
   "metadata": {},
   "outputs": [],
   "source": [
    "a, theta = sp.symbols('a theta', real=True, positive=True)\n",
    "\n",
    "B_r = B_equilibrium[0]\n",
    "B_z = B_equilibrium[2]\n",
    "B_phi = B_equilibrium[1]\n",
    "\n",
    "B_pol = sp.cos(theta)*B_z - sp.sin(theta)*B_r"
   ]
  },
  {
   "cell_type": "code",
   "execution_count": null,
   "metadata": {},
   "outputs": [],
   "source": [
    "totor = {r: R+a*sp.cos(theta), z: Z+a*sp.sin(theta)}\n",
    "\n",
    "B_pol = sp.simplify(B_pol.subs(totor))\n",
    "B_pol"
   ]
  },
  {
   "cell_type": "code",
   "execution_count": null,
   "metadata": {},
   "outputs": [],
   "source": [
    "B_phi = sp.simplify(B_phi.subs(totor))\n",
    "B_phi"
   ]
  },
  {
   "cell_type": "code",
   "execution_count": null,
   "metadata": {},
   "outputs": [],
   "source": [
    "rho = sp.symbols('rho', real=True, positive=True)\n",
    "(a*B_phi/((R+a*sp.cos(theta))*B_pol)).subs({R: a+rho})"
   ]
  },
  {
   "cell_type": "code",
   "execution_count": null,
   "metadata": {},
   "outputs": [],
   "source": [
    "sp.integrate(1/(R+a*sp.cos(theta)), (theta, 0, 2*sp.pi), )"
   ]
  },
  {
   "cell_type": "code",
   "execution_count": null,
   "metadata": {},
   "outputs": [],
   "source": [
    "q = 1/(2*sp.pi) * sp.integrate(a*B_phi/((R+a*sp.cos(theta))*B_pol), (theta, 0, 2*sp.pi))\n",
    "q"
   ]
  },
  {
   "cell_type": "markdown",
   "metadata": {},
   "source": [
    "##### Transform the $\\vec{B}$ expressions from `sympy` to actual functions in python format"
   ]
  },
  {
   "cell_type": "code",
   "execution_count": null,
   "metadata": {},
   "outputs": [],
   "source": [
    "sp.printing.python(B_equilibrium.subs(replacement_dict))"
   ]
  },
  {
   "cell_type": "code",
   "execution_count": null,
   "metadata": {},
   "outputs": [],
   "source": [
    "sp.printing.python(B_equilibrium_elliptic.subs(replacement_dict))"
   ]
  },
  {
   "cell_type": "code",
   "execution_count": null,
   "metadata": {},
   "outputs": [],
   "source": [
    "sp.printing.python(B_mb.subs(replacement_dict))"
   ]
  },
  {
   "cell_type": "code",
   "execution_count": null,
   "metadata": {},
   "outputs": [],
   "source": [
    "sp.printing.python(B_gaussian.subs(replacement_dict))"
   ]
  },
  {
   "cell_type": "code",
   "execution_count": null,
   "metadata": {},
   "outputs": [],
   "source": [
    "sp.printing.python(B_circ.subs(replacement_dict))"
   ]
  },
  {
   "cell_type": "markdown",
   "metadata": {},
   "source": [
    "### trying without the power m"
   ]
  },
  {
   "cell_type": "code",
   "execution_count": 2,
   "metadata": {},
   "outputs": [],
   "source": [
    "r, phi, z, d, m, n, R, Z, sf, shear = sp.symbols('r phi z d m n R Z sf shear', real=True, positive=True)\n",
    "rr = sp.symbols('rr[0] rr[1] (rr[2] - Z)')\n",
    "I = sp.I  # Imaginary unit\n",
    "\n",
    "replacement_dict = {r: rr[0], phi: rr[1], z: (rr[2] - Z), I: 1j}\n",
    "\n",
    "# Define b\n",
    "b = sp.sqrt((R - r)**2 + (Z-z)**2)\n",
    "\n",
    "# Define the function\n",
    "psi_mb = sp.sqrt(2/sp.pi) * (b**2/d**3) * sp.exp(-b**2/(2*d**2)) * sp.cos(n*phi + m*sp.atan2(z-Z, r-R))\n",
    "psi_gaussian = (1/sp.sqrt(2*sp.pi*d**2)) * sp.exp(-b**2/(2*d**2)) * sp.cos(n*phi + m*sp.atan2(z-Z, r-R))"
   ]
  },
  {
   "cell_type": "code",
   "execution_count": 15,
   "metadata": {},
   "outputs": [],
   "source": [
    "cos = sp.cos(n*phi + m*sp.atan2(z-Z, r-R))\n",
    "dcosdz = sp.diff(cos, z)\n",
    "dcosdr = sp.diff(cos, r)"
   ]
  },
  {
   "cell_type": "code",
   "execution_count": 17,
   "metadata": {},
   "outputs": [],
   "source": [
    "dpsidz = sp.diff(psi_mb, z)\n",
    "dpsidr = sp.diff(psi_mb, r)"
   ]
  },
  {
   "cell_type": "code",
   "execution_count": 20,
   "metadata": {},
   "outputs": [
    {
     "data": {
      "text/latex": [
       "$\\displaystyle \\frac{2 \\left(\\left(d^{2} \\left(m \\left(R - r\\right) \\sin{\\left(m \\operatorname{atan}_{2}{\\left(- Z + z,- R + r \\right)} + n \\phi \\right)} + 2 \\left(- Z + z\\right) \\cos{\\left(m \\operatorname{atan}_{2}{\\left(- Z + z,- R + r \\right)} + n \\phi \\right)}\\right) + \\left(Z - z\\right) \\left(\\left(R - r\\right)^{2} + \\left(Z - z\\right)^{2}\\right) \\cos{\\left(m \\operatorname{atan}_{2}{\\left(- Z + z,- R + r \\right)} + n \\phi \\right)}\\right)^{2} + \\left(d^{2} \\left(m \\left(Z - z\\right) \\sin{\\left(m \\operatorname{atan}_{2}{\\left(- Z + z,- R + r \\right)} + n \\phi \\right)} + 2 \\left(R - r\\right) \\cos{\\left(m \\operatorname{atan}_{2}{\\left(- Z + z,- R + r \\right)} + n \\phi \\right)}\\right) - \\left(R - r\\right) \\left(\\left(R - r\\right)^{2} + \\left(Z - z\\right)^{2}\\right) \\cos{\\left(m \\operatorname{atan}_{2}{\\left(- Z + z,- R + r \\right)} + n \\phi \\right)}\\right)^{2}\\right) e^{- \\frac{\\left(R - r\\right)^{2} + \\left(Z - z\\right)^{2}}{d^{2}}}}{\\pi d^{10}}$"
      ],
      "text/plain": [
       "2*((d**2*(m*(R - r)*sin(m*atan2(-Z + z, -R + r) + n*phi) + 2*(-Z + z)*cos(m*atan2(-Z + z, -R + r) + n*phi)) + (Z - z)*((R - r)**2 + (Z - z)**2)*cos(m*atan2(-Z + z, -R + r) + n*phi))**2 + (d**2*(m*(Z - z)*sin(m*atan2(-Z + z, -R + r) + n*phi) + 2*(R - r)*cos(m*atan2(-Z + z, -R + r) + n*phi)) - (R - r)*((R - r)**2 + (Z - z)**2)*cos(m*atan2(-Z + z, -R + r) + n*phi))**2)*exp(-((R - r)**2 + (Z - z)**2)/d**2)/(pi*d**10)"
      ]
     },
     "execution_count": 20,
     "metadata": {},
     "output_type": "execute_result"
    },
    {
     "ename": "",
     "evalue": "",
     "output_type": "error",
     "traceback": [
      "\u001b[1;31mThe Kernel crashed while executing code in the current cell or a previous cell. \n",
      "\u001b[1;31mPlease review the code in the cell(s) to identify a possible cause of the failure. \n",
      "\u001b[1;31mClick <a href='https://aka.ms/vscodeJupyterKernelCrash'>here</a> for more info. \n",
      "\u001b[1;31mView Jupyter <a href='command:jupyter.viewOutput'>log</a> for further details."
     ]
    }
   ],
   "source": [
    "sp.simplify((dpsidz)**2+(dpsidr)**2)"
   ]
  },
  {
   "cell_type": "code",
   "execution_count": 10,
   "metadata": {},
   "outputs": [
    {
     "data": {
      "text/latex": [
       "$\\displaystyle - \\frac{m^{2} \\left(- R + r\\right)^{2} \\cos{\\left(m \\operatorname{atan}_{2}{\\left(- Z + z,- R + r \\right)} + n \\phi \\right)}}{\\left(\\left(- R + r\\right)^{2} + \\left(- Z + z\\right)^{2}\\right)^{2}} - \\frac{m \\left(- R + r\\right) \\left(2 Z - 2 z\\right) \\sin{\\left(m \\operatorname{atan}_{2}{\\left(- Z + z,- R + r \\right)} + n \\phi \\right)}}{\\left(\\left(- R + r\\right)^{2} + \\left(- Z + z\\right)^{2}\\right)^{2}}$"
      ],
      "text/plain": [
       "-m**2*(-R + r)**2*cos(m*atan2(-Z + z, -R + r) + n*phi)/((-R + r)**2 + (-Z + z)**2)**2 - m*(-R + r)*(2*Z - 2*z)*sin(m*atan2(-Z + z, -R + r) + n*phi)/((-R + r)**2 + (-Z + z)**2)**2"
      ]
     },
     "execution_count": 10,
     "metadata": {},
     "output_type": "execute_result"
    }
   ],
   "source": [
    "ddcos"
   ]
  },
  {
   "cell_type": "code",
   "execution_count": 5,
   "metadata": {},
   "outputs": [
    {
     "data": {
      "text/latex": [
       "$\\displaystyle \\left[\\begin{matrix}\\frac{\\sqrt{2} \\left(d^{2} \\left(- m \\left(R - r\\right) \\sin{\\left(m \\operatorname{atan}_{2}{\\left(- Z + z,- R + r \\right)} + n \\phi \\right)} + 2 \\left(Z - z\\right) \\cos{\\left(m \\operatorname{atan}_{2}{\\left(- Z + z,- R + r \\right)} + n \\phi \\right)}\\right) - \\left(Z - z\\right) \\left(\\left(R - r\\right)^{2} + \\left(Z - z\\right)^{2}\\right) \\cos{\\left(m \\operatorname{atan}_{2}{\\left(- Z + z,- R + r \\right)} + n \\phi \\right)}\\right) e^{\\frac{- R^{2} + 2 R r - Z^{2} + 2 Z z - r^{2} - z^{2}}{2 d^{2}}}}{\\sqrt{\\pi} d^{5} r}\\\\0\\\\\\frac{\\sqrt{2} \\left(d^{2} \\left(- m \\left(Z - z\\right) \\sin{\\left(m \\operatorname{atan}_{2}{\\left(- Z + z,- R + r \\right)} + n \\phi \\right)} + 2 \\left(- R + r\\right) \\cos{\\left(m \\operatorname{atan}_{2}{\\left(- Z + z,- R + r \\right)} + n \\phi \\right)}\\right) + \\left(R - r\\right) \\left(\\left(R - r\\right)^{2} + \\left(Z - z\\right)^{2}\\right) \\cos{\\left(m \\operatorname{atan}_{2}{\\left(- Z + z,- R + r \\right)} + n \\phi \\right)}\\right) e^{\\frac{- R^{2} + 2 R r - Z^{2} + 2 Z z - r^{2} - z^{2}}{2 d^{2}}}}{\\sqrt{\\pi} d^{5} r}\\end{matrix}\\right]$"
      ],
      "text/plain": [
       "Matrix([\n",
       "[ sqrt(2)*(d**2*(-m*(R - r)*sin(m*atan2(-Z + z, -R + r) + n*phi) + 2*(Z - z)*cos(m*atan2(-Z + z, -R + r) + n*phi)) - (Z - z)*((R - r)**2 + (Z - z)**2)*cos(m*atan2(-Z + z, -R + r) + n*phi))*exp((-R**2 + 2*R*r - Z**2 + 2*Z*z - r**2 - z**2)/(2*d**2))/(sqrt(pi)*d**5*r)],\n",
       "[                                                                                                                                                                                                                                                                       0],\n",
       "[sqrt(2)*(d**2*(-m*(Z - z)*sin(m*atan2(-Z + z, -R + r) + n*phi) + 2*(-R + r)*cos(m*atan2(-Z + z, -R + r) + n*phi)) + (R - r)*((R - r)**2 + (Z - z)**2)*cos(m*atan2(-Z + z, -R + r) + n*phi))*exp((-R**2 + 2*R*r - Z**2 + 2*Z*z - r**2 - z**2)/(2*d**2))/(sqrt(pi)*d**5*r)]])"
      ]
     },
     "execution_count": 5,
     "metadata": {},
     "output_type": "execute_result"
    }
   ],
   "source": [
    "B_mb"
   ]
  },
  {
   "cell_type": "code",
   "execution_count": null,
   "metadata": {},
   "outputs": [],
   "source": [
    "B_mb = sp.simplify(sp.re(sp.Matrix([-1/r * sp.diff(psi_mb, z), 0, 1/r * sp.diff(psi_mb, r)])))\n",
    "B_gaussian = sp.simplify(sp.re(sp.Matrix([-1/r * sp.diff(psi_gaussian, z), 0, 1/r * sp.diff(psi_gaussian, r)])))"
   ]
  },
  {
   "cell_type": "code",
   "execution_count": null,
   "metadata": {},
   "outputs": [],
   "source": [
    "B_mb"
   ]
  }
 ],
 "metadata": {
  "kernelspec": {
   "display_name": "simsopt",
   "language": "python",
   "name": "python3"
  },
  "language_info": {
   "codemirror_mode": {
    "name": "ipython",
    "version": 3
   },
   "file_extension": ".py",
   "mimetype": "text/x-python",
   "name": "python",
   "nbconvert_exporter": "python",
   "pygments_lexer": "ipython3",
   "version": "3.10.13"
  }
 },
 "nbformat": 4,
 "nbformat_minor": 2
}
