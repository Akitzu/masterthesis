{
 "cells": [
  {
   "cell_type": "markdown",
   "metadata": {},
   "source": [
    "### Analytically deriving the toy model and perturbation"
   ]
  },
  {
   "cell_type": "markdown",
   "metadata": {},
   "source": [
    "$$\n",
    "\\text{As}\\quad\\vec{\\nabla}\\cdot\\vec{B} = 0\\quad\\text{it get to}\\quad\\vec{B} = \\vec{\\nabla} \\times \\vec{A}\\quad\\text{thus with}\\quad\\vec{A} = (A_r, A_\\phi, A_z)\\\\\n",
    "$$\n",
    "$$\n",
    "\\vec{B} = (-\\partial_z A_\\phi,\\, \\partial_z A_r - \\partial_r A_z,\\, 1/r\\cdot\\partial_z(r A_\\phi))\n",
    "$$"
   ]
  },
  {
   "cell_type": "code",
   "execution_count": 1,
   "metadata": {},
   "outputs": [],
   "source": [
    "import sympy as sp\n",
    "import numpy as np"
   ]
  },
  {
   "cell_type": "code",
   "execution_count": 2,
   "metadata": {},
   "outputs": [],
   "source": [
    "r, phi, z, d, m, n, R, Z, sf, shear = sp.symbols('r phi z d m n R Z sf shear', real=True, positive=True)\n",
    "rr = sp.symbols('rr[0] rr[1] (rr[2] - Z)')\n",
    "I = sp.I  # Imaginary unit\n",
    "\n",
    "replacement_dict = {r: rr[0], phi: rr[1], z: (rr[2] - Z), I: 1j}\n",
    "\n",
    "# Define b\n",
    "b = sp.sqrt((R - r)**2 + (Z-z)**2)\n",
    "\n",
    "# Define Psi\n",
    "Psi = b**2\n",
    "\n",
    "# Define b_e\n",
    "A, B = sp.symbols('A B', real=True, positive=True)\n",
    "b_elliptic = sp.sqrt((R - r)**2/A**2 + (Z-z)**2/B**2)\n",
    "\n",
    "# Define Psi_e\n",
    "Psi_elliptic = b_elliptic**2\n",
    "\n",
    "# Define F\n",
    "F = 2 * (sf + shear * b**2) * sp.sqrt(R**2 - b**2)\n",
    "F_elliptic = 2 * (sf + shear * b_elliptic**2) * sp.sqrt(R**2 - b_elliptic**2)\n",
    "\n",
    "# Define the function\n",
    "psi_mb = sp.sqrt(2/sp.pi) * (b**2/d**3) * sp.exp(-b**2/(2*d**2)) * ((r - R) + I*(z-Z))**m * sp.exp(I*n*phi)\n",
    "psi_gaussian = (1/sp.sqrt(2*sp.pi*d**2)) * sp.exp(-b**2/(2*d**2)) * ((r - R) + I*(z-Z))**m * sp.exp(I*n*phi)"
   ]
  },
  {
   "cell_type": "code",
   "execution_count": 5,
   "metadata": {},
   "outputs": [],
   "source": [
    "C = sp.symbols('C', real=True, positive=True)\n",
    "Psi_circ = C*(sp.sqrt(r**2 - 2*r*R + R**2 + (z - Z)**2) + R*sp.atanh((r - R)/sp.sqrt(r**2 - 2*r*R + R**2 + (z - Z)**2)))"
   ]
  },
  {
   "cell_type": "code",
   "execution_count": 6,
   "metadata": {},
   "outputs": [
    {
     "data": {
      "text/latex": [
       "$\\displaystyle C \\left(R \\operatorname{atanh}{\\left(\\frac{- R + r}{\\sqrt{R^{2} - 2 R r + r^{2} + \\left(- Z + z\\right)^{2}}} \\right)} + \\sqrt{R^{2} - 2 R r + r^{2} + \\left(- Z + z\\right)^{2}}\\right)$"
      ],
      "text/plain": [
       "C*(R*atanh((-R + r)/sqrt(R**2 - 2*R*r + r**2 + (-Z + z)**2)) + sqrt(R**2 - 2*R*r + r**2 + (-Z + z)**2))"
      ]
     },
     "execution_count": 6,
     "metadata": {},
     "output_type": "execute_result"
    }
   ],
   "source": [
    "Psi_circ"
   ]
  },
  {
   "cell_type": "code",
   "execution_count": 7,
   "metadata": {},
   "outputs": [],
   "source": [
    "B_circ = sp.Matrix([-1/r * sp.diff(Psi_circ, z), 0, 1/r * sp.diff(Psi_circ, r)])"
   ]
  },
  {
   "cell_type": "code",
   "execution_count": 8,
   "metadata": {},
   "outputs": [
    {
     "data": {
      "text/latex": [
       "$\\displaystyle \\left[\\begin{matrix}- \\frac{C \\left(\\frac{R \\left(- R + r\\right) \\left(Z - z\\right)}{\\left(- \\frac{\\left(- R + r\\right)^{2}}{R^{2} - 2 R r + r^{2} + \\left(- Z + z\\right)^{2}} + 1\\right) \\left(R^{2} - 2 R r + r^{2} + \\left(- Z + z\\right)^{2}\\right)^{\\frac{3}{2}}} + \\frac{- Z + z}{\\sqrt{R^{2} - 2 R r + r^{2} + \\left(- Z + z\\right)^{2}}}\\right)}{r}\\\\0\\\\\\frac{C \\left(\\frac{R \\left(\\frac{\\left(- R + r\\right) \\left(R - r\\right)}{\\left(R^{2} - 2 R r + r^{2} + \\left(- Z + z\\right)^{2}\\right)^{\\frac{3}{2}}} + \\frac{1}{\\sqrt{R^{2} - 2 R r + r^{2} + \\left(- Z + z\\right)^{2}}}\\right)}{- \\frac{\\left(- R + r\\right)^{2}}{R^{2} - 2 R r + r^{2} + \\left(- Z + z\\right)^{2}} + 1} + \\frac{- R + r}{\\sqrt{R^{2} - 2 R r + r^{2} + \\left(- Z + z\\right)^{2}}}\\right)}{r}\\end{matrix}\\right]$"
      ],
      "text/plain": [
       "Matrix([\n",
       "[                                           -C*(R*(-R + r)*(Z - z)/((-(-R + r)**2/(R**2 - 2*R*r + r**2 + (-Z + z)**2) + 1)*(R**2 - 2*R*r + r**2 + (-Z + z)**2)**(3/2)) + (-Z + z)/sqrt(R**2 - 2*R*r + r**2 + (-Z + z)**2))/r],\n",
       "[                                                                                                                                                                                                                          0],\n",
       "[C*(R*((-R + r)*(R - r)/(R**2 - 2*R*r + r**2 + (-Z + z)**2)**(3/2) + 1/sqrt(R**2 - 2*R*r + r**2 + (-Z + z)**2))/(-(-R + r)**2/(R**2 - 2*R*r + r**2 + (-Z + z)**2) + 1) + (-R + r)/sqrt(R**2 - 2*R*r + r**2 + (-Z + z)**2))/r]])"
      ]
     },
     "execution_count": 8,
     "metadata": {},
     "output_type": "execute_result"
    }
   ],
   "source": [
    "B_circ"
   ]
  },
  {
   "cell_type": "code",
   "execution_count": 9,
   "metadata": {},
   "outputs": [
    {
     "data": {
      "text/latex": [
       "$\\displaystyle \\frac{\\left(Z - z\\right)^{2}}{B^{2}} + \\frac{\\left(R - r\\right)^{2}}{A^{2}}$"
      ],
      "text/plain": [
       "(Z - z)**2/B**2 + (R - r)**2/A**2"
      ]
     },
     "execution_count": 9,
     "metadata": {},
     "output_type": "execute_result"
    }
   ],
   "source": [
    "Psi_elliptic"
   ]
  },
  {
   "cell_type": "code",
   "execution_count": 10,
   "metadata": {},
   "outputs": [
    {
     "data": {
      "text/latex": [
       "$\\displaystyle \\left(2 sf + 2 shear \\left(\\left(R - r\\right)^{2} + \\left(Z - z\\right)^{2}\\right)\\right) \\sqrt{R^{2} - \\left(R - r\\right)^{2} - \\left(Z - z\\right)^{2}}$"
      ],
      "text/plain": [
       "(2*sf + 2*shear*((R - r)**2 + (Z - z)**2))*sqrt(R**2 - (R - r)**2 - (Z - z)**2)"
      ]
     },
     "execution_count": 10,
     "metadata": {},
     "output_type": "execute_result"
    }
   ],
   "source": [
    "F"
   ]
  },
  {
   "cell_type": "code",
   "execution_count": 11,
   "metadata": {},
   "outputs": [
    {
     "data": {
      "text/latex": [
       "$\\displaystyle \\frac{\\sqrt{2} \\left(\\left(R - r\\right)^{2} + \\left(Z - z\\right)^{2}\\right) \\left(- R + r + i \\left(- Z + z\\right)\\right)^{m} e^{\\frac{- \\left(R - r\\right)^{2} - \\left(Z - z\\right)^{2}}{2 d^{2}}} e^{i n \\phi}}{\\sqrt{\\pi} d^{3}}$"
      ],
      "text/plain": [
       "sqrt(2)*((R - r)**2 + (Z - z)**2)*(-R + r + I*(-Z + z))**m*exp((-(R - r)**2 - (Z - z)**2)/(2*d**2))*exp(I*n*phi)/(sqrt(pi)*d**3)"
      ]
     },
     "execution_count": 11,
     "metadata": {},
     "output_type": "execute_result"
    }
   ],
   "source": [
    "psi_mb"
   ]
  },
  {
   "cell_type": "code",
   "execution_count": 12,
   "metadata": {},
   "outputs": [
    {
     "data": {
      "text/latex": [
       "$\\displaystyle \\frac{\\sqrt{2} \\left(- R + r + i \\left(- Z + z\\right)\\right)^{m} e^{\\frac{- \\left(R - r\\right)^{2} - \\left(Z - z\\right)^{2}}{2 d^{2}}} e^{i n \\phi}}{2 \\sqrt{\\pi} d}$"
      ],
      "text/plain": [
       "sqrt(2)*(-R + r + I*(-Z + z))**m*exp((-(R - r)**2 - (Z - z)**2)/(2*d**2))*exp(I*n*phi)/(2*sqrt(pi)*d)"
      ]
     },
     "execution_count": 12,
     "metadata": {},
     "output_type": "execute_result"
    }
   ],
   "source": [
    "psi_gaussian"
   ]
  },
  {
   "cell_type": "code",
   "execution_count": 3,
   "metadata": {},
   "outputs": [
    {
     "data": {
      "text/latex": [
       "$\\displaystyle \\left[\\begin{matrix}- \\frac{- 2 Z + 2 z}{r}\\\\\\frac{\\left(2 sf + 2 shear \\left(\\left(R - r\\right)^{2} + \\left(Z - z\\right)^{2}\\right)\\right) \\sqrt{R^{2} - \\left(R - r\\right)^{2} - \\left(Z - z\\right)^{2}}}{r}\\\\\\frac{- 2 R + 2 r}{r}\\end{matrix}\\right]$"
      ],
      "text/plain": [
       "Matrix([\n",
       "[                                                                  -(-2*Z + 2*z)/r],\n",
       "[(2*sf + 2*shear*((R - r)**2 + (Z - z)**2))*sqrt(R**2 - (R - r)**2 - (Z - z)**2)/r],\n",
       "[                                                                   (-2*R + 2*r)/r]])"
      ]
     },
     "execution_count": 3,
     "metadata": {},
     "output_type": "execute_result"
    }
   ],
   "source": [
    "B_equilibrium = sp.Matrix([-1/r * sp.diff(Psi, z), F/r, 1/r * sp.diff(Psi, r)])\n",
    "B_equilibrium"
   ]
  },
  {
   "cell_type": "code",
   "execution_count": 14,
   "metadata": {},
   "outputs": [
    {
     "data": {
      "text/latex": [
       "$\\displaystyle \\left[\\begin{matrix}- \\frac{- 2 Z + 2 z}{B^{2} r}\\\\\\frac{\\left(2 sf + 2 shear \\left(\\frac{\\left(Z - z\\right)^{2}}{B^{2}} + \\frac{\\left(R - r\\right)^{2}}{A^{2}}\\right)\\right) \\sqrt{R^{2} - \\frac{\\left(Z - z\\right)^{2}}{B^{2}} - \\frac{\\left(R - r\\right)^{2}}{A^{2}}}}{r}\\\\\\frac{- 2 R + 2 r}{A^{2} r}\\end{matrix}\\right]$"
      ],
      "text/plain": [
       "Matrix([\n",
       "[                                                                               -(-2*Z + 2*z)/(B**2*r)],\n",
       "[(2*sf + 2*shear*((Z - z)**2/B**2 + (R - r)**2/A**2))*sqrt(R**2 - (Z - z)**2/B**2 - (R - r)**2/A**2)/r],\n",
       "[                                                                                (-2*R + 2*r)/(A**2*r)]])"
      ]
     },
     "execution_count": 14,
     "metadata": {},
     "output_type": "execute_result"
    }
   ],
   "source": [
    "B_equilibrium_elliptic = sp.Matrix([-1/r * sp.diff(Psi_elliptic, z), F_elliptic/r, 1/r * sp.diff(Psi_elliptic, r)])\n",
    "B_equilibrium_elliptic"
   ]
  },
  {
   "cell_type": "code",
   "execution_count": null,
   "metadata": {},
   "outputs": [],
   "source": [
    "B1 = B_equilibrium.subs({R: 3, Z: 0, sf: 0.91, shear: 0.7})\n",
    "B2 = B_equilibrium.subs({R: 3, Z: -5, sf: 0.91, shear: 0.7})\n",
    "B = sp.simplify(B1 + B2)"
   ]
  },
  {
   "cell_type": "code",
   "execution_count": null,
   "metadata": {},
   "outputs": [],
   "source": [
    "F_elliptic"
   ]
  },
  {
   "cell_type": "code",
   "execution_count": null,
   "metadata": {},
   "outputs": [],
   "source": [
    "B"
   ]
  },
  {
   "cell_type": "code",
   "execution_count": null,
   "metadata": {},
   "outputs": [],
   "source": [
    "B_mb = sp.simplify(sp.re(sp.Matrix([-1/r * sp.diff(psi_mb, z), 0, 1/r * sp.diff(psi_mb, r)])))\n",
    "B_gaussian = sp.simplify(sp.re(sp.Matrix([-1/r * sp.diff(psi_gaussian, z), 0, 1/r * sp.diff(psi_gaussian, r)])))"
   ]
  },
  {
   "cell_type": "code",
   "execution_count": 4,
   "metadata": {},
   "outputs": [
    {
     "data": {
      "text/latex": [
       "$\\displaystyle \\left[\\begin{matrix}- \\frac{- 2 Z + 2 z}{r}\\\\\\frac{\\left(2 sf + 2 shear \\left(\\left(R - r\\right)^{2} + \\left(Z - z\\right)^{2}\\right)\\right) \\sqrt{R^{2} - \\left(R - r\\right)^{2} - \\left(Z - z\\right)^{2}}}{r}\\\\\\frac{- 2 R + 2 r}{r}\\end{matrix}\\right]$"
      ],
      "text/plain": [
       "Matrix([\n",
       "[                                                                  -(-2*Z + 2*z)/r],\n",
       "[(2*sf + 2*shear*((R - r)**2 + (Z - z)**2))*sqrt(R**2 - (R - r)**2 - (Z - z)**2)/r],\n",
       "[                                                                   (-2*R + 2*r)/r]])"
      ]
     },
     "execution_count": 4,
     "metadata": {},
     "output_type": "execute_result"
    }
   ],
   "source": [
    "B_equilibrium"
   ]
  },
  {
   "cell_type": "markdown",
   "metadata": {},
   "source": [
    "##### Calculating the q-profile"
   ]
  },
  {
   "cell_type": "code",
   "execution_count": null,
   "metadata": {},
   "outputs": [],
   "source": [
    "a, theta = sp.symbols('a theta', real=True, positive=True)\n",
    "\n",
    "B_r = B_equilibrium[0]\n",
    "B_z = B_equilibrium[2]\n",
    "B_phi = B_equilibrium[1]\n",
    "\n",
    "B_pol = sp.cos(theta)*B_z - sp.sin(theta)*B_r"
   ]
  },
  {
   "cell_type": "code",
   "execution_count": null,
   "metadata": {},
   "outputs": [],
   "source": [
    "totor = {r: R+a*sp.cos(theta), z: Z+a*sp.sin(theta)}\n",
    "\n",
    "B_pol = sp.simplify(B_pol.subs(totor))\n",
    "B_pol"
   ]
  },
  {
   "cell_type": "code",
   "execution_count": null,
   "metadata": {},
   "outputs": [],
   "source": [
    "B_phi = sp.simplify(B_phi.subs(totor))\n",
    "B_phi"
   ]
  },
  {
   "cell_type": "code",
   "execution_count": null,
   "metadata": {},
   "outputs": [],
   "source": [
    "rho = sp.symbols('rho', real=True, positive=True)\n",
    "(a*B_phi/((R+a*sp.cos(theta))*B_pol)).subs({R: a+rho})"
   ]
  },
  {
   "cell_type": "code",
   "execution_count": null,
   "metadata": {},
   "outputs": [],
   "source": [
    "sp.integrate(1/(R+a*sp.cos(theta)), (theta, 0, 2*sp.pi), )"
   ]
  },
  {
   "cell_type": "code",
   "execution_count": null,
   "metadata": {},
   "outputs": [],
   "source": [
    "q = 1/(2*sp.pi) * sp.integrate(a*B_phi/((R+a*sp.cos(theta))*B_pol), (theta, 0, 2*sp.pi))\n",
    "q"
   ]
  },
  {
   "cell_type": "markdown",
   "metadata": {},
   "source": [
    "##### Transform the $\\vec{B}$ expressions from `sympy` to actual functions in python format"
   ]
  },
  {
   "cell_type": "code",
   "execution_count": null,
   "metadata": {},
   "outputs": [],
   "source": [
    "sp.printing.python(B_equilibrium.subs(replacement_dict))"
   ]
  },
  {
   "cell_type": "code",
   "execution_count": null,
   "metadata": {},
   "outputs": [],
   "source": [
    "sp.printing.python(B_equilibrium_elliptic.subs(replacement_dict))"
   ]
  },
  {
   "cell_type": "code",
   "execution_count": null,
   "metadata": {},
   "outputs": [],
   "source": [
    "sp.printing.python(B_mb.subs(replacement_dict))"
   ]
  },
  {
   "cell_type": "code",
   "execution_count": null,
   "metadata": {},
   "outputs": [],
   "source": [
    "sp.printing.python(B_gaussian.subs(replacement_dict))"
   ]
  },
  {
   "cell_type": "code",
   "execution_count": null,
   "metadata": {},
   "outputs": [],
   "source": [
    "sp.printing.python(B_circ.subs(replacement_dict))"
   ]
  }
 ],
 "metadata": {
  "kernelspec": {
   "display_name": "simsopt",
   "language": "python",
   "name": "python3"
  },
  "language_info": {
   "codemirror_mode": {
    "name": "ipython",
    "version": 3
   },
   "file_extension": ".py",
   "mimetype": "text/x-python",
   "name": "python",
   "nbconvert_exporter": "python",
   "pygments_lexer": "ipython3",
   "version": "3.10.13"
  }
 },
 "nbformat": 4,
 "nbformat_minor": 2
}
