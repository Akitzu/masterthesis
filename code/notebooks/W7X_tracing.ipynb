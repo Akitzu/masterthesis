{
 "cells": [
  {
   "cell_type": "code",
   "execution_count": 2,
   "metadata": {},
   "outputs": [],
   "source": [
    "import numpy as np\n",
    "from mayavi import mlab\n",
    "import matplotlib.pyplot as plt\n",
    "import pickle\n",
    "import horus as ho"
   ]
  },
  {
   "cell_type": "code",
   "execution_count": 3,
   "metadata": {},
   "outputs": [],
   "source": [
    "from simsopt.configs import get_w7x_data"
   ]
  },
  {
   "cell_type": "code",
   "execution_count": 4,
   "metadata": {},
   "outputs": [],
   "source": [
    "w7x = get_w7x_data()"
   ]
  },
  {
   "cell_type": "code",
   "execution_count": 5,
   "metadata": {},
   "outputs": [],
   "source": [
    "from simsopt.field import Current"
   ]
  },
  {
   "cell_type": "code",
   "execution_count": 6,
   "metadata": {},
   "outputs": [],
   "source": [
    "# GYM00+1750\n",
    "currents = [Current(1.109484) * 1e6 for _ in range(5)]\n",
    "currents.append(Current(-0.3661) * 1e6)\n",
    "currents.append(Current(-0.3661) * 1e6)\n",
    "\n",
    "# # \n",
    "# currents = [Current(1.109484) * 1e6 for _ in range(5)]\n",
    "# currents.append(Current(-0.3661) * 1e6)\n",
    "# currents.append(Current(-0.3661) * 1e6)\n",
    "\n",
    "# currents = [Current(1.109484) * 1e6 for _ in range(5)]\n",
    "# currents.append(Current(-0.3661) * 1e6)\n",
    "# currents.append(Current(-0.3661) * 1e6)"
   ]
  },
  {
   "cell_type": "code",
   "execution_count": 7,
   "metadata": {},
   "outputs": [],
   "source": [
    "bs, bsh, (nfp, coils, ma, sc_fieldline) = ho.stellarator(w7x[0], currents, w7x[2], nfp=5, surface_radius=2, degree=3, n=)"
   ]
  },
  {
   "cell_type": "code",
   "execution_count": 20,
   "metadata": {},
   "outputs": [
    {
     "data": {
      "text/plain": [
       "[<simsopt.field.coil.Coil at 0x15a24746de0>,\n",
       " <simsopt.field.coil.Coil at 0x15a236fd940>,\n",
       " <simsopt.field.coil.Coil at 0x15a23c5dda0>,\n",
       " <simsopt.field.coil.Coil at 0x15a24747060>,\n",
       " <simsopt.field.coil.Coil at 0x15a247471a0>,\n",
       " <simsopt.field.coil.Coil at 0x15a247472e0>,\n",
       " <simsopt.field.coil.Coil at 0x15a24747420>,\n",
       " <simsopt.field.coil.Coil at 0x15a24747560>,\n",
       " <simsopt.field.coil.Coil at 0x15a2420a6b0>,\n",
       " <simsopt.field.coil.Coil at 0x15a24747790>,\n",
       " <simsopt.field.coil.Coil at 0x15a247478d0>,\n",
       " <simsopt.field.coil.Coil at 0x15a24747a10>,\n",
       " <simsopt.field.coil.Coil at 0x15a24747b50>,\n",
       " <simsopt.field.coil.Coil at 0x15a24747c90>,\n",
       " <simsopt.field.coil.Coil at 0x15a24747dd0>,\n",
       " <simsopt.field.coil.Coil at 0x15a24747f10>,\n",
       " <simsopt.field.coil.Coil at 0x15a24770090>,\n",
       " <simsopt.field.coil.Coil at 0x15a247701d0>,\n",
       " <simsopt.field.coil.Coil at 0x15a24770310>,\n",
       " <simsopt.field.coil.Coil at 0x15a24770450>,\n",
       " <simsopt.field.coil.Coil at 0x15a24770590>,\n",
       " <simsopt.field.coil.Coil at 0x15a247706d0>,\n",
       " <simsopt.field.coil.Coil at 0x15a24770810>,\n",
       " <simsopt.field.coil.Coil at 0x15a24770950>,\n",
       " <simsopt.field.coil.Coil at 0x15a24770a90>,\n",
       " <simsopt.field.coil.Coil at 0x15a24770bd0>,\n",
       " <simsopt.field.coil.Coil at 0x15a24770d10>,\n",
       " <simsopt.field.coil.Coil at 0x15a24770e50>,\n",
       " <simsopt.field.coil.Coil at 0x15a24770f90>,\n",
       " <simsopt.field.coil.Coil at 0x15a247710d0>,\n",
       " <simsopt.field.coil.Coil at 0x15a24771210>,\n",
       " <simsopt.field.coil.Coil at 0x15a24771350>,\n",
       " <simsopt.field.coil.Coil at 0x15a24771490>,\n",
       " <simsopt.field.coil.Coil at 0x15a247715d0>,\n",
       " <simsopt.field.coil.Coil at 0x15a24771710>,\n",
       " <simsopt.field.coil.Coil at 0x15a24771850>,\n",
       " <simsopt.field.coil.Coil at 0x15a24771990>,\n",
       " <simsopt.field.coil.Coil at 0x15a24771ad0>,\n",
       " <simsopt.field.coil.Coil at 0x15a24771c10>,\n",
       " <simsopt.field.coil.Coil at 0x15a24771d50>,\n",
       " <simsopt.field.coil.Coil at 0x15a24771e90>,\n",
       " <simsopt.field.coil.Coil at 0x15a24771fd0>,\n",
       " <simsopt.field.coil.Coil at 0x15a24772110>,\n",
       " <simsopt.field.coil.Coil at 0x15a24772250>,\n",
       " <simsopt.field.coil.Coil at 0x15a24772390>,\n",
       " <simsopt.field.coil.Coil at 0x15a247724d0>,\n",
       " <simsopt.field.coil.Coil at 0x15a24772610>,\n",
       " <simsopt.field.coil.Coil at 0x15a24772750>,\n",
       " <simsopt.field.coil.Coil at 0x15a24772890>,\n",
       " <simsopt.field.coil.Coil at 0x15a247729d0>,\n",
       " <simsopt.field.coil.Coil at 0x15a24772b10>,\n",
       " <simsopt.field.coil.Coil at 0x15a24772c50>,\n",
       " <simsopt.field.coil.Coil at 0x15a24772d90>,\n",
       " <simsopt.field.coil.Coil at 0x15a24772ed0>,\n",
       " <simsopt.field.coil.Coil at 0x15a24773010>,\n",
       " <simsopt.field.coil.Coil at 0x15a24773150>,\n",
       " <simsopt.field.coil.Coil at 0x15a24773290>,\n",
       " <simsopt.field.coil.Coil at 0x15a247733d0>,\n",
       " <simsopt.field.coil.Coil at 0x15a24773510>,\n",
       " <simsopt.field.coil.Coil at 0x15a24773650>,\n",
       " <simsopt.field.coil.Coil at 0x15a24773790>,\n",
       " <simsopt.field.coil.Coil at 0x15a247738d0>,\n",
       " <simsopt.field.coil.Coil at 0x15a24773a10>,\n",
       " <simsopt.field.coil.Coil at 0x15a24773b50>,\n",
       " <simsopt.field.coil.Coil at 0x15a24773c90>,\n",
       " <simsopt.field.coil.Coil at 0x15a24773dd0>,\n",
       " <simsopt.field.coil.Coil at 0x15a24773f10>,\n",
       " <simsopt.field.coil.Coil at 0x15a247ac090>,\n",
       " <simsopt.field.coil.Coil at 0x15a247ac1d0>,\n",
       " <simsopt.field.coil.Coil at 0x15a247ac310>]"
      ]
     },
     "execution_count": 20,
     "metadata": {},
     "output_type": "execute_result"
    }
   ],
   "source": [
    "bs.coils"
   ]
  },
  {
   "cell_type": "code",
   "execution_count": 21,
   "metadata": {},
   "outputs": [
    {
     "data": {
      "text/plain": [
       "[<simsopt.field.coil.Coil at 0x15a24746de0>,\n",
       " <simsopt.field.coil.Coil at 0x15a236fd940>,\n",
       " <simsopt.field.coil.Coil at 0x15a23c5dda0>,\n",
       " <simsopt.field.coil.Coil at 0x15a24747060>,\n",
       " <simsopt.field.coil.Coil at 0x15a247471a0>,\n",
       " <simsopt.field.coil.Coil at 0x15a247472e0>,\n",
       " <simsopt.field.coil.Coil at 0x15a24747420>,\n",
       " <simsopt.field.coil.Coil at 0x15a24747560>,\n",
       " <simsopt.field.coil.Coil at 0x15a2420a6b0>,\n",
       " <simsopt.field.coil.Coil at 0x15a24747790>,\n",
       " <simsopt.field.coil.Coil at 0x15a247478d0>,\n",
       " <simsopt.field.coil.Coil at 0x15a24747a10>,\n",
       " <simsopt.field.coil.Coil at 0x15a24747b50>,\n",
       " <simsopt.field.coil.Coil at 0x15a24747c90>,\n",
       " <simsopt.field.coil.Coil at 0x15a24747dd0>,\n",
       " <simsopt.field.coil.Coil at 0x15a24747f10>,\n",
       " <simsopt.field.coil.Coil at 0x15a24770090>,\n",
       " <simsopt.field.coil.Coil at 0x15a247701d0>,\n",
       " <simsopt.field.coil.Coil at 0x15a24770310>,\n",
       " <simsopt.field.coil.Coil at 0x15a24770450>,\n",
       " <simsopt.field.coil.Coil at 0x15a24770590>,\n",
       " <simsopt.field.coil.Coil at 0x15a247706d0>,\n",
       " <simsopt.field.coil.Coil at 0x15a24770810>,\n",
       " <simsopt.field.coil.Coil at 0x15a24770950>,\n",
       " <simsopt.field.coil.Coil at 0x15a24770a90>,\n",
       " <simsopt.field.coil.Coil at 0x15a24770bd0>,\n",
       " <simsopt.field.coil.Coil at 0x15a24770d10>,\n",
       " <simsopt.field.coil.Coil at 0x15a24770e50>,\n",
       " <simsopt.field.coil.Coil at 0x15a24770f90>,\n",
       " <simsopt.field.coil.Coil at 0x15a247710d0>,\n",
       " <simsopt.field.coil.Coil at 0x15a24771210>,\n",
       " <simsopt.field.coil.Coil at 0x15a24771350>,\n",
       " <simsopt.field.coil.Coil at 0x15a24771490>,\n",
       " <simsopt.field.coil.Coil at 0x15a247715d0>,\n",
       " <simsopt.field.coil.Coil at 0x15a24771710>,\n",
       " <simsopt.field.coil.Coil at 0x15a24771850>,\n",
       " <simsopt.field.coil.Coil at 0x15a24771990>,\n",
       " <simsopt.field.coil.Coil at 0x15a24771ad0>,\n",
       " <simsopt.field.coil.Coil at 0x15a24771c10>,\n",
       " <simsopt.field.coil.Coil at 0x15a24771d50>,\n",
       " <simsopt.field.coil.Coil at 0x15a24771e90>,\n",
       " <simsopt.field.coil.Coil at 0x15a24771fd0>,\n",
       " <simsopt.field.coil.Coil at 0x15a24772110>,\n",
       " <simsopt.field.coil.Coil at 0x15a24772250>,\n",
       " <simsopt.field.coil.Coil at 0x15a24772390>,\n",
       " <simsopt.field.coil.Coil at 0x15a247724d0>,\n",
       " <simsopt.field.coil.Coil at 0x15a24772610>,\n",
       " <simsopt.field.coil.Coil at 0x15a24772750>,\n",
       " <simsopt.field.coil.Coil at 0x15a24772890>,\n",
       " <simsopt.field.coil.Coil at 0x15a247729d0>,\n",
       " <simsopt.field.coil.Coil at 0x15a24772b10>,\n",
       " <simsopt.field.coil.Coil at 0x15a24772c50>,\n",
       " <simsopt.field.coil.Coil at 0x15a24772d90>,\n",
       " <simsopt.field.coil.Coil at 0x15a24772ed0>,\n",
       " <simsopt.field.coil.Coil at 0x15a24773010>,\n",
       " <simsopt.field.coil.Coil at 0x15a24773150>,\n",
       " <simsopt.field.coil.Coil at 0x15a24773290>,\n",
       " <simsopt.field.coil.Coil at 0x15a247733d0>,\n",
       " <simsopt.field.coil.Coil at 0x15a24773510>,\n",
       " <simsopt.field.coil.Coil at 0x15a24773650>,\n",
       " <simsopt.field.coil.Coil at 0x15a24773790>,\n",
       " <simsopt.field.coil.Coil at 0x15a247738d0>,\n",
       " <simsopt.field.coil.Coil at 0x15a24773a10>,\n",
       " <simsopt.field.coil.Coil at 0x15a24773b50>,\n",
       " <simsopt.field.coil.Coil at 0x15a24773c90>,\n",
       " <simsopt.field.coil.Coil at 0x15a24773dd0>,\n",
       " <simsopt.field.coil.Coil at 0x15a24773f10>,\n",
       " <simsopt.field.coil.Coil at 0x15a247ac090>,\n",
       " <simsopt.field.coil.Coil at 0x15a247ac1d0>,\n",
       " <simsopt.field.coil.Coil at 0x15a247ac310>]"
      ]
     },
     "execution_count": 21,
     "metadata": {},
     "output_type": "execute_result"
    }
   ],
   "source": [
    "coils"
   ]
  },
  {
   "cell_type": "markdown",
   "metadata": {},
   "source": [
    "#### Plot the current difference"
   ]
  },
  {
   "cell_type": "code",
   "execution_count": null,
   "metadata": {},
   "outputs": [],
   "source": [
    "curr_diff = []\n",
    "for actual, base in zip(currents,  w7x[1]):\n",
    "    print(base.current, \" | \", actual.current_to_scale.current * 1e6)\n",
    "    curr_diff.append(actual.current_to_scale.current * 1e6 - base.current)"
   ]
  },
  {
   "cell_type": "code",
   "execution_count": null,
   "metadata": {},
   "outputs": [],
   "source": [
    "curr_diff"
   ]
  },
  {
   "cell_type": "code",
   "execution_count": null,
   "metadata": {},
   "outputs": [],
   "source": [
    "cmap = plt.colormaps['RdBu']\n",
    "norm = plt.Normalize(min(curr_diff), max(curr_diff))\n",
    "colors = cmap(norm(curr_diff))\n",
    "colors = colors[:, :3]"
   ]
  },
  {
   "cell_type": "code",
   "execution_count": null,
   "metadata": {},
   "outputs": [],
   "source": [
    "def rep(data):\n",
    "            if close:\n",
    "                return np.concatenate((data, [data[0]]))\n",
    "            else:\n",
    "                return data"
   ]
  },
  {
   "cell_type": "code",
   "execution_count": null,
   "metadata": {},
   "outputs": [],
   "source": [
    "# Assuming curr_diff is a list of differences in currents\n",
    "# Normalize curr_diff to the range [0, 1] for coloring\n",
    "\n",
    "# Plot the coils\n",
    "for i, coil in enumerate(coils):\n",
    "    c\n",
    "\n",
    "\n",
    "mlab.colorbar(orientation='vertical', title='Current Difference')\n",
    "mlab.show()"
   ]
  },
  {
   "cell_type": "code",
   "execution_count": null,
   "metadata": {},
   "outputs": [],
   "source": [
    "from mayavi import mlab\n",
    "for i, coil in enumerate(coils):\n",
    "    coil.plot(engine=\"mayavi\", show=False, color=tuple(colors[i%7]))\n",
    "\n",
    "# get the current lut manager\n",
    "mlab.colorbar(orientation='vertical', title='Current Difference')\n",
    "mlab.show()"
   ]
  },
  {
   "cell_type": "markdown",
   "metadata": {},
   "source": [
    "#### Poincare"
   ]
  },
  {
   "cell_type": "code",
   "execution_count": null,
   "metadata": {},
   "outputs": [],
   "source": [
    "for coil in coils:\n",
    "    coil.plot(engine=\"mayavi\", show=False)\n",
    "\n",
    "mlab.show()"
   ]
  },
  {
   "cell_type": "code",
   "execution_count": null,
   "metadata": {},
   "outputs": [],
   "source": [
    "phis = [0]    #[(i / 4) * (2 * np.pi / nfp) for i in range(4)]\n",
    "\n",
    "nfieldlines = 1\n",
    "Rs = np.linspace(6.05, 6.2, nfieldlines)\n",
    "Zs = [ma.gamma()[0, 2] for _ in range(nfieldlines)]\n",
    "RZs = np.array([[r, z] for r, z in zip(Rs, Zs)])\n",
    "\n",
    "nfieldlines = 2\n",
    "p1 = np.array([5.6144507858315915, -0.8067790944375764])\n",
    "p2 = np.array([5.78, -0.6])\n",
    "Rs = np.linspace(p1[0], p2[0], nfieldlines)\n",
    "Zs = np.linspace(p1[1], p2[1], nfieldlines)\n",
    "Rs, Zs = np.meshgrid(Rs, Zs)\n",
    "RZs2 = np.array([[r, z] for r, z in zip(Rs.flatten(), Zs.flatten())])\n",
    "\n",
    "RZs = np.concatenate((RZs, RZs2))"
   ]
  },
  {
   "cell_type": "code",
   "execution_count": null,
   "metadata": {},
   "outputs": [],
   "source": [
    "ax.plot(RZs[:, 0], RZs[:, 1], '+')\n",
    "fig"
   ]
  },
  {
   "cell_type": "code",
   "execution_count": null,
   "metadata": {},
   "outputs": [],
   "source": [
    "tys, phis = ho.poincare(bsh, RZs, phis, sc_fieldline, tol = 1e-10, plot=False)"
   ]
  },
  {
   "cell_type": "code",
   "execution_count": null,
   "metadata": {},
   "outputs": [],
   "source": [
    "_, _, fig, ax = ho.poincare(bsh, RZs, phis, sc_fieldline, tol = 1e-10)"
   ]
  },
  {
   "cell_type": "code",
   "execution_count": null,
   "metadata": {},
   "outputs": [],
   "source": [
    "for col in ax[0,0].collections:\n",
    "    col.set_color('black')\n",
    "    col.set_sizes([0.5])"
   ]
  },
  {
   "cell_type": "code",
   "execution_count": null,
   "metadata": {},
   "outputs": [],
   "source": [
    "fig"
   ]
  },
  {
   "cell_type": "code",
   "execution_count": null,
   "metadata": {},
   "outputs": [],
   "source": [
    "# import pickle\n",
    "# pickle.dump(fig, open(\"../output/poincare_GYM000+1750_chaotic_black.pickle\", \"wb\"))"
   ]
  },
  {
   "cell_type": "markdown",
   "metadata": {},
   "source": [
    "#### Finding fix-point"
   ]
  },
  {
   "cell_type": "code",
   "execution_count": 8,
   "metadata": {},
   "outputs": [],
   "source": [
    "fig = pickle.load(open(\"../../runs/w7x-gym00-1750/W7X_GYM000-1750_poincare_black.pkl\", \"rb\"))\n",
    "ax = fig.get_axes()[0]\n",
    "plt.show()"
   ]
  },
  {
   "cell_type": "code",
   "execution_count": 9,
   "metadata": {},
   "outputs": [
    {
     "data": {
      "image/png": "[encoded data removed]",
      "text/plain": [
       "<Figure size 800x500 with 1 Axes>"
      ]
     },
     "execution_count": 9,
     "metadata": {},
     "output_type": "execute_result"
    }
   ],
   "source": [
    "# guess = [5.6, 0.8] # O point\n",
    "guess = [5.7, 0.5] # X point\n",
    "# guess = [5.78, -0.6]\n",
    "ax.scatter(guess[0], guess[1], c='r', s=10)\n",
    "fig"
   ]
  },
  {
   "cell_type": "code",
   "execution_count": 10,
   "metadata": {},
   "outputs": [],
   "source": [
    "from pyoculus.solvers import FixedPoint\n",
    "from pyoculus.problems import SimsoptBfieldProblem\n",
    "ps = SimsoptBfieldProblem(ma.gamma()[0, 0], 0, 5, bs, bsh)"
   ]
  },
  {
   "cell_type": "code",
   "execution_count": null,
   "metadata": {},
   "outputs": [],
   "source": [
    "gamma = ho.trace(bs, 40*2*np.pi, [5.72, 0, 0.68], tol=1e-9)"
   ]
  },
  {
   "cell_type": "code",
   "execution_count": null,
   "metadata": {},
   "outputs": [],
   "source": [
    "from mayavi import mlab\n",
    "for coil in coils:\n",
    "    coil.plot(engine=\"mayavi\", show=False)\n",
    "\n",
    "mlab.plot3d(gamma[0, :], gamma[1, :], gamma[2, :], tube_radius=0.01, color=(0, 0, 1))\n",
    "\n",
    "mlab.show()"
   ]
  },
  {
   "cell_type": "code",
   "execution_count": 11,
   "metadata": {},
   "outputs": [
    {
     "name": "stdout",
     "output_type": "stream",
     "text": [
      "0 - [DeltaR, DeltaZ] : [ 0.01067771 -0.06341708] - dtheta : 0.14843063159343606\n",
      "0 - [StepR, StepZ]: [-0.01812309  0.05665339]\n",
      "1 - RZ : [5.68187691 0.55665339] - rhotheta : [0.6172635  2.01765653]\n",
      "1 - [DeltaR, DeltaZ] : [ 0.01083827 -0.02350714] - dtheta : 0.08364689840943207\n",
      "1 - [StepR, StepZ]: [ 0.01740229 -0.0295264 ]\n",
      "2 - RZ : [5.69927919 0.52712699] - rhotheta : [0.58312357 2.01262481]\n",
      "2 - [DeltaR, DeltaZ] : [0.00032629 0.00093294] - dtheta : 0.0819935308629014\n",
      "2 - [StepR, StepZ]: [ 0.00026283 -0.00146953]\n",
      "3 - RZ : [5.69954203 0.52565746] - rhotheta : [0.5816829  2.01329659]\n",
      "3 - [DeltaR, DeltaZ] : [ 1.73175420e-05 -3.21409526e-05] - dtheta : 0.08382645504772412\n",
      "3 - [StepR, StepZ]: [ 2.79427976e-05 -5.41019902e-05]\n",
      "4 - RZ : [5.69956997 0.52560336] - rhotheta : [0.58162205 2.01329301]\n",
      "4 - [DeltaR, DeltaZ] : [5.24195798e-10 4.28663072e-09] - dtheta : 0.08383408961398597\n",
      "4 - [StepR, StepZ]: [ 1.36522793e-10 -3.54856111e-09]\n",
      "5 - RZ : [5.69956997 0.52560335] - rhotheta : [0.58162204 2.01329301]\n",
      "5 - [DeltaR, DeltaZ] : [ 1.30144784e-10 -1.80713888e-10] - dtheta : 0.08383399660541668\n"
     ]
    },
    {
     "data": {
      "text/plain": [
       "<pyoculus.solvers.base_solver.BaseSolver.OutputData at 0x15a18101900>"
      ]
     },
     "execution_count": 11,
     "metadata": {},
     "output_type": "execute_result"
    }
   ],
   "source": [
    "# set up the integrator\n",
    "iparams = dict()\n",
    "iparams[\"rtol\"] = 1e-9\n",
    "\n",
    "pparams = dict()\n",
    "pparams[\"nrestart\"] = 0\n",
    "pparams[\"tol\"] = 1e-18\n",
    "pparams['niter'] = 100\n",
    "\n",
    "fp = FixedPoint(ps, pparams, integrator_params=iparams)\n",
    "fp.compute(guess=guess, pp=5, qq=4, sbegin=5.2, send=6.2, checkonly=True)"
   ]
  },
  {
   "cell_type": "code",
   "execution_count": 12,
   "metadata": {},
   "outputs": [],
   "source": [
    "results = [list(p) for p in zip(fp.x, fp.y, fp.z)]"
   ]
  },
  {
   "cell_type": "code",
   "execution_count": 13,
   "metadata": {},
   "outputs": [
    {
     "data": {
      "text/plain": [
       "[[5.699569970079714, 0.0, 0.5256033543632022],\n",
       " [5.699569969627196, 0.0, -0.5256033556806109],\n",
       " [5.883462106296903, 0.0, -0.6556749688793713],\n",
       " [5.883462104858263, 0.0, 0.6556749704020348],\n",
       " [5.699569970209859, 0.0, 0.5256033541824883]]"
      ]
     },
     "execution_count": 13,
     "metadata": {},
     "output_type": "execute_result"
    }
   ],
   "source": [
    "results"
   ]
  },
  {
   "cell_type": "code",
   "execution_count": 14,
   "metadata": {},
   "outputs": [
    {
     "data": {
      "image/png": "[encoded data removed]",
      "text/plain": [
       "<Figure size 800x500 with 1 Axes>"
      ]
     },
     "execution_count": 14,
     "metadata": {},
     "output_type": "execute_result"
    }
   ],
   "source": [
    "for rr in results:\n",
    "    ax.scatter(rr[0], rr[2], marker=\"X\", edgecolors=\"black\", linewidths=1)\n",
    "fig"
   ]
  },
  {
   "cell_type": "markdown",
   "metadata": {},
   "source": [
    "#### Tracing stable and unstable manifolds"
   ]
  },
  {
   "cell_type": "code",
   "execution_count": 15,
   "metadata": {},
   "outputs": [],
   "source": [
    "fig = pickle.load(open(\"../../runs/w7x-gym00-1750/W7X_GYM000-1750_poincare_chaotic_black.pkl\", \"rb\"))\n",
    "ax = fig.get_axes()[0]"
   ]
  },
  {
   "cell_type": "code",
   "execution_count": 16,
   "metadata": {},
   "outputs": [
    {
     "data": {
      "image/png": "[encoded data removed]",
      "text/plain": [
       "<Figure size 1200x1200 with 1 Axes>"
      ]
     },
     "execution_count": 16,
     "metadata": {},
     "output_type": "execute_result"
    }
   ],
   "source": [
    "fig.set_size_inches(12, 12)\n",
    "fig"
   ]
  },
  {
   "cell_type": "code",
   "execution_count": 17,
   "metadata": {},
   "outputs": [],
   "source": [
    "from pyoculus.solvers import Manifold"
   ]
  },
  {
   "cell_type": "code",
   "execution_count": 18,
   "metadata": {},
   "outputs": [],
   "source": [
    "iparam = dict()\n",
    "iparam[\"rtol\"] = 1e-12\n",
    "\n",
    "mp = Manifold(fp, ps, integrator_params=iparam)"
   ]
  },
  {
   "cell_type": "code",
   "execution_count": 52,
   "metadata": {},
   "outputs": [],
   "source": [
    "mp.choose(0, 1, [\"u+\",\"s+\"], [1, 1])"
   ]
  },
  {
   "cell_type": "code",
   "execution_count": 69,
   "metadata": {},
   "outputs": [
    {
     "name": "stdout",
     "output_type": "stream",
     "text": [
      "2024-05-14 14:53:51 [info     ] Computing unstable manifold with postive epsilon...\n"
     ]
    },
    {
     "name": "stderr",
     "output_type": "stream",
     "text": [
      "c:\\Users\\Ludovic\\miniforge3\\envs\\simsopt\\lib\\site-packages\\scipy\\integrate\\_ode.py:431: UserWarning: dopri5: step size becomes too small\n",
      "  self._y, self.t = mth(self.f, self.jac or (lambda: None),\n"
     ]
    },
    {
     "ename": "Exception",
     "evalue": "Integration failed",
     "output_type": "error",
     "traceback": [
      "\u001b[1;31m---------------------------------------------------------------------------\u001b[0m",
      "\u001b[1;31mException\u001b[0m                                 Traceback (most recent call last)",
      "Cell \u001b[1;32mIn [69], line 1\u001b[0m\n\u001b[1;32m----> 1\u001b[0m \u001b[43mmp\u001b[49m\u001b[38;5;241;43m.\u001b[39;49m\u001b[43mcompute\u001b[49m\u001b[43m(\u001b[49m\u001b[43mnintersect\u001b[49m\u001b[43m \u001b[49m\u001b[38;5;241;43m=\u001b[39;49m\u001b[43m \u001b[49m\u001b[38;5;241;43m6\u001b[39;49m\u001b[43m,\u001b[49m\u001b[43m \u001b[49m\u001b[43mepsilon\u001b[49m\u001b[38;5;241;43m=\u001b[39;49m\u001b[43m \u001b[49m\u001b[38;5;241;43m1e-3\u001b[39;49m\u001b[43m,\u001b[49m\u001b[43m \u001b[49m\u001b[43mneps\u001b[49m\u001b[43m \u001b[49m\u001b[38;5;241;43m=\u001b[39;49m\u001b[43m \u001b[49m\u001b[38;5;241;43m30\u001b[39;49m\u001b[43m)\u001b[49m\n",
      "File \u001b[1;32m~\\kDrive\\etudes\\EPFL\\masterthesis\\imports\\pyoculus\\pyoculus\\solvers\\manifold.py:259\u001b[0m, in \u001b[0;36mManifold.compute\u001b[1;34m(self, epsilon, fp_num, **kwargs)\u001b[0m\n\u001b[0;32m    257\u001b[0m \u001b[38;5;28;01mif\u001b[39;00m \u001b[38;5;124m\"\u001b[39m\u001b[38;5;124mu+\u001b[39m\u001b[38;5;124m\"\u001b[39m \u001b[38;5;129;01min\u001b[39;00m options[\u001b[38;5;124m\"\u001b[39m\u001b[38;5;124mdirections\u001b[39m\u001b[38;5;124m\"\u001b[39m]:\n\u001b[0;32m    258\u001b[0m     log\u001b[38;5;241m.\u001b[39minfo(\u001b[38;5;124m\"\u001b[39m\u001b[38;5;124mComputing unstable manifold with postive epsilon...\u001b[39m\u001b[38;5;124m\"\u001b[39m)\n\u001b[1;32m--> 259\u001b[0m     \u001b[38;5;28mself\u001b[39m\u001b[38;5;241m.\u001b[39munstable[\u001b[38;5;124m\"\u001b[39m\u001b[38;5;124m+\u001b[39m\u001b[38;5;124m\"\u001b[39m] \u001b[38;5;241m=\u001b[39m \u001b[38;5;28;43mself\u001b[39;49m\u001b[38;5;241;43m.\u001b[39;49m\u001b[43mintegrate\u001b[49m\u001b[43m(\u001b[49m\u001b[43mRZs\u001b[49m\u001b[43m,\u001b[49m\u001b[43m \u001b[49m\u001b[43mnintersect\u001b[49m\u001b[38;5;241;43m=\u001b[39;49m\u001b[43moptions\u001b[49m\u001b[43m[\u001b[49m\u001b[38;5;124;43m\"\u001b[39;49m\u001b[38;5;124;43mnintersect\u001b[39;49m\u001b[38;5;124;43m\"\u001b[39;49m\u001b[43m]\u001b[49m\u001b[43m)\u001b[49m\n\u001b[0;32m    261\u001b[0m \u001b[38;5;28;01mif\u001b[39;00m \u001b[38;5;124m\"\u001b[39m\u001b[38;5;124mu-\u001b[39m\u001b[38;5;124m\"\u001b[39m \u001b[38;5;129;01min\u001b[39;00m options[\u001b[38;5;124m\"\u001b[39m\u001b[38;5;124mdirections\u001b[39m\u001b[38;5;124m\"\u001b[39m]:\n\u001b[0;32m    262\u001b[0m     RZs \u001b[38;5;241m=\u001b[39m \u001b[38;5;241m2\u001b[39m \u001b[38;5;241m*\u001b[39m rfp_u \u001b[38;5;241m-\u001b[39m RZs\n",
      "File \u001b[1;32m~\\kDrive\\etudes\\EPFL\\masterthesis\\imports\\pyoculus\\pyoculus\\solvers\\manifold.py:720\u001b[0m, in \u001b[0;36mManifold.integrate\u001b[1;34m(self, RZstart, nintersect, direction)\u001b[0m\n\u001b[0;32m    718\u001b[0m     log\u001b[38;5;241m.\u001b[39merror(\u001b[38;5;124mf\u001b[39m\u001b[38;5;124m\"\u001b[39m\u001b[38;5;124mIntegration of point \u001b[39m\u001b[38;5;132;01m{\u001b[39;00mic\u001b[38;5;132;01m}\u001b[39;00m\u001b[38;5;124m failed.\u001b[39m\u001b[38;5;124m\"\u001b[39m)\n\u001b[0;32m    719\u001b[0m     \u001b[38;5;28;01mbreak\u001b[39;00m\n\u001b[1;32m--> 720\u001b[0m output \u001b[38;5;241m=\u001b[39m \u001b[38;5;28;43mself\u001b[39;49m\u001b[38;5;241;43m.\u001b[39;49m\u001b[43m_integrator\u001b[49m\u001b[38;5;241;43m.\u001b[39;49m\u001b[43mintegrate\u001b[49m\u001b[43m(\u001b[49m\u001b[43mt\u001b[49m\u001b[43m \u001b[49m\u001b[38;5;241;43m+\u001b[39;49m\u001b[43m \u001b[49m\u001b[43mdt\u001b[49m\u001b[43m)\u001b[49m\n\u001b[0;32m    722\u001b[0m t \u001b[38;5;241m=\u001b[39m t \u001b[38;5;241m+\u001b[39m dt\n\u001b[0;32m    723\u001b[0m ic \u001b[38;5;241m=\u001b[39m output\n",
      "File \u001b[1;32m~\\kDrive\\etudes\\EPFL\\masterthesis\\imports\\pyoculus\\pyoculus\\integrators\\rk_integrator.py:89\u001b[0m, in \u001b[0;36mRKIntegrator.integrate\u001b[1;34m(self, tend)\u001b[0m\n\u001b[0;32m     86\u001b[0m x_new \u001b[38;5;241m=\u001b[39m \u001b[38;5;28mself\u001b[39m\u001b[38;5;241m.\u001b[39mintegrator\u001b[38;5;241m.\u001b[39mintegrate(tend)\n\u001b[0;32m     88\u001b[0m \u001b[38;5;28;01mif\u001b[39;00m \u001b[38;5;129;01mnot\u001b[39;00m \u001b[38;5;28mself\u001b[39m\u001b[38;5;241m.\u001b[39mintegrator\u001b[38;5;241m.\u001b[39msuccessful():\n\u001b[1;32m---> 89\u001b[0m     \u001b[38;5;28;01mraise\u001b[39;00m \u001b[38;5;167;01mException\u001b[39;00m(\u001b[38;5;124m\"\u001b[39m\u001b[38;5;124mIntegration failed\u001b[39m\u001b[38;5;124m\"\u001b[39m)\n\u001b[0;32m     91\u001b[0m \u001b[38;5;28mself\u001b[39m\u001b[38;5;241m.\u001b[39mx \u001b[38;5;241m=\u001b[39m x_new\n\u001b[0;32m     92\u001b[0m \u001b[38;5;28mself\u001b[39m\u001b[38;5;241m.\u001b[39mt \u001b[38;5;241m=\u001b[39m tend\n",
      "\u001b[1;31mException\u001b[0m: Integration failed"
     ]
    }
   ],
   "source": [
    "mp.compute(nintersect = 6, epsilon= 1e-3, neps = 30)"
   ]
  },
  {
   "cell_type": "code",
   "execution_count": null,
   "metadata": {},
   "outputs": [],
   "source": [
    "mp.plot(ax=ax)"
   ]
  },
  {
   "cell_type": "code",
   "execution_count": null,
   "metadata": {},
   "outputs": [
    {
     "data": {
      "image/png": "[encoded data removed]",
      "text/plain": [
       "<Figure size 1200x1200 with 1 Axes>"
      ]
     },
     "execution_count": 61,
     "metadata": {},
     "output_type": "execute_result"
    }
   ],
   "source": [
    "fig"
   ]
  },
  {
   "cell_type": "code",
   "execution_count": 53,
   "metadata": {},
   "outputs": [
    {
     "data": {
      "text/plain": [
       "6.912908233114301e-05"
      ]
     },
     "execution_count": 53,
     "metadata": {},
     "output_type": "execute_result"
    }
   ],
   "source": [
    "mp.error_linear_regime(9e-2, mp.rfp_s, mp.vector_s, direction=-1)"
   ]
  },
  {
   "cell_type": "code",
   "execution_count": 54,
   "metadata": {},
   "outputs": [
    {
     "data": {
      "text/plain": [
       "array([ 5.70757453, -0.45613055])"
      ]
     },
     "execution_count": 54,
     "metadata": {},
     "output_type": "execute_result"
    }
   ],
   "source": [
    "mp.integrate_single(mp.rfp_s, 4, -1, ret_jacobian=False)"
   ]
  },
  {
   "cell_type": "code",
   "execution_count": 55,
   "metadata": {},
   "outputs": [
    {
     "data": {
      "text/plain": [
       "(array([ 5.69956997, -0.52560336]),\n",
       " array([[  5.35366612,  -2.78577294],\n",
       "        [-78.46968895,  41.01838471]]))"
      ]
     },
     "execution_count": 55,
     "metadata": {},
     "output_type": "execute_result"
    }
   ],
   "source": [
    "mp.integrate_single(mp.rfp_s, 4, -1, ret_jacobian=True)"
   ]
  },
  {
   "cell_type": "code",
   "execution_count": 56,
   "metadata": {},
   "outputs": [
    {
     "name": "stdout",
     "output_type": "stream",
     "text": [
      "2024-05-14 14:43:31 [debug    ] Guess - 0.09, 0.09\n",
      "2024-05-14 14:43:31 [debug    ] Bounds - ((0.09, 0.92704986912202), (0.09, 0.9270498785500697))\n",
      "2024-05-14 14:43:31 [debug    ] n_s, n_u - 1, 1\n",
      "2024-05-14 14:43:31 [debug    ] Inside : (0.08999999999999998, 0.08999999999999998)\n",
      "2024-05-14 14:43:32 [debug    ] Inside : (0.08999999999999998, 0.08999999999999998)\n",
      "2024-05-14 14:43:33 [debug    ] Inside : (0.08999999999999998, 0.08999999999999998)\n",
      "2024-05-14 14:43:34 [debug    ] Inside : (0.09000000322930674, 0.08999999999999998)\n",
      "2024-05-14 14:43:35 [debug    ] Inside : (0.08999999999999998, 0.09000000322930674)\n",
      "2024-05-14 14:43:36 [debug    ] Inside : (0.07114797133177651, 0.03882256997079164)\n",
      "2024-05-14 14:43:37 [debug    ] Inside : (0.0736768010459334, 0.04423018844025838)\n",
      "2024-05-14 14:43:38 [debug    ] Inside : (0.07378549937139353, 0.049888589672045805)\n",
      "2024-05-14 14:43:39 [debug    ] Inside : (0.07206656552188108, 0.05091611623803564)\n",
      "2024-05-14 14:43:39 [debug    ] Inside : (0.06007598117912661, 0.07129830033761096)\n",
      "2024-05-14 14:43:40 [debug    ] Inside : (0.06770601399160331, 0.05294597381457143)\n",
      "2024-05-14 14:43:41 [debug    ] Inside : (0.07206656834635099, 0.05091611623803564)\n",
      "2024-05-14 14:43:42 [debug    ] Inside : (0.07206656552188108, 0.050916118497149984)\n",
      "2024-05-14 14:43:42 [debug    ] Inside : (0.061869600276728574, 0.05645032461071963)\n",
      "2024-05-14 14:43:43 [debug    ] Inside : (0.06720541157469842, 0.0553500172710012)\n",
      "2024-05-14 14:43:44 [debug    ] Inside : (0.06211004635219609, 0.06341477938733454)\n",
      "2024-05-14 14:43:44 [debug    ] Inside : (0.06317416339185522, 0.060306779987007474)\n",
      "2024-05-14 14:43:45 [debug    ] Inside : (0.0617740001599277, 0.06234762432628662)\n",
      "2024-05-14 14:43:46 [debug    ] Inside : (0.06209048602798882, 0.06168484072870463)\n",
      "2024-05-14 14:43:46 [debug    ] Inside : (0.061980724884032286, 0.0618137347622935)\n",
      "2024-05-14 14:43:47 [debug    ] Inside : (0.061907462025347, 0.06189076300082717)\n",
      "2024-05-14 14:43:48 [debug    ] Inside : (0.061899631459769, 0.06189832302050659)\n",
      "2024-05-14 14:43:49 [debug    ] Inside : (0.06189894792299676, 0.06189901663590872)\n",
      "2024-05-14 14:43:50 [debug    ] Inside : (0.061898986766954295, 0.061898970037221064)\n",
      "2024-05-14 14:43:51 [debug    ] Inside : (0.06189897843036083, 0.06189898318125473)\n",
      "2024-05-14 14:43:52 [debug    ] Inside : (0.0618989796109514, 0.06189898092296805)\n",
      "2024-05-14 14:43:53 [debug    ] Inside : (0.061898982477960815, 0.06189896278753853)\n",
      "2024-05-14 14:43:54 [debug    ] Inside : (0.06189898099661698, 0.06189898318125473)\n",
      "2024-05-14 14:43:54 [debug    ] Inside : (0.06189897843036083, 0.06189898574751103)\n",
      "2024-05-14 14:43:55 [debug    ] Inside : (0.061898978566759355, 0.06189898280845605)\n",
      "2024-05-14 14:43:56 [info     ] Root finding status : The solution converged.\n",
      "2024-05-14 14:43:56 [debug    ] Root finding object :  message: The solution converged.\n",
      " success: True\n",
      "  status: 1\n",
      "     fun: [ 2.562e-09  2.439e-08]\n",
      "       x: [-2.782e+00 -2.782e+00]\n",
      "  method: hybr\n",
      "    nfev: 28\n",
      "    fjac: [[-7.827e-02  9.969e-01]\n",
      "           [-9.969e-01 -7.827e-02]]\n",
      "       r: [ 1.904e+00  4.701e+00 -7.411e-01]\n",
      "     qtf: [ 2.412e-08 -4.463e-09]\n",
      "2024-05-14 14:43:56 [info     ] Eps_s : 6.190e-02, Eps_u : 6.190e-02 gives a difference in endpoint [R,Z] : [2.56205368e-09 2.43923218e-08]\n"
     ]
    }
   ],
   "source": [
    "eps_s_1, eps_u_1 = mp.find_homoclinic(9e-2, 9e-2, jac=False)"
   ]
  },
  {
   "cell_type": "code",
   "execution_count": null,
   "metadata": {},
   "outputs": [],
   "source": [
    "guess_2 = [eps_s_1*np.power(mp.lambda_s, 1/2), eps_u_1*np.power(mp.lambda_u, 1/2)]\n",
    "print(f\"2nd initial guess: {guess_2}\")\n",
    "eps_s_2, eps_u_2 = mp.find_homoclinic(guess_2[0], guess_2[1])"
   ]
  },
  {
   "cell_type": "code",
   "execution_count": 65,
   "metadata": {},
   "outputs": [
    {
     "name": "stderr",
     "output_type": "stream",
     "text": [
      "C:\\Users\\Ludovic\\AppData\\Local\\Temp\\ipykernel_27636\\2409635613.py:9: UserWarning: You passed a edgecolor/edgecolors ('cyan') for an unfilled marker ('+').  Matplotlib is ignoring the edgecolor in favor of the facecolor.  This behavior may change in the future.\n",
      "  ax.scatter(hu_i[0,:], hu_i[1,:], marker=marker[i], color=\"royalblue\", edgecolor='cyan', zorder=10)\n"
     ]
    }
   ],
   "source": [
    "marker = [\"+\", \"o\"] #, \"s\", \"p\", \"P\", \"*\", \"X\", \"D\", \"d\", \"^\", \"v\", \"<\", \">\"]\n",
    "for i, clinic in enumerate(mp.clinics):\n",
    "    eps_s_i, eps_u_i = clinic[1:3]\n",
    "\n",
    "    n_u = 3\n",
    "    # hs_i = mp.integrate(mp.rfp_s + eps_s_i * mp.vector_s, n_s, -1)\n",
    "    hu_i = mp.integrate(mp.rfp_u + eps_u_i * mp.vector_u, n_u, 1)\n",
    "    # ax.scatter(hs_i[0,:], hs_i[1,:], marker=marker[i], color=\"purple\", zorder=10)\n",
    "    ax.scatter(hu_i[0,:], hu_i[1,:], marker=marker[i], color=\"royalblue\", edgecolor='cyan', zorder=10)"
   ]
  },
  {
   "cell_type": "code",
   "execution_count": 66,
   "metadata": {},
   "outputs": [
    {
     "data": {
      "image/png": "[encoded data removed]",
      "text/plain": [
       "<Figure size 1200x1200 with 1 Axes>"
      ]
     },
     "execution_count": 66,
     "metadata": {},
     "output_type": "execute_result"
    }
   ],
   "source": [
    "fig"
   ]
  },
  {
   "cell_type": "code",
   "execution_count": null,
   "metadata": {},
   "outputs": [],
   "source": [
    "mp.clinics"
   ]
  },
  {
   "cell_type": "code",
   "execution_count": null,
   "metadata": {},
   "outputs": [],
   "source": [
    "mp.fixedpoint.qq"
   ]
  },
  {
   "cell_type": "code",
   "execution_count": null,
   "metadata": {},
   "outputs": [],
   "source": [
    "mp.plot(ax)"
   ]
  },
  {
   "cell_type": "code",
   "execution_count": null,
   "metadata": {},
   "outputs": [],
   "source": [
    "print(ev_h1, ev_h2)"
   ]
  },
  {
   "cell_type": "code",
   "execution_count": null,
   "metadata": {},
   "outputs": [],
   "source": [
    "ev_h1 - ev_h2"
   ]
  },
  {
   "cell_type": "code",
   "execution_count": null,
   "metadata": {},
   "outputs": [],
   "source": [
    "ev_h1 = mp.rfp_u + mp.clinics[0][2] * mp.vector_u\n",
    "ev_h2 = mp.rfp_s + mp.clinics[0][1] * mp.vector_s\n",
    "\n",
    "for i in range(7):\n",
    "    if i > 0:\n",
    "        ev_h1 = mp.integrate_single(ev_h1, 1, 1, ret_jacobian=False)\n",
    "        ev_h2 = mp.integrate_single(ev_h2, 1, -1, ret_jacobian=False)\n",
    "    ax.scatter(ev_h1[0], ev_h1[1], marker=\"o\", edgecolors=\"black\", color = \"blue\", linewidths=1, label=f\"h1 {i}\")\n",
    "    ax.scatter(ev_h2[0], ev_h2[1], marker=\"o\", edgecolors=\"black\", color = \"orange\", linewidths=1, label=f\"h2 {i}\")\n",
    "\n",
    "ax.legend()\n",
    "fig"
   ]
  },
  {
   "cell_type": "code",
   "execution_count": null,
   "metadata": {},
   "outputs": [],
   "source": [
    "are = mp.resonance_area(1, 6, n_transit=0)\n",
    "(are[0] - are[1])/2"
   ]
  },
  {
   "cell_type": "code",
   "execution_count": null,
   "metadata": {},
   "outputs": [],
   "source": [
    "ev_h1 = mp.clinics[0][0]\n",
    "ev_h2 = mp.clinics[1][0]\n",
    "ax.scatter(ev_h1[0], ev_h1[1], marker=\"o\", edgecolors=\"black\", linewidths=1, label=f\"h1 0\")\n",
    "ax.scatter(ev_h2[0], ev_h2[1], marker=\"o\", edgecolors=\"black\", linewidths=1, label=f\"h2 0\")\n",
    "\n",
    "ev_h1 = mp.integrate_single(ev_h1, 1, 1, ret_jacobian=False)\n",
    "ev_h2 = mp.integrate_single(ev_h2, 1, 1, ret_jacobian=False)\n",
    "ax.scatter(ev_h1[0], ev_h1[1], marker=\"o\", edgecolors=\"black\", linewidths=1, label=f\"h1 1\")\n",
    "ax.scatter(ev_h2[0], ev_h2[1], marker=\"o\", edgecolors=\"black\", linewidths=1, label=f\"h2 1\")\n",
    "\n",
    "\n",
    "ev_h1 = mp.integrate_single(ev_h1, 1, -1, ret_jacobian=False)\n",
    "ev_h2 = mp.integrate_single(ev_h2, 1, -1, ret_jacobian=False)\n",
    "ax.scatter(ev_h1[0], ev_h1[1], marker=\"o\", edgecolors=\"black\", linewidths=1, label=f\"h1 2\")\n",
    "ax.scatter(ev_h2[0], ev_h2[1], marker=\"o\", edgecolors=\"black\", linewidths=1, label=f\"h2 2\")\n",
    "\n",
    "fig"
   ]
  }
 ],
 "metadata": {
  "kernelspec": {
   "display_name": "simsopt",
   "language": "python",
   "name": "python3"
  },
  "language_info": {
   "codemirror_mode": {
    "name": "ipython",
    "version": 3
   },
   "file_extension": ".py",
   "mimetype": "text/x-python",
   "name": "python",
   "nbconvert_exporter": "python",
   "pygments_lexer": "ipython3",
   "version": "3.10.13"
  }
 },
 "nbformat": 4,
 "nbformat_minor": 2
}
