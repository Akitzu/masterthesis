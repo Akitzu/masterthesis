{
 "cells": [
  {
   "cell_type": "code",
   "execution_count": 1,
   "metadata": {},
   "outputs": [],
   "source": [
    "import numpy as np\n",
    "from mayavi import mlab\n",
    "import matplotlib.pyplot as plt\n",
    "import pickle\n",
    "import horus as ho"
   ]
  },
  {
   "cell_type": "code",
   "execution_count": 2,
   "metadata": {},
   "outputs": [],
   "source": [
    "from simsopt.configs import get_w7x_data\n",
    "curves, currents, ma = get_w7x_data()"
   ]
  },
  {
   "cell_type": "code",
   "execution_count": 3,
   "metadata": {},
   "outputs": [],
   "source": [
    "default_config = [curr.current for curr in currents]"
   ]
  },
  {
   "cell_type": "code",
   "execution_count": 4,
   "metadata": {},
   "outputs": [],
   "source": [
    "from simsopt.field import Current, coils_via_symmetries\n",
    "# GYM00+1750\n",
    "currents = [Current(1.109484 * 1e6) for _ in range(5)]\n",
    "currents.append(Current(-0.3661 * 1e6))\n",
    "currents.append(Current(-0.3661 * 1e6))\n",
    "\n",
    "gym_config = [curr.current for curr in currents]\n",
    "\n",
    "# # \n",
    "# currents = [Current(1.109484) * 1e6 for _ in range(5)]\n",
    "# currents.append(Current(-0.3661) * 1e6)\n",
    "# currents.append(Current(-0.3661) * 1e6)\n",
    "\n",
    "# currents = [Current(1.109484) * 1e6 for _ in range(5)]\n",
    "# currents.append(Current(-0.3661) * 1e6)\n",
    "# currents.append(Current(-0.3661) * 1e6)"
   ]
  },
  {
   "cell_type": "code",
   "execution_count": 5,
   "metadata": {},
   "outputs": [
    {
     "name": "stdout",
     "output_type": "stream",
     "text": [
      "Default config:  [1620000.0, 1620000.0, 1620000.0, 1620000.0, 1620000.0, 0.0, 0.0]\n",
      "Gym config:  [1109484.0, 1109484.0, 1109484.0, 1109484.0, 1109484.0, -366100.0, -366100.0]\n"
     ]
    }
   ],
   "source": [
    "print(\"Default config: \", default_config)\n",
    "print(\"Gym config: \", gym_config)"
   ]
  },
  {
   "cell_type": "code",
   "execution_count": null,
   "metadata": {},
   "outputs": [],
   "source": [
    "coils = coils_via_symmetries(curves, currents, 5, True)"
   ]
  },
  {
   "cell_type": "code",
   "execution_count": null,
   "metadata": {},
   "outputs": [],
   "source": [
    "from pyoculus.problems import SimsoptBfieldProblem, surf_from_coils"
   ]
  },
  {
   "cell_type": "code",
   "execution_count": null,
   "metadata": {},
   "outputs": [],
   "source": [
    "surf = surf_from_coils(coils, ncoils=7, mpol=7, ntor=7)"
   ]
  },
  {
   "cell_type": "code",
   "execution_count": null,
   "metadata": {},
   "outputs": [],
   "source": [
    "surf.plot(engine=\"mayavi\", show=False, opacity=0.5)\n",
    "\n",
    "for coil in coils:\n",
    "    coil.plot(engine=\"mayavi\", show=False)\n",
    "\n",
    "mlab.show()"
   ]
  },
  {
   "cell_type": "code",
   "execution_count": null,
   "metadata": {},
   "outputs": [],
   "source": [
    "R0, _, Z0 = ma.gamma()[0,:]\n",
    "ps = SimsoptBfieldProblem.from_coils(R0=R0, Z0=Z0, Nfp=5, coils=coils, interpolate=True, ncoils=7, mpol=7, ntor=7, n=40)"
   ]
  },
  {
   "cell_type": "code",
   "execution_count": null,
   "metadata": {},
   "outputs": [],
   "source": [
    "ps._mf_B.estimate_error_B(10000)"
   ]
  },
  {
   "cell_type": "code",
   "execution_count": null,
   "metadata": {},
   "outputs": [],
   "source": [
    "ps._mf_B.estimate_error_GradAbsB(1000)"
   ]
  },
  {
   "cell_type": "markdown",
   "metadata": {},
   "source": [
    "#### Plot the current difference"
   ]
  },
  {
   "cell_type": "code",
   "execution_count": null,
   "metadata": {},
   "outputs": [],
   "source": [
    "curr_diff = []\n",
    "for actual, base in zip(currents,  w7x[1]):\n",
    "    print(base.current, \" | \", actual.current_to_scale.current * 1e6)\n",
    "    curr_diff.append(actual.current_to_scale.current * 1e6 - base.current)"
   ]
  },
  {
   "cell_type": "code",
   "execution_count": null,
   "metadata": {},
   "outputs": [],
   "source": [
    "curr_diff"
   ]
  },
  {
   "cell_type": "code",
   "execution_count": null,
   "metadata": {},
   "outputs": [],
   "source": [
    "cmap = plt.colormaps['RdBu']\n",
    "norm = plt.Normalize(min(curr_diff), max(curr_diff))\n",
    "colors = cmap(norm(curr_diff))\n",
    "colors = colors[:, :3]"
   ]
  },
  {
   "cell_type": "code",
   "execution_count": null,
   "metadata": {},
   "outputs": [],
   "source": [
    "def rep(data):\n",
    "            if close:\n",
    "                return np.concatenate((data, [data[0]]))\n",
    "            else:\n",
    "                return data"
   ]
  },
  {
   "cell_type": "code",
   "execution_count": null,
   "metadata": {},
   "outputs": [],
   "source": [
    "# Assuming curr_diff is a list of differences in currents\n",
    "# Normalize curr_diff to the range [0, 1] for coloring\n",
    "\n",
    "# Plot the coils\n",
    "for i, coil in enumerate(coils):\n",
    "    c\n",
    "\n",
    "\n",
    "mlab.colorbar(orientation='vertical', title='Current Difference')\n",
    "mlab.show()"
   ]
  },
  {
   "cell_type": "code",
   "execution_count": null,
   "metadata": {},
   "outputs": [],
   "source": [
    "from mayavi import mlab\n",
    "for i, coil in enumerate(coils):\n",
    "    coil.plot(engine=\"mayavi\", show=False, color=tuple(colors[i%7]))\n",
    "\n",
    "# get the current lut manager\n",
    "mlab.colorbar(orientation='vertical', title='Current Difference')\n",
    "mlab.show()"
   ]
  },
  {
   "cell_type": "markdown",
   "metadata": {},
   "source": [
    "#### Poincare"
   ]
  },
  {
   "cell_type": "code",
   "execution_count": null,
   "metadata": {},
   "outputs": [],
   "source": [
    "for coil in coils:\n",
    "    coil.plot(engine=\"mayavi\", show=False)\n",
    "\n",
    "mlab.show()"
   ]
  },
  {
   "cell_type": "code",
   "execution_count": null,
   "metadata": {},
   "outputs": [],
   "source": [
    "phis = [0]    #[(i / 4) * (2 * np.pi / nfp) for i in range(4)]\n",
    "\n",
    "nfieldlines = 1\n",
    "Rs = np.linspace(6.05, 6.2, nfieldlines)\n",
    "Zs = [ma.gamma()[0, 2] for _ in range(nfieldlines)]\n",
    "RZs = np.array([[r, z] for r, z in zip(Rs, Zs)])\n",
    "\n",
    "nfieldlines = 2\n",
    "p1 = np.array([5.6144507858315915, -0.8067790944375764])\n",
    "p2 = np.array([5.78, -0.6])\n",
    "Rs = np.linspace(p1[0], p2[0], nfieldlines)\n",
    "Zs = np.linspace(p1[1], p2[1], nfieldlines)\n",
    "Rs, Zs = np.meshgrid(Rs, Zs)\n",
    "RZs2 = np.array([[r, z] for r, z in zip(Rs.flatten(), Zs.flatten())])\n",
    "\n",
    "RZs = np.concatenate((RZs, RZs2))"
   ]
  },
  {
   "cell_type": "code",
   "execution_count": null,
   "metadata": {},
   "outputs": [],
   "source": [
    "ax.plot(RZs[:, 0], RZs[:, 1], '+')\n",
    "fig"
   ]
  },
  {
   "cell_type": "code",
   "execution_count": null,
   "metadata": {},
   "outputs": [],
   "source": [
    "tys, phis = ho.poincare(bsh, RZs, phis, sc_fieldline, tol = 1e-10, plot=False)"
   ]
  },
  {
   "cell_type": "code",
   "execution_count": null,
   "metadata": {},
   "outputs": [],
   "source": [
    "_, _, fig, ax = ho.poincare(bsh, RZs, phis, sc_fieldline, tol = 1e-10)"
   ]
  },
  {
   "cell_type": "code",
   "execution_count": null,
   "metadata": {},
   "outputs": [],
   "source": [
    "for col in ax[0,0].collections:\n",
    "    col.set_color('black')\n",
    "    col.set_sizes([0.5])"
   ]
  },
  {
   "cell_type": "code",
   "execution_count": null,
   "metadata": {},
   "outputs": [],
   "source": [
    "fig"
   ]
  },
  {
   "cell_type": "code",
   "execution_count": null,
   "metadata": {},
   "outputs": [],
   "source": [
    "# import pickle\n",
    "# pickle.dump(fig, open(\"../output/poincare_GYM000+1750_chaotic_black.pickle\", \"wb\"))"
   ]
  },
  {
   "cell_type": "markdown",
   "metadata": {},
   "source": [
    "#### Finding fix-point"
   ]
  },
  {
   "cell_type": "code",
   "execution_count": null,
   "metadata": {},
   "outputs": [],
   "source": [
    "fig = pickle.load(open(\"../../runs/w7x-gym00-1750/W7X_GYM000-1750_poincare_black.pkl\", \"rb\"))\n",
    "ax = fig.get_axes()[0]\n",
    "plt.show()"
   ]
  },
  {
   "cell_type": "code",
   "execution_count": null,
   "metadata": {},
   "outputs": [],
   "source": [
    "# guess = [5.6, 0.8] # O point\n",
    "guess = [5.7, 0.5] # X point\n",
    "# guess = [5.78, -0.6]\n",
    "ax.scatter(guess[0], guess[1], c='r', s=10)\n",
    "fig"
   ]
  },
  {
   "cell_type": "code",
   "execution_count": null,
   "metadata": {},
   "outputs": [],
   "source": [
    "gamma = ho.trace(ps._mf, 40*2*np.pi, [5.72, 0, 0.68], tol=1e-9)"
   ]
  },
  {
   "cell_type": "code",
   "execution_count": null,
   "metadata": {},
   "outputs": [],
   "source": [
    "from mayavi import mlab\n",
    "for coil in coils:\n",
    "    coil.plot(engine=\"mayavi\", show=False)\n",
    "\n",
    "mlab.plot3d(gamma[0, :], gamma[1, :], gamma[2, :], tube_radius=0.01, color=(0, 0, 1))\n",
    "\n",
    "mlab.show()"
   ]
  },
  {
   "cell_type": "code",
   "execution_count": null,
   "metadata": {},
   "outputs": [],
   "source": [
    "from pyoculus.problems import FixedPoint"
   ]
  },
  {
   "cell_type": "code",
   "execution_count": null,
   "metadata": {},
   "outputs": [],
   "source": [
    "# set up the integrator\n",
    "iparams = dict()\n",
    "iparams[\"rtol\"] = 1e-9\n",
    "\n",
    "pparams = dict()\n",
    "pparams[\"nrestart\"] = 0\n",
    "pparams[\"tol\"] = 1e-18\n",
    "pparams['niter'] = 100\n",
    "\n",
    "fp = FixedPoint(ps, pparams, integrator_params=iparams)"
   ]
  },
  {
   "cell_type": "code",
   "execution_count": null,
   "metadata": {},
   "outputs": [],
   "source": [
    "fp.compute(guess=guess, pp=5, qq=4, sbegin=5.2, send=6.2, checkonly=True)"
   ]
  },
  {
   "cell_type": "code",
   "execution_count": null,
   "metadata": {},
   "outputs": [],
   "source": [
    "results = [list(p) for p in zip(fp.x, fp.y, fp.z)]"
   ]
  },
  {
   "cell_type": "code",
   "execution_count": null,
   "metadata": {},
   "outputs": [],
   "source": [
    "results"
   ]
  },
  {
   "cell_type": "code",
   "execution_count": null,
   "metadata": {},
   "outputs": [],
   "source": [
    "for rr in results:\n",
    "    ax.scatter(rr[0], rr[2], marker=\"X\", edgecolors=\"black\", linewidths=1)\n",
    "fig"
   ]
  },
  {
   "cell_type": "markdown",
   "metadata": {},
   "source": [
    "#### Tracing stable and unstable manifolds"
   ]
  },
  {
   "cell_type": "code",
   "execution_count": null,
   "metadata": {},
   "outputs": [],
   "source": [
    "fig = pickle.load(open(\"../../runs/w7x-gym00-1750/W7X_GYM000-1750_poincare_chaotic_black.pkl\", \"rb\"))\n",
    "ax = fig.get_axes()[0]"
   ]
  },
  {
   "cell_type": "code",
   "execution_count": null,
   "metadata": {},
   "outputs": [],
   "source": [
    "fig.set_size_inches(12, 12)\n",
    "fig"
   ]
  },
  {
   "cell_type": "code",
   "execution_count": null,
   "metadata": {},
   "outputs": [],
   "source": [
    "from pyoculus.solvers import Manifold"
   ]
  },
  {
   "cell_type": "code",
   "execution_count": null,
   "metadata": {},
   "outputs": [],
   "source": [
    "iparam = dict()\n",
    "iparam[\"rtol\"] = 1e-12\n",
    "\n",
    "mp = Manifold(fp, ps, integrator_params=iparam)"
   ]
  },
  {
   "cell_type": "code",
   "execution_count": null,
   "metadata": {},
   "outputs": [],
   "source": [
    "mp.choose(0, 1, [\"u+\",\"s+\"], [1, 1])"
   ]
  },
  {
   "cell_type": "code",
   "execution_count": null,
   "metadata": {},
   "outputs": [],
   "source": [
    "mp.find_epsilon(mp.rfp_s, mp.vector_s, eps_guess = 1e-2, direction=-1)"
   ]
  },
  {
   "cell_type": "code",
   "execution_count": null,
   "metadata": {},
   "outputs": [],
   "source": [
    "mp.compute(nintersect = 6, epsilon= 1e-3, neps = 50)"
   ]
  },
  {
   "cell_type": "code",
   "execution_count": null,
   "metadata": {},
   "outputs": [],
   "source": [
    "mp.plot(ax=ax)"
   ]
  },
  {
   "cell_type": "code",
   "execution_count": null,
   "metadata": {},
   "outputs": [],
   "source": [
    "fig"
   ]
  },
  {
   "cell_type": "code",
   "execution_count": null,
   "metadata": {},
   "outputs": [],
   "source": [
    "mp.find_epsilon(mp.rfp_u, mp.vector_u)"
   ]
  },
  {
   "cell_type": "code",
   "execution_count": null,
   "metadata": {},
   "outputs": [],
   "source": [
    "mp.error_linear_regime(1e-4, mp.rfp_u, mp.vector_u)"
   ]
  },
  {
   "cell_type": "code",
   "execution_count": null,
   "metadata": {},
   "outputs": [],
   "source": [
    "mp.error_linear_regime(1e-4, mp.rfp_s, mp.vector_s, direction=-1)"
   ]
  },
  {
   "cell_type": "code",
   "execution_count": null,
   "metadata": {},
   "outputs": [],
   "source": [
    "mp.integrate_single(mp.rfp_s, 1, -1, ret_jacobian=False)"
   ]
  },
  {
   "cell_type": "code",
   "execution_count": null,
   "metadata": {},
   "outputs": [],
   "source": [
    "mp.integrate_single(mp.rfp_s, 1, -1, ret_jacobian=True)"
   ]
  },
  {
   "cell_type": "code",
   "execution_count": null,
   "metadata": {},
   "outputs": [],
   "source": [
    "eps_s_1, eps_u_1 = mp.find_homoclinic(1e-4, 1e-4, jac=False)"
   ]
  },
  {
   "cell_type": "code",
   "execution_count": null,
   "metadata": {},
   "outputs": [],
   "source": [
    "fund = mp.fundamental_segment\n",
    "guess_i = [fund[0][1]*np.power(mp.lambda_s, 1/4), fund[1][0]*np.power(mp.lambda_u, 1/4)]\n",
    "print(f\"initial guess: {guess_i}\")"
   ]
  },
  {
   "cell_type": "code",
   "execution_count": null,
   "metadata": {},
   "outputs": [],
   "source": [
    "r1 = mp.integrate_single(mp.rfp_u + guess_i[1] * mp.vector_u, 5, ret_jacobian=False)\n",
    "r2 = mp.integrate_single(mp.rfp_s + guess_i[0] * mp.vector_s, 5, -1, ret_jacobian=False)"
   ]
  },
  {
   "cell_type": "code",
   "execution_count": null,
   "metadata": {},
   "outputs": [],
   "source": [
    "ax.scatter(*r1, marker=\"s\", edgecolors=\"black\", linewidths=1)\n",
    "ax.scatter(*r2, marker=\"o\", edgecolors=\"black\", linewidths=1)\n",
    "fig"
   ]
  },
  {
   "cell_type": "code",
   "execution_count": null,
   "metadata": {},
   "outputs": [],
   "source": [
    "mp.error_linear_regime(guess_i[0], mp.rfp_s, mp.vector_s, direction=-1)"
   ]
  },
  {
   "cell_type": "code",
   "execution_count": null,
   "metadata": {},
   "outputs": [],
   "source": [
    "eps_s_i, eps_u_i = mp.find_homoclinic(*guess_i, bounds = fund, n_s = 5, n_u = 5, jac=False)"
   ]
  },
  {
   "cell_type": "code",
   "execution_count": null,
   "metadata": {},
   "outputs": [],
   "source": [
    "marker = [\"P\", \"o\"] #, \"s\", \"p\", \"P\", \"*\", \"X\", \"D\", \"d\", \"^\", \"v\", \"<\", \">\"]\n",
    "for i, clinic in enumerate(mp.clinics):\n",
    "    eps_s_i, eps_u_i = clinic[1:3]\n",
    "\n",
    "    n_u = 8\n",
    "    # hs_i = mp.integrate(mp.rfp_s + eps_s_i * mp.vector_s, n_s, -1)\n",
    "    hu_i = mp.integrate(mp.rfp_u + eps_u_i * mp.vector_u, n_u, 1)\n",
    "    # ax.scatter(hs_i[0,:], hs_i[1,:], marker=marker[i], color=\"purple\", zorder=10)\n",
    "    ax.scatter(hu_i[0,:], hu_i[1,:], marker=marker[i], color=\"royalblue\", edgecolor='cyan', zorder=10)"
   ]
  },
  {
   "cell_type": "code",
   "execution_count": null,
   "metadata": {},
   "outputs": [],
   "source": [
    "fig"
   ]
  },
  {
   "cell_type": "code",
   "execution_count": null,
   "metadata": {},
   "outputs": [],
   "source": [
    "mp.clinics"
   ]
  },
  {
   "cell_type": "code",
   "execution_count": null,
   "metadata": {},
   "outputs": [],
   "source": [
    "ps.A([6.,0.,0.])"
   ]
  },
  {
   "cell_type": "code",
   "execution_count": null,
   "metadata": {},
   "outputs": [],
   "source": [
    "mp.integrate_single(mp.rfp_u, 1, 1, ret_jacobian=False, integrate_A=True)"
   ]
  },
  {
   "cell_type": "code",
   "execution_count": null,
   "metadata": {},
   "outputs": [],
   "source": [
    "mp.resonance_area()"
   ]
  },
  {
   "cell_type": "code",
   "execution_count": null,
   "metadata": {},
   "outputs": [],
   "source": [
    "mp.fundamental_segment"
   ]
  }
 ],
 "metadata": {
  "kernelspec": {
   "display_name": "simsopt",
   "language": "python",
   "name": "python3"
  },
  "language_info": {
   "codemirror_mode": {
    "name": "ipython",
    "version": 3
   },
   "file_extension": ".py",
   "mimetype": "text/x-python",
   "name": "python",
   "nbconvert_exporter": "python",
   "pygments_lexer": "ipython3",
   "version": "3.10.13"
  }
 },
 "nbformat": 4,
 "nbformat_minor": 2
}
