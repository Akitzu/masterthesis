{
 "cells": [
  {
   "cell_type": "code",
   "execution_count": 1,
   "metadata": {},
   "outputs": [],
   "source": [
    "from pyoculus.problems import CylindricalBfield\n",
    "from pyoculus.solvers import PoincarePlot\n",
    "import matplotlib.pyplot as plt\n",
    "import numpy as np"
   ]
  },
  {
   "cell_type": "markdown",
   "metadata": {},
   "source": [
    "### Analytically deriving the toy model and perturbation"
   ]
  },
  {
   "cell_type": "markdown",
   "metadata": {},
   "source": [
    "$$\n",
    "\\text{As}\\quad\\vec{\\nabla}\\cdot\\vec{B} = 0\\quad\\text{it get to}\\quad\\vec{B} = \\vec{\\nabla} \\times \\vec{A}\\quad\\text{thus with}\\quad\\vec{A} = (A_r, A_\\phi, A_z)\\\\\n",
    "$$\n",
    "$$\n",
    "\\vec{B} = (-\\partial_z A_\\phi,\\, \\partial_z A_r - \\partial_r A_z,\\, 1/r\\cdot\\partial_z(r A_\\phi))\n",
    "$$"
   ]
  },
  {
   "cell_type": "code",
   "execution_count": null,
   "metadata": {},
   "outputs": [],
   "source": [
    "import sympy as sp"
   ]
  },
  {
   "cell_type": "code",
   "execution_count": null,
   "metadata": {},
   "outputs": [],
   "source": [
    "r, phi, z, d, m, n, R, sf, shear = sp.symbols('r phi z d m n R sf shear', real=True, positive=True)\n",
    "rr = sp.symbols('rr[0] rr[1] rr[2]')\n",
    "I = sp.I  # Imaginary unit\n",
    "\n",
    "replacement_dict = {r: rr[0], phi: rr[1], z: rr[2], I: 1j}\n",
    "\n",
    "# Define b\n",
    "b = sp.sqrt((R - r)**2 + z**2)\n",
    "\n",
    "# Define Psi\n",
    "Psi = b**2\n",
    "\n",
    "# Define F\n",
    "F = 2 * (sf + shear * b**2) * sp.sqrt(R**2 - b**2)\n",
    "\n",
    "# Define the function\n",
    "psi_mb = sp.sqrt(2/sp.pi) * (b**2/d**3) * sp.exp(-b**2/(2*d**2)) * ((r - R) + I*z)**m * sp.exp(I*n*phi)\n",
    "psi_gaussian = (1/sp.sqrt(2*sp.pi*d**2)) * sp.exp(-b**2/(2*d**2)) * ((r - R) + I*z)**m * sp.exp(I*n*phi)"
   ]
  },
  {
   "cell_type": "code",
   "execution_count": null,
   "metadata": {},
   "outputs": [],
   "source": [
    "psi_mb"
   ]
  },
  {
   "cell_type": "code",
   "execution_count": null,
   "metadata": {},
   "outputs": [],
   "source": [
    "psi_gaussian"
   ]
  },
  {
   "cell_type": "code",
   "execution_count": null,
   "metadata": {},
   "outputs": [],
   "source": [
    "B_equilibrium = sp.Matrix([-1/r * sp.diff(Psi, z), F/r, 1/r * sp.diff(Psi, r)])\n",
    "B_equilibrium"
   ]
  },
  {
   "cell_type": "code",
   "execution_count": null,
   "metadata": {},
   "outputs": [],
   "source": [
    "B_mb = sp.simplify(sp.re(sp.Matrix([-1/r * sp.diff(psi_mb, z), 0, 1/r * sp.diff(psi_mb, r)])))\n",
    "B_gaussian = sp.simplify(sp.re(sp.Matrix([-1/r * sp.diff(psi_gaussian, z), 0, 1/r * sp.diff(psi_gaussian, r)])))"
   ]
  },
  {
   "cell_type": "markdown",
   "metadata": {},
   "source": [
    "Transform the $\\vec{B}$ expressions from `sympy` to actual functions"
   ]
  },
  {
   "cell_type": "code",
   "execution_count": null,
   "metadata": {},
   "outputs": [],
   "source": [
    "temp1 = sp.lambdify((rr, R, sf, shear), B_equilibrium.subs(replacement_dict), 'numpy')\n",
    "toroidal = lambda *args: np.squeeze(temp1(*args))\n",
    "\n",
    "temp2 = sp.lambdify((rr, R, d, m, n), B_mb.subs(replacement_dict), 'numpy')\n",
    "mb_perturbation = lambda *args: np.squeeze(temp2(*args))\n",
    "\n",
    "temp3 = sp.lambdify((rr, R, d, m, n), B_gaussian.subs(replacement_dict), 'numpy')\n",
    "gaussian_perturbation = lambda *args: np.squeeze(temp3(*args))"
   ]
  },
  {
   "cell_type": "code",
   "execution_count": null,
   "metadata": {},
   "outputs": [],
   "source": [
    "B_equilibrium"
   ]
  },
  {
   "cell_type": "markdown",
   "metadata": {},
   "source": [
    "Compute the jacobians"
   ]
  },
  {
   "cell_type": "code",
   "execution_count": null,
   "metadata": {},
   "outputs": [],
   "source": [
    "grad_B_equilibrium = sp.zeros(3)\n",
    "\n",
    "for i in range(3):\n",
    "    grad_B_equilibrium[i, 0] = sp.diff(B_equilibrium[i], r)\n",
    "    grad_B_equilibrium[i, 1] = 1/r * sp.diff(B_equilibrium[i], phi)\n",
    "    grad_B_equilibrium[i, 2] = sp.diff(B_equilibrium[i], z)\n",
    "\n",
    "\n",
    "grad_B_mb = sp.zeros(3)\n",
    "\n",
    "for i in range(3):\n",
    "    grad_B_mb[i, 0] = sp.diff(B_mb[i], r)\n",
    "    grad_B_mb[i, 1] = 1/r * sp.diff(B_mb[i], phi)\n",
    "    grad_B_mb[i, 2] = sp.diff(B_mb[i], z)\n",
    "\n",
    "grad_B_gaussian = sp.zeros(3)\n",
    "\n",
    "for i in range(3):\n",
    "    grad_B_gaussian[i, 0] = sp.diff(B_gaussian[i], r)\n",
    "    grad_B_gaussian[i, 1] = 1/r * sp.diff(B_gaussian[i], phi)\n",
    "    grad_B_gaussian[i, 2] = sp.diff(B_gaussian[i], z)"
   ]
  },
  {
   "cell_type": "code",
   "execution_count": null,
   "metadata": {},
   "outputs": [],
   "source": [
    "grad_B_equilibrium = sp.simplify(grad_B_equilibrium)\n",
    "grad_B_mb = sp.simplify(grad_B_mb)\n",
    "grad_B_gaussian = sp.simplify(grad_B_gaussian)"
   ]
  },
  {
   "cell_type": "markdown",
   "metadata": {},
   "source": [
    "#### Printing in python format"
   ]
  },
  {
   "cell_type": "code",
   "execution_count": null,
   "metadata": {},
   "outputs": [],
   "source": [
    "sp.printing.python(B_gaussian.subs(replacement_dict))"
   ]
  },
  {
   "cell_type": "markdown",
   "metadata": {},
   "source": [
    "### Numerical adventure"
   ]
  },
  {
   "cell_type": "code",
   "execution_count": 30,
   "metadata": {},
   "outputs": [],
   "source": [
    "import sys\n",
    "import os\n",
    "sys.path.append('..')\n",
    "\n",
    "from toybox import *"
   ]
  },
  {
   "cell_type": "code",
   "execution_count": 3,
   "metadata": {},
   "outputs": [],
   "source": [
    "def gaussian_psi(rr, R=3.0, d=0.1, m=2, n=1):\n",
    "    return ((rr[0] - R + rr[2]*1j)**m)*np.exp(-0.5*((-rr[0] + R)**2 + rr[2]**2)/d**2 + 1j*n*0)/(np.sqrt(d**2)*np.sqrt(2*np.pi))\n",
    "\n",
    "def mb_psi(rr, R=3.0, d=0.1, m=2, n=1):\n",
    "    return np.exp(-0.5*((-rr[0] + R)**2 + rr[2]**2)/d**2 + n*rr[1]*1j)*np.sqrt(2/np.pi)*(rr[0] - R + rr[2]*1j)**m*((-rr[0] + R)**2 + rr[2]**2)/d**3"
   ]
  },
  {
   "cell_type": "code",
   "execution_count": 75,
   "metadata": {},
   "outputs": [],
   "source": [
    "import jax.numpy as jnp\n",
    "from jax import jacfwd\n",
    "from functools import partial\n",
    "\n",
    "PERT_TYPES_DICT = {\"maxwell-boltzmann\": pert_maxwellboltzmann, \"gaussian\": pert_gaussian}\n",
    "\n",
    "class AnalyticCylindricalBfield(CylindricalBfield):\n",
    "    \"\"\"\n",
    "    \n",
    "    \"\"\"\n",
    "    def __init__(\n",
    "        self,\n",
    "        R,\n",
    "        sf,\n",
    "        shear,\n",
    "        perturbations_args\n",
    "    ):\n",
    "        \"\"\"\n",
    "        pert1_dict = {m:1, n:2, d:1, type: \"maxwell-boltzmann\", amplitude: 10}\n",
    "        pert2_dict = {m:1, n:2, d:1, type: \"gaussian\", amplitude: 10}\n",
    "        myBfield = AnalyticalBfieldProblem(R= 3, sf = 1.1, shear=3 pert=[pert1_dict, pert2_dict])\n",
    "        myBfield.pert_list[0](rphiz)\n",
    "        >> value\n",
    "        \"\"\"\n",
    "\n",
    "        # Define the equilibrium field and its gradient\n",
    "        self.B_equilibrium = partial(equ_squared, R=R, sf=sf, shear=shear)\n",
    "        self.dBdX_equilibrium = lambda rr: jacfwd(self.B_equilibrium)(rr)\n",
    "\n",
    "        # Define the perturbations and their gradients\n",
    "        self._perturbations = [None] * len(perturbations_args)\n",
    "        for pertdic in perturbations_args:\n",
    "            pertdic.update({\"R\": R})\n",
    "\n",
    "        self.perturbations_args = perturbations_args\n",
    "        self._initialize_perturbations()\n",
    "\n",
    "        # Call the CylindricalBfield constructor that needs (R,Z) of the axis \n",
    "        super().__init__(R, 0)\n",
    "\n",
    "    @property\n",
    "    def amplitudes(self):\n",
    "        return [pert[\"amplitude\"] for pert in self.perturbations_args]\n",
    "    \n",
    "    @amplitudes.setter\n",
    "    def amplitudes(self, value):\n",
    "        self.amplitudes = value\n",
    "        self._initialize_perturbations()\n",
    "\n",
    "    def set_amplitude(self, index, value):\n",
    "        self.amplitudes[index] = value\n",
    "        self._initialize_perturbations(index)\n",
    "\n",
    "    def _initialize_perturbations(self, index = None):\n",
    "        if index is not None:\n",
    "            indices = [index]\n",
    "        else:\n",
    "            indices = range(len(self.perturbations_args))\n",
    "\n",
    "        for i in indices:\n",
    "            tmp_args = self.perturbations_args[i].copy()\n",
    "            tmp_args.pop(\"amplitude\")\n",
    "            tmp_args.pop(\"type\")\n",
    "\n",
    "            self._perturbations[i] = partial(PERT_TYPES_DICT[self.perturbations_args[i][\"type\"]], **tmp_args)\n",
    "        \n",
    "        self.B_perturbation = lambda rr: jnp.sum(jnp.array([pertdic[\"amplitude\"] * self._perturbations[i](rr) for i, pertdic in enumerate(self.perturbations_args)]), axis=0)\n",
    "        self.dBdX_perturbation = lambda rr: jacfwd(self.B_perturbation)(rr)\n",
    "\n",
    "    @property\n",
    "    def perturbations(self):\n",
    "        return [lambda rr: pertdic[\"amplitude\"] * self._perturbations[i](rr) for i, pertdic in enumerate(self.perturbations_args)]\n",
    "\n",
    "    # BfieldProblem methods implementation \n",
    "    def B(self, rr):\n",
    "        return self.B_equilibrium(rr) + self.B_perturbation(rr)\n",
    "\n",
    "    def dBdX(self, rr):\n",
    "        return self.dBdX_equilibrium(rr) + self.dBdX_perturbation(rr)\n",
    "\n",
    "    # def B_many(self, r, phi, z, input1D=True):\n",
    "    #     return jnp.array([self.B([r[i], phi[i], z[i]]) for i in range(len(r))])\n",
    "\n",
    "    # def dBdX_many(self, r, phi, z, input1D=True):\n",
    "    #     return jnp.array([self.dBdX([r[i], phi[i], z[i]]) for i in range(len(r))])\n"
   ]
  },
  {
   "cell_type": "code",
   "execution_count": 76,
   "metadata": {},
   "outputs": [],
   "source": [
    "pert_1 = {\"m\": 1, \"n\": -1, \"d\": 1, \"type\": \"maxwell-boltzmann\", \"amplitude\": 0.2}\n",
    "pert_2 = {\"m\": 1, \"n\": 0, \"d\": 1, \"type\": \"gaussian\", \"amplitude\": -1.5}\n",
    "\n",
    "ps = AnalyticCylindricalBfield(3, 3/3, 0.7/3, [pert_1, pert_2])"
   ]
  },
  {
   "cell_type": "code",
   "execution_count": 77,
   "metadata": {},
   "outputs": [
    {
     "data": {
      "text/plain": [
       "[0.2, -1.5]"
      ]
     },
     "execution_count": 77,
     "metadata": {},
     "output_type": "execute_result"
    }
   ],
   "source": [
    "ps.amplitudes"
   ]
  },
  {
   "cell_type": "code",
   "execution_count": 79,
   "metadata": {},
   "outputs": [
    {
     "data": {
      "text/plain": [
       "Array([0.03373277, 0.        , 0.16395476], dtype=float32)"
      ]
     },
     "execution_count": 79,
     "metadata": {},
     "output_type": "execute_result"
    }
   ],
   "source": [
    "jnp.sum(jnp.array([pertdic[\"amplitude\"] * ps._perturbations[i]([1,1,1]) for i, pertdic in enumerate(ps.perturbations_args)]), axis=0)"
   ]
  },
  {
   "cell_type": "code",
   "execution_count": 80,
   "metadata": {},
   "outputs": [
    {
     "data": {
      "text/plain": [
       "Array([ 0.09824152, -0.        ,  0.14736232], dtype=float32)"
      ]
     },
     "execution_count": 80,
     "metadata": {},
     "output_type": "execute_result"
    }
   ],
   "source": [
    "ps.perturbations[0]([1,1,1])"
   ]
  },
  {
   "cell_type": "code",
   "execution_count": 81,
   "metadata": {},
   "outputs": [
    {
     "data": {
      "text/plain": [
       "Array([0.03373277, 0.        , 0.16395476], dtype=float32)"
      ]
     },
     "execution_count": 81,
     "metadata": {},
     "output_type": "execute_result"
    }
   ],
   "source": [
    "ps.B_perturbation([1, 1, 1])"
   ]
  },
  {
   "cell_type": "code",
   "execution_count": 82,
   "metadata": {},
   "outputs": [
    {
     "data": {
      "text/plain": [
       "Array([-1.9662672,  8.666666 , -3.8360453], dtype=float32)"
      ]
     },
     "execution_count": 82,
     "metadata": {},
     "output_type": "execute_result"
    }
   ],
   "source": [
    "ps.B([1, 1, 1])"
   ]
  },
  {
   "cell_type": "code",
   "execution_count": null,
   "metadata": {},
   "outputs": [],
   "source": [
    "def perturbation(rr, R, d, m, n):\n",
    "    return -15*tb.pert_gaussian(rr, R, 1., 1, 0) + 2*tb.pert_maxwellboltzmann(rr, R, 1, 1, -1)\n",
    "\n",
    "def perturbation_dBdX(rr, R, d, m, n):\n",
    "    return tb.pert_gaussian_dBdX(rr, R, 0.1, 1, 0).reshape(3,3) + tb.pert_maxwellboltzmann_dBdX(rr, R, d, m, n).reshape(3,3)\n",
    "\n",
    "# def perturbation(rr, R, d, m, n):\n",
    "#     return tb.pert_gaussian(rr, R, 0.1, 1, 0)\n",
    "\n",
    "# def perturbation_dBdX(rr, R, d, m, n):\n",
    "#     return tb.pert_gaussian_dBdX(rr, R, 0.1, 1, 0).reshape(3,3)\n",
    "\n",
    "# def perturbation(rr, R, d, m, n):\n",
    "#     return tb.pert_maxwellboltzmann(rr, R, d, m, n) \n",
    "\n",
    "# def perturbation_dBdX(rr, R, d, m, n):\n",
    "#     return tb.pert_maxwellboltzmann_dBdX(rr, R, d, m, n).reshape(3,3)\n",
    "\n",
    "# def perturbation(rr, R, d, m, n):\n",
    "#     return tb.pert_gaussian(rr, R, d, m, n)\n",
    "\n",
    "# def perturbation_dBdX(rr, R, d, m, n):\n",
    "#     return tb.pert_gaussian_dBdX(rr, R, d, m, n).reshape(3,3)\n",
    "\n",
    "equ_args = {\n",
    "    \"R\": 3.0,\n",
    "    \"shear\": 3/3,\n",
    "    \"sf\": 0.7/3,\n",
    "}\n",
    "\n",
    "pert_args = {\n",
    "    \"R\": 3.0,\n",
    "    \"d\": 1,\n",
    "    \"m\": 2,\n",
    "    \"n\": -1,\n",
    "}\n",
    "\n",
    "ps = tb.AnalyticCylindricalBfield([tb.equ_squared, tb.equ_squared_dBdX], [perturbation, perturbation_dBdX], A_p=0.1, equilibrium_args=equ_args, perturbation_args=pert_args)"
   ]
  },
  {
   "cell_type": "code",
   "execution_count": null,
   "metadata": {},
   "outputs": [],
   "source": [
    "fig, axs = plt.subplots(1,4, figsize=(20, 5))\n",
    "\n",
    "r = np.linspace(2, 5, 200)\n",
    "z = np.linspace(-2, 2, 200)\n",
    "\n",
    "R, Z = np.meshgrid(r, z)\n",
    "Bs = np.array([ps.B([r, 0.0, z]) for r, z in zip(R.flatten(), Z.flatten())]).reshape(\n",
    "    R.shape + (3,)\n",
    ")\n",
    "mappable = axs[2].contourf(R, Z, np.linalg.norm(Bs, axis=2))\n",
    "fig.colorbar(mappable)\n",
    "\n",
    "Bs = np.array([ps.B_equilibrium([r, 0.0, z]) for r, z in zip(R.flatten(), Z.flatten())]).reshape(\n",
    "    R.shape + (3,)\n",
    ")\n",
    "mappable = axs[3].contourf(R, Z, np.linalg.norm(Bs, axis=2))\n",
    "fig.colorbar(mappable)\n",
    "\n",
    "r = np.linspace(2, 5, 80)\n",
    "z = np.linspace(-2, 2, 100)\n",
    "\n",
    "R, Z = np.meshgrid(r, z)\n",
    "Bs = np.array([ps._A_p*ps.B_perturbation([r, 0.0, z]) for r, z in zip(R.flatten(), Z.flatten())]).reshape(\n",
    "    R.shape + (3,)\n",
    ")\n",
    "mappable = axs[1].contourf(R, Z, np.linalg.norm(Bs, axis=2))\n",
    "fig.colorbar(mappable)\n",
    "\n",
    "psi = np.array([mb_psi([r, 0.0, z], ps.perturbation_args['R'], ps.perturbation_args['d'], ps.perturbation_args['m'], ps.perturbation_args['n']) for r, z in zip(R.flatten(), Z.flatten())]).reshape(\n",
    "    R.shape\n",
    ")\n",
    "psi = np.real(psi)\n",
    "mappable = axs[0].contourf(R, Z, psi)\n",
    "axs[0].quiver(R, Z, Bs[:, :, 0], Bs[:, :, 2])\n",
    "# fig.colorbar(mappable)\n",
    "\n",
    "# Set the aspect equal\n",
    "for ax in axs:\n",
    "    ax.set_aspect(\"equal\")\n",
    "    ax.scatter(ps._R0, 0, color=\"r\", s=1)\n",
    "\n",
    "# Add circle to the plot\n",
    "# crop_circle(ps._R0, ps._d, ax, color='r')\n",
    "# crop_circle(ps._R0, np.sqrt(2)*ps._d, ax, color='r')"
   ]
  },
  {
   "cell_type": "code",
   "execution_count": null,
   "metadata": {},
   "outputs": [],
   "source": [
    "# set up the integrator\n",
    "iparams = dict()\n",
    "iparams[\"rtol\"] = 1e-7\n",
    "\n",
    "# set up the Poincare plot\n",
    "pparams = dict()\n",
    "pparams[\"Rbegin\"] = 2.98\n",
    "pparams[\"Rend\"] = 3.6\n",
    "pparams[\"nPtrj\"] = 20\n",
    "pparams[\"nPpts\"] = 500\n",
    "pparams[\"zeta\"] = 0\n",
    "\n",
    "# Set RZs\n",
    "nfieldlines = pparams[\"nPtrj\"]+1\n",
    "Rs = np.linspace(3.0, 3.75, nfieldlines)\n",
    "Zs = np.linspace(0., 0., nfieldlines)\n",
    "RZs = np.array([[r, z] for r, z in zip(Rs, Zs)])\n",
    "\n",
    "pplot = PoincarePlot(ps, pparams, integrator_params=iparams)\n",
    "pdata = pplot.compute(RZs)\n",
    "# pdata = pplot.compute()"
   ]
  },
  {
   "cell_type": "code",
   "execution_count": null,
   "metadata": {},
   "outputs": [],
   "source": [
    "pplot.plot(marker=\".\", s=1)\n",
    "plt.xlim(2.6, 3.5)\n",
    "plt.scatter(ps._R0, 0, color=\"r\", s=4)\n",
    "fig = plt.gcf()"
   ]
  },
  {
   "cell_type": "code",
   "execution_count": null,
   "metadata": {},
   "outputs": [],
   "source": [
    "pplot.compute_iota()\n",
    "pplot.plot_q()\n",
    "\n",
    "plt.hlines(np.abs(ps.perturbation_args['m']/ps.perturbation_args['n']), 3, 4, color=\"k\", linestyle=\"--\")\n",
    "# plt.hlines(ps._n/ps._m, 3, 3.7, color=\"k\", linestyle=\"--\")\n",
    "\n",
    "# rho = np.linspace(3.001, 3.7, 20)\n",
    "# q=ps._sf+ps._shear*(ps._R0-rho)**2\n",
    "\n",
    "# plt.plot(rho, q, color=\"orange\", linestyle=\"--\")"
   ]
  },
  {
   "cell_type": "code",
   "execution_count": null,
   "metadata": {},
   "outputs": [],
   "source": [
    "from pyoculus.solvers import FixedPoint\n",
    "\n",
    "# set up the integrator\n",
    "iparams = dict()\n",
    "iparams[\"rtol\"] = 1e-22\n",
    "\n",
    "pparams = dict()\n",
    "pparams[\"nrestart\"] = 0\n",
    "pparams['niter'] = 200\n",
    "\n",
    "fp = FixedPoint(ps, pparams, integrator_params=iparams)\n",
    "\n",
    "# fp.compute(guess=[3.5, 0], pp=1, qq=2, sbegin=2, send=4, tol = 1e-12)\n",
    "fp.compute(guess=[3., -0.6], pp=1, qq=2, sbegin=2, send=4, tol = 1e-12)"
   ]
  },
  {
   "cell_type": "code",
   "execution_count": null,
   "metadata": {},
   "outputs": [],
   "source": [
    "results = [list(p) for p in zip(fp.x, fp.y, fp.z)]\n",
    "results"
   ]
  },
  {
   "cell_type": "code",
   "execution_count": null,
   "metadata": {},
   "outputs": [],
   "source": [
    "ax = fig.get_axes()[0]\n",
    "ax.scatter(results[0][0], results[0][2], color=\"b\", s=5, marker=\"X\") \n",
    "ax.scatter(results[1][0], results[1][2], color=\"b\", s=5, marker=\"X\")\n",
    "fig"
   ]
  },
  {
   "cell_type": "markdown",
   "metadata": {},
   "source": [
    "## with ivp"
   ]
  },
  {
   "cell_type": "code",
   "execution_count": null,
   "metadata": {},
   "outputs": [],
   "source": [
    "from scipy.integrate import solve_ivp"
   ]
  },
  {
   "cell_type": "code",
   "execution_count": null,
   "metadata": {},
   "outputs": [],
   "source": [
    "def integrate_ivp(Bfield_2D, RZstart, phis, **kwargs):\n",
    "    options = {\n",
    "        \"rtol\": 1e-7,\n",
    "        \"atol\": 1e-9,\n",
    "        \"nintersect\": 400,\n",
    "        \"method\": \"DOP853\",\n",
    "        \"direction\": 1,\n",
    "        \"m\": 1,\n",
    "        \"nfp\": 1,\n",
    "    }\n",
    "    options.update(kwargs)\n",
    "\n",
    "    assert RZstart.shape[1] == 2, \"RZstart must be a 2D array with shape (n, 2)\"\n",
    "    assert len(phis) > 0, \"phis must be a list of floats with at least one element\"\n",
    "    assert isinstance(options[\"nintersect\"], int) and options[\"nintersect\"] > 0, \"nintersect must be a positive integer\"\n",
    "    assert options[\"direction\"] in [-1, 1], \"direction must be either -1 or 1\"\n",
    "    \n",
    "    # setup the phis of the poincare sections\n",
    "    phis = np.unique(np.mod(phis, 2 * np.pi / options['nfp']))\n",
    "    phis.sort()\n",
    "\n",
    "    # setup the evaluation points for those sections\n",
    "    phi_evals = np.array(\n",
    "        [\n",
    "            phis + options['m'] * 2 * np.pi * i / options['nfp']\n",
    "            for i in range(options[\"nintersect\"] + 1)\n",
    "        ]\n",
    "    )\n",
    "\n",
    "    out = solve_ivp(\n",
    "        Bfield_2D,\n",
    "        [0, phi_evals[-1, -1]],\n",
    "        RZstart.flatten(),\n",
    "        t_eval=phi_evals.flatten(),\n",
    "        method=options[\"method\"],\n",
    "        atol=options[\"atol\"],\n",
    "        rtol=options[\"rtol\"],\n",
    "    )\n",
    "\n",
    "    return out"
   ]
  },
  {
   "cell_type": "code",
   "execution_count": null,
   "metadata": {},
   "outputs": [],
   "source": [
    "def Bfield_2D(t, rzs, direction = 1):\n",
    "    rzs = rzs.reshape((-1, 2))\n",
    "    phis = direction*(t % (2 * np.pi)) * np.ones(rzs.shape[0])\n",
    "    Bs = np.array([ps.B([rzs[i, 0], phis[i], rzs[i, 1]]) for i in range(len(rzs))])\n",
    "\n",
    "    return np.array([Bs[:,0]/Bs[:,1], Bs[:,2]/Bs[:,1]]).T.flatten()"
   ]
  },
  {
   "cell_type": "code",
   "execution_count": null,
   "metadata": {},
   "outputs": [],
   "source": [
    "nfieldlines = 1\n",
    "Rs = np.linspace(3, 3, nfieldlines)\n",
    "Zs = np.linspace(0.01, 0.5, nfieldlines)\n",
    "RZs = np.array([[r, z] for r, z in zip(Rs, Zs)])"
   ]
  },
  {
   "cell_type": "code",
   "execution_count": null,
   "metadata": {},
   "outputs": [],
   "source": [
    "out = integrate_ivp(Bfield_2D, RZs, [0])"
   ]
  },
  {
   "cell_type": "code",
   "execution_count": null,
   "metadata": {},
   "outputs": [],
   "source": [
    "ys = out.y.reshape(nfieldlines, 2, -1)\n",
    "for yy in ys:\n",
    "    plt.scatter(yy[0, :], yy[1, :], s=10, marker=\".\")"
   ]
  },
  {
   "cell_type": "markdown",
   "metadata": {},
   "source": [
    "## The tokamap"
   ]
  },
  {
   "cell_type": "code",
   "execution_count": null,
   "metadata": {},
   "outputs": [],
   "source": [
    "def P(psi, theta, K):\n",
    "    return psi - 1 - K/(2*np.pi) * np.sin(2*np.pi*theta)\n",
    "\n",
    "def W(psi, w):\n",
    "    return w/4*(2-psi)*(2-2*psi+psi**2)"
   ]
  },
  {
   "cell_type": "code",
   "execution_count": null,
   "metadata": {},
   "outputs": [],
   "source": [
    "def tokamap(psi, theta, K, w):\n",
    "    p = P(psi, theta, K)\n",
    "    psi_evolved = 0.5*(p + np.sqrt(p**2 + 4*psi))\n",
    "    theta_evolved = theta + W(psi_evolved, w) - K/((2*np.pi)**2)/((1+psi_evolved)**2)*np.cos(2*np.pi*theta)\n",
    "    return np.array([\n",
    "        psi_evolved,\n",
    "        theta_evolved % 1\n",
    "    ])"
   ]
  },
  {
   "cell_type": "code",
   "execution_count": null,
   "metadata": {},
   "outputs": [],
   "source": [
    "x = np.array([0., 0.5])"
   ]
  },
  {
   "cell_type": "code",
   "execution_count": null,
   "metadata": {},
   "outputs": [],
   "source": [
    "x = tokamap(x[0], x[1], 3.7, 1.)\n",
    "print(x)"
   ]
  },
  {
   "cell_type": "code",
   "execution_count": null,
   "metadata": {},
   "outputs": [],
   "source": [
    "xi = np.linspace(0, 1, 7)\n",
    "Xi = np.meshgrid(xi, xi)\n",
    "Xi = np.array(Xi).reshape(2, -1)"
   ]
  },
  {
   "cell_type": "code",
   "execution_count": null,
   "metadata": {},
   "outputs": [],
   "source": [
    "nev = 1000\n",
    "Ev = np.empty((Xi.shape[0], Xi.shape[1], nev))"
   ]
  },
  {
   "cell_type": "code",
   "execution_count": null,
   "metadata": {},
   "outputs": [],
   "source": [
    "K = 3.7\n",
    "w = 1.0\n",
    "\n",
    "for i, x in enumerate(Xi.T):\n",
    "    Ev[:, i, 0] = x\n",
    "    xt = x.copy()\n",
    "    for j in range(nev-1):\n",
    "        xt = tokamap(xt[0], xt[1], K, w)\n",
    "        Ev[:, i, j+1] = xt"
   ]
  },
  {
   "cell_type": "code",
   "execution_count": null,
   "metadata": {},
   "outputs": [],
   "source": [
    "for i in range(len(Ev[0,:,0])):\n",
    "    plt.scatter(Ev[1, i, :], Ev[0, i, :], s=0.5, alpha=0.5)"
   ]
  },
  {
   "cell_type": "code",
   "execution_count": null,
   "metadata": {},
   "outputs": [],
   "source": []
  }
 ],
 "metadata": {
  "kernelspec": {
   "display_name": "simsopt",
   "language": "python",
   "name": "python3"
  },
  "language_info": {
   "codemirror_mode": {
    "name": "ipython",
    "version": 3
   },
   "file_extension": ".py",
   "mimetype": "text/x-python",
   "name": "python",
   "nbconvert_exporter": "python",
   "pygments_lexer": "ipython3",
   "version": "3.10.13"
  }
 },
 "nbformat": 4,
 "nbformat_minor": 2
}
