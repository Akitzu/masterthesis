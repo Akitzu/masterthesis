{
 "cells": [
  {
   "cell_type": "markdown",
   "metadata": {},
   "source": [
    "### Analytically deriving the toy model and perturbation"
   ]
  },
  {
   "cell_type": "markdown",
   "metadata": {},
   "source": [
    "$$\n",
    "\\text{As}\\quad\\vec{\\nabla}\\cdot\\vec{B} = 0\\quad\\text{it get to}\\quad\\vec{B} = \\vec{\\nabla} \\times \\vec{A}\\quad\\text{thus with}\\quad\\vec{A} = (A_r, A_\\phi, A_z)\\\\\n",
    "$$\n",
    "$$\n",
    "\\vec{B} = (-\\partial_z A_\\phi,\\, \\partial_z A_r - \\partial_r A_z,\\, 1/r\\cdot\\partial_z(r A_\\phi))\n",
    "$$"
   ]
  },
  {
   "cell_type": "code",
   "execution_count": null,
   "metadata": {},
   "outputs": [],
   "source": [
    "import sympy as sp\n",
    "import numpy as np"
   ]
  },
  {
   "cell_type": "code",
   "execution_count": null,
   "metadata": {},
   "outputs": [],
   "source": [
    "r, phi, z, d, m, n, R, Z, sf, shear = sp.symbols('r phi z d m n R Z sf shear', real=True, positive=True)\n",
    "rr = sp.symbols('rr[0] rr[1] (rr[2] - Z)')\n",
    "I = sp.I  # Imaginary unit\n",
    "\n",
    "replacement_dict = {r: rr[0], phi: rr[1], z: (rr[2] - Z), I: 1j}\n",
    "\n",
    "# Define b\n",
    "b = sp.sqrt((R - r)**2 + (Z-z)**2)\n",
    "\n",
    "# Define Psi\n",
    "Psi = b**2\n",
    "\n",
    "# Define b_e\n",
    "A, B = sp.symbols('A B', real=True, positive=True)\n",
    "b_elliptic = sp.sqrt((R - r)**2/A**2 + (Z-z)**2/B**2)\n",
    "\n",
    "# Define Psi_e\n",
    "Psi_elliptic = b_elliptic**2\n",
    "\n",
    "# Define F\n",
    "F = 2 * (sf + shear * b**2) * sp.sqrt(R**2 - b**2)\n",
    "F_elliptic = 2 * (sf + shear * b_elliptic**2) * sp.sqrt(R**2 - b_elliptic**2)\n",
    "\n",
    "# Define the function\n",
    "psi_mb = sp.sqrt(2/sp.pi) * (b**2/d**3) * sp.exp(-b**2/(2*d**2)) * ((r - R) + I*(z-Z))**m * sp.exp(I*n*phi)\n",
    "psi_gaussian = (1/sp.sqrt(2*sp.pi*d**2)) * sp.exp(-b**2/(2*d**2)) * ((r - R) + I*(z-Z))**m * sp.exp(I*n*phi)"
   ]
  },
  {
   "cell_type": "code",
   "execution_count": null,
   "metadata": {},
   "outputs": [],
   "source": [
    "Psi_elliptic"
   ]
  },
  {
   "cell_type": "code",
   "execution_count": null,
   "metadata": {},
   "outputs": [],
   "source": [
    "F"
   ]
  },
  {
   "cell_type": "code",
   "execution_count": null,
   "metadata": {},
   "outputs": [],
   "source": [
    "psi_mb"
   ]
  },
  {
   "cell_type": "code",
   "execution_count": null,
   "metadata": {},
   "outputs": [],
   "source": [
    "psi_gaussian"
   ]
  },
  {
   "cell_type": "code",
   "execution_count": null,
   "metadata": {},
   "outputs": [],
   "source": [
    "B_equilibrium = sp.Matrix([-1/r * sp.diff(Psi, z), F/r, 1/r * sp.diff(Psi, r)])\n",
    "B_equilibrium"
   ]
  },
  {
   "cell_type": "code",
   "execution_count": null,
   "metadata": {},
   "outputs": [],
   "source": [
    "B_equilibrium_elliptic = sp.Matrix([-1/r * sp.diff(Psi_elliptic, z), F_elliptic/r, 1/r * sp.diff(Psi_elliptic, r)])\n",
    "B_equilibrium_elliptic"
   ]
  },
  {
   "cell_type": "code",
   "execution_count": null,
   "metadata": {},
   "outputs": [],
   "source": [
    "B1 = B_equilibrium.subs({R: 3, Z: 0, sf: 0.91, shear: 0.7})\n",
    "B2 = B_equilibrium.subs({R: 3, Z: -5, sf: 0.91, shear: 0.7})\n",
    "B = sp.simplify(B1 + B2)"
   ]
  },
  {
   "cell_type": "code",
   "execution_count": null,
   "metadata": {},
   "outputs": [],
   "source": [
    "B"
   ]
  },
  {
   "cell_type": "code",
   "execution_count": null,
   "metadata": {},
   "outputs": [],
   "source": [
    "B_mb = sp.simplify(sp.re(sp.Matrix([-1/r * sp.diff(psi_mb, z), 0, 1/r * sp.diff(psi_mb, r)])))\n",
    "B_gaussian = sp.simplify(sp.re(sp.Matrix([-1/r * sp.diff(psi_gaussian, z), 0, 1/r * sp.diff(psi_gaussian, r)])))"
   ]
  },
  {
   "cell_type": "markdown",
   "metadata": {},
   "source": [
    "##### Calculating the q-profile"
   ]
  },
  {
   "cell_type": "code",
   "execution_count": null,
   "metadata": {},
   "outputs": [],
   "source": [
    "a, theta = sp.symbols('a theta', real=True, positive=True)\n",
    "\n",
    "B_r = B_equilibrium[0]\n",
    "B_z = B_equilibrium[2]\n",
    "B_phi = B_equilibrium[1]\n",
    "\n",
    "B_pol = sp.cos(theta)*B_z - sp.sin(theta)*B_r"
   ]
  },
  {
   "cell_type": "code",
   "execution_count": null,
   "metadata": {},
   "outputs": [],
   "source": [
    "totor = {r: R+a*sp.cos(theta), z: Z+a*sp.sin(theta)}\n",
    "\n",
    "B_pol = sp.simplify(B_pol.subs(totor))\n",
    "B_pol"
   ]
  },
  {
   "cell_type": "code",
   "execution_count": null,
   "metadata": {},
   "outputs": [],
   "source": [
    "B_phi = sp.simplify(B_phi.subs(totor))\n",
    "B_phi"
   ]
  },
  {
   "cell_type": "code",
   "execution_count": null,
   "metadata": {},
   "outputs": [],
   "source": [
    "rho = sp.symbols('rho', real=True, positive=True)\n",
    "(a*B_phi/((R+a*sp.cos(theta))*B_pol)).subs({R: a+rho})"
   ]
  },
  {
   "cell_type": "code",
   "execution_count": null,
   "metadata": {},
   "outputs": [],
   "source": [
    "sp.integrate(1/(R+a*sp.cos(theta)), (theta, 0, 2*sp.pi), )"
   ]
  },
  {
   "cell_type": "code",
   "execution_count": null,
   "metadata": {},
   "outputs": [],
   "source": [
    "q = 1/(2*sp.pi) * sp.integrate(a*B_phi/((R+a*sp.cos(theta))*B_pol), (theta, 0, 2*sp.pi))\n",
    "q"
   ]
  },
  {
   "cell_type": "markdown",
   "metadata": {},
   "source": [
    "##### Transform the $\\vec{B}$ expressions from `sympy` to actual functions in python format"
   ]
  },
  {
   "cell_type": "code",
   "execution_count": null,
   "metadata": {},
   "outputs": [],
   "source": [
    "sp.printing.python(B_equilibrium.subs(replacement_dict))"
   ]
  },
  {
   "cell_type": "code",
   "execution_count": null,
   "metadata": {},
   "outputs": [],
   "source": [
    "sp.printing.python(B_equilibrium_elliptic.subs(replacement_dict))"
   ]
  },
  {
   "cell_type": "code",
   "execution_count": null,
   "metadata": {},
   "outputs": [],
   "source": [
    "sp.printing.python(B_mb.subs(replacement_dict))"
   ]
  },
  {
   "cell_type": "code",
   "execution_count": null,
   "metadata": {},
   "outputs": [],
   "source": [
    "sp.printing.python(B_gaussian.subs(replacement_dict))"
   ]
  },
  {
   "cell_type": "markdown",
   "metadata": {},
   "source": [
    "### Numerical adventure"
   ]
  },
  {
   "cell_type": "code",
   "execution_count": 2,
   "metadata": {},
   "outputs": [],
   "source": [
    "from pyoculus.problems import CylindricalBfield\n",
    "from pyoculus.solvers import PoincarePlot\n",
    "import matplotlib.pyplot as plt\n",
    "import numpy as np"
   ]
  },
  {
   "cell_type": "code",
   "execution_count": 3,
   "metadata": {},
   "outputs": [],
   "source": [
    "import sys\n",
    "import os\n",
    "sys.path.append('..')\n",
    "\n",
    "from toybox import *"
   ]
  },
  {
   "cell_type": "markdown",
   "metadata": {},
   "source": [
    "#### Equilibrium and creating single null configuration"
   ]
  },
  {
   "cell_type": "code",
   "execution_count": 9,
   "metadata": {},
   "outputs": [],
   "source": [
    "Equ2 = {\"type\": \"squared-circle\", \"amplitude\": 1, \"R\": 3, \"Z\": -1, \"sf\": 0.91, \"shear\": 0.7}\n",
    "Equ3 = {\"type\": \"circular-current-loop\", \"amplitude\": -1, \"R\": 3, \"Z\": -1.5, \"gamma\": 1}\n",
    "\n",
    "# ps = AnalyticCylindricalBfield.find_axis(3, 0, 0.91, 0.7, perturbations_args = [Equ3], Rbegin = 1, Rend = 5, niter = 800, guess=[3.,-0.1],  tol = 1e-9)\n",
    "ps = AnalyticCylindricalBfield(3, 0, 0.91, 0.7, perturbations_args = [Equ3])"
   ]
  },
  {
   "cell_type": "code",
   "execution_count": 10,
   "metadata": {},
   "outputs": [
    {
     "data": {
      "text/plain": [
       "<matplotlib.collections.LineCollection at 0x1f618971c00>"
      ]
     },
     "execution_count": 10,
     "metadata": {},
     "output_type": "execute_result"
    },
    {
     "data": {
      "image/png": "[encoded data removed]",
      "text/plain": [
       "<Figure size 640x480 with 1 Axes>"
      ]
     },
     "metadata": {},
     "output_type": "display_data"
    }
   ],
   "source": [
    "import matplotlib.pyplot as plt\n",
    "fig, ax = plt.subplots()\n",
    "\n",
    "zs = np.linspace(-5, 5, 100)\n",
    "Brs = [ps.B([3., 0., z])[0] for z in zs]\n",
    "ax.plot(Brs, zs)\n",
    "\n",
    "# pt = ps.perturbations[0]\n",
    "# Brps = [pt([3., 0., z])[0] for z in zs]\n",
    "# ax.plot(Brps, zs, alpha=0.5)\n",
    "\n",
    "ax.vlines(0, -5, 5, color='k', linestyle='--')\n",
    "ax.hlines(0, -2, 2, color='k', linestyle='--')"
   ]
  },
  {
   "cell_type": "code",
   "execution_count": null,
   "metadata": {},
   "outputs": [],
   "source": [
    "plot_intensities(ps, [1, 5], [-8, 4], [200, 200])\n",
    "# plot_intensities(ps)"
   ]
  },
  {
   "cell_type": "code",
   "execution_count": null,
   "metadata": {},
   "outputs": [],
   "source": [
    "# set up the integrator\n",
    "iparams = dict()\n",
    "iparams[\"rtol\"] = 1e-7\n",
    "\n",
    "# set up the Poincare plot\n",
    "pparams = dict()\n",
    "pparams[\"Rbegin\"] = 3.01\n",
    "pparams[\"Rend\"] = 5\n",
    "pparams[\"nPtrj\"] = 20\n",
    "pparams[\"nPpts\"] = 200\n",
    "pparams[\"zeta\"] = 0\n",
    "# pparams[\"Z\"] = -6\n",
    "\n",
    "# Set RZs\n",
    "nfieldlines = pparams[\"nPtrj\"]+1\n",
    "Rs = np.linspace(3, 3, nfieldlines)\n",
    "Zs = np.linspace(1.5, -2., nfieldlines)\n",
    "RZs = np.array([[r, z] for r, z in zip(Rs, Zs)])\n",
    "\n",
    "pplot = PoincarePlot(ps, pparams, integrator_params=iparams)\n",
    "# pdata = pplot.compute(RZs)\n",
    "pdata = pplot.compute()"
   ]
  },
  {
   "cell_type": "code",
   "execution_count": null,
   "metadata": {},
   "outputs": [],
   "source": [
    "pplot.plot(marker=\".\", s=1)\n",
    "plt.scatter(ps._R0, ps._Z0, color=\"r\", s=4)\n",
    "fig = plt.gcf()"
   ]
  },
  {
   "cell_type": "code",
   "execution_count": null,
   "metadata": {},
   "outputs": [],
   "source": [
    "pplot.compute_iota()\n",
    "pplot.plot_q()"
   ]
  },
  {
   "cell_type": "markdown",
   "metadata": {},
   "source": [
    "#### With perturbation"
   ]
  },
  {
   "cell_type": "code",
   "execution_count": null,
   "metadata": {},
   "outputs": [],
   "source": [
    "pert_1 = {\"m\": 1, \"n\": -1, \"d\": 1, \"type\": \"maxwell-boltzmann\", \"amplitude\": 0.01}\n",
    "pert_2 = {\"m\": 1, \"n\": 0, \"d\": 1, \"type\": \"gaussian\", \"amplitude\": -0.6}\n",
    "\n",
    "ps = AnalyticCylindricalBfield(3, 0., 0.91, 0.7, [pert_1, pert_2])"
   ]
  },
  {
   "cell_type": "code",
   "execution_count": null,
   "metadata": {},
   "outputs": [],
   "source": [
    "%timeit ps.B_perturbation([3., 0., 0.])"
   ]
  },
  {
   "cell_type": "code",
   "execution_count": null,
   "metadata": {},
   "outputs": [],
   "source": [
    "%timeit ps.B_equilibrium([3., 0., 0.])"
   ]
  },
  {
   "cell_type": "code",
   "execution_count": null,
   "metadata": {},
   "outputs": [],
   "source": [
    "%timeit ps.B([3., 0., 0.])"
   ]
  },
  {
   "cell_type": "code",
   "execution_count": null,
   "metadata": {},
   "outputs": [],
   "source": [
    "plot_intensities(ps, [2,4], [-1,1])"
   ]
  },
  {
   "cell_type": "code",
   "execution_count": null,
   "metadata": {},
   "outputs": [],
   "source": [
    "# set up the integrator\n",
    "iparams = dict()\n",
    "iparams[\"rtol\"] = 1e-7\n",
    "\n",
    "# set up the Poincare plot\n",
    "pparams = dict()\n",
    "pparams[\"Rbegin\"] = 2.6\n",
    "pparams[\"Rend\"] = 3.7\n",
    "pparams[\"nPtrj\"] = 20\n",
    "pparams[\"nPpts\"] = 150\n",
    "pparams[\"zeta\"] = 0\n",
    "\n",
    "# Set RZs\n",
    "nfieldlines = pparams[\"nPtrj\"]+1\n",
    "Rs = np.linspace(3, 3.75, nfieldlines)\n",
    "Zs = np.linspace(0., 0., nfieldlines)\n",
    "RZs = np.array([[r, z] for r, z in zip(Rs, Zs)])\n",
    "\n",
    "pplot = PoincarePlot(ps, pparams, integrator_params=iparams)\n",
    "# pdata = pplot.compute(RZs)\n",
    "pdata = pplot.compute()"
   ]
  },
  {
   "cell_type": "code",
   "execution_count": null,
   "metadata": {},
   "outputs": [],
   "source": [
    "pplot.plot(marker=\".\", s=1)\n",
    "# plt.xlim(2.6, 3.5)\n",
    "plt.scatter(ps._R0, 0, color=\"r\", s=4)\n",
    "fig = plt.gcf()"
   ]
  },
  {
   "cell_type": "code",
   "execution_count": null,
   "metadata": {},
   "outputs": [],
   "source": [
    "pplot.compute_iota()\n",
    "pplot.plot_q()\n",
    "\n",
    "# plt.hlines(np.abs(ps.perturbation_args['m']/ps.perturbation_args['n']), 3, 4, color=\"k\", linestyle=\"--\")\n",
    "# plt.hlines(ps._n/ps._m, 3, 3.7, color=\"k\", linestyle=\"--\")\n",
    "\n",
    "# rho = np.linspace(3.001, 3.7, 20)\n",
    "# q=ps._sf+ps._shear*(ps._R0-rho)**2\n",
    "\n",
    "# plt.plot(rho, q, color=\"orange\", linestyle=\"--\")"
   ]
  },
  {
   "cell_type": "code",
   "execution_count": null,
   "metadata": {},
   "outputs": [],
   "source": [
    "ps.amplitudes"
   ]
  },
  {
   "cell_type": "code",
   "execution_count": null,
   "metadata": {},
   "outputs": [],
   "source": [
    "ps.perturbations[0]([1,1,1])"
   ]
  },
  {
   "cell_type": "code",
   "execution_count": null,
   "metadata": {},
   "outputs": [],
   "source": [
    "ps.add_perturbation(pert_2)"
   ]
  },
  {
   "cell_type": "code",
   "execution_count": null,
   "metadata": {},
   "outputs": [],
   "source": [
    "ps.amplitudes = [0.22, -0.6]"
   ]
  },
  {
   "cell_type": "code",
   "execution_count": null,
   "metadata": {},
   "outputs": [],
   "source": [
    "ps.amplitudes"
   ]
  },
  {
   "cell_type": "code",
   "execution_count": null,
   "metadata": {},
   "outputs": [],
   "source": [
    "# set up the integrator\n",
    "iparams = dict()\n",
    "iparams[\"rtol\"] = 1e-7\n",
    "\n",
    "# set up the Poincare plot\n",
    "pparams = dict()\n",
    "pparams[\"Rbegin\"] = 2.6\n",
    "pparams[\"Rend\"] = 4.05\n",
    "pparams[\"nPtrj\"] = 20\n",
    "pparams[\"nPpts\"] = 150\n",
    "pparams[\"zeta\"] = 0\n",
    "\n",
    "\n",
    "pplot = PoincarePlot(ps, pparams, integrator_params=iparams)\n",
    "pdata = pplot.compute()"
   ]
  },
  {
   "cell_type": "code",
   "execution_count": null,
   "metadata": {},
   "outputs": [],
   "source": [
    "pplot.plot(marker=\".\", s=1)\n",
    "# plt.xlim(2.6, 3.5)\n",
    "plt.scatter(ps._R0, 0, color=\"r\", s=4)\n",
    "fig = plt.gcf()"
   ]
  },
  {
   "cell_type": "code",
   "execution_count": null,
   "metadata": {},
   "outputs": [],
   "source": [
    "pplot.compute_iota()\n",
    "pplot.plot_q()"
   ]
  },
  {
   "cell_type": "markdown",
   "metadata": {},
   "source": [
    "### Finding fixed points"
   ]
  },
  {
   "cell_type": "code",
   "execution_count": null,
   "metadata": {},
   "outputs": [],
   "source": [
    "fp._problem.B([3, 0., -1.49])"
   ]
  },
  {
   "cell_type": "code",
   "execution_count": null,
   "metadata": {},
   "outputs": [],
   "source": [
    "from pyoculus.solvers import FixedPoint\n",
    "\n",
    "# set up the integrator\n",
    "iparams = dict()\n",
    "iparams[\"rtol\"] = 1e-12\n",
    "\n",
    "pparams = dict()\n",
    "pparams[\"nrestart\"] = 0\n",
    "pparams['niter'] = 300\n",
    "\n",
    "fp = FixedPoint(ps, pparams, integrator_params=iparams)\n",
    "\n",
    "# fp.compute(guess=[3.5, 0], pp=1, qq=2, sbegin=2, send=4, tol = 1e-12)\n",
    "fp.compute(guess=[2.5, -1.5], pp=0, qq=1, sbegin=2, send=4, tol = 1e-10)"
   ]
  },
  {
   "cell_type": "code",
   "execution_count": null,
   "metadata": {},
   "outputs": [],
   "source": [
    "results = [list(p) for p in zip(fp.x, fp.y, fp.z)]\n",
    "results"
   ]
  },
  {
   "cell_type": "code",
   "execution_count": null,
   "metadata": {},
   "outputs": [],
   "source": [
    "ax = fig.get_axes()[0]\n",
    "ax.scatter(results[0][0], results[0][2], color=\"b\", s=5, marker=\"X\") \n",
    "ax.scatter(results[1][0], results[1][2], color=\"b\", s=5, marker=\"X\")\n",
    "fig"
   ]
  },
  {
   "cell_type": "markdown",
   "metadata": {},
   "source": [
    "## with ivp"
   ]
  },
  {
   "cell_type": "code",
   "execution_count": null,
   "metadata": {},
   "outputs": [],
   "source": [
    "from scipy.integrate import solve_ivp\n",
    "\n",
    "def integrate_ivp(Bfield_2D, RZstart, phis, **kwargs):\n",
    "    options = {\n",
    "        \"rtol\": 1e-7,\n",
    "        \"atol\": 1e-9,\n",
    "        \"nintersect\": 100,\n",
    "        \"method\": \"DOP853\",\n",
    "        \"direction\": 1,\n",
    "        \"m\": 1,\n",
    "        \"nfp\": 1,\n",
    "    }\n",
    "    options.update(kwargs)\n",
    "\n",
    "    assert RZstart.shape[1] == 2, \"RZstart must be a 2D array with shape (n, 2)\"\n",
    "    assert len(phis) > 0, \"phis must be a list of floats with at least one element\"\n",
    "    assert isinstance(options[\"nintersect\"], int) and options[\"nintersect\"] > 0, \"nintersect must be a positive integer\"\n",
    "    assert options[\"direction\"] in [-1, \n",
    "                                    1], \"direction must be either -1 or 1\"\n",
    "    \n",
    "    # setup the phis of the poincare sections\n",
    "    phis = np.unique(np.mod(phis, 2 * np.pi / options['nfp']))\n",
    "    phis.sort()\n",
    "\n",
    "    # setup the evaluation points for those sections\n",
    "    phi_evals = np.array(\n",
    "        [\n",
    "            phis + options['m'] * 2 * np.pi * i / options['nfp']\n",
    "            for i in range(options[\"nintersect\"] + 1)\n",
    "        ]\n",
    "    )\n",
    "\n",
    "    out = solve_ivp(\n",
    "        Bfield_2D,\n",
    "        [0, phi_evals[-1, -1]],\n",
    "        RZstart.flatten(),\n",
    "        t_eval=phi_evals.flatten(),\n",
    "        method=options[\"method\"],\n",
    "        atol=options[\"atol\"],\n",
    "        rtol=options[\"rtol\"],\n",
    "    )\n",
    "\n",
    "    return out\n",
    "\n",
    "def Bfield_2D(t, rzs, direction = 1):\n",
    "    print(f\"{t:.2f}, {rzs}\")\n",
    "    rzs = rzs.reshape((-1, 2))\n",
    "    phis = direction*(t % (2 * np.pi)) * np.ones(rzs.shape[0])\n",
    "    Bs = np.array([ps.B([rzs[i, 0], phis[i], rzs[i, 1]]) for i in range(len(rzs))])\n",
    "    \n",
    "    is_perturbed = (rzs[:, 0] < 1e-22) + (Bs[:,1] < 1e-24)\n",
    "    Bs[is_perturbed, :] = np.array([0, 1, 0])\n",
    "    \n",
    "    return np.array([Bs[:,0]/Bs[:,1], Bs[:,2]/Bs[:,1]]).T.flatten()"
   ]
  },
  {
   "cell_type": "code",
   "execution_count": null,
   "metadata": {},
   "outputs": [],
   "source": [
    "nfieldlines = 20\n",
    "Rs = np.linspace(3, 3, nfieldlines)\n",
    "Zs = np.linspace(2, -2, nfieldlines)\n",
    "RZs = np.array([[r, z] for r, z in zip(Rs, Zs)])"
   ]
  },
  {
   "cell_type": "code",
   "execution_count": null,
   "metadata": {},
   "outputs": [],
   "source": [
    "out = integrate_ivp(Bfield_2D, RZs, [0])"
   ]
  },
  {
   "cell_type": "code",
   "execution_count": null,
   "metadata": {},
   "outputs": [],
   "source": [
    "ys = out.y.reshape(nfieldlines, 2, -1)\n",
    "for yy in ys:\n",
    "    plt.scatter(yy[0, :], yy[1, :], s=10, marker=\".\")\n",
    "# plt.scatter(ps._R0, -2, color=\"r\", s=10)"
   ]
  },
  {
   "cell_type": "markdown",
   "metadata": {},
   "source": [
    "## The tokamap"
   ]
  },
  {
   "cell_type": "code",
   "execution_count": null,
   "metadata": {},
   "outputs": [],
   "source": [
    "def P(psi, theta, K):\n",
    "    return psi - 1 - K/(2*np.pi) * np.sin(2*np.pi*theta)\n",
    "\n",
    "def W(psi, w):\n",
    "    return w/4*(2-psi)*(2-2*psi+psi**2)"
   ]
  },
  {
   "cell_type": "code",
   "execution_count": null,
   "metadata": {},
   "outputs": [],
   "source": [
    "def tokamap(psi, theta, K, w):\n",
    "    p = P(psi, theta, K)\n",
    "    psi_evolved = 0.5*(p + np.sqrt(p**2 + 4*psi))\n",
    "    theta_evolved = theta + W(psi_evolved, w) - K/((2*np.pi)**2)/((1+psi_evolved)**2)*np.cos(2*np.pi*theta)\n",
    "    return np.array([\n",
    "        psi_evolved,\n",
    "        theta_evolved % 1\n",
    "    ])"
   ]
  },
  {
   "cell_type": "code",
   "execution_count": null,
   "metadata": {},
   "outputs": [],
   "source": [
    "x = np.array([0., 0.5])"
   ]
  },
  {
   "cell_type": "code",
   "execution_count": null,
   "metadata": {},
   "outputs": [],
   "source": [
    "x = tokamap(x[0], x[1], 3.7, 1.)\n",
    "print(x)"
   ]
  },
  {
   "cell_type": "code",
   "execution_count": null,
   "metadata": {},
   "outputs": [],
   "source": [
    "xi = np.linspace(0, 1, 7)\n",
    "Xi = np.meshgrid(xi, xi)\n",
    "Xi = np.array(Xi).reshape(2, -1)"
   ]
  },
  {
   "cell_type": "code",
   "execution_count": null,
   "metadata": {},
   "outputs": [],
   "source": [
    "nev = 1000\n",
    "Ev = np.empty((Xi.shape[0], Xi.shape[1], nev))"
   ]
  },
  {
   "cell_type": "code",
   "execution_count": null,
   "metadata": {},
   "outputs": [],
   "source": [
    "K = 3.7\n",
    "w = 1.0\n",
    "\n",
    "for i, x in enumerate(Xi.T):\n",
    "    Ev[:, i, 0] = x\n",
    "    xt = x.copy()\n",
    "    for j in range(nev-1):\n",
    "        xt = tokamap(xt[0], xt[1], K, w)\n",
    "        Ev[:, i, j+1] = xt"
   ]
  },
  {
   "cell_type": "code",
   "execution_count": null,
   "metadata": {},
   "outputs": [],
   "source": [
    "for i in range(len(Ev[0,:,0])):\n",
    "    plt.scatter(Ev[1, i, :], Ev[0, i, :], s=0.5, alpha=0.5)"
   ]
  },
  {
   "cell_type": "code",
   "execution_count": null,
   "metadata": {},
   "outputs": [],
   "source": []
  }
 ],
 "metadata": {
  "kernelspec": {
   "display_name": "simsopt",
   "language": "python",
   "name": "python3"
  },
  "language_info": {
   "codemirror_mode": {
    "name": "ipython",
    "version": 3
   },
   "file_extension": ".py",
   "mimetype": "text/x-python",
   "name": "python",
   "nbconvert_exporter": "python",
   "pygments_lexer": "ipython3",
   "version": "3.10.13"
  }
 },
 "nbformat": 4,
 "nbformat_minor": 2
}
