{
 "cells": [
  {
   "cell_type": "code",
   "execution_count": null,
   "metadata": {},
   "outputs": [],
   "source": [
    "import numpy as np\n",
    "import matplotlib.pyplot as plt"
   ]
  },
  {
   "cell_type": "code",
   "execution_count": null,
   "metadata": {},
   "outputs": [],
   "source": [
    "def P(psi, theta, K):\n",
    "    return psi - 1 - K/(2*np.pi) * np.sin(2*np.pi*theta)\n",
    "\n",
    "def W(psi, w):\n",
    "    return w/4*(2-psi)*(2-2*psi+psi**2)"
   ]
  },
  {
   "cell_type": "code",
   "execution_count": null,
   "metadata": {},
   "outputs": [],
   "source": [
    "def tokamap(psi, theta, K, w):\n",
    "    p = P(psi, theta, K)\n",
    "    psi_evolved = 0.5*(p + np.sqrt(p**2 + 4*psi))\n",
    "    theta_evolved = theta + W(psi_evolved, w) - K/((2*np.pi)**2)/((1+psi_evolved)**2)*np.cos(2*np.pi*theta)\n",
    "    return np.array([\n",
    "        psi_evolved,\n",
    "        theta_evolved % 1\n",
    "    ])"
   ]
  },
  {
   "cell_type": "code",
   "execution_count": null,
   "metadata": {},
   "outputs": [],
   "source": [
    "x = np.array([0., 0.5])"
   ]
  },
  {
   "cell_type": "code",
   "execution_count": null,
   "metadata": {},
   "outputs": [],
   "source": [
    "x = tokamap(x[0], x[1], 3.7, 1.)\n",
    "print(x)"
   ]
  },
  {
   "cell_type": "code",
   "execution_count": null,
   "metadata": {},
   "outputs": [],
   "source": [
    "xi = np.linspace(0, 1, 7)\n",
    "Xi = np.meshgrid(xi, xi)\n",
    "Xi = np.array(Xi).reshape(2, -1)"
   ]
  },
  {
   "cell_type": "code",
   "execution_count": null,
   "metadata": {},
   "outputs": [],
   "source": [
    "nev = 1000\n",
    "Ev = np.empty((Xi.shape[0], Xi.shape[1], nev))"
   ]
  },
  {
   "cell_type": "code",
   "execution_count": null,
   "metadata": {},
   "outputs": [],
   "source": [
    "K = 3.7\n",
    "w = 1.0\n",
    "\n",
    "for i, x in enumerate(Xi.T):\n",
    "    Ev[:, i, 0] = x\n",
    "    xt = x.copy()\n",
    "    for j in range(nev-1):\n",
    "        xt = tokamap(xt[0], xt[1], K, w)\n",
    "        Ev[:, i, j+1] = xt"
   ]
  },
  {
   "cell_type": "code",
   "execution_count": null,
   "metadata": {},
   "outputs": [],
   "source": [
    "for i in range(len(Ev[0,:,0])):\n",
    "    plt.scatter(Ev[1, i, :], Ev[0, i, :], s=0.5, alpha=0.5)"
   ]
  }
 ],
 "metadata": {
  "language_info": {
   "name": "python"
  }
 },
 "nbformat": 4,
 "nbformat_minor": 2
}
