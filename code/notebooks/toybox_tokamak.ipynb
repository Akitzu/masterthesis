{
 "cells": [
  {
   "cell_type": "code",
   "execution_count": 1,
   "metadata": {},
   "outputs": [],
   "source": [
    "from pyoculus.problems import CylindricalBfield, AnalyticCylindricalBfield\n",
    "from pyoculus.solvers import PoincarePlot, FixedPoint, Manifold\n",
    "import matplotlib.pyplot as plt\n",
    "import numpy as np\n",
    "import datetime\n",
    "import pickle"
   ]
  },
  {
   "cell_type": "code",
   "execution_count": 2,
   "metadata": {},
   "outputs": [
    {
     "name": "stdout",
     "output_type": "stream",
     "text": [
      "0 - dr : 0.02290324895580045\n",
      "1 - RZ : [ 6.41398572 -0.69363305]\n",
      "1 - dr : 0.0001521514183698729\n",
      "2 - RZ : [ 6.41409781 -0.69367862]\n",
      "2 - dr : 1.3221698258761472e-08\n",
      "3 - RZ : [ 6.41409781 -0.69367863]\n",
      "3 - dr : 3.568292035180542e-15\n",
      "0 - dr : 3.5596458096434965e-15\n"
     ]
    }
   ],
   "source": [
    "# separatrix = {\"type\": \"circular-current-loop\", \"amplitude\": -4.2, \"R\": 3, \"Z\": -2.2}\n",
    "separatrix = {\"type\": \"circular-current-loop\", \"amplitude\": -10, \"R\": 6, \"Z\": -5.5}\n",
    "# separatrix = {\"type\": \"circular-current-loop\", \"amplitude\": -4, \"R\": 3, \"Z\": -2.2}\n",
    "maxwellboltzmann = {\"m\": 7, \"n\": -1, \"d\": np.sqrt(2), \"type\": \"maxwell-boltzmann\", \"amplitude\": 0.1, \"A\": 1, \"B\": 2}\n",
    "# gaussian10 = {\"m\": 1, \"n\": 0, \"d\": 1, \"type\": \"gaussian\", \"amplitude\": 0.1}\n",
    "\n",
    "ps = AnalyticCylindricalBfield.without_axis(6, 0, 0.91, 0.6, perturbations_args = [separatrix], Rbegin = 2, Rend = 8, niter = 800, guess=[6.4,-0.7],  tol = 1e-9)\n",
    "ps.add_perturbation(maxwellboltzmann)\n",
    "# ps = AnalyticCylindricalBfield(3, 0, 0.9, 0.7, perturbations_args = [separatrix])"
   ]
  },
  {
   "cell_type": "markdown",
   "metadata": {},
   "source": [
    "### Finding fixed points"
   ]
  },
  {
   "cell_type": "code",
   "execution_count": 3,
   "metadata": {},
   "outputs": [
    {
     "name": "stdout",
     "output_type": "stream",
     "text": [
      "0 - [DeltaR, DeltaZ] : [0.31173615 0.2138405 ] - dtheta : 0.08449022978024034\n",
      "0 - [StepR, StepZ]: [-0.00118302 -0.04520414]\n",
      "1 - RZ : [ 6.19881698 -4.49520414] - rhotheta : [ 3.80761632 -1.62736602]\n",
      "1 - [DeltaR, DeltaZ] : [-0.11753869 -0.11778612] - dtheta : 0.02814491773408445\n",
      "1 - [StepR, StepZ]: [0.00407528 0.0023742 ]\n",
      "2 - RZ : [ 6.20289227 -4.49282994] - rhotheta : [ 3.80501754 -1.62633198]\n",
      "2 - [DeltaR, DeltaZ] : [-0.00943189 -0.01458011] - dtheta : 0.0022533535789532877\n",
      "2 - [StepR, StepZ]: [ 0.00281002 -0.00375591]\n",
      "3 - RZ : [ 6.20570228 -4.49658586] - rhotheta : [ 3.80861288 -1.62554058]\n",
      "3 - [DeltaR, DeltaZ] : [7.67243047e-05 2.13139128e-05] - dtheta : 1.980868804474234e-05\n",
      "3 - [StepR, StepZ]: [ 1.64771197e-05 -3.42847330e-05]\n",
      "4 - RZ : [ 6.20571876 -4.49662014] - rhotheta : [ 3.80864621 -1.62553576]\n",
      "4 - [DeltaR, DeltaZ] : [-1.68349779e-10 -9.47335543e-10] - dtheta : 3.407696347323963e-11\n",
      "4 - [StepR, StepZ]: [ 3.30419248e-10 -5.30092414e-10]\n",
      "5 - RZ : [ 6.20571876 -4.49662014] - rhotheta : [ 3.80864621 -1.62553576]\n",
      "5 - [DeltaR, DeltaZ] : [-1.08357767e-13 -9.59232693e-14] - dtheta : 3.5766944961324043e-12\n"
     ]
    },
    {
     "data": {
      "text/plain": [
       "<pyoculus.solvers.base_solver.BaseSolver.OutputData at 0x1ad3a8875b0>"
      ]
     },
     "execution_count": 3,
     "metadata": {},
     "output_type": "execute_result"
    }
   ],
   "source": [
    "# set up the integrator\n",
    "iparams = dict()\n",
    "iparams[\"rtol\"] = 1e-7\n",
    "\n",
    "pparams = dict()\n",
    "pparams[\"nrestart\"] = 0\n",
    "pparams['niter'] = 600\n",
    "\n",
    "fp_perturbed = FixedPoint(ps, pparams, integrator_params=iparams)\n",
    "\n",
    "# fp_perturbed.compute(guess=[fp.x[0], fp.z[0]], pp=0, qq=1, sbegin=0.1, send=6, tol = 1e-10)\n",
    "# fp_perturbed.compute(guess=[3.117263523069049, -1.6173346133145015], pp=0, qq=1, sbegin=0.1, send=6, tol = 1e-10)\n",
    "# fp_perturbed.compute(guess=[3.1072023810385443, -1.655410284892828], pp=0, qq=1, sbegin=0.1, send=6, tol = 4e-12)\n",
    "# fp_perturbed.compute(guess=[3.117264916246293, -1.617334822348791], pp=0, qq=1, sbegin=0.1, send=6, tol = 1e-10)\n",
    "# fp_perturbed.compute(guess=[4.624454, 0.], pp=0, qq=1, sbegin=0.1, send=6, tol = 1e-10)\n",
    "# fp_perturbed.compute(guess=[4.43582958 -1.22440153], pp=0, qq=1, sbegin=0.1, send=6, tol = 1e-10)\n",
    "fp_perturbed.compute(guess=[6.2, -4.45], pp=0, qq=1, sbegin=1, send=8, tol = 1e-10)"
   ]
  },
  {
   "cell_type": "code",
   "execution_count": 4,
   "metadata": {},
   "outputs": [],
   "source": [
    "results = [list(p) for p in zip(fp_perturbed.x, fp_perturbed.y, fp_perturbed.z)]"
   ]
  },
  {
   "cell_type": "code",
   "execution_count": 5,
   "metadata": {},
   "outputs": [
    {
     "data": {
      "text/plain": [
       "[[6.205718761264171, 0.0, -4.496620141391966],\n",
       " [6.2057187612640625, 0.0, -4.496620141392062]]"
      ]
     },
     "execution_count": 5,
     "metadata": {},
     "output_type": "execute_result"
    }
   ],
   "source": [
    "results"
   ]
  },
  {
   "cell_type": "markdown",
   "metadata": {},
   "source": [
    "### Poincare"
   ]
  },
  {
   "cell_type": "code",
   "execution_count": 6,
   "metadata": {},
   "outputs": [],
   "source": [
    "# set up the integrator for the Poincare\n",
    "iparams = dict()\n",
    "iparams[\"rtol\"] = 1e-10\n",
    "\n",
    "# set up the Poincare plot\n",
    "pparams = dict()\n",
    "pparams[\"nPtrj\"] = 8\n",
    "pparams[\"nPpts\"] = 150\n",
    "pparams[\"zeta\"] = 0\n",
    "\n",
    "# # Set RZs for the normal (R-only) computation\n",
    "# pparams[\"Rbegin\"] = 6.3\n",
    "# pparams[\"Rend\"] = 9.1\n",
    "\n",
    "# Set RZs for the tweaked (R-Z) computation\n",
    "nfieldlines = pparams[\"nPtrj\"] + 1\n",
    "\n",
    "# Directly setting the RZs\n",
    "# Rs = np.linspace(6, 3.15, nfieldlines)\n",
    "# Zs = np.linspace(-0.43, -2.5, nfieldlines)\n",
    "# RZs = np.array([[r, z] for r, z in zip(Rs, Zs)])\n",
    "\n",
    "# Two interval computation opoint to xpoint then xpoint to coilpoint\n",
    "n1, n2 = int(np.ceil(nfieldlines / 2)), int(np.floor(nfieldlines / 2))\n",
    "xpoint = np.array([results[0][0], results[0][2]])\n",
    "opoint = np.array([ps._R0, ps._Z0])\n",
    "coilpoint = np.array(\n",
    "    [ps.perturbations_args[0][\"R\"], ps.perturbations_args[0][\"Z\"]]\n",
    ")\n",
    "\n",
    "# Simple way from opoint to xpoint then to coilpoint\n",
    "Rs = np.concatenate((np.linspace(opoint[0]+1e-4, xpoint[0], n1), np.linspace(xpoint[0], coilpoint[0]-1e-4, n2)))\n",
    "Zs = np.concatenate((np.linspace(opoint[1]+1e-4, xpoint[1], n1), np.linspace(xpoint[1], coilpoint[1]-1e-4, n2)))\n",
    "RZs = np.array([[r, z] for r, z in zip(Rs, Zs)])\n",
    "\n",
    "# Sophisticated way more around the xpoint\n",
    "# deps = 0.05\n",
    "# RZ1 = xpoint + deps * (1 - np.linspace(0, 1, n1)).reshape((n1, 1)) @ (\n",
    "#     opoint - xpoint\n",
    "# ).reshape((1, 2))\n",
    "# RZ2 = xpoint + deps * np.linspace(0, 1, n2).reshape((n2, 1)) @ (\n",
    "#     coilpoint - xpoint\n",
    "# ).reshape((1, 2))\n",
    "# RZs = np.concatenate((RZ1, RZ2))\n",
    "\n",
    "# Set up the Poincare plot object\n",
    "pplot = PoincarePlot(ps, pparams, integrator_params=iparams)"
   ]
  },
  {
   "cell_type": "code",
   "execution_count": 7,
   "metadata": {},
   "outputs": [
    {
     "name": "stderr",
     "output_type": "stream",
     "text": [
      "C:\\Users\\Ludovic\\kDrive\\etudes\\EPFL\\masterthesis\\imports\\pyoculus\\pyoculus\\problems\\cylindrical_bfield.py:66: RuntimeWarning: divide by zero encountered in scalar divide\n",
      "  dRdt = Bfield[0] / Bfield[1]\n",
      "C:\\Users\\Ludovic\\kDrive\\etudes\\EPFL\\masterthesis\\imports\\pyoculus\\pyoculus\\problems\\cylindrical_bfield.py:67: RuntimeWarning: divide by zero encountered in scalar divide\n",
      "  dZdt = Bfield[2] / Bfield[1]\n"
     ]
    },
    {
     "name": "stdout",
     "output_type": "stream",
     "text": [
      "Integration failed for s= 5.9999\n"
     ]
    },
    {
     "name": "stderr",
     "output_type": "stream",
     "text": [
      "c:\\Users\\Ludovic\\miniforge3\\envs\\simsopt\\lib\\site-packages\\scipy\\integrate\\_ode.py:431: UserWarning: dopri5: larger nsteps is needed\n",
      "  self._y, self.t = mth(self.f, self.jac or (lambda: None),\n"
     ]
    },
    {
     "data": {
      "text/plain": [
       "<pyoculus.solvers.base_solver.BaseSolver.OutputData at 0x1ad39498310>"
      ]
     },
     "execution_count": 7,
     "metadata": {},
     "output_type": "execute_result"
    }
   ],
   "source": [
    "# # R-only computation\n",
    "# pplot.compute()\n",
    "\n",
    "# R-Z computation\n",
    "pplot.compute(RZs)"
   ]
  },
  {
   "cell_type": "code",
   "execution_count": 107,
   "metadata": {},
   "outputs": [
    {
     "data": {
      "image/png": "[encoded data removed]",
      "text/plain": [
       "<Figure size 640x480 with 1 Axes>"
      ]
     },
     "metadata": {},
     "output_type": "display_data"
    }
   ],
   "source": [
    "fig_perturbed, ax_perturbed = pplot.plot(marker=\".\", s=1)\n",
    "\n",
    "ax_perturbed.scatter(results[0][0], results[0][2], marker=\"X\", edgecolors=\"black\", linewidths=1)\n",
    "ax_perturbed.scatter(ps._R0, ps._Z0, marker=\"o\", edgecolors=\"black\", linewidths=1)\n",
    "plt.show()"
   ]
  },
  {
   "cell_type": "code",
   "execution_count": null,
   "metadata": {},
   "outputs": [],
   "source": [
    "date = datetime.datetime.now().strftime(\"%m%d%H%M\")\n",
    "dumpname = f\"../output/toybox_tok_{date}.pkl\"\n",
    "with open(dumpname, \"wb\") as f:\n",
    "    pickle.dump(fig_perturbed, f)"
   ]
  },
  {
   "cell_type": "markdown",
   "metadata": {},
   "source": [
    "### Back on manifold"
   ]
  },
  {
   "cell_type": "code",
   "execution_count": 9,
   "metadata": {},
   "outputs": [],
   "source": [
    "iparams = dict()\n",
    "iparams[\"rtol\"] = 1e-12\n",
    "\n",
    "manifold = Manifold(fp_perturbed, ps, integrator_params=iparams)"
   ]
  },
  {
   "cell_type": "code",
   "execution_count": 10,
   "metadata": {},
   "outputs": [
    {
     "data": {
      "text/plain": [
       "(7, 7)"
      ]
     },
     "execution_count": 10,
     "metadata": {},
     "output_type": "execute_result"
    }
   ],
   "source": [
    "# Choose the tangles to work with\n",
    "manifold.choose()\n",
    "\n",
    "manifold.find_N(1e-6, 1e-6)"
   ]
  },
  {
   "cell_type": "code",
   "execution_count": 11,
   "metadata": {},
   "outputs": [],
   "source": [
    "from scipy.optimize import root\n",
    "\n",
    "def find_homoclinic(self, guess_eps_s = 1e-3, guess_eps_u = 1e-3, **kwargs):\n",
    "    defaults = {\"tol\": 1e-10, \"n_s\": None, \"n_u\": None}\n",
    "    defaults.update({key: value for key, value in kwargs.items() if key in defaults})\n",
    "\n",
    "    if defaults['n_s'] is None or defaults['n_u'] is None:\n",
    "        n_s, n_u = self.find_N(guess_eps_s, guess_eps_u)\n",
    "        print(f\"Found [n_s, n_u] : [{n_s}, {n_u}]\")\n",
    "    else:\n",
    "        n_s, n_u = defaults['n_s'], defaults['n_u']\n",
    "\n",
    "    def evolution(eps, n_s, n_u):\n",
    "        eps_s, eps_u = eps\n",
    "        r_s = self.rfp_s + eps_s * self.vector_s\n",
    "        r_u = self.rfp_u + eps_u * self.vector_u\n",
    "\n",
    "        r_s_evolved, jac_s = self.integrate_single(r_s, n_s, -1)\n",
    "        r_u_evolved, jac_u = self.integrate_single(r_u, n_u, 1)\n",
    "\n",
    "        return r_s_evolved, r_s_evolved - r_u_evolved, np.array([jac_s @ self.vector_s, -jac_u @ self.vector_u])\n",
    "\n",
    "    def residual(eps, n_s, n_u):\n",
    "        return evolution(eps, n_s, n_u)[1:]\n",
    "    \n",
    "    r = root(residual, [guess_eps_s, guess_eps_u], args=(n_s, n_u), jac=True, tol=defaults['tol'])\n",
    "    \n",
    "    if not r.success:\n",
    "        raise ValueError(\"Homoclinic search not successful.\")\n",
    "    \n",
    "    eps_s, eps_u = r.x\n",
    "    print(f\"Eps_s : {eps_s}, Eps_u : {eps_u} gives a difference in endpoint [R,Z] : {r.fun}\")\n",
    "    if eps_s < 0 or eps_u < 0:\n",
    "        raise ValueError(\"Homoclinic point epsilon cannot be negative.\")\n",
    "    # if self.error_linear_regime(self.rfp_s, self.lambda_s, self.vector_s) > 1e-4 or self.error_linear_regime(self.rfp_u, self.lambda_u, self.vector_u) > 1e-4:\n",
    "    #     raise ValueError(\"Homoclinic point epsilon was be found in linear regime.\")    \n",
    "    \n",
    "    self.clinics.append(evolution([eps_s, eps_u], n_s, n_u)[0])\n",
    "\n",
    "    return eps_s, eps_u"
   ]
  },
  {
   "cell_type": "code",
   "execution_count": 12,
   "metadata": {},
   "outputs": [
    {
     "name": "stdout",
     "output_type": "stream",
     "text": [
      "Eps_s : 3.259494998457943e-07, Eps_u : 8.305051217798904e-08 gives a difference in endpoint [R,Z] : [1.42283429e-09 1.04458886e-09]\n"
     ]
    }
   ],
   "source": [
    "# Find the homoclinic points\n",
    "eps_s_1, eps_u_1 = find_homoclinic(manifold, 1e-8, 1e-8, n_s = 7, n_u = 7)"
   ]
  },
  {
   "cell_type": "code",
   "execution_count": 73,
   "metadata": {},
   "outputs": [
    {
     "data": {
      "text/plain": [
       "[array([5.96726966, 2.09001648]), array([4.17162821, 0.85462071])]"
      ]
     },
     "execution_count": 73,
     "metadata": {},
     "output_type": "execute_result"
    }
   ],
   "source": [
    "manifold.clinics"
   ]
  },
  {
   "cell_type": "code",
   "execution_count": 14,
   "metadata": {},
   "outputs": [
    {
     "name": "stdout",
     "output_type": "stream",
     "text": [
      "2nd initial guess: [6.094670914813097e-08, 4.441630297410808e-07]\n",
      "Eps_s : 5.715234731308168e-08, Eps_u : 6.665466724257844e-07 gives a difference in endpoint [R,Z] : [ 2.73028888e-09 -4.42196502e-10]\n"
     ]
    }
   ],
   "source": [
    "guess_2 = [eps_s_1*np.power(manifold.lambda_s, 1/2), eps_u_1*np.power(manifold.lambda_u, 1/2)]\n",
    "print(f\"2nd initial guess: {guess_2}\")\n",
    "eps_s_2, eps_u_2 = find_homoclinic(manifold, guess_2[0], guess_2[1], n_s = 7, n_u = 7)"
   ]
  },
  {
   "cell_type": "code",
   "execution_count": 15,
   "metadata": {},
   "outputs": [
    {
     "name": "stdout",
     "output_type": "stream",
     "text": [
      "\n",
      "Plotting homoclinic points\n"
     ]
    }
   ],
   "source": [
    "# Plot the homoclinic points\n",
    "print(\"\\nPlotting homoclinic points\")\n",
    "hs_1 = manifold.integrate(manifold.rfp_s + eps_s_1 * manifold.vector_s, 7, -1)\n",
    "hs_2 = manifold.integrate(manifold.rfp_s + eps_s_2 * manifold.vector_s, 7, -1)\n",
    "\n",
    "hu_1 = manifold.integrate(manifold.rfp_u + eps_u_1 * manifold.vector_u, 7, 1)\n",
    "hu_2 = manifold.integrate(manifold.rfp_u + eps_u_2 * manifold.vector_u, 7, 1)"
   ]
  },
  {
   "cell_type": "code",
   "execution_count": 110,
   "metadata": {},
   "outputs": [
    {
     "data": {
      "text/plain": [
       "<matplotlib.collections.PathCollection at 0x1ad40e1f3a0>"
      ]
     },
     "execution_count": 110,
     "metadata": {},
     "output_type": "execute_result"
    }
   ],
   "source": [
    "ax_perturbed.scatter(hs_1[0,:], hs_1[1,:], marker=\"x\", color=\"purple\", zorder=10)\n",
    "ax_perturbed.scatter(hs_2[0,:], hs_2[1,:], marker=\"+\", color=\"purple\", zorder=10)\n",
    "\n",
    "ax_perturbed.scatter(hu_1[0,:], hu_1[1,:], marker=\"x\", color=\"blue\", zorder=10)\n",
    "ax_perturbed.scatter(hu_2[0,:], hu_2[1,:], marker=\"+\", color=\"blue\", zorder=10)"
   ]
  },
  {
   "cell_type": "code",
   "execution_count": 17,
   "metadata": {},
   "outputs": [
    {
     "name": "stdout",
     "output_type": "stream",
     "text": [
      "\n",
      "Computing the manifold\n",
      "\n",
      "Computing unstable manifold with postive epsilon...\n",
      "Computing stable manifold with positive epsilon...\n",
      "\n",
      "Plotting the manifold\n",
      "\n"
     ]
    },
    {
     "data": {
      "text/plain": [
       "(<Figure size 640x480 with 1 Axes>, <Axes: xlabel='R(m)', ylabel='Z(m)'>)"
      ]
     },
     "execution_count": 17,
     "metadata": {},
     "output_type": "execute_result"
    }
   ],
   "source": [
    "print(\"\\nComputing the manifold\\n\")\n",
    "manifold.compute(nintersect = 9, neps = 300, epsilon=1e-7)"
   ]
  },
  {
   "cell_type": "code",
   "execution_count": 109,
   "metadata": {},
   "outputs": [
    {
     "name": "stdout",
     "output_type": "stream",
     "text": [
      "\n",
      "Plotting the manifold\n",
      "\n"
     ]
    },
    {
     "data": {
      "text/plain": [
       "(<Figure size 640x480 with 1 Axes>, <Axes: xlabel='R(m)', ylabel='Z(m)'>)"
      ]
     },
     "execution_count": 109,
     "metadata": {},
     "output_type": "execute_result"
    }
   ],
   "source": [
    "print(\"\\nPlotting the manifold\\n\")\n",
    "manifold.plot(ax_perturbed, directions=\"u+s+\")"
   ]
  },
  {
   "cell_type": "code",
   "execution_count": 108,
   "metadata": {},
   "outputs": [
    {
     "data": {
      "image/png": "[encoded data removed]",
      "text/plain": [
       "<Figure size 640x480 with 1 Axes>"
      ]
     },
     "execution_count": 108,
     "metadata": {},
     "output_type": "execute_result"
    }
   ],
   "source": [
    "# ax_perturbed.set_xlim(6., 8)\n",
    "# ax_perturbed.set_ylim(-4.6, -4)\n",
    "fig_perturbed"
   ]
  },
  {
   "cell_type": "code",
   "execution_count": 74,
   "metadata": {},
   "outputs": [
    {
     "data": {
      "text/plain": [
       "<matplotlib.collections.PathCollection at 0x1ad3f9685e0>"
      ]
     },
     "execution_count": 74,
     "metadata": {},
     "output_type": "execute_result"
    }
   ],
   "source": [
    "ax_perturbed.scatter(manifold.clinics[0][0], manifold.clinics[0][1], marker=\"o\", color=\"magenta\", zorder=10)\n",
    "ax_perturbed.scatter(manifold.clinics[1][0], manifold.clinics[1][1], marker=\"o\", color=\"magenta\", zorder=10)"
   ]
  },
  {
   "cell_type": "code",
   "execution_count": 75,
   "metadata": {},
   "outputs": [
    {
     "data": {
      "image/png": "[encoded data removed]",
      "text/plain": [
       "<Figure size 640x480 with 1 Axes>"
      ]
     },
     "execution_count": 75,
     "metadata": {},
     "output_type": "execute_result"
    }
   ],
   "source": [
    "fig_perturbed"
   ]
  },
  {
   "cell_type": "code",
   "execution_count": 111,
   "metadata": {},
   "outputs": [],
   "source": [
    "def resonance_area(self, n_b, n_f):\n",
    "    # considering the >_u ordering of the homoclinic points\n",
    "    areas = []\n",
    "    for homoclinic in self.clinics:\n",
    "        n_tmp_f, n_tmp_b = 1, 1\n",
    "\n",
    "        # Forward integration\n",
    "        rze_forward = homoclinic\n",
    "        area_forward = []\n",
    "        while n_tmp_f < n_f:\n",
    "            rze_end, area_tmp = self.integrate_single(rze_forward, 1, direction=1, ret_jacobian=False, integrate_A=True)\n",
    "            # if np.linalg.norm(rze_end - self.rfp_s) > np.linalg.norm(rze_forward - self.rfp_s):\n",
    "            #     print(\"Forward integration goes away from saddle\")\n",
    "            rze_forward = rze_end\n",
    "            ax_perturbed.scatter(rze_end[0], rze_end[1], marker=\"s\", s=10, color=\"red\", zorder=10)\n",
    "            area_forward.append(area_tmp)\n",
    "            n_tmp_f += 1\n",
    "        \n",
    "        # Backward integration\n",
    "        rze_backward = homoclinic\n",
    "        area_backward = []\n",
    "        while n_tmp_b < n_b:\n",
    "            rze_end, area_tmp = self.integrate_single(rze_backward, 1, direction=-1, ret_jacobian=False, integrate_A=True)\n",
    "            rze_backward = rze_end\n",
    "            ax_perturbed.scatter(rze_end[0], rze_end[1], marker=\"s\", s=10, color=\"orange\", zorder=10)\n",
    "            area_backward.append(area_tmp)\n",
    "            n_tmp_b += 1\n",
    "        \n",
    "        area_forward = np.array(area_forward)\n",
    "        area_backward = np.array(area_backward)\n",
    "\n",
    "        areas.append([area_forward, area_backward])\n",
    "    return areas"
   ]
  },
  {
   "cell_type": "code",
   "execution_count": 127,
   "metadata": {},
   "outputs": [
    {
     "data": {
      "text/plain": [
       "[[array([-12.3861058 , -18.85089196, -23.48600925,  -2.96679244,\n",
       "           0.19297009,   0.31882228,   0.323247  ,   0.32349462,\n",
       "           0.32616025]),\n",
       "  array([14.84023688, 31.35062416, 19.05554761,  1.04334999, -0.27376626,\n",
       "         -0.32519272, -0.4247095 ])],\n",
       " [array([ -7.09354306, -29.27559124, -10.90948282,  -0.31699676,\n",
       "           0.3004874 ,   0.32260765,   0.32353836,   0.32805267,\n",
       "           0.45691837]),\n",
       "  array([24.07584928, 12.15116844, 36.92556582,  8.27358517,  0.07210175,\n",
       "         -0.30783424, -0.27772831])]]"
      ]
     },
     "execution_count": 127,
     "metadata": {},
     "output_type": "execute_result"
    }
   ],
   "source": [
    "are = resonance_area(manifold, 8, 10)\n",
    "are"
   ]
  },
  {
   "cell_type": "code",
   "execution_count": 126,
   "metadata": {},
   "outputs": [
    {
     "data": {
      "image/png": "[encoded data removed]",
      "text/plain": [
       "<Figure size 640x480 with 1 Axes>"
      ]
     },
     "execution_count": 126,
     "metadata": {},
     "output_type": "execute_result"
    }
   ],
   "source": [
    "fig_perturbed"
   ]
  },
  {
   "cell_type": "code",
   "execution_count": 135,
   "metadata": {},
   "outputs": [],
   "source": [
    "A1 = np.concatenate((-are[0][0][:10], are[0][1][:8])).sum()"
   ]
  },
  {
   "cell_type": "code",
   "execution_count": 134,
   "metadata": {},
   "outputs": [],
   "source": [
    "A2 = np.concatenate((-are[1][0][:10], are[1][1][:8])).sum()"
   ]
  },
  {
   "cell_type": "code",
   "execution_count": 137,
   "metadata": {},
   "outputs": [
    {
     "data": {
      "text/plain": [
       "5.305521945767268"
      ]
     },
     "execution_count": 137,
     "metadata": {},
     "output_type": "execute_result"
    }
   ],
   "source": [
    "A2-A1"
   ]
  },
  {
   "cell_type": "code",
   "execution_count": null,
   "metadata": {},
   "outputs": [
    {
     "data": {
      "text/plain": [
       "1143.5521742022065"
      ]
     },
     "metadata": {},
     "output_type": "display_data"
    }
   ],
   "source": [
    "are[1]-are[0]"
   ]
  },
  {
   "cell_type": "code",
   "execution_count": 28,
   "metadata": {},
   "outputs": [
    {
     "name": "stdout",
     "output_type": "stream",
     "text": [
      "Computing for n = 100\n",
      "Computing for n = 110\n",
      "Computing for n = 120\n",
      "Computing for n = 130\n",
      "Computing for n = 140\n",
      "Computing for n = 150\n",
      "Computing for n = 160\n",
      "Computing for n = 170\n",
      "Computing for n = 180\n",
      "Computing for n = 190\n",
      "Computing for n = 200\n",
      "Computing for n = 210\n",
      "Computing for n = 220\n",
      "Computing for n = 230\n",
      "Computing for n = 240\n",
      "Computing for n = 250\n",
      "Computing for n = 260\n",
      "Computing for n = 270\n",
      "Computing for n = 280\n",
      "Computing for n = 290\n"
     ]
    }
   ],
   "source": [
    "areas = []\n",
    "for i in range(100,300,10):\n",
    "    print(f\"Computing for n = {i}\")\n",
    "    areas.append(resonance_area(manifold, i, i))"
   ]
  },
  {
   "cell_type": "code",
   "execution_count": 29,
   "metadata": {},
   "outputs": [
    {
     "data": {
      "text/plain": [
       "[[-3005.0720610244143, -2877.1451401784884],\n",
       " [-3420.981507740906, -3204.9485484949955],\n",
       " [-3840.8703655796844, -3529.306733825262],\n",
       " [-4260.449352429296, -3912.627232276779],\n",
       " [-4678.292032716105, -4214.794283640778],\n",
       " [-5076.9043629189, -4407.309491660061],\n",
       " [-5457.554384393407, -4729.499454168134],\n",
       " [-5844.381296558427, -5063.1842578698015],\n",
       " [-6217.680520519931, -5427.673495317619],\n",
       " [-6493.716907350443, -5600.511620354688],\n",
       " [-6811.313261736583, -5667.761087534376],\n",
       " [-7213.579320022343, -5706.816929986077],\n",
       " [-7644.414159070753, -5714.540302834534],\n",
       " [-7991.790797563057, -5704.646026438832],\n",
       " [-8364.381011712814, -5716.013293061884],\n",
       " [-8682.451855970958, -5745.308162502678],\n",
       " [-9010.150171530917, -6064.441990199455],\n",
       " [-9306.878998492157, -6229.86790317888],\n",
       " [-9694.629844658168, -6572.674862911241],\n",
       " [-10083.425667237567, -6881.393579523733]]"
      ]
     },
     "execution_count": 29,
     "metadata": {},
     "output_type": "execute_result"
    }
   ],
   "source": [
    "areas"
   ]
  },
  {
   "cell_type": "code",
   "execution_count": 30,
   "metadata": {},
   "outputs": [
    {
     "data": {
      "text/plain": [
       "array([[ -3005.07206102,  -2877.14514018],\n",
       "       [ -3420.98150774,  -3204.94854849],\n",
       "       [ -3840.87036558,  -3529.30673383],\n",
       "       [ -4260.44935243,  -3912.62723228],\n",
       "       [ -4678.29203272,  -4214.79428364],\n",
       "       [ -5076.90436292,  -4407.30949166],\n",
       "       [ -5457.55438439,  -4729.49945417],\n",
       "       [ -5844.38129656,  -5063.18425787],\n",
       "       [ -6217.68052052,  -5427.67349532],\n",
       "       [ -6493.71690735,  -5600.51162035],\n",
       "       [ -6811.31326174,  -5667.76108753],\n",
       "       [ -7213.57932002,  -5706.81692999],\n",
       "       [ -7644.41415907,  -5714.54030283],\n",
       "       [ -7991.79079756,  -5704.64602644],\n",
       "       [ -8364.38101171,  -5716.01329306],\n",
       "       [ -8682.45185597,  -5745.3081625 ],\n",
       "       [ -9010.15017153,  -6064.4419902 ],\n",
       "       [ -9306.87899849,  -6229.86790318],\n",
       "       [ -9694.62984466,  -6572.67486291],\n",
       "       [-10083.42566724,  -6881.39357952]])"
      ]
     },
     "execution_count": 30,
     "metadata": {},
     "output_type": "execute_result"
    }
   ],
   "source": [
    "areas = np.array(areas)\n",
    "areas"
   ]
  },
  {
   "cell_type": "code",
   "execution_count": 35,
   "metadata": {},
   "outputs": [
    {
     "data": {
      "text/plain": [
       "[<matplotlib.lines.Line2D at 0x1ad3e319570>]"
      ]
     },
     "execution_count": 35,
     "metadata": {},
     "output_type": "execute_result"
    },
    {
     "data": {
      "image/png": "[encoded data removed]",
      "text/plain": [
       "<Figure size 640x480 with 1 Axes>"
      ]
     },
     "metadata": {},
     "output_type": "display_data"
    }
   ],
   "source": [
    "plt.plot(np.arange(100,300,10), areas[:,1]-areas[:,0])"
   ]
  },
  {
   "cell_type": "code",
   "execution_count": null,
   "metadata": {},
   "outputs": [],
   "source": [
    "# dumpname = \"../output/toybox_tok_04151041.pkl\"\n",
    "dumpname = \"../../runs/toybox-tok-shear-1504/perturbed-3-2/poincare_04161004.pkl\"\n",
    "\n",
    "# fig_perturbed = pickle.load(open(\"../output/toybox_.pkl\", \"rb\"))\n",
    "fig_perturbed = pickle.load(open(dumpname, \"rb\"))\n",
    "ax_perturbed = fig_perturbed.get_axes()[0]\n",
    "\n",
    "for col in ax_perturbed.collections:\n",
    "    col.set_color('black')\n",
    "    col.set_sizes([0.5])\n",
    "\n",
    "plt.show()"
   ]
  },
  {
   "cell_type": "code",
   "execution_count": null,
   "metadata": {},
   "outputs": [],
   "source": [
    "ax_perturbed.set_xlim(3, 9)\n",
    "ax_perturbed.set_ylim(-6, 2.3)"
   ]
  },
  {
   "cell_type": "code",
   "execution_count": null,
   "metadata": {},
   "outputs": [],
   "source": [
    "ax_perturbed.set_xlim(6., 6.4)\n",
    "ax_perturbed.set_ylim(-4.6, -4.4)"
   ]
  },
  {
   "cell_type": "code",
   "execution_count": null,
   "metadata": {},
   "outputs": [],
   "source": [
    "fig_perturbed"
   ]
  },
  {
   "cell_type": "code",
   "execution_count": null,
   "metadata": {},
   "outputs": [],
   "source": [
    "out = manifold.stable['+'].T.flatten()\n",
    "plt.plot(out[::2], out[1::2], '-o', label='stable manifold')\n",
    "plt.legend()"
   ]
  },
  {
   "cell_type": "code",
   "execution_count": null,
   "metadata": {},
   "outputs": [],
   "source": [
    "plt.plot(rzs[:,0], rzs[:,1], '-o')"
   ]
  },
  {
   "cell_type": "code",
   "execution_count": null,
   "metadata": {},
   "outputs": [],
   "source": [
    "out = rzs_ev.T\n",
    "for yy in out:\n",
    "    plt.plot(yy[::2], yy[1::2], '-o')"
   ]
  },
  {
   "cell_type": "code",
   "execution_count": null,
   "metadata": {},
   "outputs": [],
   "source": [
    "fig_perturbed, ax_perturbed = pplot.plot(marker=\".\", s=1)\n",
    "\n",
    "ax_perturbed.set_xlim(6.18, 6.25)\n",
    "ax_perturbed.set_ylim(-4.55, -4.45)\n",
    "\n",
    "manifold.plot(ax_perturbed, directions=\"s+u+\")"
   ]
  },
  {
   "cell_type": "code",
   "execution_count": null,
   "metadata": {},
   "outputs": [],
   "source": [
    "# general view\n",
    "ax_perturbed.set_xlim(2.3, 4)\n",
    "ax_perturbed.set_ylim(-1.9,1)"
   ]
  },
  {
   "cell_type": "code",
   "execution_count": null,
   "metadata": {},
   "outputs": [],
   "source": [
    "# plan americain\n",
    "ax_perturbed.set_xlim(3, 3.2)\n",
    "ax_perturbed.set_ylim(-1.7, -1.6)"
   ]
  },
  {
   "cell_type": "code",
   "execution_count": null,
   "metadata": {},
   "outputs": [],
   "source": [
    "# close up view\n",
    "ax_perturbed.set_xlim(3.08, 3.13)\n",
    "ax_perturbed.set_ylim(-1.67, -1.63)"
   ]
  },
  {
   "cell_type": "code",
   "execution_count": null,
   "metadata": {},
   "outputs": [],
   "source": [
    "ax_perturbed.set_xlim(4, 8)\n",
    "ax_perturbed.set_ylim(-8, 3)"
   ]
  },
  {
   "cell_type": "code",
   "execution_count": null,
   "metadata": {},
   "outputs": [],
   "source": [
    "ax_perturbed.set_xlim(6.15, 6.26)\n",
    "ax_perturbed.set_ylim(-4.6, -4.4)"
   ]
  },
  {
   "cell_type": "code",
   "execution_count": null,
   "metadata": {},
   "outputs": [],
   "source": [
    "fig_perturbed"
   ]
  }
 ],
 "metadata": {
  "kernelspec": {
   "display_name": "simsopt",
   "language": "python",
   "name": "python3"
  },
  "language_info": {
   "codemirror_mode": {
    "name": "ipython",
    "version": 3
   },
   "file_extension": ".py",
   "mimetype": "text/x-python",
   "name": "python",
   "nbconvert_exporter": "python",
   "pygments_lexer": "ipython3",
   "version": "3.10.13"
  }
 },
 "nbformat": 4,
 "nbformat_minor": 2
}
