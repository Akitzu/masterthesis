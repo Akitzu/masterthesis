{
 "cells": [
  {
   "cell_type": "code",
   "execution_count": 1,
   "metadata": {},
   "outputs": [],
   "source": [
    "from pyoculus.problems import CylindricalBfield, AnalyticCylindricalBfield\n",
    "from pyoculus.solvers import PoincarePlot, FixedPoint, Manifold\n",
    "import matplotlib.pyplot as plt\n",
    "import numpy as np\n",
    "import datetime\n",
    "import pickle"
   ]
  },
  {
   "cell_type": "code",
   "execution_count": 3,
   "metadata": {},
   "outputs": [
    {
     "name": "stdout",
     "output_type": "stream",
     "text": [
      "0 - dr : 0.02290324895580045\n",
      "1 - RZ : [ 6.41398572 -0.69363305]\n",
      "1 - dr : 0.0001521514183698729\n",
      "2 - RZ : [ 6.41409781 -0.69367862]\n",
      "2 - dr : 1.3221698258761472e-08\n",
      "3 - RZ : [ 6.41409781 -0.69367863]\n",
      "3 - dr : 3.568292035180542e-15\n"
     ]
    }
   ],
   "source": [
    "# separatrix = {\"type\": \"circular-current-loop\", \"amplitude\": -4.2, \"R\": 3, \"Z\": -2.2}\n",
    "separatrix = {\"type\": \"circular-current-loop\", \"amplitude\": -10, \"R\": 6, \"Z\": -5.5}\n",
    "# separatrix = {\"type\": \"circular-current-loop\", \"amplitude\": -4, \"R\": 3, \"Z\": -2.2}\n",
    "maxwellboltzmann = {\"m\": 7, \"n\": -1, \"d\": np.sqrt(2), \"type\": \"maxwell-boltzmann\", \"amplitude\": 0.1, \"A\": 1, \"B\": 2}\n",
    "# gaussian10 = {\"m\": 1, \"n\": 0, \"d\": 1, \"type\": \"gaussian\", \"amplitude\": 0.1}\n",
    "\n",
    "ps = AnalyticCylindricalBfield.without_axis(6, 0, 0.91, 0.6, perturbations_args = [separatrix], Rbegin = 2, Rend = 8, niter = 800, guess=[6.4,-0.7],  tol = 1e-9)\n",
    "# ps.add_perturbation(maxwellboltzmann)\n",
    "# ps = AnalyticCylindricalBfield(3, 0, 0.9, 0.7, perturbations_args = [separatrix])"
   ]
  },
  {
   "cell_type": "markdown",
   "metadata": {},
   "source": [
    "### Finding fixed points"
   ]
  },
  {
   "cell_type": "code",
   "execution_count": 3,
   "metadata": {},
   "outputs": [
    {
     "name": "stdout",
     "output_type": "stream",
     "text": [
      "0 - [DeltaR, DeltaZ] : [0.31173615 0.2138405 ] - dtheta : 0.08449022978024034\n",
      "0 - [StepR, StepZ]: [-0.00118302 -0.04520414]\n",
      "1 - RZ : [ 6.19881698 -4.49520414] - rhotheta : [ 3.80761632 -1.62736602]\n",
      "1 - [DeltaR, DeltaZ] : [-0.11753869 -0.11778612] - dtheta : 0.02814491773408445\n",
      "1 - [StepR, StepZ]: [0.00407528 0.0023742 ]\n",
      "2 - RZ : [ 6.20289227 -4.49282994] - rhotheta : [ 3.80501754 -1.62633198]\n",
      "2 - [DeltaR, DeltaZ] : [-0.00943189 -0.01458011] - dtheta : 0.0022533535789532877\n",
      "2 - [StepR, StepZ]: [ 0.00281002 -0.00375591]\n",
      "3 - RZ : [ 6.20570228 -4.49658586] - rhotheta : [ 3.80861288 -1.62554058]\n",
      "3 - [DeltaR, DeltaZ] : [7.67243047e-05 2.13139128e-05] - dtheta : 1.980868804474234e-05\n",
      "3 - [StepR, StepZ]: [ 1.64771197e-05 -3.42847330e-05]\n",
      "4 - RZ : [ 6.20571876 -4.49662014] - rhotheta : [ 3.80864621 -1.62553576]\n",
      "4 - [DeltaR, DeltaZ] : [-1.68349779e-10 -9.47335543e-10] - dtheta : 3.407696347323963e-11\n",
      "4 - [StepR, StepZ]: [ 3.30419248e-10 -5.30092414e-10]\n",
      "5 - RZ : [ 6.20571876 -4.49662014] - rhotheta : [ 3.80864621 -1.62553576]\n",
      "5 - [DeltaR, DeltaZ] : [-1.08357767e-13 -9.59232693e-14] - dtheta : 3.5766944961324043e-12\n"
     ]
    },
    {
     "data": {
      "text/plain": [
       "<pyoculus.solvers.base_solver.BaseSolver.OutputData at 0x1c5515b7df0>"
      ]
     },
     "execution_count": 3,
     "metadata": {},
     "output_type": "execute_result"
    }
   ],
   "source": [
    "# set up the integrator\n",
    "iparams = dict()\n",
    "iparams[\"rtol\"] = 1e-7\n",
    "\n",
    "pparams = dict()\n",
    "pparams[\"nrestart\"] = 0\n",
    "pparams['niter'] = 600\n",
    "\n",
    "fp_perturbed = FixedPoint(ps, pparams, integrator_params=iparams)\n",
    "\n",
    "# fp_perturbed.compute(guess=[fp.x[0], fp.z[0]], pp=0, qq=1, sbegin=0.1, send=6, tol = 1e-10)\n",
    "# fp_perturbed.compute(guess=[3.117263523069049, -1.6173346133145015], pp=0, qq=1, sbegin=0.1, send=6, tol = 1e-10)\n",
    "# fp_perturbed.compute(guess=[3.1072023810385443, -1.655410284892828], pp=0, qq=1, sbegin=0.1, send=6, tol = 4e-12)\n",
    "# fp_perturbed.compute(guess=[3.117264916246293, -1.617334822348791], pp=0, qq=1, sbegin=0.1, send=6, tol = 1e-10)\n",
    "# fp_perturbed.compute(guess=[4.624454, 0.], pp=0, qq=1, sbegin=0.1, send=6, tol = 1e-10)\n",
    "# fp_perturbed.compute(guess=[4.43582958 -1.22440153], pp=0, qq=1, sbegin=0.1, send=6, tol = 1e-10)\n",
    "fp_perturbed.compute(guess=[6.2, -4.45], pp=0, qq=1, sbegin=1, send=8, tol = 1e-10)"
   ]
  },
  {
   "cell_type": "code",
   "execution_count": 4,
   "metadata": {},
   "outputs": [],
   "source": [
    "results = [list(p) for p in zip(fp_perturbed.x, fp_perturbed.y, fp_perturbed.z)]"
   ]
  },
  {
   "cell_type": "code",
   "execution_count": 5,
   "metadata": {},
   "outputs": [
    {
     "data": {
      "text/plain": [
       "[[6.205718761264171, 0.0, -4.496620141391966],\n",
       " [6.2057187612640625, 0.0, -4.496620141392062]]"
      ]
     },
     "execution_count": 5,
     "metadata": {},
     "output_type": "execute_result"
    }
   ],
   "source": [
    "results"
   ]
  },
  {
   "cell_type": "markdown",
   "metadata": {},
   "source": [
    "### Poincare"
   ]
  },
  {
   "cell_type": "code",
   "execution_count": null,
   "metadata": {},
   "outputs": [],
   "source": [
    "# set up the integrator for the Poincare\n",
    "iparams = dict()\n",
    "iparams[\"rtol\"] = 1e-10\n",
    "\n",
    "# set up the Poincare plot\n",
    "pparams = dict()\n",
    "pparams[\"nPtrj\"] = 8\n",
    "pparams[\"nPpts\"] = 150\n",
    "pparams[\"zeta\"] = 0\n",
    "\n",
    "# # Set RZs for the normal (R-only) computation\n",
    "# pparams[\"Rbegin\"] = 6.3\n",
    "# pparams[\"Rend\"] = 9.1\n",
    "\n",
    "# Set RZs for the tweaked (R-Z) computation\n",
    "nfieldlines = pparams[\"nPtrj\"] + 1\n",
    "\n",
    "# Directly setting the RZs\n",
    "# Rs = np.linspace(6, 3.15, nfieldlines)\n",
    "# Zs = np.linspace(-0.43, -2.5, nfieldlines)\n",
    "# RZs = np.array([[r, z] for r, z in zip(Rs, Zs)])\n",
    "\n",
    "# Two interval computation opoint to xpoint then xpoint to coilpoint\n",
    "n1, n2 = int(np.ceil(nfieldlines / 2)), int(np.floor(nfieldlines / 2))\n",
    "xpoint = np.array([results[0][0], results[0][2]])\n",
    "opoint = np.array([ps._R0, ps._Z0])\n",
    "coilpoint = np.array(\n",
    "    [ps.perturbations_args[0][\"R\"], ps.perturbations_args[0][\"Z\"]]\n",
    ")\n",
    "\n",
    "# Simple way from opoint to xpoint then to coilpoint\n",
    "Rs = np.concatenate((np.linspace(opoint[0]+1e-4, xpoint[0], n1), np.linspace(xpoint[0], coilpoint[0]-1e-4, n2)))\n",
    "Zs = np.concatenate((np.linspace(opoint[1]+1e-4, xpoint[1], n1), np.linspace(xpoint[1], coilpoint[1]-1e-4, n2)))\n",
    "RZs = np.array([[r, z] for r, z in zip(Rs, Zs)])\n",
    "\n",
    "# Sophisticated way more around the xpoint\n",
    "# deps = 0.05\n",
    "# RZ1 = xpoint + deps * (1 - np.linspace(0, 1, n1)).reshape((n1, 1)) @ (\n",
    "#     opoint - xpoint\n",
    "# ).reshape((1, 2))\n",
    "# RZ2 = xpoint + deps * np.linspace(0, 1, n2).reshape((n2, 1)) @ (\n",
    "#     coilpoint - xpoint\n",
    "# ).reshape((1, 2))\n",
    "# RZs = np.concatenate((RZ1, RZ2))\n",
    "\n",
    "# Set up the Poincare plot object\n",
    "pplot = PoincarePlot(ps, pparams, integrator_params=iparams)"
   ]
  },
  {
   "cell_type": "code",
   "execution_count": null,
   "metadata": {},
   "outputs": [],
   "source": [
    "# # R-only computation\n",
    "# pplot.compute()\n",
    "\n",
    "# R-Z computation\n",
    "pplot.compute(RZs)"
   ]
  },
  {
   "cell_type": "code",
   "execution_count": null,
   "metadata": {},
   "outputs": [],
   "source": [
    "fig_perturbed, ax_perturbed = pplot.plot(marker=\".\", s=1)\n",
    "\n",
    "ax_perturbed.scatter(results[0][0], results[0][2], marker=\"X\", edgecolors=\"black\", linewidths=1)\n",
    "ax_perturbed.scatter(ps._R0, ps._Z0, marker=\"o\", edgecolors=\"black\", linewidths=1)\n",
    "plt.show()"
   ]
  },
  {
   "cell_type": "code",
   "execution_count": null,
   "metadata": {},
   "outputs": [],
   "source": [
    "date = datetime.datetime.now().strftime(\"%m%d%H%M\")\n",
    "dumpname = f\"../output/toybox_tok_{date}.pkl\"\n",
    "with open(dumpname, \"wb\") as f:\n",
    "    pickle.dump(fig_perturbed, f)"
   ]
  },
  {
   "cell_type": "markdown",
   "metadata": {},
   "source": [
    "### Back on manifold"
   ]
  },
  {
   "cell_type": "code",
   "execution_count": 6,
   "metadata": {},
   "outputs": [],
   "source": [
    "iparams = dict()\n",
    "iparams[\"rtol\"] = 1e-12\n",
    "\n",
    "manifold = Manifold(fp_perturbed, ps, integrator_params=iparams)"
   ]
  },
  {
   "cell_type": "code",
   "execution_count": 8,
   "metadata": {},
   "outputs": [
    {
     "data": {
      "text/plain": [
       "(7, 6)"
      ]
     },
     "execution_count": 8,
     "metadata": {},
     "output_type": "execute_result"
    }
   ],
   "source": [
    "# Choose the tangles to work with\n",
    "manifold.choose(0, 0)\n",
    "\n",
    "manifold.find_N(1e-6, 1e-6)"
   ]
  },
  {
   "cell_type": "code",
   "execution_count": 9,
   "metadata": {},
   "outputs": [
    {
     "name": "stdout",
     "output_type": "stream",
     "text": [
      "2024-05-06 12:06:52 [debug    ] Bounds found are : ((1.676677818914139e-09, 1e-08), (3.753209574181477e-09, 1e-08))\n",
      "2024-05-06 12:06:52 [debug    ] [1.03826588e-09]\n",
      "2024-05-06 12:06:52 [info     ] Root finding status : The iteration is not making good progress, as measured by the \n",
      "  improvement from the last ten iterations.\n",
      "2024-05-06 12:06:52 [debug    ] Root finding object :  message: The iteration is not making good progress, as measured by the \n",
      "            improvement from the last ten iterations.\n",
      " success: False\n",
      "  status: 5\n",
      "     fun: [ 1.000e+00  1.000e+00]\n",
      "       x: [-1.930e+01 -1.958e+01]\n",
      "  method: hybr\n",
      "    nfev: 15\n",
      "    fjac: [[ 1.000e+00  0.000e+00]\n",
      "           [ 0.000e+00  1.000e+00]]\n",
      "       r: [-0.000e+00  0.000e+00 -0.000e+00]\n",
      "     qtf: [ 1.000e+00  1.000e+00]\n",
      "2024-05-06 12:06:52 [debug    ] Root finding epsilons : [4.16166109e-09 3.12339521e-09]\n"
     ]
    },
    {
     "ename": "ValueError",
     "evalue": "Homoclinic search not successful.",
     "output_type": "error",
     "traceback": [
      "\u001b[1;31m---------------------------------------------------------------------------\u001b[0m",
      "\u001b[1;31mValueError\u001b[0m                                Traceback (most recent call last)",
      "Cell \u001b[1;32mIn [9], line 2\u001b[0m\n\u001b[0;32m      1\u001b[0m \u001b[38;5;66;03m# Find the homoclinic points\u001b[39;00m\n\u001b[1;32m----> 2\u001b[0m eps_s_1, eps_u_1 \u001b[38;5;241m=\u001b[39m \u001b[43mmanifold\u001b[49m\u001b[38;5;241;43m.\u001b[39;49m\u001b[43mfind_homoclinic\u001b[49m\u001b[43m(\u001b[49m\u001b[38;5;241;43m1e-8\u001b[39;49m\u001b[43m,\u001b[49m\u001b[43m \u001b[49m\u001b[38;5;241;43m1e-8\u001b[39;49m\u001b[43m,\u001b[49m\u001b[43m \u001b[49m\u001b[43mn_s\u001b[49m\u001b[43m \u001b[49m\u001b[38;5;241;43m=\u001b[39;49m\u001b[43m \u001b[49m\u001b[38;5;241;43m7\u001b[39;49m\u001b[43m,\u001b[49m\u001b[43m \u001b[49m\u001b[43mn_u\u001b[49m\u001b[43m \u001b[49m\u001b[38;5;241;43m=\u001b[39;49m\u001b[43m \u001b[49m\u001b[38;5;241;43m7\u001b[39;49m\u001b[43m)\u001b[49m\n",
      "File \u001b[1;32m~\\kDrive\\etudes\\EPFL\\masterthesis\\imports\\pyoculus\\pyoculus\\solvers\\manifold.py:450\u001b[0m, in \u001b[0;36mManifold.find_homoclinic\u001b[1;34m(self, guess_eps_s, guess_eps_u, **kwargs)\u001b[0m\n\u001b[0;32m    447\u001b[0m log\u001b[38;5;241m.\u001b[39mdebug(\u001b[38;5;124mf\u001b[39m\u001b[38;5;124m\"\u001b[39m\u001b[38;5;124mRoot finding epsilons : \u001b[39m\u001b[38;5;132;01m{\u001b[39;00mnp\u001b[38;5;241m.\u001b[39mexp(r\u001b[38;5;241m.\u001b[39mx)\u001b[38;5;132;01m}\u001b[39;00m\u001b[38;5;124m\"\u001b[39m)\n\u001b[0;32m    449\u001b[0m \u001b[38;5;28;01mif\u001b[39;00m \u001b[38;5;129;01mnot\u001b[39;00m r\u001b[38;5;241m.\u001b[39msuccess:\n\u001b[1;32m--> 450\u001b[0m     \u001b[38;5;28;01mraise\u001b[39;00m \u001b[38;5;167;01mValueError\u001b[39;00m(\u001b[38;5;124m\"\u001b[39m\u001b[38;5;124mHomoclinic search not successful.\u001b[39m\u001b[38;5;124m\"\u001b[39m)\n\u001b[0;32m    452\u001b[0m eps_s, eps_u \u001b[38;5;241m=\u001b[39m np\u001b[38;5;241m.\u001b[39mexp(r\u001b[38;5;241m.\u001b[39mx)\n\u001b[0;32m    453\u001b[0m log\u001b[38;5;241m.\u001b[39minfo(\n\u001b[0;32m    454\u001b[0m     \u001b[38;5;124mf\u001b[39m\u001b[38;5;124m\"\u001b[39m\u001b[38;5;124mEps_s : \u001b[39m\u001b[38;5;132;01m{\u001b[39;00meps_s\u001b[38;5;132;01m:\u001b[39;00m\u001b[38;5;124m.3e\u001b[39m\u001b[38;5;132;01m}\u001b[39;00m\u001b[38;5;124m, Eps_u : \u001b[39m\u001b[38;5;132;01m{\u001b[39;00meps_u\u001b[38;5;132;01m:\u001b[39;00m\u001b[38;5;124m.3e\u001b[39m\u001b[38;5;132;01m}\u001b[39;00m\u001b[38;5;124m gives a difference in endpoint [R,Z] : \u001b[39m\u001b[38;5;132;01m{\u001b[39;00mr\u001b[38;5;241m.\u001b[39mfun\u001b[38;5;132;01m}\u001b[39;00m\u001b[38;5;124m\"\u001b[39m\n\u001b[0;32m    455\u001b[0m )\n",
      "\u001b[1;31mValueError\u001b[0m: Homoclinic search not successful."
     ]
    }
   ],
   "source": [
    "# Find the homoclinic points\n",
    "eps_s_1, eps_u_1 = manifold.find_homoclinic(1e-8, 1e-8, n_s = 7, n_u = 7)"
   ]
  },
  {
   "cell_type": "code",
   "execution_count": null,
   "metadata": {},
   "outputs": [],
   "source": [
    "manifold.clinics"
   ]
  },
  {
   "cell_type": "code",
   "execution_count": null,
   "metadata": {},
   "outputs": [],
   "source": [
    "guess_2 = [eps_s_1*np.power(manifold.lambda_s, 1/2), eps_u_1*np.power(manifold.lambda_u, 1/2)]\n",
    "print(f\"2nd initial guess: {guess_2}\")\n",
    "eps_s_2, eps_u_2 = find_homoclinic(manifold, guess_2[0], guess_2[1], n_s = 7, n_u = 7)"
   ]
  },
  {
   "cell_type": "code",
   "execution_count": null,
   "metadata": {},
   "outputs": [],
   "source": [
    "# Plot the homoclinic points\n",
    "print(\"\\nPlotting homoclinic points\")\n",
    "hs_1 = manifold.integrate(manifold.rfp_s + eps_s_1 * manifold.vector_s, 7, -1)\n",
    "hs_2 = manifold.integrate(manifold.rfp_s + eps_s_2 * manifold.vector_s, 7, -1)\n",
    "\n",
    "hu_1 = manifold.integrate(manifold.rfp_u + eps_u_1 * manifold.vector_u, 7, 1)\n",
    "hu_2 = manifold.integrate(manifold.rfp_u + eps_u_2 * manifold.vector_u, 7, 1)"
   ]
  },
  {
   "cell_type": "code",
   "execution_count": null,
   "metadata": {},
   "outputs": [],
   "source": [
    "ax_perturbed.scatter(hs_1[0,:], hs_1[1,:], marker=\"x\", color=\"purple\", zorder=10)\n",
    "ax_perturbed.scatter(hs_2[0,:], hs_2[1,:], marker=\"+\", color=\"purple\", zorder=10)\n",
    "\n",
    "ax_perturbed.scatter(hu_1[0,:], hu_1[1,:], marker=\"x\", color=\"blue\", zorder=10)\n",
    "ax_perturbed.scatter(hu_2[0,:], hu_2[1,:], marker=\"+\", color=\"blue\", zorder=10)"
   ]
  },
  {
   "cell_type": "code",
   "execution_count": null,
   "metadata": {},
   "outputs": [],
   "source": [
    "print(\"\\nComputing the manifold\\n\")\n",
    "manifold.compute(nintersect = 9, neps = 300, epsilon=1e-7)"
   ]
  },
  {
   "cell_type": "code",
   "execution_count": null,
   "metadata": {},
   "outputs": [],
   "source": [
    "print(\"\\nPlotting the manifold\\n\")\n",
    "manifold.plot(ax_perturbed, directions=\"u+s+\")"
   ]
  },
  {
   "cell_type": "code",
   "execution_count": null,
   "metadata": {},
   "outputs": [],
   "source": [
    "# ax_perturbed.set_xlim(6., 8)\n",
    "# ax_perturbed.set_ylim(-4.6, -4)\n",
    "fig_perturbed"
   ]
  },
  {
   "cell_type": "code",
   "execution_count": null,
   "metadata": {},
   "outputs": [],
   "source": [
    "ax_perturbed.scatter(manifold.clinics[0][0], manifold.clinics[0][1], marker=\"o\", color=\"magenta\", zorder=10)\n",
    "ax_perturbed.scatter(manifold.clinics[1][0], manifold.clinics[1][1], marker=\"o\", color=\"magenta\", zorder=10)"
   ]
  },
  {
   "cell_type": "code",
   "execution_count": null,
   "metadata": {},
   "outputs": [],
   "source": [
    "fig_perturbed"
   ]
  },
  {
   "cell_type": "code",
   "execution_count": null,
   "metadata": {},
   "outputs": [],
   "source": [
    "def resonance_area(self, n_b, n_f):\n",
    "    # considering the >_u ordering of the homoclinic points\n",
    "    areas = []\n",
    "    for homoclinic in self.clinics:\n",
    "        n_tmp_f, n_tmp_b = 1, 1\n",
    "\n",
    "        # Forward integration\n",
    "        rze_forward = homoclinic\n",
    "        area_forward = []\n",
    "        while n_tmp_f < n_f:\n",
    "            rze_end, area_tmp = self.integrate_single(rze_forward, 1, direction=1, ret_jacobian=False, integrate_A=True)\n",
    "            # if np.linalg.norm(rze_end - self.rfp_s) > np.linalg.norm(rze_forward - self.rfp_s):\n",
    "            #     print(\"Forward integration goes away from saddle\")\n",
    "            rze_forward = rze_end\n",
    "            ax_perturbed.scatter(rze_end[0], rze_end[1], marker=\"s\", s=10, color=\"red\", zorder=10)\n",
    "            area_forward.append(area_tmp)\n",
    "            n_tmp_f += 1\n",
    "        \n",
    "        # Backward integration\n",
    "        rze_backward = homoclinic\n",
    "        area_backward = []\n",
    "        while n_tmp_b < n_b:\n",
    "            rze_end, area_tmp = self.integrate_single(rze_backward, 1, direction=-1, ret_jacobian=False, integrate_A=True)\n",
    "            rze_backward = rze_end\n",
    "            ax_perturbed.scatter(rze_end[0], rze_end[1], marker=\"s\", s=10, color=\"orange\", zorder=10)\n",
    "            area_backward.append(area_tmp)\n",
    "            n_tmp_b += 1\n",
    "        \n",
    "        area_forward = np.array(area_forward)\n",
    "        area_backward = np.array(area_backward)\n",
    "\n",
    "        areas.append([area_forward, area_backward])\n",
    "    return areas"
   ]
  },
  {
   "cell_type": "code",
   "execution_count": null,
   "metadata": {},
   "outputs": [],
   "source": [
    "are = resonance_area(manifold, 8, 10)\n",
    "are"
   ]
  },
  {
   "cell_type": "code",
   "execution_count": null,
   "metadata": {},
   "outputs": [],
   "source": [
    "fig_perturbed"
   ]
  },
  {
   "cell_type": "code",
   "execution_count": null,
   "metadata": {},
   "outputs": [],
   "source": [
    "A1 = np.concatenate((-are[0][0][:10], are[0][1][:8])).sum()"
   ]
  },
  {
   "cell_type": "code",
   "execution_count": null,
   "metadata": {},
   "outputs": [],
   "source": [
    "A2 = np.concatenate((-are[1][0][:10], are[1][1][:8])).sum()"
   ]
  },
  {
   "cell_type": "code",
   "execution_count": null,
   "metadata": {},
   "outputs": [],
   "source": [
    "A2-A1"
   ]
  },
  {
   "cell_type": "code",
   "execution_count": null,
   "metadata": {},
   "outputs": [],
   "source": [
    "are[1]-are[0]"
   ]
  },
  {
   "cell_type": "code",
   "execution_count": null,
   "metadata": {},
   "outputs": [],
   "source": [
    "areas = []\n",
    "for i in range(100,300,10):\n",
    "    print(f\"Computing for n = {i}\")\n",
    "    areas.append(resonance_area(manifold, i, i))"
   ]
  },
  {
   "cell_type": "code",
   "execution_count": null,
   "metadata": {},
   "outputs": [],
   "source": [
    "areas"
   ]
  },
  {
   "cell_type": "code",
   "execution_count": null,
   "metadata": {},
   "outputs": [],
   "source": [
    "areas = np.array(areas)\n",
    "areas"
   ]
  },
  {
   "cell_type": "code",
   "execution_count": null,
   "metadata": {},
   "outputs": [],
   "source": [
    "plt.plot(np.arange(100,300,10), areas[:,1]-areas[:,0])"
   ]
  },
  {
   "cell_type": "code",
   "execution_count": null,
   "metadata": {},
   "outputs": [],
   "source": [
    "# dumpname = \"../output/toybox_tok_04151041.pkl\"\n",
    "dumpname = \"../../runs/toybox-tok-shear-1504/perturbed-3-2/poincare_04161004.pkl\"\n",
    "\n",
    "# fig_perturbed = pickle.load(open(\"../output/toybox_.pkl\", \"rb\"))\n",
    "fig_perturbed = pickle.load(open(dumpname, \"rb\"))\n",
    "ax_perturbed = fig_perturbed.get_axes()[0]\n",
    "\n",
    "for col in ax_perturbed.collections:\n",
    "    col.set_color('black')\n",
    "    col.set_sizes([0.5])\n",
    "\n",
    "plt.show()"
   ]
  },
  {
   "cell_type": "code",
   "execution_count": null,
   "metadata": {},
   "outputs": [],
   "source": [
    "ax_perturbed.set_xlim(3, 9)\n",
    "ax_perturbed.set_ylim(-6, 2.3)"
   ]
  },
  {
   "cell_type": "code",
   "execution_count": null,
   "metadata": {},
   "outputs": [],
   "source": [
    "ax_perturbed.set_xlim(6., 6.4)\n",
    "ax_perturbed.set_ylim(-4.6, -4.4)"
   ]
  },
  {
   "cell_type": "code",
   "execution_count": null,
   "metadata": {},
   "outputs": [],
   "source": [
    "fig_perturbed"
   ]
  },
  {
   "cell_type": "code",
   "execution_count": null,
   "metadata": {},
   "outputs": [],
   "source": [
    "out = manifold.stable['+'].T.flatten()\n",
    "plt.plot(out[::2], out[1::2], '-o', label='stable manifold')\n",
    "plt.legend()"
   ]
  },
  {
   "cell_type": "code",
   "execution_count": null,
   "metadata": {},
   "outputs": [],
   "source": [
    "plt.plot(rzs[:,0], rzs[:,1], '-o')"
   ]
  },
  {
   "cell_type": "code",
   "execution_count": null,
   "metadata": {},
   "outputs": [],
   "source": [
    "out = rzs_ev.T\n",
    "for yy in out:\n",
    "    plt.plot(yy[::2], yy[1::2], '-o')"
   ]
  },
  {
   "cell_type": "code",
   "execution_count": null,
   "metadata": {},
   "outputs": [],
   "source": [
    "fig_perturbed, ax_perturbed = pplot.plot(marker=\".\", s=1)\n",
    "\n",
    "ax_perturbed.set_xlim(6.18, 6.25)\n",
    "ax_perturbed.set_ylim(-4.55, -4.45)\n",
    "\n",
    "manifold.plot(ax_perturbed, directions=\"s+u+\")"
   ]
  },
  {
   "cell_type": "code",
   "execution_count": null,
   "metadata": {},
   "outputs": [],
   "source": [
    "# general view\n",
    "ax_perturbed.set_xlim(2.3, 4)\n",
    "ax_perturbed.set_ylim(-1.9,1)"
   ]
  },
  {
   "cell_type": "code",
   "execution_count": null,
   "metadata": {},
   "outputs": [],
   "source": [
    "# plan americain\n",
    "ax_perturbed.set_xlim(3, 3.2)\n",
    "ax_perturbed.set_ylim(-1.7, -1.6)"
   ]
  },
  {
   "cell_type": "code",
   "execution_count": null,
   "metadata": {},
   "outputs": [],
   "source": [
    "# close up view\n",
    "ax_perturbed.set_xlim(3.08, 3.13)\n",
    "ax_perturbed.set_ylim(-1.67, -1.63)"
   ]
  },
  {
   "cell_type": "code",
   "execution_count": null,
   "metadata": {},
   "outputs": [],
   "source": [
    "ax_perturbed.set_xlim(4, 8)\n",
    "ax_perturbed.set_ylim(-8, 3)"
   ]
  },
  {
   "cell_type": "code",
   "execution_count": null,
   "metadata": {},
   "outputs": [],
   "source": [
    "ax_perturbed.set_xlim(6.15, 6.26)\n",
    "ax_perturbed.set_ylim(-4.6, -4.4)"
   ]
  },
  {
   "cell_type": "code",
   "execution_count": null,
   "metadata": {},
   "outputs": [],
   "source": [
    "fig_perturbed"
   ]
  }
 ],
 "metadata": {
  "kernelspec": {
   "display_name": "simsopt",
   "language": "python",
   "name": "python3"
  },
  "language_info": {
   "codemirror_mode": {
    "name": "ipython",
    "version": 3
   },
   "file_extension": ".py",
   "mimetype": "text/x-python",
   "name": "python",
   "nbconvert_exporter": "python",
   "pygments_lexer": "ipython3",
   "version": "3.10.13"
  }
 },
 "nbformat": 4,
 "nbformat_minor": 2
}
