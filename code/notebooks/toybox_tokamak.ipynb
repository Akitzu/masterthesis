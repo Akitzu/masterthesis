{
 "cells": [
  {
   "cell_type": "code",
   "execution_count": null,
   "metadata": {},
   "outputs": [],
   "source": [
    "from pyoculus.problems import CylindricalBfield, AnalyticCylindricalBfield\n",
    "from pyoculus.solvers import PoincarePlot\n",
    "import matplotlib.pyplot as plt\n",
    "import numpy as np"
   ]
  },
  {
   "cell_type": "markdown",
   "metadata": {},
   "source": [
    "#### Equilibrium and creating single null configuration"
   ]
  },
  {
   "cell_type": "code",
   "execution_count": null,
   "metadata": {},
   "outputs": [],
   "source": [
    "separatrix = {\"type\": \"circular-current-loop\", \"amplitude\": -4, \"R\": 3, \"Z\": -2.2 }\n",
    "\n",
    "ps = AnalyticCylindricalBfield.without_axis(3, 0, 0.91, 0.7, perturbations_args = [separatrix], Rbegin = 1, Rend = 5, niter = 800, guess=[3.,-0.1],  tol = 1e-9)\n",
    "# ps = AnalyticCylindricalBfield(3, 0, 0.9, 0.7, perturbations_args = [separatrix])"
   ]
  },
  {
   "cell_type": "code",
   "execution_count": null,
   "metadata": {},
   "outputs": [],
   "source": [
    "pert = ps.perturbations[1]\n",
    "Rs, Zs = np.meshgrid(np.linspace(1, 5, 100), np.linspace(-5, 5, 100))\n",
    "Bs = [pert([R, 0, Z]) for R, Z in zip(Rs.ravel(), Zs.ravel())]\n",
    "\n",
    "plt.quiver(Rs, Zs, np.array(Bs)[:,0], np.array(Bs)[:,2])"
   ]
  },
  {
   "cell_type": "code",
   "execution_count": null,
   "metadata": {},
   "outputs": [],
   "source": [
    "ps.B([3.,0.,0.])\n",
    "%timeit ps.B([3.,0.,0.])"
   ]
  },
  {
   "cell_type": "code",
   "execution_count": null,
   "metadata": {},
   "outputs": [],
   "source": [
    "import matplotlib.pyplot as plt\n",
    "fig, ax = plt.subplots()\n",
    "\n",
    "zs = np.linspace(-10, 10, 100)\n",
    "# Brs = [ps.B([3.2, 0., z])[0] for z in zs]\n",
    "Brs = [pert([3.2, 0., z])[1] for z in zs]\n",
    "ax.plot(Brs, zs)\n",
    "\n",
    "# pt = ps.perturbations[0]\n",
    "# Brps = [pt([3., 0., z])[0] for z in zs]\n",
    "# ax.plot(Brps, zs, alpha=0.5)\n",
    "\n",
    "ax.vlines(0, -10, 10, color='k', linestyle='--')\n",
    "# ax.hlines(0, -2, 2, color='k', linestyle='--')\n",
    "ax.set_xlim(-2, 2)"
   ]
  },
  {
   "cell_type": "code",
   "execution_count": null,
   "metadata": {},
   "outputs": [],
   "source": [
    "plot_intensities(ps, [1, 5], [-8, 4], [200, 200])\n",
    "# plot_intensities(ps)"
   ]
  },
  {
   "cell_type": "code",
   "execution_count": null,
   "metadata": {},
   "outputs": [],
   "source": [
    "# set up the integrator\n",
    "iparams = dict()\n",
    "iparams[\"rtol\"] = 1e-7\n",
    "\n",
    "# set up the Poincare plot\n",
    "pparams = dict()\n",
    "pparams[\"Rbegin\"] = 3.01\n",
    "pparams[\"Rend\"] = 5.5\n",
    "pparams[\"nPtrj\"] = 20\n",
    "pparams[\"nPpts\"] = 200\n",
    "pparams[\"zeta\"] = 0\n",
    "# pparams[\"Z\"] = -6\n",
    "\n",
    "# Set RZs\n",
    "nfieldlines = pparams[\"nPtrj\"]+1\n",
    "Rs = np.linspace(3.2, 3.15, nfieldlines)\n",
    "Zs = np.linspace(-0.43, -2.5, nfieldlines)\n",
    "RZs = np.array([[r, z] for r, z in zip(Rs, Zs)])\n",
    "\n",
    "pplot = PoincarePlot(ps, pparams, integrator_params=iparams)\n",
    "pdata = pplot.compute(RZs)\n",
    "# pdata = pplot.compute()"
   ]
  },
  {
   "cell_type": "code",
   "execution_count": null,
   "metadata": {},
   "outputs": [],
   "source": [
    "pplot.plot(marker=\".\", s=1, xlim=[2.3, 4], ylim=[-2.9, 0.8])\n",
    "plt.scatter(ps._R0, ps._Z0, color=\"r\", s=4)\n",
    "# plt.scatter(3.11, -1.66, color=\"r\", s=4)\n",
    "fig = plt.gcf()\n",
    "fig.get_axes()[0].set_ylim()"
   ]
  },
  {
   "cell_type": "code",
   "execution_count": null,
   "metadata": {},
   "outputs": [],
   "source": [
    "ax = fig.get_axes()[0]\n",
    "ax.set_xlim(3, 5)\n",
    "ax.set_ylim(-2.4, 0.5)\n",
    "fig"
   ]
  },
  {
   "cell_type": "code",
   "execution_count": null,
   "metadata": {},
   "outputs": [],
   "source": [
    "ps.B_equilibrium([3.,0.,0.])"
   ]
  },
  {
   "cell_type": "code",
   "execution_count": null,
   "metadata": {},
   "outputs": [],
   "source": [
    "ps.perturbations[0]([3.,0.,0.])"
   ]
  },
  {
   "cell_type": "code",
   "execution_count": null,
   "metadata": {},
   "outputs": [],
   "source": [
    "pplot.compute_iota()\n",
    "pplot.plot_q()"
   ]
  },
  {
   "cell_type": "code",
   "execution_count": null,
   "metadata": {},
   "outputs": [],
   "source": [
    "np.array([]) @ ps.dBdX([3.,0.,0.])"
   ]
  },
  {
   "cell_type": "markdown",
   "metadata": {},
   "source": [
    "#### With perturbation"
   ]
  },
  {
   "cell_type": "code",
   "execution_count": null,
   "metadata": {},
   "outputs": [],
   "source": [
    "maxwellboltzmann = {\"m\": 3, \"n\": -2, \"d\": 1, \"type\": \"maxwell-boltzmann\", \"amplitude\": 0.01}"
   ]
  },
  {
   "cell_type": "code",
   "execution_count": null,
   "metadata": {},
   "outputs": [],
   "source": []
  },
  {
   "cell_type": "markdown",
   "metadata": {},
   "source": [
    "### Finding fixed points"
   ]
  },
  {
   "cell_type": "code",
   "execution_count": null,
   "metadata": {},
   "outputs": [],
   "source": [
    "from pyoculus.solvers import FixedPoint\n",
    "\n",
    "# set up the integrator\n",
    "iparams = dict()\n",
    "iparams[\"rtol\"] = 1e-12\n",
    "\n",
    "pparams = dict()\n",
    "pparams[\"nrestart\"] = 0\n",
    "pparams['niter'] = 300\n",
    "\n",
    "fp = FixedPoint(ps, pparams, integrator_params=iparams)\n",
    "\n",
    "# fp.compute(guess=[3.5, 0], pp=1, qq=2, sbegin=2, send=4, tol = 1e-12)\n",
    "fp.compute(guess=[3.10, -1.66], pp=0, qq=1, sbegin=0.1, send=6, tol = 1e-10)"
   ]
  }
 ],
 "metadata": {
  "kernelspec": {
   "display_name": "simsopt",
   "language": "python",
   "name": "python3"
  },
  "language_info": {
   "codemirror_mode": {
    "name": "ipython",
    "version": 3
   },
   "file_extension": ".py",
   "mimetype": "text/x-python",
   "name": "python",
   "nbconvert_exporter": "python",
   "pygments_lexer": "ipython3",
   "version": "3.10.13"
  }
 },
 "nbformat": 4,
 "nbformat_minor": 2
}
