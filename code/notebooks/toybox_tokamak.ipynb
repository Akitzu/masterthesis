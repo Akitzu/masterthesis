{
 "cells": [
  {
   "cell_type": "code",
   "execution_count": 1,
   "metadata": {},
   "outputs": [],
   "source": [
    "from pyoculus.problems import CylindricalBfield, AnalyticCylindricalBfield\n",
    "from pyoculus.solvers import PoincarePlot, FixedPoint, Manifold\n",
    "import matplotlib.pyplot as plt\n",
    "import numpy as np"
   ]
  },
  {
   "cell_type": "code",
   "execution_count": 2,
   "metadata": {},
   "outputs": [
    {
     "name": "stdout",
     "output_type": "stream",
     "text": [
      "0 - dr : 0.3418164737421992\n",
      "1 - RZ : [ 3.1778155  -0.18167149]\n",
      "1 - dr : 0.13979201614624132\n",
      "2 - RZ : [ 3.21519152 -0.3240059 ]\n",
      "2 - dr : 0.04661035958984216\n",
      "3 - RZ : [ 3.20017709 -0.41327286]\n",
      "3 - dr : 0.008203438308358929\n",
      "4 - RZ : [ 3.19332975 -0.43222151]\n",
      "4 - dr : 0.00013864705915701847\n",
      "5 - RZ : [ 3.1932056  -0.43254513]\n",
      "5 - dr : 2.3998053967408225e-08\n",
      "6 - RZ : [ 3.19320558 -0.43254519]\n",
      "6 - dr : 1.6326319374041212e-15\n"
     ]
    }
   ],
   "source": [
    "# separatrix = {\"type\": \"circular-current-loop\", \"amplitude\": -4.2, \"R\": 3, \"Z\": -2.2}\n",
    "separatrix = {\"type\": \"circular-current-loop\", \"amplitude\": -4, \"R\": 3, \"Z\": -2.2}\n",
    "maxwellboltzmann = {\"m\": 3, \"n\": -2, \"d\": 1, \"type\": \"maxwell-boltzmann\", \"amplitude\": 1e-5}\n",
    "gaussian10 = {\"m\": 1, \"n\": 0, \"d\": 1, \"type\": \"gaussian\", \"amplitude\": 0.1}\n",
    "\n",
    "ps = AnalyticCylindricalBfield.without_axis(3, 0, 0.91, 0.7, perturbations_args = [separatrix, maxwellboltzmann], Rbegin = 1, Rend = 5, niter = 800, guess=[3.,-0.1],  tol = 1e-9)\n",
    "# ps = AnalyticCylindricalBfield(3, 0, 0.9, 0.7, perturbations_args = [separatrix])"
   ]
  },
  {
   "cell_type": "markdown",
   "metadata": {},
   "source": [
    "#### Equilibrium and creating single null configuration"
   ]
  },
  {
   "cell_type": "code",
   "execution_count": null,
   "metadata": {},
   "outputs": [],
   "source": [
    "# set up the integrator\n",
    "iparams = dict()\n",
    "iparams[\"rtol\"] = 1e-10\n",
    "\n",
    "# set up the Poincare plot\n",
    "pparams = dict()\n",
    "pparams[\"Rbegin\"] = 3.\n",
    "pparams[\"Rend\"] = 6\n",
    "pparams[\"nPtrj\"] = 20\n",
    "pparams[\"nPpts\"] = 200\n",
    "pparams[\"zeta\"] = 0\n",
    "# pparams[\"Z\"] = -6\n",
    "\n",
    "# Set RZs\n",
    "nfieldlines = pparams[\"nPtrj\"]+1\n",
    "Rs = np.linspace(3.326, 4.7, nfieldlines)\n",
    "Zs = np.linspace(-0.1713, -1.5, nfieldlines)\n",
    "RZs = np.array([[r, z] for r, z in zip(Rs, Zs)])\n",
    "\n",
    "pplot = PoincarePlot(ps, pparams, integrator_params=iparams)\n",
    "pdata = pplot.compute(RZs)\n",
    "# pdata = pplot.compute()"
   ]
  },
  {
   "cell_type": "code",
   "execution_count": null,
   "metadata": {},
   "outputs": [],
   "source": [
    "fig, ax = pplot.plot(marker=\".\", s=1, xlim=[4.45, 4.46], ylim=[-1.24, -1.26])\n",
    "# fig, ax = pplot.plot(marker=\".\", s=1)\n",
    "ax.scatter(ps._R0, ps._Z0, marker=\"o\", edgecolors=\"black\", linewidths=1)\n",
    "ax.scatter(4.45, -1.25, s=10)\n",
    "plt.show()"
   ]
  },
  {
   "cell_type": "code",
   "execution_count": null,
   "metadata": {},
   "outputs": [],
   "source": [
    "import pickle\n",
    "pickle.dump(fig, open(\"../output/toybox_45degtokamak_poincare.pkl\", \"wb\"))"
   ]
  },
  {
   "cell_type": "code",
   "execution_count": null,
   "metadata": {},
   "outputs": [],
   "source": [
    "import pickle\n",
    "fig = pickle.load(open(\"../output/toybox_45degtokamak_poincare.pkl\", \"rb\"))"
   ]
  },
  {
   "cell_type": "code",
   "execution_count": null,
   "metadata": {},
   "outputs": [],
   "source": [
    "ax = fig.get_axes()[0]\n",
    "ax.set_xlim(4.4, 4.5)\n",
    "ax.set_ylim(-1.3, -1.16)\n",
    "ax.scatter(4.43, -1.21, s=10)\n",
    "plt.show()\n",
    "fig"
   ]
  },
  {
   "cell_type": "markdown",
   "metadata": {},
   "source": [
    "### Finding fixed points"
   ]
  },
  {
   "cell_type": "code",
   "execution_count": null,
   "metadata": {},
   "outputs": [],
   "source": [
    "from pyoculus.solvers import FixedPoint\n",
    "\n",
    "# set up the integrator\n",
    "iparams = dict()\n",
    "iparams[\"rtol\"] = 1e-10\n",
    "\n",
    "pparams = dict()\n",
    "pparams[\"nrestart\"] = 0\n",
    "pparams['niter'] = 300\n",
    "\n",
    "fp = FixedPoint(ps, pparams, integrator_params=iparams)\n",
    "\n",
    "# fp.compute(guess=[3.5, 0], pp=1, qq=2, sbegin=2, send=4, tol = 1e-12)\n",
    "fp.compute(guess=[4.43, -1.22], pp=0, qq=1, sbegin=0.1, send=6, tol = 1e-9)"
   ]
  },
  {
   "cell_type": "code",
   "execution_count": null,
   "metadata": {},
   "outputs": [],
   "source": [
    "hist = np.array(fp.history)\n",
    "plt.plot(hist[:, 0], hist[:, 1], marker=\"o\", markersize=3)\n",
    "plt.scatter(ps._R0, ps._Z0, marker=\"o\", edgecolors=\"black\", linewidths=1)"
   ]
  },
  {
   "cell_type": "code",
   "execution_count": null,
   "metadata": {},
   "outputs": [],
   "source": [
    "results = [list(p) for p in zip(fp.x, fp.y, fp.z)]\n",
    "results"
   ]
  },
  {
   "cell_type": "code",
   "execution_count": null,
   "metadata": {},
   "outputs": [],
   "source": [
    "ax.scatter(results[0][0], results[0][2], marker=\"X\", edgecolors=\"black\", linewidths=1)\n",
    "fig"
   ]
  },
  {
   "cell_type": "code",
   "execution_count": null,
   "metadata": {},
   "outputs": [],
   "source": [
    "# set up the integrator\n",
    "iparams = dict()\n",
    "iparams[\"rtol\"] = 1e-10\n",
    "\n",
    "# set up the Poincare plot\n",
    "pparams = dict()\n",
    "pparams[\"Rbegin\"] = 3.01\n",
    "pparams[\"Rend\"] = 5.5\n",
    "pparams[\"nPtrj\"] = 20\n",
    "pparams[\"nPpts\"] = 200\n",
    "pparams[\"zeta\"] = 0\n",
    "# pparams[\"Z\"] = -6\n",
    "\n",
    "# Set RZs\n",
    "nfieldlines = pparams[\"nPtrj\"]+1\n",
    "n1, n2 = int(np.ceil(nfieldlines/2)), int(np.floor(nfieldlines/2))\n",
    "\n",
    "# # Simple way from opoint to xpoint then to coilpoint\n",
    "# Rs = np.concatenate((np.linspace(ps._R0, results[0][0], n1), np.linspace(results[0][0], separatrix['R']-1e-4, n2)))\n",
    "# Zs = np.concatenate((np.linspace(ps._Z0, results[0][2], n1), np.linspace(results[0][2], separatrix['Z']-1e-4, n2)))\n",
    "# RZs = np.array([[r, z] for r, z in zip(Rs, Zs)])\n",
    "\n",
    "# # Sophisticated way more around the xpoint\n",
    "xpoint = np.array([results[0][0], results[0][2]])\n",
    "opoint = np.array([ps._R0, ps._Z0])\n",
    "coilpoint = np.array([ps.perturbations_args[0]['R'], ps.perturbations_args[0]['Z']])\n",
    "\n",
    "deps = 0.01\n",
    "RZ1 = (xpoint + deps*(1-np.linspace(0, 1, n1)).reshape((n1,1)) @ (opoint-xpoint).reshape((1,2)))\n",
    "RZ2 = (xpoint + deps*np.linspace(0, 1, n2).reshape((n2,1)) @ (coilpoint-xpoint).reshape((1,2)))\n",
    "RZs = np.concatenate((RZ1, RZ2))"
   ]
  },
  {
   "cell_type": "code",
   "execution_count": null,
   "metadata": {},
   "outputs": [],
   "source": [
    "pplot_perturbed = PoincarePlot(ps, pparams, integrator_params=iparams)\n",
    "pdata = pplot_perturbed.compute(RZs)\n",
    "# pdata = pplot.compute()"
   ]
  },
  {
   "cell_type": "code",
   "execution_count": null,
   "metadata": {},
   "outputs": [],
   "source": [
    "fig_perturbed, ax_perturbed = pplot_perturbed.plot(marker=\".\", s=1, xlim=[4.43, 4.44], ylim=[-1.226, -1.222])\n",
    "# ax_perturbed.scatter(3.11, -1.665, marker=\"X\", edgecolors=\"black\", linewidths=1)\n",
    "# ax_perturbed.scatter(4.4358, -1.2244, marker=\"X\", edgecolors=\"black\", linewidths=1)\n",
    "plt.show()"
   ]
  },
  {
   "cell_type": "code",
   "execution_count": null,
   "metadata": {},
   "outputs": [],
   "source": [
    "pickle.dump(fig_perturbed, open(\"../output/toybox_45degtokamak_poincare_perturbed.pkl\", \"wb\"))"
   ]
  },
  {
   "cell_type": "code",
   "execution_count": null,
   "metadata": {},
   "outputs": [],
   "source": [
    "for col in ax_perturbed.collections:\n",
    "    col.set_color('black')\n",
    "    col.set_sizes([0.5])"
   ]
  },
  {
   "cell_type": "code",
   "execution_count": null,
   "metadata": {},
   "outputs": [],
   "source": [
    "fig_perturbed"
   ]
  },
  {
   "cell_type": "code",
   "execution_count": null,
   "metadata": {},
   "outputs": [],
   "source": [
    "import mayavi.mlab as mlab\n",
    "import sys\n",
    "import os\n",
    "\n",
    "sys.path.append(os.path.join(\"..\"))\n",
    "import horus as ho"
   ]
  },
  {
   "cell_type": "code",
   "execution_count": null,
   "metadata": {},
   "outputs": [],
   "source": [
    "# convdom[3][0]"
   ]
  },
  {
   "cell_type": "code",
   "execution_count": null,
   "metadata": {},
   "outputs": [],
   "source": [
    "phi = np.linspace(0, 2*np.pi, 100)\n",
    "gammacoil = np.vstack((ps.perturbations_args[0]['R']*np.cos(phi), ps.perturbations_args[0]['R']*np.sin(phi), ps.perturbations_args[0]['Z']*np.ones_like(phi)))"
   ]
  },
  {
   "cell_type": "code",
   "execution_count": null,
   "metadata": {},
   "outputs": [],
   "source": [
    "gamma1, _ = ho.trace(ps, 2*np.pi, [ps._R0, ps._Z0])\n",
    "# gamma2, _ = ho.trace(ps, 10*2*np.pi, [fp.x[0], fp.z[0]], rtol=1e-18, atol=1e-20)\n",
    "gamma2, _ = ho.trace(ps, 2*np.pi, [fp_perturbed.x[0], fp_perturbed.z[0]], rtol=1e-18, atol=1e-20)\n",
    "\n",
    "# point3 = np.array([fp_perturbed.x[0], fp_perturbed.z[0]]) + 1e-4*manifold.vector_u\n",
    "# gamma3, _ = ho.trace(ps, 2*np.pi, point3)\n",
    "# gamma4, _ = ho.trace(ps, 2*np.pi, [3.11210843, -1.66968522],  rtol=1e-18, atol=1e-20)"
   ]
  },
  {
   "cell_type": "code",
   "execution_count": null,
   "metadata": {},
   "outputs": [],
   "source": [
    "print(point3)\n",
    "print(gamma3[:,0])\n",
    "print(gamma3[:,-1])"
   ]
  },
  {
   "cell_type": "code",
   "execution_count": null,
   "metadata": {},
   "outputs": [],
   "source": [
    "mlab.plot3d(gamma1[0, :], gamma1[1, :], gamma1[2, :])\n",
    "mlab.plot3d(gamma2[0, :], gamma2[1, :], gamma2[2, :])\n",
    "# mlab.plot3d(gamma3[0, :], gamma3[1, :], gamma3[2, :])\n",
    "# mlab.plot3d(gamma4[0, :], gamma4[1, :], gamma4[2, :])\n",
    "mlab.plot3d(gammacoil[0, :], gammacoil[1, :], gammacoil[2, :], color=(1, 0, 0))\n",
    "mlab.show()"
   ]
  },
  {
   "cell_type": "code",
   "execution_count": 3,
   "metadata": {},
   "outputs": [
    {
     "name": "stdout",
     "output_type": "stream",
     "text": [
      "0 - [DeltaR, DeltaZ] : [0.0020338  0.00208732] - dtheta : 0.0015382914788160118\n",
      "0 - [StepR, StepZ]: [-1.45792689e-06  1.04061649e-06]\n",
      "1 - RZ : [ 3.10720092 -1.65540924] - rhotheta : [ 1.2258847  -1.64101123]\n",
      "1 - [DeltaR, DeltaZ] : [-5.99270496e-06 -7.65526748e-06] - dtheta : 4.438289000097129e-06\n",
      "1 - [StepR, StepZ]: [ 5.09951823e-07 -9.80353466e-07]\n",
      "2 - RZ : [ 3.10720143 -1.65541022] - rhotheta : [ 1.22588564 -1.64101076]\n",
      "2 - [DeltaR, DeltaZ] : [7.61879448e-10 7.66476882e-10] - dtheta : 5.761051635744252e-10\n",
      "2 - [StepR, StepZ]: [ 5.06084064e-12 -1.04425357e-11]\n",
      "3 - RZ : [ 3.10720143 -1.65541022] - rhotheta : [ 1.22588564 -1.64101076]\n",
      "3 - [DeltaR, DeltaZ] : [4.47952786e-12 4.59898786e-12] - dtheta : 3.3877345373412027e-12\n",
      "3 - [StepR, StepZ]: [-1.33226763e-15 -1.11022302e-15]\n",
      "4 - RZ : [ 3.10720143 -1.65541022] - rhotheta : [ 1.22588564 -1.64101076]\n",
      "4 - [DeltaR, DeltaZ] : [-4.72510919e-13 -4.86055640e-13] - dtheta : 3.597122599785507e-13\n"
     ]
    },
    {
     "data": {
      "text/plain": [
       "<pyoculus.solvers.base_solver.BaseSolver.OutputData at 0x1ffb6abbaf0>"
      ]
     },
     "execution_count": 3,
     "metadata": {},
     "output_type": "execute_result"
    }
   ],
   "source": [
    "# set up the integrator\n",
    "iparams = dict()\n",
    "iparams[\"rtol\"] = 1e-16\n",
    "\n",
    "pparams = dict()\n",
    "pparams[\"nrestart\"] = 0\n",
    "pparams['niter'] = 600\n",
    "\n",
    "fp_perturbed = FixedPoint(ps, pparams, integrator_params=iparams)\n",
    "\n",
    "# fp_perturbed.compute(guess=[fp.x[0], fp.z[0]], pp=0, qq=1, sbegin=0.1, send=6, tol = 1e-10)\n",
    "# fp_perturbed.compute(guess=[3.117263523069049, -1.6173346133145015], pp=0, qq=1, sbegin=0.1, send=6, tol = 1e-10)\n",
    "fp_perturbed.compute(guess=[3.1072023810385443, -1.655410284892828], pp=0, qq=1, sbegin=0.1, send=6, tol = 4e-12)\n",
    "# fp_perturbed.compute(guess=[3.117264916246293, -1.617334822348791], pp=0, qq=1, sbegin=0.1, send=6, tol = 1e-10)\n",
    "# fp_perturbed.compute(guess=[4.624454, 0.], pp=0, qq=1, sbegin=0.1, send=6, tol = 1e-10)\n",
    "# fp_perturbed.compute(guess=[4.43582958 -1.22440153], pp=0, qq=1, sbegin=0.1, send=6, tol = 1e-10)"
   ]
  },
  {
   "cell_type": "code",
   "execution_count": null,
   "metadata": {},
   "outputs": [],
   "source": [
    "hist = np.array(fp_perturbed.history)\n",
    "plt.plot(hist[:, 0], hist[:, 1])"
   ]
  },
  {
   "cell_type": "code",
   "execution_count": 4,
   "metadata": {},
   "outputs": [],
   "source": [
    "results = [list(p) for p in zip(fp_perturbed.x, fp_perturbed.y, fp_perturbed.z)]"
   ]
  },
  {
   "cell_type": "code",
   "execution_count": 5,
   "metadata": {},
   "outputs": [
    {
     "data": {
      "text/plain": [
       "[[3.1072014330685405, 0.0, -1.655410224640252],\n",
       " [3.107201433068068, 0.0, -1.655410224640738]]"
      ]
     },
     "execution_count": 5,
     "metadata": {},
     "output_type": "execute_result"
    }
   ],
   "source": [
    "results"
   ]
  },
  {
   "cell_type": "code",
   "execution_count": null,
   "metadata": {},
   "outputs": [],
   "source": [
    "fp_perturbed.x, fp_perturbed.y, fp_perturbed.z"
   ]
  },
  {
   "cell_type": "code",
   "execution_count": null,
   "metadata": {},
   "outputs": [],
   "source": [
    "ax_perturbed.scatter(fp_perturbed.x[0], fp_perturbed.z[0], marker=\"X\", edgecolors=\"black\", linewidths=1)\n",
    "fig_perturbed"
   ]
  },
  {
   "cell_type": "code",
   "execution_count": null,
   "metadata": {},
   "outputs": [],
   "source": [
    "results"
   ]
  },
  {
   "cell_type": "code",
   "execution_count": null,
   "metadata": {},
   "outputs": [],
   "source": [
    "import pickle"
   ]
  },
  {
   "cell_type": "code",
   "execution_count": null,
   "metadata": {},
   "outputs": [],
   "source": [
    "fig_perturbed = pickle.load(open(\"../output/toybox_poincare_black.pkl\", \"rb\"))\n",
    "ax_perturbed = fig_perturbed.get_axes()[0]"
   ]
  },
  {
   "cell_type": "code",
   "execution_count": null,
   "metadata": {},
   "outputs": [],
   "source": [
    "rw = np.linspace(3.11, 3.125, 20)\n",
    "zw = np.linspace(-1.625, -1.61, 20)\n",
    "ax_perturbed.plot(rw, zw, color=\"black\", linewidth=1)"
   ]
  },
  {
   "cell_type": "code",
   "execution_count": null,
   "metadata": {},
   "outputs": [],
   "source": [
    "fig_perturbed"
   ]
  },
  {
   "cell_type": "code",
   "execution_count": null,
   "metadata": {},
   "outputs": [],
   "source": [
    "# ax_perturbed.set_xlim([3.1, 3.15])\n",
    "# ax_perturbed.set_ylim([-1.63, -1.6])\n",
    "ax_perturbed.set_xlim([2.5, 3.9])\n",
    "ax_perturbed.set_ylim([-2.5, 0.5])\n",
    "ax_perturbed.scatter(ps._R0, ps._Z0, marker=\"o\", edgecolors=\"black\", linewidths=1)\n",
    "ax_perturbed.scatter(fp_perturbed.x[0], fp_perturbed.z[0], marker=\"X\", edgecolors=\"black\", linewidths=1)\n",
    "fig_perturbed"
   ]
  },
  {
   "cell_type": "code",
   "execution_count": null,
   "metadata": {},
   "outputs": [],
   "source": [
    "plt.show()"
   ]
  },
  {
   "cell_type": "code",
   "execution_count": null,
   "metadata": {},
   "outputs": [],
   "source": [
    "import sys\n",
    "sys.path.append(\"..\")\n",
    "import horus as ho\n",
    "\n",
    "# [3.117263523069049, -1.6173346133145015]\n",
    "\n",
    "# rw = np.linspace(3.11, 3.125, 10)\n",
    "# zw = np.linspace(-1.625, -1.61, 10)\n",
    "# rw = np.linspace(4.63, 4.64, 30)\n",
    "# zw = np.linspace(-0.01, 0.01, 30)\n",
    "rw = np.linspace(4.435, 4.438, 30)\n",
    "zw = np.linspace(-1.23, -1.22, 30)\n",
    "convdom = ho.convergence_domain(ps, rw, zw, pp = 0, qq = 1, sbegin = 2, send = 6, tol = 1e-10, checkonly = True, eps = 1e-4, rtol = 1e-10)"
   ]
  },
  {
   "cell_type": "code",
   "execution_count": null,
   "metadata": {},
   "outputs": [],
   "source": [
    "from matplotlib import cm\n",
    "\n",
    "def plot_convergence_domain(R, Z, assigned_to, fixed_points, ax=None, colors=None):\n",
    "    \"\"\"Plot the convergence domain for FixedPoint solver in the R-Z plane. If ax is None, a new figure is created,\n",
    "    otherwise the plot is added to the existing figure.\n",
    "\n",
    "    Args:\n",
    "        R (np.ndarray): the R values of the meshgrid\n",
    "        Z (np.ndarray): the Z values of the meshgrid\n",
    "        assigned_to (np.ndarray): the assigned number for each point in the meshgrid\n",
    "        fixed_points (list): the list of fixed points object (BaseSolver.OutputData)\\n\n",
    "        -- Optional --\n",
    "        ax (matplotlib.axes.Axes): the axes to plot on. Defaults to None.\n",
    "        colors (np.ndarray): the colors to use. Defaults to COLORS. Should be of dimension (k, 3 or 4) for RGB/RGBA with k at least the number of fixed point plus one.\n",
    "\n",
    "    Returns:\n",
    "        tuple: (fig, ax)\n",
    "    \"\"\"\n",
    "\n",
    "    assigned_to = assigned_to + 1\n",
    "\n",
    "    if colors is None:\n",
    "        colors = cm.rainbow(np.linspace(0, 1, len(fixed_points) + 1))\n",
    "        colors[:, 3] = 0.8\n",
    "        colors = np.vstack(([0.3, 0.3, 0.3, 0.15], colors))\n",
    "\n",
    "    cmap = np.array([colors[j] for j in assigned_to])\n",
    "    cmap = cmap.reshape(R.shape[0], R.shape[1], cmap.shape[1])\n",
    "\n",
    "    if ax is None:\n",
    "        fig, ax = plt.subplots()\n",
    "    else:\n",
    "        fig = ax.get_figure()\n",
    "\n",
    "    ax.pcolormesh(R, Z, cmap, shading=\"nearest\")\n",
    "\n",
    "    # for r,z in zip(R, Z):\n",
    "    #     ax.scatter(r, z, color = 'blue', s = 1)\n",
    "\n",
    "    for i, fpt in enumerate(fixed_points):\n",
    "        if hasattr(fpt, \"GreenesResidue\"):\n",
    "            if fpt.GreenesResidue < 0:\n",
    "                marker = \"X\"\n",
    "            elif fpt.GreenesResidue > 0:\n",
    "                marker = \"o\"\n",
    "            else:\n",
    "                marker = \"s\"\n",
    "        else:\n",
    "            marker = \"s\"\n",
    "\n",
    "        ax.scatter(\n",
    "            fpt.x[0],\n",
    "            fpt.z[0],\n",
    "            color=colors[i + 1, :3],\n",
    "            marker=marker,\n",
    "            edgecolors=\"black\",\n",
    "            linewidths=1,\n",
    "            label=f\"[{fpt.x[0]:.2f},{ fpt.z[0]:.2f}]\",\n",
    "        )\n",
    "\n",
    "\n",
    "    # # Plot arrows from the meshgrid points to the fixed points they converge to\n",
    "    # for r, z, a in zip(R.flat, Z.flat, assigned_to.flat):\n",
    "    #     if a > 0:\n",
    "    #         fpt = fixed_points[a - 1]\n",
    "    #         dr = np.array([fpt.x[0] - r, fpt.z[0] - z])\n",
    "    #         dr = 0.1*dr\n",
    "    #         ax.arrow(r, z, dr[0], dr[1], color='blue')\n",
    "\n",
    "    ax.set_aspect(\"equal\")\n",
    "\n",
    "    return fig, ax\n"
   ]
  },
  {
   "cell_type": "code",
   "execution_count": null,
   "metadata": {},
   "outputs": [],
   "source": [
    "fig_perturbed = fig\n",
    "ax_perturbed = fig_perturbed.get_axes()[0]"
   ]
  },
  {
   "cell_type": "code",
   "execution_count": null,
   "metadata": {},
   "outputs": [],
   "source": [
    "import pickle"
   ]
  },
  {
   "cell_type": "code",
   "execution_count": null,
   "metadata": {},
   "outputs": [],
   "source": [
    "fig_perturbed = pickle.load(open(\"../output/toybox_45degtokamak_poincare_perturbed.pkl\", \"rb\"))\n",
    "ax_perturbed = fig_perturbed.get_axes()[0]\n",
    "\n",
    "# ax_perturbed.set_xlim([3.1, 3.15])\n",
    "# ax_perturbed.set_ylim([-1.63, -1.6])"
   ]
  },
  {
   "cell_type": "code",
   "execution_count": null,
   "metadata": {},
   "outputs": [],
   "source": [
    "convdomplot = convdom[0:4]\n",
    "plot_convergence_domain(*convdomplot, ax_perturbed)\n",
    "# ax_perturbed.set_xlim([4.6, 4.7])\n",
    "# ax_perturbed.set_ylim([-0.05, 0.05])\n",
    "# ax_perturbed.legend(loc=\"lower right\")\n",
    "\n",
    "# ax_perturbed.scatter(rw[0], zw[0], marker=\".\", color = \"black\", s = 1)\n",
    "# ax_perturbed.scatter(rw[-1], zw[0], marker=\".\", color = \"black\", s = 1)\n",
    "# ax_perturbed.scatter(rw[0], zw[-1], marker=\".\", color = \"black\", s = 1)\n",
    "# ax_perturbed.scatter(rw[-1], zw[-1], marker=\".\", color = \"black\", s = 1)\n",
    "\n",
    "fig_perturbed\n",
    "plt.show()"
   ]
  },
  {
   "cell_type": "code",
   "execution_count": null,
   "metadata": {},
   "outputs": [],
   "source": [
    "# ax_perturbed.set_xlim([3, 4.5])\n",
    "# ax_perturbed.set_ylim([-2, 1])\n",
    "fig_perturbed"
   ]
  },
  {
   "cell_type": "code",
   "execution_count": null,
   "metadata": {},
   "outputs": [],
   "source": [
    "ax_perturbed.set_xlim([4.45, 4.5])\n",
    "ax_perturbed.set_ylim([-1.3, -1.2])\n",
    "fig_perturbed"
   ]
  },
  {
   "cell_type": "code",
   "execution_count": null,
   "metadata": {},
   "outputs": [],
   "source": [
    "pickle.dump(fig_perturbed, open(\"../output/toybox_tokamak_conv0z1e-10_morepoints.pkl\", \"wb\"))"
   ]
  },
  {
   "cell_type": "code",
   "execution_count": null,
   "metadata": {},
   "outputs": [],
   "source": [
    "fig_history = pickle.loads(pickle.dumps(fig_perturbed))\n",
    "ax_history = fig_history.gca()"
   ]
  },
  {
   "cell_type": "code",
   "execution_count": null,
   "metadata": {},
   "outputs": [],
   "source": [
    "i = 30\n",
    "print(convdom[0].flatten()[i], convdom[1].flatten()[i])\n",
    "hist = np.array(convdom[4][i].history)\n",
    "ax_history.plot(hist[:,0], hist[:,1], color='black', linewidth=1, marker='o', markersize=3)"
   ]
  },
  {
   "cell_type": "code",
   "execution_count": null,
   "metadata": {},
   "outputs": [],
   "source": [
    "for i, hist in enumerate(convdom[4]):\n",
    "    if i % 11 == 0:\n",
    "        continue\n",
    "    if hist is not None:    \n",
    "        hist = np.array(hist.history)\n",
    "        ax_history.plot(hist[:,0], hist[:,1], color='black', linewidth=0.3, marker='o', markersize=1, alpha=0.2)"
   ]
  },
  {
   "cell_type": "code",
   "execution_count": null,
   "metadata": {},
   "outputs": [],
   "source": [
    "convdom[4][35].history"
   ]
  },
  {
   "cell_type": "code",
   "execution_count": null,
   "metadata": {},
   "outputs": [],
   "source": [
    "# ax_history.set_ylim([-0.006, 0.006])\n",
    "# ax_history.set_xlim([4.63, 4.64])\n",
    "ax_history.scatter(4.4362, -1.2244, marker=\"X\", edgecolors=\"black\", linewidths=1)\n",
    "fig_history"
   ]
  },
  {
   "cell_type": "code",
   "execution_count": null,
   "metadata": {},
   "outputs": [],
   "source": [
    "pickle.dump(fig_history, open(\"../output/toybox_conv_hist0z1e-10_morepoints.pkl\", \"wb\"))"
   ]
  },
  {
   "cell_type": "code",
   "execution_count": null,
   "metadata": {},
   "outputs": [],
   "source": [
    "ps.B([4, 0, 0.])"
   ]
  },
  {
   "cell_type": "code",
   "execution_count": null,
   "metadata": {},
   "outputs": [],
   "source": [
    "for fixed_point in convdom[3]:\n",
    "    fixed_point.x\n"
   ]
  },
  {
   "cell_type": "code",
   "execution_count": null,
   "metadata": {},
   "outputs": [],
   "source": [
    "[[f.x[0],f.z[0]] for f in convdom[3]]"
   ]
  },
  {
   "cell_type": "markdown",
   "metadata": {},
   "source": [
    "### Back on manifold"
   ]
  },
  {
   "cell_type": "code",
   "execution_count": null,
   "metadata": {},
   "outputs": [],
   "source": [
    "from pyoculus.integrators import RKIntegrator\n",
    "\n",
    "iparams = dict()\n",
    "iparams[\"rtol\"] = 1e-10\n",
    "iparams[\"ode\"] = ps.f_RZ_tangent\n",
    "\n",
    "integrator = RKIntegrator(iparams)"
   ]
  },
  {
   "cell_type": "code",
   "execution_count": null,
   "metadata": {},
   "outputs": [],
   "source": [
    "ps.B([3.117263523069049, 0., -1.6173346133145015])"
   ]
  },
  {
   "cell_type": "code",
   "execution_count": null,
   "metadata": {},
   "outputs": [],
   "source": [
    "ps.dBdX([3.117263523069049, 0., -1.6173346133145015])"
   ]
  },
  {
   "cell_type": "code",
   "execution_count": null,
   "metadata": {},
   "outputs": [],
   "source": [
    "initpoint = np.array([3.117263523069049, -1.6173346133145015])\n",
    "v = 1e-5*np.random.random(2)"
   ]
  },
  {
   "cell_type": "code",
   "execution_count": null,
   "metadata": {},
   "outputs": [],
   "source": [
    "ic = np.array([initpoint[0], initpoint[1], 1.0, 0.0, 0.0, 1.0], dtype=np.float64)\n",
    "integrator.set_initial_value(0, ic)\n",
    "M = integrator.integrate(2*np.pi)\n",
    "endpoint1 = M[0:2]\n",
    "M = np.array([[M[2], M[4]],[M[3], M[5]]])\n",
    "print(M)"
   ]
  },
  {
   "cell_type": "code",
   "execution_count": null,
   "metadata": {},
   "outputs": [],
   "source": [
    "np.linalg.inv(M)"
   ]
  },
  {
   "cell_type": "code",
   "execution_count": null,
   "metadata": {},
   "outputs": [],
   "source": [
    "np.linalg.inv(M-np.eye(2))"
   ]
  },
  {
   "cell_type": "code",
   "execution_count": null,
   "metadata": {},
   "outputs": [],
   "source": [
    "det = np.linalg.det(M-np.eye(2))\n",
    "print(det)"
   ]
  },
  {
   "cell_type": "code",
   "execution_count": null,
   "metadata": {},
   "outputs": [],
   "source": [
    "np.linalg.eig(M)"
   ]
  },
  {
   "cell_type": "code",
   "execution_count": null,
   "metadata": {},
   "outputs": [],
   "source": [
    "np.linalg.inv(M)/det"
   ]
  },
  {
   "cell_type": "code",
   "execution_count": null,
   "metadata": {},
   "outputs": [],
   "source": [
    "np.linalg.det(M)"
   ]
  },
  {
   "cell_type": "code",
   "execution_count": null,
   "metadata": {},
   "outputs": [],
   "source": [
    "inputpoint = initpoint + v\n",
    "ic = np.array([inputpoint[0], inputpoint[1], 1.0, 0.0, 0.0, 1.0], dtype=np.float64)\n",
    "integrator.set_initial_value(0, ic)\n",
    "endpoint2 = integrator.integrate(2*np.pi)[0:2]"
   ]
  },
  {
   "cell_type": "code",
   "execution_count": null,
   "metadata": {},
   "outputs": [],
   "source": [
    "M @ v"
   ]
  },
  {
   "cell_type": "code",
   "execution_count": null,
   "metadata": {},
   "outputs": [],
   "source": [
    "endpoint2 - endpoint1"
   ]
  },
  {
   "cell_type": "code",
   "execution_count": null,
   "metadata": {},
   "outputs": [],
   "source": [
    "((M @ v) - (endpoint2 - endpoint1))/np.linalg.norm(endpoint2 - endpoint1)"
   ]
  },
  {
   "cell_type": "code",
   "execution_count": null,
   "metadata": {},
   "outputs": [],
   "source": [
    "from pyoculus.solvers import BaseSolver\n",
    "from pyoculus.solvers import FixedPoint\n",
    "from pyoculus.problems import BfieldProblem, CartesianBfield\n",
    "from scipy.integrate import solve_ivp\n",
    "from scipy.optimize import fsolve, newton_krylov\n",
    "import numpy as np\n",
    "from numba import jit\n",
    "\n",
    "class Manifold(BaseSolver):\n",
    "    def __init__(self, fixedpoint, bfield, params=dict(), integrator=None, integrator_params=dict()):\n",
    "        \n",
    "        # Check that the fixed point is a correct FixedPoint instance\n",
    "        assert isinstance(fixedpoint, FixedPoint), \"Fixed point must be an instance of FixedPoint class\"\n",
    "        assert fixedpoint.successful, \"Need a successful fixed point to compute the manifold\"\n",
    "\n",
    "        self.fixedpoint = fixedpoint\n",
    "\n",
    "        # Compute the eigenvalues and eigenvectors of the fixed point\n",
    "        eigRes = np.linalg.eig(fixedpoint.jacobian)\n",
    "        eigenvalues = eigRes[0]\n",
    "        # Eigenvectors are stored as columns of the matrix eigRes[1], transposing it to access them as np.array[i]\n",
    "        eigenvectors = eigRes[1].T\n",
    "        s_index, u_index = 0, 1\n",
    "        if eigenvalues[0].real > eigenvalues[1].real:\n",
    "            s_index, u_index = 1, 0\n",
    "\n",
    "        self.vector_u = eigenvectors[u_index]\n",
    "        self.lambda_u = eigenvalues[u_index]\n",
    "        self.vector_s = eigenvectors[s_index]\n",
    "        self.lambda_s = eigenvalues[s_index]\n",
    "\n",
    "        # Check that the bfield is a correct BfieldProblem instance\n",
    "        assert isinstance(bfield, BfieldProblem), \"Bfield must be an instance of BfieldProblem class\"\n",
    "        self.bfield = bfield\n",
    "\n",
    "        # Integrator and BaseSolver initialization\n",
    "        integrator_params[\"ode\"] = bfield.f_tangent\n",
    "\n",
    "        # Setting the needed parameters\n",
    "        if \"solve_ivp\" not in params:\n",
    "            params[\"solve_ivp\"] = True\n",
    "\n",
    "        self._start_config_params = {\n",
    "            \"phi\": 0,\n",
    "            \"integrate_ivp_kwargs\": {\n",
    "                \"atol\": 1e-22, \"rtol\": 3e-14, \"nintersect\": 1, \"method\": \"DOP853\"\n",
    "            },\n",
    "        }\n",
    "        self._start_config_params.update({key: value for key, value in params.items() if key in self._start_config_params})\n",
    "\n",
    "        params = {key: value for key, value in params.items() if key not in self._start_config_params}\n",
    "\n",
    "        self.unstable = {'+': None, '-': None}\n",
    "        self.stable = {'+': None, '-': None}\n",
    "\n",
    "        super().__init__(\n",
    "            problem=bfield,\n",
    "            params=params,\n",
    "            integrator=integrator,\n",
    "            integrator_params=integrator_params,\n",
    "        )\n",
    "\n",
    "    def compute(self, **kwargs):\n",
    "        if self._params[\"solve_ivp\"] == True:\n",
    "            return self.compute_ivp(**kwargs)\n",
    "        else:\n",
    "            pass\n",
    "\n",
    "    def compute_ivp(self, **kwargs):\n",
    "        options = {\n",
    "            \"eps_guess\": 2e-6,\n",
    "            \"nintersect\": 10,\n",
    "            \"atol\": 1e-20,\n",
    "            \"rtol\": 1e-10,\n",
    "            \"neps\": 2,\n",
    "            \"directions\": \"u+u-s+s-\"\n",
    "        }\n",
    "        options.update({key: value for key, value in kwargs.items() if key in options})\n",
    "        \n",
    "        rz_fixedpoint = np.array([self.fixedpoint.x[0], self.fixedpoint.z[0]])\n",
    "\n",
    "        # epsilon = options['eps_guess']\n",
    "        epsilon = self.find_epsilon(options['eps_guess'], self.vector_u)\n",
    "        \n",
    "        RZs = self.start_config(epsilon, self.vector_u, options['neps'])[0]\n",
    "\n",
    "        if 'u+' in options['directions']:\n",
    "            print(\"Computing unstable manifold with postive epsilon...\")\n",
    "            self.unstable['+'] = self.integrate_ivp(RZs, [0], nintersect=options['nintersect'], atol = options['atol'], rtol = options['rtol'])\n",
    "\n",
    "        if 'u-' in options['directions']:\n",
    "            print(\"Computing unstable manifold with negative epsilon...\")\n",
    "            RZs  = 2*rz_fixedpoint - RZs\n",
    "            self.unstable['-'] = self.integrate_ivp(RZs, [0], nintersect=options['nintersect'], atol = options['atol'], rtol = options['rtol'])\n",
    "        \n",
    "        RZs = self.start_config(epsilon, self.vector_s, options['neps'], -1)[0]\n",
    "        if 's+' in options['directions']:\n",
    "            print(\"Computing stable manifold with positive epsilon...\")\n",
    "            self.stable['+'] = self.integrate_ivp(RZs, [0], nintersect=options['nintersect'], atol = options['atol'], rtol = options['rtol'], direction=-1)\n",
    "        \n",
    "        if 's-' in options['directions']:\n",
    "            print(\"Computing stable manifold with negative epsilon...\")\n",
    "            RZs = 2*rz_fixedpoint - RZs\n",
    "            self.stable['-'] = self.integrate_ivp(RZs, [0], nintersect=options['nintersect'], atol = options['atol'], rtol = options['rtol'], direction=-1)\n",
    "\n",
    "\n",
    "    def start_config(self, epsilon, eigenvector, neps=10, direction=1):\n",
    "        options = self._start_config_params\n",
    "        options['integrate_ivp_kwargs']['direction'] = direction\n",
    "\n",
    "        rEps = np.array([self.fixedpoint.x[0], self.fixedpoint.z[0]]) + epsilon * eigenvector\n",
    "\n",
    "        out = self.integrate_ivp(np.atleast_2d(rEps), [options['phi']], **options['integrate_ivp_kwargs'])\n",
    "        \n",
    "        eps_dir = out.y[:,1]-out.y[:,0]\n",
    "        eps_dir = eps_dir / np.linalg.norm(eps_dir)\n",
    "        \n",
    "        print(epsilon, eps_dir, eigenvector, np.linalg.norm(eps_dir - eigenvector))\n",
    "\n",
    "        Rs = np.linspace(out.y[0,0], out.y[0,1], neps, endpoint=False)\n",
    "        Zs = np.linspace(out.y[1,0], out.y[1,1], neps, endpoint=False)\n",
    "        RZs = np.array([[r, z] for r, z in zip(Rs, Zs)])\n",
    "\n",
    "        return RZs, np.linalg.norm(eps_dir - eigenvector)\n",
    "    \n",
    "\n",
    "    def find_epsilon(self, eps_guess, eigenvector, iter = 4):\n",
    "        find_eps = lambda x: self.start_config(x, eigenvector, 1)[1]\n",
    "\n",
    "        # eps_root = fsolve(find_eps, eps_guess, xtol=options['xtol'])\n",
    "        try:\n",
    "            eps_root = newton_krylov(find_eps, eps_guess, inner_maxiter=iter)[0]\n",
    "            print(f\"Newton-Krylov succeeded, epsilon = {eps_root}\")\n",
    "        except:\n",
    "            print(\"Newton-Krylov failed, using the guess for epsilon.\")\n",
    "            return eps_guess\n",
    "\n",
    "        return eps_root\n",
    "\n",
    "    def integrate_ivp(self, RZstart, phis, **kwargs):\n",
    "        options = {\n",
    "            \"rtol\": 1e-7,\n",
    "            \"atol\": 1e-8,\n",
    "            \"nintersect\": 10,\n",
    "            \"method\": \"DOP853\",\n",
    "            \"direction\": 1,\n",
    "        }\n",
    "        options.update(kwargs)\n",
    "\n",
    "        assert RZstart.shape[1] == 2, \"RZstart must be a 2D array with shape (n, 2)\"\n",
    "        assert len(phis) > 0, \"phis must be a list of floats with at least one element\"\n",
    "        assert isinstance(options[\"nintersect\"], int) and options[\"nintersect\"] > 0, \"nintersect must be a positive integer\"\n",
    "        assert options[\"direction\"] in [-1, 1], \"direction must be either -1 or 1\"\n",
    "\n",
    "        def Bfield_2D(t, rzs):\n",
    "            rzs = rzs.reshape((-1, 2))\n",
    "            phis = options['direction']*(t % (2 * np.pi)) * np.ones(rzs.shape[0])\n",
    "            Bs = self.bfield.B_many(rzs[:, 0], phis, rzs[:, 1])\n",
    "\n",
    "            # Check if the field goes back in phi and set it to NaN\n",
    "            is_perturbed = (Bs[:,1] < 1e-24) + (rzs[:, 0] < 1e-22)\n",
    "            Bs[is_perturbed, :] = np.array([0, 1, 0])\n",
    "\n",
    "            Bs = np.vstack((Bs[:, 0]/Bs[:, 1], Bs[:, 0]/Bs[:, 1]))\n",
    "            return options['direction']*Bs.flatten() \n",
    "\n",
    "        # def Bfield_2D(t, rzs):\n",
    "        #     rzs = rzs.reshape((-1, 2))\n",
    "        #     phis = options['direction']*(t % (2 * np.pi)) * np.ones(rzs.shape[0])\n",
    "        #     bs_Bs = self.bfield.B_many(rzs[:, 0]*np.cos(phis), rzs[:, 0]*np.sin(phis), rzs[:, 1])\n",
    "\n",
    "        #     # Transform the B field to cylindrical coordinates\n",
    "        #     rphizs = np.array([rzs[:, 0], phis, rzs[:, 1]]).T\n",
    "        #     Bs = np.empty_like(bs_Bs)\n",
    "        #     for i, (position, B) in enumerate(zip(rphizs, bs_Bs)):\n",
    "        #         Bs[i, :] = (CartesianBfield._inv_Jacobian(*position) @ B.reshape(3, -1)).reshape(-1)\n",
    "\n",
    "        #     # Check if the field goes back in phi and set it to NaN\n",
    "        #     is_perturbed = (Bs[:,1] < 1e-24) + (rzs[:, 0] < 1e-22)\n",
    "            \n",
    "        #     # if t == 0 or np.random.rand() < 0.0001:\n",
    "        #     #     print(rzs)\n",
    "        #     #     print(Bs)\n",
    "        #     #     print(np.sign(Bs[:, 1]))\n",
    "        #     #     print(t, is_perturbed.sum())\n",
    "        #     Bs[is_perturbed, :] = np.array([0, 1, 0])\n",
    "\n",
    "        #     Bs = np.vstack((Bs[:, 0]/Bs[:, 1], Bs[:, 0]/Bs[:, 1]))\n",
    "        #     return options['direction']*Bs.flatten()\n",
    "        \n",
    "        # setup the phis of the poincare sections\n",
    "        phis = np.unique(np.mod(phis, 2 * np.pi / self.bfield.Nfp))\n",
    "        phis.sort()\n",
    "\n",
    "        # setup the evaluation points for those sections\n",
    "        phi_evals = np.array(\n",
    "            [\n",
    "                phis + self.fixedpoint.qq * 2 * np.pi * i / self.bfield.Nfp\n",
    "                for i in range(options[\"nintersect\"] + 1)\n",
    "            ]\n",
    "        )\n",
    "\n",
    "        out = solve_ivp(\n",
    "            Bfield_2D,\n",
    "            [0, phi_evals[-1, -1]],\n",
    "            RZstart.flatten(),\n",
    "            t_eval=phi_evals.flatten(),\n",
    "            method=options[\"method\"],\n",
    "            atol=options[\"atol\"],\n",
    "            rtol=options[\"rtol\"],\n",
    "        )\n",
    "\n",
    "        return out"
   ]
  },
  {
   "cell_type": "code",
   "execution_count": null,
   "metadata": {},
   "outputs": [],
   "source": [
    "manifold = Manifold(fp_perturbed, ps)"
   ]
  },
  {
   "cell_type": "code",
   "execution_count": null,
   "metadata": {},
   "outputs": [],
   "source": [
    "manifold.vector_u, manifold.lambda_u, manifold.vector_s, manifold.lambda_s"
   ]
  },
  {
   "cell_type": "code",
   "execution_count": null,
   "metadata": {},
   "outputs": [],
   "source": [
    "def conv_epslion(manifold, epsw):\n",
    "    find_eps = lambda x: manifold.start_config(x, manifold.vector_s, 1, -1)[1]\n",
    "    diff = np.abs([find_eps(ep) for ep in epsw])\n",
    "\n",
    "    plt.plot(epsw, diff)\n",
    "    plt.xscale(\"log\")\n",
    "\n",
    "    return diff\n"
   ]
  },
  {
   "cell_type": "code",
   "execution_count": null,
   "metadata": {},
   "outputs": [],
   "source": [
    "diff = conv_epslion(manifold, np.logspace(-30,-2,100))"
   ]
  },
  {
   "cell_type": "code",
   "execution_count": null,
   "metadata": {},
   "outputs": [],
   "source": [
    "manifold.compute(nintersect = 40, neps = 15, atol=1e-15, rtol=1e-13, eps_guess=1e-6)"
   ]
  },
  {
   "cell_type": "code",
   "execution_count": null,
   "metadata": {},
   "outputs": [],
   "source": [
    "color = ['red', 'blue', 'green', 'purple']\n",
    "marker = ['o', 'x', '+', 's']\n",
    "\n",
    "\n",
    "for i, out in enumerate([\n",
    "                        manifold.unstable['+'], \n",
    "                        manifold.unstable['-'], \n",
    "                        manifold.stable['+'],\n",
    "                        manifold.stable['-']\n",
    "                        ]):\n",
    "    if out is not None:\n",
    "        for yy in out.y.T:\n",
    "            yy = yy.reshape(-1, 2)\n",
    "            ax_perturbed.plot(yy[:, 0], yy[:, 1], marker=marker[0], markersize=4, c=color[i], alpha=0.5)"
   ]
  },
  {
   "cell_type": "code",
   "execution_count": null,
   "metadata": {},
   "outputs": [],
   "source": [
    "fig_perturbed"
   ]
  }
 ],
 "metadata": {
  "kernelspec": {
   "display_name": "simsopt",
   "language": "python",
   "name": "python3"
  },
  "language_info": {
   "codemirror_mode": {
    "name": "ipython",
    "version": 3
   },
   "file_extension": ".py",
   "mimetype": "text/x-python",
   "name": "python",
   "nbconvert_exporter": "python",
   "pygments_lexer": "ipython3",
   "version": "3.10.13"
  }
 },
 "nbformat": 4,
 "nbformat_minor": 2
}
