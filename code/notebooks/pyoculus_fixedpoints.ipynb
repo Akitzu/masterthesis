{
 "cells": [
  {
   "cell_type": "code",
   "execution_count": 3,
   "metadata": {},
   "outputs": [],
   "source": [
    "import numpy as np\n",
    "\n",
    "import sys\n",
    "import os\n",
    "sys.path.append(os.path.abspath(os.path.join(os.path.dirname(__file__), '..')))\n",
    "\n",
    "import horus as ho\n",
    "\n",
    "# import pyoculus\n",
    "# from mayavi import mlab\n",
    "# from pyoculus.problems import CartesianBfield\n",
    "from pyoculus.solvers import PoincarePlot\n",
    "from pyoculus.solvers import FixedPoint\n",
    "from simsopt.field import MagneticField"
   ]
  },
  {
   "cell_type": "code",
   "execution_count": 4,
   "metadata": {},
   "outputs": [],
   "source": [
    "bs, bsh, (nfp, coils, ma, _) = ho.ncsx()"
   ]
  },
  {
   "cell_type": "code",
   "execution_count": 101,
   "metadata": {},
   "outputs": [],
   "source": [
    "from pyoculus.problems import CartesianBfield\n",
    "\n",
    "class SimsoptBfieldProblem(CartesianBfield):\n",
    "    def __init__(self, R0, Z0, Nfp, bs):\n",
    "        super().__init__(R0, Z0, Nfp)\n",
    "\n",
    "        if not isinstance(bs, MagneticField):\n",
    "            raise ValueError(\"bs must be a MagneticField object\")\n",
    "\n",
    "        self.bs = bs\n",
    "\n",
    "    # The return of the B field for the two following methods is not the same as the calls are :\n",
    "    #   - CartesianBfield.f_RZ which does :\n",
    "    #   line 37     B = np.array([self.B(xyz, *args)]).T\n",
    "    #   - CartesianBfield.f_RZ_tangent which does :\n",
    "    #   line 68     B, dBdX = self.dBdX(xyz, *args)\n",
    "    #   line 69     B = np.array(B).T\n",
    "    # and both should result in a (3,1) array\n",
    "    def B(self, xyz):\n",
    "        xyz = np.reshape(xyz, (-1, 3))\n",
    "        self.bs.set_points(xyz)\n",
    "        return self.bs.B().flatten()\n",
    "\n",
    "    def dBdX(self, xyz):\n",
    "        B = self.B(xyz)\n",
    "        return [B], self.bs.dB_by_dX().reshape(3, 3)\n",
    "\n",
    "    def B_many(self, x1arr, x2arr, x3arr, input1D=True):\n",
    "        if input1D:\n",
    "            xyz = np.array([x1arr, x2arr, x3arr], dtype=np.float64).T\n",
    "        else:\n",
    "            xyz = np.meshgrid(x1arr, x2arr, x3arr)\n",
    "            xyz = np.array([xyz[0].flatten(), xyz[1].flatten(), xyz[2].flatten()], dtype=np.float64).T\n",
    "        \n",
    "        xyz = np.ascontiguousarray(xyz, dtype=np.float64)\n",
    "        self.bs.set_points(xyz)\n",
    "\n",
    "        return self.bs.B()\n",
    "\n",
    "    def dBdX_many(self, x1arr, x2arr, x3arr, input1D=True):\n",
    "        B = self.B_many(x1arr, x2arr, x3arr, input1D=input1D)\n",
    "        return [B], self.bs.dB_by_dX()"
   ]
  },
  {
   "cell_type": "code",
   "execution_count": 68,
   "metadata": {},
   "outputs": [],
   "source": [
    "x = [1.0, 1.0, 1.0, 1.3]\n",
    "y = [0.0, 0.0, 0.0, 0.0]\n",
    "z = [0.0, 0.0, 0.0, 0.0]"
   ]
  },
  {
   "cell_type": "markdown",
   "metadata": {},
   "source": [
    "Setting up a problem"
   ]
  },
  {
   "cell_type": "code",
   "execution_count": 102,
   "metadata": {},
   "outputs": [],
   "source": [
    "ps = SimsoptBfieldProblem(ma.gamma()[0, 0], 0, 3, bs)"
   ]
  },
  {
   "cell_type": "markdown",
   "metadata": {},
   "source": [
    "#### Poincare plot \n",
    "as in https://github.com/zhisong/pyoculus/blob/master/examples/two_waves.ipynb"
   ]
  },
  {
   "cell_type": "code",
   "execution_count": null,
   "metadata": {},
   "outputs": [],
   "source": [
    "# set up the integrator\n",
    "iparams = dict()\n",
    "iparams[\"rtol\"] = 1e-9\n",
    "\n",
    "# set up the Poincare plot\n",
    "pparams = dict()\n",
    "pparams[\"Rbegin\"] = 1.0\n",
    "pparams[\"Rend\"] = 1.7\n",
    "pparams[\"nPtrj\"] = 10\n",
    "pparams[\"nPpts\"] = 100\n",
    "pparams[\"zeta\"] = 0.33 * np.pi\n",
    "\n",
    "pplot = PoincarePlot(ps, pparams, integrator_params=iparams)\n",
    "pdata = pplot.compute()\n",
    "pplot.plot()"
   ]
  },
  {
   "cell_type": "code",
   "execution_count": null,
   "metadata": {},
   "outputs": [],
   "source": [
    "pplot.compute_iota()\n",
    "pplot.plot_iota()"
   ]
  },
  {
   "cell_type": "markdown",
   "metadata": {},
   "source": [
    "#### Finding fixed point"
   ]
  },
  {
   "cell_type": "code",
   "execution_count": null,
   "metadata": {},
   "outputs": [],
   "source": [
    "# set up the integrator\n",
    "iparams = dict()\n",
    "iparams[\"rtol\"] = 1e-7\n",
    "\n",
    "pparams = dict()\n",
    "pparams[\"nrestart\"] = 0\n",
    "pparams[\"Z\"] = 0\n",
    "pparams[\"tol\"] = 1e-7\n",
    "pparams['niter'] = 100\n",
    "\n",
    "fp01 = FixedPoint(ps, pparams, integrator_params=iparams)\n",
    "result01 = fp01.compute(guess=[1.527, 0.0], pp=3, qq=7, sbegin=1.5, send=1.9, tol = 1e-8)"
   ]
  },
  {
   "cell_type": "code",
   "execution_count": null,
   "metadata": {},
   "outputs": [],
   "source": [
    "# showing the resutlts\n",
    "if result01 is not None:\n",
    "    results = [list(p) for p in zip(result01.x, result01.y, result01.z)]\n",
    "    print(results)"
   ]
  },
  {
   "cell_type": "code",
   "execution_count": null,
   "metadata": {},
   "outputs": [],
   "source": [
    "result01.GreenesResidue"
   ]
  },
  {
   "cell_type": "code",
   "execution_count": null,
   "metadata": {},
   "outputs": [],
   "source": [
    "# set up the integrator\n",
    "iparams = dict()\n",
    "iparams[\"rtol\"] = 1e-7\n",
    "\n",
    "pparams = dict()\n",
    "pparams[\"nrestart\"] = 0\n",
    "# pparams[\"Z\"] = 0\n",
    "pparams[\"tol\"] = 1e-7\n",
    "pparams['niter'] = 10000\n",
    "\n",
    "fp01 = FixedPoint(ps, pparams, integrator_params=iparams)\n",
    "result01 = fp01.compute(guess=[1.527, -0.1], pp=3, qq=7, sbegin=1.5, send=1.9, tol = 1e-12, thetaf = False)\n",
    "\n",
    "# showing the resutlts\n",
    "if result01 is not None:\n",
    "    results = [list(p) for p in zip(result01.x, result01.y, result01.z)]\n",
    "    print(results)"
   ]
  },
  {
   "cell_type": "markdown",
   "metadata": {},
   "source": [
    "We can check at the comet by hand"
   ]
  },
  {
   "cell_type": "code",
   "execution_count": null,
   "metadata": {},
   "outputs": [],
   "source": [
    "ma.gamma()[0]"
   ]
  },
  {
   "cell_type": "code",
   "execution_count": null,
   "metadata": {},
   "outputs": [],
   "source": [
    "phi = 0.33*np.pi\n",
    "R = 1.15\n",
    "startpoint = [R*np.cos(phi), R*np.sin(phi), 0]\n",
    "startpoint = [1.9383899348191092, 0.0, 0.0]"
   ]
  },
  {
   "cell_type": "code",
   "execution_count": null,
   "metadata": {},
   "outputs": [],
   "source": [
    "ma_gamma = ho.trace(bs, 8*2*np.pi, ma.gamma()[0])\n",
    "# gamma = ho.trace(bs, 20*np.pi, startpoint)\n",
    "#gamma2 = ho.trace(bs, 3*np.pi, startpoint)"
   ]
  },
  {
   "cell_type": "code",
   "execution_count": null,
   "metadata": {},
   "outputs": [],
   "source": [
    "# mask = np.ones(gamma.shape[1], dtype=bool)\n",
    "# for i, x in enumerate(gamma.T):\n",
    "#     mask[i] = 0\n",
    "#     if np.isin(gamma, gamma.T[mask]).all():\n",
    "#         print(i)\n",
    "#         break\n",
    "#     mask[i] = 1"
   ]
  },
  {
   "cell_type": "code",
   "execution_count": null,
   "metadata": {},
   "outputs": [],
   "source": [
    "#gammaX = ho.trace(bs, 21*np.pi, results[0])\n",
    "gammaO = ho.trace(bs, 200*np.pi, [1.6282982137472521, 0.0, -0.5360026587795327])"
   ]
  },
  {
   "cell_type": "code",
   "execution_count": null,
   "metadata": {},
   "outputs": [],
   "source": [
    "from mayavi import mlab\n",
    "for coil in coils:\n",
    "    coil.plot(engine=\"mayavi\", show=False)\n",
    "\n",
    "#mlab.plot3d(gammaX[0, :], gammaX[1, :], gammaX[2, :], tube_radius=0.01, color=(0, 0, 0))\n",
    "mlab.plot3d(gammaO[0, :], gammaO[1, :], gammaO[2, :], tube_radius=0.01, color=(0, 0, 1))\n",
    "#mlab.plot3d(ma_gamma[0, :], ma_gamma[1, :], ma_gamma[2, :], tube_radius=0.01, color=(1, 0, 0))\n",
    "\n",
    "# Save the VTK object to a file\n",
    "mlab.show()"
   ]
  },
  {
   "cell_type": "markdown",
   "metadata": {},
   "source": [
    "#### Map of convergence"
   ]
  },
  {
   "cell_type": "code",
   "execution_count": null,
   "metadata": {},
   "outputs": [],
   "source": [
    "# set up the integrator\n",
    "iparams = dict()\n",
    "iparams[\"rtol\"] = 1e-7\n",
    "\n",
    "pparams = dict()\n",
    "pparams[\"nrestart\"] = 0\n",
    "# pparams[\"Z\"] = 0\n",
    "pparams[\"tol\"] = 1e-7\n",
    "pparams['niter'] = 100\n",
    "\n",
    "fp = FixedPoint(ps, pparams, integrator_params=iparams)"
   ]
  },
  {
   "cell_type": "code",
   "execution_count": null,
   "metadata": {},
   "outputs": [],
   "source": [
    "R,Z = np.meshgrid(np.linspace(1.25, 1.8, 20), np.linspace(-0.6, 0.6, 20))"
   ]
  },
  {
   "cell_type": "code",
   "execution_count": null,
   "metadata": {},
   "outputs": [],
   "source": [
    "assigned_to = list()\n",
    "fixed_points = list()"
   ]
  },
  {
   "cell_type": "code",
   "execution_count": null,
   "metadata": {},
   "outputs": [],
   "source": [
    "for i, (r, z) in enumerate(zip(R.flatten(), Z.flatten())):\n",
    "    fp_result = fp.compute(guess=[r, z], pp=3, qq=7, sbegin=1.5, send=1.9, tol = 1e-8)\n",
    "\n",
    "    if fp_result is not None:\n",
    "        fp_result_xyz = np.array([fp_result.x[0], fp_result.y[0], fp_result.z[0]])\n",
    "        assigned = False\n",
    "        for j, fpt in enumerate(fixed_points):\n",
    "            fpt_xyz = np.array([fpt.x[0], fpt.y[0], fpt.z[0]])\n",
    "            if np.isclose(fp_result_xyz, fpt_xyz, atol=1e-3).all():\n",
    "                assigned_to.append(j)\n",
    "                assigned = True\n",
    "        if not assigned:\n",
    "            assigned_to.append(len(fixed_points))        \n",
    "            fixed_points.append(fp_result)\n",
    "    else:\n",
    "        assigned_to.append(-1)"
   ]
  },
  {
   "cell_type": "code",
   "execution_count": null,
   "metadata": {},
   "outputs": [],
   "source": [
    "assigned_to = np.array(assigned_to)+1"
   ]
  },
  {
   "cell_type": "code",
   "execution_count": null,
   "metadata": {},
   "outputs": [],
   "source": [
    "from matplotlib.colors import TABLEAU_COLORS as colors\n",
    "colors = list(colors.values())\n",
    "\n",
    "cmap = np.array([list(int(colors[j].lstrip(\"#\")[i:i+2], 16) for i in (0, 2, 4)) for j in assigned_to])/255"
   ]
  },
  {
   "cell_type": "code",
   "execution_count": null,
   "metadata": {},
   "outputs": [],
   "source": [
    "cmap = cmap.reshape(R.shape[0], R.shape[1], 3)"
   ]
  },
  {
   "cell_type": "code",
   "execution_count": null,
   "metadata": {},
   "outputs": [],
   "source": [
    "import matplotlib.pyplot as plt\n",
    "\n",
    "fig, ax = plt.subplots()\n",
    "\n",
    "ax.pcolormesh(R, Z, cmap, shading='nearest')\n",
    "\n",
    "for i, fpt in enumerate(fixed_points):\n",
    "    if fpt.GreenesResidue < 0:\n",
    "        marker = 'X'\n",
    "    elif fpt.GreenesResidue > 0:\n",
    "        marker = 'o'\n",
    "    else:\n",
    "        marker = 's'\n",
    "    \n",
    "    ax.scatter(fpt.x[0], fpt.z[0], c=colors[i+1], marker=marker, edgecolors='black', linewidths=1)\n",
    "\n",
    "ax.set_aspect('equal')"
   ]
  },
  {
   "cell_type": "markdown",
   "metadata": {},
   "source": [
    "#### Poincare plotter"
   ]
  },
  {
   "cell_type": "code",
   "execution_count": null,
   "metadata": {},
   "outputs": [],
   "source": [
    "from scipy.integrate import solve_ivp\n",
    "\n",
    "## for now 2d startpoint in the phi = 0 plane\n",
    "nfieldlines = 10\n",
    "Rs = np.linspace(ma.gamma()[0, 0], ma.gamma()[0, 0] + 0.01, nfieldlines)\n",
    "Zs = [ma.gamma()[0, 2] for i in range(nfieldlines)]\n",
    "RZstart = np.array([[r, z] for r, z in zip(Rs, Zs)])\n",
    "#RZstart = np.array([[1.6, 0.0],[1.6, 0.0]])\n",
    "\n",
    "phis = [0]"
   ]
  },
  {
   "cell_type": "code",
   "execution_count": null,
   "metadata": {},
   "outputs": [],
   "source": [
    "RZstart"
   ]
  },
  {
   "cell_type": "code",
   "execution_count": null,
   "metadata": {},
   "outputs": [],
   "source": [
    "import matplotlib.pyplot as plt\n",
    "\n",
    "class PoincarePlanes():\n",
    "\n",
    "    @classmethod\n",
    "    def from_ivp(cls, out):\n",
    "        cls.out = out\n",
    "\n",
    "    @classmethod\n",
    "    def from_simsopt(cls, fieldlines_tys, fieldlines_phi_hits):\n",
    "        cls.tys = fieldlines_tys\n",
    "        cls.phi_hits = fieldlines_phi_hits\n",
    "        \n",
    "    @property\n",
    "    def traces(self):\n",
    "        RZs = self.out.y\n",
    "        phis = self.out.t\n",
    "\n",
    "        traces = np.array([RZs[:,i::2] for i in range(len(phis))])\n",
    "\n",
    "        return [traces[2*i:2*i+2,:] for i in range (traces.shape[0]//2)]\n",
    "        \n",
    "    def plot(self):\n",
    "        \n",
    "        fig, ax = plt.subplots()\n",
    "        for trace in self.traces:\n",
    "            R, Z = trace\n",
    "            plt.plot(R, Z, 'o', markersize=2)\n",
    "\n",
    "        return fig, ax"
   ]
  },
  {
   "cell_type": "code",
   "execution_count": null,
   "metadata": {},
   "outputs": [],
   "source": [
    "def inv_Jacobian(R, phi, _):\n",
    "    return np.array([\n",
    "        [np.cos(phi), -np.sin(phi)/R, 0], \n",
    "        [np.sin(phi), np.cos(phi)/R, 0], \n",
    "        [0,0,1]\n",
    "    ])\n",
    "\n",
    "def poincare_ivp(bs, RZstart, phis, **kwargs):\n",
    "    options = {\n",
    "        \"rtol\": 1e-10,\n",
    "        \"atol\": 1e-10,\n",
    "        \"nintersect\": 10,\n",
    "        \"method\": \"DOP853\",\n",
    "    }\n",
    "    options.update(kwargs)\n",
    "    print(options)\n",
    "\n",
    "    def Bfield_2D(t, rzs):\n",
    "        print(rzs)\n",
    "        rzs = rzs.reshape((-1, 2))\n",
    "        rphizs = np.ascontiguousarray(np.vstack((rzs[:, 0], t*np.ones(rzs.shape[0]), rzs[:, 1])).T)\n",
    "        bs.set_points_cyl(rphizs)\n",
    "        Bs = list()\n",
    "        for position, B in zip(rphizs, bs.B()):\n",
    "            B = inv_Jacobian(*position) @ B.reshape(3, -1)\n",
    "            Bs.append(np.array([B[0, 0] / B[1, 0], B[2, 0] / B[1, 0]]))\n",
    "\n",
    "        return np.array(Bs).flatten()\n",
    "    \n",
    "    # setup the phis of the poincare sections\n",
    "    phis = np.unique(np.mod(phis, 2*np.pi))\n",
    "    phis.sort()\n",
    "\n",
    "    # setup the evaluation points for those sections\n",
    "    phi_evals = np.array([phis+2*np.pi*i for i in range(options['nintersect']+1)])\n",
    "    \n",
    "    out = solve_ivp(\n",
    "        Bfield_2D,\n",
    "        [0, phi_evals[-1,-1]],\n",
    "        RZstart.flatten(),\n",
    "        t_eval=phi_evals.flatten(),\n",
    "        method=options[\"method\"],\n",
    "        rtol=options[\"rtol\"],\n",
    "        atol=options[\"atol\"],\n",
    "    )\n",
    "\n",
    "    return out"
   ]
  },
  {
   "cell_type": "code",
   "execution_count": null,
   "metadata": {},
   "outputs": [],
   "source": [
    "out = poincare_ivp(bsh, RZstart, phis, rtol=1e-5, atol=1e-5, nintersect=10, method=\"DOP853\")"
   ]
  },
  {
   "cell_type": "code",
   "execution_count": null,
   "metadata": {},
   "outputs": [],
   "source": [
    "sections = PoincarePlanes.from_ivp(out)"
   ]
  },
  {
   "cell_type": "code",
   "execution_count": null,
   "metadata": {},
   "outputs": [],
   "source": [
    "def B(rphiz):\n",
    "    bsh.set_points_cyl(rphiz)\n",
    "    return bsh.B().reshape(3, -1)\n",
    "\n",
    "%timeit B(np.array([RZstart[:,0], np.zeros(RZstart.shape[0]),RZstart[:,1]], dtype=np.float64).reshape(-1,3))"
   ]
  },
  {
   "cell_type": "code",
   "execution_count": null,
   "metadata": {},
   "outputs": [],
   "source": []
  }
 ],
 "metadata": {
  "kernelspec": {
   "display_name": "simsopt",
   "language": "python",
   "name": "python3"
  },
  "language_info": {
   "codemirror_mode": {
    "name": "ipython",
    "version": 3
   },
   "file_extension": ".py",
   "mimetype": "text/x-python",
   "name": "python",
   "nbconvert_exporter": "python",
   "pygments_lexer": "ipython3",
   "version": "3.10.13"
  }
 },
 "nbformat": 4,
 "nbformat_minor": 2
}
