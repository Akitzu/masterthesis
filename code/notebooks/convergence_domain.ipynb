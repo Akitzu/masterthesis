{
 "cells": [
  {
   "cell_type": "code",
   "execution_count": 2,
   "metadata": {},
   "outputs": [],
   "source": [
    "import numpy as np\n",
    "import matplotlib.pyplot as plt\n",
    "from pyoculus.problems import SimsoptBfieldProblem\n",
    "import pickle\n",
    "import horus as ho"
   ]
  },
  {
   "cell_type": "code",
   "execution_count": 2,
   "metadata": {},
   "outputs": [],
   "source": [
    "bs, bsh, (nfp, coils, ma, sc_fieldline) = ho.ncsx()"
   ]
  },
  {
   "cell_type": "markdown",
   "metadata": {},
   "source": [
    "#### Poincare plot"
   ]
  },
  {
   "cell_type": "code",
   "execution_count": null,
   "metadata": {},
   "outputs": [],
   "source": [
    "nfieldlines = 30\n",
    "phis = [0]    #[(i / 4) * (2 * np.pi / nfp) for i in range(4)]\n",
    "Rs = np.linspace(ma.gamma()[0, 0], ma.gamma()[0, 0] + 0.14, nfieldlines)\n",
    "Zs = [ma.gamma()[0, 2] for i in range(nfieldlines)]\n",
    "RZs = np.array([[r, z] for r, z in zip(Rs, Zs)])"
   ]
  },
  {
   "cell_type": "code",
   "execution_count": null,
   "metadata": {},
   "outputs": [],
   "source": [
    "fig, axs = ho.poincare_simsopt(bsh, RZs, phis, sc_fieldline, tol = 1e-8)"
   ]
  },
  {
   "cell_type": "code",
   "execution_count": null,
   "metadata": {},
   "outputs": [],
   "source": [
    "for col in axs[0,0].collections:\n",
    "    col.set_color('black')\n",
    "    col.set_sizes([0.5])"
   ]
  },
  {
   "cell_type": "code",
   "execution_count": null,
   "metadata": {},
   "outputs": [],
   "source": [
    "pickle.dump(fig, open(\"../output/poincare_figure.pickle\", \"wb\"))"
   ]
  },
  {
   "cell_type": "markdown",
   "metadata": {},
   "source": [
    "#### Plot the convergence domains"
   ]
  },
  {
   "cell_type": "code",
   "execution_count": 3,
   "metadata": {},
   "outputs": [
    {
     "name": "stdout",
     "output_type": "stream",
     "text": [
      "{'ncoils': 3}\n"
     ]
    }
   ],
   "source": [
    "ps = SimsoptBfieldProblem.from_coils(R0=ma.gamma()[0,0], Z0=0., Nfp=3, coils=coils, interpolate=True, ncoils=3)"
   ]
  },
  {
   "cell_type": "code",
   "execution_count": 4,
   "metadata": {},
   "outputs": [],
   "source": [
    "# R = np.linspace(1.2, 1.8, 31)\n",
    "# Z = np.linspace(-0.6, 0.6, 61)\n",
    "R = np.linspace(1.2, 1.8, 1)\n",
    "Z = np.linspace(-0.6, 0.6, 2)"
   ]
  },
  {
   "cell_type": "markdown",
   "metadata": {},
   "source": [
    "##### With checkonly"
   ]
  },
  {
   "cell_type": "code",
   "execution_count": 5,
   "metadata": {},
   "outputs": [
    {
     "name": "stdout",
     "output_type": "stream",
     "text": [
      "0 - [DeltaR, DeltaZ] : [ 0.05091796 -0.01910802] - dtheta : 0.07462711174062031\n",
      "0 - [StepR, StepZ]: [0.08144108 0.02466793]\n",
      "1 - RZ : [ 1.28144108 -0.57533207] - rhotheta : [ 0.65716229 -2.07516563]\n",
      "1 - [DeltaR, DeltaZ] : [0.02807603 0.00209655] - dtheta : 0.03667132271797513\n",
      "1 - [StepR, StepZ]: [0.04598254 0.03128466]\n",
      "2 - RZ : [ 1.32742362 -0.54404741] - rhotheta : [ 0.60807175 -2.03381286]\n",
      "2 - [DeltaR, DeltaZ] : [0.00874825 0.00215658] - dtheta : 0.011360907634474948\n",
      "2 - [StepR, StepZ]: [0.01453326 0.01530627]\n",
      "3 - RZ : [ 1.34195687 -0.52874114] - rhotheta : [ 0.58791816 -2.02332395]\n",
      "3 - [DeltaR, DeltaZ] : [0.00144171 0.00054385] - dtheta : 0.001768152511552934\n",
      "3 - [StepR, StepZ]: [0.00182005 0.00298578]\n",
      "4 - RZ : [ 1.34377693 -0.52575536] - rhotheta : [ 0.58443721 -2.02275699]\n",
      "4 - [DeltaR, DeltaZ] : [5.92081021e-05 2.61619431e-05] - dtheta : 3.4755009485465393e-05\n",
      "4 - [StepR, StepZ]: [5.60332131e-05 1.22568483e-04]\n",
      "5 - RZ : [ 1.34383296 -0.52563279] - rhotheta : [ 0.58430248 -2.02276233]\n",
      "5 - [DeltaR, DeltaZ] : [1.13622612e-07 5.29258709e-08] - dtheta : 3.6509084285540894e-05\n",
      "5 - [StepR, StepZ]: [9.14037694e-08 2.28917040e-07]\n",
      "6 - RZ : [ 1.34383305 -0.52563256] - rhotheta : [ 0.58430223 -2.02276236]\n",
      "6 - [DeltaR, DeltaZ] : [-5.23256705e-09 -4.73038864e-09] - dtheta : 3.655425135340451e-05\n",
      "0 - [DeltaR, DeltaZ] : [ 0.02839872 -0.0570902 ] - dtheta : 0.012073991355263214\n",
      "0 - [StepR, StepZ]: [ 0.08394124 -0.04981672]\n",
      "1 - RZ : [1.28394124 0.55018328] - rhotheta : [0.63401513 2.09088269]\n",
      "1 - [DeltaR, DeltaZ] : [ 0.01047816 -0.01788867] - dtheta : 0.000375843617149485\n",
      "1 - [StepR, StepZ]: [ 0.04796083 -0.02233672]\n",
      "2 - RZ : [1.33190207 0.52784656] - rhotheta : [0.59158521 2.03927141]\n",
      "2 - [DeltaR, DeltaZ] : [ 0.00298475 -0.00343372] - dtheta : 0.00193820231012376\n",
      "2 - [StepR, StepZ]: [ 0.0109681 -0.0016389]\n",
      "3 - RZ : [1.34287018 0.52620766] - rhotheta : [0.58524043 2.02381326]\n",
      "3 - [DeltaR, DeltaZ] : [ 1.25154593e-06 -1.60014891e-04] - dtheta : 7.746344040482356e-05\n",
      "3 - [StepR, StepZ]: [ 0.00095792 -0.00057287]\n",
      "4 - RZ : [1.34382809 0.52563479] - rhotheta : [0.5843064  2.02276833]\n",
      "4 - [DeltaR, DeltaZ] : [ 5.59520226e-07 -1.09247401e-06] - dtheta : 4.146089147072374e-05\n",
      "4 - [StepR, StepZ]: [ 5.15957017e-06 -2.15494991e-06]\n",
      "5 - RZ : [1.34383325 0.52563264] - rhotheta : [0.58430221 2.022762  ]\n",
      "5 - [DeltaR, DeltaZ] : [-9.19427201e-10  1.03152131e-09] - dtheta : 4.121961698100307e-05\n"
     ]
    },
    {
     "ename": "ValueError",
     "evalue": "setting an array element with a sequence. The requested array has an inhomogeneous shape after 2 dimensions. The detected shape was (4, 2) + inhomogeneous part.",
     "output_type": "error",
     "traceback": [
      "\u001b[1;31m---------------------------------------------------------------------------\u001b[0m",
      "\u001b[1;31mValueError\u001b[0m                                Traceback (most recent call last)",
      "Cell \u001b[1;32mIn [5], line 1\u001b[0m\n\u001b[1;32m----> 1\u001b[0m convdom_checkonly \u001b[38;5;241m=\u001b[39m \u001b[43mho\u001b[49m\u001b[38;5;241;43m.\u001b[39;49m\u001b[43mconvergence_domain\u001b[49m\u001b[43m(\u001b[49m\u001b[43mps\u001b[49m\u001b[43m,\u001b[49m\u001b[43m \u001b[49m\u001b[43mR\u001b[49m\u001b[43m,\u001b[49m\u001b[43m \u001b[49m\u001b[43mZ\u001b[49m\u001b[43m,\u001b[49m\u001b[43m \u001b[49m\u001b[43mrtol\u001b[49m\u001b[43m \u001b[49m\u001b[38;5;241;43m=\u001b[39;49m\u001b[43m \u001b[49m\u001b[38;5;241;43m1e-7\u001b[39;49m\u001b[43m,\u001b[49m\u001b[43m \u001b[49m\u001b[43mtol\u001b[49m\u001b[43m \u001b[49m\u001b[38;5;241;43m=\u001b[39;49m\u001b[43m \u001b[49m\u001b[38;5;241;43m1e-8\u001b[39;49m\u001b[43m,\u001b[49m\u001b[43m \u001b[49m\u001b[43meps\u001b[49m\u001b[43m \u001b[49m\u001b[38;5;241;43m=\u001b[39;49m\u001b[43m \u001b[49m\u001b[38;5;241;43m1e-5\u001b[39;49m\u001b[43m,\u001b[49m\u001b[43m \u001b[49m\u001b[43mcheckonly\u001b[49m\u001b[43m \u001b[49m\u001b[38;5;241;43m=\u001b[39;49m\u001b[43m \u001b[49m\u001b[38;5;28;43;01mTrue\u001b[39;49;00m\u001b[43m)\u001b[49m\n",
      "File \u001b[1;32m~\\kDrive\\etudes\\EPFL\\masterthesis\\imports\\horus\\src\\horus\\convergence_domain.py:138\u001b[0m, in \u001b[0;36mconvergence_domain\u001b[1;34m(ps, Rw, Zw, **kwargs)\u001b[0m\n\u001b[0;32m    135\u001b[0m         assigned_to\u001b[38;5;241m.\u001b[39mappend(\u001b[38;5;241m-\u001b[39m\u001b[38;5;241m1\u001b[39m)\n\u001b[0;32m    136\u001b[0m         all_fixed_points\u001b[38;5;241m.\u001b[39mappend(fp_result)\n\u001b[1;32m--> 138\u001b[0m \u001b[38;5;28;01mreturn\u001b[39;00m \u001b[43mnp\u001b[49m\u001b[38;5;241;43m.\u001b[39;49m\u001b[43marray\u001b[49m\u001b[43m(\u001b[49m\u001b[43m[\u001b[49m\u001b[43mR\u001b[49m\u001b[43m,\u001b[49m\u001b[43m \u001b[49m\u001b[43mZ\u001b[49m\u001b[43m,\u001b[49m\u001b[43m \u001b[49m\u001b[43mnp\u001b[49m\u001b[38;5;241;43m.\u001b[39;49m\u001b[43marray\u001b[49m\u001b[43m(\u001b[49m\u001b[43massigned_to\u001b[49m\u001b[43m)\u001b[49m\u001b[38;5;241;43m.\u001b[39;49m\u001b[43mreshape\u001b[49m\u001b[43m(\u001b[49m\u001b[43mR\u001b[49m\u001b[38;5;241;43m.\u001b[39;49m\u001b[43mshape\u001b[49m\u001b[43m)\u001b[49m\u001b[43m,\u001b[49m\u001b[43m \u001b[49m\u001b[43mnp\u001b[49m\u001b[38;5;241;43m.\u001b[39;49m\u001b[43marray\u001b[49m\u001b[43m(\u001b[49m\u001b[43mall_fixed_points\u001b[49m\u001b[43m,\u001b[49m\u001b[43m \u001b[49m\u001b[43mdtype\u001b[49m\u001b[38;5;241;43m=\u001b[39;49m\u001b[38;5;28;43mobject\u001b[39;49m\u001b[43m)\u001b[49m\u001b[43m]\u001b[49m\u001b[43m)\u001b[49m, np\u001b[38;5;241m.\u001b[39marray(fixed_points, dtype\u001b[38;5;241m=\u001b[39m\u001b[38;5;28mobject\u001b[39m)\n",
      "\u001b[1;31mValueError\u001b[0m: setting an array element with a sequence. The requested array has an inhomogeneous shape after 2 dimensions. The detected shape was (4, 2) + inhomogeneous part."
     ]
    }
   ],
   "source": [
    "convdom_checkonly = ho.convergence_domain(ps, R, Z, rtol = 1e-7, tol = 1e-8, eps = 1e-5, checkonly = True)"
   ]
  },
  {
   "cell_type": "code",
   "execution_count": 3,
   "metadata": {},
   "outputs": [],
   "source": [
    "fig_checkonly = pickle.load(open(\"../../runs/unclassified-output/NCSX_poincare.pkl\", \"rb\"))"
   ]
  },
  {
   "cell_type": "code",
   "execution_count": 4,
   "metadata": {},
   "outputs": [],
   "source": [
    "plt.show()"
   ]
  },
  {
   "cell_type": "code",
   "execution_count": 5,
   "metadata": {},
   "outputs": [
    {
     "data": {
      "image/png": "[encoded data removed]",
      "text/plain": [
       "<Figure size 800x500 with 1 Axes>"
      ]
     },
     "execution_count": 5,
     "metadata": {},
     "output_type": "execute_result"
    }
   ],
   "source": [
    "fig_checkonly"
   ]
  },
  {
   "cell_type": "code",
   "execution_count": 15,
   "metadata": {},
   "outputs": [
    {
     "data": {
      "text/plain": [
       "array([[<pyoculus.solvers.fixed_point.FixedPoint object at 0x000002705845AE00>,\n",
       "        <pyoculus.solvers.fixed_point.FixedPoint object at 0x0000027051F78100>],\n",
       "       [<pyoculus.solvers.fixed_point.FixedPoint object at 0x00000270521FD570>,\n",
       "        <pyoculus.solvers.fixed_point.FixedPoint object at 0x000002705845B040>]],\n",
       "      dtype=object)"
      ]
     },
     "execution_count": 15,
     "metadata": {},
     "output_type": "execute_result"
    }
   ],
   "source": [
    "np.array(convdom_checkonly[-1], dtype=object).reshape(2, 2)"
   ]
  },
  {
   "cell_type": "code",
   "execution_count": 13,
   "metadata": {},
   "outputs": [
    {
     "data": {
      "text/plain": [
       "(array([[1.2, 1.8],\n",
       "        [1.2, 1.8]]),\n",
       " array([[-0.6, -0.6],\n",
       "        [ 0.6,  0.6]]),\n",
       " array([ 0, -1,  1, -1]),\n",
       " [<pyoculus.solvers.fixed_point.FixedPoint at 0x2705845ae00>,\n",
       "  <pyoculus.solvers.fixed_point.FixedPoint at 0x270521fd570>],\n",
       " [<pyoculus.solvers.fixed_point.FixedPoint at 0x2705845ae00>,\n",
       "  <pyoculus.solvers.fixed_point.FixedPoint at 0x27051f78100>,\n",
       "  <pyoculus.solvers.fixed_point.FixedPoint at 0x270521fd570>,\n",
       "  <pyoculus.solvers.fixed_point.FixedPoint at 0x2705845b040>])"
      ]
     },
     "execution_count": 13,
     "metadata": {},
     "output_type": "execute_result"
    }
   ],
   "source": [
    "convdom_checkonly"
   ]
  },
  {
   "cell_type": "code",
   "execution_count": 12,
   "metadata": {},
   "outputs": [
    {
     "ename": "IndexError",
     "evalue": "list index out of range",
     "output_type": "error",
     "traceback": [
      "\u001b[1;31m---------------------------------------------------------------------------\u001b[0m",
      "\u001b[1;31mIndexError\u001b[0m                                Traceback (most recent call last)",
      "Cell \u001b[1;32mIn [12], line 1\u001b[0m\n\u001b[1;32m----> 1\u001b[0m \u001b[43mho\u001b[49m\u001b[38;5;241;43m.\u001b[39;49m\u001b[43mplot_convergence_domain\u001b[49m\u001b[43m(\u001b[49m\u001b[38;5;241;43m*\u001b[39;49m\u001b[43mconvdom_checkonly\u001b[49m\u001b[43m,\u001b[49m\u001b[43m \u001b[49m\u001b[43mfig_checkonly\u001b[49m\u001b[38;5;241;43m.\u001b[39;49m\u001b[43mget_axes\u001b[49m\u001b[43m(\u001b[49m\u001b[43m)\u001b[49m\u001b[43m)\u001b[49m\n",
      "File \u001b[1;32m~\\kDrive\\etudes\\EPFL\\masterthesis\\imports\\horus\\src\\horus\\convergence_domain.py:169\u001b[0m, in \u001b[0;36mplot_convergence_domain\u001b[1;34m(R, Z, assigned_to, fixed_points, ax, colors)\u001b[0m\n\u001b[0;32m    166\u001b[0m     colors[:, \u001b[38;5;241m3\u001b[39m] \u001b[38;5;241m=\u001b[39m \u001b[38;5;241m0.8\u001b[39m\n\u001b[0;32m    167\u001b[0m     colors \u001b[38;5;241m=\u001b[39m np\u001b[38;5;241m.\u001b[39mvstack(([\u001b[38;5;241m0.3\u001b[39m, \u001b[38;5;241m0.3\u001b[39m, \u001b[38;5;241m0.3\u001b[39m, \u001b[38;5;241m0.15\u001b[39m], colors))\n\u001b[1;32m--> 169\u001b[0m cmap \u001b[38;5;241m=\u001b[39m np\u001b[38;5;241m.\u001b[39marray([colors[j] \u001b[38;5;28;01mfor\u001b[39;00m j \u001b[38;5;129;01min\u001b[39;00m assigned_to])\n\u001b[0;32m    170\u001b[0m cmap \u001b[38;5;241m=\u001b[39m cmap\u001b[38;5;241m.\u001b[39mreshape(R\u001b[38;5;241m.\u001b[39mshape[\u001b[38;5;241m0\u001b[39m], R\u001b[38;5;241m.\u001b[39mshape[\u001b[38;5;241m1\u001b[39m], cmap\u001b[38;5;241m.\u001b[39mshape[\u001b[38;5;241m1\u001b[39m])\n\u001b[0;32m    172\u001b[0m \u001b[38;5;28;01mif\u001b[39;00m ax \u001b[38;5;129;01mis\u001b[39;00m \u001b[38;5;28;01mNone\u001b[39;00m:\n",
      "File \u001b[1;32m~\\kDrive\\etudes\\EPFL\\masterthesis\\imports\\horus\\src\\horus\\convergence_domain.py:169\u001b[0m, in \u001b[0;36m<listcomp>\u001b[1;34m(.0)\u001b[0m\n\u001b[0;32m    166\u001b[0m     colors[:, \u001b[38;5;241m3\u001b[39m] \u001b[38;5;241m=\u001b[39m \u001b[38;5;241m0.8\u001b[39m\n\u001b[0;32m    167\u001b[0m     colors \u001b[38;5;241m=\u001b[39m np\u001b[38;5;241m.\u001b[39mvstack(([\u001b[38;5;241m0.3\u001b[39m, \u001b[38;5;241m0.3\u001b[39m, \u001b[38;5;241m0.3\u001b[39m, \u001b[38;5;241m0.15\u001b[39m], colors))\n\u001b[1;32m--> 169\u001b[0m cmap \u001b[38;5;241m=\u001b[39m np\u001b[38;5;241m.\u001b[39marray([\u001b[43mcolors\u001b[49m\u001b[43m[\u001b[49m\u001b[43mj\u001b[49m\u001b[43m]\u001b[49m \u001b[38;5;28;01mfor\u001b[39;00m j \u001b[38;5;129;01min\u001b[39;00m assigned_to])\n\u001b[0;32m    170\u001b[0m cmap \u001b[38;5;241m=\u001b[39m cmap\u001b[38;5;241m.\u001b[39mreshape(R\u001b[38;5;241m.\u001b[39mshape[\u001b[38;5;241m0\u001b[39m], R\u001b[38;5;241m.\u001b[39mshape[\u001b[38;5;241m1\u001b[39m], cmap\u001b[38;5;241m.\u001b[39mshape[\u001b[38;5;241m1\u001b[39m])\n\u001b[0;32m    172\u001b[0m \u001b[38;5;28;01mif\u001b[39;00m ax \u001b[38;5;129;01mis\u001b[39;00m \u001b[38;5;28;01mNone\u001b[39;00m:\n",
      "\u001b[1;31mIndexError\u001b[0m: list index out of range"
     ]
    }
   ],
   "source": [
    "ho.plot_convergence_domain(*convdom_checkonly, fig_checkonly.get_axes())"
   ]
  },
  {
   "cell_type": "code",
   "execution_count": null,
   "metadata": {},
   "outputs": [],
   "source": [
    "fig_checkonly"
   ]
  },
  {
   "cell_type": "code",
   "execution_count": null,
   "metadata": {},
   "outputs": [],
   "source": [
    "fig_checkonly.savefig(\"../../figures/convergence_domain_checkonly.png\", dpi=600)"
   ]
  },
  {
   "cell_type": "markdown",
   "metadata": {},
   "source": [
    "##### Without checkonly"
   ]
  },
  {
   "cell_type": "code",
   "execution_count": null,
   "metadata": {},
   "outputs": [],
   "source": [
    "convdom = ho.convergence_domain(ps, R, Z, rtol = 1e-10, tol = 1e-4, eps = 1e-4, checkonly = False)"
   ]
  },
  {
   "cell_type": "code",
   "execution_count": null,
   "metadata": {},
   "outputs": [],
   "source": [
    "fig = pickle.load(open(\"../output/poincare_figure.pickle\", \"rb\"))"
   ]
  },
  {
   "cell_type": "code",
   "execution_count": null,
   "metadata": {},
   "outputs": [],
   "source": [
    "ho.plot_convergence_domain(*convdom, ax=fig.get_axes()[0])"
   ]
  },
  {
   "cell_type": "code",
   "execution_count": null,
   "metadata": {},
   "outputs": [],
   "source": [
    "fig"
   ]
  },
  {
   "cell_type": "code",
   "execution_count": null,
   "metadata": {},
   "outputs": [],
   "source": [
    "fig.savefig(\"../../figure/convergence_domain.png\", dpi=600)"
   ]
  }
 ],
 "metadata": {
  "kernelspec": {
   "display_name": "simsopt",
   "language": "python",
   "name": "python3"
  },
  "language_info": {
   "codemirror_mode": {
    "name": "ipython",
    "version": 3
   },
   "file_extension": ".py",
   "mimetype": "text/x-python",
   "name": "python",
   "nbconvert_exporter": "python",
   "pygments_lexer": "ipython3",
   "version": "3.10.13"
  }
 },
 "nbformat": 4,
 "nbformat_minor": 2
}
