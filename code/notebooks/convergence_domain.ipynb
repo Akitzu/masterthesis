{
 "cells": [
  {
   "cell_type": "code",
   "execution_count": 6,
   "metadata": {},
   "outputs": [],
   "source": [
    "import numpy as np\n",
    "import matplotlib.pyplot as plt\n",
    "from pyoculus.problems import SimsoptBfieldProblem\n",
    "import pickle\n",
    "import horus as ho"
   ]
  },
  {
   "cell_type": "code",
   "execution_count": 2,
   "metadata": {},
   "outputs": [],
   "source": [
    "bs, bsh, (nfp, coils, ma, sc_fieldline) = ho.ncsx()"
   ]
  },
  {
   "cell_type": "markdown",
   "metadata": {},
   "source": [
    "#### Poincare plot"
   ]
  },
  {
   "cell_type": "code",
   "execution_count": null,
   "metadata": {},
   "outputs": [],
   "source": [
    "nfieldlines = 30\n",
    "phis = [0]    #[(i / 4) * (2 * np.pi / nfp) for i in range(4)]\n",
    "Rs = np.linspace(ma.gamma()[0, 0], ma.gamma()[0, 0] + 0.14, nfieldlines)\n",
    "Zs = [ma.gamma()[0, 2] for i in range(nfieldlines)]\n",
    "RZs = np.array([[r, z] for r, z in zip(Rs, Zs)])"
   ]
  },
  {
   "cell_type": "code",
   "execution_count": null,
   "metadata": {},
   "outputs": [],
   "source": [
    "fig, axs = ho.poincare_simsopt(bsh, RZs, phis, sc_fieldline, tol = 1e-8)"
   ]
  },
  {
   "cell_type": "code",
   "execution_count": null,
   "metadata": {},
   "outputs": [],
   "source": [
    "for col in axs[0,0].collections:\n",
    "    col.set_color('black')\n",
    "    col.set_sizes([0.5])"
   ]
  },
  {
   "cell_type": "code",
   "execution_count": null,
   "metadata": {},
   "outputs": [],
   "source": [
    "pickle.dump(fig, open(\"../output/poincare_figure.pickle\", \"wb\"))"
   ]
  },
  {
   "cell_type": "markdown",
   "metadata": {},
   "source": [
    "#### Plot the convergence domains"
   ]
  },
  {
   "cell_type": "code",
   "execution_count": 7,
   "metadata": {},
   "outputs": [],
   "source": [
    "ps = SimsoptBfieldProblem(ma.gamma()[0, 0], 0, 3, bs)"
   ]
  },
  {
   "cell_type": "code",
   "execution_count": 8,
   "metadata": {},
   "outputs": [],
   "source": [
    "# R = np.linspace(1.2, 1.8, 31)\n",
    "# Z = np.linspace(-0.6, 0.6, 61)\n",
    "R = np.linspace(1.2, 1.8, 2)\n",
    "Z = np.linspace(-0.6, 0.6, 2)"
   ]
  },
  {
   "cell_type": "markdown",
   "metadata": {},
   "source": [
    "##### With checkonly"
   ]
  },
  {
   "cell_type": "code",
   "execution_count": 9,
   "metadata": {},
   "outputs": [
    {
     "name": "stdout",
     "output_type": "stream",
     "text": [
      "0 - [DeltaR, DeltaZ] : [ 0.0509179  -0.01910805] - dtheta : 0.07462540034476328\n",
      "0 - [StepR, StepZ]: [0.08144108 0.0246679 ]\n",
      "1 - RZ : [ 1.28144108 -0.5753321 ] - rhotheta : [ 0.65716231 -2.07516561]\n",
      "1 - [DeltaR, DeltaZ] : [0.02807599 0.00209651] - dtheta : 0.03666971330276203\n",
      "1 - [StepR, StepZ]: [0.04598258 0.03128464]\n",
      "2 - RZ : [ 1.32742365 -0.54404745] - rhotheta : [ 0.60807177 -2.03381278]\n",
      "2 - [DeltaR, DeltaZ] : [0.00874827 0.00215658] - dtheta : 0.011359872553737382\n",
      "2 - [StepR, StepZ]: [0.01453327 0.01530629]\n",
      "3 - RZ : [ 1.34195692 -0.52874117] - rhotheta : [ 0.58791816 -2.02332386]\n",
      "3 - [DeltaR, DeltaZ] : [0.0014417  0.00054385] - dtheta : 0.0017664023303045617\n",
      "3 - [StepR, StepZ]: [0.00182005 0.00298576]\n",
      "4 - RZ : [ 1.34377698 -0.5257554 ] - rhotheta : [ 0.58443722 -2.02275688]\n",
      "4 - [DeltaR, DeltaZ] : [5.92080428e-05 2.61581676e-05] - dtheta : 3.338243198713897e-05\n",
      "4 - [StepR, StepZ]: [5.60556941e-05 1.22577966e-04]\n",
      "5 - RZ : [ 1.34383303 -0.52563282] - rhotheta : [ 0.58430247 -2.0227622 ]\n",
      "5 - [DeltaR, DeltaZ] : [1.08806504e-07 4.84099870e-08] - dtheta : 3.809307028346254e-05\n",
      "5 - [StepR, StepZ]: [1.01326351e-07 2.25195945e-07]\n",
      "6 - RZ : [ 1.34383313 -0.5256326 ] - rhotheta : [ 0.58430223 -2.02276221]\n",
      "6 - [DeltaR, DeltaZ] : [3.56603636e-13 1.56763491e-13] - dtheta : 3.822442662659853e-05\n"
     ]
    },
    {
     "name": "stderr",
     "output_type": "stream",
     "text": [
      "c:\\Users\\Ludovic\\miniforge3\\envs\\simsopt\\lib\\site-packages\\scipy\\integrate\\_ode.py:431: UserWarning: dopri5: step size becomes too small\n",
      "  self._y, self.t = mth(self.f, self.jac or (lambda: None),\n"
     ]
    },
    {
     "name": "stdout",
     "output_type": "stream",
     "text": [
      "Search failed: starting from a random initial guesss!\n",
      "Fixed point search unsuccessful for pp/qq= 3 / 7\n",
      "0 - [DeltaR, DeltaZ] : [ 0.02839872 -0.05709021] - dtheta : 0.012071130027956567\n",
      "0 - [StepR, StepZ]: [ 0.08394123 -0.04981673]\n",
      "1 - RZ : [1.28394123 0.55018327] - rhotheta : [0.63401513 2.09088271]\n",
      "1 - [DeltaR, DeltaZ] : [ 0.01047812 -0.01788864] - dtheta : 0.00037749377081164326\n",
      "1 - [StepR, StepZ]: [ 0.0479608  -0.02233678]\n",
      "2 - RZ : [1.33190203 0.5278465 ] - rhotheta : [0.59158517 2.03927151]\n",
      "2 - [DeltaR, DeltaZ] : [ 0.00298475 -0.00343371] - dtheta : 0.0019396929435897547\n",
      "2 - [StepR, StepZ]: [ 0.01096806 -0.00163886]\n",
      "3 - RZ : [1.34287009 0.52620764] - rhotheta : [0.58524045 2.02381341]\n",
      "3 - [DeltaR, DeltaZ] : [ 1.24515457e-06 -1.60013335e-04] - dtheta : 7.414213093026589e-05\n",
      "3 - [StepR, StepZ]: [ 0.00095792 -0.00057289]\n",
      "4 - RZ : [1.34382801 0.52563475] - rhotheta : [0.5843064  2.02276848]\n",
      "4 - [DeltaR, DeltaZ] : [ 5.45122128e-07 -1.07962542e-06] - dtheta : 4.363708626931029e-05\n",
      "4 - [StepR, StepZ]: [ 5.11945472e-06 -2.15493479e-06]\n",
      "5 - RZ : [1.34383313 0.5256326 ] - rhotheta : [0.58430223 2.02276221]\n",
      "5 - [DeltaR, DeltaZ] : [ 2.26627606e-11 -3.52605722e-11] - dtheta : 4.36045055631773e-05\n",
      "Search failed: starting from a random initial guesss!\n",
      "Fixed point search unsuccessful for pp/qq= 3 / 7\n"
     ]
    }
   ],
   "source": [
    "convdom_checkonly = ho.convergence_domain(ps, R, Z, rtol = 1e-10, tol = 1e-8, eps = 1e-5, checkonly = True)"
   ]
  },
  {
   "cell_type": "code",
   "execution_count": null,
   "metadata": {},
   "outputs": [],
   "source": [
    "fig_checkonly = pickle.load(open(\"../output/NCSX_poincare.pkle\", \"rb\"))"
   ]
  },
  {
   "cell_type": "code",
   "execution_count": null,
   "metadata": {},
   "outputs": [],
   "source": [
    "plt.show()"
   ]
  },
  {
   "cell_type": "code",
   "execution_count": null,
   "metadata": {},
   "outputs": [],
   "source": [
    "fig_checkonly"
   ]
  },
  {
   "cell_type": "code",
   "execution_count": null,
   "metadata": {},
   "outputs": [],
   "source": [
    "ho.plot_convergence_domain(*convdom_checkonly, fig_checkonly.get_axes()[0])"
   ]
  },
  {
   "cell_type": "code",
   "execution_count": null,
   "metadata": {},
   "outputs": [],
   "source": [
    "fig_checkonly"
   ]
  },
  {
   "cell_type": "code",
   "execution_count": null,
   "metadata": {},
   "outputs": [],
   "source": [
    "fig_checkonly.savefig(\"../../figures/convergence_domain_checkonly.png\", dpi=600)"
   ]
  },
  {
   "cell_type": "markdown",
   "metadata": {},
   "source": [
    "##### Without checkonly"
   ]
  },
  {
   "cell_type": "code",
   "execution_count": null,
   "metadata": {},
   "outputs": [],
   "source": [
    "convdom = ho.convergence_domain(ps, R, Z, rtol = 1e-10, tol = 1e-4, eps = 1e-4, checkonly = False)"
   ]
  },
  {
   "cell_type": "code",
   "execution_count": null,
   "metadata": {},
   "outputs": [],
   "source": [
    "fig = pickle.load(open(\"../output/poincare_figure.pickle\", \"rb\"))"
   ]
  },
  {
   "cell_type": "code",
   "execution_count": null,
   "metadata": {},
   "outputs": [],
   "source": [
    "ho.plot_convergence_domain(*convdom, ax=fig.get_axes()[0])"
   ]
  },
  {
   "cell_type": "code",
   "execution_count": null,
   "metadata": {},
   "outputs": [],
   "source": [
    "fig"
   ]
  },
  {
   "cell_type": "code",
   "execution_count": null,
   "metadata": {},
   "outputs": [],
   "source": [
    "fig.savefig(\"../../figure/convergence_domain.png\", dpi=600)"
   ]
  }
 ],
 "metadata": {
  "kernelspec": {
   "display_name": "simsopt",
   "language": "python",
   "name": "python3"
  },
  "language_info": {
   "codemirror_mode": {
    "name": "ipython",
    "version": 3
   },
   "file_extension": ".py",
   "mimetype": "text/x-python",
   "name": "python",
   "nbconvert_exporter": "python",
   "pygments_lexer": "ipython3",
   "version": "3.10.13"
  }
 },
 "nbformat": 4,
 "nbformat_minor": 2
}
