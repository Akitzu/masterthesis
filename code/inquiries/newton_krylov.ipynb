{
 "cells": [
  {
   "cell_type": "code",
   "execution_count": 3,
   "metadata": {},
   "outputs": [],
   "source": [
    "from scipy.optimize import fsolve\n",
    "import matplotlib.pyplot as plt\n",
    "import numpy as np"
   ]
  },
  {
   "cell_type": "code",
   "execution_count": 33,
   "metadata": {},
   "outputs": [],
   "source": [
    "def f(x):\n",
    "    y = x[1]\n",
    "    x = x[0]\n",
    "    return np.array([x**2 - 9, y**3 - 8]), np.array([2*x, 3*y**2])"
   ]
  },
  {
   "cell_type": "code",
   "execution_count": 34,
   "metadata": {},
   "outputs": [],
   "source": [
    "def ff(x, args):\n",
    "    print(args)\n",
    "    return f(x)[0]\n",
    "\n",
    "def fj(x, *args):\n",
    "    print(args)\n",
    "    return f(x)[1]"
   ]
  },
  {
   "cell_type": "code",
   "execution_count": 35,
   "metadata": {},
   "outputs": [
    {
     "name": "stdout",
     "output_type": "stream",
     "text": [
      "<function fj at 0x000001BDDBC62830>\n",
      "<function fj at 0x000001BDDBC62830>\n",
      "<function fj at 0x000001BDDBC62830>\n",
      "<function fj at 0x000001BDDBC62830>\n",
      "<function fj at 0x000001BDDBC62830>\n",
      "<function fj at 0x000001BDDBC62830>\n",
      "<function fj at 0x000001BDDBC62830>\n",
      "<function fj at 0x000001BDDBC62830>\n",
      "<function fj at 0x000001BDDBC62830>\n",
      "<function fj at 0x000001BDDBC62830>\n",
      "<function fj at 0x000001BDDBC62830>\n",
      "<function fj at 0x000001BDDBC62830>\n",
      "<function fj at 0x000001BDDBC62830>\n",
      "<function fj at 0x000001BDDBC62830>\n",
      "<function fj at 0x000001BDDBC62830>\n",
      "<function fj at 0x000001BDDBC62830>\n",
      "<function fj at 0x000001BDDBC62830>\n",
      "<function fj at 0x000001BDDBC62830>\n",
      "<function fj at 0x000001BDDBC62830>\n",
      "<function fj at 0x000001BDDBC62830>\n",
      "<function fj at 0x000001BDDBC62830>\n",
      "<function fj at 0x000001BDDBC62830>\n",
      "<function fj at 0x000001BDDBC62830>\n",
      "<function fj at 0x000001BDDBC62830>\n",
      "<function fj at 0x000001BDDBC62830>\n",
      "<function fj at 0x000001BDDBC62830>\n"
     ]
    },
    {
     "data": {
      "text/plain": [
       "array([3., 2.])"
      ]
     },
     "execution_count": 35,
     "metadata": {},
     "output_type": "execute_result"
    }
   ],
   "source": [
    "fsolve(ff, [0, 1.0], fj)"
   ]
  },
  {
   "cell_type": "code",
   "execution_count": 19,
   "metadata": {},
   "outputs": [],
   "source": [
    "def f(dx, lbda=2, n=1):\n",
    "    if int(n) == 1:\n",
    "        return lbda*dx\n",
    "    else:\n",
    "        return lbda*f(dx, lbda, n-1)"
   ]
  },
  {
   "cell_type": "code",
   "execution_count": 26,
   "metadata": {},
   "outputs": [
    {
     "data": {
      "image/png": "[encoded data removed]",
      "text/plain": [
       "<Figure size 640x480 with 1 Axes>"
      ]
     },
     "metadata": {},
     "output_type": "display_data"
    }
   ],
   "source": [
    "dx = 1\n",
    "ns = np.arange(1, 100)\n",
    "dy = [f(0.1, 2, n) for n in ns]\n",
    "\n",
    "plt.scatter(ns, dy)\n",
    "plt.xscale('log')\n",
    "plt.yscale('log')"
   ]
  }
 ],
 "metadata": {
  "kernelspec": {
   "display_name": "simsopt",
   "language": "python",
   "name": "python3"
  },
  "language_info": {
   "codemirror_mode": {
    "name": "ipython",
    "version": 3
   },
   "file_extension": ".py",
   "mimetype": "text/x-python",
   "name": "python",
   "nbconvert_exporter": "python",
   "pygments_lexer": "ipython3",
   "version": "3.10.13"
  }
 },
 "nbformat": 4,
 "nbformat_minor": 2
}
