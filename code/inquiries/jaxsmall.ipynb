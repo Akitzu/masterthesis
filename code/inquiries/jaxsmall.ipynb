{
 "cells": [
  {
   "cell_type": "code",
   "execution_count": 4,
   "metadata": {},
   "outputs": [],
   "source": [
    "import matplotlib.pyplot as plt\n",
    "from matplotlib import colors\n",
    "import numpy as np\n",
    "from pyoculus.problems.toybox import psi_maxwellboltzmann, psitob\n",
    "from pyoculus.problems.toybox import psitob, psi_circularcurrentloop\n",
    "from pyoculus.problems.toybox import A_r_squared, rot, A_squared\n",
    "\n",
    "from jax import jit, jacfwd\n",
    "import jax.numpy as jnp\n"
   ]
  },
  {
   "cell_type": "code",
   "execution_count": 5,
   "metadata": {},
   "outputs": [],
   "source": [
    "def equ_squared(rr, R, Z, sf, shear):\n",
    "    \"\"\"\n",
    "    Returns the B field derived from the Psi and F flux functions derived with the fluxes:\n",
    "    $$\n",
    "        \\psi = (z-Z)^{2} + \\left(R - r\\right)^{2}\n",
    "        F = \\left(2 sf + 2 shear \\left(z^{2} + \\left(R - r\\right)^{2}\\right)\\right) \\sqrt{R^{2} - z^{2} - \\left(R - r\\right)^{2}}\n",
    "    $$\n",
    "    using the relation B = grad x A, with A_\\phi = \\psi / r and B_\\phi = F / r for an axisymmetric field in cylindrical coordinates.\n",
    "    \"\"\"\n",
    "    temp = jnp.maximum(R**2 - (R - rr[0]) ** 2 - (Z - rr[2]) ** 2, 0.0)\n",
    "    sgn = (1 + jnp.sign(R**2 - (R - rr[0]) ** 2 - (Z - rr[2]) ** 2)) / 2\n",
    "    return sgn * jnp.array(\n",
    "        [\n",
    "            -(-2 * Z + 2 * rr[2]) / rr[0],\n",
    "            (2 * sf + 2 * shear * ((R - rr[0]) ** 2 + (Z - rr[2]) ** 2))\n",
    "            * jnp.sqrt(temp)\n",
    "            / rr[0] ** 2,\n",
    "            (-2 * R + 2 * rr[0]) / rr[0],\n",
    "        ]\n",
    "    )"
   ]
  },
  {
   "cell_type": "code",
   "execution_count": 6,
   "metadata": {},
   "outputs": [
    {
     "data": {
      "text/plain": [
       "Array([-0.        ,  0.65584154,  0.5       ], dtype=float64)"
      ]
     },
     "execution_count": 6,
     "metadata": {},
     "output_type": "execute_result"
    }
   ],
   "source": [
    "equ_squared([8.,0.,0.], 6., 0., 0.91, 0.7)"
   ]
  },
  {
   "cell_type": "code",
   "execution_count": 7,
   "metadata": {},
   "outputs": [
    {
     "data": {
      "text/plain": [
       "Array([0.        , 0.        , 0.47656771], dtype=float64, weak_type=True)"
      ]
     },
     "execution_count": 7,
     "metadata": {},
     "output_type": "execute_result"
    }
   ],
   "source": [
    "da = jacfwd(A_r_squared)(jnp.array([11.999,0.,0.]), 6., 0., 0.91, 0.7)\n",
    "da"
   ]
  },
  {
   "cell_type": "code",
   "execution_count": 8,
   "metadata": {},
   "outputs": [
    {
     "data": {
      "text/plain": [
       "Array([0.        , 0.65584154, 0.5       ], dtype=float64)"
      ]
     },
     "execution_count": 8,
     "metadata": {},
     "output_type": "execute_result"
    }
   ],
   "source": [
    "b = jit(rot(A_squared))\n",
    "\n",
    "b(jnp.array([8.,0.,0.]), 6., 0., 0.91, 0.7)"
   ]
  },
  {
   "cell_type": "code",
   "execution_count": 9,
   "metadata": {},
   "outputs": [
    {
     "name": "stdout",
     "output_type": "stream",
     "text": [
      "85.4 µs ± 3.6 µs per loop (mean ± std. dev. of 7 runs, 10,000 loops each)\n"
     ]
    }
   ],
   "source": [
    "%timeit b(jnp.array([8.,0.,0.]), 6., 0., 0.91, 0.7)"
   ]
  },
  {
   "cell_type": "code",
   "execution_count": 10,
   "metadata": {},
   "outputs": [
    {
     "data": {
      "text/plain": [
       "Array([-0.        ,  0.65584154,  0.5       ], dtype=float64)"
      ]
     },
     "execution_count": 10,
     "metadata": {},
     "output_type": "execute_result"
    }
   ],
   "source": [
    "b2 = jit(equ_squared)\n",
    "\n",
    "b2([8.,0.,0.], 6., 0., 0.91, 0.7)"
   ]
  },
  {
   "cell_type": "code",
   "execution_count": 11,
   "metadata": {},
   "outputs": [
    {
     "name": "stdout",
     "output_type": "stream",
     "text": [
      "110 µs ± 29.5 µs per loop (mean ± std. dev. of 7 runs, 10,000 loops each)\n"
     ]
    }
   ],
   "source": [
    "%timeit b2(jnp.array([6.,0.,0.]), 6., 0., 0.91, 0.7)"
   ]
  },
  {
   "cell_type": "code",
   "execution_count": null,
   "metadata": {},
   "outputs": [],
   "source": [
    "A_z_ellipse(jnp.array([6.,0.,1.]), 6., 0., 0.91, 0.7, 1, 1)"
   ]
  },
  {
   "cell_type": "code",
   "execution_count": null,
   "metadata": {},
   "outputs": [],
   "source": [
    "A_z_squared(jnp.array([6.,0.,1.]), 6., 0., 0.91, 0.7)"
   ]
  },
  {
   "cell_type": "code",
   "execution_count": null,
   "metadata": {},
   "outputs": [],
   "source": [
    "da/8"
   ]
  },
  {
   "cell_type": "code",
   "execution_count": null,
   "metadata": {},
   "outputs": [],
   "source": [
    "b = jit(psitob(psi_circularcurrentloop))"
   ]
  },
  {
   "cell_type": "code",
   "execution_count": null,
   "metadata": {},
   "outputs": [],
   "source": [
    "b([8.,0.,0.], 6., 0)"
   ]
  },
  {
   "cell_type": "code",
   "execution_count": null,
   "metadata": {},
   "outputs": [],
   "source": [
    "field_circularcurrentloop([8.,0.,0.], 6., 0)"
   ]
  },
  {
   "cell_type": "code",
   "execution_count": null,
   "metadata": {},
   "outputs": [],
   "source": [
    "-0.13783259/-0.04387348"
   ]
  },
  {
   "cell_type": "code",
   "execution_count": null,
   "metadata": {},
   "outputs": [],
   "source": [
    "b = jit(psitob(psi_maxwellboltzmann))\n",
    "dbdx = jit(jacfwd(psitob(psi_maxwellboltzmann)))"
   ]
  },
  {
   "cell_type": "code",
   "execution_count": null,
   "metadata": {},
   "outputs": [],
   "source": [
    "b([6. , 0., 0.], 6, 0., 1.41, 3, 1)"
   ]
  },
  {
   "cell_type": "code",
   "execution_count": null,
   "metadata": {},
   "outputs": [],
   "source": [
    "dbdx(jnp.array([6. , 0., 0.]), 6, 0., 1.41, 3, 1)"
   ]
  },
  {
   "cell_type": "code",
   "execution_count": null,
   "metadata": {},
   "outputs": [],
   "source": [
    "np.isnan(np.array([b([6.41409781+R , 0.02956604772482006, -0.69367863], 6.41409781, -0.69367863, 1.41, 3, 1) for R in np.logspace(-400, 2, 200)])).sum(axis=1)"
   ]
  },
  {
   "cell_type": "code",
   "execution_count": null,
   "metadata": {},
   "outputs": [],
   "source": [
    "np.isnan(np.array([dbdx([6.41409781+R , 0.02956604772482006, -0.69367863], 6.41409781, -0.69367863, 1.41, 3, 1) for R in np.logspace(-400, 2, 200)])).sum(axis=2).sum(axis=1)"
   ]
  },
  {
   "cell_type": "code",
   "execution_count": null,
   "metadata": {},
   "outputs": [],
   "source": [
    "from pyoculus.problems import AnalyticCylindricalBfield\n",
    "\n",
    "separatrix = {\"type\": \"circular-current-loop\", \"amplitude\": -10, \"R\": 6, \"Z\": -5.5}\n",
    "maxwellboltzmann = {\"m\": 6, \"n\": -1, \"d\": np.sqrt(2), \"type\": \"maxwell-boltzmann\", \"amplitude\": 1e-3}\n",
    "\n",
    "# Creating the pyoculus problem object, adding the perturbation here use the R, Z provided as center point\n",
    "pyoproblem = AnalyticCylindricalBfield.without_axis(\n",
    "    6,\n",
    "    0,\n",
    "    0.91,\n",
    "    0.6,\n",
    "    perturbations_args=[separatrix],\n",
    "    Rbegin=1,\n",
    "    Rend=8,\n",
    "    niter=800,\n",
    "    guess=[6.41, -0.7],\n",
    "    tol=1e-9,\n",
    ")\n",
    "# # Adding perturbation after the object is created uses the found axis as center point\n",
    "pyoproblem.add_perturbation(maxwellboltzmann, find_axis=False)"
   ]
  },
  {
   "cell_type": "code",
   "execution_count": null,
   "metadata": {},
   "outputs": [],
   "source": [
    "from pyoculus.integrators import RKIntegrator\n",
    "\n",
    "iparams = dict()\n",
    "iparams['rtol'] = 1e-10\n",
    "iparams['ode'] = pyoproblem.f_RZ_tangent\n",
    "iparams['verbosity'] = 2\n",
    "\n",
    "integ = RKIntegrator(iparams)"
   ]
  },
  {
   "cell_type": "code",
   "execution_count": null,
   "metadata": {},
   "outputs": [],
   "source": [
    "integ.set_initial_value(0, [pyoproblem._R0, pyoproblem._Z0, 1., 0., 0., 1.])"
   ]
  },
  {
   "cell_type": "code",
   "execution_count": null,
   "metadata": {},
   "outputs": [],
   "source": [
    "integ.integrate(1)"
   ]
  }
 ],
 "metadata": {
  "kernelspec": {
   "display_name": "simsopt",
   "language": "python",
   "name": "python3"
  },
  "language_info": {
   "codemirror_mode": {
    "name": "ipython",
    "version": 3
   },
   "file_extension": ".py",
   "mimetype": "text/x-python",
   "name": "python",
   "nbconvert_exporter": "python",
   "pygments_lexer": "ipython3",
   "version": "3.10.13"
  }
 },
 "nbformat": 4,
 "nbformat_minor": 2
}
