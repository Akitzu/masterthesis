{
 "cells": [
  {
   "cell_type": "code",
   "execution_count": 1,
   "metadata": {},
   "outputs": [],
   "source": [
    "import numpy as np\n",
    "from mayavi import mlab\n",
    "import matplotlib.pyplot as plt\n",
    "import pickle\n",
    "\n",
    "import sys\n",
    "import os\n",
    "sys.path.append('..')\n",
    "\n",
    "import horus as ho"
   ]
  },
  {
   "cell_type": "code",
   "execution_count": 7,
   "metadata": {},
   "outputs": [],
   "source": [
    "from numba import jit\n",
    "\n",
    "@jit(nopython=True)\n",
    "def toroidal(rr, R, sf, shear):\n",
    "    return np.array(\n",
    "        [\n",
    "            (-2 * rr[2]) / rr[0],\n",
    "            (\n",
    "                2\n",
    "                * np.sqrt(R**2 - (R - rr[0]) ** 2 - rr[2] ** 2)\n",
    "                * (sf + shear * ((R - rr[0]) ** 2 + rr[2] ** 2))\n",
    "            )\n",
    "            / rr[0],\n",
    "            (-2 * (R - rr[0])) / rr[0],\n",
    "        ]\n",
    "    )"
   ]
  },
  {
   "cell_type": "code",
   "execution_count": 2,
   "metadata": {},
   "outputs": [],
   "source": [
    "bs, bsh, (nfp, coils, ma, sc_fieldline) = ho.ncsx()"
   ]
  },
  {
   "cell_type": "code",
   "execution_count": 3,
   "metadata": {},
   "outputs": [],
   "source": [
    "nfieldlines = 30\n",
    "phis = [0]    #[(i / 4) * (2 * np.pi / nfp) for i in range(4)]\n",
    "Rs = np.linspace(ma.gamma()[0, 0], ma.gamma()[0, 0] + 0.14, nfieldlines)\n",
    "Zs = [ma.gamma()[0, 2] for i in range(nfieldlines)]\n",
    "RZs = np.array([[r, z] for r, z in zip(Rs, Zs)])"
   ]
  },
  {
   "cell_type": "code",
   "execution_count": 4,
   "metadata": {},
   "outputs": [],
   "source": [
    "from numbalsoda import dop853, lsoda_sig\n",
    "from numba import njit, cfunc"
   ]
  },
  {
   "cell_type": "code",
   "execution_count": 15,
   "metadata": {},
   "outputs": [],
   "source": [
    "def inv_Jacobian(R, phi, _):\n",
    "    return np.array(\n",
    "        [\n",
    "            [np.cos(phi), np.sin(phi), 0],\n",
    "            [-np.sin(phi) / R, np.cos(phi) / R, 0],\n",
    "            [0, 0, 1],\n",
    "        ]\n",
    "    )\n",
    "\n",
    "\n",
    "def poincare_2d(bs, RZstart, phis, **kwargs):\n",
    "    options = {\n",
    "        \"rtol\": 1e-7,\n",
    "        \"atol\": 1e-8,\n",
    "        \"nintersect\": 10,\n",
    "        \"method\": \"DOP853\",\n",
    "        \"nfp\": 1,\n",
    "        \"mpol\": 1,\n",
    "    }\n",
    "    options.update(kwargs)\n",
    "\n",
    "    @njit\n",
    "    def Bfield_2D(t, rzs):\n",
    "        rzs = rzs.reshape((-1, 2))\n",
    "        rphizs = np.ascontiguousarray(\n",
    "            np.vstack(\n",
    "                (rzs[:, 0], (t % (2 * np.pi)) * np.ones(rzs.shape[0]), rzs[:, 1])\n",
    "            ).T\n",
    "        )\n",
    "        bs.set_points_cyl(rphizs)\n",
    "        bs_Bs = bs.B()\n",
    "\n",
    "        Bs = list()\n",
    "        for position, B in zip(rphizs, bs_Bs):\n",
    "            B = inv_Jacobian(*position) @ B.reshape(3, -1)\n",
    "            Bs.append(np.array([B[0, 0] / B[1, 0], B[2, 0] / B[1, 0]]))\n",
    "\n",
    "        return np.array(Bs).flatten()\n",
    "\n",
    "    # setup the phis of the poincare sections\n",
    "    phis = np.unique(np.mod(phis, 2 * np.pi / options[\"nfp\"]))\n",
    "    phis.sort()\n",
    "\n",
    "    # setup the evaluation points for those sections\n",
    "    phi_evals = np.array(\n",
    "        [\n",
    "            phis + options[\"mpol\"] * 2 * np.pi * i / options[\"nfp\"]\n",
    "            for i in range(options[\"nintersect\"] + 1)\n",
    "        ]\n",
    "    )\n",
    "\n",
    "    # print(phi_evals[-1,-1])\n",
    "    out = dop853(\n",
    "        Bfield_2D.address,\n",
    "        [0, phi_evals[-1, -1]],\n",
    "        RZstart.flatten(),\n",
    "        t_eval=phi_evals.flatten(),\n",
    "        atol=options[\"atol\"],\n",
    "        rtol=options[\"rtol\"],\n",
    "    )\n",
    "\n",
    "    return out"
   ]
  },
  {
   "cell_type": "code",
   "execution_count": 16,
   "metadata": {},
   "outputs": [
    {
     "ename": "AttributeError",
     "evalue": "'CPUDispatcher' object has no attribute 'address'",
     "output_type": "error",
     "traceback": [
      "\u001b[1;31m---------------------------------------------------------------------------\u001b[0m",
      "\u001b[1;31mAttributeError\u001b[0m                            Traceback (most recent call last)",
      "Cell \u001b[1;32mIn [16], line 1\u001b[0m\n\u001b[1;32m----> 1\u001b[0m \u001b[43mpoincare_2d\u001b[49m\u001b[43m(\u001b[49m\u001b[43mbs\u001b[49m\u001b[43m,\u001b[49m\u001b[43m \u001b[49m\u001b[43mRZs\u001b[49m\u001b[43m,\u001b[49m\u001b[43m \u001b[49m\u001b[43mphis\u001b[49m\u001b[43m,\u001b[49m\u001b[43m \u001b[49m\u001b[43mnfp\u001b[49m\u001b[38;5;241;43m=\u001b[39;49m\u001b[43mnfp\u001b[49m\u001b[43m,\u001b[49m\u001b[43m \u001b[49m\u001b[43mmpol\u001b[49m\u001b[38;5;241;43m=\u001b[39;49m\u001b[38;5;241;43m1\u001b[39;49m\u001b[43m,\u001b[49m\u001b[43m \u001b[49m\u001b[43mnintersect\u001b[49m\u001b[38;5;241;43m=\u001b[39;49m\u001b[38;5;241;43m10\u001b[39;49m\u001b[43m)\u001b[49m\n",
      "Cell \u001b[1;32mIn [15], line 54\u001b[0m, in \u001b[0;36mpoincare_2d\u001b[1;34m(bs, RZstart, phis, **kwargs)\u001b[0m\n\u001b[0;32m     45\u001b[0m phi_evals \u001b[38;5;241m=\u001b[39m np\u001b[38;5;241m.\u001b[39marray(\n\u001b[0;32m     46\u001b[0m     [\n\u001b[0;32m     47\u001b[0m         phis \u001b[38;5;241m+\u001b[39m options[\u001b[38;5;124m\"\u001b[39m\u001b[38;5;124mmpol\u001b[39m\u001b[38;5;124m\"\u001b[39m] \u001b[38;5;241m*\u001b[39m \u001b[38;5;241m2\u001b[39m \u001b[38;5;241m*\u001b[39m np\u001b[38;5;241m.\u001b[39mpi \u001b[38;5;241m*\u001b[39m i \u001b[38;5;241m/\u001b[39m options[\u001b[38;5;124m\"\u001b[39m\u001b[38;5;124mnfp\u001b[39m\u001b[38;5;124m\"\u001b[39m]\n\u001b[0;32m     48\u001b[0m         \u001b[38;5;28;01mfor\u001b[39;00m i \u001b[38;5;129;01min\u001b[39;00m \u001b[38;5;28mrange\u001b[39m(options[\u001b[38;5;124m\"\u001b[39m\u001b[38;5;124mnintersect\u001b[39m\u001b[38;5;124m\"\u001b[39m] \u001b[38;5;241m+\u001b[39m \u001b[38;5;241m1\u001b[39m)\n\u001b[0;32m     49\u001b[0m     ]\n\u001b[0;32m     50\u001b[0m )\n\u001b[0;32m     52\u001b[0m \u001b[38;5;66;03m# print(phi_evals[-1,-1])\u001b[39;00m\n\u001b[0;32m     53\u001b[0m out \u001b[38;5;241m=\u001b[39m dop853(\n\u001b[1;32m---> 54\u001b[0m     \u001b[43mBfield_2D\u001b[49m\u001b[38;5;241;43m.\u001b[39;49m\u001b[43maddress\u001b[49m,\n\u001b[0;32m     55\u001b[0m     [\u001b[38;5;241m0\u001b[39m, phi_evals[\u001b[38;5;241m-\u001b[39m\u001b[38;5;241m1\u001b[39m, \u001b[38;5;241m-\u001b[39m\u001b[38;5;241m1\u001b[39m]],\n\u001b[0;32m     56\u001b[0m     RZstart\u001b[38;5;241m.\u001b[39mflatten(),\n\u001b[0;32m     57\u001b[0m     t_eval\u001b[38;5;241m=\u001b[39mphi_evals\u001b[38;5;241m.\u001b[39mflatten(),\n\u001b[0;32m     58\u001b[0m     atol\u001b[38;5;241m=\u001b[39moptions[\u001b[38;5;124m\"\u001b[39m\u001b[38;5;124matol\u001b[39m\u001b[38;5;124m\"\u001b[39m],\n\u001b[0;32m     59\u001b[0m     rtol\u001b[38;5;241m=\u001b[39moptions[\u001b[38;5;124m\"\u001b[39m\u001b[38;5;124mrtol\u001b[39m\u001b[38;5;124m\"\u001b[39m],\n\u001b[0;32m     60\u001b[0m )\n\u001b[0;32m     62\u001b[0m \u001b[38;5;28;01mreturn\u001b[39;00m out\n",
      "\u001b[1;31mAttributeError\u001b[0m: 'CPUDispatcher' object has no attribute 'address'"
     ]
    }
   ],
   "source": [
    "poincare_2d(bs, RZs, phis, nfp=nfp, mpol=1, nintersect=10)"
   ]
  },
  {
   "cell_type": "code",
   "execution_count": null,
   "metadata": {},
   "outputs": [],
   "source": [
    "for col in axs[0,0].collections:\n",
    "    col.set_color('black')\n",
    "    col.set_sizes([0.5])"
   ]
  }
 ],
 "metadata": {
  "kernelspec": {
   "display_name": "simsopt",
   "language": "python",
   "name": "python3"
  },
  "language_info": {
   "codemirror_mode": {
    "name": "ipython",
    "version": 3
   },
   "file_extension": ".py",
   "mimetype": "text/x-python",
   "name": "python",
   "nbconvert_exporter": "python",
   "pygments_lexer": "ipython3",
   "version": "3.10.13"
  }
 },
 "nbformat": 4,
 "nbformat_minor": 2
}
