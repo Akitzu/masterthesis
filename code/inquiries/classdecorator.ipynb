{
 "cells": [
  {
   "cell_type": "code",
   "execution_count": 1,
   "metadata": {},
   "outputs": [],
   "source": [
    "from pyoculus.problems import CylindricalBfield, AnalyticCylindricalBfield\n",
    "from pyoculus.solvers import PoincarePlot, FixedPoint, Manifold\n",
    "import matplotlib.pyplot as plt\n",
    "import numpy as np"
   ]
  },
  {
   "cell_type": "code",
   "execution_count": 2,
   "metadata": {},
   "outputs": [],
   "source": [
    "separatrix = {\"type\": \"circular-current-loop\", \"amplitude\": -4.2, \"R\": 3, \"Z\": -2.2}\n",
    "# ps_cyl = AnalyticCylindricalBfield.without_axis(3, 0, 0.91, 0.7, perturbations_args = [separatrix], Rbegin = 1, Rend = 5, niter = 800, guess=[3.,-0.1],  tol = 1e-9)\n",
    "ps_cyl = AnalyticCylindricalBfield(3, 0, 0.91, 0.7, perturbations_args = [separatrix])"
   ]
  },
  {
   "cell_type": "code",
   "execution_count": 12,
   "metadata": {},
   "outputs": [],
   "source": [
    "from pyoculus.problems import CylindricalBfield, CartesianBfield\n",
    "import functools\n",
    "import copy\n",
    "\n",
    "\n",
    "def cartesianize_B(B):\n",
    "    @functools.wraps(B)\n",
    "    def wrapper(self, xyz, *args, **kwargs):\n",
    "        r = np.linalg.norm(xyz[0:2])\n",
    "        phi = np.arctan2(xyz[1], xyz[0])\n",
    "        invjac = CartesianBfield._inv_Jacobian(r, phi, xyz[2])\n",
    "        # return np.linalg.inv(jac) @ B([r, phi, xyz[2]], *args, **kwargs)\n",
    "        return np.linalg.solve(invjac, B([r, phi, xyz[2]], *args, **kwargs))\n",
    "    return wrapper\n",
    "\n",
    "def cartesianize_dBdX(dBdX):\n",
    "    @functools.wraps(dBdX)\n",
    "    def wrapper(self, xyz, *args, **kwargs):\n",
    "        r = np.linalg.norm(xyz[0:2])\n",
    "        phi = np.arctan2(xyz[1], xyz[0])\n",
    "        rphiz = np.array([r, phi, xyz[2]])\n",
    "        print(\"rphiz\", rphiz)\n",
    "        invjac = CartesianBfield._inv_Jacobian(*rphiz)\n",
    "        jac = np.linalg.inv(invjac)\n",
    "        b, dbdx = dBdX(rphiz, *args, **kwargs)\n",
    "        b = b[0]\n",
    "        print(\"dbdx\", dbdx)\n",
    "        chris = np.array([\n",
    "            [0, -b[1]*r, 0 ],\n",
    "            [b[1]/r, b[0]/r, 0],\n",
    "            [0, 0, 0]\n",
    "        ])\n",
    "        print(\"chris\", chris)\n",
    "        b = (jac @ b.reshape(3,1)).flatten()\n",
    "        return [b], jac @ (dbdx + chris) @ invjac\n",
    "    return wrapper\n",
    "\n",
    "from types import MethodType\n",
    "\n",
    "def tocartesian(cylindricalbfield):\n",
    "    return_class = copy.deepcopy(cylindricalbfield)\n",
    "\n",
    "    return_class.__class__ = CartesianBfield\n",
    "    return_class.B = MethodType(cartesianize_B(copy.deepcopy(cylindricalbfield.B)), return_class)\n",
    "    return_class.dBdX = MethodType(cartesianize_dBdX(copy.deepcopy(cylindricalbfield.dBdX)), return_class)\n",
    "\n",
    "    def f_RZ_wrapper(self, *args, **kwargs):\n",
    "        return CartesianBfield.f_RZ(self, *args, **kwargs)\n",
    "    def f_RZ_tangent_wrapper(self, *args, **kwargs):\n",
    "        return CartesianBfield.f_RZ_tangent(self, *args, **kwargs)\n",
    "    \n",
    "    return_class.f_RZ = MethodType(f_RZ_wrapper, return_class)\n",
    "    return_class.f_RZ_tangent = MethodType(f_RZ_tangent_wrapper, return_class)\n",
    "\n",
    "    return return_class"
   ]
  },
  {
   "cell_type": "code",
   "execution_count": 13,
   "metadata": {},
   "outputs": [],
   "source": [
    "ps_cart = tocartesian(ps_cyl)"
   ]
  },
  {
   "cell_type": "code",
   "execution_count": 14,
   "metadata": {},
   "outputs": [
    {
     "data": {
      "text/plain": [
       "array([-0.43540489, -0.22731447])"
      ]
     },
     "execution_count": 14,
     "metadata": {},
     "output_type": "execute_result"
    }
   ],
   "source": [
    "ps_cart.f_RZ(0, [3., 0.1])"
   ]
  },
  {
   "cell_type": "code",
   "execution_count": 15,
   "metadata": {},
   "outputs": [
    {
     "data": {
      "text/plain": [
       "array([-0.43540489, -0.22731447])"
      ]
     },
     "execution_count": 15,
     "metadata": {},
     "output_type": "execute_result"
    }
   ],
   "source": [
    "ps_cyl.f_RZ(0, [3., 0.1])"
   ]
  },
  {
   "cell_type": "code",
   "execution_count": 16,
   "metadata": {},
   "outputs": [
    {
     "name": "stdout",
     "output_type": "stream",
     "text": [
      "xyz [3.  0.  0.1]\n",
      "<bound method AnalyticCylindricalBfield.dBdX of <pyoculus.problems.cartesian_bfield.CartesianBfield object at 0x00000294215B3610>>\n",
      "rphiz [3.  0.  0.1]\n",
      "dbdx [[ 0.03649676  0.         -0.53054553]\n",
      " [-0.40732907  0.          0.0864851 ]\n",
      " [ 0.8027878   0.          0.05217977]]\n",
      "chris [[ 0.         -1.83298083  0.        ]\n",
      " [ 0.20366454 -0.08867653  0.        ]\n",
      " [ 0.          0.          0.        ]]\n",
      "dBdX [[ 0.03649676 -0.61099361 -0.53054553]\n",
      " [-0.61099361 -0.08867653  0.25945529]\n",
      " [ 0.8027878   0.          0.05217977]]\n",
      "dBdX [[ 0.03649676 -0.61099361 -0.53054553]\n",
      " [-0.61099361 -0.08867653  0.25945529]\n",
      " [ 0.8027878   0.          0.05217977]]\n",
      "dRphiZ [-0.2660296   0.61099361 -0.13888769]\n",
      "dBdRphiZ [[ 0.03649676 -1.83298083 -0.53054553]\n",
      " [-0.20366454 -0.08867653  0.0864851 ]\n",
      " [ 0.8027878   0.          0.05217977]]\n",
      "dBdRphiZ [[ 3.64967648e-02  2.22044605e-16 -5.30545529e-01]\n",
      " [-4.07329073e-01  0.00000000e+00  8.64850977e-02]\n",
      " [ 8.02787804e-01  0.00000000e+00  5.21797695e-02]]\n",
      "M [[-0.23053646 -0.80670156]\n",
      " [ 1.16236242  0.11757747]]\n",
      "dRZ [[1. 0.]\n",
      " [0. 1.]]\n"
     ]
    },
    {
     "data": {
      "text/plain": [
       "array([-0.43540489, -0.22731447, -0.23053646,  1.16236242, -0.80670156,\n",
       "        0.11757747])"
      ]
     },
     "execution_count": 16,
     "metadata": {},
     "output_type": "execute_result"
    }
   ],
   "source": [
    "ps_cart.f_RZ_tangent(0., [3., 0.1, 1, 0, 0, 1])"
   ]
  },
  {
   "cell_type": "code",
   "execution_count": 17,
   "metadata": {},
   "outputs": [
    {
     "name": "stdout",
     "output_type": "stream",
     "text": [
      "<bound method AnalyticCylindricalBfield.dBdX of <pyoculus.problems.toybox.AnalyticCylindricalBfield object at 0x00000294210D7F40>>\n",
      "<pyoculus.problems.toybox.AnalyticCylindricalBfield object at 0x00000294210D7F40>\n",
      "dBdRphiZ [[ 0.03649676  0.         -0.53054553]\n",
      " [-0.40732907  0.          0.0864851 ]\n",
      " [ 0.8027878   0.          0.05217977]]\n",
      "dRphiZ [-0.2660296   0.61099361 -0.13888769]\n",
      "M [[-0.23053646 -0.80670156]\n",
      " [ 1.16236242  0.11757747]]\n",
      "dRZ [[1. 0.]\n",
      " [0. 1.]]\n",
      "dRZ [[-0.23053646 -0.80670156]\n",
      " [ 1.16236242  0.11757747]]\n"
     ]
    },
    {
     "data": {
      "text/plain": [
       "array([-0.43540489, -0.22731447, -0.23053646,  1.16236242, -0.80670156,\n",
       "        0.11757747])"
      ]
     },
     "execution_count": 17,
     "metadata": {},
     "output_type": "execute_result"
    }
   ],
   "source": [
    "ps_cyl.f_RZ_tangent(0., [3., 0.1, 1, 0, 0, 1])"
   ]
  },
  {
   "cell_type": "code",
   "execution_count": null,
   "metadata": {},
   "outputs": [],
   "source": [
    "print(ps_cyl.dBdX)"
   ]
  },
  {
   "cell_type": "code",
   "execution_count": null,
   "metadata": {},
   "outputs": [],
   "source": [
    "print(ps_cyl.f_RZ_tangent)"
   ]
  },
  {
   "cell_type": "code",
   "execution_count": null,
   "metadata": {},
   "outputs": [],
   "source": [
    "print(ps_cart.B([3., 0., 0.1]))\n",
    "print(ps_cart.dBdX([3., 0., 0.1])[0])"
   ]
  },
  {
   "cell_type": "code",
   "execution_count": 11,
   "metadata": {},
   "outputs": [
    {
     "data": {
      "text/plain": [
       "array([-0.2660296 ,  0.61099361, -0.13888769])"
      ]
     },
     "execution_count": 11,
     "metadata": {},
     "output_type": "execute_result"
    }
   ],
   "source": [
    "ps_cyl.B([3., 0., 0.1])"
   ]
  },
  {
   "cell_type": "code",
   "execution_count": 10,
   "metadata": {},
   "outputs": [
    {
     "data": {
      "text/plain": [
       "([array([-0.2660296 ,  0.61099361, -0.13888769])],\n",
       " array([[ 0.03649676,  0.        , -0.53054553],\n",
       "        [-0.40732907,  0.        ,  0.0864851 ],\n",
       "        [ 0.8027878 ,  0.        ,  0.05217977]]))"
      ]
     },
     "execution_count": 10,
     "metadata": {},
     "output_type": "execute_result"
    }
   ],
   "source": [
    "ps_cyl.dBdX([3., 0., 0.1])"
   ]
  },
  {
   "cell_type": "code",
   "execution_count": null,
   "metadata": {},
   "outputs": [],
   "source": [
    "invjac = CartesianBfield._inv_Jacobian(3., 0., 0.1)"
   ]
  },
  {
   "cell_type": "code",
   "execution_count": null,
   "metadata": {},
   "outputs": [],
   "source": [
    "b = ps_cyl.B([3., 0., 0.1])\n",
    "chris = np.array([\n",
    "    [0, -b[1]*3, 0 ],\n",
    "    [b[1]/3, b[0]/3, 0],\n",
    "    [0, 0, 0]\n",
    "])"
   ]
  },
  {
   "cell_type": "code",
   "execution_count": null,
   "metadata": {},
   "outputs": [],
   "source": [
    "ps_cyl.dBdX([3., 0., 0.1])[1]"
   ]
  },
  {
   "cell_type": "code",
   "execution_count": null,
   "metadata": {},
   "outputs": [],
   "source": [
    "np.linalg.inv(invjac) @ (ps_cyl.dBdX([3., 0., 0.1])[1] + chris) @ invjac"
   ]
  },
  {
   "cell_type": "code",
   "execution_count": null,
   "metadata": {},
   "outputs": [],
   "source": [
    "ps_cart.dBdX([3., 0., 0.1])"
   ]
  },
  {
   "cell_type": "code",
   "execution_count": null,
   "metadata": {},
   "outputs": [],
   "source": [
    "invjac @ np.array(ps_cart.dBdX([3., 0., 0.1])[1]) @ np.linalg.inv(invjac) - chris"
   ]
  },
  {
   "cell_type": "code",
   "execution_count": null,
   "metadata": {},
   "outputs": [],
   "source": [
    "# set up the integrator\n",
    "iparams = dict()\n",
    "iparams[\"rtol\"] = 1e-12\n",
    "\n",
    "pparams = dict()\n",
    "pparams[\"nrestart\"] = 0\n",
    "pparams['niter'] = 600\n",
    "\n",
    "fp = FixedPoint(ps_cyl, pparams, integrator_params=iparams)\n",
    "\n",
    "# fp.compute(guess=[3.117263523069049, -1.6173346133145015], pp=0, qq=1, sbegin=0.1, send=6, tol = 1e-10)\n",
    "fp.compute(guess=[3.1072023810385443, -1.655410284892828], pp=0, qq=1, sbegin=0.1, send=6, tol = 1e-10)"
   ]
  },
  {
   "cell_type": "code",
   "execution_count": null,
   "metadata": {},
   "outputs": [],
   "source": [
    "results = [list(p) for p in zip(fp.x, fp.y, fp.z)]"
   ]
  },
  {
   "cell_type": "code",
   "execution_count": null,
   "metadata": {},
   "outputs": [],
   "source": [
    "# set up the integrator\n",
    "iparams = dict()\n",
    "iparams[\"rtol\"] = 1e-10\n",
    "\n",
    "# set up the Poincare plot\n",
    "pparams = dict()\n",
    "pparams[\"Rbegin\"] = 3.01\n",
    "pparams[\"Rend\"] = 5.5\n",
    "pparams[\"nPtrj\"] = 20\n",
    "pparams[\"nPpts\"] = 200\n",
    "pparams[\"zeta\"] = 0\n",
    "# pparams[\"Z\"] = -6\n",
    "\n",
    "# Set RZs\n",
    "nfieldlines = pparams[\"nPtrj\"]+1\n",
    "n1, n2 = int(np.ceil(nfieldlines/2)), int(np.floor(nfieldlines/2))\n",
    "\n",
    "# # Simple way from opoint to xpoint then to coilpoint\n",
    "Rs = np.concatenate((np.linspace(ps._R0, results[0][0], n1), np.linspace(results[0][0], separatrix['R']-1e-4, n2)))\n",
    "Zs = np.concatenate((np.linspace(ps._Z0, results[0][2], n1), np.linspace(results[0][2], separatrix['Z']-1e-4, n2)))\n",
    "RZs = np.array([[r, z] for r, z in zip(Rs, Zs)])"
   ]
  },
  {
   "cell_type": "code",
   "execution_count": null,
   "metadata": {},
   "outputs": [],
   "source": [
    "pplot_perturbed = PoincarePlot(ps, pparams, integrator_params=iparams)\n",
    "pdata = pplot_perturbed.compute(RZs)"
   ]
  }
 ],
 "metadata": {
  "kernelspec": {
   "display_name": "simsopt",
   "language": "python",
   "name": "python3"
  },
  "language_info": {
   "codemirror_mode": {
    "name": "ipython",
    "version": 3
   },
   "file_extension": ".py",
   "mimetype": "text/x-python",
   "name": "python",
   "nbconvert_exporter": "python",
   "pygments_lexer": "ipython3",
   "version": "3.10.13"
  }
 },
 "nbformat": 4,
 "nbformat_minor": 2
}
