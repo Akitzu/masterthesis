{
 "cells": [
  {
   "cell_type": "code",
   "execution_count": 5,
   "metadata": {},
   "outputs": [],
   "source": [
    "import numpy as np\n",
    "import horus as ho\n",
    "# import pyoculus\n",
    "# from mayavi import mlab\n",
    "# from pyoculus.problems import CartesianBfield\n",
    "from pyoculus.solvers import PoincarePlot\n",
    "from pyoculus.solvers import FixedPoint\n",
    "from simsopt.field import MagneticField"
   ]
  },
  {
   "cell_type": "code",
   "execution_count": 2,
   "metadata": {},
   "outputs": [],
   "source": [
    "bs, bsh, (nfp, coils, ma, _) = ho.ncsx()"
   ]
  },
  {
   "cell_type": "markdown",
   "metadata": {},
   "source": [
    "Setting up a problem"
   ]
  },
  {
   "cell_type": "code",
   "execution_count": 3,
   "metadata": {},
   "outputs": [],
   "source": [
    "ps = ho.SimsoptBfieldProblem(ma.gamma()[0, 0], 0, 3, bs)"
   ]
  },
  {
   "cell_type": "markdown",
   "metadata": {},
   "source": [
    "#### Poincare plot \n",
    "as in https://github.com/zhisong/pyoculus/blob/master/examples/two_waves.ipynb"
   ]
  },
  {
   "cell_type": "code",
   "execution_count": null,
   "metadata": {},
   "outputs": [],
   "source": [
    "# set up the integrator\n",
    "iparams = dict()\n",
    "iparams[\"rtol\"] = 1e-9\n",
    "\n",
    "# set up the Poincare plot\n",
    "pparams = dict()\n",
    "pparams[\"Rbegin\"] = 1.0\n",
    "pparams[\"Rend\"] = 1.7\n",
    "pparams[\"nPtrj\"] = 10\n",
    "pparams[\"nPpts\"] = 100\n",
    "pparams[\"zeta\"] = 0.33 * np.pi\n",
    "\n",
    "pplot = PoincarePlot(ps, pparams, integrator_params=iparams)\n",
    "pdata = pplot.compute()\n",
    "pplot.plot()"
   ]
  },
  {
   "cell_type": "code",
   "execution_count": null,
   "metadata": {},
   "outputs": [],
   "source": [
    "pplot.compute_iota()\n",
    "pplot.plot_iota()"
   ]
  },
  {
   "cell_type": "markdown",
   "metadata": {},
   "source": [
    "#### Finding fixed point"
   ]
  },
  {
   "cell_type": "code",
   "execution_count": 16,
   "metadata": {},
   "outputs": [
    {
     "name": "stdout",
     "output_type": "stream",
     "text": [
      "[R,Z] : [1.5269993250240719, -0.00010262973645360548] - dtheta : 0.0006657053980969607\n",
      "R : 1.5270057608464742\n",
      "[R,Z] : [1.5270054078981177, -5.46862308122148e-05] - dtheta : -2.4681433785644913e-08\n",
      "R : 1.527005760632846\n",
      "[R,Z] : [1.5270054076726518, -5.468800803133927e-05] - dtheta : -1.4866330388940696e-11\n"
     ]
    }
   ],
   "source": [
    "# set up the integrator\n",
    "iparams = dict()\n",
    "iparams[\"rtol\"] = 1e-7\n",
    "\n",
    "pparams = dict()\n",
    "pparams[\"nrestart\"] = 0\n",
    "pparams[\"Z\"] = 0\n",
    "pparams[\"tol\"] = 1e-7\n",
    "pparams['niter'] = 100\n",
    "\n",
    "fp01 = FixedPoint(ps, pparams, integrator_params=iparams)\n",
    "result01 = fp01.compute(guess=[1.527, 0.0], pp=3, qq=7, sbegin=1.5, send=1.9, tol = 1e-8)"
   ]
  },
  {
   "cell_type": "code",
   "execution_count": 17,
   "metadata": {},
   "outputs": [
    {
     "name": "stdout",
     "output_type": "stream",
     "text": [
      "[[1.527005760632846, 0.0, 0.0], [1.3628334175644325, 0.0, -0.45231743094522103], [1.4409554131167368, 0.0, -0.4945674467790375], [1.6642136635137494, 0.0, -0.21187934399935102], [1.6642027866802638, 0.0, 0.21190993340436562], [1.4409372824072306, 0.0, 0.49457752367478125], [1.3628410006465215, 0.0, 0.4523017515552717], [1.5270054076726518, 0.0, -5.468800803133927e-05]]\n"
     ]
    }
   ],
   "source": [
    "# showing the resutlts\n",
    "if result01 is not None:\n",
    "    results = [list(p) for p in zip(result01.x, result01.y, result01.z)]\n",
    "    print(results)"
   ]
  },
  {
   "cell_type": "code",
   "execution_count": null,
   "metadata": {},
   "outputs": [],
   "source": [
    "result01.GreenesResidue"
   ]
  },
  {
   "cell_type": "code",
   "execution_count": null,
   "metadata": {},
   "outputs": [],
   "source": [
    "# set up the integrator\n",
    "iparams = dict()\n",
    "iparams[\"rtol\"] = 1e-7\n",
    "\n",
    "pparams = dict()\n",
    "pparams[\"nrestart\"] = 0\n",
    "# pparams[\"Z\"] = 0\n",
    "pparams[\"tol\"] = 1e-7\n",
    "pparams['niter'] = 10000\n",
    "\n",
    "fp01 = FixedPoint(ps, pparams, integrator_params=iparams)\n",
    "result01 = fp01.compute(guess=[1.527, -0.1], pp=3, qq=7, sbegin=1.5, send=1.9, tol = 1e-12, thetaf = False)\n",
    "\n",
    "# showing the resutlts\n",
    "if result01 is not None:\n",
    "    results = [list(p) for p in zip(result01.x, result01.y, result01.z)]\n",
    "    print(results)"
   ]
  },
  {
   "cell_type": "markdown",
   "metadata": {},
   "source": [
    "We can check at the comet by hand"
   ]
  },
  {
   "cell_type": "code",
   "execution_count": null,
   "metadata": {},
   "outputs": [],
   "source": [
    "ma.gamma()[0]"
   ]
  },
  {
   "cell_type": "code",
   "execution_count": null,
   "metadata": {},
   "outputs": [],
   "source": [
    "phi = 0.33*np.pi\n",
    "R = 1.15\n",
    "startpoint = [R*np.cos(phi), R*np.sin(phi), 0]\n",
    "startpoint = [1.9383899348191092, 0.0, 0.0]"
   ]
  },
  {
   "cell_type": "code",
   "execution_count": null,
   "metadata": {},
   "outputs": [],
   "source": [
    "ma_gamma = ho.trace(bs, 8*2*np.pi, ma.gamma()[0])\n",
    "# gamma = ho.trace(bs, 20*np.pi, startpoint)\n",
    "#gamma2 = ho.trace(bs, 3*np.pi, startpoint)"
   ]
  },
  {
   "cell_type": "code",
   "execution_count": null,
   "metadata": {},
   "outputs": [],
   "source": [
    "# mask = np.ones(gamma.shape[1], dtype=bool)\n",
    "# for i, x in enumerate(gamma.T):\n",
    "#     mask[i] = 0\n",
    "#     if np.isin(gamma, gamma.T[mask]).all():\n",
    "#         print(i)\n",
    "#         break\n",
    "#     mask[i] = 1"
   ]
  },
  {
   "cell_type": "code",
   "execution_count": null,
   "metadata": {},
   "outputs": [],
   "source": [
    "#gammaX = ho.trace(bs, 21*np.pi, results[0])\n",
    "gammaO = ho.trace(bs, 200*np.pi, [1.6282982137472521, 0.0, -0.5360026587795327])"
   ]
  },
  {
   "cell_type": "code",
   "execution_count": null,
   "metadata": {},
   "outputs": [],
   "source": [
    "from mayavi import mlab\n",
    "for coil in coils:\n",
    "    coil.plot(engine=\"mayavi\", show=False)\n",
    "\n",
    "#mlab.plot3d(gammaX[0, :], gammaX[1, :], gammaX[2, :], tube_radius=0.01, color=(0, 0, 0))\n",
    "mlab.plot3d(gammaO[0, :], gammaO[1, :], gammaO[2, :], tube_radius=0.01, color=(0, 0, 1))\n",
    "#mlab.plot3d(ma_gamma[0, :], ma_gamma[1, :], ma_gamma[2, :], tube_radius=0.01, color=(1, 0, 0))\n",
    "\n",
    "# Save the VTK object to a file\n",
    "mlab.show()"
   ]
  },
  {
   "cell_type": "markdown",
   "metadata": {},
   "source": [
    "#### Map of convergence"
   ]
  },
  {
   "cell_type": "code",
   "execution_count": null,
   "metadata": {},
   "outputs": [],
   "source": [
    "# set up the integrator\n",
    "iparams = dict()\n",
    "iparams[\"rtol\"] = 1e-7\n",
    "\n",
    "pparams = dict()\n",
    "pparams[\"nrestart\"] = 0\n",
    "# pparams[\"Z\"] = 0\n",
    "pparams[\"tol\"] = 1e-7\n",
    "pparams['niter'] = 100\n",
    "\n",
    "fp = FixedPoint(ps, pparams, integrator_params=iparams)"
   ]
  },
  {
   "cell_type": "code",
   "execution_count": null,
   "metadata": {},
   "outputs": [],
   "source": [
    "R,Z = np.meshgrid(np.linspace(1.25, 1.8, 20), np.linspace(-0.6, 0.6, 20))"
   ]
  },
  {
   "cell_type": "code",
   "execution_count": null,
   "metadata": {},
   "outputs": [],
   "source": [
    "assigned_to = list()\n",
    "fixed_points = list()"
   ]
  },
  {
   "cell_type": "code",
   "execution_count": null,
   "metadata": {},
   "outputs": [],
   "source": [
    "for i, (r, z) in enumerate(zip(R.flatten(), Z.flatten())):\n",
    "    fp_result = fp.compute(guess=[r, z], pp=3, qq=7, sbegin=1.5, send=1.9, tol = 1e-8)\n",
    "\n",
    "    if fp_result is not None:\n",
    "        fp_result_xyz = np.array([fp_result.x[0], fp_result.y[0], fp_result.z[0]])\n",
    "        assigned = False\n",
    "        for j, fpt in enumerate(fixed_points):\n",
    "            fpt_xyz = np.array([fpt.x[0], fpt.y[0], fpt.z[0]])\n",
    "            if np.isclose(fp_result_xyz, fpt_xyz, atol=1e-3).all():\n",
    "                assigned_to.append(j)\n",
    "                assigned = True\n",
    "        if not assigned:\n",
    "            assigned_to.append(len(fixed_points))        \n",
    "            fixed_points.append(fp_result)\n",
    "    else:\n",
    "        assigned_to.append(-1)"
   ]
  },
  {
   "cell_type": "code",
   "execution_count": null,
   "metadata": {},
   "outputs": [],
   "source": [
    "assigned_to = np.array(assigned_to)+1"
   ]
  },
  {
   "cell_type": "code",
   "execution_count": null,
   "metadata": {},
   "outputs": [],
   "source": [
    "from matplotlib.colors import TABLEAU_COLORS as colors\n",
    "colors = list(colors.values())\n",
    "\n",
    "cmap = np.array([list(int(colors[j].lstrip(\"#\")[i:i+2], 16) for i in (0, 2, 4)) for j in assigned_to])/255"
   ]
  },
  {
   "cell_type": "code",
   "execution_count": null,
   "metadata": {},
   "outputs": [],
   "source": [
    "cmap = cmap.reshape(R.shape[0], R.shape[1], 3)"
   ]
  },
  {
   "cell_type": "code",
   "execution_count": null,
   "metadata": {},
   "outputs": [],
   "source": [
    "import matplotlib.pyplot as plt\n",
    "\n",
    "fig, ax = plt.subplots()\n",
    "\n",
    "ax.pcolormesh(R, Z, cmap, shading='nearest')\n",
    "\n",
    "for i, fpt in enumerate(fixed_points):\n",
    "    if fpt.GreenesResidue < 0:\n",
    "        marker = 'X'\n",
    "    elif fpt.GreenesResidue > 0:\n",
    "        marker = 'o'\n",
    "    else:\n",
    "        marker = 's'\n",
    "    \n",
    "    ax.scatter(fpt.x[0], fpt.z[0], c=colors[i+1], marker=marker, edgecolors='black', linewidths=1)\n",
    "\n",
    "ax.set_aspect('equal')"
   ]
  },
  {
   "cell_type": "markdown",
   "metadata": {},
   "source": [
    "#### Poincare plotter"
   ]
  },
  {
   "cell_type": "code",
   "execution_count": null,
   "metadata": {},
   "outputs": [],
   "source": [
    "from scipy.integrate import solve_ivp\n",
    "\n",
    "## for now 2d startpoint in the phi = 0 plane\n",
    "RZstart = np.array([[1.59, 0],[1.60, 0]]) #, [1.54, 0]]) #, [1.6, 0], [1.7, 0], [1.8, 0]])\n",
    "\n",
    "phis = [0, 0.33*np.pi]"
   ]
  },
  {
   "cell_type": "code",
   "execution_count": null,
   "metadata": {},
   "outputs": [],
   "source": [
    "RZstart[:,0]"
   ]
  },
  {
   "cell_type": "code",
   "execution_count": null,
   "metadata": {},
   "outputs": [],
   "source": []
  },
  {
   "cell_type": "code",
   "execution_count": null,
   "metadata": {},
   "outputs": [],
   "source": [
    "\n",
    "def cyltocart(rphiz):\n",
    "    r, phi, _ = rphiz\n",
    "    return np.array([[np.cos(phi), -np.sin(phi), 0],\n",
    "                     [-r*np.sin(phi), -r*np.cos(phi), 0],\n",
    "                     [0, 0, 1]])\n",
    "\n",
    "def carttocyl(xyz):\n",
    "    x, y, _ = xyz\n",
    "    r = np.sqrt(x**2 + y**2)\n",
    "    phi = np.arctan2(y, x)\n",
    "\n",
    "    return np.linalg.inv(cyltocart([r,phi,0]))"
   ]
  },
  {
   "cell_type": "code",
   "execution_count": null,
   "metadata": {},
   "outputs": [],
   "source": [
    "import matplotlib.pyplot as plt\n",
    "\n",
    "class PoincarePlane():\n",
    "    def __init__(self, phi = 0, traces = None) -> None:\n",
    "        if traces is None:\n",
    "            traces = np.array([])\n",
    "        else:\n",
    "            if not isinstance(traces, np.ndarray):\n",
    "                raise ValueError(\"traces must be a numpy array\")\n",
    "            elif not traces.shape[0] % 2 == 0:\n",
    "                raise ValueError(\"traces must have 2*integer rows\")\n",
    "            \n",
    "            self.traces = [traces[2*i:2*i+2,:] for i in range (traces.shape[0]//2)]\n",
    "        \n",
    "        self.phi = phi\n",
    "    \n",
    "    def plot(self):\n",
    "        if len(self.traces) == 0:\n",
    "            assert False, \"No traces to plot\"\n",
    "\n",
    "        fig, ax = plt.subplots()\n",
    "        for trace in self.traces:\n",
    "            R, Z = trace\n",
    "            plt.plot(R, Z, 'o', markersize=2)\n",
    "\n",
    "        return fig, ax\n",
    "\n",
    "def poincare(bs, RZstart, phis, **kwargs):\n",
    "    options = {\n",
    "        \"phistart\": 0, \"nintersect\": 10,\n",
    "        \"rtol\": 1e-2, \"atol\": 1e-1,\n",
    "    }\n",
    "    options.update(kwargs)\n",
    "\n",
    "    def Bfield_2D(t, xs):\n",
    "        xs = xs.reshape(-1, 2)\n",
    "        xs = np.hstack((xs[:,0].reshape(-1, 1), t*np.ones((xs.shape[0], 1)), xs[:,1].reshape(-1, 1)))\n",
    "        bs.set_points_cyl(xs)\n",
    "\n",
    "        Bs = bs.B()\n",
    "        Bs_cyl = list()\n",
    "        for xx, B in zip(xs,Bs):\n",
    "            Bcyl = carttocyl(xx) @ B.reshape(3, -1)\n",
    "            Bs_cyl.append([Bcyl[0,0]/Bcyl[1,0], Bcyl[2,0]/Bcyl[1,0]])\n",
    "\n",
    "        return np.array(Bs_cyl).reshape(-1, 2).flatten()\n",
    "\n",
    "    # setup the phis of the poincare sections\n",
    "    phis = np.unique(np.mod(phis, 2*np.pi))\n",
    "    phis.sort()\n",
    "\n",
    "    # setup the evaluation points for those sections\n",
    "    phi_evals = np.array([phis+2*np.pi*i for i in range(options['nintersect']+1)])\n",
    "    print(phi_evals.flatten())\n",
    "\n",
    "    print(RZstart.flatten())\n",
    "    # solve the ODE\n",
    "    out = solve_ivp(Bfield_2D, [options['phistart'], phi_evals[-1,-1]], RZstart.flatten(), t_eval=phi_evals.flatten(),\n",
    "                rtol=options['rtol'], atol=options['atol'])\n",
    "    \n",
    "    # split the results into the different poincare sections using PoincarePlane objects\n",
    "    ret_RZs = out.y\n",
    "    \n",
    "    print(out)\n",
    "    \n",
    "    nplanes = phis.size\n",
    "\n",
    "    return [PoincarePlane(phis[i], ret_RZs[:,i::2]) for i in range(nplanes)]\n"
   ]
  },
  {
   "cell_type": "code",
   "execution_count": null,
   "metadata": {},
   "outputs": [],
   "source": [
    "%timeit Bfield_2D(0, RZstart[0])"
   ]
  },
  {
   "cell_type": "code",
   "execution_count": null,
   "metadata": {},
   "outputs": [],
   "source": [
    "def B(rphiz):\n",
    "    bs.set_points_cyl(rphiz)\n",
    "    return bs.B().reshape(3, -1)\n",
    "\n",
    "%timeit B(np.random.rand(3, 1))"
   ]
  },
  {
   "cell_type": "code",
   "execution_count": null,
   "metadata": {},
   "outputs": [],
   "source": [
    "res = poincare(bs, RZstart, phis)"
   ]
  },
  {
   "cell_type": "code",
   "execution_count": null,
   "metadata": {},
   "outputs": [],
   "source": [
    "res[0].plot()"
   ]
  },
  {
   "cell_type": "code",
   "execution_count": null,
   "metadata": {},
   "outputs": [],
   "source": []
  }
 ],
 "metadata": {
  "kernelspec": {
   "display_name": "simsopt",
   "language": "python",
   "name": "python3"
  },
  "language_info": {
   "codemirror_mode": {
    "name": "ipython",
    "version": 3
   },
   "file_extension": ".py",
   "mimetype": "text/x-python",
   "name": "python",
   "nbconvert_exporter": "python",
   "pygments_lexer": "ipython3",
   "version": "3.10.13"
  }
 },
 "nbformat": 4,
 "nbformat_minor": 2
}
